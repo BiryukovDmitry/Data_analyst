{
 "cells": [
  {
   "cell_type": "markdown",
   "metadata": {},
   "source": [
    "# Принятие решений в бизнесе\n",
    "\n",
    "Отдел маркетинга интернет-магазина подготовил список гипотез для увеличения выручки. \n",
    "\n",
    "Задача исследования: \n",
    "\n",
    " - Изучить предоставленные данные;\n",
    " - Приоритизировать гипотезы из предоставленного списка;\n",
    " - Осуществить и провести анализ результатов А/В-тестирования, а также принять решение по результатам теста (Остановить тест, зафиксировать победу одной из групп; остановить тест, зафиксировать отсутствие различий между группами; Продолжить тест)\n",
    "\n"
   ]
  },
  {
   "cell_type": "markdown",
   "metadata": {},
   "source": [
    "### Приоритизация гипотез"
   ]
  },
  {
   "cell_type": "markdown",
   "metadata": {},
   "source": [
    "**Обзор и предобработка данных**"
   ]
  },
  {
   "cell_type": "code",
   "execution_count": 1,
   "metadata": {},
   "outputs": [],
   "source": [
    "#Импорт необходимых библиотек\n",
    "import pandas as pd\n",
    "import matplotlib.pyplot as plt\n",
    "import datetime as dt\n",
    "import numpy as np\n",
    "import seaborn as sns\n",
    "import pathlib\n",
    "import scipy.stats as stats\n",
    "\n",
    "from pathlib import Path\n"
   ]
  },
  {
   "cell_type": "code",
   "execution_count": 2,
   "metadata": {},
   "outputs": [],
   "source": [
    "#Задаем размер графиков\n",
    "sns.set(rc={'figure.figsize':(10,6)})\n",
    "\n",
    "#Устанавливаем ограничения на количество знаков после запятой\n",
    "pd.options.display.float_format = '{:,.3f}'.format\n",
    "\n",
    "#Снимаем ограничение на количество столбцов\n",
    "pd.set_option('display.max_columns', None)\n",
    "\n",
    "#Снимаем ограничение на ширину столбцов\n",
    "pd.set_option('display.max_colwidth', None)"
   ]
  },
  {
   "cell_type": "code",
   "execution_count": 3,
   "metadata": {},
   "outputs": [],
   "source": [
    "#Чтение файлов\n",
    "hypothesis = pd.read_csv('/datasets/hypothesis.csv')\n",
    "orders = pd.read_csv('/datasets/orders.csv')\n",
    "visitors = pd.read_csv('/datasets/visitors.csv')"
   ]
  },
  {
   "cell_type": "code",
   "execution_count": 4,
   "metadata": {},
   "outputs": [
    {
     "name": "stdout",
     "output_type": "stream",
     "text": [
      "<class 'pandas.core.frame.DataFrame'>\n",
      "RangeIndex: 9 entries, 0 to 8\n",
      "Data columns (total 5 columns):\n",
      " #   Column      Non-Null Count  Dtype \n",
      "---  ------      --------------  ----- \n",
      " 0   Hypothesis  9 non-null      object\n",
      " 1   Reach       9 non-null      int64 \n",
      " 2   Impact      9 non-null      int64 \n",
      " 3   Confidence  9 non-null      int64 \n",
      " 4   Efforts     9 non-null      int64 \n",
      "dtypes: int64(4), object(1)\n",
      "memory usage: 488.0+ bytes\n"
     ]
    },
    {
     "data": {
      "text/html": [
       "<div>\n",
       "<style scoped>\n",
       "    .dataframe tbody tr th:only-of-type {\n",
       "        vertical-align: middle;\n",
       "    }\n",
       "\n",
       "    .dataframe tbody tr th {\n",
       "        vertical-align: top;\n",
       "    }\n",
       "\n",
       "    .dataframe thead th {\n",
       "        text-align: right;\n",
       "    }\n",
       "</style>\n",
       "<table border=\"1\" class=\"dataframe\">\n",
       "  <thead>\n",
       "    <tr style=\"text-align: right;\">\n",
       "      <th></th>\n",
       "      <th>Hypothesis</th>\n",
       "      <th>Reach</th>\n",
       "      <th>Impact</th>\n",
       "      <th>Confidence</th>\n",
       "      <th>Efforts</th>\n",
       "    </tr>\n",
       "  </thead>\n",
       "  <tbody>\n",
       "    <tr>\n",
       "      <th>0</th>\n",
       "      <td>Добавить два новых канала привлечения трафика, что позволит привлекать на 30% больше пользователей</td>\n",
       "      <td>3</td>\n",
       "      <td>10</td>\n",
       "      <td>8</td>\n",
       "      <td>6</td>\n",
       "    </tr>\n",
       "    <tr>\n",
       "      <th>1</th>\n",
       "      <td>Запустить собственную службу доставки, что сократит срок доставки заказов</td>\n",
       "      <td>2</td>\n",
       "      <td>5</td>\n",
       "      <td>4</td>\n",
       "      <td>10</td>\n",
       "    </tr>\n",
       "    <tr>\n",
       "      <th>2</th>\n",
       "      <td>Добавить блоки рекомендаций товаров на сайт интернет магазина, чтобы повысить конверсию и средний чек заказа</td>\n",
       "      <td>8</td>\n",
       "      <td>3</td>\n",
       "      <td>7</td>\n",
       "      <td>3</td>\n",
       "    </tr>\n",
       "    <tr>\n",
       "      <th>3</th>\n",
       "      <td>Изменить структура категорий, что увеличит конверсию, т.к. пользователи быстрее найдут нужный товар</td>\n",
       "      <td>8</td>\n",
       "      <td>3</td>\n",
       "      <td>3</td>\n",
       "      <td>8</td>\n",
       "    </tr>\n",
       "    <tr>\n",
       "      <th>4</th>\n",
       "      <td>Изменить цвет фона главной страницы, чтобы увеличить вовлеченность пользователей</td>\n",
       "      <td>3</td>\n",
       "      <td>1</td>\n",
       "      <td>1</td>\n",
       "      <td>1</td>\n",
       "    </tr>\n",
       "    <tr>\n",
       "      <th>5</th>\n",
       "      <td>Добавить страницу отзывов клиентов о магазине, что позволит увеличить количество заказов</td>\n",
       "      <td>3</td>\n",
       "      <td>2</td>\n",
       "      <td>2</td>\n",
       "      <td>3</td>\n",
       "    </tr>\n",
       "    <tr>\n",
       "      <th>6</th>\n",
       "      <td>Показать на главной странице баннеры с актуальными акциями и распродажами, чтобы увеличить конверсию</td>\n",
       "      <td>5</td>\n",
       "      <td>3</td>\n",
       "      <td>8</td>\n",
       "      <td>3</td>\n",
       "    </tr>\n",
       "    <tr>\n",
       "      <th>7</th>\n",
       "      <td>Добавить форму подписки на все основные страницы, чтобы собрать базу клиентов для email-рассылок</td>\n",
       "      <td>10</td>\n",
       "      <td>7</td>\n",
       "      <td>8</td>\n",
       "      <td>5</td>\n",
       "    </tr>\n",
       "    <tr>\n",
       "      <th>8</th>\n",
       "      <td>Запустить акцию, дающую скидку на товар в день рождения</td>\n",
       "      <td>1</td>\n",
       "      <td>9</td>\n",
       "      <td>9</td>\n",
       "      <td>5</td>\n",
       "    </tr>\n",
       "  </tbody>\n",
       "</table>\n",
       "</div>"
      ],
      "text/plain": [
       "                                                                                                     Hypothesis  \\\n",
       "0            Добавить два новых канала привлечения трафика, что позволит привлекать на 30% больше пользователей   \n",
       "1                                     Запустить собственную службу доставки, что сократит срок доставки заказов   \n",
       "2  Добавить блоки рекомендаций товаров на сайт интернет магазина, чтобы повысить конверсию и средний чек заказа   \n",
       "3           Изменить структура категорий, что увеличит конверсию, т.к. пользователи быстрее найдут нужный товар   \n",
       "4                              Изменить цвет фона главной страницы, чтобы увеличить вовлеченность пользователей   \n",
       "5                      Добавить страницу отзывов клиентов о магазине, что позволит увеличить количество заказов   \n",
       "6          Показать на главной странице баннеры с актуальными акциями и распродажами, чтобы увеличить конверсию   \n",
       "7              Добавить форму подписки на все основные страницы, чтобы собрать базу клиентов для email-рассылок   \n",
       "8                                                       Запустить акцию, дающую скидку на товар в день рождения   \n",
       "\n",
       "   Reach  Impact  Confidence  Efforts  \n",
       "0      3      10           8        6  \n",
       "1      2       5           4       10  \n",
       "2      8       3           7        3  \n",
       "3      8       3           3        8  \n",
       "4      3       1           1        1  \n",
       "5      3       2           2        3  \n",
       "6      5       3           8        3  \n",
       "7     10       7           8        5  \n",
       "8      1       9           9        5  "
      ]
     },
     "execution_count": 4,
     "metadata": {},
     "output_type": "execute_result"
    }
   ],
   "source": [
    "#Вывод информации о таблице hypothesis\n",
    "hypothesis.info()\n",
    "hypothesis"
   ]
  },
  {
   "cell_type": "code",
   "execution_count": 5,
   "metadata": {},
   "outputs": [
    {
     "name": "stdout",
     "output_type": "stream",
     "text": [
      "<class 'pandas.core.frame.DataFrame'>\n",
      "RangeIndex: 1197 entries, 0 to 1196\n",
      "Data columns (total 5 columns):\n",
      " #   Column         Non-Null Count  Dtype \n",
      "---  ------         --------------  ----- \n",
      " 0   transactionId  1197 non-null   int64 \n",
      " 1   visitorId      1197 non-null   int64 \n",
      " 2   date           1197 non-null   object\n",
      " 3   revenue        1197 non-null   int64 \n",
      " 4   group          1197 non-null   object\n",
      "dtypes: int64(3), object(2)\n",
      "memory usage: 46.9+ KB\n"
     ]
    },
    {
     "data": {
      "text/html": [
       "<div>\n",
       "<style scoped>\n",
       "    .dataframe tbody tr th:only-of-type {\n",
       "        vertical-align: middle;\n",
       "    }\n",
       "\n",
       "    .dataframe tbody tr th {\n",
       "        vertical-align: top;\n",
       "    }\n",
       "\n",
       "    .dataframe thead th {\n",
       "        text-align: right;\n",
       "    }\n",
       "</style>\n",
       "<table border=\"1\" class=\"dataframe\">\n",
       "  <thead>\n",
       "    <tr style=\"text-align: right;\">\n",
       "      <th></th>\n",
       "      <th>transactionId</th>\n",
       "      <th>visitorId</th>\n",
       "      <th>date</th>\n",
       "      <th>revenue</th>\n",
       "      <th>group</th>\n",
       "    </tr>\n",
       "  </thead>\n",
       "  <tbody>\n",
       "    <tr>\n",
       "      <th>0</th>\n",
       "      <td>3667963787</td>\n",
       "      <td>3312258926</td>\n",
       "      <td>2019-08-15</td>\n",
       "      <td>1650</td>\n",
       "      <td>B</td>\n",
       "    </tr>\n",
       "    <tr>\n",
       "      <th>1</th>\n",
       "      <td>2804400009</td>\n",
       "      <td>3642806036</td>\n",
       "      <td>2019-08-15</td>\n",
       "      <td>730</td>\n",
       "      <td>B</td>\n",
       "    </tr>\n",
       "    <tr>\n",
       "      <th>2</th>\n",
       "      <td>2961555356</td>\n",
       "      <td>4069496402</td>\n",
       "      <td>2019-08-15</td>\n",
       "      <td>400</td>\n",
       "      <td>A</td>\n",
       "    </tr>\n",
       "    <tr>\n",
       "      <th>3</th>\n",
       "      <td>3797467345</td>\n",
       "      <td>1196621759</td>\n",
       "      <td>2019-08-15</td>\n",
       "      <td>9759</td>\n",
       "      <td>B</td>\n",
       "    </tr>\n",
       "    <tr>\n",
       "      <th>4</th>\n",
       "      <td>2282983706</td>\n",
       "      <td>2322279887</td>\n",
       "      <td>2019-08-15</td>\n",
       "      <td>2308</td>\n",
       "      <td>B</td>\n",
       "    </tr>\n",
       "    <tr>\n",
       "      <th>...</th>\n",
       "      <td>...</td>\n",
       "      <td>...</td>\n",
       "      <td>...</td>\n",
       "      <td>...</td>\n",
       "      <td>...</td>\n",
       "    </tr>\n",
       "    <tr>\n",
       "      <th>1192</th>\n",
       "      <td>2662137336</td>\n",
       "      <td>3733762160</td>\n",
       "      <td>2019-08-14</td>\n",
       "      <td>6490</td>\n",
       "      <td>B</td>\n",
       "    </tr>\n",
       "    <tr>\n",
       "      <th>1193</th>\n",
       "      <td>2203539145</td>\n",
       "      <td>370388673</td>\n",
       "      <td>2019-08-14</td>\n",
       "      <td>3190</td>\n",
       "      <td>A</td>\n",
       "    </tr>\n",
       "    <tr>\n",
       "      <th>1194</th>\n",
       "      <td>1807773912</td>\n",
       "      <td>573423106</td>\n",
       "      <td>2019-08-14</td>\n",
       "      <td>10550</td>\n",
       "      <td>A</td>\n",
       "    </tr>\n",
       "    <tr>\n",
       "      <th>1195</th>\n",
       "      <td>1947021204</td>\n",
       "      <td>1614305549</td>\n",
       "      <td>2019-08-14</td>\n",
       "      <td>100</td>\n",
       "      <td>A</td>\n",
       "    </tr>\n",
       "    <tr>\n",
       "      <th>1196</th>\n",
       "      <td>3936777065</td>\n",
       "      <td>2108080724</td>\n",
       "      <td>2019-08-15</td>\n",
       "      <td>202740</td>\n",
       "      <td>B</td>\n",
       "    </tr>\n",
       "  </tbody>\n",
       "</table>\n",
       "<p>1197 rows × 5 columns</p>\n",
       "</div>"
      ],
      "text/plain": [
       "      transactionId   visitorId        date  revenue group\n",
       "0        3667963787  3312258926  2019-08-15     1650     B\n",
       "1        2804400009  3642806036  2019-08-15      730     B\n",
       "2        2961555356  4069496402  2019-08-15      400     A\n",
       "3        3797467345  1196621759  2019-08-15     9759     B\n",
       "4        2282983706  2322279887  2019-08-15     2308     B\n",
       "...             ...         ...         ...      ...   ...\n",
       "1192     2662137336  3733762160  2019-08-14     6490     B\n",
       "1193     2203539145   370388673  2019-08-14     3190     A\n",
       "1194     1807773912   573423106  2019-08-14    10550     A\n",
       "1195     1947021204  1614305549  2019-08-14      100     A\n",
       "1196     3936777065  2108080724  2019-08-15   202740     B\n",
       "\n",
       "[1197 rows x 5 columns]"
      ]
     },
     "execution_count": 5,
     "metadata": {},
     "output_type": "execute_result"
    }
   ],
   "source": [
    "#Вывод информации о таблице orders\n",
    "orders.info()\n",
    "orders"
   ]
  },
  {
   "cell_type": "code",
   "execution_count": 6,
   "metadata": {},
   "outputs": [
    {
     "name": "stdout",
     "output_type": "stream",
     "text": [
      "<class 'pandas.core.frame.DataFrame'>\n",
      "RangeIndex: 62 entries, 0 to 61\n",
      "Data columns (total 3 columns):\n",
      " #   Column    Non-Null Count  Dtype \n",
      "---  ------    --------------  ----- \n",
      " 0   date      62 non-null     object\n",
      " 1   group     62 non-null     object\n",
      " 2   visitors  62 non-null     int64 \n",
      "dtypes: int64(1), object(2)\n",
      "memory usage: 1.6+ KB\n"
     ]
    },
    {
     "data": {
      "text/html": [
       "<div>\n",
       "<style scoped>\n",
       "    .dataframe tbody tr th:only-of-type {\n",
       "        vertical-align: middle;\n",
       "    }\n",
       "\n",
       "    .dataframe tbody tr th {\n",
       "        vertical-align: top;\n",
       "    }\n",
       "\n",
       "    .dataframe thead th {\n",
       "        text-align: right;\n",
       "    }\n",
       "</style>\n",
       "<table border=\"1\" class=\"dataframe\">\n",
       "  <thead>\n",
       "    <tr style=\"text-align: right;\">\n",
       "      <th></th>\n",
       "      <th>date</th>\n",
       "      <th>group</th>\n",
       "      <th>visitors</th>\n",
       "    </tr>\n",
       "  </thead>\n",
       "  <tbody>\n",
       "    <tr>\n",
       "      <th>0</th>\n",
       "      <td>2019-08-01</td>\n",
       "      <td>A</td>\n",
       "      <td>719</td>\n",
       "    </tr>\n",
       "    <tr>\n",
       "      <th>1</th>\n",
       "      <td>2019-08-02</td>\n",
       "      <td>A</td>\n",
       "      <td>619</td>\n",
       "    </tr>\n",
       "    <tr>\n",
       "      <th>2</th>\n",
       "      <td>2019-08-03</td>\n",
       "      <td>A</td>\n",
       "      <td>507</td>\n",
       "    </tr>\n",
       "    <tr>\n",
       "      <th>3</th>\n",
       "      <td>2019-08-04</td>\n",
       "      <td>A</td>\n",
       "      <td>717</td>\n",
       "    </tr>\n",
       "    <tr>\n",
       "      <th>4</th>\n",
       "      <td>2019-08-05</td>\n",
       "      <td>A</td>\n",
       "      <td>756</td>\n",
       "    </tr>\n",
       "    <tr>\n",
       "      <th>...</th>\n",
       "      <td>...</td>\n",
       "      <td>...</td>\n",
       "      <td>...</td>\n",
       "    </tr>\n",
       "    <tr>\n",
       "      <th>57</th>\n",
       "      <td>2019-08-27</td>\n",
       "      <td>B</td>\n",
       "      <td>720</td>\n",
       "    </tr>\n",
       "    <tr>\n",
       "      <th>58</th>\n",
       "      <td>2019-08-28</td>\n",
       "      <td>B</td>\n",
       "      <td>654</td>\n",
       "    </tr>\n",
       "    <tr>\n",
       "      <th>59</th>\n",
       "      <td>2019-08-29</td>\n",
       "      <td>B</td>\n",
       "      <td>531</td>\n",
       "    </tr>\n",
       "    <tr>\n",
       "      <th>60</th>\n",
       "      <td>2019-08-30</td>\n",
       "      <td>B</td>\n",
       "      <td>490</td>\n",
       "    </tr>\n",
       "    <tr>\n",
       "      <th>61</th>\n",
       "      <td>2019-08-31</td>\n",
       "      <td>B</td>\n",
       "      <td>718</td>\n",
       "    </tr>\n",
       "  </tbody>\n",
       "</table>\n",
       "<p>62 rows × 3 columns</p>\n",
       "</div>"
      ],
      "text/plain": [
       "          date group  visitors\n",
       "0   2019-08-01     A       719\n",
       "1   2019-08-02     A       619\n",
       "2   2019-08-03     A       507\n",
       "3   2019-08-04     A       717\n",
       "4   2019-08-05     A       756\n",
       "..         ...   ...       ...\n",
       "57  2019-08-27     B       720\n",
       "58  2019-08-28     B       654\n",
       "59  2019-08-29     B       531\n",
       "60  2019-08-30     B       490\n",
       "61  2019-08-31     B       718\n",
       "\n",
       "[62 rows x 3 columns]"
      ]
     },
     "execution_count": 6,
     "metadata": {},
     "output_type": "execute_result"
    }
   ],
   "source": [
    "#Вывод информации о таблице orders\n",
    "visitors.info()\n",
    "visitors"
   ]
  },
  {
   "cell_type": "code",
   "execution_count": 7,
   "metadata": {},
   "outputs": [
    {
     "data": {
      "text/plain": [
       "Hypothesis    0\n",
       "Reach         0\n",
       "Impact        0\n",
       "Confidence    0\n",
       "Efforts       0\n",
       "dtype: int64"
      ]
     },
     "metadata": {},
     "output_type": "display_data"
    },
    {
     "data": {
      "text/plain": [
       "transactionId    0\n",
       "visitorId        0\n",
       "date             0\n",
       "revenue          0\n",
       "group            0\n",
       "dtype: int64"
      ]
     },
     "metadata": {},
     "output_type": "display_data"
    },
    {
     "data": {
      "text/plain": [
       "date        0\n",
       "group       0\n",
       "visitors    0\n",
       "dtype: int64"
      ]
     },
     "metadata": {},
     "output_type": "display_data"
    }
   ],
   "source": [
    "#Проверка на наличие пропусков\n",
    "display(hypothesis.isna().sum())\n",
    "display(orders.isna().sum())\n",
    "display(visitors.isna().sum())"
   ]
  },
  {
   "cell_type": "code",
   "execution_count": 8,
   "metadata": {},
   "outputs": [
    {
     "data": {
      "text/plain": [
       "0"
      ]
     },
     "metadata": {},
     "output_type": "display_data"
    },
    {
     "data": {
      "text/plain": [
       "0"
      ]
     },
     "metadata": {},
     "output_type": "display_data"
    },
    {
     "data": {
      "text/plain": [
       "0"
      ]
     },
     "metadata": {},
     "output_type": "display_data"
    }
   ],
   "source": [
    "#Проверка на наличие дубликатов\n",
    "display(hypothesis.duplicated().sum())\n",
    "display(orders.duplicated().sum())\n",
    "display(visitors.duplicated().sum())"
   ]
  },
  {
   "cell_type": "markdown",
   "metadata": {},
   "source": [
    "**Вывод**\n",
    "\n",
    "После ознакомления с датафреймами, можно заметить, что в наименование столбцов написано в разных регистрах. В датафреймах отсутствуют пропуски, но тип данных столбцов с датами object. Дубликаты в датафреймах также отсутствуют"
   ]
  },
  {
   "cell_type": "code",
   "execution_count": 9,
   "metadata": {},
   "outputs": [
    {
     "data": {
      "text/plain": [
       "Index(['hypothesis', 'reach', 'impact', 'confidence', 'efforts'], dtype='object')"
      ]
     },
     "metadata": {},
     "output_type": "display_data"
    },
    {
     "data": {
      "text/plain": [
       "Index(['transaction_id', 'visitor_id', 'date', 'revenue', 'group'], dtype='object')"
      ]
     },
     "metadata": {},
     "output_type": "display_data"
    }
   ],
   "source": [
    "#Приведение названия столбцов к \"змеиному\" регистру\n",
    "orders.columns = [name.replace('Id', '_id') for name in orders.columns]\n",
    "orders.columns = orders.columns.str.lower()\n",
    "hypothesis.columns = hypothesis.columns.str.lower()\n",
    "\n",
    "#Вывод наименования столбцов после замены\n",
    "display(hypothesis.columns)\n",
    "display(orders.columns)"
   ]
  },
  {
   "cell_type": "code",
   "execution_count": 10,
   "metadata": {},
   "outputs": [],
   "source": [
    "#Изменение типов данных столбцов с датами\n",
    "orders['date'] = pd.to_datetime(orders['date'])\n",
    "visitors['date'] = pd.to_datetime(visitors['date'])\n"
   ]
  },
  {
   "cell_type": "markdown",
   "metadata": {},
   "source": [
    "**Вывод**\n",
    "\n",
    "На этапе предобработки привели наименование столбцов к змеиному регистру, а также поменяли тип данных столбцов с датами на необходимые для анализа"
   ]
  },
  {
   "cell_type": "markdown",
   "metadata": {},
   "source": [
    "**Приоритизация гипотез**"
   ]
  },
  {
   "cell_type": "markdown",
   "metadata": {},
   "source": [
    "Таблица hypothesis содержит 9 гипотез по увеличению выручки интернет-магазина с указанными параметрами Reach, Impact, Confidence, Effort. Для определения приоритизации гипотез, необходимо применить методы ICE и RICE, а также проанализировать их изменения"
   ]
  },
  {
   "cell_type": "markdown",
   "metadata": {},
   "source": [
    "**ICE**"
   ]
  },
  {
   "cell_type": "code",
   "execution_count": 11,
   "metadata": {},
   "outputs": [
    {
     "data": {
      "text/html": [
       "<div>\n",
       "<style scoped>\n",
       "    .dataframe tbody tr th:only-of-type {\n",
       "        vertical-align: middle;\n",
       "    }\n",
       "\n",
       "    .dataframe tbody tr th {\n",
       "        vertical-align: top;\n",
       "    }\n",
       "\n",
       "    .dataframe thead th {\n",
       "        text-align: right;\n",
       "    }\n",
       "</style>\n",
       "<table border=\"1\" class=\"dataframe\">\n",
       "  <thead>\n",
       "    <tr style=\"text-align: right;\">\n",
       "      <th></th>\n",
       "      <th>hypothesis</th>\n",
       "      <th>reach</th>\n",
       "      <th>impact</th>\n",
       "      <th>confidence</th>\n",
       "      <th>efforts</th>\n",
       "      <th>ice</th>\n",
       "    </tr>\n",
       "  </thead>\n",
       "  <tbody>\n",
       "    <tr>\n",
       "      <th>8</th>\n",
       "      <td>Запустить акцию, дающую скидку на товар в день рождения</td>\n",
       "      <td>1</td>\n",
       "      <td>9</td>\n",
       "      <td>9</td>\n",
       "      <td>5</td>\n",
       "      <td>16.200</td>\n",
       "    </tr>\n",
       "    <tr>\n",
       "      <th>0</th>\n",
       "      <td>Добавить два новых канала привлечения трафика, что позволит привлекать на 30% больше пользователей</td>\n",
       "      <td>3</td>\n",
       "      <td>10</td>\n",
       "      <td>8</td>\n",
       "      <td>6</td>\n",
       "      <td>13.333</td>\n",
       "    </tr>\n",
       "    <tr>\n",
       "      <th>7</th>\n",
       "      <td>Добавить форму подписки на все основные страницы, чтобы собрать базу клиентов для email-рассылок</td>\n",
       "      <td>10</td>\n",
       "      <td>7</td>\n",
       "      <td>8</td>\n",
       "      <td>5</td>\n",
       "      <td>11.200</td>\n",
       "    </tr>\n",
       "    <tr>\n",
       "      <th>6</th>\n",
       "      <td>Показать на главной странице баннеры с актуальными акциями и распродажами, чтобы увеличить конверсию</td>\n",
       "      <td>5</td>\n",
       "      <td>3</td>\n",
       "      <td>8</td>\n",
       "      <td>3</td>\n",
       "      <td>8.000</td>\n",
       "    </tr>\n",
       "    <tr>\n",
       "      <th>2</th>\n",
       "      <td>Добавить блоки рекомендаций товаров на сайт интернет магазина, чтобы повысить конверсию и средний чек заказа</td>\n",
       "      <td>8</td>\n",
       "      <td>3</td>\n",
       "      <td>7</td>\n",
       "      <td>3</td>\n",
       "      <td>7.000</td>\n",
       "    </tr>\n",
       "    <tr>\n",
       "      <th>1</th>\n",
       "      <td>Запустить собственную службу доставки, что сократит срок доставки заказов</td>\n",
       "      <td>2</td>\n",
       "      <td>5</td>\n",
       "      <td>4</td>\n",
       "      <td>10</td>\n",
       "      <td>2.000</td>\n",
       "    </tr>\n",
       "    <tr>\n",
       "      <th>5</th>\n",
       "      <td>Добавить страницу отзывов клиентов о магазине, что позволит увеличить количество заказов</td>\n",
       "      <td>3</td>\n",
       "      <td>2</td>\n",
       "      <td>2</td>\n",
       "      <td>3</td>\n",
       "      <td>1.333</td>\n",
       "    </tr>\n",
       "    <tr>\n",
       "      <th>3</th>\n",
       "      <td>Изменить структура категорий, что увеличит конверсию, т.к. пользователи быстрее найдут нужный товар</td>\n",
       "      <td>8</td>\n",
       "      <td>3</td>\n",
       "      <td>3</td>\n",
       "      <td>8</td>\n",
       "      <td>1.125</td>\n",
       "    </tr>\n",
       "    <tr>\n",
       "      <th>4</th>\n",
       "      <td>Изменить цвет фона главной страницы, чтобы увеличить вовлеченность пользователей</td>\n",
       "      <td>3</td>\n",
       "      <td>1</td>\n",
       "      <td>1</td>\n",
       "      <td>1</td>\n",
       "      <td>1.000</td>\n",
       "    </tr>\n",
       "  </tbody>\n",
       "</table>\n",
       "</div>"
      ],
      "text/plain": [
       "                                                                                                     hypothesis  \\\n",
       "8                                                       Запустить акцию, дающую скидку на товар в день рождения   \n",
       "0            Добавить два новых канала привлечения трафика, что позволит привлекать на 30% больше пользователей   \n",
       "7              Добавить форму подписки на все основные страницы, чтобы собрать базу клиентов для email-рассылок   \n",
       "6          Показать на главной странице баннеры с актуальными акциями и распродажами, чтобы увеличить конверсию   \n",
       "2  Добавить блоки рекомендаций товаров на сайт интернет магазина, чтобы повысить конверсию и средний чек заказа   \n",
       "1                                     Запустить собственную службу доставки, что сократит срок доставки заказов   \n",
       "5                      Добавить страницу отзывов клиентов о магазине, что позволит увеличить количество заказов   \n",
       "3           Изменить структура категорий, что увеличит конверсию, т.к. пользователи быстрее найдут нужный товар   \n",
       "4                              Изменить цвет фона главной страницы, чтобы увеличить вовлеченность пользователей   \n",
       "\n",
       "   reach  impact  confidence  efforts    ice  \n",
       "8      1       9           9        5 16.200  \n",
       "0      3      10           8        6 13.333  \n",
       "7     10       7           8        5 11.200  \n",
       "6      5       3           8        3  8.000  \n",
       "2      8       3           7        3  7.000  \n",
       "1      2       5           4       10  2.000  \n",
       "5      3       2           2        3  1.333  \n",
       "3      8       3           3        8  1.125  \n",
       "4      3       1           1        1  1.000  "
      ]
     },
     "execution_count": 11,
     "metadata": {},
     "output_type": "execute_result"
    }
   ],
   "source": [
    "#Рассчет ICE\n",
    "hypothesis['ice'] = hypothesis ['impact'] * hypothesis ['confidence']/hypothesis['efforts']\n",
    "\n",
    "#Вывод таблицы hypothesis с результатами ICE\n",
    "hypothesis.sort_values(by='ice', ascending=False)"
   ]
  },
  {
   "cell_type": "markdown",
   "metadata": {},
   "source": [
    "<div class=\"alert alert-success\">\n",
    "<b>Комментарий ревьюера ✔️:</b> Все очень здорово и график также добавлен </div>"
   ]
  },
  {
   "cell_type": "code",
   "execution_count": 12,
   "metadata": {},
   "outputs": [
    {
     "data": {
      "image/png": "[encoded data removed]",
      "text/plain": [
       "<Figure size 720x432 with 1 Axes>"
      ]
     },
     "metadata": {},
     "output_type": "display_data"
    }
   ],
   "source": [
    "#Создание графика\n",
    "fig, ax = plt.subplots()\n",
    "hypothesis[['hypothesis', 'ice']].set_index('hypothesis').sort_values(by='ice', ascending=True).plot(kind='barh', ax=ax)\n",
    "\n",
    "ax.set_title('ICE')\n",
    "ax.set_xlabel('Гипотеза')\n",
    "ax.set_ylabel('Приоритетность')\n",
    "plt.show()"
   ]
  },
  {
   "cell_type": "markdown",
   "metadata": {},
   "source": [
    "**Вывод**\n",
    "\n",
    "После применения метода ICE самыми перспективными гипотезами являются гипотезы с номерами 8, 0 и 7. Далее следуют гипотезы 6 и 2 соответственно\n",
    "\n",
    "Таким образом самым приоритетным вариантом привлечения клиентов метод ICE определил - Запуск акций, дающую скидку на товар в день рождения"
   ]
  },
  {
   "cell_type": "markdown",
   "metadata": {},
   "source": [
    "**RICE**"
   ]
  },
  {
   "cell_type": "code",
   "execution_count": 13,
   "metadata": {},
   "outputs": [
    {
     "data": {
      "text/html": [
       "<div>\n",
       "<style scoped>\n",
       "    .dataframe tbody tr th:only-of-type {\n",
       "        vertical-align: middle;\n",
       "    }\n",
       "\n",
       "    .dataframe tbody tr th {\n",
       "        vertical-align: top;\n",
       "    }\n",
       "\n",
       "    .dataframe thead th {\n",
       "        text-align: right;\n",
       "    }\n",
       "</style>\n",
       "<table border=\"1\" class=\"dataframe\">\n",
       "  <thead>\n",
       "    <tr style=\"text-align: right;\">\n",
       "      <th></th>\n",
       "      <th>hypothesis</th>\n",
       "      <th>reach</th>\n",
       "      <th>impact</th>\n",
       "      <th>confidence</th>\n",
       "      <th>efforts</th>\n",
       "      <th>ice</th>\n",
       "      <th>rice</th>\n",
       "    </tr>\n",
       "  </thead>\n",
       "  <tbody>\n",
       "    <tr>\n",
       "      <th>7</th>\n",
       "      <td>Добавить форму подписки на все основные страницы, чтобы собрать базу клиентов для email-рассылок</td>\n",
       "      <td>10</td>\n",
       "      <td>7</td>\n",
       "      <td>8</td>\n",
       "      <td>5</td>\n",
       "      <td>11.200</td>\n",
       "      <td>112.000</td>\n",
       "    </tr>\n",
       "    <tr>\n",
       "      <th>2</th>\n",
       "      <td>Добавить блоки рекомендаций товаров на сайт интернет магазина, чтобы повысить конверсию и средний чек заказа</td>\n",
       "      <td>8</td>\n",
       "      <td>3</td>\n",
       "      <td>7</td>\n",
       "      <td>3</td>\n",
       "      <td>7.000</td>\n",
       "      <td>56.000</td>\n",
       "    </tr>\n",
       "    <tr>\n",
       "      <th>0</th>\n",
       "      <td>Добавить два новых канала привлечения трафика, что позволит привлекать на 30% больше пользователей</td>\n",
       "      <td>3</td>\n",
       "      <td>10</td>\n",
       "      <td>8</td>\n",
       "      <td>6</td>\n",
       "      <td>13.333</td>\n",
       "      <td>40.000</td>\n",
       "    </tr>\n",
       "    <tr>\n",
       "      <th>6</th>\n",
       "      <td>Показать на главной странице баннеры с актуальными акциями и распродажами, чтобы увеличить конверсию</td>\n",
       "      <td>5</td>\n",
       "      <td>3</td>\n",
       "      <td>8</td>\n",
       "      <td>3</td>\n",
       "      <td>8.000</td>\n",
       "      <td>40.000</td>\n",
       "    </tr>\n",
       "    <tr>\n",
       "      <th>8</th>\n",
       "      <td>Запустить акцию, дающую скидку на товар в день рождения</td>\n",
       "      <td>1</td>\n",
       "      <td>9</td>\n",
       "      <td>9</td>\n",
       "      <td>5</td>\n",
       "      <td>16.200</td>\n",
       "      <td>16.200</td>\n",
       "    </tr>\n",
       "    <tr>\n",
       "      <th>3</th>\n",
       "      <td>Изменить структура категорий, что увеличит конверсию, т.к. пользователи быстрее найдут нужный товар</td>\n",
       "      <td>8</td>\n",
       "      <td>3</td>\n",
       "      <td>3</td>\n",
       "      <td>8</td>\n",
       "      <td>1.125</td>\n",
       "      <td>9.000</td>\n",
       "    </tr>\n",
       "    <tr>\n",
       "      <th>1</th>\n",
       "      <td>Запустить собственную службу доставки, что сократит срок доставки заказов</td>\n",
       "      <td>2</td>\n",
       "      <td>5</td>\n",
       "      <td>4</td>\n",
       "      <td>10</td>\n",
       "      <td>2.000</td>\n",
       "      <td>4.000</td>\n",
       "    </tr>\n",
       "    <tr>\n",
       "      <th>5</th>\n",
       "      <td>Добавить страницу отзывов клиентов о магазине, что позволит увеличить количество заказов</td>\n",
       "      <td>3</td>\n",
       "      <td>2</td>\n",
       "      <td>2</td>\n",
       "      <td>3</td>\n",
       "      <td>1.333</td>\n",
       "      <td>4.000</td>\n",
       "    </tr>\n",
       "    <tr>\n",
       "      <th>4</th>\n",
       "      <td>Изменить цвет фона главной страницы, чтобы увеличить вовлеченность пользователей</td>\n",
       "      <td>3</td>\n",
       "      <td>1</td>\n",
       "      <td>1</td>\n",
       "      <td>1</td>\n",
       "      <td>1.000</td>\n",
       "      <td>3.000</td>\n",
       "    </tr>\n",
       "  </tbody>\n",
       "</table>\n",
       "</div>"
      ],
      "text/plain": [
       "                                                                                                     hypothesis  \\\n",
       "7              Добавить форму подписки на все основные страницы, чтобы собрать базу клиентов для email-рассылок   \n",
       "2  Добавить блоки рекомендаций товаров на сайт интернет магазина, чтобы повысить конверсию и средний чек заказа   \n",
       "0            Добавить два новых канала привлечения трафика, что позволит привлекать на 30% больше пользователей   \n",
       "6          Показать на главной странице баннеры с актуальными акциями и распродажами, чтобы увеличить конверсию   \n",
       "8                                                       Запустить акцию, дающую скидку на товар в день рождения   \n",
       "3           Изменить структура категорий, что увеличит конверсию, т.к. пользователи быстрее найдут нужный товар   \n",
       "1                                     Запустить собственную службу доставки, что сократит срок доставки заказов   \n",
       "5                      Добавить страницу отзывов клиентов о магазине, что позволит увеличить количество заказов   \n",
       "4                              Изменить цвет фона главной страницы, чтобы увеличить вовлеченность пользователей   \n",
       "\n",
       "   reach  impact  confidence  efforts    ice    rice  \n",
       "7     10       7           8        5 11.200 112.000  \n",
       "2      8       3           7        3  7.000  56.000  \n",
       "0      3      10           8        6 13.333  40.000  \n",
       "6      5       3           8        3  8.000  40.000  \n",
       "8      1       9           9        5 16.200  16.200  \n",
       "3      8       3           3        8  1.125   9.000  \n",
       "1      2       5           4       10  2.000   4.000  \n",
       "5      3       2           2        3  1.333   4.000  \n",
       "4      3       1           1        1  1.000   3.000  "
      ]
     },
     "execution_count": 13,
     "metadata": {},
     "output_type": "execute_result"
    }
   ],
   "source": [
    "#Рассчет RICE\n",
    "hypothesis['rice'] = hypothesis ['reach'] * hypothesis ['impact'] * hypothesis ['confidence']/hypothesis['efforts']\n",
    "\n",
    "#Вывод таблицы hypothesis с результатами ICE\n",
    "hypothesis.sort_values(by='rice', ascending=False)"
   ]
  },
  {
   "cell_type": "code",
   "execution_count": 14,
   "metadata": {},
   "outputs": [
    {
     "data": {
      "image/png": "[encoded data removed]",
      "text/plain": [
       "<Figure size 720x432 with 1 Axes>"
      ]
     },
     "metadata": {},
     "output_type": "display_data"
    }
   ],
   "source": [
    "#Создание графика\n",
    "fig, ax = plt.subplots()\n",
    "hypothesis[['hypothesis', 'rice']].set_index('hypothesis').sort_values(by='rice', ascending=True).plot(kind='barh', ax=ax)\n",
    "\n",
    "ax.set_title('RICE')\n",
    "ax.set_xlabel('Гипотеза')\n",
    "ax.set_ylabel('Приоритетность')\n",
    "plt.show()"
   ]
  },
  {
   "cell_type": "markdown",
   "metadata": {},
   "source": [
    "**Вывод**\n",
    "\n",
    "После применения метода RICE самыми перспективными гипотезами являются гипотезы с номерами 7, 2 и 0. Далее следуют гипотезы 6 и 8 соответственно. \n",
    "\n",
    "После расчета и сравнения RICE и ICE, можно заметить, что топ 5 гипотез по приоритетности при применении обоих методов совпадает, но гипотезы в обоих случаях распределяются по-разному. У метода ICE самая приоритетная гипотеза 8 - Запустить акцию, дающую скидку на товар в день рождения, у RICE гипотеза 7 - Добавить форму подписки на все основные страницы, чтобы собрать базу клиентов для email-рассылок. Данную разницу можно объяснить тем, что при расчете RICE учитывается показатель reach, т.е. скольких пользователей затронет изменение. У гипотезы 7 данный показатель равен 10, а у гипотезы 8 он всего лишь 1.  \n"
   ]
  },
  {
   "cell_type": "markdown",
   "metadata": {},
   "source": [
    "### Анализ A/B-теста"
   ]
  },
  {
   "cell_type": "markdown",
   "metadata": {},
   "source": [
    "Для дальнейшего анализа необходимо запустить A/B-тест"
   ]
  },
  {
   "cell_type": "markdown",
   "metadata": {},
   "source": [
    "**Кумулятивные метрики**"
   ]
  },
  {
   "cell_type": "markdown",
   "metadata": {},
   "source": [
    "Для постройки графиков кумулятивных метрик, нужно собрать кумулятивные данные в один датафрейм. Для этого необходимо создать массив уникальных пар значений дат и групп теста, собрать агрегированные кумулятивные по дням данные о заказах и посетителях"
   ]
  },
  {
   "cell_type": "code",
   "execution_count": 15,
   "metadata": {},
   "outputs": [],
   "source": [
    "#Cоздаем массив уникальных пар значений дат и групп теста\n",
    "dates_groups = orders[['date','group']].drop_duplicates()"
   ]
  },
  {
   "cell_type": "code",
   "execution_count": 16,
   "metadata": {},
   "outputs": [
    {
     "data": {
      "text/html": [
       "<div>\n",
       "<style scoped>\n",
       "    .dataframe tbody tr th:only-of-type {\n",
       "        vertical-align: middle;\n",
       "    }\n",
       "\n",
       "    .dataframe tbody tr th {\n",
       "        vertical-align: top;\n",
       "    }\n",
       "\n",
       "    .dataframe thead th {\n",
       "        text-align: right;\n",
       "    }\n",
       "</style>\n",
       "<table border=\"1\" class=\"dataframe\">\n",
       "  <thead>\n",
       "    <tr style=\"text-align: right;\">\n",
       "      <th></th>\n",
       "      <th>date</th>\n",
       "      <th>group</th>\n",
       "      <th>transaction_id</th>\n",
       "      <th>visitor_id</th>\n",
       "      <th>revenue</th>\n",
       "    </tr>\n",
       "  </thead>\n",
       "  <tbody>\n",
       "    <tr>\n",
       "      <th>55</th>\n",
       "      <td>2019-08-01</td>\n",
       "      <td>A</td>\n",
       "      <td>24</td>\n",
       "      <td>20</td>\n",
       "      <td>148579</td>\n",
       "    </tr>\n",
       "    <tr>\n",
       "      <th>66</th>\n",
       "      <td>2019-08-01</td>\n",
       "      <td>B</td>\n",
       "      <td>21</td>\n",
       "      <td>20</td>\n",
       "      <td>101217</td>\n",
       "    </tr>\n",
       "    <tr>\n",
       "      <th>175</th>\n",
       "      <td>2019-08-02</td>\n",
       "      <td>A</td>\n",
       "      <td>44</td>\n",
       "      <td>38</td>\n",
       "      <td>242401</td>\n",
       "    </tr>\n",
       "    <tr>\n",
       "      <th>173</th>\n",
       "      <td>2019-08-02</td>\n",
       "      <td>B</td>\n",
       "      <td>45</td>\n",
       "      <td>43</td>\n",
       "      <td>266748</td>\n",
       "    </tr>\n",
       "    <tr>\n",
       "      <th>291</th>\n",
       "      <td>2019-08-03</td>\n",
       "      <td>A</td>\n",
       "      <td>68</td>\n",
       "      <td>62</td>\n",
       "      <td>354874</td>\n",
       "    </tr>\n",
       "    <tr>\n",
       "      <th>...</th>\n",
       "      <td>...</td>\n",
       "      <td>...</td>\n",
       "      <td>...</td>\n",
       "      <td>...</td>\n",
       "      <td>...</td>\n",
       "    </tr>\n",
       "    <tr>\n",
       "      <th>496</th>\n",
       "      <td>2019-08-29</td>\n",
       "      <td>B</td>\n",
       "      <td>596</td>\n",
       "      <td>544</td>\n",
       "      <td>5559398</td>\n",
       "    </tr>\n",
       "    <tr>\n",
       "      <th>730</th>\n",
       "      <td>2019-08-30</td>\n",
       "      <td>A</td>\n",
       "      <td>545</td>\n",
       "      <td>493</td>\n",
       "      <td>4022970</td>\n",
       "    </tr>\n",
       "    <tr>\n",
       "      <th>690</th>\n",
       "      <td>2019-08-30</td>\n",
       "      <td>B</td>\n",
       "      <td>620</td>\n",
       "      <td>567</td>\n",
       "      <td>5774631</td>\n",
       "    </tr>\n",
       "    <tr>\n",
       "      <th>958</th>\n",
       "      <td>2019-08-31</td>\n",
       "      <td>A</td>\n",
       "      <td>557</td>\n",
       "      <td>503</td>\n",
       "      <td>4084803</td>\n",
       "    </tr>\n",
       "    <tr>\n",
       "      <th>930</th>\n",
       "      <td>2019-08-31</td>\n",
       "      <td>B</td>\n",
       "      <td>640</td>\n",
       "      <td>586</td>\n",
       "      <td>5907760</td>\n",
       "    </tr>\n",
       "  </tbody>\n",
       "</table>\n",
       "<p>62 rows × 5 columns</p>\n",
       "</div>"
      ],
      "text/plain": [
       "          date group  transaction_id  visitor_id  revenue\n",
       "55  2019-08-01     A              24          20   148579\n",
       "66  2019-08-01     B              21          20   101217\n",
       "175 2019-08-02     A              44          38   242401\n",
       "173 2019-08-02     B              45          43   266748\n",
       "291 2019-08-03     A              68          62   354874\n",
       "..         ...   ...             ...         ...      ...\n",
       "496 2019-08-29     B             596         544  5559398\n",
       "730 2019-08-30     A             545         493  4022970\n",
       "690 2019-08-30     B             620         567  5774631\n",
       "958 2019-08-31     A             557         503  4084803\n",
       "930 2019-08-31     B             640         586  5907760\n",
       "\n",
       "[62 rows x 5 columns]"
      ]
     },
     "execution_count": 16,
     "metadata": {},
     "output_type": "execute_result"
    }
   ],
   "source": [
    "#Собераем агрегированные кумулятивные по дням данные о заказах\n",
    "orders_aggregated = (dates_groups.apply(\n",
    "                     lambda x: orders[np.logical_and(orders['date'] <= x['date'], orders['group'] == x['group'])\n",
    "                     ].agg (\n",
    "                     {'date' : 'max', 'group' : 'max', 'transaction_id' : 'nunique', 'visitor_id' : 'nunique', 'revenue' : 'sum'}\n",
    "                     ),axis=1).sort_values(by=['date','group']))\n",
    "\n",
    "#Вывод результата\n",
    "orders_aggregated"
   ]
  },
  {
   "cell_type": "code",
   "execution_count": 17,
   "metadata": {},
   "outputs": [
    {
     "data": {
      "text/html": [
       "<div>\n",
       "<style scoped>\n",
       "    .dataframe tbody tr th:only-of-type {\n",
       "        vertical-align: middle;\n",
       "    }\n",
       "\n",
       "    .dataframe tbody tr th {\n",
       "        vertical-align: top;\n",
       "    }\n",
       "\n",
       "    .dataframe thead th {\n",
       "        text-align: right;\n",
       "    }\n",
       "</style>\n",
       "<table border=\"1\" class=\"dataframe\">\n",
       "  <thead>\n",
       "    <tr style=\"text-align: right;\">\n",
       "      <th></th>\n",
       "      <th>date</th>\n",
       "      <th>group</th>\n",
       "      <th>visitors</th>\n",
       "    </tr>\n",
       "  </thead>\n",
       "  <tbody>\n",
       "    <tr>\n",
       "      <th>55</th>\n",
       "      <td>2019-08-01</td>\n",
       "      <td>A</td>\n",
       "      <td>719</td>\n",
       "    </tr>\n",
       "    <tr>\n",
       "      <th>66</th>\n",
       "      <td>2019-08-01</td>\n",
       "      <td>B</td>\n",
       "      <td>713</td>\n",
       "    </tr>\n",
       "    <tr>\n",
       "      <th>175</th>\n",
       "      <td>2019-08-02</td>\n",
       "      <td>A</td>\n",
       "      <td>1338</td>\n",
       "    </tr>\n",
       "    <tr>\n",
       "      <th>173</th>\n",
       "      <td>2019-08-02</td>\n",
       "      <td>B</td>\n",
       "      <td>1294</td>\n",
       "    </tr>\n",
       "    <tr>\n",
       "      <th>291</th>\n",
       "      <td>2019-08-03</td>\n",
       "      <td>A</td>\n",
       "      <td>1845</td>\n",
       "    </tr>\n",
       "    <tr>\n",
       "      <th>...</th>\n",
       "      <td>...</td>\n",
       "      <td>...</td>\n",
       "      <td>...</td>\n",
       "    </tr>\n",
       "    <tr>\n",
       "      <th>496</th>\n",
       "      <td>2019-08-29</td>\n",
       "      <td>B</td>\n",
       "      <td>17708</td>\n",
       "    </tr>\n",
       "    <tr>\n",
       "      <th>730</th>\n",
       "      <td>2019-08-30</td>\n",
       "      <td>A</td>\n",
       "      <td>18037</td>\n",
       "    </tr>\n",
       "    <tr>\n",
       "      <th>690</th>\n",
       "      <td>2019-08-30</td>\n",
       "      <td>B</td>\n",
       "      <td>18198</td>\n",
       "    </tr>\n",
       "    <tr>\n",
       "      <th>958</th>\n",
       "      <td>2019-08-31</td>\n",
       "      <td>A</td>\n",
       "      <td>18736</td>\n",
       "    </tr>\n",
       "    <tr>\n",
       "      <th>930</th>\n",
       "      <td>2019-08-31</td>\n",
       "      <td>B</td>\n",
       "      <td>18916</td>\n",
       "    </tr>\n",
       "  </tbody>\n",
       "</table>\n",
       "<p>62 rows × 3 columns</p>\n",
       "</div>"
      ],
      "text/plain": [
       "          date group  visitors\n",
       "55  2019-08-01     A       719\n",
       "66  2019-08-01     B       713\n",
       "175 2019-08-02     A      1338\n",
       "173 2019-08-02     B      1294\n",
       "291 2019-08-03     A      1845\n",
       "..         ...   ...       ...\n",
       "496 2019-08-29     B     17708\n",
       "730 2019-08-30     A     18037\n",
       "690 2019-08-30     B     18198\n",
       "958 2019-08-31     A     18736\n",
       "930 2019-08-31     B     18916\n",
       "\n",
       "[62 rows x 3 columns]"
      ]
     },
     "execution_count": 17,
     "metadata": {},
     "output_type": "execute_result"
    }
   ],
   "source": [
    "#Собераем агрегированные кумулятивные по дням данные о посетителях\n",
    "visitors_aggregated = (dates_groups.apply(\n",
    "                     lambda x: visitors[np.logical_and(visitors['date'] <= x['date'], visitors['group'] == x['group'])\n",
    "                     ].agg (\n",
    "                     {'date' : 'max', 'group' : 'max', 'visitors' : 'sum'}\n",
    "                     ),axis=1).sort_values(by=['date','group']))\n",
    "\n",
    "#Вывод результата\n",
    "visitors_aggregated"
   ]
  },
  {
   "cell_type": "code",
   "execution_count": 18,
   "metadata": {},
   "outputs": [],
   "source": [
    "#Объединяем кумулятивные данные в одной таблице и присваиваем ее столбцам понятные названия\n",
    "cumulative_data = orders_aggregated.merge(visitors_aggregated, left_on=['date', 'group'], right_on=['date', 'group'])\n",
    "cumulative_data.columns = ['date', 'group', 'orders', 'buyers', 'revenue', 'visitors']\n"
   ]
  },
  {
   "cell_type": "code",
   "execution_count": 19,
   "metadata": {},
   "outputs": [
    {
     "data": {
      "text/html": [
       "<div>\n",
       "<style scoped>\n",
       "    .dataframe tbody tr th:only-of-type {\n",
       "        vertical-align: middle;\n",
       "    }\n",
       "\n",
       "    .dataframe tbody tr th {\n",
       "        vertical-align: top;\n",
       "    }\n",
       "\n",
       "    .dataframe thead th {\n",
       "        text-align: right;\n",
       "    }\n",
       "</style>\n",
       "<table border=\"1\" class=\"dataframe\">\n",
       "  <thead>\n",
       "    <tr style=\"text-align: right;\">\n",
       "      <th></th>\n",
       "      <th>date</th>\n",
       "      <th>group</th>\n",
       "      <th>orders</th>\n",
       "      <th>buyers</th>\n",
       "      <th>revenue</th>\n",
       "      <th>visitors</th>\n",
       "      <th>conversion</th>\n",
       "    </tr>\n",
       "  </thead>\n",
       "  <tbody>\n",
       "    <tr>\n",
       "      <th>0</th>\n",
       "      <td>2019-08-01</td>\n",
       "      <td>A</td>\n",
       "      <td>24</td>\n",
       "      <td>20</td>\n",
       "      <td>148579</td>\n",
       "      <td>719</td>\n",
       "      <td>0.033</td>\n",
       "    </tr>\n",
       "    <tr>\n",
       "      <th>1</th>\n",
       "      <td>2019-08-01</td>\n",
       "      <td>B</td>\n",
       "      <td>21</td>\n",
       "      <td>20</td>\n",
       "      <td>101217</td>\n",
       "      <td>713</td>\n",
       "      <td>0.029</td>\n",
       "    </tr>\n",
       "    <tr>\n",
       "      <th>2</th>\n",
       "      <td>2019-08-02</td>\n",
       "      <td>A</td>\n",
       "      <td>44</td>\n",
       "      <td>38</td>\n",
       "      <td>242401</td>\n",
       "      <td>1338</td>\n",
       "      <td>0.033</td>\n",
       "    </tr>\n",
       "    <tr>\n",
       "      <th>3</th>\n",
       "      <td>2019-08-02</td>\n",
       "      <td>B</td>\n",
       "      <td>45</td>\n",
       "      <td>43</td>\n",
       "      <td>266748</td>\n",
       "      <td>1294</td>\n",
       "      <td>0.035</td>\n",
       "    </tr>\n",
       "    <tr>\n",
       "      <th>4</th>\n",
       "      <td>2019-08-03</td>\n",
       "      <td>A</td>\n",
       "      <td>68</td>\n",
       "      <td>62</td>\n",
       "      <td>354874</td>\n",
       "      <td>1845</td>\n",
       "      <td>0.037</td>\n",
       "    </tr>\n",
       "    <tr>\n",
       "      <th>...</th>\n",
       "      <td>...</td>\n",
       "      <td>...</td>\n",
       "      <td>...</td>\n",
       "      <td>...</td>\n",
       "      <td>...</td>\n",
       "      <td>...</td>\n",
       "      <td>...</td>\n",
       "    </tr>\n",
       "    <tr>\n",
       "      <th>57</th>\n",
       "      <td>2019-08-29</td>\n",
       "      <td>B</td>\n",
       "      <td>596</td>\n",
       "      <td>544</td>\n",
       "      <td>5559398</td>\n",
       "      <td>17708</td>\n",
       "      <td>0.034</td>\n",
       "    </tr>\n",
       "    <tr>\n",
       "      <th>58</th>\n",
       "      <td>2019-08-30</td>\n",
       "      <td>A</td>\n",
       "      <td>545</td>\n",
       "      <td>493</td>\n",
       "      <td>4022970</td>\n",
       "      <td>18037</td>\n",
       "      <td>0.030</td>\n",
       "    </tr>\n",
       "    <tr>\n",
       "      <th>59</th>\n",
       "      <td>2019-08-30</td>\n",
       "      <td>B</td>\n",
       "      <td>620</td>\n",
       "      <td>567</td>\n",
       "      <td>5774631</td>\n",
       "      <td>18198</td>\n",
       "      <td>0.034</td>\n",
       "    </tr>\n",
       "    <tr>\n",
       "      <th>60</th>\n",
       "      <td>2019-08-31</td>\n",
       "      <td>A</td>\n",
       "      <td>557</td>\n",
       "      <td>503</td>\n",
       "      <td>4084803</td>\n",
       "      <td>18736</td>\n",
       "      <td>0.030</td>\n",
       "    </tr>\n",
       "    <tr>\n",
       "      <th>61</th>\n",
       "      <td>2019-08-31</td>\n",
       "      <td>B</td>\n",
       "      <td>640</td>\n",
       "      <td>586</td>\n",
       "      <td>5907760</td>\n",
       "      <td>18916</td>\n",
       "      <td>0.034</td>\n",
       "    </tr>\n",
       "  </tbody>\n",
       "</table>\n",
       "<p>62 rows × 7 columns</p>\n",
       "</div>"
      ],
      "text/plain": [
       "         date group  orders  buyers  revenue  visitors  conversion\n",
       "0  2019-08-01     A      24      20   148579       719       0.033\n",
       "1  2019-08-01     B      21      20   101217       713       0.029\n",
       "2  2019-08-02     A      44      38   242401      1338       0.033\n",
       "3  2019-08-02     B      45      43   266748      1294       0.035\n",
       "4  2019-08-03     A      68      62   354874      1845       0.037\n",
       "..        ...   ...     ...     ...      ...       ...         ...\n",
       "57 2019-08-29     B     596     544  5559398     17708       0.034\n",
       "58 2019-08-30     A     545     493  4022970     18037       0.030\n",
       "59 2019-08-30     B     620     567  5774631     18198       0.034\n",
       "60 2019-08-31     A     557     503  4084803     18736       0.030\n",
       "61 2019-08-31     B     640     586  5907760     18916       0.034\n",
       "\n",
       "[62 rows x 7 columns]"
      ]
     },
     "execution_count": 19,
     "metadata": {},
     "output_type": "execute_result"
    }
   ],
   "source": [
    "#Расчет конверсии\n",
    "cumulative_data['conversion'] = cumulative_data['orders'] / cumulative_data['visitors']\n",
    "\n",
    "#Вывод результата\n",
    "cumulative_data"
   ]
  },
  {
   "cell_type": "code",
   "execution_count": 20,
   "metadata": {},
   "outputs": [
    {
     "data": {
      "text/plain": [
       "group    58\n",
       "dtype: int64"
      ]
     },
     "execution_count": 20,
     "metadata": {},
     "output_type": "execute_result"
    }
   ],
   "source": [
    "#Проверяем сколько пользователей попали в обе группы\n",
    "orders.groupby('visitor_id').agg({'group' : 'nunique'}).query('group > 1').count()"
   ]
  },
  {
   "cell_type": "markdown",
   "metadata": {},
   "source": [
    "После проверки покупателей на попадание в обе группы, выявлено 58 таких пользователей. Так как таблица по визитам агрегированная, нельзя избавиться от их визитов и с учетом того что данных пользователей не так много, поэтому оставляем их для продолжения теста"
   ]
  },
  {
   "cell_type": "markdown",
   "metadata": {},
   "source": [
    "**Выручка**"
   ]
  },
  {
   "cell_type": "markdown",
   "metadata": {},
   "source": [
    "Постройка графика кумулятивной выручки по группам"
   ]
  },
  {
   "cell_type": "code",
   "execution_count": 21,
   "metadata": {},
   "outputs": [
    {
     "data": {
      "image/png": "[encoded data removed]",
      "text/plain": [
       "<Figure size 720x432 with 1 Axes>"
      ]
     },
     "metadata": {},
     "output_type": "display_data"
    }
   ],
   "source": [
    "#Кумулятивные данные о заказах и выручке по дням в гуппе А\n",
    "cumulative_revenue_a = cumulative_data[cumulative_data['group']=='A'][['date','revenue', 'orders']]\n",
    "\n",
    "#Кумулятивные данные о заказах и выручке по дням в гуппе B\n",
    "cumulative_revenue_b = cumulative_data[cumulative_data['group']=='B'][['date','revenue', 'orders']]\n",
    "\n",
    "#Строим график выручки группы А\n",
    "plt.plot(cumulative_revenue_a['date'], cumulative_revenue_a['revenue'], label='A')\n",
    "\n",
    "#Строим график выручки группы B\n",
    "plt.plot(cumulative_revenue_b['date'], cumulative_revenue_b['revenue'], label='B')\n",
    "\n",
    "plt.title('Кумулятивная выручка по группам А и В')\n",
    "plt.ylabel(\"Выручка, млн.\")\n",
    "plt.xticks(rotation=30)\n",
    "plt.legend()\n",
    "plt.show()"
   ]
  },
  {
   "cell_type": "markdown",
   "metadata": {},
   "source": [
    "**Вывод**\n",
    "\n",
    "По графику выручки можно заметить, что данный показатель растет по обеим группам. По группе А выручка растет равномерно, а по группе B после 17 августа наблюдается резкий скачек, что может свидетельствовать либо о всплеске числа заказов, либо о появлении очень дорогих заказов в выборке"
   ]
  },
  {
   "cell_type": "markdown",
   "metadata": {},
   "source": [
    "**Средний чек**"
   ]
  },
  {
   "cell_type": "code",
   "execution_count": 22,
   "metadata": {},
   "outputs": [
    {
     "data": {
      "image/png": "[encoded data removed]",
      "text/plain": [
       "<Figure size 720x432 with 1 Axes>"
      ]
     },
     "metadata": {},
     "output_type": "display_data"
    }
   ],
   "source": [
    "# Строим график кумулятивного среднего чека\n",
    "plt.plot(cumulative_revenue_a['date'], cumulative_revenue_a['revenue']/cumulative_revenue_a['orders'], label='A')\n",
    "plt.plot(cumulative_revenue_b['date'], cumulative_revenue_b['revenue']/cumulative_revenue_b['orders'], label='B')\n",
    "\n",
    "plt.title('Кумулятивный средний чек по группам А и В')\n",
    "plt.ylabel(\"Выручка, млн.\")\n",
    "plt.xticks(rotation=30)\n",
    "plt.legend()\n",
    "plt.show()"
   ]
  },
  {
   "cell_type": "markdown",
   "metadata": {},
   "source": [
    "**Вывод**\n",
    "\n",
    "Средний чек группы A стабилизируется к середине исследуемого периода, в то время как средний чек группы B взлетает вверх после 17 августа, после чего начинает снижаться. Можно предположит, что это связанно с очень дорогой покупкой"
   ]
  },
  {
   "cell_type": "markdown",
   "metadata": {},
   "source": [
    "**Относительное изменение кумулятивного среднего чека**"
   ]
  },
  {
   "cell_type": "markdown",
   "metadata": {},
   "source": [
    "В связи с попаданием в группу B аномально большого заказа, для получения реального среднего чека, необходимо построить график относительного изменения кумулятивного среднего чека группы B к группе A"
   ]
  },
  {
   "cell_type": "code",
   "execution_count": 23,
   "metadata": {},
   "outputs": [
    {
     "data": {
      "image/png": "[encoded data removed]",
      "text/plain": [
       "<Figure size 720x432 with 1 Axes>"
      ]
     },
     "metadata": {},
     "output_type": "display_data"
    }
   ],
   "source": [
    "#Собираем данные в одном датафрейме\n",
    "merged_cumulative_revenue = cumulative_revenue_a.merge(\n",
    "                            cumulative_revenue_b, left_on='date', right_on='date', how='left', suffixes=['A', 'B'])\n",
    "\n",
    "#Cтроим отношение средних чеков\n",
    "plt.plot(merged_cumulative_revenue['date'], (\n",
    "         merged_cumulative_revenue['revenueB']/merged_cumulative_revenue['ordersB'])/(merged_cumulative_revenue['revenueA']/merged_cumulative_revenue['ordersA'])-1)\n",
    "\n",
    "#Добавляем ось X\n",
    "plt.axhline(y=0, color='black', linestyle='--') \n",
    "plt.title('График изменения кумулятивного среднего чека группы B к группе A')\n",
    "plt.xticks(rotation=30)\n",
    "plt.show()"
   ]
  },
  {
   "cell_type": "markdown",
   "metadata": {},
   "source": [
    "**Вывод**\n",
    "\n",
    "График очень нестабилен, что говорит о наличии аномальных заказов"
   ]
  },
  {
   "cell_type": "markdown",
   "metadata": {},
   "source": [
    "**Кумулятивная конверсия**"
   ]
  },
  {
   "cell_type": "markdown",
   "metadata": {},
   "source": [
    "Построим график кумулятивной конверсии для продолжения анализа по группам"
   ]
  },
  {
   "cell_type": "code",
   "execution_count": 24,
   "metadata": {},
   "outputs": [
    {
     "data": {
      "image/png": "[encoded data removed]",
      "text/plain": [
       "<Figure size 720x432 with 1 Axes>"
      ]
     },
     "metadata": {},
     "output_type": "display_data"
    }
   ],
   "source": [
    "#Выбираме данные по группе A\n",
    "cumulative_data_a = cumulative_data[cumulative_data['group']=='A']\n",
    "\n",
    "#Выбираме данные по группе B\n",
    "cumulative_data_b = cumulative_data[cumulative_data['group']=='B']\n",
    "\n",
    "#Строим графики\n",
    "plt.plot(cumulative_data_a['date'], cumulative_data_a['conversion'], label='A')\n",
    "plt.plot(cumulative_data_b['date'], cumulative_data_b['conversion'], label='B')\n",
    "\n",
    "plt.title('Кумулятивная конверсия по группам А и В')\n",
    "plt.ylabel(\"Выручка, млн.\")\n",
    "plt.xticks(rotation=30)\n",
    "plt.legend()\n",
    "plt.show()"
   ]
  },
  {
   "cell_type": "markdown",
   "metadata": {},
   "source": [
    "**Вывод**\n",
    "\n",
    "В начале очень сильные колебания конверсии, но затем конверсия выравнивается. По обеим группам видны схожие колебания, но конверсия группы B более предпочтительная, хотя в самом начале группа A показывала лучший результат в абсолютных цифрах"
   ]
  },
  {
   "cell_type": "markdown",
   "metadata": {},
   "source": [
    "**Относительное изменение кумулятивного среднего количества заказов** "
   ]
  },
  {
   "cell_type": "markdown",
   "metadata": {},
   "source": [
    "Построим график относительного различия кумулятивных конверсий\n"
   ]
  },
  {
   "cell_type": "code",
   "execution_count": 25,
   "metadata": {},
   "outputs": [
    {
     "data": {
      "image/png": "[encoded data removed]",
      "text/plain": [
       "<Figure size 720x432 with 1 Axes>"
      ]
     },
     "metadata": {},
     "output_type": "display_data"
    }
   ],
   "source": [
    "merged_cumulative_сonversions = (\n",
    "                                cumulative_data_a[['date','conversion']].merge(\n",
    "                                cumulative_data_b[['date','conversion']], \n",
    "                                left_on='date', right_on='date', how='left', suffixes=['A', 'B']))\n",
    "\n",
    "plt.plot(merged_cumulative_сonversions['date'], \n",
    "         merged_cumulative_сonversions['conversionB']/merged_cumulative_сonversions['conversionA']-1)\n",
    "\n",
    "\n",
    "#Добавляем ось X\n",
    "plt.axhline(y=0, color='black', linestyle='--')\n",
    "plt.axhline(y=0.15, color='grey', linestyle='--')\n",
    "plt.title('Относительное изменение конверсии группы B к группе A')\n",
    "plt.xticks(rotation=30)\n",
    "plt.show()\n"
   ]
  },
  {
   "cell_type": "markdown",
   "metadata": {},
   "source": [
    "**Вывод**\n",
    "\n",
    "В самом начале, несмотря на резкий взлет, показатели конверсии группы B были хуже, чем у группы А, но достаточно быстро они пошли вверх, по итогу обойдя группу A на 15%, на пике доходя до 20%. \n",
    "\n",
    "По предыдущим графикам, видно, что в группе B возможны аномальные значения, такие как очень дорогие покупки и большое количество заказов, которые влияют на рассматриваемые метрики. Данные необходимо проанализировать после избавления от выбросов на одного пользователя, для этого нужно проанализировать количество заказов по пользователям и стоимость заказа\n"
   ]
  },
  {
   "cell_type": "markdown",
   "metadata": {},
   "source": [
    "**Количество заказов по пользователям**"
   ]
  },
  {
   "cell_type": "code",
   "execution_count": 26,
   "metadata": {},
   "outputs": [
    {
     "data": {
      "text/plain": [
       "count   1,031.000\n",
       "mean        1.161\n",
       "std         0.725\n",
       "min         1.000\n",
       "25%         1.000\n",
       "50%         1.000\n",
       "75%         1.000\n",
       "max        11.000\n",
       "Name: orders, dtype: float64"
      ]
     },
     "metadata": {},
     "output_type": "display_data"
    },
    {
     "data": {
      "image/png": "[encoded data removed]",
      "text/plain": [
       "<Figure size 720x432 with 1 Axes>"
      ]
     },
     "metadata": {},
     "output_type": "display_data"
    }
   ],
   "source": [
    "#Группировка заказов по пользователям \n",
    "orders_by_users = (orders.groupby('visitor_id', as_index=False).agg({'transaction_id': 'nunique'}))\n",
    "\n",
    "#Переименование столбцов\n",
    "orders_by_users.columns = ['visitor_id', 'orders']\n",
    "\n",
    "#Вывод числового описания данных\n",
    "display(orders_by_users['orders'].describe())\n",
    "\n",
    "#Строим гистограмму\n",
    "plt.hist(orders_by_users['orders'], alpha=0.5) \n",
    "plt.title('Распределение количества заказов по пользователям')\n",
    "plt.xlabel('Количество заказов')\n",
    "plt.ylabel('Количество пользователей')\n",
    "plt.show()\n"
   ]
  },
  {
   "cell_type": "markdown",
   "metadata": {},
   "source": [
    "**Вывод**\n",
    "\n",
    "По данным видно, что среднее и медианное количество заказов совпадает, большинство пользователей совершает 1 заказ, но есть пользователи, которые оформили 11 заказов"
   ]
  },
  {
   "cell_type": "code",
   "execution_count": 27,
   "metadata": {},
   "outputs": [
    {
     "data": {
      "image/png": "[encoded data removed]",
      "text/plain": [
       "<Figure size 720x432 with 1 Axes>"
      ]
     },
     "metadata": {},
     "output_type": "display_data"
    }
   ],
   "source": [
    "#Строим точечную диаграмму\n",
    "x_values = pd.Series(range(0, len(orders_by_users)))\n",
    "plt.scatter(x_values, orders_by_users['orders'])\n",
    "plt.title('Распределение количества заказов по пользователям')\n",
    "plt.show()"
   ]
  },
  {
   "cell_type": "markdown",
   "metadata": {},
   "source": [
    "**Вывод**\n",
    "\n",
    "Графики подтверждают, что большинство пользователей делает 1 заказ. На точечной диаграмме хорошо видны выбросы пользователей, совершивших большое количество заказов, но нельзя с уверенностью сказать являются ли аномальными значениями пользователи, совершившие 2 покупки. Для определения этого, необходимо посчитать 95-й и 99-й перцентили количества заказов на одного пользователя и выбрать границу аномальных значений"
   ]
  },
  {
   "cell_type": "code",
   "execution_count": 28,
   "metadata": {},
   "outputs": [
    {
     "data": {
      "text/plain": [
       "array([2., 4.])"
      ]
     },
     "execution_count": 28,
     "metadata": {},
     "output_type": "execute_result"
    }
   ],
   "source": [
    "#Расчет перцентилей\n",
    "np.percentile(orders_by_users['orders'], [ 95, 99])"
   ]
  },
  {
   "cell_type": "markdown",
   "metadata": {},
   "source": [
    "**Вывод**\n",
    "\n",
    "Не более 5 процентов пользователей совершили более 2-х заказов и не более 1 процента пользователей сделали более 4 покупок. За границу аномального количества заказов на одного пользователя примем 4 покупки"
   ]
  },
  {
   "cell_type": "markdown",
   "metadata": {},
   "source": [
    "**Стоимость заказа**"
   ]
  },
  {
   "cell_type": "code",
   "execution_count": 29,
   "metadata": {},
   "outputs": [
    {
     "data": {
      "text/plain": [
       "count       1,197.000\n",
       "mean        8,348.006\n",
       "std        39,191.132\n",
       "min            50.000\n",
       "25%         1,220.000\n",
       "50%         2,978.000\n",
       "75%         8,290.000\n",
       "max     1,294,500.000\n",
       "Name: revenue, dtype: float64"
      ]
     },
     "metadata": {},
     "output_type": "display_data"
    },
    {
     "data": {
      "image/png": "[encoded data removed]",
      "text/plain": [
       "<Figure size 720x432 with 1 Axes>"
      ]
     },
     "metadata": {},
     "output_type": "display_data"
    }
   ],
   "source": [
    "#Вывод числового описания данных\n",
    "display(orders['revenue'].describe())\n",
    "\n",
    "#Строим гистограмму\n",
    "plt.hist(orders['revenue'], alpha=0.5) \n",
    "plt.title('Распределение стоимости заказов по пользователям')\n",
    "plt.xlabel('Стоимость заказов')\n",
    "plt.ylabel('Количество пользователей')\n",
    "plt.show()"
   ]
  },
  {
   "cell_type": "markdown",
   "metadata": {},
   "source": [
    "**Вывод**\n",
    "\n",
    "Средняя стоимость заказа выше медианного значения почти в 4 раза, что говорит о наличии значительных выбросов. Максимальная стоимость заказа почти 1,3 млн., при том что медианное значение всего 3 тыс."
   ]
  },
  {
   "cell_type": "code",
   "execution_count": 30,
   "metadata": {},
   "outputs": [
    {
     "data": {
      "image/png": "[encoded data removed]",
      "text/plain": [
       "<Figure size 720x432 with 1 Axes>"
      ]
     },
     "metadata": {},
     "output_type": "display_data"
    }
   ],
   "source": [
    "#Строим точечную диаграмму\n",
    "x_values = pd.Series(range(0, len(orders['revenue'])))\n",
    "plt.scatter(x_values, orders['revenue'])\n",
    "plt.title('Распределение стоимости заказов по пользователям')\n",
    "plt.show()"
   ]
  },
  {
   "cell_type": "markdown",
   "metadata": {},
   "source": [
    "**Вывод**\n",
    "\n",
    "На точечной диаграмме хорошо виден отмеченный ранее выброс в 1,3 млн., который влияет на показатели метрик. Также имеются ещё менее значительные выбросы. Для более точного определения границ аномальных значений, рассчитаем 95-й и 99-й перцентили стоимости заказов на одного пользователя"
   ]
  },
  {
   "cell_type": "code",
   "execution_count": 31,
   "metadata": {},
   "outputs": [
    {
     "data": {
      "text/plain": [
       "array([28000. , 58233.2])"
      ]
     },
     "execution_count": 31,
     "metadata": {},
     "output_type": "execute_result"
    }
   ],
   "source": [
    "#Расчет перцентилей\n",
    "np.percentile(orders['revenue'], [ 95, 99])"
   ]
  },
  {
   "cell_type": "markdown",
   "metadata": {},
   "source": [
    "За границу аномальных значений стоимости заказа берем 99 перцентиль, т.е. 58233"
   ]
  },
  {
   "cell_type": "markdown",
   "metadata": {},
   "source": [
    "**Анализ статистической значимости в среднем количестве заказов**"
   ]
  },
  {
   "cell_type": "markdown",
   "metadata": {},
   "source": [
    "После расчета кумулятивных метрик и анализа графиков, в данных обнаружены выбросы и определены границы аномальных значений. Для дальнейшего анализа необходимо рассчитать статистическую значимость различий в среднем количестве заказов на пользователя между группами по «сырым» данным — без удаления аномальных пользователей.\n",
    "\n",
    "Сформулируем гипотезы:\n",
    "\n",
    "Нулевая гипотеза - различий в среднем количестве заказов между группами нет\n",
    "\n",
    "Альтернативная гипотеза - различия в среднем количестве заказов между группами есть\n",
    "\n",
    "Уровень значимости - 0.05\n",
    "\n",
    "Так как в данных имеются значитальные выбросы для проверки гипотез используем непараметрический тест Уилкоксона-Манна-Уитни\n"
   ]
  },
  {
   "cell_type": "code",
   "execution_count": 32,
   "metadata": {},
   "outputs": [
    {
     "data": {
      "text/html": [
       "<div>\n",
       "<style scoped>\n",
       "    .dataframe tbody tr th:only-of-type {\n",
       "        vertical-align: middle;\n",
       "    }\n",
       "\n",
       "    .dataframe tbody tr th {\n",
       "        vertical-align: top;\n",
       "    }\n",
       "\n",
       "    .dataframe thead th {\n",
       "        text-align: right;\n",
       "    }\n",
       "</style>\n",
       "<table border=\"1\" class=\"dataframe\">\n",
       "  <thead>\n",
       "    <tr style=\"text-align: right;\">\n",
       "      <th></th>\n",
       "      <th>date</th>\n",
       "      <th>orders_per_date_a</th>\n",
       "      <th>revenue_per_date_a</th>\n",
       "      <th>orders_per_date_b</th>\n",
       "      <th>revenue_per_date_b</th>\n",
       "      <th>orders_cummulative_a</th>\n",
       "      <th>revenue_cummulative_a</th>\n",
       "      <th>orders_cummulative_b</th>\n",
       "      <th>revenue_cummulative_b</th>\n",
       "      <th>visitors_per_date_a</th>\n",
       "      <th>visitors_per_date_b</th>\n",
       "      <th>visitors_cummulative_a</th>\n",
       "      <th>visitors_cummulative_b</th>\n",
       "    </tr>\n",
       "  </thead>\n",
       "  <tbody>\n",
       "    <tr>\n",
       "      <th>0</th>\n",
       "      <td>2019-08-01</td>\n",
       "      <td>24</td>\n",
       "      <td>148579</td>\n",
       "      <td>21</td>\n",
       "      <td>101217</td>\n",
       "      <td>24</td>\n",
       "      <td>148579</td>\n",
       "      <td>21</td>\n",
       "      <td>101217</td>\n",
       "      <td>719</td>\n",
       "      <td>713</td>\n",
       "      <td>719</td>\n",
       "      <td>713</td>\n",
       "    </tr>\n",
       "    <tr>\n",
       "      <th>1</th>\n",
       "      <td>2019-08-02</td>\n",
       "      <td>20</td>\n",
       "      <td>93822</td>\n",
       "      <td>24</td>\n",
       "      <td>165531</td>\n",
       "      <td>44</td>\n",
       "      <td>242401</td>\n",
       "      <td>45</td>\n",
       "      <td>266748</td>\n",
       "      <td>619</td>\n",
       "      <td>581</td>\n",
       "      <td>1338</td>\n",
       "      <td>1294</td>\n",
       "    </tr>\n",
       "    <tr>\n",
       "      <th>2</th>\n",
       "      <td>2019-08-03</td>\n",
       "      <td>24</td>\n",
       "      <td>112473</td>\n",
       "      <td>16</td>\n",
       "      <td>114248</td>\n",
       "      <td>68</td>\n",
       "      <td>354874</td>\n",
       "      <td>61</td>\n",
       "      <td>380996</td>\n",
       "      <td>507</td>\n",
       "      <td>509</td>\n",
       "      <td>1845</td>\n",
       "      <td>1803</td>\n",
       "    </tr>\n",
       "    <tr>\n",
       "      <th>3</th>\n",
       "      <td>2019-08-04</td>\n",
       "      <td>16</td>\n",
       "      <td>70825</td>\n",
       "      <td>17</td>\n",
       "      <td>108571</td>\n",
       "      <td>84</td>\n",
       "      <td>425699</td>\n",
       "      <td>78</td>\n",
       "      <td>489567</td>\n",
       "      <td>717</td>\n",
       "      <td>770</td>\n",
       "      <td>2562</td>\n",
       "      <td>2573</td>\n",
       "    </tr>\n",
       "    <tr>\n",
       "      <th>4</th>\n",
       "      <td>2019-08-05</td>\n",
       "      <td>25</td>\n",
       "      <td>124218</td>\n",
       "      <td>23</td>\n",
       "      <td>92428</td>\n",
       "      <td>109</td>\n",
       "      <td>549917</td>\n",
       "      <td>101</td>\n",
       "      <td>581995</td>\n",
       "      <td>756</td>\n",
       "      <td>707</td>\n",
       "      <td>3318</td>\n",
       "      <td>3280</td>\n",
       "    </tr>\n",
       "  </tbody>\n",
       "</table>\n",
       "</div>"
      ],
      "text/plain": [
       "        date  orders_per_date_a  revenue_per_date_a  orders_per_date_b  \\\n",
       "0 2019-08-01                 24              148579                 21   \n",
       "1 2019-08-02                 20               93822                 24   \n",
       "2 2019-08-03                 24              112473                 16   \n",
       "3 2019-08-04                 16               70825                 17   \n",
       "4 2019-08-05                 25              124218                 23   \n",
       "\n",
       "   revenue_per_date_b  orders_cummulative_a  revenue_cummulative_a  \\\n",
       "0              101217                    24                 148579   \n",
       "1              165531                    44                 242401   \n",
       "2              114248                    68                 354874   \n",
       "3              108571                    84                 425699   \n",
       "4               92428                   109                 549917   \n",
       "\n",
       "   orders_cummulative_b  revenue_cummulative_b  visitors_per_date_a  \\\n",
       "0                    21                 101217                  719   \n",
       "1                    45                 266748                  619   \n",
       "2                    61                 380996                  507   \n",
       "3                    78                 489567                  717   \n",
       "4                   101                 581995                  756   \n",
       "\n",
       "   visitors_per_date_b  visitors_cummulative_a  visitors_cummulative_b  \n",
       "0                  713                     719                     713  \n",
       "1                  581                    1338                    1294  \n",
       "2                  509                    1845                    1803  \n",
       "3                  770                    2562                    2573  \n",
       "4                  707                    3318                    3280  "
      ]
     },
     "execution_count": 32,
     "metadata": {},
     "output_type": "execute_result"
    }
   ],
   "source": [
    "#Подготовка данных\n",
    "visitors_daily_a = visitors[visitors['group'] == 'A'][['date', 'visitors']]\n",
    "visitors_daily_a.columns = ['date', 'visitors_per_date_a']\n",
    "\n",
    "visitors_cummulative_a = visitors_daily_a.apply(\n",
    "    lambda x: visitors_daily_a[visitors_daily_a['date'] <= x['date']].agg(\n",
    "        {'date': 'max', 'visitors_per_date_a': 'sum'}\n",
    "    ),\n",
    "    axis=1,\n",
    ")\n",
    "\n",
    "visitors_cummulative_a.columns = ['date', 'visitors_cummulative_a']\n",
    "\n",
    "visitors_daily_b = visitors[visitors['group'] == 'B'][['date', 'visitors']]\n",
    "visitors_daily_b.columns = ['date', 'visitors_per_date_b']\n",
    "\n",
    "visitors_cummulative_b = visitors_daily_b.apply(\n",
    "    lambda x: visitors_daily_b[visitors_daily_b['date'] <= x['date']].agg(\n",
    "        {'date': 'max', 'visitors_per_date_b': 'sum'}\n",
    "    ),\n",
    "    axis=1,\n",
    ")\n",
    "\n",
    "visitors_cummulative_b.columns = ['date', 'visitors_cummulative_b']\n",
    "\n",
    "orders_daily_a = (\n",
    "    orders[orders['group'] == 'A'][['date', 'transaction_id', 'visitor_id', 'revenue']]\n",
    "    .groupby('date', as_index=False)\n",
    "    .agg({'transaction_id': pd.Series.nunique, 'revenue': 'sum'})\n",
    ")\n",
    "orders_daily_a.columns = ['date', 'orders_per_date_a', 'revenue_per_date_a']\n",
    "\n",
    "orders_cummulative_a = orders_daily_a.apply(\n",
    "    lambda x: orders_daily_a[orders_daily_a['date'] <= x['date']].agg(\n",
    "        {'date': 'max', 'orders_per_date_a': 'sum', 'revenue_per_date_a': 'sum'}\n",
    "    ),\n",
    "    axis=1,\n",
    ").sort_values(by=['date'])\n",
    "orders_cummulative_a.columns = ['date','orders_cummulative_a','revenue_cummulative_a',]\n",
    "\n",
    "orders_daily_b = (\n",
    "    orders[orders['group'] == 'B'][['date', 'transaction_id', 'visitor_id', 'revenue']]\n",
    "    .groupby('date', as_index=False)\n",
    "    .agg({'transaction_id': pd.Series.nunique, 'revenue': 'sum'})\n",
    ")\n",
    "orders_daily_b.columns = ['date', 'orders_per_date_b', 'revenue_per_date_b']\n",
    "\n",
    "orders_cummulative_b = orders_daily_b.apply(\n",
    "    lambda x: orders_daily_b[orders_daily_b['date'] <= x['date']].agg(\n",
    "        {'date': 'max', 'orders_per_date_b': 'sum', 'revenue_per_date_b': 'sum'}\n",
    "    ),\n",
    "    axis=1,\n",
    ").sort_values(by=['date'])\n",
    "orders_cummulative_b.columns = ['date','orders_cummulative_b','revenue_cummulative_b',]\n",
    "\n",
    "data = (\n",
    "    orders_daily_a.merge(\n",
    "        orders_daily_b, left_on='date', right_on='date', how='left'\n",
    "    )\n",
    "    .merge(orders_cummulative_a, left_on='date', right_on='date', how='left')\n",
    "    .merge(orders_cummulative_b, left_on='date', right_on='date', how='left')\n",
    "    .merge(visitors_daily_a, left_on='date', right_on='date', how='left')\n",
    "    .merge(visitors_daily_b, left_on='date', right_on='date', how='left')\n",
    "    .merge(visitors_cummulative_a, left_on='date', right_on='date', how='left')\n",
    "    .merge(visitors_cummulative_b, left_on='date', right_on='date', how='left')\n",
    ")\n",
    "\n",
    "#Вывод полученной таблицы\n",
    "data.head()"
   ]
  },
  {
   "cell_type": "markdown",
   "metadata": {},
   "source": [
    "Создадим переменные, где для пользователей, совершивших хотя бы 1 заказ, будет указано число заказов "
   ]
  },
  {
   "cell_type": "code",
   "execution_count": 33,
   "metadata": {},
   "outputs": [],
   "source": [
    "#Создание переменных\n",
    "orders_by_users_a = (orders[orders['group'] == 'A'].groupby('visitor_id', as_index=False).agg({'transaction_id': pd.Series.nunique}))\n",
    "orders_by_users_a.columns = ['visitor_id', 'orders']\n",
    "\n",
    "orders_by_users_b = (orders[orders['group'] == 'B'].groupby('visitor_id', as_index=False).agg({'transaction_id': pd.Series.nunique}))\n",
    "orders_by_users_b.columns = ['visitor_id', 'orders']"
   ]
  },
  {
   "cell_type": "markdown",
   "metadata": {},
   "source": [
    "Создадим переменные, в которых пользователям с заказами будет соответствовать число заказов пользователя. А пользователям без заказов — нули"
   ]
  },
  {
   "cell_type": "code",
   "execution_count": 34,
   "metadata": {},
   "outputs": [],
   "source": [
    "sample_a = pd.concat(\n",
    "           [orders_by_users_a['orders'],pd.Series(\n",
    "           0, index=np.arange(data['visitors_per_date_a'].sum() - len(orders_by_users_a['orders'])), name='orders')],axis=0)\n",
    "\n",
    "sample_b = pd.concat(\n",
    "           [orders_by_users_b['orders'],pd.Series(\n",
    "           0, index=np.arange(data['visitors_per_date_b'].sum() - len(orders_by_users_b['orders'])), name='orders')],axis=0)\n"
   ]
  },
  {
   "cell_type": "markdown",
   "metadata": {},
   "source": [
    "Рассчитаем статистическую значимость различия среднего количества заказов, применив тест Манна-Уитни "
   ]
  },
  {
   "cell_type": "code",
   "execution_count": 35,
   "metadata": {},
   "outputs": [
    {
     "name": "stdout",
     "output_type": "stream",
     "text": [
      "P-value: 0.01679\n",
      "Относительный прирост В к А: 0.138\n"
     ]
    }
   ],
   "source": [
    "#Расчет статистической значимости\n",
    "print('P-value:',\"{0:.5f}\".format(stats.mannwhitneyu(sample_a, sample_b)[1]))\n",
    "\n",
    "print('Относительный прирост В к А:',\"{0:.3f}\".format((data['orders_per_date_b'].sum()/data['visitors_per_date_b'].sum())/(data['orders_per_date_a'].sum()/data['visitors_per_date_a'].sum())-1))"
   ]
  },
  {
   "cell_type": "markdown",
   "metadata": {},
   "source": [
    "**Вывод**\n",
    "\n",
    "P-value = 0.017, что меньше 0.05. Таким образом, отвергаем нулевую гипотезу, между группами есть разница. Конверсия группы B выше на 13.8% чем у группы A"
   ]
  },
  {
   "cell_type": "markdown",
   "metadata": {},
   "source": [
    "**Анализ статистической значимости в среднем чеке заказа**"
   ]
  },
  {
   "cell_type": "markdown",
   "metadata": {},
   "source": [
    "Рассчитаем статистическую значимость различий в среднем чеке заказа на пользователя между группами по «сырым» данным\n",
    "\n",
    "Нулевая гипотеза - различий в среднем чеке заказа между группами нет\n",
    "\n",
    "Альтернативная гипотеза - различия в среднем чеке заказа между группами есть\n",
    "\n",
    "Уровень значимости - 0.05\n",
    "\n",
    "Для проверки гипотез используем непараметрический тест Уилкоксона-Манна-Уитни"
   ]
  },
  {
   "cell_type": "code",
   "execution_count": 36,
   "metadata": {},
   "outputs": [
    {
     "name": "stdout",
     "output_type": "stream",
     "text": [
      "P-value: 0.729\n",
      "Относительный прирост В к А: 0.259\n"
     ]
    }
   ],
   "source": [
    "#Расчет статистической значимости\n",
    "print('P-value:','{0:.3f}'.format(stats.mannwhitneyu(orders[orders['group']=='A']['revenue'], orders[orders['group']=='B']['revenue'])[1]))\n",
    "\n",
    "print('Относительный прирост В к А:','{0:.3f}'.format(orders[orders['group']=='B']['revenue'].mean()/orders[orders['group']=='A']['revenue'].mean()-1)) "
   ]
  },
  {
   "cell_type": "markdown",
   "metadata": {},
   "source": [
    "P-value 0.729 больше 0.05, значит причин отвергать нулевую гипотезу нет, т.е. различий в среднем чеке заказа между группами нет. Но стоит отметить, что средний чек группы B значительно выше среднего чека группы A, на 25,9% Это можно объяснить наличием выбросов именно у пользователей в группе B"
   ]
  },
  {
   "cell_type": "markdown",
   "metadata": {},
   "source": [
    "**Анализ статистической значимости в среднем количестве заказов без учета аномальных значений**"
   ]
  },
  {
   "cell_type": "markdown",
   "metadata": {},
   "source": [
    "Как было принято ранее, аномальным количеством заказов считаем тех пользователей, которые совершили более 4 заказов или сделали заказ дороже 58233. Создадим переменные в которые сохраним пользователей с аномальными значениями"
   ]
  },
  {
   "cell_type": "code",
   "execution_count": 37,
   "metadata": {},
   "outputs": [
    {
     "data": {
      "text/plain": [
       "1099     148427295\n",
       "949      887908475\n",
       "744      888512513\n",
       "1103    1164614297\n",
       "1136    1307669133\n",
       "858     1316129916\n",
       "425     1920142716\n",
       "227     2038680547\n",
       "1196    2108080724\n",
       "326     2378935119\n",
       "278     2458001652\n",
       "940     4003628586\n",
       "743     4133034833\n",
       "499     4256040402\n",
       "662     4266935830\n",
       "Name: visitor_id, dtype: int64"
      ]
     },
     "execution_count": 37,
     "metadata": {},
     "output_type": "execute_result"
    }
   ],
   "source": [
    "#Создание переменных верхней границы значений\n",
    "upper_bound_orders = np.percentile(orders_by_users['orders'], 99)\n",
    "upper_bound_revenue = np.percentile(orders['revenue'], 99)\n",
    "\n",
    "#Подготовка данных\n",
    "users_with_many_orders = pd.concat(\n",
    "    [\n",
    "        orders_by_users_a[orders_by_users_a['orders'] > upper_bound_orders]['visitor_id'],\n",
    "        orders_by_users_b[orders_by_users_b['orders'] > upper_bound_orders]['visitor_id'],\n",
    "    ],\n",
    "    axis=0,\n",
    ")\n",
    "\n",
    "users_with_expensive_orders = orders[orders['revenue'] > upper_bound_revenue]['visitor_id']\n",
    "\n",
    "abnormal_users = (\n",
    "    pd.concat([users_with_many_orders, users_with_expensive_orders], axis=0)\n",
    "    .drop_duplicates()\n",
    "    .sort_values()\n",
    ")\n",
    "\n",
    "abnormal_users"
   ]
  },
  {
   "cell_type": "markdown",
   "metadata": {},
   "source": [
    "Посчитаем статистическую значимость различий в конверсии между группами теста по очищенным данным. Для этого подготовим выборки количества заказов по пользователям для каждой группы\n",
    "\n",
    "Сформулируем гипотезы:\n",
    "\n",
    "Нулевая гипотеза - различий в среднем количестве заказов между группами нет\n",
    "\n",
    "Альтернативная гипотеза - различия в среднем количестве заказов между группами есть\n",
    "\n",
    "Уровень значимости - 0.05"
   ]
  },
  {
   "cell_type": "code",
   "execution_count": 38,
   "metadata": {},
   "outputs": [],
   "source": [
    "#Создание переменных без учета выбросов\n",
    "sample_a_filtered = pd.concat(\n",
    "    [orders_by_users_a[np.logical_not(orders_by_users_a['visitor_id'].isin(abnormal_users))\n",
    "        ]['orders'],pd.Series(0,index=np.arange(\n",
    "                data['visitors_per_date_a'].sum() - len(orders_by_users_a['orders'])),name='orders',),],axis=0,)\n",
    "\n",
    "sample_b_filtered = pd.concat(\n",
    "    [orders_by_users_b[np.logical_not(orders_by_users_b['visitor_id'].isin(abnormal_users))\n",
    "        ]['orders'],pd.Series(0,index=np.arange(\n",
    "                data['visitors_per_date_b'].sum() - len(orders_by_users_b['orders'])),name='orders',),],axis=0,)"
   ]
  },
  {
   "cell_type": "code",
   "execution_count": 39,
   "metadata": {},
   "outputs": [
    {
     "name": "stdout",
     "output_type": "stream",
     "text": [
      "P-value: 0.01438\n",
      "Относительный прирост В к А: 0.153\n"
     ]
    }
   ],
   "source": [
    "#Расчет статистической значимости\n",
    "print('P-value:', '{0:.5f}'.format(stats.mannwhitneyu(sample_a_filtered, sample_b_filtered)[1]))\n",
    "print('Относительный прирост В к А:','{0:.3f}'.format(sample_b_filtered.mean()/sample_a_filtered.mean()-1)) \n"
   ]
  },
  {
   "cell_type": "markdown",
   "metadata": {},
   "source": [
    "P-value = 0.014, что меньше 0.05. Таким образом, отвергаем нулевую гипотезу, между группами есть разница. Конверсия группы B по \"очищенным\" данным увеличилась до 15.3% по сравнению с группой А"
   ]
  },
  {
   "cell_type": "markdown",
   "metadata": {},
   "source": [
    "**Анализ статистической значимости в среднем чеке заказа без учета аномальных значений**"
   ]
  },
  {
   "cell_type": "markdown",
   "metadata": {},
   "source": [
    "Подсчитаем статистическую значимость различий в среднем чеке после удаления аномальных пользователей\n",
    "\n",
    "Сформулируем гипотезы:\n",
    "\n",
    "Нулевая гипотеза - различий в среднем чеке заказа между группами нет\n",
    "\n",
    "Альтернативная гипотеза - различия в среднем чеке заказа между группами есть\n",
    "\n",
    "Уровень значимости - 0.05"
   ]
  },
  {
   "cell_type": "code",
   "execution_count": 40,
   "metadata": {},
   "outputs": [
    {
     "name": "stdout",
     "output_type": "stream",
     "text": [
      "P-value: 0.851\n",
      "Относительный прирост В к А: -0.006\n"
     ]
    }
   ],
   "source": [
    "print('P-value:', '{0:.3f}'.format(stats.mannwhitneyu(orders[np.logical_and(orders['group'] == 'A',\n",
    "                    np.logical_not(orders['visitor_id'].isin(abnormal_users)),)]['revenue'],\n",
    "                    orders[np.logical_and(orders['group'] == 'B',\n",
    "                    np.logical_not(orders['visitor_id'].isin(abnormal_users)),)]['revenue'],)[1]))\n",
    "\n",
    "print('Относительный прирост В к А:', \"{0:.3f}\".format(orders[np.logical_and(orders['group'] == 'B',\n",
    "                np.logical_not(orders['visitor_id'].isin(abnormal_users)),)]['revenue'].mean()\n",
    "                / orders[np.logical_and(orders['group'] == 'A',\n",
    "                np.logical_not(orders['visitor_id'].isin(abnormal_users)),)]['revenue'].mean()- 1)) "
   ]
  },
  {
   "cell_type": "markdown",
   "metadata": {},
   "source": [
    "**Вывод**\n",
    "\n",
    "P-value 0.851 больше 0.05, значит причин отвергать нулевую гипотезу нет, т.е. различий в среднем чеке заказа по данным без выбросов между группами нет. По разнице средних чеков групп показатели практически одинаковые результат"
   ]
  },
  {
   "cell_type": "markdown",
   "metadata": {},
   "source": [
    "**Общий вывод**"
   ]
  },
  {
   "cell_type": "markdown",
   "metadata": {},
   "source": [
    "На основании данных предоставленных интернет-магазином, были проанализированы гипотезы для увеличения выручки, а также проведен A/B-тест\n",
    "\n",
    "1. Приоритизация гипотез: \n",
    "\n",
    "Без учета охвата пользователей приоритетными гипотезами являются: \n",
    " - Запустить акцию, дающую скидку на товар в день рождения;\n",
    " - Добавить два новых канала привлечения трафика, что позволит привлекать на 30% больше пользователей;\n",
    " - Добавить форму подписки на все основные страницы, чтобы собрать базу клиентов для email-рассылок.\n",
    "\n",
    "Если учитывать охват пользователей интернет-магазина, то приоритетными гипотезами являются:\n",
    " - Добавить форму подписки на все основные страницы, чтобы собрать базу клиентов для email-рассылок;\n",
    " - Добавить блоки рекомендаций товаров на сайт интернет магазина, чтобы повысить конверсию и средний чек заказа;\n",
    " - Добавить два новых канала привлечения трафика, что позволит привлекать на 30% больше пользователей.\n",
    "\n",
    "Таким образом, для привлечения новых клиентов можно использовать о акцию, дающую скидку на товар в день рождения, а для уже зарегистрированных пользователей пользоваться email-рассылками\n",
    "\n",
    "1. А/В тест:\n",
    "\n",
    " - Есть статистически значимое различие по конверсии между группами как по сырым данным, так и после фильтрации аномалий. Конверсия группы В выше, чем в А, на 14-15%;\n",
    " \n",
    " - По сырым данным нет статистически значимого различия по среднему чеку между группами. На очищенных данных такой же результат;\n",
    " \n",
    " - График относительного изменения кумулятивной конверсии группы B к группе A показывает, что результаты группы В стабильно лучше группы А.\n",
    " \n",
    "Таким образом, можно остановить тест, зафиксировав победу группы B (ее конверсия значительно выше конверсии группы А)"
   ]
  }
 ],
 "metadata": {
  "ExecuteTimeLog": [
   {
    "duration": 241,
    "start_time": "2023-07-18T04:54:39.559Z"
   },
   {
    "duration": 45,
    "start_time": "2023-07-18T04:54:55.025Z"
   },
   {
    "duration": 379,
    "start_time": "2023-07-18T04:55:02.570Z"
   },
   {
    "duration": 69,
    "start_time": "2023-07-18T04:55:02.951Z"
   },
   {
    "duration": 155,
    "start_time": "2023-07-18T04:56:15.118Z"
   },
   {
    "duration": 20,
    "start_time": "2023-07-18T04:56:50.226Z"
   },
   {
    "duration": 13,
    "start_time": "2023-07-18T05:00:54.362Z"
   },
   {
    "duration": 18,
    "start_time": "2023-07-18T05:03:50.071Z"
   },
   {
    "duration": 19,
    "start_time": "2023-07-18T05:04:09.639Z"
   },
   {
    "duration": 457,
    "start_time": "2023-07-18T05:04:29.141Z"
   },
   {
    "duration": 79,
    "start_time": "2023-07-18T05:04:29.600Z"
   },
   {
    "duration": 23,
    "start_time": "2023-07-18T05:04:29.681Z"
   },
   {
    "duration": 17,
    "start_time": "2023-07-18T05:04:29.705Z"
   },
   {
    "duration": 28,
    "start_time": "2023-07-18T05:04:41.746Z"
   },
   {
    "duration": 18,
    "start_time": "2023-07-18T05:05:33.849Z"
   },
   {
    "duration": 23,
    "start_time": "2023-07-18T05:05:46.435Z"
   },
   {
    "duration": 19,
    "start_time": "2023-07-18T05:06:21.580Z"
   },
   {
    "duration": 9,
    "start_time": "2023-07-18T05:06:22.347Z"
   },
   {
    "duration": 7,
    "start_time": "2023-07-18T05:06:50.809Z"
   },
   {
    "duration": 9,
    "start_time": "2023-07-18T05:07:04.008Z"
   },
   {
    "duration": 20,
    "start_time": "2023-07-18T05:07:53.306Z"
   },
   {
    "duration": 12,
    "start_time": "2023-07-18T05:08:14.408Z"
   },
   {
    "duration": 15,
    "start_time": "2023-07-18T05:08:30.397Z"
   },
   {
    "duration": 390,
    "start_time": "2023-07-18T05:09:07.666Z"
   },
   {
    "duration": 98,
    "start_time": "2023-07-18T05:09:08.058Z"
   },
   {
    "duration": 29,
    "start_time": "2023-07-18T05:09:08.159Z"
   },
   {
    "duration": 27,
    "start_time": "2023-07-18T05:09:08.191Z"
   },
   {
    "duration": 26,
    "start_time": "2023-07-18T05:09:08.220Z"
   },
   {
    "duration": 11,
    "start_time": "2023-07-18T05:10:01.600Z"
   },
   {
    "duration": 12,
    "start_time": "2023-07-18T05:10:21.332Z"
   },
   {
    "duration": 92,
    "start_time": "2023-07-18T05:16:55.895Z"
   },
   {
    "duration": 8,
    "start_time": "2023-07-18T05:17:03.600Z"
   },
   {
    "duration": 12,
    "start_time": "2023-07-18T05:18:16.364Z"
   },
   {
    "duration": 5,
    "start_time": "2023-07-18T05:18:25.473Z"
   },
   {
    "duration": 9,
    "start_time": "2023-07-18T05:22:03.703Z"
   },
   {
    "duration": 25,
    "start_time": "2023-07-18T05:23:58.346Z"
   },
   {
    "duration": 16,
    "start_time": "2023-07-18T05:24:19.254Z"
   },
   {
    "duration": 13,
    "start_time": "2023-07-18T05:24:24.493Z"
   },
   {
    "duration": 10,
    "start_time": "2023-07-18T05:24:27.815Z"
   },
   {
    "duration": 49,
    "start_time": "2023-07-18T19:22:03.712Z"
   },
   {
    "duration": 6,
    "start_time": "2023-07-18T19:22:25.247Z"
   },
   {
    "duration": 436,
    "start_time": "2023-07-18T19:22:32.214Z"
   },
   {
    "duration": 269,
    "start_time": "2023-07-18T19:22:32.652Z"
   },
   {
    "duration": 24,
    "start_time": "2023-07-18T19:22:32.923Z"
   },
   {
    "duration": 28,
    "start_time": "2023-07-18T19:22:32.950Z"
   },
   {
    "duration": 23,
    "start_time": "2023-07-18T19:22:32.981Z"
   },
   {
    "duration": 29,
    "start_time": "2023-07-18T19:22:33.006Z"
   },
   {
    "duration": 27,
    "start_time": "2023-07-18T19:22:33.036Z"
   },
   {
    "duration": 11,
    "start_time": "2023-07-18T19:22:33.065Z"
   },
   {
    "duration": 16,
    "start_time": "2023-07-18T19:22:33.078Z"
   },
   {
    "duration": 27,
    "start_time": "2023-07-18T19:22:33.095Z"
   },
   {
    "duration": 15,
    "start_time": "2023-07-18T19:27:59.517Z"
   },
   {
    "duration": 66,
    "start_time": "2023-07-18T19:28:12.922Z"
   },
   {
    "duration": 777,
    "start_time": "2023-07-18T19:28:22.600Z"
   },
   {
    "duration": 88,
    "start_time": "2023-07-18T19:28:23.380Z"
   },
   {
    "duration": 19,
    "start_time": "2023-07-18T19:28:23.469Z"
   },
   {
    "duration": 22,
    "start_time": "2023-07-18T19:28:23.489Z"
   },
   {
    "duration": 18,
    "start_time": "2023-07-18T19:28:23.513Z"
   },
   {
    "duration": 29,
    "start_time": "2023-07-18T19:28:23.532Z"
   },
   {
    "duration": 9,
    "start_time": "2023-07-18T19:28:23.562Z"
   },
   {
    "duration": 5,
    "start_time": "2023-07-18T19:28:23.572Z"
   },
   {
    "duration": 6,
    "start_time": "2023-07-18T19:28:23.579Z"
   },
   {
    "duration": 12,
    "start_time": "2023-07-18T19:28:23.587Z"
   },
   {
    "duration": 196,
    "start_time": "2023-07-18T19:28:23.600Z"
   },
   {
    "duration": 290,
    "start_time": "2023-07-18T19:30:04.528Z"
   },
   {
    "duration": 599,
    "start_time": "2023-07-18T19:30:12.574Z"
   },
   {
    "duration": 87,
    "start_time": "2023-07-18T19:30:13.174Z"
   },
   {
    "duration": 17,
    "start_time": "2023-07-18T19:30:13.263Z"
   },
   {
    "duration": 16,
    "start_time": "2023-07-18T19:30:13.281Z"
   },
   {
    "duration": 14,
    "start_time": "2023-07-18T19:30:13.300Z"
   },
   {
    "duration": 24,
    "start_time": "2023-07-18T19:30:13.315Z"
   },
   {
    "duration": 11,
    "start_time": "2023-07-18T19:30:13.344Z"
   },
   {
    "duration": 11,
    "start_time": "2023-07-18T19:30:13.357Z"
   },
   {
    "duration": 17,
    "start_time": "2023-07-18T19:30:13.370Z"
   },
   {
    "duration": 15,
    "start_time": "2023-07-18T19:30:13.389Z"
   },
   {
    "duration": 243,
    "start_time": "2023-07-18T19:30:13.406Z"
   },
   {
    "duration": 99,
    "start_time": "2023-07-18T19:30:27.814Z"
   },
   {
    "duration": 99,
    "start_time": "2023-07-18T19:30:34.324Z"
   },
   {
    "duration": 141,
    "start_time": "2023-07-18T19:30:41.845Z"
   },
   {
    "duration": 13,
    "start_time": "2023-07-18T19:31:33.990Z"
   },
   {
    "duration": 284,
    "start_time": "2023-07-18T19:31:52.463Z"
   },
   {
    "duration": 171,
    "start_time": "2023-07-18T19:33:24.757Z"
   },
   {
    "duration": 346,
    "start_time": "2023-07-18T19:34:34.175Z"
   },
   {
    "duration": 336,
    "start_time": "2023-07-18T19:34:48.961Z"
   },
   {
    "duration": 103,
    "start_time": "2023-07-18T19:35:27.585Z"
   },
   {
    "duration": 370,
    "start_time": "2023-07-18T19:35:38.013Z"
   },
   {
    "duration": 244,
    "start_time": "2023-07-18T19:35:48.970Z"
   },
   {
    "duration": 13,
    "start_time": "2023-07-18T19:39:04.686Z"
   },
   {
    "duration": 249,
    "start_time": "2023-07-18T19:40:21.729Z"
   },
   {
    "duration": 256,
    "start_time": "2023-07-18T19:51:52.602Z"
   },
   {
    "duration": 246,
    "start_time": "2023-07-18T19:52:06.347Z"
   },
   {
    "duration": 5,
    "start_time": "2023-07-18T19:52:16.904Z"
   },
   {
    "duration": 52,
    "start_time": "2023-07-19T05:02:27.226Z"
   },
   {
    "duration": 963,
    "start_time": "2023-07-19T05:02:38.768Z"
   },
   {
    "duration": 197,
    "start_time": "2023-07-19T05:02:39.734Z"
   },
   {
    "duration": 32,
    "start_time": "2023-07-19T05:02:39.933Z"
   },
   {
    "duration": 34,
    "start_time": "2023-07-19T05:02:39.967Z"
   },
   {
    "duration": 26,
    "start_time": "2023-07-19T05:02:40.004Z"
   },
   {
    "duration": 49,
    "start_time": "2023-07-19T05:02:40.032Z"
   },
   {
    "duration": 16,
    "start_time": "2023-07-19T05:02:40.083Z"
   },
   {
    "duration": 10,
    "start_time": "2023-07-19T05:02:40.101Z"
   },
   {
    "duration": 25,
    "start_time": "2023-07-19T05:02:40.114Z"
   },
   {
    "duration": 16,
    "start_time": "2023-07-19T05:02:40.166Z"
   },
   {
    "duration": 367,
    "start_time": "2023-07-19T05:02:40.184Z"
   },
   {
    "duration": 20,
    "start_time": "2023-07-19T05:02:40.553Z"
   },
   {
    "duration": 317,
    "start_time": "2023-07-19T05:02:40.575Z"
   },
   {
    "duration": 22,
    "start_time": "2023-07-19T05:02:40.896Z"
   },
   {
    "duration": 83,
    "start_time": "2023-07-19T05:19:11.198Z"
   },
   {
    "duration": 190,
    "start_time": "2023-07-19T05:19:22.548Z"
   },
   {
    "duration": 159,
    "start_time": "2023-07-19T05:26:52.786Z"
   },
   {
    "duration": 184,
    "start_time": "2023-07-19T05:32:05.453Z"
   },
   {
    "duration": 141,
    "start_time": "2023-07-19T05:32:06.837Z"
   },
   {
    "duration": 15,
    "start_time": "2023-07-19T05:32:54.198Z"
   },
   {
    "duration": 13,
    "start_time": "2023-07-19T05:35:37.013Z"
   },
   {
    "duration": 7,
    "start_time": "2023-07-19T05:36:33.634Z"
   },
   {
    "duration": 11,
    "start_time": "2023-07-19T05:38:57.760Z"
   },
   {
    "duration": 284,
    "start_time": "2023-07-19T05:47:04.668Z"
   },
   {
    "duration": 289,
    "start_time": "2023-07-19T05:47:40.716Z"
   },
   {
    "duration": 226,
    "start_time": "2023-07-19T05:48:34.716Z"
   },
   {
    "duration": 238,
    "start_time": "2023-07-19T05:48:45.137Z"
   },
   {
    "duration": 191,
    "start_time": "2023-07-19T05:49:04.581Z"
   },
   {
    "duration": 223,
    "start_time": "2023-07-19T05:49:12.328Z"
   },
   {
    "duration": 211,
    "start_time": "2023-07-19T05:49:21.682Z"
   },
   {
    "duration": 222,
    "start_time": "2023-07-19T05:49:26.696Z"
   },
   {
    "duration": 252,
    "start_time": "2023-07-19T05:49:53.760Z"
   },
   {
    "duration": 221,
    "start_time": "2023-07-19T05:50:00.312Z"
   },
   {
    "duration": 43,
    "start_time": "2023-07-19T19:16:03.347Z"
   },
   {
    "duration": 760,
    "start_time": "2023-07-19T19:16:10.489Z"
   },
   {
    "duration": 208,
    "start_time": "2023-07-19T19:16:11.250Z"
   },
   {
    "duration": 21,
    "start_time": "2023-07-19T19:16:11.460Z"
   },
   {
    "duration": 18,
    "start_time": "2023-07-19T19:16:11.482Z"
   },
   {
    "duration": 30,
    "start_time": "2023-07-19T19:16:11.501Z"
   },
   {
    "duration": 11,
    "start_time": "2023-07-19T19:16:11.533Z"
   },
   {
    "duration": 17,
    "start_time": "2023-07-19T19:16:11.546Z"
   },
   {
    "duration": 12,
    "start_time": "2023-07-19T19:16:11.564Z"
   },
   {
    "duration": 19,
    "start_time": "2023-07-19T19:16:11.577Z"
   },
   {
    "duration": 21,
    "start_time": "2023-07-19T19:16:11.598Z"
   },
   {
    "duration": 243,
    "start_time": "2023-07-19T19:16:11.621Z"
   },
   {
    "duration": 11,
    "start_time": "2023-07-19T19:16:11.866Z"
   },
   {
    "duration": 225,
    "start_time": "2023-07-19T19:16:11.878Z"
   },
   {
    "duration": 13,
    "start_time": "2023-07-19T19:16:12.105Z"
   },
   {
    "duration": 167,
    "start_time": "2023-07-19T19:16:12.119Z"
   },
   {
    "duration": 132,
    "start_time": "2023-07-19T19:16:12.287Z"
   },
   {
    "duration": 11,
    "start_time": "2023-07-19T19:16:12.422Z"
   },
   {
    "duration": 62,
    "start_time": "2023-07-19T19:16:12.435Z"
   },
   {
    "duration": 296,
    "start_time": "2023-07-19T19:16:12.499Z"
   },
   {
    "duration": 209,
    "start_time": "2023-07-19T19:16:48.321Z"
   },
   {
    "duration": 170,
    "start_time": "2023-07-19T19:17:17.921Z"
   },
   {
    "duration": 166,
    "start_time": "2023-07-19T19:17:51.518Z"
   },
   {
    "duration": 226,
    "start_time": "2023-07-19T19:18:50.531Z"
   },
   {
    "duration": 176,
    "start_time": "2023-07-19T19:20:01.368Z"
   },
   {
    "duration": 157,
    "start_time": "2023-07-19T19:27:17.400Z"
   },
   {
    "duration": 214,
    "start_time": "2023-07-19T19:38:22.622Z"
   },
   {
    "duration": 161,
    "start_time": "2023-07-19T19:39:53.130Z"
   },
   {
    "duration": 165,
    "start_time": "2023-07-19T19:50:17.061Z"
   },
   {
    "duration": 226,
    "start_time": "2023-07-19T19:52:20.795Z"
   },
   {
    "duration": 291,
    "start_time": "2023-07-19T20:01:47.325Z"
   },
   {
    "duration": 321,
    "start_time": "2023-07-19T20:02:46.318Z"
   },
   {
    "duration": 266,
    "start_time": "2023-07-19T20:03:03.322Z"
   },
   {
    "duration": 131,
    "start_time": "2023-07-19T20:03:10.094Z"
   },
   {
    "duration": 276,
    "start_time": "2023-07-19T20:03:14.210Z"
   },
   {
    "duration": 45,
    "start_time": "2023-07-20T02:31:42.673Z"
   },
   {
    "duration": 780,
    "start_time": "2023-07-20T02:31:51.846Z"
   },
   {
    "duration": 185,
    "start_time": "2023-07-20T02:31:52.628Z"
   },
   {
    "duration": 21,
    "start_time": "2023-07-20T02:31:52.815Z"
   },
   {
    "duration": 59,
    "start_time": "2023-07-20T02:31:52.841Z"
   },
   {
    "duration": 52,
    "start_time": "2023-07-20T02:31:52.902Z"
   },
   {
    "duration": 40,
    "start_time": "2023-07-20T02:31:52.956Z"
   },
   {
    "duration": 46,
    "start_time": "2023-07-20T02:31:52.997Z"
   },
   {
    "duration": 42,
    "start_time": "2023-07-20T02:31:53.044Z"
   },
   {
    "duration": 49,
    "start_time": "2023-07-20T02:31:53.087Z"
   },
   {
    "duration": 28,
    "start_time": "2023-07-20T02:31:53.138Z"
   },
   {
    "duration": 294,
    "start_time": "2023-07-20T02:31:53.168Z"
   },
   {
    "duration": 12,
    "start_time": "2023-07-20T02:31:53.463Z"
   },
   {
    "duration": 270,
    "start_time": "2023-07-20T02:31:53.477Z"
   },
   {
    "duration": 6,
    "start_time": "2023-07-20T02:31:53.748Z"
   },
   {
    "duration": 195,
    "start_time": "2023-07-20T02:31:53.756Z"
   },
   {
    "duration": 125,
    "start_time": "2023-07-20T02:31:53.953Z"
   },
   {
    "duration": 6,
    "start_time": "2023-07-20T02:31:54.079Z"
   },
   {
    "duration": 26,
    "start_time": "2023-07-20T02:31:54.086Z"
   },
   {
    "duration": 245,
    "start_time": "2023-07-20T02:31:54.113Z"
   },
   {
    "duration": 209,
    "start_time": "2023-07-20T02:31:54.360Z"
   },
   {
    "duration": 325,
    "start_time": "2023-07-20T02:31:54.571Z"
   },
   {
    "duration": 88,
    "start_time": "2023-07-20T02:31:54.898Z"
   },
   {
    "duration": 177,
    "start_time": "2023-07-20T02:32:20.242Z"
   },
   {
    "duration": 194,
    "start_time": "2023-07-20T02:33:10.921Z"
   },
   {
    "duration": 186,
    "start_time": "2023-07-20T02:33:17.478Z"
   },
   {
    "duration": 228,
    "start_time": "2023-07-20T02:33:24.624Z"
   },
   {
    "duration": 275,
    "start_time": "2023-07-20T02:49:58.813Z"
   },
   {
    "duration": 230,
    "start_time": "2023-07-20T02:50:03.769Z"
   },
   {
    "duration": 246,
    "start_time": "2023-07-20T02:50:19.575Z"
   },
   {
    "duration": 290,
    "start_time": "2023-07-20T02:51:45.911Z"
   },
   {
    "duration": 256,
    "start_time": "2023-07-20T02:52:46.439Z"
   },
   {
    "duration": 372,
    "start_time": "2023-07-20T02:52:51.543Z"
   },
   {
    "duration": 306,
    "start_time": "2023-07-20T02:53:07.615Z"
   },
   {
    "duration": 285,
    "start_time": "2023-07-20T02:54:21.521Z"
   },
   {
    "duration": 267,
    "start_time": "2023-07-20T02:55:45.440Z"
   },
   {
    "duration": 69,
    "start_time": "2023-07-20T04:30:34.108Z"
   },
   {
    "duration": 6,
    "start_time": "2023-07-20T04:30:47.698Z"
   },
   {
    "duration": 945,
    "start_time": "2023-07-20T04:30:55.149Z"
   },
   {
    "duration": 189,
    "start_time": "2023-07-20T04:30:56.097Z"
   },
   {
    "duration": 23,
    "start_time": "2023-07-20T04:30:56.288Z"
   },
   {
    "duration": 22,
    "start_time": "2023-07-20T04:30:56.313Z"
   },
   {
    "duration": 18,
    "start_time": "2023-07-20T04:30:56.336Z"
   },
   {
    "duration": 12,
    "start_time": "2023-07-20T04:30:56.356Z"
   },
   {
    "duration": 10,
    "start_time": "2023-07-20T04:30:56.370Z"
   },
   {
    "duration": 7,
    "start_time": "2023-07-20T04:30:56.382Z"
   },
   {
    "duration": 7,
    "start_time": "2023-07-20T04:30:56.390Z"
   },
   {
    "duration": 17,
    "start_time": "2023-07-20T04:30:56.400Z"
   },
   {
    "duration": 292,
    "start_time": "2023-07-20T04:30:56.458Z"
   },
   {
    "duration": 20,
    "start_time": "2023-07-20T04:30:56.752Z"
   },
   {
    "duration": 272,
    "start_time": "2023-07-20T04:30:56.774Z"
   },
   {
    "duration": 13,
    "start_time": "2023-07-20T04:30:57.049Z"
   },
   {
    "duration": 219,
    "start_time": "2023-07-20T04:30:57.064Z"
   },
   {
    "duration": 151,
    "start_time": "2023-07-20T04:30:57.286Z"
   },
   {
    "duration": 7,
    "start_time": "2023-07-20T04:30:57.439Z"
   },
   {
    "duration": 11,
    "start_time": "2023-07-20T04:30:57.460Z"
   },
   {
    "duration": 311,
    "start_time": "2023-07-20T04:30:57.473Z"
   },
   {
    "duration": 272,
    "start_time": "2023-07-20T04:30:57.787Z"
   },
   {
    "duration": 332,
    "start_time": "2023-07-20T04:30:58.061Z"
   },
   {
    "duration": 220,
    "start_time": "2023-07-20T04:30:58.395Z"
   },
   {
    "duration": 329,
    "start_time": "2023-07-20T04:30:58.618Z"
   },
   {
    "duration": 99,
    "start_time": "2023-07-20T04:30:58.950Z"
   },
   {
    "duration": 18,
    "start_time": "2023-07-20T04:33:02.717Z"
   },
   {
    "duration": 12,
    "start_time": "2023-07-20T04:33:11.861Z"
   },
   {
    "duration": 9,
    "start_time": "2023-07-20T04:34:32.898Z"
   },
   {
    "duration": 752,
    "start_time": "2023-07-20T04:34:42.048Z"
   },
   {
    "duration": 75,
    "start_time": "2023-07-20T04:34:42.803Z"
   },
   {
    "duration": 63,
    "start_time": "2023-07-20T04:34:42.880Z"
   },
   {
    "duration": 29,
    "start_time": "2023-07-20T04:34:42.946Z"
   },
   {
    "duration": 19,
    "start_time": "2023-07-20T04:34:42.977Z"
   },
   {
    "duration": 25,
    "start_time": "2023-07-20T04:34:42.998Z"
   },
   {
    "duration": 20,
    "start_time": "2023-07-20T04:34:43.025Z"
   },
   {
    "duration": 10,
    "start_time": "2023-07-20T04:34:43.060Z"
   },
   {
    "duration": 18,
    "start_time": "2023-07-20T04:34:43.072Z"
   },
   {
    "duration": 31,
    "start_time": "2023-07-20T04:34:43.095Z"
   },
   {
    "duration": 333,
    "start_time": "2023-07-20T04:34:43.128Z"
   },
   {
    "duration": 15,
    "start_time": "2023-07-20T04:34:43.463Z"
   },
   {
    "duration": 275,
    "start_time": "2023-07-20T04:34:43.480Z"
   },
   {
    "duration": 6,
    "start_time": "2023-07-20T04:34:43.757Z"
   },
   {
    "duration": 201,
    "start_time": "2023-07-20T04:34:43.765Z"
   },
   {
    "duration": 194,
    "start_time": "2023-07-20T04:34:43.969Z"
   },
   {
    "duration": 15,
    "start_time": "2023-07-20T04:34:44.165Z"
   },
   {
    "duration": 30,
    "start_time": "2023-07-20T04:34:44.182Z"
   },
   {
    "duration": 332,
    "start_time": "2023-07-20T04:34:44.214Z"
   },
   {
    "duration": 275,
    "start_time": "2023-07-20T04:34:44.548Z"
   },
   {
    "duration": 348,
    "start_time": "2023-07-20T04:34:44.824Z"
   },
   {
    "duration": 263,
    "start_time": "2023-07-20T04:34:45.174Z"
   },
   {
    "duration": 327,
    "start_time": "2023-07-20T04:34:45.440Z"
   },
   {
    "duration": 14,
    "start_time": "2023-07-20T04:34:45.769Z"
   },
   {
    "duration": 9,
    "start_time": "2023-07-20T04:35:17.601Z"
   },
   {
    "duration": 10,
    "start_time": "2023-07-20T04:36:03.068Z"
   },
   {
    "duration": 655,
    "start_time": "2023-07-20T04:36:12.173Z"
   },
   {
    "duration": 76,
    "start_time": "2023-07-20T04:36:12.830Z"
   },
   {
    "duration": 22,
    "start_time": "2023-07-20T04:36:12.908Z"
   },
   {
    "duration": 22,
    "start_time": "2023-07-20T04:36:12.932Z"
   },
   {
    "duration": 33,
    "start_time": "2023-07-20T04:36:12.956Z"
   },
   {
    "duration": 26,
    "start_time": "2023-07-20T04:36:12.991Z"
   },
   {
    "duration": 12,
    "start_time": "2023-07-20T04:36:13.019Z"
   },
   {
    "duration": 12,
    "start_time": "2023-07-20T04:36:13.033Z"
   },
   {
    "duration": 29,
    "start_time": "2023-07-20T04:36:13.047Z"
   },
   {
    "duration": 22,
    "start_time": "2023-07-20T04:36:13.077Z"
   },
   {
    "duration": 297,
    "start_time": "2023-07-20T04:36:13.101Z"
   },
   {
    "duration": 13,
    "start_time": "2023-07-20T04:36:13.400Z"
   },
   {
    "duration": 265,
    "start_time": "2023-07-20T04:36:13.415Z"
   },
   {
    "duration": 7,
    "start_time": "2023-07-20T04:36:13.682Z"
   },
   {
    "duration": 101,
    "start_time": "2023-07-20T04:36:13.691Z"
   },
   {
    "duration": 0,
    "start_time": "2023-07-20T04:36:13.794Z"
   },
   {
    "duration": 0,
    "start_time": "2023-07-20T04:36:13.796Z"
   },
   {
    "duration": 0,
    "start_time": "2023-07-20T04:36:13.797Z"
   },
   {
    "duration": 0,
    "start_time": "2023-07-20T04:36:13.798Z"
   },
   {
    "duration": 0,
    "start_time": "2023-07-20T04:36:13.799Z"
   },
   {
    "duration": 0,
    "start_time": "2023-07-20T04:36:13.800Z"
   },
   {
    "duration": 0,
    "start_time": "2023-07-20T04:36:13.801Z"
   },
   {
    "duration": 0,
    "start_time": "2023-07-20T04:36:13.802Z"
   },
   {
    "duration": 0,
    "start_time": "2023-07-20T04:36:13.803Z"
   },
   {
    "duration": 198,
    "start_time": "2023-07-20T04:36:59.951Z"
   },
   {
    "duration": 8,
    "start_time": "2023-07-20T04:37:09.777Z"
   },
   {
    "duration": 710,
    "start_time": "2023-07-20T04:37:22.552Z"
   },
   {
    "duration": 75,
    "start_time": "2023-07-20T04:37:23.264Z"
   },
   {
    "duration": 21,
    "start_time": "2023-07-20T04:37:23.340Z"
   },
   {
    "duration": 22,
    "start_time": "2023-07-20T04:37:23.362Z"
   },
   {
    "duration": 19,
    "start_time": "2023-07-20T04:37:23.386Z"
   },
   {
    "duration": 22,
    "start_time": "2023-07-20T04:37:23.407Z"
   },
   {
    "duration": 35,
    "start_time": "2023-07-20T04:37:23.431Z"
   },
   {
    "duration": 23,
    "start_time": "2023-07-20T04:37:23.468Z"
   },
   {
    "duration": 40,
    "start_time": "2023-07-20T04:37:23.493Z"
   },
   {
    "duration": 35,
    "start_time": "2023-07-20T04:37:23.535Z"
   },
   {
    "duration": 292,
    "start_time": "2023-07-20T04:37:23.572Z"
   },
   {
    "duration": 14,
    "start_time": "2023-07-20T04:37:23.866Z"
   },
   {
    "duration": 321,
    "start_time": "2023-07-20T04:37:23.882Z"
   },
   {
    "duration": 8,
    "start_time": "2023-07-20T04:37:24.206Z"
   },
   {
    "duration": 199,
    "start_time": "2023-07-20T04:37:24.216Z"
   },
   {
    "duration": 148,
    "start_time": "2023-07-20T04:37:24.417Z"
   },
   {
    "duration": 7,
    "start_time": "2023-07-20T04:37:24.567Z"
   },
   {
    "duration": 16,
    "start_time": "2023-07-20T04:37:24.576Z"
   },
   {
    "duration": 278,
    "start_time": "2023-07-20T04:37:24.594Z"
   },
   {
    "duration": 260,
    "start_time": "2023-07-20T04:37:24.874Z"
   },
   {
    "duration": 325,
    "start_time": "2023-07-20T04:37:25.136Z"
   },
   {
    "duration": 210,
    "start_time": "2023-07-20T04:37:25.463Z"
   },
   {
    "duration": 299,
    "start_time": "2023-07-20T04:37:25.675Z"
   },
   {
    "duration": 103,
    "start_time": "2023-07-20T04:37:25.976Z"
   },
   {
    "duration": 12,
    "start_time": "2023-07-20T04:37:59.620Z"
   },
   {
    "duration": 153,
    "start_time": "2023-07-20T04:44:45.573Z"
   },
   {
    "duration": 143,
    "start_time": "2023-07-20T04:46:41.075Z"
   },
   {
    "duration": 141,
    "start_time": "2023-07-20T04:46:47.832Z"
   },
   {
    "duration": 141,
    "start_time": "2023-07-20T04:47:12.271Z"
   },
   {
    "duration": 291,
    "start_time": "2023-07-20T04:47:21.550Z"
   },
   {
    "duration": 383,
    "start_time": "2023-07-20T04:47:30.499Z"
   },
   {
    "duration": 142,
    "start_time": "2023-07-20T04:50:58.568Z"
   },
   {
    "duration": 111,
    "start_time": "2023-07-20T04:51:31.214Z"
   },
   {
    "duration": 122,
    "start_time": "2023-07-20T04:51:52.608Z"
   },
   {
    "duration": 9,
    "start_time": "2023-07-20T04:52:35.573Z"
   },
   {
    "duration": 121,
    "start_time": "2023-07-20T04:52:49.927Z"
   },
   {
    "duration": 130,
    "start_time": "2023-07-20T04:52:53.376Z"
   },
   {
    "duration": 135,
    "start_time": "2023-07-20T04:53:00.743Z"
   },
   {
    "duration": 1238,
    "start_time": "2023-07-20T04:56:07.142Z"
   },
   {
    "duration": 75,
    "start_time": "2023-07-20T04:56:08.382Z"
   },
   {
    "duration": 23,
    "start_time": "2023-07-20T04:56:08.458Z"
   },
   {
    "duration": 19,
    "start_time": "2023-07-20T04:56:08.483Z"
   },
   {
    "duration": 15,
    "start_time": "2023-07-20T04:56:08.504Z"
   },
   {
    "duration": 21,
    "start_time": "2023-07-20T04:56:08.521Z"
   },
   {
    "duration": 9,
    "start_time": "2023-07-20T04:56:08.544Z"
   },
   {
    "duration": 21,
    "start_time": "2023-07-20T04:56:08.554Z"
   },
   {
    "duration": 19,
    "start_time": "2023-07-20T04:56:08.577Z"
   },
   {
    "duration": 30,
    "start_time": "2023-07-20T04:56:08.599Z"
   },
   {
    "duration": 297,
    "start_time": "2023-07-20T04:56:08.631Z"
   },
   {
    "duration": 14,
    "start_time": "2023-07-20T04:56:08.930Z"
   },
   {
    "duration": 359,
    "start_time": "2023-07-20T04:56:08.960Z"
   },
   {
    "duration": 6,
    "start_time": "2023-07-20T04:56:09.320Z"
   },
   {
    "duration": 189,
    "start_time": "2023-07-20T04:56:09.327Z"
   },
   {
    "duration": 152,
    "start_time": "2023-07-20T04:56:09.517Z"
   },
   {
    "duration": 8,
    "start_time": "2023-07-20T04:56:09.673Z"
   },
   {
    "duration": 20,
    "start_time": "2023-07-20T04:56:09.683Z"
   },
   {
    "duration": 13,
    "start_time": "2023-07-20T04:56:09.705Z"
   },
   {
    "duration": 404,
    "start_time": "2023-07-20T04:56:09.720Z"
   },
   {
    "duration": 308,
    "start_time": "2023-07-20T04:56:10.126Z"
   },
   {
    "duration": 440,
    "start_time": "2023-07-20T04:56:10.436Z"
   },
   {
    "duration": 315,
    "start_time": "2023-07-20T04:56:10.878Z"
   },
   {
    "duration": 358,
    "start_time": "2023-07-20T04:56:11.195Z"
   },
   {
    "duration": 276,
    "start_time": "2023-07-20T04:56:11.555Z"
   },
   {
    "duration": 168,
    "start_time": "2023-07-20T04:56:11.833Z"
   },
   {
    "duration": 5,
    "start_time": "2023-07-20T05:06:33.874Z"
   },
   {
    "duration": 6,
    "start_time": "2023-07-20T05:12:46.361Z"
   },
   {
    "duration": 2028,
    "start_time": "2023-07-20T05:17:33.712Z"
   },
   {
    "duration": 1947,
    "start_time": "2023-07-20T05:18:04.064Z"
   },
   {
    "duration": 8,
    "start_time": "2023-07-20T05:18:11.808Z"
   },
   {
    "duration": 198,
    "start_time": "2023-07-20T05:20:12.837Z"
   },
   {
    "duration": 1199,
    "start_time": "2023-07-20T05:23:06.861Z"
   },
   {
    "duration": 3,
    "start_time": "2023-07-20T05:23:08.062Z"
   },
   {
    "duration": 77,
    "start_time": "2023-07-20T05:23:08.069Z"
   },
   {
    "duration": 22,
    "start_time": "2023-07-20T05:23:08.148Z"
   },
   {
    "duration": 20,
    "start_time": "2023-07-20T05:23:08.173Z"
   },
   {
    "duration": 18,
    "start_time": "2023-07-20T05:23:08.195Z"
   },
   {
    "duration": 47,
    "start_time": "2023-07-20T05:23:08.214Z"
   },
   {
    "duration": 11,
    "start_time": "2023-07-20T05:23:08.263Z"
   },
   {
    "duration": 7,
    "start_time": "2023-07-20T05:23:08.278Z"
   },
   {
    "duration": 7,
    "start_time": "2023-07-20T05:23:08.287Z"
   },
   {
    "duration": 17,
    "start_time": "2023-07-20T05:23:08.296Z"
   },
   {
    "duration": 331,
    "start_time": "2023-07-20T05:23:08.314Z"
   },
   {
    "duration": 16,
    "start_time": "2023-07-20T05:23:08.647Z"
   },
   {
    "duration": 297,
    "start_time": "2023-07-20T05:23:08.665Z"
   },
   {
    "duration": 7,
    "start_time": "2023-07-20T05:23:08.964Z"
   },
   {
    "duration": 196,
    "start_time": "2023-07-20T05:23:08.972Z"
   },
   {
    "duration": 151,
    "start_time": "2023-07-20T05:23:09.170Z"
   },
   {
    "duration": 8,
    "start_time": "2023-07-20T05:23:09.323Z"
   },
   {
    "duration": 33,
    "start_time": "2023-07-20T05:23:09.333Z"
   },
   {
    "duration": 5,
    "start_time": "2023-07-20T05:23:09.368Z"
   },
   {
    "duration": 391,
    "start_time": "2023-07-20T05:23:09.375Z"
   },
   {
    "duration": 292,
    "start_time": "2023-07-20T05:23:09.768Z"
   },
   {
    "duration": 382,
    "start_time": "2023-07-20T05:23:10.062Z"
   },
   {
    "duration": 302,
    "start_time": "2023-07-20T05:23:10.445Z"
   },
   {
    "duration": 394,
    "start_time": "2023-07-20T05:23:10.749Z"
   },
   {
    "duration": 271,
    "start_time": "2023-07-20T05:23:11.144Z"
   },
   {
    "duration": 161,
    "start_time": "2023-07-20T05:23:11.418Z"
   },
   {
    "duration": 4,
    "start_time": "2023-07-20T05:23:11.581Z"
   },
   {
    "duration": 205,
    "start_time": "2023-07-20T05:23:11.587Z"
   },
   {
    "duration": 1254,
    "start_time": "2023-07-20T05:25:18.936Z"
   },
   {
    "duration": 3,
    "start_time": "2023-07-20T05:25:20.193Z"
   },
   {
    "duration": 122,
    "start_time": "2023-07-20T05:25:20.197Z"
   },
   {
    "duration": 20,
    "start_time": "2023-07-20T05:25:20.322Z"
   },
   {
    "duration": 25,
    "start_time": "2023-07-20T05:25:20.343Z"
   },
   {
    "duration": 29,
    "start_time": "2023-07-20T05:25:20.370Z"
   },
   {
    "duration": 33,
    "start_time": "2023-07-20T05:25:20.401Z"
   },
   {
    "duration": 15,
    "start_time": "2023-07-20T05:25:20.436Z"
   },
   {
    "duration": 12,
    "start_time": "2023-07-20T05:25:20.452Z"
   },
   {
    "duration": 45,
    "start_time": "2023-07-20T05:25:20.468Z"
   },
   {
    "duration": 66,
    "start_time": "2023-07-20T05:25:20.515Z"
   },
   {
    "duration": 391,
    "start_time": "2023-07-20T05:25:20.583Z"
   },
   {
    "duration": 13,
    "start_time": "2023-07-20T05:25:20.976Z"
   },
   {
    "duration": 293,
    "start_time": "2023-07-20T05:25:20.991Z"
   },
   {
    "duration": 7,
    "start_time": "2023-07-20T05:25:21.285Z"
   },
   {
    "duration": 198,
    "start_time": "2023-07-20T05:25:21.293Z"
   },
   {
    "duration": 136,
    "start_time": "2023-07-20T05:25:21.493Z"
   },
   {
    "duration": 6,
    "start_time": "2023-07-20T05:25:21.631Z"
   },
   {
    "duration": 22,
    "start_time": "2023-07-20T05:25:21.638Z"
   },
   {
    "duration": 366,
    "start_time": "2023-07-20T05:25:21.661Z"
   },
   {
    "duration": 285,
    "start_time": "2023-07-20T05:25:22.029Z"
   },
   {
    "duration": 374,
    "start_time": "2023-07-20T05:25:22.316Z"
   },
   {
    "duration": 315,
    "start_time": "2023-07-20T05:25:22.692Z"
   },
   {
    "duration": 374,
    "start_time": "2023-07-20T05:25:23.009Z"
   },
   {
    "duration": 259,
    "start_time": "2023-07-20T05:25:23.384Z"
   },
   {
    "duration": 163,
    "start_time": "2023-07-20T05:25:23.644Z"
   },
   {
    "duration": 5,
    "start_time": "2023-07-20T05:25:23.809Z"
   },
   {
    "duration": 208,
    "start_time": "2023-07-20T05:25:23.816Z"
   },
   {
    "duration": 1420,
    "start_time": "2023-07-20T16:24:37.555Z"
   },
   {
    "duration": 5,
    "start_time": "2023-07-20T16:24:38.977Z"
   },
   {
    "duration": 199,
    "start_time": "2023-07-20T16:24:38.984Z"
   },
   {
    "duration": 20,
    "start_time": "2023-07-20T16:24:39.185Z"
   },
   {
    "duration": 42,
    "start_time": "2023-07-20T16:24:39.207Z"
   },
   {
    "duration": 20,
    "start_time": "2023-07-20T16:24:39.250Z"
   },
   {
    "duration": 16,
    "start_time": "2023-07-20T16:24:39.272Z"
   },
   {
    "duration": 9,
    "start_time": "2023-07-20T16:24:39.290Z"
   },
   {
    "duration": 8,
    "start_time": "2023-07-20T16:24:39.300Z"
   },
   {
    "duration": 16,
    "start_time": "2023-07-20T16:24:39.310Z"
   },
   {
    "duration": 18,
    "start_time": "2023-07-20T16:24:39.328Z"
   },
   {
    "duration": 348,
    "start_time": "2023-07-20T16:24:39.351Z"
   },
   {
    "duration": 11,
    "start_time": "2023-07-20T16:24:39.701Z"
   },
   {
    "duration": 284,
    "start_time": "2023-07-20T16:24:39.714Z"
   },
   {
    "duration": 7,
    "start_time": "2023-07-20T16:24:40.000Z"
   },
   {
    "duration": 178,
    "start_time": "2023-07-20T16:24:40.010Z"
   },
   {
    "duration": 131,
    "start_time": "2023-07-20T16:24:40.190Z"
   },
   {
    "duration": 6,
    "start_time": "2023-07-20T16:24:40.323Z"
   },
   {
    "duration": 30,
    "start_time": "2023-07-20T16:24:40.330Z"
   },
   {
    "duration": 362,
    "start_time": "2023-07-20T16:24:40.361Z"
   },
   {
    "duration": 271,
    "start_time": "2023-07-20T16:24:40.724Z"
   },
   {
    "duration": 435,
    "start_time": "2023-07-20T16:24:40.997Z"
   },
   {
    "duration": 287,
    "start_time": "2023-07-20T16:24:41.433Z"
   },
   {
    "duration": 387,
    "start_time": "2023-07-20T16:24:41.722Z"
   },
   {
    "duration": 311,
    "start_time": "2023-07-20T16:24:42.111Z"
   },
   {
    "duration": 156,
    "start_time": "2023-07-20T16:24:42.424Z"
   },
   {
    "duration": 5,
    "start_time": "2023-07-20T16:24:42.582Z"
   },
   {
    "duration": 202,
    "start_time": "2023-07-20T16:24:42.590Z"
   },
   {
    "duration": 1183,
    "start_time": "2023-07-20T16:28:16.529Z"
   },
   {
    "duration": 4,
    "start_time": "2023-07-20T16:28:17.714Z"
   },
   {
    "duration": 89,
    "start_time": "2023-07-20T16:28:17.720Z"
   },
   {
    "duration": 21,
    "start_time": "2023-07-20T16:28:17.812Z"
   },
   {
    "duration": 29,
    "start_time": "2023-07-20T16:28:17.835Z"
   },
   {
    "duration": 20,
    "start_time": "2023-07-20T16:28:17.866Z"
   },
   {
    "duration": 12,
    "start_time": "2023-07-20T16:28:17.888Z"
   },
   {
    "duration": 28,
    "start_time": "2023-07-20T16:28:17.902Z"
   },
   {
    "duration": 21,
    "start_time": "2023-07-20T16:28:17.932Z"
   },
   {
    "duration": 12,
    "start_time": "2023-07-20T16:28:17.955Z"
   },
   {
    "duration": 23,
    "start_time": "2023-07-20T16:28:17.969Z"
   },
   {
    "duration": 359,
    "start_time": "2023-07-20T16:28:17.993Z"
   },
   {
    "duration": 16,
    "start_time": "2023-07-20T16:28:18.355Z"
   },
   {
    "duration": 338,
    "start_time": "2023-07-20T16:28:18.373Z"
   },
   {
    "duration": 7,
    "start_time": "2023-07-20T16:28:18.713Z"
   },
   {
    "duration": 184,
    "start_time": "2023-07-20T16:28:18.722Z"
   },
   {
    "duration": 131,
    "start_time": "2023-07-20T16:28:18.908Z"
   },
   {
    "duration": 15,
    "start_time": "2023-07-20T16:28:19.041Z"
   },
   {
    "duration": 23,
    "start_time": "2023-07-20T16:28:19.057Z"
   },
   {
    "duration": 368,
    "start_time": "2023-07-20T16:28:19.081Z"
   },
   {
    "duration": 266,
    "start_time": "2023-07-20T16:28:19.451Z"
   },
   {
    "duration": 392,
    "start_time": "2023-07-20T16:28:19.718Z"
   },
   {
    "duration": 285,
    "start_time": "2023-07-20T16:28:20.111Z"
   },
   {
    "duration": 366,
    "start_time": "2023-07-20T16:28:20.398Z"
   },
   {
    "duration": 262,
    "start_time": "2023-07-20T16:28:20.766Z"
   },
   {
    "duration": 163,
    "start_time": "2023-07-20T16:28:21.029Z"
   },
   {
    "duration": 4,
    "start_time": "2023-07-20T16:28:21.194Z"
   },
   {
    "duration": 211,
    "start_time": "2023-07-20T16:28:21.201Z"
   },
   {
    "duration": 47,
    "start_time": "2023-07-20T16:33:42.324Z"
   },
   {
    "duration": 1182,
    "start_time": "2023-07-20T16:33:50.868Z"
   },
   {
    "duration": 4,
    "start_time": "2023-07-20T16:33:52.052Z"
   },
   {
    "duration": 86,
    "start_time": "2023-07-20T16:33:52.062Z"
   },
   {
    "duration": 21,
    "start_time": "2023-07-20T16:33:52.149Z"
   },
   {
    "duration": 26,
    "start_time": "2023-07-20T16:33:52.172Z"
   },
   {
    "duration": 30,
    "start_time": "2023-07-20T16:33:52.200Z"
   },
   {
    "duration": 27,
    "start_time": "2023-07-20T16:33:52.232Z"
   },
   {
    "duration": 30,
    "start_time": "2023-07-20T16:33:52.260Z"
   },
   {
    "duration": 27,
    "start_time": "2023-07-20T16:33:52.293Z"
   },
   {
    "duration": 14,
    "start_time": "2023-07-20T16:33:52.322Z"
   },
   {
    "duration": 24,
    "start_time": "2023-07-20T16:33:52.338Z"
   },
   {
    "duration": 380,
    "start_time": "2023-07-20T16:33:52.363Z"
   },
   {
    "duration": 13,
    "start_time": "2023-07-20T16:33:52.745Z"
   },
   {
    "duration": 319,
    "start_time": "2023-07-20T16:33:52.759Z"
   },
   {
    "duration": 6,
    "start_time": "2023-07-20T16:33:53.079Z"
   },
   {
    "duration": 187,
    "start_time": "2023-07-20T16:33:53.087Z"
   },
   {
    "duration": 133,
    "start_time": "2023-07-20T16:33:53.275Z"
   },
   {
    "duration": 6,
    "start_time": "2023-07-20T16:33:53.410Z"
   },
   {
    "duration": 22,
    "start_time": "2023-07-20T16:33:53.417Z"
   },
   {
    "duration": 366,
    "start_time": "2023-07-20T16:33:53.440Z"
   },
   {
    "duration": 296,
    "start_time": "2023-07-20T16:33:53.807Z"
   },
   {
    "duration": 377,
    "start_time": "2023-07-20T16:33:54.105Z"
   },
   {
    "duration": 324,
    "start_time": "2023-07-20T16:33:54.484Z"
   },
   {
    "duration": 399,
    "start_time": "2023-07-20T16:33:54.810Z"
   },
   {
    "duration": 306,
    "start_time": "2023-07-20T16:33:55.210Z"
   },
   {
    "duration": 173,
    "start_time": "2023-07-20T16:33:55.518Z"
   },
   {
    "duration": 5,
    "start_time": "2023-07-20T16:33:55.694Z"
   },
   {
    "duration": 222,
    "start_time": "2023-07-20T16:33:55.700Z"
   },
   {
    "duration": 189,
    "start_time": "2023-07-20T16:33:55.923Z"
   },
   {
    "duration": 4,
    "start_time": "2023-07-20T16:34:06.948Z"
   },
   {
    "duration": 1140,
    "start_time": "2023-07-20T16:34:12.017Z"
   },
   {
    "duration": 4,
    "start_time": "2023-07-20T16:34:13.159Z"
   },
   {
    "duration": 110,
    "start_time": "2023-07-20T16:34:13.164Z"
   },
   {
    "duration": 20,
    "start_time": "2023-07-20T16:34:13.276Z"
   },
   {
    "duration": 25,
    "start_time": "2023-07-20T16:34:13.297Z"
   },
   {
    "duration": 44,
    "start_time": "2023-07-20T16:34:13.324Z"
   },
   {
    "duration": 28,
    "start_time": "2023-07-20T16:34:13.370Z"
   },
   {
    "duration": 9,
    "start_time": "2023-07-20T16:34:13.399Z"
   },
   {
    "duration": 7,
    "start_time": "2023-07-20T16:34:13.410Z"
   },
   {
    "duration": 25,
    "start_time": "2023-07-20T16:34:13.419Z"
   },
   {
    "duration": 25,
    "start_time": "2023-07-20T16:34:13.445Z"
   },
   {
    "duration": 331,
    "start_time": "2023-07-20T16:34:13.472Z"
   },
   {
    "duration": 14,
    "start_time": "2023-07-20T16:34:13.804Z"
   },
   {
    "duration": 318,
    "start_time": "2023-07-20T16:34:13.821Z"
   },
   {
    "duration": 14,
    "start_time": "2023-07-20T16:34:14.141Z"
   },
   {
    "duration": 178,
    "start_time": "2023-07-20T16:34:14.156Z"
   },
   {
    "duration": 127,
    "start_time": "2023-07-20T16:34:14.336Z"
   },
   {
    "duration": 7,
    "start_time": "2023-07-20T16:34:14.464Z"
   },
   {
    "duration": 32,
    "start_time": "2023-07-20T16:34:14.472Z"
   },
   {
    "duration": 351,
    "start_time": "2023-07-20T16:34:14.506Z"
   },
   {
    "duration": 288,
    "start_time": "2023-07-20T16:34:14.859Z"
   },
   {
    "duration": 403,
    "start_time": "2023-07-20T16:34:15.151Z"
   },
   {
    "duration": 285,
    "start_time": "2023-07-20T16:34:15.556Z"
   },
   {
    "duration": 379,
    "start_time": "2023-07-20T16:34:15.842Z"
   },
   {
    "duration": 259,
    "start_time": "2023-07-20T16:34:16.223Z"
   },
   {
    "duration": 158,
    "start_time": "2023-07-20T16:34:16.484Z"
   },
   {
    "duration": 5,
    "start_time": "2023-07-20T16:34:16.644Z"
   },
   {
    "duration": 198,
    "start_time": "2023-07-20T16:34:16.654Z"
   },
   {
    "duration": 175,
    "start_time": "2023-07-20T16:34:16.853Z"
   },
   {
    "duration": 5,
    "start_time": "2023-07-20T16:41:02.957Z"
   },
   {
    "duration": 213,
    "start_time": "2023-07-20T17:35:13.551Z"
   },
   {
    "duration": 106,
    "start_time": "2023-07-20T17:37:15.782Z"
   },
   {
    "duration": 1220,
    "start_time": "2023-07-20T17:37:27.741Z"
   },
   {
    "duration": 4,
    "start_time": "2023-07-20T17:37:28.965Z"
   },
   {
    "duration": 92,
    "start_time": "2023-07-20T17:37:28.973Z"
   },
   {
    "duration": 20,
    "start_time": "2023-07-20T17:37:29.067Z"
   },
   {
    "duration": 20,
    "start_time": "2023-07-20T17:37:29.088Z"
   },
   {
    "duration": 27,
    "start_time": "2023-07-20T17:37:29.109Z"
   },
   {
    "duration": 32,
    "start_time": "2023-07-20T17:37:29.137Z"
   },
   {
    "duration": 10,
    "start_time": "2023-07-20T17:37:29.170Z"
   },
   {
    "duration": 9,
    "start_time": "2023-07-20T17:37:29.182Z"
   },
   {
    "duration": 17,
    "start_time": "2023-07-20T17:37:29.192Z"
   },
   {
    "duration": 21,
    "start_time": "2023-07-20T17:37:29.217Z"
   },
   {
    "duration": 359,
    "start_time": "2023-07-20T17:37:29.240Z"
   },
   {
    "duration": 12,
    "start_time": "2023-07-20T17:37:29.601Z"
   },
   {
    "duration": 284,
    "start_time": "2023-07-20T17:37:29.614Z"
   },
   {
    "duration": 7,
    "start_time": "2023-07-20T17:37:29.900Z"
   },
   {
    "duration": 189,
    "start_time": "2023-07-20T17:37:29.908Z"
   },
   {
    "duration": 135,
    "start_time": "2023-07-20T17:37:30.098Z"
   },
   {
    "duration": 35,
    "start_time": "2023-07-20T17:37:30.234Z"
   },
   {
    "duration": 176,
    "start_time": "2023-07-20T17:37:30.270Z"
   },
   {
    "duration": 662,
    "start_time": "2023-07-20T17:37:30.448Z"
   },
   {
    "duration": 290,
    "start_time": "2023-07-20T17:37:31.112Z"
   },
   {
    "duration": 374,
    "start_time": "2023-07-20T17:37:31.403Z"
   },
   {
    "duration": 300,
    "start_time": "2023-07-20T17:37:31.779Z"
   },
   {
    "duration": 390,
    "start_time": "2023-07-20T17:37:32.080Z"
   },
   {
    "duration": 286,
    "start_time": "2023-07-20T17:37:32.472Z"
   },
   {
    "duration": 150,
    "start_time": "2023-07-20T17:37:32.767Z"
   },
   {
    "duration": 5,
    "start_time": "2023-07-20T17:37:32.921Z"
   },
   {
    "duration": 212,
    "start_time": "2023-07-20T17:37:32.927Z"
   },
   {
    "duration": 189,
    "start_time": "2023-07-20T17:37:33.141Z"
   },
   {
    "duration": 16,
    "start_time": "2023-07-20T17:37:33.332Z"
   },
   {
    "duration": 237,
    "start_time": "2023-07-20T17:37:33.352Z"
   },
   {
    "duration": 114,
    "start_time": "2023-07-20T17:39:02.651Z"
   },
   {
    "duration": 237,
    "start_time": "2023-07-20T17:39:26.995Z"
   },
   {
    "duration": 249,
    "start_time": "2023-07-20T17:39:40.324Z"
   },
   {
    "duration": 220,
    "start_time": "2023-07-20T17:39:45.845Z"
   },
   {
    "duration": 217,
    "start_time": "2023-07-20T17:41:56.286Z"
   },
   {
    "duration": 13,
    "start_time": "2023-07-20T18:00:01.083Z"
   },
   {
    "duration": 1163,
    "start_time": "2023-07-20T18:00:12.992Z"
   },
   {
    "duration": 5,
    "start_time": "2023-07-20T18:00:14.158Z"
   },
   {
    "duration": 134,
    "start_time": "2023-07-20T18:00:14.165Z"
   },
   {
    "duration": 23,
    "start_time": "2023-07-20T18:00:14.301Z"
   },
   {
    "duration": 29,
    "start_time": "2023-07-20T18:00:14.327Z"
   },
   {
    "duration": 58,
    "start_time": "2023-07-20T18:00:14.358Z"
   },
   {
    "duration": 41,
    "start_time": "2023-07-20T18:00:14.418Z"
   },
   {
    "duration": 23,
    "start_time": "2023-07-20T18:00:14.461Z"
   },
   {
    "duration": 39,
    "start_time": "2023-07-20T18:00:14.486Z"
   },
   {
    "duration": 19,
    "start_time": "2023-07-20T18:00:14.526Z"
   },
   {
    "duration": 39,
    "start_time": "2023-07-20T18:00:14.547Z"
   },
   {
    "duration": 355,
    "start_time": "2023-07-20T18:00:14.588Z"
   },
   {
    "duration": 12,
    "start_time": "2023-07-20T18:00:14.945Z"
   },
   {
    "duration": 293,
    "start_time": "2023-07-20T18:00:14.959Z"
   },
   {
    "duration": 6,
    "start_time": "2023-07-20T18:00:15.253Z"
   },
   {
    "duration": 228,
    "start_time": "2023-07-20T18:00:15.261Z"
   },
   {
    "duration": 134,
    "start_time": "2023-07-20T18:00:15.490Z"
   },
   {
    "duration": 8,
    "start_time": "2023-07-20T18:00:15.627Z"
   },
   {
    "duration": 32,
    "start_time": "2023-07-20T18:00:15.637Z"
   },
   {
    "duration": 350,
    "start_time": "2023-07-20T18:00:15.671Z"
   },
   {
    "duration": 273,
    "start_time": "2023-07-20T18:00:16.024Z"
   },
   {
    "duration": 345,
    "start_time": "2023-07-20T18:00:16.300Z"
   },
   {
    "duration": 292,
    "start_time": "2023-07-20T18:00:16.647Z"
   },
   {
    "duration": 399,
    "start_time": "2023-07-20T18:00:16.941Z"
   },
   {
    "duration": 255,
    "start_time": "2023-07-20T18:00:17.352Z"
   },
   {
    "duration": 161,
    "start_time": "2023-07-20T18:00:17.609Z"
   },
   {
    "duration": 4,
    "start_time": "2023-07-20T18:00:17.772Z"
   },
   {
    "duration": 201,
    "start_time": "2023-07-20T18:00:17.778Z"
   },
   {
    "duration": 182,
    "start_time": "2023-07-20T18:00:17.980Z"
   },
   {
    "duration": 4,
    "start_time": "2023-07-20T18:00:18.164Z"
   },
   {
    "duration": 299,
    "start_time": "2023-07-20T18:00:18.170Z"
   },
   {
    "duration": 120,
    "start_time": "2023-07-20T18:00:18.471Z"
   },
   {
    "duration": 0,
    "start_time": "2023-07-20T18:00:18.593Z"
   },
   {
    "duration": 1140,
    "start_time": "2023-07-20T18:01:10.635Z"
   },
   {
    "duration": 4,
    "start_time": "2023-07-20T18:01:11.778Z"
   },
   {
    "duration": 110,
    "start_time": "2023-07-20T18:01:11.783Z"
   },
   {
    "duration": 21,
    "start_time": "2023-07-20T18:01:11.895Z"
   },
   {
    "duration": 25,
    "start_time": "2023-07-20T18:01:11.918Z"
   },
   {
    "duration": 100,
    "start_time": "2023-07-20T18:01:11.945Z"
   },
   {
    "duration": 16,
    "start_time": "2023-07-20T18:01:12.047Z"
   },
   {
    "duration": 12,
    "start_time": "2023-07-20T18:01:12.064Z"
   },
   {
    "duration": 265,
    "start_time": "2023-07-20T18:01:12.078Z"
   },
   {
    "duration": 15,
    "start_time": "2023-07-20T18:01:12.346Z"
   },
   {
    "duration": 31,
    "start_time": "2023-07-20T18:01:12.363Z"
   },
   {
    "duration": 331,
    "start_time": "2023-07-20T18:01:12.396Z"
   },
   {
    "duration": 13,
    "start_time": "2023-07-20T18:01:12.728Z"
   },
   {
    "duration": 302,
    "start_time": "2023-07-20T18:01:12.742Z"
   },
   {
    "duration": 9,
    "start_time": "2023-07-20T18:01:13.046Z"
   },
   {
    "duration": 215,
    "start_time": "2023-07-20T18:01:13.057Z"
   },
   {
    "duration": 161,
    "start_time": "2023-07-20T18:01:13.274Z"
   },
   {
    "duration": 15,
    "start_time": "2023-07-20T18:01:13.437Z"
   },
   {
    "duration": 18,
    "start_time": "2023-07-20T18:01:13.454Z"
   },
   {
    "duration": 382,
    "start_time": "2023-07-20T18:01:13.473Z"
   },
   {
    "duration": 304,
    "start_time": "2023-07-20T18:01:13.857Z"
   },
   {
    "duration": 378,
    "start_time": "2023-07-20T18:01:14.163Z"
   },
   {
    "duration": 309,
    "start_time": "2023-07-20T18:01:14.543Z"
   },
   {
    "duration": 383,
    "start_time": "2023-07-20T18:01:14.855Z"
   },
   {
    "duration": 285,
    "start_time": "2023-07-20T18:01:15.240Z"
   },
   {
    "duration": 163,
    "start_time": "2023-07-20T18:01:15.527Z"
   },
   {
    "duration": 5,
    "start_time": "2023-07-20T18:01:15.692Z"
   },
   {
    "duration": 215,
    "start_time": "2023-07-20T18:01:15.701Z"
   },
   {
    "duration": 180,
    "start_time": "2023-07-20T18:01:15.918Z"
   },
   {
    "duration": 6,
    "start_time": "2023-07-20T18:01:16.100Z"
   },
   {
    "duration": 244,
    "start_time": "2023-07-20T18:01:16.108Z"
   },
   {
    "duration": 194,
    "start_time": "2023-07-20T18:01:16.354Z"
   },
   {
    "duration": 0,
    "start_time": "2023-07-20T18:01:16.550Z"
   },
   {
    "duration": 1128,
    "start_time": "2023-07-20T18:02:25.820Z"
   },
   {
    "duration": 3,
    "start_time": "2023-07-20T18:02:26.950Z"
   },
   {
    "duration": 99,
    "start_time": "2023-07-20T18:02:26.954Z"
   },
   {
    "duration": 18,
    "start_time": "2023-07-20T18:02:27.055Z"
   },
   {
    "duration": 39,
    "start_time": "2023-07-20T18:02:27.074Z"
   },
   {
    "duration": 28,
    "start_time": "2023-07-20T18:02:27.115Z"
   },
   {
    "duration": 20,
    "start_time": "2023-07-20T18:02:27.145Z"
   },
   {
    "duration": 23,
    "start_time": "2023-07-20T18:02:27.167Z"
   },
   {
    "duration": 11,
    "start_time": "2023-07-20T18:02:27.192Z"
   },
   {
    "duration": 32,
    "start_time": "2023-07-20T18:02:27.206Z"
   },
   {
    "duration": 34,
    "start_time": "2023-07-20T18:02:27.240Z"
   },
   {
    "duration": 352,
    "start_time": "2023-07-20T18:02:27.275Z"
   },
   {
    "duration": 13,
    "start_time": "2023-07-20T18:02:27.628Z"
   },
   {
    "duration": 295,
    "start_time": "2023-07-20T18:02:27.642Z"
   },
   {
    "duration": 14,
    "start_time": "2023-07-20T18:02:27.939Z"
   },
   {
    "duration": 186,
    "start_time": "2023-07-20T18:02:27.955Z"
   },
   {
    "duration": 133,
    "start_time": "2023-07-20T18:02:28.143Z"
   },
   {
    "duration": 27,
    "start_time": "2023-07-20T18:02:28.278Z"
   },
   {
    "duration": 32,
    "start_time": "2023-07-20T18:02:28.307Z"
   },
   {
    "duration": 404,
    "start_time": "2023-07-20T18:02:28.342Z"
   },
   {
    "duration": 276,
    "start_time": "2023-07-20T18:02:28.747Z"
   },
   {
    "duration": 405,
    "start_time": "2023-07-20T18:02:29.025Z"
   },
   {
    "duration": 313,
    "start_time": "2023-07-20T18:02:29.432Z"
   },
   {
    "duration": 379,
    "start_time": "2023-07-20T18:02:29.747Z"
   },
   {
    "duration": 279,
    "start_time": "2023-07-20T18:02:30.128Z"
   },
   {
    "duration": 186,
    "start_time": "2023-07-20T18:02:30.409Z"
   },
   {
    "duration": 4,
    "start_time": "2023-07-20T18:02:30.597Z"
   },
   {
    "duration": 226,
    "start_time": "2023-07-20T18:02:30.604Z"
   },
   {
    "duration": 176,
    "start_time": "2023-07-20T18:02:30.832Z"
   },
   {
    "duration": 5,
    "start_time": "2023-07-20T18:02:31.010Z"
   },
   {
    "duration": 296,
    "start_time": "2023-07-20T18:02:31.016Z"
   },
   {
    "duration": 98,
    "start_time": "2023-07-20T18:02:31.314Z"
   },
   {
    "duration": 0,
    "start_time": "2023-07-20T18:02:31.413Z"
   },
   {
    "duration": 125,
    "start_time": "2023-07-20T18:03:02.898Z"
   },
   {
    "duration": 104,
    "start_time": "2023-07-20T18:03:41.749Z"
   },
   {
    "duration": 116,
    "start_time": "2023-07-20T18:04:33.768Z"
   },
   {
    "duration": 96,
    "start_time": "2023-07-20T18:04:47.465Z"
   },
   {
    "duration": 119,
    "start_time": "2023-07-20T18:06:16.566Z"
   },
   {
    "duration": 1136,
    "start_time": "2023-07-20T18:06:23.922Z"
   },
   {
    "duration": 4,
    "start_time": "2023-07-20T18:06:25.060Z"
   },
   {
    "duration": 94,
    "start_time": "2023-07-20T18:06:25.065Z"
   },
   {
    "duration": 20,
    "start_time": "2023-07-20T18:06:25.161Z"
   },
   {
    "duration": 20,
    "start_time": "2023-07-20T18:06:25.183Z"
   },
   {
    "duration": 22,
    "start_time": "2023-07-20T18:06:25.204Z"
   },
   {
    "duration": 30,
    "start_time": "2023-07-20T18:06:25.227Z"
   },
   {
    "duration": 16,
    "start_time": "2023-07-20T18:06:25.258Z"
   },
   {
    "duration": 9,
    "start_time": "2023-07-20T18:06:25.275Z"
   },
   {
    "duration": 12,
    "start_time": "2023-07-20T18:06:25.287Z"
   },
   {
    "duration": 21,
    "start_time": "2023-07-20T18:06:25.300Z"
   },
   {
    "duration": 376,
    "start_time": "2023-07-20T18:06:25.322Z"
   },
   {
    "duration": 13,
    "start_time": "2023-07-20T18:06:25.701Z"
   },
   {
    "duration": 294,
    "start_time": "2023-07-20T18:06:25.716Z"
   },
   {
    "duration": 7,
    "start_time": "2023-07-20T18:06:26.011Z"
   },
   {
    "duration": 178,
    "start_time": "2023-07-20T18:06:26.020Z"
   },
   {
    "duration": 135,
    "start_time": "2023-07-20T18:06:26.200Z"
   },
   {
    "duration": 17,
    "start_time": "2023-07-20T18:06:26.336Z"
   },
   {
    "duration": 21,
    "start_time": "2023-07-20T18:06:26.355Z"
   },
   {
    "duration": 358,
    "start_time": "2023-07-20T18:06:26.378Z"
   },
   {
    "duration": 274,
    "start_time": "2023-07-20T18:06:26.738Z"
   },
   {
    "duration": 405,
    "start_time": "2023-07-20T18:06:27.014Z"
   },
   {
    "duration": 295,
    "start_time": "2023-07-20T18:06:27.421Z"
   },
   {
    "duration": 401,
    "start_time": "2023-07-20T18:06:27.718Z"
   },
   {
    "duration": 304,
    "start_time": "2023-07-20T18:06:28.121Z"
   },
   {
    "duration": 172,
    "start_time": "2023-07-20T18:06:28.427Z"
   },
   {
    "duration": 6,
    "start_time": "2023-07-20T18:06:28.601Z"
   },
   {
    "duration": 198,
    "start_time": "2023-07-20T18:06:28.611Z"
   },
   {
    "duration": 176,
    "start_time": "2023-07-20T18:06:28.810Z"
   },
   {
    "duration": 5,
    "start_time": "2023-07-20T18:06:28.987Z"
   },
   {
    "duration": 229,
    "start_time": "2023-07-20T18:06:28.994Z"
   },
   {
    "duration": 159,
    "start_time": "2023-07-20T18:06:29.225Z"
   },
   {
    "duration": 7,
    "start_time": "2023-07-20T18:06:29.386Z"
   },
   {
    "duration": 99,
    "start_time": "2023-07-20T18:13:43.654Z"
   },
   {
    "duration": 22,
    "start_time": "2023-07-20T18:13:55.489Z"
   },
   {
    "duration": 11,
    "start_time": "2023-07-20T18:15:45.675Z"
   },
   {
    "duration": 21,
    "start_time": "2023-07-20T18:18:22.764Z"
   },
   {
    "duration": 9,
    "start_time": "2023-07-20T18:39:48.174Z"
   },
   {
    "duration": 13,
    "start_time": "2023-07-20T18:40:23.052Z"
   },
   {
    "duration": 12,
    "start_time": "2023-07-20T18:41:25.127Z"
   },
   {
    "duration": 9,
    "start_time": "2023-07-20T19:23:10.112Z"
   },
   {
    "duration": 11,
    "start_time": "2023-07-20T19:23:27.957Z"
   },
   {
    "duration": 14,
    "start_time": "2023-07-20T19:24:18.819Z"
   },
   {
    "duration": 10,
    "start_time": "2023-07-20T19:26:28.904Z"
   },
   {
    "duration": 16,
    "start_time": "2023-07-20T19:27:09.721Z"
   },
   {
    "duration": 10,
    "start_time": "2023-07-20T19:27:23.996Z"
   },
   {
    "duration": 13,
    "start_time": "2023-07-20T19:27:36.507Z"
   },
   {
    "duration": 9,
    "start_time": "2023-07-20T19:28:20.035Z"
   },
   {
    "duration": 15,
    "start_time": "2023-07-20T19:28:27.088Z"
   },
   {
    "duration": 13,
    "start_time": "2023-07-20T19:29:45.413Z"
   },
   {
    "duration": 11,
    "start_time": "2023-07-20T19:31:15.338Z"
   },
   {
    "duration": 9,
    "start_time": "2023-07-20T19:31:27.267Z"
   },
   {
    "duration": 91,
    "start_time": "2023-07-20T19:32:59.482Z"
   },
   {
    "duration": 10,
    "start_time": "2023-07-20T19:33:07.612Z"
   },
   {
    "duration": 10,
    "start_time": "2023-07-20T19:33:15.686Z"
   },
   {
    "duration": 23,
    "start_time": "2023-07-20T19:33:48.043Z"
   },
   {
    "duration": 1439,
    "start_time": "2023-07-20T19:41:15.903Z"
   },
   {
    "duration": 1478,
    "start_time": "2023-07-20T19:41:45.688Z"
   },
   {
    "duration": 1426,
    "start_time": "2023-07-20T19:41:53.934Z"
   },
   {
    "duration": 1536,
    "start_time": "2023-07-20T19:42:03.538Z"
   },
   {
    "duration": 1554,
    "start_time": "2023-07-20T19:43:07.172Z"
   },
   {
    "duration": 18,
    "start_time": "2023-07-20T19:43:22.766Z"
   },
   {
    "duration": 8,
    "start_time": "2023-07-20T19:44:58.614Z"
   },
   {
    "duration": 14,
    "start_time": "2023-07-20T19:45:06.984Z"
   },
   {
    "duration": 56,
    "start_time": "2023-07-21T03:32:45.368Z"
   },
   {
    "duration": 1294,
    "start_time": "2023-07-21T03:32:54.180Z"
   },
   {
    "duration": 5,
    "start_time": "2023-07-21T03:32:55.476Z"
   },
   {
    "duration": 204,
    "start_time": "2023-07-21T03:32:55.482Z"
   },
   {
    "duration": 26,
    "start_time": "2023-07-21T03:32:55.688Z"
   },
   {
    "duration": 26,
    "start_time": "2023-07-21T03:32:55.716Z"
   },
   {
    "duration": 28,
    "start_time": "2023-07-21T03:32:55.744Z"
   },
   {
    "duration": 37,
    "start_time": "2023-07-21T03:32:55.774Z"
   },
   {
    "duration": 40,
    "start_time": "2023-07-21T03:32:55.813Z"
   },
   {
    "duration": 22,
    "start_time": "2023-07-21T03:32:55.855Z"
   },
   {
    "duration": 39,
    "start_time": "2023-07-21T03:32:55.881Z"
   },
   {
    "duration": 39,
    "start_time": "2023-07-21T03:32:55.921Z"
   },
   {
    "duration": 344,
    "start_time": "2023-07-21T03:32:55.961Z"
   },
   {
    "duration": 11,
    "start_time": "2023-07-21T03:32:56.307Z"
   },
   {
    "duration": 271,
    "start_time": "2023-07-21T03:32:56.319Z"
   },
   {
    "duration": 6,
    "start_time": "2023-07-21T03:32:56.591Z"
   },
   {
    "duration": 171,
    "start_time": "2023-07-21T03:32:56.598Z"
   },
   {
    "duration": 130,
    "start_time": "2023-07-21T03:32:56.771Z"
   },
   {
    "duration": 22,
    "start_time": "2023-07-21T03:32:56.903Z"
   },
   {
    "duration": 15,
    "start_time": "2023-07-21T03:32:56.926Z"
   },
   {
    "duration": 340,
    "start_time": "2023-07-21T03:32:56.942Z"
   },
   {
    "duration": 266,
    "start_time": "2023-07-21T03:32:57.283Z"
   },
   {
    "duration": 409,
    "start_time": "2023-07-21T03:32:57.550Z"
   },
   {
    "duration": 273,
    "start_time": "2023-07-21T03:32:57.961Z"
   },
   {
    "duration": 364,
    "start_time": "2023-07-21T03:32:58.236Z"
   },
   {
    "duration": 232,
    "start_time": "2023-07-21T03:32:58.601Z"
   },
   {
    "duration": 155,
    "start_time": "2023-07-21T03:32:58.834Z"
   },
   {
    "duration": 4,
    "start_time": "2023-07-21T03:32:58.991Z"
   },
   {
    "duration": 191,
    "start_time": "2023-07-21T03:32:58.999Z"
   },
   {
    "duration": 162,
    "start_time": "2023-07-21T03:32:59.192Z"
   },
   {
    "duration": 6,
    "start_time": "2023-07-21T03:32:59.356Z"
   },
   {
    "duration": 218,
    "start_time": "2023-07-21T03:32:59.363Z"
   },
   {
    "duration": 119,
    "start_time": "2023-07-21T03:32:59.583Z"
   },
   {
    "duration": 6,
    "start_time": "2023-07-21T03:32:59.704Z"
   },
   {
    "duration": 64,
    "start_time": "2023-07-21T03:32:59.711Z"
   },
   {
    "duration": 9,
    "start_time": "2023-07-21T03:32:59.777Z"
   },
   {
    "duration": 16,
    "start_time": "2023-07-21T03:32:59.787Z"
   },
   {
    "duration": 36,
    "start_time": "2023-07-21T03:32:59.804Z"
   },
   {
    "duration": 38,
    "start_time": "2023-07-21T03:32:59.842Z"
   },
   {
    "duration": 92,
    "start_time": "2023-07-21T03:32:59.882Z"
   },
   {
    "duration": 13,
    "start_time": "2023-07-21T03:33:05.410Z"
   },
   {
    "duration": 49,
    "start_time": "2023-07-21T05:17:47.358Z"
   },
   {
    "duration": 1378,
    "start_time": "2023-07-21T05:17:54.446Z"
   },
   {
    "duration": 4,
    "start_time": "2023-07-21T05:17:55.826Z"
   },
   {
    "duration": 213,
    "start_time": "2023-07-21T05:17:55.831Z"
   },
   {
    "duration": 20,
    "start_time": "2023-07-21T05:17:56.046Z"
   },
   {
    "duration": 57,
    "start_time": "2023-07-21T05:17:56.068Z"
   },
   {
    "duration": 31,
    "start_time": "2023-07-21T05:17:56.126Z"
   },
   {
    "duration": 15,
    "start_time": "2023-07-21T05:17:56.159Z"
   },
   {
    "duration": 35,
    "start_time": "2023-07-21T05:17:56.176Z"
   },
   {
    "duration": 12,
    "start_time": "2023-07-21T05:17:56.212Z"
   },
   {
    "duration": 12,
    "start_time": "2023-07-21T05:17:56.226Z"
   },
   {
    "duration": 38,
    "start_time": "2023-07-21T05:17:56.240Z"
   },
   {
    "duration": 355,
    "start_time": "2023-07-21T05:17:56.280Z"
   },
   {
    "duration": 12,
    "start_time": "2023-07-21T05:17:56.636Z"
   },
   {
    "duration": 318,
    "start_time": "2023-07-21T05:17:56.651Z"
   },
   {
    "duration": 5,
    "start_time": "2023-07-21T05:17:56.971Z"
   },
   {
    "duration": 201,
    "start_time": "2023-07-21T05:17:56.978Z"
   },
   {
    "duration": 140,
    "start_time": "2023-07-21T05:17:57.181Z"
   },
   {
    "duration": 6,
    "start_time": "2023-07-21T05:17:57.322Z"
   },
   {
    "duration": 37,
    "start_time": "2023-07-21T05:17:57.330Z"
   },
   {
    "duration": 360,
    "start_time": "2023-07-21T05:17:57.368Z"
   },
   {
    "duration": 276,
    "start_time": "2023-07-21T05:17:57.730Z"
   },
   {
    "duration": 435,
    "start_time": "2023-07-21T05:17:58.009Z"
   },
   {
    "duration": 295,
    "start_time": "2023-07-21T05:17:58.446Z"
   },
   {
    "duration": 364,
    "start_time": "2023-07-21T05:17:58.743Z"
   },
   {
    "duration": 237,
    "start_time": "2023-07-21T05:17:59.108Z"
   },
   {
    "duration": 176,
    "start_time": "2023-07-21T05:17:59.346Z"
   },
   {
    "duration": 5,
    "start_time": "2023-07-21T05:17:59.523Z"
   },
   {
    "duration": 210,
    "start_time": "2023-07-21T05:17:59.530Z"
   },
   {
    "duration": 166,
    "start_time": "2023-07-21T05:17:59.742Z"
   },
   {
    "duration": 12,
    "start_time": "2023-07-21T05:17:59.909Z"
   },
   {
    "duration": 239,
    "start_time": "2023-07-21T05:17:59.923Z"
   },
   {
    "duration": 136,
    "start_time": "2023-07-21T05:18:00.163Z"
   },
   {
    "duration": 7,
    "start_time": "2023-07-21T05:18:00.300Z"
   },
   {
    "duration": 81,
    "start_time": "2023-07-21T05:18:00.309Z"
   },
   {
    "duration": 18,
    "start_time": "2023-07-21T05:18:00.392Z"
   },
   {
    "duration": 28,
    "start_time": "2023-07-21T05:18:00.412Z"
   },
   {
    "duration": 42,
    "start_time": "2023-07-21T05:18:00.441Z"
   },
   {
    "duration": 89,
    "start_time": "2023-07-21T05:18:00.485Z"
   },
   {
    "duration": 88,
    "start_time": "2023-07-21T05:18:00.576Z"
   },
   {
    "duration": 13,
    "start_time": "2023-07-21T05:21:28.590Z"
   },
   {
    "duration": 110,
    "start_time": "2023-07-21T05:21:35.107Z"
   },
   {
    "duration": 13,
    "start_time": "2023-07-21T05:21:46.391Z"
   },
   {
    "duration": 6,
    "start_time": "2023-07-22T05:37:15.934Z"
   },
   {
    "duration": 4,
    "start_time": "2023-07-22T05:37:15.941Z"
   },
   {
    "duration": 82,
    "start_time": "2023-07-22T05:37:15.947Z"
   },
   {
    "duration": 13,
    "start_time": "2023-07-22T05:37:16.030Z"
   },
   {
    "duration": 16,
    "start_time": "2023-07-22T05:37:16.045Z"
   },
   {
    "duration": 13,
    "start_time": "2023-07-22T05:37:16.063Z"
   },
   {
    "duration": 15,
    "start_time": "2023-07-22T05:37:16.077Z"
   },
   {
    "duration": 14,
    "start_time": "2023-07-22T05:37:16.093Z"
   },
   {
    "duration": 6,
    "start_time": "2023-07-22T05:37:16.108Z"
   },
   {
    "duration": 9,
    "start_time": "2023-07-22T05:37:16.115Z"
   },
   {
    "duration": 14,
    "start_time": "2023-07-22T05:37:16.125Z"
   },
   {
    "duration": 268,
    "start_time": "2023-07-22T05:37:16.140Z"
   },
   {
    "duration": 11,
    "start_time": "2023-07-22T05:37:16.409Z"
   },
   {
    "duration": 269,
    "start_time": "2023-07-22T05:37:16.421Z"
   },
   {
    "duration": 5,
    "start_time": "2023-07-22T05:37:16.692Z"
   },
   {
    "duration": 176,
    "start_time": "2023-07-22T05:37:16.707Z"
   },
   {
    "duration": 135,
    "start_time": "2023-07-22T05:37:16.885Z"
   },
   {
    "duration": 18,
    "start_time": "2023-07-22T05:37:17.021Z"
   },
   {
    "duration": 12,
    "start_time": "2023-07-22T05:37:17.040Z"
   },
   {
    "duration": 282,
    "start_time": "2023-07-22T05:37:17.054Z"
   },
   {
    "duration": 260,
    "start_time": "2023-07-22T05:37:17.338Z"
   },
   {
    "duration": 375,
    "start_time": "2023-07-22T05:37:17.605Z"
   },
   {
    "duration": 282,
    "start_time": "2023-07-22T05:37:17.982Z"
   },
   {
    "duration": 428,
    "start_time": "2023-07-22T05:37:18.266Z"
   },
   {
    "duration": 177,
    "start_time": "2023-07-22T05:37:18.695Z"
   },
   {
    "duration": 155,
    "start_time": "2023-07-22T05:37:18.874Z"
   },
   {
    "duration": 4,
    "start_time": "2023-07-22T05:37:19.031Z"
   },
   {
    "duration": 201,
    "start_time": "2023-07-22T05:37:19.036Z"
   },
   {
    "duration": 177,
    "start_time": "2023-07-22T05:37:19.239Z"
   },
   {
    "duration": 5,
    "start_time": "2023-07-22T05:37:19.417Z"
   },
   {
    "duration": 212,
    "start_time": "2023-07-22T05:37:19.423Z"
   },
   {
    "duration": 129,
    "start_time": "2023-07-22T05:37:19.636Z"
   },
   {
    "duration": 5,
    "start_time": "2023-07-22T05:37:19.767Z"
   },
   {
    "duration": 27,
    "start_time": "2023-07-22T05:37:19.773Z"
   },
   {
    "duration": 10,
    "start_time": "2023-07-22T05:37:19.802Z"
   },
   {
    "duration": 9,
    "start_time": "2023-07-22T05:37:19.813Z"
   },
   {
    "duration": 27,
    "start_time": "2023-07-22T05:37:19.823Z"
   },
   {
    "duration": 20,
    "start_time": "2023-07-22T05:37:19.851Z"
   },
   {
    "duration": 11,
    "start_time": "2023-07-22T05:37:19.873Z"
   },
   {
    "duration": 19,
    "start_time": "2023-07-22T05:46:39.416Z"
   },
   {
    "duration": 18,
    "start_time": "2023-07-22T05:46:44.787Z"
   },
   {
    "duration": 21,
    "start_time": "2023-07-22T05:47:17.597Z"
   },
   {
    "duration": 1064,
    "start_time": "2023-07-22T05:51:26.893Z"
   },
   {
    "duration": 3,
    "start_time": "2023-07-22T05:51:27.959Z"
   },
   {
    "duration": 76,
    "start_time": "2023-07-22T05:51:32.103Z"
   },
   {
    "duration": 16,
    "start_time": "2023-07-22T05:51:32.180Z"
   },
   {
    "duration": 33,
    "start_time": "2023-07-22T05:51:32.198Z"
   },
   {
    "duration": 15,
    "start_time": "2023-07-22T05:51:32.233Z"
   },
   {
    "duration": 23,
    "start_time": "2023-07-22T05:51:32.250Z"
   },
   {
    "duration": 10,
    "start_time": "2023-07-22T05:51:32.274Z"
   },
   {
    "duration": 36,
    "start_time": "2023-07-22T05:51:32.286Z"
   },
   {
    "duration": 23,
    "start_time": "2023-07-22T05:51:32.324Z"
   },
   {
    "duration": 24,
    "start_time": "2023-07-22T05:51:32.349Z"
   },
   {
    "duration": 338,
    "start_time": "2023-07-22T05:51:32.375Z"
   },
   {
    "duration": 11,
    "start_time": "2023-07-22T05:51:37.873Z"
   },
   {
    "duration": 258,
    "start_time": "2023-07-22T05:51:38.004Z"
   },
   {
    "duration": 5,
    "start_time": "2023-07-22T05:51:38.264Z"
   },
   {
    "duration": 163,
    "start_time": "2023-07-22T05:51:38.270Z"
   },
   {
    "duration": 122,
    "start_time": "2023-07-22T05:51:48.493Z"
   },
   {
    "duration": 7,
    "start_time": "2023-07-22T05:51:48.617Z"
   },
   {
    "duration": 15,
    "start_time": "2023-07-22T05:51:48.626Z"
   },
   {
    "duration": 297,
    "start_time": "2023-07-22T05:51:48.643Z"
   },
   {
    "duration": 230,
    "start_time": "2023-07-22T05:51:48.942Z"
   },
   {
    "duration": 359,
    "start_time": "2023-07-22T05:51:49.175Z"
   },
   {
    "duration": 257,
    "start_time": "2023-07-22T05:51:49.535Z"
   },
   {
    "duration": 344,
    "start_time": "2023-07-22T05:51:49.794Z"
   },
   {
    "duration": 210,
    "start_time": "2023-07-22T05:51:50.139Z"
   },
   {
    "duration": 140,
    "start_time": "2023-07-22T05:51:50.350Z"
   },
   {
    "duration": 4,
    "start_time": "2023-07-22T05:51:50.492Z"
   },
   {
    "duration": 181,
    "start_time": "2023-07-22T05:51:50.497Z"
   },
   {
    "duration": 167,
    "start_time": "2023-07-22T05:51:56.584Z"
   },
   {
    "duration": 4,
    "start_time": "2023-07-22T05:51:56.753Z"
   },
   {
    "duration": 209,
    "start_time": "2023-07-22T05:51:56.823Z"
   },
   {
    "duration": 116,
    "start_time": "2023-07-22T05:52:01.048Z"
   },
   {
    "duration": 6,
    "start_time": "2023-07-22T05:52:01.166Z"
   },
   {
    "duration": 66,
    "start_time": "2023-07-22T05:52:01.173Z"
   },
   {
    "duration": 33,
    "start_time": "2023-07-22T05:52:01.240Z"
   },
   {
    "duration": 42,
    "start_time": "2023-07-22T05:52:01.275Z"
   },
   {
    "duration": 64,
    "start_time": "2023-07-22T05:52:01.318Z"
   },
   {
    "duration": 76,
    "start_time": "2023-07-22T05:52:01.384Z"
   },
   {
    "duration": 34,
    "start_time": "2023-07-22T05:52:01.461Z"
   },
   {
    "duration": 10,
    "start_time": "2023-07-22T05:52:49.633Z"
   },
   {
    "duration": 1013,
    "start_time": "2023-07-22T06:30:04.856Z"
   },
   {
    "duration": 3,
    "start_time": "2023-07-22T06:30:05.871Z"
   },
   {
    "duration": 79,
    "start_time": "2023-07-22T06:30:05.876Z"
   },
   {
    "duration": 16,
    "start_time": "2023-07-22T06:30:05.957Z"
   },
   {
    "duration": 28,
    "start_time": "2023-07-22T06:30:05.974Z"
   },
   {
    "duration": 22,
    "start_time": "2023-07-22T06:30:06.004Z"
   },
   {
    "duration": 18,
    "start_time": "2023-07-22T06:30:06.027Z"
   },
   {
    "duration": 27,
    "start_time": "2023-07-22T06:30:06.046Z"
   },
   {
    "duration": 19,
    "start_time": "2023-07-22T06:30:06.074Z"
   },
   {
    "duration": 25,
    "start_time": "2023-07-22T06:30:06.095Z"
   },
   {
    "duration": 40,
    "start_time": "2023-07-22T06:30:06.121Z"
   },
   {
    "duration": 319,
    "start_time": "2023-07-22T06:30:06.162Z"
   },
   {
    "duration": 11,
    "start_time": "2023-07-22T06:30:06.483Z"
   },
   {
    "duration": 269,
    "start_time": "2023-07-22T06:30:06.495Z"
   },
   {
    "duration": 5,
    "start_time": "2023-07-22T06:30:06.766Z"
   },
   {
    "duration": 165,
    "start_time": "2023-07-22T06:30:06.773Z"
   },
   {
    "duration": 123,
    "start_time": "2023-07-22T06:30:06.939Z"
   },
   {
    "duration": 7,
    "start_time": "2023-07-22T06:30:07.064Z"
   },
   {
    "duration": 14,
    "start_time": "2023-07-22T06:30:07.072Z"
   },
   {
    "duration": 321,
    "start_time": "2023-07-22T06:30:07.087Z"
   },
   {
    "duration": 252,
    "start_time": "2023-07-22T06:30:07.410Z"
   },
   {
    "duration": 351,
    "start_time": "2023-07-22T06:30:07.664Z"
   },
   {
    "duration": 259,
    "start_time": "2023-07-22T06:30:08.018Z"
   },
   {
    "duration": 371,
    "start_time": "2023-07-22T06:30:08.278Z"
   },
   {
    "duration": 220,
    "start_time": "2023-07-22T06:30:08.651Z"
   },
   {
    "duration": 149,
    "start_time": "2023-07-22T06:30:08.873Z"
   },
   {
    "duration": 5,
    "start_time": "2023-07-22T06:30:09.023Z"
   },
   {
    "duration": 186,
    "start_time": "2023-07-22T06:30:09.029Z"
   },
   {
    "duration": 152,
    "start_time": "2023-07-22T06:30:09.217Z"
   },
   {
    "duration": 4,
    "start_time": "2023-07-22T06:30:09.371Z"
   },
   {
    "duration": 205,
    "start_time": "2023-07-22T06:30:09.376Z"
   },
   {
    "duration": 123,
    "start_time": "2023-07-22T06:30:09.583Z"
   },
   {
    "duration": 5,
    "start_time": "2023-07-22T06:30:09.708Z"
   },
   {
    "duration": 23,
    "start_time": "2023-07-22T06:30:09.714Z"
   },
   {
    "duration": 9,
    "start_time": "2023-07-22T06:30:09.738Z"
   },
   {
    "duration": 28,
    "start_time": "2023-07-22T06:30:09.748Z"
   },
   {
    "duration": 17,
    "start_time": "2023-07-22T06:30:09.777Z"
   },
   {
    "duration": 25,
    "start_time": "2023-07-22T06:30:09.795Z"
   },
   {
    "duration": 11,
    "start_time": "2023-07-22T06:30:09.821Z"
   },
   {
    "duration": 10,
    "start_time": "2023-07-22T06:39:53.256Z"
   },
   {
    "duration": 1054,
    "start_time": "2023-07-22T06:40:33.430Z"
   },
   {
    "duration": 3,
    "start_time": "2023-07-22T06:40:34.486Z"
   },
   {
    "duration": 83,
    "start_time": "2023-07-22T06:40:34.490Z"
   },
   {
    "duration": 17,
    "start_time": "2023-07-22T06:40:34.575Z"
   },
   {
    "duration": 16,
    "start_time": "2023-07-22T06:40:34.595Z"
   },
   {
    "duration": 15,
    "start_time": "2023-07-22T06:40:34.613Z"
   },
   {
    "duration": 8,
    "start_time": "2023-07-22T06:40:34.630Z"
   },
   {
    "duration": 9,
    "start_time": "2023-07-22T06:40:34.639Z"
   },
   {
    "duration": 8,
    "start_time": "2023-07-22T06:40:34.649Z"
   },
   {
    "duration": 15,
    "start_time": "2023-07-22T06:40:34.659Z"
   },
   {
    "duration": 34,
    "start_time": "2023-07-22T06:40:34.676Z"
   },
   {
    "duration": 310,
    "start_time": "2023-07-22T06:40:34.711Z"
   },
   {
    "duration": 11,
    "start_time": "2023-07-22T06:40:35.022Z"
   },
   {
    "duration": 258,
    "start_time": "2023-07-22T06:40:35.035Z"
   },
   {
    "duration": 11,
    "start_time": "2023-07-22T06:40:35.295Z"
   },
   {
    "duration": 150,
    "start_time": "2023-07-22T06:40:35.307Z"
   },
   {
    "duration": 117,
    "start_time": "2023-07-22T06:40:35.458Z"
   },
   {
    "duration": 5,
    "start_time": "2023-07-22T06:40:35.576Z"
   },
   {
    "duration": 14,
    "start_time": "2023-07-22T06:40:35.582Z"
   },
   {
    "duration": 303,
    "start_time": "2023-07-22T06:40:35.597Z"
   },
   {
    "duration": 237,
    "start_time": "2023-07-22T06:40:35.902Z"
   },
   {
    "duration": 320,
    "start_time": "2023-07-22T06:40:36.140Z"
   },
   {
    "duration": 271,
    "start_time": "2023-07-22T06:40:36.461Z"
   },
   {
    "duration": 332,
    "start_time": "2023-07-22T06:40:36.734Z"
   },
   {
    "duration": 238,
    "start_time": "2023-07-22T06:40:37.068Z"
   },
   {
    "duration": 140,
    "start_time": "2023-07-22T06:40:37.308Z"
   },
   {
    "duration": 4,
    "start_time": "2023-07-22T06:40:37.450Z"
   },
   {
    "duration": 172,
    "start_time": "2023-07-22T06:40:37.456Z"
   },
   {
    "duration": 169,
    "start_time": "2023-07-22T06:40:37.630Z"
   },
   {
    "duration": 8,
    "start_time": "2023-07-22T06:40:37.801Z"
   },
   {
    "duration": 219,
    "start_time": "2023-07-22T06:40:37.810Z"
   },
   {
    "duration": 115,
    "start_time": "2023-07-22T06:40:38.030Z"
   },
   {
    "duration": 6,
    "start_time": "2023-07-22T06:40:38.146Z"
   },
   {
    "duration": 27,
    "start_time": "2023-07-22T06:40:38.154Z"
   },
   {
    "duration": 25,
    "start_time": "2023-07-22T06:40:38.183Z"
   },
   {
    "duration": 14,
    "start_time": "2023-07-22T06:40:38.210Z"
   },
   {
    "duration": 34,
    "start_time": "2023-07-22T06:40:38.226Z"
   },
   {
    "duration": 85,
    "start_time": "2023-07-22T06:40:38.261Z"
   },
   {
    "duration": 11,
    "start_time": "2023-07-22T06:40:38.347Z"
   },
   {
    "duration": 19,
    "start_time": "2023-07-22T06:44:52.179Z"
   },
   {
    "duration": 18,
    "start_time": "2023-07-22T06:51:19.079Z"
   },
   {
    "duration": 111,
    "start_time": "2023-07-22T06:53:53.339Z"
   },
   {
    "duration": 1107,
    "start_time": "2023-07-22T06:55:25.000Z"
   },
   {
    "duration": 4,
    "start_time": "2023-07-22T06:55:26.109Z"
   },
   {
    "duration": 89,
    "start_time": "2023-07-22T06:55:26.115Z"
   },
   {
    "duration": 19,
    "start_time": "2023-07-22T06:55:26.206Z"
   },
   {
    "duration": 19,
    "start_time": "2023-07-22T06:55:26.227Z"
   },
   {
    "duration": 15,
    "start_time": "2023-07-22T06:55:26.248Z"
   },
   {
    "duration": 41,
    "start_time": "2023-07-22T06:55:26.265Z"
   },
   {
    "duration": 11,
    "start_time": "2023-07-22T06:55:26.308Z"
   },
   {
    "duration": 6,
    "start_time": "2023-07-22T06:55:26.321Z"
   },
   {
    "duration": 6,
    "start_time": "2023-07-22T06:55:26.329Z"
   },
   {
    "duration": 20,
    "start_time": "2023-07-22T06:55:26.336Z"
   },
   {
    "duration": 367,
    "start_time": "2023-07-22T06:55:26.358Z"
   },
   {
    "duration": 12,
    "start_time": "2023-07-22T06:55:26.726Z"
   },
   {
    "duration": 286,
    "start_time": "2023-07-22T06:55:26.739Z"
   },
   {
    "duration": 5,
    "start_time": "2023-07-22T06:55:27.027Z"
   },
   {
    "duration": 180,
    "start_time": "2023-07-22T06:55:27.034Z"
   },
   {
    "duration": 137,
    "start_time": "2023-07-22T06:55:27.216Z"
   },
   {
    "duration": 6,
    "start_time": "2023-07-22T06:55:27.355Z"
   },
   {
    "duration": 11,
    "start_time": "2023-07-22T06:55:27.362Z"
   },
   {
    "duration": 351,
    "start_time": "2023-07-22T06:55:27.374Z"
   },
   {
    "duration": 241,
    "start_time": "2023-07-22T06:55:27.727Z"
   },
   {
    "duration": 356,
    "start_time": "2023-07-22T06:55:27.971Z"
   },
   {
    "duration": 254,
    "start_time": "2023-07-22T06:55:35.271Z"
   },
   {
    "duration": 333,
    "start_time": "2023-07-22T06:55:42.631Z"
   },
   {
    "duration": 219,
    "start_time": "2023-07-22T06:55:42.966Z"
   },
   {
    "duration": 146,
    "start_time": "2023-07-22T06:55:43.187Z"
   },
   {
    "duration": 6,
    "start_time": "2023-07-22T06:55:51.840Z"
   },
   {
    "duration": 185,
    "start_time": "2023-07-22T06:55:51.847Z"
   },
   {
    "duration": 162,
    "start_time": "2023-07-22T06:56:00.610Z"
   },
   {
    "duration": 5,
    "start_time": "2023-07-22T06:56:00.773Z"
   },
   {
    "duration": 205,
    "start_time": "2023-07-22T06:56:02.102Z"
   },
   {
    "duration": 157,
    "start_time": "2023-07-22T06:56:02.309Z"
   },
   {
    "duration": 5,
    "start_time": "2023-07-22T06:56:02.468Z"
   },
   {
    "duration": 60,
    "start_time": "2023-07-22T06:56:02.475Z"
   },
   {
    "duration": 14,
    "start_time": "2023-07-22T06:56:02.537Z"
   },
   {
    "duration": 30,
    "start_time": "2023-07-22T06:56:02.553Z"
   },
   {
    "duration": 24,
    "start_time": "2023-07-22T06:56:02.585Z"
   },
   {
    "duration": 71,
    "start_time": "2023-07-22T06:56:02.611Z"
   },
   {
    "duration": 18,
    "start_time": "2023-07-22T06:56:02.684Z"
   },
   {
    "duration": 10,
    "start_time": "2023-07-22T07:24:43.949Z"
   },
   {
    "duration": 17,
    "start_time": "2023-07-22T07:24:45.819Z"
   },
   {
    "duration": 12,
    "start_time": "2023-07-22T07:32:42.429Z"
   },
   {
    "duration": 9,
    "start_time": "2023-07-22T07:32:46.619Z"
   },
   {
    "duration": 9,
    "start_time": "2023-07-22T07:32:56.629Z"
   },
   {
    "duration": 17,
    "start_time": "2023-07-22T07:33:00.519Z"
   },
   {
    "duration": 1090,
    "start_time": "2023-07-22T07:35:04.978Z"
   },
   {
    "duration": 3,
    "start_time": "2023-07-22T07:35:06.070Z"
   },
   {
    "duration": 99,
    "start_time": "2023-07-22T07:35:06.074Z"
   },
   {
    "duration": 17,
    "start_time": "2023-07-22T07:35:06.174Z"
   },
   {
    "duration": 52,
    "start_time": "2023-07-22T07:35:06.192Z"
   },
   {
    "duration": 14,
    "start_time": "2023-07-22T07:35:06.245Z"
   },
   {
    "duration": 27,
    "start_time": "2023-07-22T07:35:06.260Z"
   },
   {
    "duration": 47,
    "start_time": "2023-07-22T07:35:06.288Z"
   },
   {
    "duration": 6,
    "start_time": "2023-07-22T07:35:06.336Z"
   },
   {
    "duration": 55,
    "start_time": "2023-07-22T07:35:06.344Z"
   },
   {
    "duration": 13,
    "start_time": "2023-07-22T07:35:06.400Z"
   },
   {
    "duration": 311,
    "start_time": "2023-07-22T07:35:06.414Z"
   },
   {
    "duration": 11,
    "start_time": "2023-07-22T07:35:06.727Z"
   },
   {
    "duration": 274,
    "start_time": "2023-07-22T07:35:06.739Z"
   },
   {
    "duration": 10,
    "start_time": "2023-07-22T07:35:07.014Z"
   },
   {
    "duration": 48,
    "start_time": "2023-07-22T07:35:07.025Z"
   },
   {
    "duration": 6,
    "start_time": "2023-07-22T07:35:07.074Z"
   },
   {
    "duration": 153,
    "start_time": "2023-07-22T07:35:07.081Z"
   },
   {
    "duration": 124,
    "start_time": "2023-07-22T07:35:07.236Z"
   },
   {
    "duration": 9,
    "start_time": "2023-07-22T07:35:07.362Z"
   },
   {
    "duration": 16,
    "start_time": "2023-07-22T07:35:07.372Z"
   },
   {
    "duration": 292,
    "start_time": "2023-07-22T07:35:07.390Z"
   },
   {
    "duration": 250,
    "start_time": "2023-07-22T07:35:07.684Z"
   },
   {
    "duration": 311,
    "start_time": "2023-07-22T07:35:07.935Z"
   },
   {
    "duration": 242,
    "start_time": "2023-07-22T07:35:08.247Z"
   },
   {
    "duration": 358,
    "start_time": "2023-07-22T07:35:08.490Z"
   },
   {
    "duration": 244,
    "start_time": "2023-07-22T07:35:08.849Z"
   },
   {
    "duration": 155,
    "start_time": "2023-07-22T07:35:09.097Z"
   },
   {
    "duration": 5,
    "start_time": "2023-07-22T07:35:09.254Z"
   },
   {
    "duration": 169,
    "start_time": "2023-07-22T07:35:09.261Z"
   },
   {
    "duration": 151,
    "start_time": "2023-07-22T07:35:09.432Z"
   },
   {
    "duration": 6,
    "start_time": "2023-07-22T07:35:09.585Z"
   },
   {
    "duration": 219,
    "start_time": "2023-07-22T07:35:09.592Z"
   },
   {
    "duration": 130,
    "start_time": "2023-07-22T07:35:09.813Z"
   },
   {
    "duration": 6,
    "start_time": "2023-07-22T07:35:09.944Z"
   },
   {
    "duration": 25,
    "start_time": "2023-07-22T07:35:09.951Z"
   },
   {
    "duration": 8,
    "start_time": "2023-07-22T07:35:09.977Z"
   },
   {
    "duration": 25,
    "start_time": "2023-07-22T07:35:09.987Z"
   },
   {
    "duration": 5,
    "start_time": "2023-07-22T07:35:10.014Z"
   },
   {
    "duration": 46,
    "start_time": "2023-07-22T07:35:10.021Z"
   },
   {
    "duration": 12,
    "start_time": "2023-07-22T07:35:10.068Z"
   },
   {
    "duration": 8,
    "start_time": "2023-07-22T07:38:20.816Z"
   },
   {
    "duration": 1094,
    "start_time": "2023-07-22T07:38:36.685Z"
   },
   {
    "duration": 3,
    "start_time": "2023-07-22T07:38:37.781Z"
   },
   {
    "duration": 81,
    "start_time": "2023-07-22T07:38:37.786Z"
   },
   {
    "duration": 19,
    "start_time": "2023-07-22T07:38:37.869Z"
   },
   {
    "duration": 17,
    "start_time": "2023-07-22T07:38:37.889Z"
   },
   {
    "duration": 14,
    "start_time": "2023-07-22T07:38:37.907Z"
   },
   {
    "duration": 17,
    "start_time": "2023-07-22T07:38:37.922Z"
   },
   {
    "duration": 7,
    "start_time": "2023-07-22T07:38:37.941Z"
   },
   {
    "duration": 16,
    "start_time": "2023-07-22T07:38:37.950Z"
   },
   {
    "duration": 5,
    "start_time": "2023-07-22T07:38:37.968Z"
   },
   {
    "duration": 13,
    "start_time": "2023-07-22T07:38:37.974Z"
   },
   {
    "duration": 345,
    "start_time": "2023-07-22T07:38:37.988Z"
   },
   {
    "duration": 12,
    "start_time": "2023-07-22T07:38:38.334Z"
   },
   {
    "duration": 1196,
    "start_time": "2023-07-22T14:48:42.888Z"
   },
   {
    "duration": 4,
    "start_time": "2023-07-22T14:48:44.086Z"
   },
   {
    "duration": 211,
    "start_time": "2023-07-22T14:48:44.091Z"
   },
   {
    "duration": 20,
    "start_time": "2023-07-22T14:48:44.303Z"
   },
   {
    "duration": 23,
    "start_time": "2023-07-22T14:48:44.325Z"
   },
   {
    "duration": 13,
    "start_time": "2023-07-22T14:48:44.349Z"
   },
   {
    "duration": 10,
    "start_time": "2023-07-22T14:48:44.363Z"
   },
   {
    "duration": 38,
    "start_time": "2023-07-22T14:48:44.375Z"
   },
   {
    "duration": 6,
    "start_time": "2023-07-22T14:48:44.415Z"
   },
   {
    "duration": 10,
    "start_time": "2023-07-22T14:48:44.424Z"
   },
   {
    "duration": 18,
    "start_time": "2023-07-22T14:48:44.435Z"
   },
   {
    "duration": 324,
    "start_time": "2023-07-22T14:48:44.454Z"
   },
   {
    "duration": 14,
    "start_time": "2023-07-22T14:48:44.780Z"
   },
   {
    "duration": 247,
    "start_time": "2023-07-22T14:48:44.796Z"
   },
   {
    "duration": 5,
    "start_time": "2023-07-22T14:48:45.045Z"
   },
   {
    "duration": 159,
    "start_time": "2023-07-22T14:48:45.051Z"
   },
   {
    "duration": 122,
    "start_time": "2023-07-22T14:48:45.211Z"
   },
   {
    "duration": 8,
    "start_time": "2023-07-22T14:48:45.335Z"
   },
   {
    "duration": 11,
    "start_time": "2023-07-22T14:48:45.344Z"
   },
   {
    "duration": 10,
    "start_time": "2023-07-22T14:48:45.356Z"
   },
   {
    "duration": 318,
    "start_time": "2023-07-22T14:48:45.368Z"
   },
   {
    "duration": 259,
    "start_time": "2023-07-22T14:48:45.687Z"
   },
   {
    "duration": 377,
    "start_time": "2023-07-22T14:48:45.948Z"
   },
   {
    "duration": 251,
    "start_time": "2023-07-22T14:48:46.327Z"
   },
   {
    "duration": 368,
    "start_time": "2023-07-22T14:48:46.580Z"
   },
   {
    "duration": 218,
    "start_time": "2023-07-22T14:48:46.949Z"
   },
   {
    "duration": 142,
    "start_time": "2023-07-22T14:48:47.168Z"
   },
   {
    "duration": 5,
    "start_time": "2023-07-22T14:48:47.313Z"
   },
   {
    "duration": 203,
    "start_time": "2023-07-22T14:48:47.319Z"
   },
   {
    "duration": 171,
    "start_time": "2023-07-22T14:48:47.525Z"
   },
   {
    "duration": 11,
    "start_time": "2023-07-22T14:48:47.698Z"
   },
   {
    "duration": 209,
    "start_time": "2023-07-22T14:48:47.710Z"
   },
   {
    "duration": 127,
    "start_time": "2023-07-22T14:48:47.920Z"
   },
   {
    "duration": 5,
    "start_time": "2023-07-22T14:48:48.049Z"
   },
   {
    "duration": 21,
    "start_time": "2023-07-22T14:48:48.056Z"
   },
   {
    "duration": 9,
    "start_time": "2023-07-22T14:48:48.078Z"
   },
   {
    "duration": 25,
    "start_time": "2023-07-22T14:48:48.088Z"
   },
   {
    "duration": 10,
    "start_time": "2023-07-22T14:48:48.115Z"
   },
   {
    "duration": 18,
    "start_time": "2023-07-22T14:48:48.127Z"
   },
   {
    "duration": 12,
    "start_time": "2023-07-22T14:48:48.147Z"
   },
   {
    "duration": 92,
    "start_time": "2023-07-22T14:50:07.311Z"
   },
   {
    "duration": 9,
    "start_time": "2023-07-22T14:50:17.282Z"
   },
   {
    "duration": 9,
    "start_time": "2023-07-22T14:52:22.768Z"
   },
   {
    "duration": 13,
    "start_time": "2023-07-22T14:54:27.788Z"
   },
   {
    "duration": 10,
    "start_time": "2023-07-22T14:55:50.814Z"
   },
   {
    "duration": 20,
    "start_time": "2023-07-22T14:56:01.496Z"
   },
   {
    "duration": 9,
    "start_time": "2023-07-22T14:56:54.330Z"
   },
   {
    "duration": 1062,
    "start_time": "2023-07-22T14:57:02.705Z"
   },
   {
    "duration": 4,
    "start_time": "2023-07-22T14:57:03.769Z"
   },
   {
    "duration": 89,
    "start_time": "2023-07-22T14:57:03.774Z"
   },
   {
    "duration": 20,
    "start_time": "2023-07-22T14:57:03.866Z"
   },
   {
    "duration": 18,
    "start_time": "2023-07-22T14:57:03.887Z"
   },
   {
    "duration": 22,
    "start_time": "2023-07-22T14:57:03.906Z"
   },
   {
    "duration": 12,
    "start_time": "2023-07-22T14:57:03.930Z"
   },
   {
    "duration": 12,
    "start_time": "2023-07-22T14:57:03.943Z"
   },
   {
    "duration": 10,
    "start_time": "2023-07-22T14:57:03.956Z"
   },
   {
    "duration": 4,
    "start_time": "2023-07-22T14:57:03.969Z"
   },
   {
    "duration": 38,
    "start_time": "2023-07-22T14:57:03.975Z"
   },
   {
    "duration": 338,
    "start_time": "2023-07-22T14:57:04.015Z"
   },
   {
    "duration": 12,
    "start_time": "2023-07-22T14:57:04.354Z"
   },
   {
    "duration": 261,
    "start_time": "2023-07-22T14:57:04.367Z"
   },
   {
    "duration": 6,
    "start_time": "2023-07-22T14:57:04.629Z"
   },
   {
    "duration": 152,
    "start_time": "2023-07-22T14:57:04.636Z"
   },
   {
    "duration": 127,
    "start_time": "2023-07-22T14:57:04.789Z"
   },
   {
    "duration": 5,
    "start_time": "2023-07-22T14:57:04.918Z"
   },
   {
    "duration": 14,
    "start_time": "2023-07-22T14:57:04.924Z"
   },
   {
    "duration": 8,
    "start_time": "2023-07-22T14:57:04.940Z"
   },
   {
    "duration": 10,
    "start_time": "2023-07-22T14:57:04.949Z"
   },
   {
    "duration": 312,
    "start_time": "2023-07-22T14:57:04.960Z"
   },
   {
    "duration": 242,
    "start_time": "2023-07-22T14:57:05.273Z"
   },
   {
    "duration": 351,
    "start_time": "2023-07-22T14:57:05.516Z"
   },
   {
    "duration": 250,
    "start_time": "2023-07-22T14:57:05.869Z"
   },
   {
    "duration": 327,
    "start_time": "2023-07-22T14:57:06.121Z"
   },
   {
    "duration": 240,
    "start_time": "2023-07-22T14:57:06.449Z"
   },
   {
    "duration": 152,
    "start_time": "2023-07-22T14:57:06.693Z"
   },
   {
    "duration": 4,
    "start_time": "2023-07-22T14:57:06.846Z"
   },
   {
    "duration": 182,
    "start_time": "2023-07-22T14:57:06.852Z"
   },
   {
    "duration": 155,
    "start_time": "2023-07-22T14:57:07.035Z"
   },
   {
    "duration": 4,
    "start_time": "2023-07-22T14:57:07.191Z"
   },
   {
    "duration": 217,
    "start_time": "2023-07-22T14:57:07.196Z"
   },
   {
    "duration": 168,
    "start_time": "2023-07-22T14:57:07.415Z"
   },
   {
    "duration": 5,
    "start_time": "2023-07-22T14:57:07.585Z"
   },
   {
    "duration": 44,
    "start_time": "2023-07-22T14:57:07.591Z"
   },
   {
    "duration": 10,
    "start_time": "2023-07-22T14:57:07.637Z"
   },
   {
    "duration": 11,
    "start_time": "2023-07-22T14:57:07.649Z"
   },
   {
    "duration": 7,
    "start_time": "2023-07-22T14:57:07.661Z"
   },
   {
    "duration": 28,
    "start_time": "2023-07-22T14:57:07.669Z"
   },
   {
    "duration": 15,
    "start_time": "2023-07-22T14:57:07.698Z"
   },
   {
    "duration": 1081,
    "start_time": "2023-07-22T14:58:18.895Z"
   },
   {
    "duration": 4,
    "start_time": "2023-07-22T14:58:19.978Z"
   },
   {
    "duration": 112,
    "start_time": "2023-07-22T14:58:19.983Z"
   },
   {
    "duration": 17,
    "start_time": "2023-07-22T14:58:20.097Z"
   },
   {
    "duration": 35,
    "start_time": "2023-07-22T14:58:20.115Z"
   },
   {
    "duration": 15,
    "start_time": "2023-07-22T14:58:20.151Z"
   },
   {
    "duration": 11,
    "start_time": "2023-07-22T14:58:20.167Z"
   },
   {
    "duration": 21,
    "start_time": "2023-07-22T14:58:20.179Z"
   },
   {
    "duration": 15,
    "start_time": "2023-07-22T14:58:20.202Z"
   },
   {
    "duration": 14,
    "start_time": "2023-07-22T14:58:20.219Z"
   },
   {
    "duration": 11,
    "start_time": "2023-07-22T14:58:20.234Z"
   },
   {
    "duration": 306,
    "start_time": "2023-07-22T14:58:20.247Z"
   },
   {
    "duration": 11,
    "start_time": "2023-07-22T14:58:20.554Z"
   },
   {
    "duration": 266,
    "start_time": "2023-07-22T14:58:20.567Z"
   },
   {
    "duration": 5,
    "start_time": "2023-07-22T14:58:20.835Z"
   },
   {
    "duration": 184,
    "start_time": "2023-07-22T14:58:20.841Z"
   },
   {
    "duration": 121,
    "start_time": "2023-07-22T14:58:21.026Z"
   },
   {
    "duration": 5,
    "start_time": "2023-07-22T14:58:21.149Z"
   },
   {
    "duration": 28,
    "start_time": "2023-07-22T14:58:21.156Z"
   },
   {
    "duration": 10,
    "start_time": "2023-07-22T14:58:21.185Z"
   },
   {
    "duration": 19,
    "start_time": "2023-07-22T14:58:21.196Z"
   },
   {
    "duration": 349,
    "start_time": "2023-07-22T14:58:21.217Z"
   },
   {
    "duration": 268,
    "start_time": "2023-07-22T14:58:21.568Z"
   },
   {
    "duration": 355,
    "start_time": "2023-07-22T14:58:21.838Z"
   },
   {
    "duration": 297,
    "start_time": "2023-07-22T14:58:22.195Z"
   },
   {
    "duration": 379,
    "start_time": "2023-07-22T14:58:22.494Z"
   },
   {
    "duration": 235,
    "start_time": "2023-07-22T14:58:22.875Z"
   },
   {
    "duration": 134,
    "start_time": "2023-07-22T14:58:23.113Z"
   },
   {
    "duration": 4,
    "start_time": "2023-07-22T14:58:23.248Z"
   },
   {
    "duration": 191,
    "start_time": "2023-07-22T14:58:23.254Z"
   },
   {
    "duration": 155,
    "start_time": "2023-07-22T14:58:23.446Z"
   },
   {
    "duration": 5,
    "start_time": "2023-07-22T14:58:23.606Z"
   },
   {
    "duration": 208,
    "start_time": "2023-07-22T14:58:23.613Z"
   },
   {
    "duration": 147,
    "start_time": "2023-07-22T14:58:23.822Z"
   },
   {
    "duration": 5,
    "start_time": "2023-07-22T14:58:23.971Z"
   },
   {
    "duration": 33,
    "start_time": "2023-07-22T14:58:23.977Z"
   },
   {
    "duration": 10,
    "start_time": "2023-07-22T14:58:24.012Z"
   },
   {
    "duration": 12,
    "start_time": "2023-07-22T14:58:24.023Z"
   },
   {
    "duration": 8,
    "start_time": "2023-07-22T14:58:24.036Z"
   },
   {
    "duration": 20,
    "start_time": "2023-07-22T14:58:24.045Z"
   },
   {
    "duration": 43,
    "start_time": "2023-07-22T14:58:24.066Z"
   },
   {
    "duration": 1414,
    "start_time": "2023-07-22T20:59:01.153Z"
   },
   {
    "duration": 5,
    "start_time": "2023-07-22T20:59:02.569Z"
   },
   {
    "duration": 223,
    "start_time": "2023-07-22T20:59:02.575Z"
   },
   {
    "duration": 21,
    "start_time": "2023-07-22T20:59:02.800Z"
   },
   {
    "duration": 34,
    "start_time": "2023-07-22T20:59:02.823Z"
   },
   {
    "duration": 46,
    "start_time": "2023-07-22T20:59:02.858Z"
   },
   {
    "duration": 34,
    "start_time": "2023-07-22T20:59:02.906Z"
   },
   {
    "duration": 19,
    "start_time": "2023-07-22T20:59:02.942Z"
   },
   {
    "duration": 18,
    "start_time": "2023-07-22T20:59:02.962Z"
   },
   {
    "duration": 33,
    "start_time": "2023-07-22T20:59:02.981Z"
   },
   {
    "duration": 40,
    "start_time": "2023-07-22T20:59:03.016Z"
   },
   {
    "duration": 385,
    "start_time": "2023-07-22T20:59:03.058Z"
   },
   {
    "duration": 13,
    "start_time": "2023-07-22T20:59:03.446Z"
   },
   {
    "duration": 308,
    "start_time": "2023-07-22T20:59:03.463Z"
   },
   {
    "duration": 6,
    "start_time": "2023-07-22T20:59:03.774Z"
   },
   {
    "duration": 206,
    "start_time": "2023-07-22T20:59:03.782Z"
   },
   {
    "duration": 145,
    "start_time": "2023-07-22T20:59:03.990Z"
   },
   {
    "duration": 7,
    "start_time": "2023-07-22T20:59:04.137Z"
   },
   {
    "duration": 35,
    "start_time": "2023-07-22T20:59:04.145Z"
   },
   {
    "duration": 24,
    "start_time": "2023-07-22T20:59:04.182Z"
   },
   {
    "duration": 388,
    "start_time": "2023-07-22T20:59:04.208Z"
   },
   {
    "duration": 285,
    "start_time": "2023-07-22T20:59:04.598Z"
   },
   {
    "duration": 450,
    "start_time": "2023-07-22T20:59:04.885Z"
   },
   {
    "duration": 308,
    "start_time": "2023-07-22T20:59:05.337Z"
   },
   {
    "duration": 364,
    "start_time": "2023-07-22T20:59:05.647Z"
   },
   {
    "duration": 250,
    "start_time": "2023-07-22T20:59:06.013Z"
   },
   {
    "duration": 189,
    "start_time": "2023-07-22T20:59:06.265Z"
   },
   {
    "duration": 5,
    "start_time": "2023-07-22T20:59:06.456Z"
   },
   {
    "duration": 209,
    "start_time": "2023-07-22T20:59:06.463Z"
   },
   {
    "duration": 190,
    "start_time": "2023-07-22T20:59:06.674Z"
   },
   {
    "duration": 5,
    "start_time": "2023-07-22T20:59:06.865Z"
   },
   {
    "duration": 236,
    "start_time": "2023-07-22T20:59:06.871Z"
   },
   {
    "duration": 137,
    "start_time": "2023-07-22T20:59:07.112Z"
   },
   {
    "duration": 6,
    "start_time": "2023-07-22T20:59:07.250Z"
   },
   {
    "duration": 38,
    "start_time": "2023-07-22T20:59:07.258Z"
   },
   {
    "duration": 11,
    "start_time": "2023-07-22T20:59:07.298Z"
   },
   {
    "duration": 30,
    "start_time": "2023-07-22T20:59:07.314Z"
   },
   {
    "duration": 16,
    "start_time": "2023-07-22T20:59:07.346Z"
   },
   {
    "duration": 27,
    "start_time": "2023-07-22T20:59:07.364Z"
   },
   {
    "duration": 14,
    "start_time": "2023-07-22T20:59:07.393Z"
   },
   {
    "duration": 10,
    "start_time": "2023-07-22T20:59:32.095Z"
   },
   {
    "duration": 11,
    "start_time": "2023-07-22T21:06:25.275Z"
   },
   {
    "duration": 13,
    "start_time": "2023-07-22T21:17:34.168Z"
   },
   {
    "duration": 10,
    "start_time": "2023-07-22T21:18:05.922Z"
   },
   {
    "duration": 10,
    "start_time": "2023-07-22T21:23:26.842Z"
   },
   {
    "duration": 115,
    "start_time": "2023-07-22T21:23:36.593Z"
   },
   {
    "duration": 11,
    "start_time": "2023-07-22T21:23:40.055Z"
   },
   {
    "duration": 12,
    "start_time": "2023-07-22T21:23:52.999Z"
   },
   {
    "duration": 10,
    "start_time": "2023-07-22T21:25:05.590Z"
   },
   {
    "duration": 1177,
    "start_time": "2023-07-22T21:26:06.682Z"
   },
   {
    "duration": 4,
    "start_time": "2023-07-22T21:26:07.861Z"
   },
   {
    "duration": 87,
    "start_time": "2023-07-22T21:26:07.866Z"
   },
   {
    "duration": 20,
    "start_time": "2023-07-22T21:26:07.955Z"
   },
   {
    "duration": 20,
    "start_time": "2023-07-22T21:26:07.976Z"
   },
   {
    "duration": 16,
    "start_time": "2023-07-22T21:26:07.998Z"
   },
   {
    "duration": 11,
    "start_time": "2023-07-22T21:26:08.016Z"
   },
   {
    "duration": 10,
    "start_time": "2023-07-22T21:26:08.028Z"
   },
   {
    "duration": 7,
    "start_time": "2023-07-22T21:26:08.040Z"
   },
   {
    "duration": 6,
    "start_time": "2023-07-22T21:26:08.050Z"
   },
   {
    "duration": 19,
    "start_time": "2023-07-22T21:26:08.058Z"
   },
   {
    "duration": 369,
    "start_time": "2023-07-22T21:26:08.114Z"
   },
   {
    "duration": 13,
    "start_time": "2023-07-22T21:26:08.484Z"
   },
   {
    "duration": 293,
    "start_time": "2023-07-22T21:26:08.498Z"
   },
   {
    "duration": 21,
    "start_time": "2023-07-22T21:26:08.793Z"
   },
   {
    "duration": 10,
    "start_time": "2023-07-22T21:26:08.816Z"
   },
   {
    "duration": 5,
    "start_time": "2023-07-22T21:26:08.828Z"
   },
   {
    "duration": 193,
    "start_time": "2023-07-22T21:26:08.834Z"
   },
   {
    "duration": 144,
    "start_time": "2023-07-22T21:26:09.029Z"
   },
   {
    "duration": 7,
    "start_time": "2023-07-22T21:26:09.175Z"
   },
   {
    "duration": 31,
    "start_time": "2023-07-22T21:26:09.183Z"
   },
   {
    "duration": 350,
    "start_time": "2023-07-22T21:26:09.216Z"
   },
   {
    "duration": 362,
    "start_time": "2023-07-22T21:26:09.568Z"
   },
   {
    "duration": 375,
    "start_time": "2023-07-22T21:26:09.932Z"
   },
   {
    "duration": 295,
    "start_time": "2023-07-22T21:26:10.309Z"
   },
   {
    "duration": 396,
    "start_time": "2023-07-22T21:26:10.606Z"
   },
   {
    "duration": 283,
    "start_time": "2023-07-22T21:26:11.004Z"
   },
   {
    "duration": 182,
    "start_time": "2023-07-22T21:26:11.291Z"
   },
   {
    "duration": 6,
    "start_time": "2023-07-22T21:26:11.475Z"
   },
   {
    "duration": 214,
    "start_time": "2023-07-22T21:26:11.483Z"
   },
   {
    "duration": 180,
    "start_time": "2023-07-22T21:26:11.699Z"
   },
   {
    "duration": 5,
    "start_time": "2023-07-22T21:26:11.882Z"
   },
   {
    "duration": 261,
    "start_time": "2023-07-22T21:26:11.889Z"
   },
   {
    "duration": 135,
    "start_time": "2023-07-22T21:26:12.153Z"
   },
   {
    "duration": 6,
    "start_time": "2023-07-22T21:26:12.290Z"
   },
   {
    "duration": 34,
    "start_time": "2023-07-22T21:26:12.298Z"
   },
   {
    "duration": 10,
    "start_time": "2023-07-22T21:26:12.335Z"
   },
   {
    "duration": 12,
    "start_time": "2023-07-22T21:26:12.347Z"
   },
   {
    "duration": 8,
    "start_time": "2023-07-22T21:26:12.361Z"
   },
   {
    "duration": 51,
    "start_time": "2023-07-22T21:26:12.371Z"
   },
   {
    "duration": 13,
    "start_time": "2023-07-22T21:26:12.424Z"
   },
   {
    "duration": 10,
    "start_time": "2023-07-22T21:28:41.342Z"
   },
   {
    "duration": 11,
    "start_time": "2023-07-22T21:28:48.514Z"
   },
   {
    "duration": 1142,
    "start_time": "2023-07-22T21:29:35.393Z"
   },
   {
    "duration": 4,
    "start_time": "2023-07-22T21:29:36.538Z"
   },
   {
    "duration": 77,
    "start_time": "2023-07-22T21:29:36.543Z"
   },
   {
    "duration": 21,
    "start_time": "2023-07-22T21:29:36.623Z"
   },
   {
    "duration": 19,
    "start_time": "2023-07-22T21:29:36.645Z"
   },
   {
    "duration": 19,
    "start_time": "2023-07-22T21:29:36.666Z"
   },
   {
    "duration": 27,
    "start_time": "2023-07-22T21:29:36.687Z"
   },
   {
    "duration": 9,
    "start_time": "2023-07-22T21:29:36.715Z"
   },
   {
    "duration": 32,
    "start_time": "2023-07-22T21:29:36.726Z"
   },
   {
    "duration": 15,
    "start_time": "2023-07-22T21:29:36.760Z"
   },
   {
    "duration": 17,
    "start_time": "2023-07-22T21:29:36.777Z"
   },
   {
    "duration": 340,
    "start_time": "2023-07-22T21:29:36.795Z"
   },
   {
    "duration": 12,
    "start_time": "2023-07-22T21:29:37.137Z"
   },
   {
    "duration": 293,
    "start_time": "2023-07-22T21:29:37.150Z"
   },
   {
    "duration": 6,
    "start_time": "2023-07-22T21:29:37.444Z"
   },
   {
    "duration": 195,
    "start_time": "2023-07-22T21:29:37.451Z"
   },
   {
    "duration": 142,
    "start_time": "2023-07-22T21:29:37.648Z"
   },
   {
    "duration": 6,
    "start_time": "2023-07-22T21:29:37.792Z"
   },
   {
    "duration": 22,
    "start_time": "2023-07-22T21:29:37.800Z"
   },
   {
    "duration": 10,
    "start_time": "2023-07-22T21:29:37.824Z"
   },
   {
    "duration": 376,
    "start_time": "2023-07-22T21:29:37.835Z"
   },
   {
    "duration": 303,
    "start_time": "2023-07-22T21:29:38.213Z"
   },
   {
    "duration": 420,
    "start_time": "2023-07-22T21:29:38.517Z"
   },
   {
    "duration": 301,
    "start_time": "2023-07-22T21:29:38.939Z"
   },
   {
    "duration": 381,
    "start_time": "2023-07-22T21:29:39.242Z"
   },
   {
    "duration": 340,
    "start_time": "2023-07-22T21:29:39.626Z"
   },
   {
    "duration": 181,
    "start_time": "2023-07-22T21:29:39.968Z"
   },
   {
    "duration": 5,
    "start_time": "2023-07-22T21:29:40.152Z"
   },
   {
    "duration": 210,
    "start_time": "2023-07-22T21:29:40.159Z"
   },
   {
    "duration": 193,
    "start_time": "2023-07-22T21:29:40.372Z"
   },
   {
    "duration": 6,
    "start_time": "2023-07-22T21:29:40.567Z"
   },
   {
    "duration": 239,
    "start_time": "2023-07-22T21:29:40.575Z"
   },
   {
    "duration": 165,
    "start_time": "2023-07-22T21:29:40.817Z"
   },
   {
    "duration": 7,
    "start_time": "2023-07-22T21:29:40.983Z"
   },
   {
    "duration": 41,
    "start_time": "2023-07-22T21:29:40.992Z"
   },
   {
    "duration": 57,
    "start_time": "2023-07-22T21:29:41.035Z"
   },
   {
    "duration": 17,
    "start_time": "2023-07-22T21:29:41.094Z"
   },
   {
    "duration": 13,
    "start_time": "2023-07-22T21:29:41.113Z"
   },
   {
    "duration": 25,
    "start_time": "2023-07-22T21:29:41.128Z"
   },
   {
    "duration": 18,
    "start_time": "2023-07-22T21:29:41.155Z"
   },
   {
    "duration": 10,
    "start_time": "2023-07-22T21:30:24.495Z"
   },
   {
    "duration": 10,
    "start_time": "2023-07-22T21:31:17.105Z"
   },
   {
    "duration": 1159,
    "start_time": "2023-07-22T21:42:51.969Z"
   },
   {
    "duration": 4,
    "start_time": "2023-07-22T21:42:53.130Z"
   },
   {
    "duration": 79,
    "start_time": "2023-07-22T21:42:53.136Z"
   },
   {
    "duration": 21,
    "start_time": "2023-07-22T21:42:53.217Z"
   },
   {
    "duration": 21,
    "start_time": "2023-07-22T21:42:53.240Z"
   },
   {
    "duration": 27,
    "start_time": "2023-07-22T21:42:53.264Z"
   },
   {
    "duration": 11,
    "start_time": "2023-07-22T21:42:53.314Z"
   },
   {
    "duration": 10,
    "start_time": "2023-07-22T21:42:53.327Z"
   },
   {
    "duration": 7,
    "start_time": "2023-07-22T21:42:53.339Z"
   },
   {
    "duration": 19,
    "start_time": "2023-07-22T21:42:53.348Z"
   },
   {
    "duration": 18,
    "start_time": "2023-07-22T21:42:53.368Z"
   },
   {
    "duration": 375,
    "start_time": "2023-07-22T21:42:53.388Z"
   },
   {
    "duration": 12,
    "start_time": "2023-07-22T21:42:53.765Z"
   },
   {
    "duration": 310,
    "start_time": "2023-07-22T21:42:53.779Z"
   },
   {
    "duration": 5,
    "start_time": "2023-07-22T21:42:54.091Z"
   },
   {
    "duration": 178,
    "start_time": "2023-07-22T21:42:54.097Z"
   },
   {
    "duration": 150,
    "start_time": "2023-07-22T21:42:54.276Z"
   },
   {
    "duration": 7,
    "start_time": "2023-07-22T21:42:54.427Z"
   },
   {
    "duration": 14,
    "start_time": "2023-07-22T21:42:54.436Z"
   },
   {
    "duration": 10,
    "start_time": "2023-07-22T21:42:54.452Z"
   },
   {
    "duration": 370,
    "start_time": "2023-07-22T21:42:54.463Z"
   },
   {
    "duration": 289,
    "start_time": "2023-07-22T21:42:54.835Z"
   },
   {
    "duration": 383,
    "start_time": "2023-07-22T21:42:55.126Z"
   },
   {
    "duration": 304,
    "start_time": "2023-07-22T21:42:55.512Z"
   },
   {
    "duration": 394,
    "start_time": "2023-07-22T21:42:55.817Z"
   },
   {
    "duration": 251,
    "start_time": "2023-07-22T21:42:56.213Z"
   },
   {
    "duration": 169,
    "start_time": "2023-07-22T21:42:56.466Z"
   },
   {
    "duration": 5,
    "start_time": "2023-07-22T21:42:56.636Z"
   },
   {
    "duration": 203,
    "start_time": "2023-07-22T21:42:56.643Z"
   },
   {
    "duration": 172,
    "start_time": "2023-07-22T21:42:56.848Z"
   },
   {
    "duration": 5,
    "start_time": "2023-07-22T21:42:57.022Z"
   },
   {
    "duration": 231,
    "start_time": "2023-07-22T21:42:57.029Z"
   },
   {
    "duration": 158,
    "start_time": "2023-07-22T21:42:57.262Z"
   },
   {
    "duration": 7,
    "start_time": "2023-07-22T21:42:57.422Z"
   },
   {
    "duration": 31,
    "start_time": "2023-07-22T21:42:57.430Z"
   },
   {
    "duration": 12,
    "start_time": "2023-07-22T21:42:57.463Z"
   },
   {
    "duration": 14,
    "start_time": "2023-07-22T21:42:57.477Z"
   },
   {
    "duration": 26,
    "start_time": "2023-07-22T21:42:57.493Z"
   },
   {
    "duration": 33,
    "start_time": "2023-07-22T21:42:57.521Z"
   },
   {
    "duration": 13,
    "start_time": "2023-07-22T21:42:57.555Z"
   },
   {
    "duration": 44,
    "start_time": "2023-07-24T05:11:18.594Z"
   },
   {
    "duration": 1399,
    "start_time": "2023-07-24T05:11:51.991Z"
   },
   {
    "duration": 4,
    "start_time": "2023-07-24T05:11:53.392Z"
   },
   {
    "duration": 192,
    "start_time": "2023-07-24T05:11:53.398Z"
   },
   {
    "duration": 21,
    "start_time": "2023-07-24T05:11:53.592Z"
   },
   {
    "duration": 20,
    "start_time": "2023-07-24T05:11:53.615Z"
   },
   {
    "duration": 17,
    "start_time": "2023-07-24T05:11:53.636Z"
   },
   {
    "duration": 22,
    "start_time": "2023-07-24T05:11:53.654Z"
   },
   {
    "duration": 22,
    "start_time": "2023-07-24T05:11:53.678Z"
   },
   {
    "duration": 18,
    "start_time": "2023-07-24T05:11:53.702Z"
   },
   {
    "duration": 13,
    "start_time": "2023-07-24T05:11:53.722Z"
   },
   {
    "duration": 16,
    "start_time": "2023-07-24T05:11:53.737Z"
   },
   {
    "duration": 373,
    "start_time": "2023-07-24T05:11:53.755Z"
   },
   {
    "duration": 11,
    "start_time": "2023-07-24T05:11:54.130Z"
   },
   {
    "duration": 275,
    "start_time": "2023-07-24T05:11:54.142Z"
   },
   {
    "duration": 6,
    "start_time": "2023-07-24T05:11:54.419Z"
   },
   {
    "duration": 176,
    "start_time": "2023-07-24T05:11:54.427Z"
   },
   {
    "duration": 123,
    "start_time": "2023-07-24T05:11:54.605Z"
   },
   {
    "duration": 6,
    "start_time": "2023-07-24T05:11:54.730Z"
   },
   {
    "duration": 18,
    "start_time": "2023-07-24T05:11:54.737Z"
   },
   {
    "duration": 22,
    "start_time": "2023-07-24T05:11:54.757Z"
   },
   {
    "duration": 348,
    "start_time": "2023-07-24T05:11:54.780Z"
   },
   {
    "duration": 297,
    "start_time": "2023-07-24T05:11:55.130Z"
   },
   {
    "duration": 503,
    "start_time": "2023-07-24T05:11:55.429Z"
   },
   {
    "duration": 299,
    "start_time": "2023-07-24T05:11:55.934Z"
   },
   {
    "duration": 424,
    "start_time": "2023-07-24T05:11:56.235Z"
   },
   {
    "duration": 172,
    "start_time": "2023-07-24T05:11:56.661Z"
   },
   {
    "duration": 151,
    "start_time": "2023-07-24T05:11:56.835Z"
   },
   {
    "duration": 4,
    "start_time": "2023-07-24T05:11:56.989Z"
   },
   {
    "duration": 199,
    "start_time": "2023-07-24T05:11:56.995Z"
   },
   {
    "duration": 180,
    "start_time": "2023-07-24T05:11:57.196Z"
   },
   {
    "duration": 4,
    "start_time": "2023-07-24T05:11:57.378Z"
   },
   {
    "duration": 226,
    "start_time": "2023-07-24T05:11:57.384Z"
   },
   {
    "duration": 124,
    "start_time": "2023-07-24T05:11:57.611Z"
   },
   {
    "duration": 6,
    "start_time": "2023-07-24T05:11:57.737Z"
   },
   {
    "duration": 32,
    "start_time": "2023-07-24T05:11:57.744Z"
   },
   {
    "duration": 10,
    "start_time": "2023-07-24T05:11:57.778Z"
   },
   {
    "duration": 10,
    "start_time": "2023-07-24T05:11:57.790Z"
   },
   {
    "duration": 7,
    "start_time": "2023-07-24T05:11:57.802Z"
   },
   {
    "duration": 31,
    "start_time": "2023-07-24T05:11:57.810Z"
   },
   {
    "duration": 36,
    "start_time": "2023-07-24T05:11:57.842Z"
   },
   {
    "duration": 12,
    "start_time": "2023-07-24T05:12:37.362Z"
   },
   {
    "duration": 46,
    "start_time": "2023-08-03T18:51:07.603Z"
   },
   {
    "duration": 55,
    "start_time": "2023-08-03T18:51:13.661Z"
   },
   {
    "duration": 0,
    "start_time": "2023-08-03T18:51:13.717Z"
   },
   {
    "duration": 0,
    "start_time": "2023-08-03T18:51:13.719Z"
   },
   {
    "duration": 0,
    "start_time": "2023-08-03T18:51:13.721Z"
   },
   {
    "duration": 0,
    "start_time": "2023-08-03T18:51:13.721Z"
   },
   {
    "duration": 0,
    "start_time": "2023-08-03T18:51:13.723Z"
   },
   {
    "duration": 0,
    "start_time": "2023-08-03T18:51:13.724Z"
   },
   {
    "duration": 0,
    "start_time": "2023-08-03T18:51:13.725Z"
   },
   {
    "duration": 0,
    "start_time": "2023-08-03T18:51:13.726Z"
   },
   {
    "duration": 8,
    "start_time": "2023-08-03T18:51:13.729Z"
   },
   {
    "duration": 0,
    "start_time": "2023-08-03T18:51:13.738Z"
   },
   {
    "duration": 0,
    "start_time": "2023-08-03T18:51:13.739Z"
   },
   {
    "duration": 0,
    "start_time": "2023-08-03T18:51:13.740Z"
   },
   {
    "duration": 0,
    "start_time": "2023-08-03T18:51:13.743Z"
   },
   {
    "duration": 0,
    "start_time": "2023-08-03T18:51:13.744Z"
   },
   {
    "duration": 9,
    "start_time": "2023-08-03T18:51:13.789Z"
   },
   {
    "duration": 0,
    "start_time": "2023-08-03T18:51:13.800Z"
   },
   {
    "duration": 0,
    "start_time": "2023-08-03T18:51:13.800Z"
   },
   {
    "duration": 0,
    "start_time": "2023-08-03T18:51:13.802Z"
   },
   {
    "duration": 0,
    "start_time": "2023-08-03T18:51:13.803Z"
   },
   {
    "duration": 0,
    "start_time": "2023-08-03T18:51:13.804Z"
   },
   {
    "duration": 0,
    "start_time": "2023-08-03T18:51:13.806Z"
   },
   {
    "duration": 8,
    "start_time": "2023-08-03T18:51:13.811Z"
   },
   {
    "duration": 0,
    "start_time": "2023-08-03T18:51:13.821Z"
   },
   {
    "duration": 1,
    "start_time": "2023-08-03T18:51:13.822Z"
   },
   {
    "duration": 0,
    "start_time": "2023-08-03T18:51:13.824Z"
   },
   {
    "duration": 0,
    "start_time": "2023-08-03T18:51:13.825Z"
   },
   {
    "duration": 63,
    "start_time": "2023-08-03T18:51:13.831Z"
   },
   {
    "duration": 0,
    "start_time": "2023-08-03T18:51:13.901Z"
   },
   {
    "duration": 0,
    "start_time": "2023-08-03T18:51:13.904Z"
   },
   {
    "duration": 0,
    "start_time": "2023-08-03T18:51:13.905Z"
   },
   {
    "duration": 0,
    "start_time": "2023-08-03T18:51:13.906Z"
   },
   {
    "duration": 0,
    "start_time": "2023-08-03T18:51:13.907Z"
   },
   {
    "duration": 0,
    "start_time": "2023-08-03T18:51:13.908Z"
   },
   {
    "duration": 0,
    "start_time": "2023-08-03T18:51:13.910Z"
   },
   {
    "duration": 0,
    "start_time": "2023-08-03T18:51:13.911Z"
   },
   {
    "duration": 0,
    "start_time": "2023-08-03T18:51:13.912Z"
   },
   {
    "duration": 0,
    "start_time": "2023-08-03T18:51:13.913Z"
   },
   {
    "duration": 0,
    "start_time": "2023-08-03T18:51:13.915Z"
   },
   {
    "duration": 0,
    "start_time": "2023-08-03T18:51:13.916Z"
   },
   {
    "duration": 9,
    "start_time": "2023-08-03T18:51:13.918Z"
   },
   {
    "duration": 1490,
    "start_time": "2023-08-22T18:12:58.520Z"
   },
   {
    "duration": 5,
    "start_time": "2023-08-22T18:13:00.012Z"
   },
   {
    "duration": 239,
    "start_time": "2023-08-22T18:13:00.019Z"
   },
   {
    "duration": 25,
    "start_time": "2023-08-22T18:13:00.260Z"
   },
   {
    "duration": 52,
    "start_time": "2023-08-22T18:13:00.289Z"
   },
   {
    "duration": 68,
    "start_time": "2023-08-22T18:13:00.343Z"
   },
   {
    "duration": 51,
    "start_time": "2023-08-22T18:13:00.413Z"
   },
   {
    "duration": 54,
    "start_time": "2023-08-22T18:13:00.467Z"
   },
   {
    "duration": 48,
    "start_time": "2023-08-22T18:13:00.524Z"
   },
   {
    "duration": 41,
    "start_time": "2023-08-22T18:13:00.575Z"
   },
   {
    "duration": 64,
    "start_time": "2023-08-22T18:13:00.617Z"
   },
   {
    "duration": 409,
    "start_time": "2023-08-22T18:13:00.684Z"
   },
   {
    "duration": 13,
    "start_time": "2023-08-22T18:13:01.095Z"
   },
   {
    "duration": 330,
    "start_time": "2023-08-22T18:13:01.111Z"
   },
   {
    "duration": 15,
    "start_time": "2023-08-22T18:13:01.442Z"
   },
   {
    "duration": 238,
    "start_time": "2023-08-22T18:13:01.459Z"
   },
   {
    "duration": 141,
    "start_time": "2023-08-22T18:13:01.699Z"
   },
   {
    "duration": 8,
    "start_time": "2023-08-22T18:13:01.857Z"
   },
   {
    "duration": 32,
    "start_time": "2023-08-22T18:13:01.867Z"
   },
   {
    "duration": 33,
    "start_time": "2023-08-22T18:13:01.901Z"
   },
   {
    "duration": 376,
    "start_time": "2023-08-22T18:13:01.936Z"
   },
   {
    "duration": 318,
    "start_time": "2023-08-22T18:13:02.314Z"
   },
   {
    "duration": 449,
    "start_time": "2023-08-22T18:13:02.634Z"
   },
   {
    "duration": 329,
    "start_time": "2023-08-22T18:13:03.085Z"
   },
   {
    "duration": 366,
    "start_time": "2023-08-22T18:13:03.415Z"
   },
   {
    "duration": 272,
    "start_time": "2023-08-22T18:13:03.782Z"
   },
   {
    "duration": 170,
    "start_time": "2023-08-22T18:13:04.057Z"
   },
   {
    "duration": 6,
    "start_time": "2023-08-22T18:13:04.229Z"
   },
   {
    "duration": 225,
    "start_time": "2023-08-22T18:13:04.236Z"
   },
   {
    "duration": 179,
    "start_time": "2023-08-22T18:13:04.463Z"
   },
   {
    "duration": 4,
    "start_time": "2023-08-22T18:13:04.644Z"
   },
   {
    "duration": 229,
    "start_time": "2023-08-22T18:13:04.657Z"
   },
   {
    "duration": 139,
    "start_time": "2023-08-22T18:13:04.887Z"
   },
   {
    "duration": 7,
    "start_time": "2023-08-22T18:13:05.027Z"
   },
   {
    "duration": 39,
    "start_time": "2023-08-22T18:13:05.036Z"
   },
   {
    "duration": 10,
    "start_time": "2023-08-22T18:13:05.077Z"
   },
   {
    "duration": 10,
    "start_time": "2023-08-22T18:13:05.089Z"
   },
   {
    "duration": 7,
    "start_time": "2023-08-22T18:13:05.101Z"
   },
   {
    "duration": 21,
    "start_time": "2023-08-22T18:13:05.110Z"
   },
   {
    "duration": 15,
    "start_time": "2023-08-22T18:13:05.157Z"
   }
  ],
  "kernelspec": {
   "display_name": "Python 3 (ipykernel)",
   "language": "python",
   "name": "python3"
  },
  "language_info": {
   "codemirror_mode": {
    "name": "ipython",
    "version": 3
   },
   "file_extension": ".py",
   "mimetype": "text/x-python",
   "name": "python",
   "nbconvert_exporter": "python",
   "pygments_lexer": "ipython3",
   "version": "3.9.5"
  },
  "toc": {
   "base_numbering": 1,
   "nav_menu": {},
   "number_sections": true,
   "sideBar": true,
   "skip_h1_title": true,
   "title_cell": "Table of Contents",
   "title_sidebar": "Contents",
   "toc_cell": false,
   "toc_position": {},
   "toc_section_display": true,
   "toc_window_display": false
  }
 },
 "nbformat": 4,
 "nbformat_minor": 2
}

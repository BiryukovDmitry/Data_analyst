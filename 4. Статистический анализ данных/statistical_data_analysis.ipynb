{
 "cells": [
  {
   "cell_type": "markdown",
   "id": "8a9b9e97",
   "metadata": {},
   "source": [
    "# Исследование данных сервиса аренды самокатов GoFast\n",
    "\n",
    "В нашем распоряжении данные сервиса аренды самокатов GoFast. Данные содержат сведения о некоторых пользователях из нескольких городов, а также об их поездках. Все пользователи разделены на две категории - пользователи с подпиской и без подписки. Изначально данные разделены на несколько таблиц \n",
    "\n",
    "Цель проекта - проанализировать данные, проверьте некоторые гипотезы, которые могут помочь бизнесу вырасти:\n",
    "\n",
    "***пользователи с подпиской тратят больше времени на поездки***\n",
    "\n",
    "***расстояние, которое проезжают пользователи с подпиской непривыкшая оптимальное расстояние с точки зрения износа самоката***\n",
    "\n",
    "***помесячная выручка от пользователей с подпиской по месяцам выше, чем выручка от пользователей без подписки***\n",
    "\n",
    "Для этого нам предстоит изучить имеющиеся исходные данные, проверить таблицу на наличие пропусков, соответствия типа данных и выявить дубли. Затем необходимо проверить данные на наличие аномальных и редких значений, визуализировать и изучить информацию по нужным нам категориям. Затем объединить все таблицы в один датафрейм, а затем разделить его на отдельные датафреймы для каждой категории пользователей. Затем создадим агрегированную таблицу, для подсчета выручки, необходимой для проверки одной из гипотез\n",
    "\n",
    "На этапе проверки гипотез с помощью необходимых методов проверим принимаются нулевые гипотезы или нет. Полученные результаты отразим в выводах.\n"
   ]
  },
  {
   "cell_type": "code",
   "execution_count": 1,
   "id": "85288dd5",
   "metadata": {},
   "outputs": [],
   "source": [
    "#Импорт необходимых бибилиотек\n",
    "import pandas as pd\n",
    "import matplotlib.pyplot as plt\n",
    "import math\n",
    "import numpy as np\n",
    "from scipy import stats as st"
   ]
  },
  {
   "cell_type": "markdown",
   "id": "97281e6c",
   "metadata": {},
   "source": [
    "# Шаг 1. Загрузка данных"
   ]
  },
  {
   "cell_type": "markdown",
   "id": "b8b3eb35",
   "metadata": {},
   "source": [
    "**Пользователи**"
   ]
  },
  {
   "cell_type": "code",
   "execution_count": 2,
   "id": "67bb2f0c",
   "metadata": {},
   "outputs": [
    {
     "data": {
      "text/html": [
       "<div>\n",
       "<style scoped>\n",
       "    .dataframe tbody tr th:only-of-type {\n",
       "        vertical-align: middle;\n",
       "    }\n",
       "\n",
       "    .dataframe tbody tr th {\n",
       "        vertical-align: top;\n",
       "    }\n",
       "\n",
       "    .dataframe thead th {\n",
       "        text-align: right;\n",
       "    }\n",
       "</style>\n",
       "<table border=\"1\" class=\"dataframe\">\n",
       "  <thead>\n",
       "    <tr style=\"text-align: right;\">\n",
       "      <th></th>\n",
       "      <th>user_id</th>\n",
       "      <th>name</th>\n",
       "      <th>age</th>\n",
       "      <th>city</th>\n",
       "      <th>subscription_type</th>\n",
       "    </tr>\n",
       "  </thead>\n",
       "  <tbody>\n",
       "    <tr>\n",
       "      <th>0</th>\n",
       "      <td>1</td>\n",
       "      <td>Кира</td>\n",
       "      <td>22</td>\n",
       "      <td>Тюмень</td>\n",
       "      <td>ultra</td>\n",
       "    </tr>\n",
       "    <tr>\n",
       "      <th>1</th>\n",
       "      <td>2</td>\n",
       "      <td>Станислав</td>\n",
       "      <td>31</td>\n",
       "      <td>Омск</td>\n",
       "      <td>ultra</td>\n",
       "    </tr>\n",
       "    <tr>\n",
       "      <th>2</th>\n",
       "      <td>3</td>\n",
       "      <td>Алексей</td>\n",
       "      <td>20</td>\n",
       "      <td>Москва</td>\n",
       "      <td>ultra</td>\n",
       "    </tr>\n",
       "    <tr>\n",
       "      <th>3</th>\n",
       "      <td>4</td>\n",
       "      <td>Константин</td>\n",
       "      <td>26</td>\n",
       "      <td>Ростов-на-Дону</td>\n",
       "      <td>ultra</td>\n",
       "    </tr>\n",
       "    <tr>\n",
       "      <th>4</th>\n",
       "      <td>5</td>\n",
       "      <td>Адель</td>\n",
       "      <td>28</td>\n",
       "      <td>Омск</td>\n",
       "      <td>ultra</td>\n",
       "    </tr>\n",
       "    <tr>\n",
       "      <th>5</th>\n",
       "      <td>6</td>\n",
       "      <td>Регина</td>\n",
       "      <td>25</td>\n",
       "      <td>Краснодар</td>\n",
       "      <td>ultra</td>\n",
       "    </tr>\n",
       "    <tr>\n",
       "      <th>6</th>\n",
       "      <td>7</td>\n",
       "      <td>Игорь</td>\n",
       "      <td>23</td>\n",
       "      <td>Омск</td>\n",
       "      <td>ultra</td>\n",
       "    </tr>\n",
       "    <tr>\n",
       "      <th>7</th>\n",
       "      <td>8</td>\n",
       "      <td>Юрий</td>\n",
       "      <td>23</td>\n",
       "      <td>Краснодар</td>\n",
       "      <td>ultra</td>\n",
       "    </tr>\n",
       "    <tr>\n",
       "      <th>8</th>\n",
       "      <td>9</td>\n",
       "      <td>Ян</td>\n",
       "      <td>21</td>\n",
       "      <td>Пятигорск</td>\n",
       "      <td>ultra</td>\n",
       "    </tr>\n",
       "    <tr>\n",
       "      <th>9</th>\n",
       "      <td>10</td>\n",
       "      <td>Валерий</td>\n",
       "      <td>18</td>\n",
       "      <td>Екатеринбург</td>\n",
       "      <td>ultra</td>\n",
       "    </tr>\n",
       "    <tr>\n",
       "      <th>10</th>\n",
       "      <td>11</td>\n",
       "      <td>Агата</td>\n",
       "      <td>31</td>\n",
       "      <td>Краснодар</td>\n",
       "      <td>ultra</td>\n",
       "    </tr>\n",
       "    <tr>\n",
       "      <th>11</th>\n",
       "      <td>12</td>\n",
       "      <td>Марк</td>\n",
       "      <td>27</td>\n",
       "      <td>Тюмень</td>\n",
       "      <td>ultra</td>\n",
       "    </tr>\n",
       "    <tr>\n",
       "      <th>12</th>\n",
       "      <td>13</td>\n",
       "      <td>Ева</td>\n",
       "      <td>24</td>\n",
       "      <td>Краснодар</td>\n",
       "      <td>ultra</td>\n",
       "    </tr>\n",
       "    <tr>\n",
       "      <th>13</th>\n",
       "      <td>14</td>\n",
       "      <td>Антонина</td>\n",
       "      <td>18</td>\n",
       "      <td>Пятигорск</td>\n",
       "      <td>ultra</td>\n",
       "    </tr>\n",
       "    <tr>\n",
       "      <th>14</th>\n",
       "      <td>15</td>\n",
       "      <td>Валерия</td>\n",
       "      <td>24</td>\n",
       "      <td>Тюмень</td>\n",
       "      <td>ultra</td>\n",
       "    </tr>\n",
       "    <tr>\n",
       "      <th>15</th>\n",
       "      <td>16</td>\n",
       "      <td>Амалия</td>\n",
       "      <td>27</td>\n",
       "      <td>Краснодар</td>\n",
       "      <td>ultra</td>\n",
       "    </tr>\n",
       "    <tr>\n",
       "      <th>16</th>\n",
       "      <td>17</td>\n",
       "      <td>Даниил</td>\n",
       "      <td>29</td>\n",
       "      <td>Москва</td>\n",
       "      <td>ultra</td>\n",
       "    </tr>\n",
       "    <tr>\n",
       "      <th>17</th>\n",
       "      <td>18</td>\n",
       "      <td>Аделина</td>\n",
       "      <td>24</td>\n",
       "      <td>Сочи</td>\n",
       "      <td>ultra</td>\n",
       "    </tr>\n",
       "    <tr>\n",
       "      <th>18</th>\n",
       "      <td>19</td>\n",
       "      <td>Регина</td>\n",
       "      <td>32</td>\n",
       "      <td>Тюмень</td>\n",
       "      <td>ultra</td>\n",
       "    </tr>\n",
       "    <tr>\n",
       "      <th>19</th>\n",
       "      <td>20</td>\n",
       "      <td>Игорь</td>\n",
       "      <td>23</td>\n",
       "      <td>Омск</td>\n",
       "      <td>ultra</td>\n",
       "    </tr>\n",
       "  </tbody>\n",
       "</table>\n",
       "</div>"
      ],
      "text/plain": [
       "    user_id        name  age            city subscription_type\n",
       "0         1        Кира   22          Тюмень             ultra\n",
       "1         2   Станислав   31            Омск             ultra\n",
       "2         3     Алексей   20          Москва             ultra\n",
       "3         4  Константин   26  Ростов-на-Дону             ultra\n",
       "4         5       Адель   28            Омск             ultra\n",
       "5         6      Регина   25       Краснодар             ultra\n",
       "6         7       Игорь   23            Омск             ultra\n",
       "7         8        Юрий   23       Краснодар             ultra\n",
       "8         9          Ян   21       Пятигорск             ultra\n",
       "9        10     Валерий   18    Екатеринбург             ultra\n",
       "10       11       Агата   31       Краснодар             ultra\n",
       "11       12        Марк   27          Тюмень             ultra\n",
       "12       13         Ева   24       Краснодар             ultra\n",
       "13       14    Антонина   18       Пятигорск             ultra\n",
       "14       15     Валерия   24          Тюмень             ultra\n",
       "15       16      Амалия   27       Краснодар             ultra\n",
       "16       17      Даниил   29          Москва             ultra\n",
       "17       18     Аделина   24            Сочи             ultra\n",
       "18       19      Регина   32          Тюмень             ultra\n",
       "19       20       Игорь   23            Омск             ultra"
      ]
     },
     "execution_count": 2,
     "metadata": {},
     "output_type": "execute_result"
    }
   ],
   "source": [
    "#Чтение файла с данными пользователей \n",
    "data_user = pd.read_csv('/datasets/users_go.csv')\n",
    "\n",
    "#Вывод первых 20 строк\n",
    "data_user.head(20)"
   ]
  },
  {
   "cell_type": "code",
   "execution_count": 3,
   "id": "20df3600",
   "metadata": {},
   "outputs": [
    {
     "name": "stdout",
     "output_type": "stream",
     "text": [
      "<class 'pandas.core.frame.DataFrame'>\n",
      "RangeIndex: 1565 entries, 0 to 1564\n",
      "Data columns (total 5 columns):\n",
      " #   Column             Non-Null Count  Dtype \n",
      "---  ------             --------------  ----- \n",
      " 0   user_id            1565 non-null   int64 \n",
      " 1   name               1565 non-null   object\n",
      " 2   age                1565 non-null   int64 \n",
      " 3   city               1565 non-null   object\n",
      " 4   subscription_type  1565 non-null   object\n",
      "dtypes: int64(2), object(3)\n",
      "memory usage: 61.3+ KB\n"
     ]
    }
   ],
   "source": [
    "#Вывод общей информации о датафрейме\n",
    "data_user.info()"
   ]
  },
  {
   "cell_type": "markdown",
   "id": "0d50f720",
   "metadata": {},
   "source": [
    "В датафрейме не встречаются пропуски по столбцам, тип данных соответствуют содержанию столбца"
   ]
  },
  {
   "cell_type": "markdown",
   "id": "68b2ef6c",
   "metadata": {},
   "source": [
    "**Поездки**"
   ]
  },
  {
   "cell_type": "code",
   "execution_count": 4,
   "id": "00218f2d",
   "metadata": {},
   "outputs": [
    {
     "data": {
      "text/html": [
       "<div>\n",
       "<style scoped>\n",
       "    .dataframe tbody tr th:only-of-type {\n",
       "        vertical-align: middle;\n",
       "    }\n",
       "\n",
       "    .dataframe tbody tr th {\n",
       "        vertical-align: top;\n",
       "    }\n",
       "\n",
       "    .dataframe thead th {\n",
       "        text-align: right;\n",
       "    }\n",
       "</style>\n",
       "<table border=\"1\" class=\"dataframe\">\n",
       "  <thead>\n",
       "    <tr style=\"text-align: right;\">\n",
       "      <th></th>\n",
       "      <th>user_id</th>\n",
       "      <th>distance</th>\n",
       "      <th>duration</th>\n",
       "      <th>date</th>\n",
       "    </tr>\n",
       "  </thead>\n",
       "  <tbody>\n",
       "    <tr>\n",
       "      <th>0</th>\n",
       "      <td>1</td>\n",
       "      <td>4409.919140</td>\n",
       "      <td>25.599769</td>\n",
       "      <td>2021-01-01</td>\n",
       "    </tr>\n",
       "    <tr>\n",
       "      <th>1</th>\n",
       "      <td>1</td>\n",
       "      <td>2617.592153</td>\n",
       "      <td>15.816871</td>\n",
       "      <td>2021-01-18</td>\n",
       "    </tr>\n",
       "    <tr>\n",
       "      <th>2</th>\n",
       "      <td>1</td>\n",
       "      <td>754.159807</td>\n",
       "      <td>6.232113</td>\n",
       "      <td>2021-04-20</td>\n",
       "    </tr>\n",
       "    <tr>\n",
       "      <th>3</th>\n",
       "      <td>1</td>\n",
       "      <td>2694.783254</td>\n",
       "      <td>18.511000</td>\n",
       "      <td>2021-08-11</td>\n",
       "    </tr>\n",
       "    <tr>\n",
       "      <th>4</th>\n",
       "      <td>1</td>\n",
       "      <td>4028.687306</td>\n",
       "      <td>26.265803</td>\n",
       "      <td>2021-08-28</td>\n",
       "    </tr>\n",
       "    <tr>\n",
       "      <th>5</th>\n",
       "      <td>1</td>\n",
       "      <td>2770.890808</td>\n",
       "      <td>16.650138</td>\n",
       "      <td>2021-10-09</td>\n",
       "    </tr>\n",
       "    <tr>\n",
       "      <th>6</th>\n",
       "      <td>1</td>\n",
       "      <td>3039.020292</td>\n",
       "      <td>14.927879</td>\n",
       "      <td>2021-10-19</td>\n",
       "    </tr>\n",
       "    <tr>\n",
       "      <th>7</th>\n",
       "      <td>1</td>\n",
       "      <td>2842.118050</td>\n",
       "      <td>23.117468</td>\n",
       "      <td>2021-11-06</td>\n",
       "    </tr>\n",
       "    <tr>\n",
       "      <th>8</th>\n",
       "      <td>1</td>\n",
       "      <td>3412.690668</td>\n",
       "      <td>15.238072</td>\n",
       "      <td>2021-11-14</td>\n",
       "    </tr>\n",
       "    <tr>\n",
       "      <th>9</th>\n",
       "      <td>1</td>\n",
       "      <td>748.690645</td>\n",
       "      <td>15.041884</td>\n",
       "      <td>2021-11-22</td>\n",
       "    </tr>\n",
       "    <tr>\n",
       "      <th>10</th>\n",
       "      <td>1</td>\n",
       "      <td>4031.020195</td>\n",
       "      <td>17.674448</td>\n",
       "      <td>2021-12-14</td>\n",
       "    </tr>\n",
       "    <tr>\n",
       "      <th>11</th>\n",
       "      <td>1</td>\n",
       "      <td>2720.609748</td>\n",
       "      <td>9.529463</td>\n",
       "      <td>2021-12-22</td>\n",
       "    </tr>\n",
       "    <tr>\n",
       "      <th>12</th>\n",
       "      <td>2</td>\n",
       "      <td>3105.086678</td>\n",
       "      <td>24.307514</td>\n",
       "      <td>2021-03-15</td>\n",
       "    </tr>\n",
       "    <tr>\n",
       "      <th>13</th>\n",
       "      <td>2</td>\n",
       "      <td>3053.519401</td>\n",
       "      <td>11.543256</td>\n",
       "      <td>2021-03-18</td>\n",
       "    </tr>\n",
       "    <tr>\n",
       "      <th>14</th>\n",
       "      <td>2</td>\n",
       "      <td>4029.116927</td>\n",
       "      <td>25.109188</td>\n",
       "      <td>2021-03-23</td>\n",
       "    </tr>\n",
       "    <tr>\n",
       "      <th>15</th>\n",
       "      <td>2</td>\n",
       "      <td>2805.786329</td>\n",
       "      <td>20.652145</td>\n",
       "      <td>2021-04-08</td>\n",
       "    </tr>\n",
       "    <tr>\n",
       "      <th>16</th>\n",
       "      <td>2</td>\n",
       "      <td>3358.595495</td>\n",
       "      <td>18.396489</td>\n",
       "      <td>2021-04-13</td>\n",
       "    </tr>\n",
       "    <tr>\n",
       "      <th>17</th>\n",
       "      <td>2</td>\n",
       "      <td>3255.338202</td>\n",
       "      <td>13.851127</td>\n",
       "      <td>2021-06-20</td>\n",
       "    </tr>\n",
       "    <tr>\n",
       "      <th>18</th>\n",
       "      <td>2</td>\n",
       "      <td>3942.817648</td>\n",
       "      <td>20.142725</td>\n",
       "      <td>2021-07-02</td>\n",
       "    </tr>\n",
       "    <tr>\n",
       "      <th>19</th>\n",
       "      <td>2</td>\n",
       "      <td>2837.905316</td>\n",
       "      <td>26.027432</td>\n",
       "      <td>2021-07-18</td>\n",
       "    </tr>\n",
       "  </tbody>\n",
       "</table>\n",
       "</div>"
      ],
      "text/plain": [
       "    user_id     distance   duration        date\n",
       "0         1  4409.919140  25.599769  2021-01-01\n",
       "1         1  2617.592153  15.816871  2021-01-18\n",
       "2         1   754.159807   6.232113  2021-04-20\n",
       "3         1  2694.783254  18.511000  2021-08-11\n",
       "4         1  4028.687306  26.265803  2021-08-28\n",
       "5         1  2770.890808  16.650138  2021-10-09\n",
       "6         1  3039.020292  14.927879  2021-10-19\n",
       "7         1  2842.118050  23.117468  2021-11-06\n",
       "8         1  3412.690668  15.238072  2021-11-14\n",
       "9         1   748.690645  15.041884  2021-11-22\n",
       "10        1  4031.020195  17.674448  2021-12-14\n",
       "11        1  2720.609748   9.529463  2021-12-22\n",
       "12        2  3105.086678  24.307514  2021-03-15\n",
       "13        2  3053.519401  11.543256  2021-03-18\n",
       "14        2  4029.116927  25.109188  2021-03-23\n",
       "15        2  2805.786329  20.652145  2021-04-08\n",
       "16        2  3358.595495  18.396489  2021-04-13\n",
       "17        2  3255.338202  13.851127  2021-06-20\n",
       "18        2  3942.817648  20.142725  2021-07-02\n",
       "19        2  2837.905316  26.027432  2021-07-18"
      ]
     },
     "execution_count": 4,
     "metadata": {},
     "output_type": "execute_result"
    }
   ],
   "source": [
    "#Чтение файла с данными о поездках\n",
    "data_rides = pd.read_csv('/datasets/rides_go.csv')\n",
    "\n",
    "#Вывод первых 20 строк\n",
    "data_rides.head(20)"
   ]
  },
  {
   "cell_type": "code",
   "execution_count": 5,
   "id": "b1a906be",
   "metadata": {},
   "outputs": [
    {
     "name": "stdout",
     "output_type": "stream",
     "text": [
      "<class 'pandas.core.frame.DataFrame'>\n",
      "RangeIndex: 18068 entries, 0 to 18067\n",
      "Data columns (total 4 columns):\n",
      " #   Column    Non-Null Count  Dtype  \n",
      "---  ------    --------------  -----  \n",
      " 0   user_id   18068 non-null  int64  \n",
      " 1   distance  18068 non-null  float64\n",
      " 2   duration  18068 non-null  float64\n",
      " 3   date      18068 non-null  object \n",
      "dtypes: float64(2), int64(1), object(1)\n",
      "memory usage: 564.8+ KB\n"
     ]
    }
   ],
   "source": [
    "#Вывод общей информации о датафрейме\n",
    "data_rides.info()"
   ]
  },
  {
   "cell_type": "markdown",
   "id": "9d76b26b",
   "metadata": {},
   "source": [
    "В датафрейме не встречаются пропуски по столбцам, тип столбца 'date' object, необходимо заменить на datetime, т.к. в этом столбце указана дата совершения поездки. Так же можно округлить значения в столбцах с расстоянием и продолжительностью поездки"
   ]
  },
  {
   "cell_type": "markdown",
   "id": "b4d57ce6",
   "metadata": {},
   "source": [
    "**Подписки**"
   ]
  },
  {
   "cell_type": "code",
   "execution_count": 6,
   "id": "3126b53d",
   "metadata": {},
   "outputs": [
    {
     "data": {
      "text/html": [
       "<div>\n",
       "<style scoped>\n",
       "    .dataframe tbody tr th:only-of-type {\n",
       "        vertical-align: middle;\n",
       "    }\n",
       "\n",
       "    .dataframe tbody tr th {\n",
       "        vertical-align: top;\n",
       "    }\n",
       "\n",
       "    .dataframe thead th {\n",
       "        text-align: right;\n",
       "    }\n",
       "</style>\n",
       "<table border=\"1\" class=\"dataframe\">\n",
       "  <thead>\n",
       "    <tr style=\"text-align: right;\">\n",
       "      <th></th>\n",
       "      <th>subscription_type</th>\n",
       "      <th>minute_price</th>\n",
       "      <th>start_ride_price</th>\n",
       "      <th>subscription_fee</th>\n",
       "    </tr>\n",
       "  </thead>\n",
       "  <tbody>\n",
       "    <tr>\n",
       "      <th>0</th>\n",
       "      <td>free</td>\n",
       "      <td>8</td>\n",
       "      <td>50</td>\n",
       "      <td>0</td>\n",
       "    </tr>\n",
       "    <tr>\n",
       "      <th>1</th>\n",
       "      <td>ultra</td>\n",
       "      <td>6</td>\n",
       "      <td>0</td>\n",
       "      <td>199</td>\n",
       "    </tr>\n",
       "  </tbody>\n",
       "</table>\n",
       "</div>"
      ],
      "text/plain": [
       "  subscription_type  minute_price  start_ride_price  subscription_fee\n",
       "0              free             8                50                 0\n",
       "1             ultra             6                 0               199"
      ]
     },
     "execution_count": 6,
     "metadata": {},
     "output_type": "execute_result"
    }
   ],
   "source": [
    "#Чтение файла с данными подписок\n",
    "data_subscriptions = pd.read_csv('/datasets/subscriptions_go.csv')\n",
    "\n",
    "#Вывод первых 20 строк\n",
    "data_subscriptions.head(20)"
   ]
  },
  {
   "cell_type": "code",
   "execution_count": 7,
   "id": "f8c6c4df",
   "metadata": {},
   "outputs": [
    {
     "name": "stdout",
     "output_type": "stream",
     "text": [
      "<class 'pandas.core.frame.DataFrame'>\n",
      "RangeIndex: 2 entries, 0 to 1\n",
      "Data columns (total 4 columns):\n",
      " #   Column             Non-Null Count  Dtype \n",
      "---  ------             --------------  ----- \n",
      " 0   subscription_type  2 non-null      object\n",
      " 1   minute_price       2 non-null      int64 \n",
      " 2   start_ride_price   2 non-null      int64 \n",
      " 3   subscription_fee   2 non-null      int64 \n",
      "dtypes: int64(3), object(1)\n",
      "memory usage: 192.0+ bytes\n"
     ]
    }
   ],
   "source": [
    "#Вывод общей информации о датафрейме\n",
    "data_subscriptions.info()"
   ]
  },
  {
   "cell_type": "markdown",
   "id": "17721f61",
   "metadata": {},
   "source": [
    "Датафрейм состоит всего из двух строк. Все столбцы заполнены, тип данных соответствеут содержанию столбца"
   ]
  },
  {
   "cell_type": "markdown",
   "id": "1e9906d9",
   "metadata": {},
   "source": [
    "# Шаг 2. Предобработка данных"
   ]
  },
  {
   "cell_type": "markdown",
   "id": "a7b7767f",
   "metadata": {},
   "source": [
    "**Замена типа данных и добавление необходимого столбца**"
   ]
  },
  {
   "cell_type": "code",
   "execution_count": 8,
   "id": "c4130eb9",
   "metadata": {},
   "outputs": [],
   "source": [
    "#Замена типа данных в столбце 'data'\n",
    "data_rides['date'] = pd.to_datetime(data_rides['date'], format='%Y-%m-%d')"
   ]
  },
  {
   "cell_type": "code",
   "execution_count": 9,
   "id": "3fc1f672",
   "metadata": {},
   "outputs": [
    {
     "name": "stdout",
     "output_type": "stream",
     "text": [
      "<class 'pandas.core.frame.DataFrame'>\n",
      "RangeIndex: 18068 entries, 0 to 18067\n",
      "Data columns (total 4 columns):\n",
      " #   Column    Non-Null Count  Dtype         \n",
      "---  ------    --------------  -----         \n",
      " 0   user_id   18068 non-null  int64         \n",
      " 1   distance  18068 non-null  float64       \n",
      " 2   duration  18068 non-null  float64       \n",
      " 3   date      18068 non-null  datetime64[ns]\n",
      "dtypes: datetime64[ns](1), float64(2), int64(1)\n",
      "memory usage: 564.8 KB\n"
     ]
    }
   ],
   "source": [
    "#Проверка изменения типа данных в столбце 'date'\n",
    "data_rides.info()"
   ]
  },
  {
   "cell_type": "markdown",
   "id": "fb819101",
   "metadata": {},
   "source": [
    "Заменили тип данных в столбце 'date' на формат datetime"
   ]
  },
  {
   "cell_type": "code",
   "execution_count": 10,
   "id": "ac057c61",
   "metadata": {},
   "outputs": [
    {
     "data": {
      "text/html": [
       "<div>\n",
       "<style scoped>\n",
       "    .dataframe tbody tr th:only-of-type {\n",
       "        vertical-align: middle;\n",
       "    }\n",
       "\n",
       "    .dataframe tbody tr th {\n",
       "        vertical-align: top;\n",
       "    }\n",
       "\n",
       "    .dataframe thead th {\n",
       "        text-align: right;\n",
       "    }\n",
       "</style>\n",
       "<table border=\"1\" class=\"dataframe\">\n",
       "  <thead>\n",
       "    <tr style=\"text-align: right;\">\n",
       "      <th></th>\n",
       "      <th>user_id</th>\n",
       "      <th>distance</th>\n",
       "      <th>duration</th>\n",
       "      <th>date</th>\n",
       "      <th>month</th>\n",
       "    </tr>\n",
       "  </thead>\n",
       "  <tbody>\n",
       "    <tr>\n",
       "      <th>0</th>\n",
       "      <td>1</td>\n",
       "      <td>4409.92</td>\n",
       "      <td>25.60</td>\n",
       "      <td>2021-01-01</td>\n",
       "      <td>1</td>\n",
       "    </tr>\n",
       "    <tr>\n",
       "      <th>1</th>\n",
       "      <td>1</td>\n",
       "      <td>2617.59</td>\n",
       "      <td>15.82</td>\n",
       "      <td>2021-01-18</td>\n",
       "      <td>1</td>\n",
       "    </tr>\n",
       "    <tr>\n",
       "      <th>2</th>\n",
       "      <td>1</td>\n",
       "      <td>754.16</td>\n",
       "      <td>6.23</td>\n",
       "      <td>2021-04-20</td>\n",
       "      <td>4</td>\n",
       "    </tr>\n",
       "    <tr>\n",
       "      <th>3</th>\n",
       "      <td>1</td>\n",
       "      <td>2694.78</td>\n",
       "      <td>18.51</td>\n",
       "      <td>2021-08-11</td>\n",
       "      <td>8</td>\n",
       "    </tr>\n",
       "    <tr>\n",
       "      <th>4</th>\n",
       "      <td>1</td>\n",
       "      <td>4028.69</td>\n",
       "      <td>26.27</td>\n",
       "      <td>2021-08-28</td>\n",
       "      <td>8</td>\n",
       "    </tr>\n",
       "    <tr>\n",
       "      <th>5</th>\n",
       "      <td>1</td>\n",
       "      <td>2770.89</td>\n",
       "      <td>16.65</td>\n",
       "      <td>2021-10-09</td>\n",
       "      <td>10</td>\n",
       "    </tr>\n",
       "    <tr>\n",
       "      <th>6</th>\n",
       "      <td>1</td>\n",
       "      <td>3039.02</td>\n",
       "      <td>14.93</td>\n",
       "      <td>2021-10-19</td>\n",
       "      <td>10</td>\n",
       "    </tr>\n",
       "    <tr>\n",
       "      <th>7</th>\n",
       "      <td>1</td>\n",
       "      <td>2842.12</td>\n",
       "      <td>23.12</td>\n",
       "      <td>2021-11-06</td>\n",
       "      <td>11</td>\n",
       "    </tr>\n",
       "    <tr>\n",
       "      <th>8</th>\n",
       "      <td>1</td>\n",
       "      <td>3412.69</td>\n",
       "      <td>15.24</td>\n",
       "      <td>2021-11-14</td>\n",
       "      <td>11</td>\n",
       "    </tr>\n",
       "    <tr>\n",
       "      <th>9</th>\n",
       "      <td>1</td>\n",
       "      <td>748.69</td>\n",
       "      <td>15.04</td>\n",
       "      <td>2021-11-22</td>\n",
       "      <td>11</td>\n",
       "    </tr>\n",
       "    <tr>\n",
       "      <th>10</th>\n",
       "      <td>1</td>\n",
       "      <td>4031.02</td>\n",
       "      <td>17.67</td>\n",
       "      <td>2021-12-14</td>\n",
       "      <td>12</td>\n",
       "    </tr>\n",
       "    <tr>\n",
       "      <th>11</th>\n",
       "      <td>1</td>\n",
       "      <td>2720.61</td>\n",
       "      <td>9.53</td>\n",
       "      <td>2021-12-22</td>\n",
       "      <td>12</td>\n",
       "    </tr>\n",
       "    <tr>\n",
       "      <th>12</th>\n",
       "      <td>2</td>\n",
       "      <td>3105.09</td>\n",
       "      <td>24.31</td>\n",
       "      <td>2021-03-15</td>\n",
       "      <td>3</td>\n",
       "    </tr>\n",
       "    <tr>\n",
       "      <th>13</th>\n",
       "      <td>2</td>\n",
       "      <td>3053.52</td>\n",
       "      <td>11.54</td>\n",
       "      <td>2021-03-18</td>\n",
       "      <td>3</td>\n",
       "    </tr>\n",
       "    <tr>\n",
       "      <th>14</th>\n",
       "      <td>2</td>\n",
       "      <td>4029.12</td>\n",
       "      <td>25.11</td>\n",
       "      <td>2021-03-23</td>\n",
       "      <td>3</td>\n",
       "    </tr>\n",
       "    <tr>\n",
       "      <th>15</th>\n",
       "      <td>2</td>\n",
       "      <td>2805.79</td>\n",
       "      <td>20.65</td>\n",
       "      <td>2021-04-08</td>\n",
       "      <td>4</td>\n",
       "    </tr>\n",
       "    <tr>\n",
       "      <th>16</th>\n",
       "      <td>2</td>\n",
       "      <td>3358.60</td>\n",
       "      <td>18.40</td>\n",
       "      <td>2021-04-13</td>\n",
       "      <td>4</td>\n",
       "    </tr>\n",
       "    <tr>\n",
       "      <th>17</th>\n",
       "      <td>2</td>\n",
       "      <td>3255.34</td>\n",
       "      <td>13.85</td>\n",
       "      <td>2021-06-20</td>\n",
       "      <td>6</td>\n",
       "    </tr>\n",
       "    <tr>\n",
       "      <th>18</th>\n",
       "      <td>2</td>\n",
       "      <td>3942.82</td>\n",
       "      <td>20.14</td>\n",
       "      <td>2021-07-02</td>\n",
       "      <td>7</td>\n",
       "    </tr>\n",
       "    <tr>\n",
       "      <th>19</th>\n",
       "      <td>2</td>\n",
       "      <td>2837.91</td>\n",
       "      <td>26.03</td>\n",
       "      <td>2021-07-18</td>\n",
       "      <td>7</td>\n",
       "    </tr>\n",
       "  </tbody>\n",
       "</table>\n",
       "</div>"
      ],
      "text/plain": [
       "    user_id  distance  duration       date  month\n",
       "0         1   4409.92     25.60 2021-01-01      1\n",
       "1         1   2617.59     15.82 2021-01-18      1\n",
       "2         1    754.16      6.23 2021-04-20      4\n",
       "3         1   2694.78     18.51 2021-08-11      8\n",
       "4         1   4028.69     26.27 2021-08-28      8\n",
       "5         1   2770.89     16.65 2021-10-09     10\n",
       "6         1   3039.02     14.93 2021-10-19     10\n",
       "7         1   2842.12     23.12 2021-11-06     11\n",
       "8         1   3412.69     15.24 2021-11-14     11\n",
       "9         1    748.69     15.04 2021-11-22     11\n",
       "10        1   4031.02     17.67 2021-12-14     12\n",
       "11        1   2720.61      9.53 2021-12-22     12\n",
       "12        2   3105.09     24.31 2021-03-15      3\n",
       "13        2   3053.52     11.54 2021-03-18      3\n",
       "14        2   4029.12     25.11 2021-03-23      3\n",
       "15        2   2805.79     20.65 2021-04-08      4\n",
       "16        2   3358.60     18.40 2021-04-13      4\n",
       "17        2   3255.34     13.85 2021-06-20      6\n",
       "18        2   3942.82     20.14 2021-07-02      7\n",
       "19        2   2837.91     26.03 2021-07-18      7"
      ]
     },
     "execution_count": 10,
     "metadata": {},
     "output_type": "execute_result"
    }
   ],
   "source": [
    "#Создание нового столбца с номером месяца\n",
    "data_rides['month'] = data_rides['date'].dt.month\n",
    "\n",
    "#Округление продолжительности поездки\n",
    "data_rides['duration'] = data_rides['duration'].round(2)\n",
    "#Округление расстояния поездки\n",
    "data_rides['distance'] = data_rides['distance'].round(2)\n",
    "\n",
    "#Вывод датафрейма после добавление нового столбца\n",
    "data_rides.head(20)"
   ]
  },
  {
   "cell_type": "code",
   "execution_count": 11,
   "id": "becaa9fd",
   "metadata": {},
   "outputs": [
    {
     "data": {
      "text/plain": [
       "Timestamp('2021-01-01 00:00:00')"
      ]
     },
     "execution_count": 11,
     "metadata": {},
     "output_type": "execute_result"
    }
   ],
   "source": [
    "#Нахождение самой ранней даты в датафрейме\n",
    "data_rides['date'].min()"
   ]
  },
  {
   "cell_type": "code",
   "execution_count": 12,
   "id": "8be03c47",
   "metadata": {},
   "outputs": [
    {
     "data": {
      "text/plain": [
       "Timestamp('2021-12-30 00:00:00')"
      ]
     },
     "execution_count": 12,
     "metadata": {},
     "output_type": "execute_result"
    }
   ],
   "source": [
    "#Нахождение самой поздней даты в датафрейме\n",
    "data_rides['date'].max()"
   ]
  },
  {
   "cell_type": "markdown",
   "id": "c1a9d8ca",
   "metadata": {},
   "source": [
    "Округлили значения в столбцах с продолжительностью поездки и расстоянием. Также добавили столбец с номером месяца и установили, что данные в датафрейме за период - 2021 год"
   ]
  },
  {
   "cell_type": "markdown",
   "id": "c8782a6a",
   "metadata": {},
   "source": [
    "**Проверка наличия пропусков и дублей в датафреймах**"
   ]
  },
  {
   "cell_type": "code",
   "execution_count": 13,
   "id": "b17901a1",
   "metadata": {},
   "outputs": [
    {
     "data": {
      "text/plain": [
       "user_id              0\n",
       "name                 0\n",
       "age                  0\n",
       "city                 0\n",
       "subscription_type    0\n",
       "dtype: int64"
      ]
     },
     "execution_count": 13,
     "metadata": {},
     "output_type": "execute_result"
    }
   ],
   "source": [
    "#Проверка наличия пропусков в двтафрейме\n",
    "data_user.isna().sum().sort_values(ascending=False)"
   ]
  },
  {
   "cell_type": "code",
   "execution_count": 14,
   "id": "b55d0fa4",
   "metadata": {},
   "outputs": [
    {
     "data": {
      "text/plain": [
       "user_id     0\n",
       "distance    0\n",
       "duration    0\n",
       "date        0\n",
       "month       0\n",
       "dtype: int64"
      ]
     },
     "execution_count": 14,
     "metadata": {},
     "output_type": "execute_result"
    }
   ],
   "source": [
    "#Проверка наличия пропусков в двтафрейме\n",
    "data_rides.isna().sum().sort_values(ascending=False)"
   ]
  },
  {
   "cell_type": "code",
   "execution_count": 15,
   "id": "a1c08f88",
   "metadata": {},
   "outputs": [
    {
     "data": {
      "text/plain": [
       "subscription_type    0\n",
       "minute_price         0\n",
       "start_ride_price     0\n",
       "subscription_fee     0\n",
       "dtype: int64"
      ]
     },
     "execution_count": 15,
     "metadata": {},
     "output_type": "execute_result"
    }
   ],
   "source": [
    "#Проверка наличия пропусков в двтафрейме\n",
    "data_subscriptions.isna().sum().sort_values(ascending=False)"
   ]
  },
  {
   "cell_type": "code",
   "execution_count": 16,
   "id": "caf32c63",
   "metadata": {
    "scrolled": true
   },
   "outputs": [
    {
     "data": {
      "text/plain": [
       "31"
      ]
     },
     "execution_count": 16,
     "metadata": {},
     "output_type": "execute_result"
    }
   ],
   "source": [
    "#Проверка наличия пропусков в двтафрейме\n",
    "data_user.duplicated().sum()"
   ]
  },
  {
   "cell_type": "code",
   "execution_count": 17,
   "id": "7b745230",
   "metadata": {},
   "outputs": [
    {
     "data": {
      "text/plain": [
       "0"
      ]
     },
     "execution_count": 17,
     "metadata": {},
     "output_type": "execute_result"
    }
   ],
   "source": [
    "#Проверка наличия пропусков в двтафрейме\n",
    "data_rides.duplicated().sum()"
   ]
  },
  {
   "cell_type": "code",
   "execution_count": 18,
   "id": "44f6a9c3",
   "metadata": {},
   "outputs": [
    {
     "data": {
      "text/plain": [
       "0"
      ]
     },
     "execution_count": 18,
     "metadata": {},
     "output_type": "execute_result"
    }
   ],
   "source": [
    "#Проверка наличия пропусков в двтафрейме\n",
    "data_subscriptions.duplicated().sum()"
   ]
  },
  {
   "cell_type": "markdown",
   "id": "71876cbd",
   "metadata": {},
   "source": [
    "В датафрейме 'data_user' имеется 31 дублирующая строка. Так как в датафрейме имеется столбце 'user_id', т.е. у каждого пользователя свой идентификационный номер, то дублирование могло произойти из-за технической ошибки. Учитывая небольшое количество дублей, можно их удалить. В остальных дамафреймах дубликаты отсутствуют"
   ]
  },
  {
   "cell_type": "code",
   "execution_count": 19,
   "id": "464671cf",
   "metadata": {},
   "outputs": [
    {
     "data": {
      "text/plain": [
       "0"
      ]
     },
     "execution_count": 19,
     "metadata": {},
     "output_type": "execute_result"
    }
   ],
   "source": [
    "#Замена дубликатов в датафрейме 'data_user'\n",
    "data_user = data_user.drop_duplicates()\n",
    "\n",
    "#Подсчет дубликатов после замены\n",
    "data_user.duplicated().sum()"
   ]
  },
  {
   "cell_type": "code",
   "execution_count": 20,
   "id": "a3a35b6c",
   "metadata": {},
   "outputs": [],
   "source": [
    "#Сброс индекса после удаления дублирующихся значений\n",
    "data_user = data_user.reset_index (drop=True)"
   ]
  },
  {
   "cell_type": "code",
   "execution_count": 21,
   "id": "4dd45ff9",
   "metadata": {},
   "outputs": [
    {
     "name": "stdout",
     "output_type": "stream",
     "text": [
      "<class 'pandas.core.frame.DataFrame'>\n",
      "RangeIndex: 1534 entries, 0 to 1533\n",
      "Data columns (total 5 columns):\n",
      " #   Column             Non-Null Count  Dtype \n",
      "---  ------             --------------  ----- \n",
      " 0   user_id            1534 non-null   int64 \n",
      " 1   name               1534 non-null   object\n",
      " 2   age                1534 non-null   int64 \n",
      " 3   city               1534 non-null   object\n",
      " 4   subscription_type  1534 non-null   object\n",
      "dtypes: int64(2), object(3)\n",
      "memory usage: 60.0+ KB\n"
     ]
    }
   ],
   "source": [
    "#Вывод общей информации о датафрейме\n",
    "data_user.info()"
   ]
  },
  {
   "cell_type": "code",
   "execution_count": 22,
   "id": "dc151f65",
   "metadata": {},
   "outputs": [
    {
     "data": {
      "text/plain": [
       "1.9808306709265175"
      ]
     },
     "execution_count": 22,
     "metadata": {},
     "output_type": "execute_result"
    }
   ],
   "source": [
    "#Расчет доли удаленных значений\n",
    "deleted_values = (1565 -1534 )/1565 * 100\n",
    "deleted_values"
   ]
  },
  {
   "cell_type": "markdown",
   "id": "78a8c621",
   "metadata": {},
   "source": [
    "Доля удаленных значений составила 1,98%"
   ]
  },
  {
   "cell_type": "markdown",
   "id": "64966726",
   "metadata": {},
   "source": [
    "**Вывод по предобработке** В имеющихся датафреймах отсутствовали пропущенные значения. Вместе с тем в датафрейме с данными пользователей имелись дублирующие значения - 31 строка. После удаления дублирующих значений, изначальная таблица сократилась на 1,98%. Также в датафрейме о поездках в столбце с датой поездки был заменен тип данных с object на datetime, а также добавлен ещё один столбце с новыми параметрами, необходимыми для дальнейшего анализа. Был установлен исследуемый период и округлены значения в столбцах с продолжительностью и расстоянием поездки"
   ]
  },
  {
   "cell_type": "markdown",
   "id": "ed20f0f0",
   "metadata": {},
   "source": [
    "# Шаг 3. Исследовательский анализ данных"
   ]
  },
  {
   "cell_type": "markdown",
   "id": "fd196f7b",
   "metadata": {},
   "source": [
    "**Частота встречаемости города**"
   ]
  },
  {
   "cell_type": "code",
   "execution_count": 23,
   "id": "87846414",
   "metadata": {},
   "outputs": [
    {
     "data": {
      "text/plain": [
       "Пятигорск         219\n",
       "Екатеринбург      204\n",
       "Ростов-на-Дону    198\n",
       "Краснодар         193\n",
       "Сочи              189\n",
       "Омск              183\n",
       "Тюмень            180\n",
       "Москва            168\n",
       "Name: city, dtype: int64"
      ]
     },
     "execution_count": 23,
     "metadata": {},
     "output_type": "execute_result"
    }
   ],
   "source": [
    "#Подсчет уникальных значений в столбце 'city'\n",
    "data_user_city_counts = data_user['city'].value_counts()\n",
    "\n",
    "data_user_city_counts"
   ]
  },
  {
   "cell_type": "code",
   "execution_count": 24,
   "id": "bfcb899d",
   "metadata": {},
   "outputs": [
    {
     "data": {
      "text/plain": [
       "Москва            168\n",
       "Тюмень            180\n",
       "Омск              183\n",
       "Сочи              189\n",
       "Краснодар         193\n",
       "Ростов-на-Дону    198\n",
       "Екатеринбург      204\n",
       "Пятигорск         219\n",
       "Name: city, dtype: int64"
      ]
     },
     "execution_count": 24,
     "metadata": {},
     "output_type": "execute_result"
    }
   ],
   "source": [
    "# Сортировка столбца 'city' \n",
    "data_user_city_sorted = data_user_city_counts.sort_values()\n",
    "\n",
    "data_user_city_sorted"
   ]
  },
  {
   "cell_type": "code",
   "execution_count": 25,
   "id": "f6f2de3d",
   "metadata": {},
   "outputs": [
    {
     "data": {
      "image/png": "[encoded data removed]",
      "text/plain": [
       "<Figure size 432x288 with 1 Axes>"
      ]
     },
     "metadata": {
      "needs_background": "light"
     },
     "output_type": "display_data"
    }
   ],
   "source": [
    "#Создание графика\n",
    "plt.title('Города исследования')\n",
    "plt.xlabel('Количество поездок')\n",
    "plt.ylabel('Город')\n",
    "data_user_city_sorted.plot.barh()\n",
    "plt.show()\n"
   ]
  },
  {
   "cell_type": "markdown",
   "id": "dafd941f",
   "metadata": {},
   "source": [
    "**Вывод**\n",
    "\n",
    "В датафрейме имеются записи о 8 городах. Чаще всего встречается Пятигорск (219 раз), заметно реже всех встречается Москва (163 раза). Частота встречаемости остальных городов расположена в промежутке 180-204 раза"
   ]
  },
  {
   "cell_type": "markdown",
   "id": "ae690dcd",
   "metadata": {},
   "source": [
    "**Соотношение пользователей с подпиской и без подписки**"
   ]
  },
  {
   "cell_type": "code",
   "execution_count": 26,
   "id": "b2435bf0",
   "metadata": {},
   "outputs": [
    {
     "data": {
      "text/plain": [
       "free     835\n",
       "ultra    699\n",
       "Name: subscription_type, dtype: int64"
      ]
     },
     "execution_count": 26,
     "metadata": {},
     "output_type": "execute_result"
    }
   ],
   "source": [
    "#Подсчет уникальных значений в столбце 'subscription_type'  \n",
    "data_user['subscription_type'].value_counts()"
   ]
  },
  {
   "cell_type": "code",
   "execution_count": 27,
   "id": "2fd5b8bc",
   "metadata": {},
   "outputs": [
    {
     "data": {
      "image/png": "[encoded data removed]",
      "text/plain": [
       "<Figure size 432x288 with 1 Axes>"
      ]
     },
     "metadata": {},
     "output_type": "display_data"
    }
   ],
   "source": [
    "#Постройка круговой диаграммы\n",
    "\n",
    "count = [835, 699]\n",
    "subscription_type = ['Без подписки', 'С подпиской']\n",
    "\n",
    "plt.title('Распределение пользователей')\n",
    "\n",
    "plt.pie(\n",
    "    count, autopct='%1.2f%%', radius = 1.1)\n",
    "plt.legend(\n",
    "    bbox_to_anchor = (1.0, 1.0), labels = subscription_type )\n",
    "plt.show()"
   ]
  },
  {
   "cell_type": "markdown",
   "id": "6aec17e3",
   "metadata": {},
   "source": [
    "**Вывод**\n",
    "\n",
    "Количество пользователей без подписки на 8.86% превышает количество пользователей с подпиской"
   ]
  },
  {
   "cell_type": "markdown",
   "id": "ab3bb9ac",
   "metadata": {},
   "source": [
    "**Возраст пользователей**"
   ]
  },
  {
   "cell_type": "code",
   "execution_count": 28,
   "id": "e587cab3",
   "metadata": {},
   "outputs": [
    {
     "data": {
      "text/plain": [
       "count    1534.000000\n",
       "mean       24.903520\n",
       "std         4.572367\n",
       "min        12.000000\n",
       "25%        22.000000\n",
       "50%        25.000000\n",
       "75%        28.000000\n",
       "max        43.000000\n",
       "Name: age, dtype: float64"
      ]
     },
     "metadata": {},
     "output_type": "display_data"
    }
   ],
   "source": [
    "#Вывод числовых значений столбца 'age'\n",
    "display(data_user['age'].describe())"
   ]
  },
  {
   "cell_type": "code",
   "execution_count": 29,
   "id": "254963ce",
   "metadata": {},
   "outputs": [
    {
     "data": {
      "text/plain": [
       "25"
      ]
     },
     "execution_count": 29,
     "metadata": {},
     "output_type": "execute_result"
    }
   ],
   "source": [
    "#Расчет значения моды столбце 'age'  \n",
    "\n",
    "moda_age = data_user['age'].mode()[0]\n",
    "moda_age"
   ]
  },
  {
   "cell_type": "code",
   "execution_count": 30,
   "id": "fbc388de",
   "metadata": {},
   "outputs": [
    {
     "data": {
      "image/png": "[encoded data removed]",
      "text/plain": [
       "<Figure size 432x288 with 1 Axes>"
      ]
     },
     "metadata": {
      "needs_background": "light"
     },
     "output_type": "display_data"
    }
   ],
   "source": [
    "#Постройга гистограммы\n",
    "data_user['age'].hist(range=(10, 50))\n",
    "\n",
    "plt.title('Возраст исcледования')\n",
    "plt.xlabel('Возраст')\n",
    "plt.ylabel('Количество поездок')\n",
    "plt.show()"
   ]
  },
  {
   "cell_type": "markdown",
   "id": "ce096ddf",
   "metadata": {},
   "source": [
    "**Вывод**\n",
    "\n",
    "Средний и медианный возраст пользователей практически одинаковый - 24,9 и 25 лет соответственно. Это подтверждается модой, которая равна медианному значению, т.е. чаще остальных сервисом аренды самокатов пользуются люди в возрасте 25 лет. Основной возраст пользователей лежит в диапазоне 22-28 лет, это подтверждается и значениями 1 и 3 квартиля и гисограммой, по которой видно, что после отметки в 22 года идет резкий рост числа пользователей, а после 28 лет наблюдается резкий спад пользователей, после 33 лет количество пользователей уменьшается ещё больше, а после 37 практически равно 0. Максимальный возраст пользователей сервисом 43 года, минимальный 12 лет \n",
    "\n"
   ]
  },
  {
   "cell_type": "markdown",
   "id": "86df5568",
   "metadata": {},
   "source": [
    "**Расстояние, которое пользователь преодолел за одну поездку**"
   ]
  },
  {
   "cell_type": "code",
   "execution_count": 31,
   "id": "4063c472",
   "metadata": {},
   "outputs": [
    {
     "data": {
      "text/plain": [
       "count    18068.000000\n",
       "mean      3070.659992\n",
       "std       1116.831222\n",
       "min          0.860000\n",
       "25%       2543.227500\n",
       "50%       3133.610000\n",
       "75%       3776.220000\n",
       "max       7211.010000\n",
       "Name: distance, dtype: float64"
      ]
     },
     "metadata": {},
     "output_type": "display_data"
    }
   ],
   "source": [
    "#Вывод числовых значений столбца 'distance'\n",
    "display(data_rides['distance'].describe())\n"
   ]
  },
  {
   "cell_type": "code",
   "execution_count": 32,
   "id": "1efe1ff7",
   "metadata": {
    "scrolled": true
   },
   "outputs": [
    {
     "data": {
      "image/png": "[encoded data removed]",
      "text/plain": [
       "<Figure size 432x288 with 1 Axes>"
      ]
     },
     "metadata": {
      "needs_background": "light"
     },
     "output_type": "display_data"
    }
   ],
   "source": [
    "#Постройга гистограммы\n",
    "data_rides['distance'].hist(bins = 20, range=(0, 7500))\n",
    "\n",
    "plt.title('Расстояние поездки')\n",
    "plt.xlabel('Расстояние')\n",
    "plt.ylabel('Количество поездок')\n",
    "plt.show()"
   ]
  },
  {
   "cell_type": "markdown",
   "id": "529e2cdd",
   "metadata": {},
   "source": [
    "**Вывод**\n",
    "\n",
    "Среднее и медианное значение расстояния поездки примерно одинаковые - 3071 и 3134 м. соответственно. Минимальное расстояние составляет 0,85 м, максимальное 7211 м. По гистограмме можно заметить, что количество поездок на расстояние до 1000 м., больше количества поездок на расстояние от 1000 м до 2000 м. Начиная с отметки 3500 м количество поездок постепенно уменьшается, отметки в 6000 м. количество поездок минимально и стремиться к 0. На диаграмме видны два пиковых значения - 500 м и 3500. Пиковое значение на расстоянии в 500 метров, возможно объясняется первой поездкой, т.е. неопытные пользователи, впервые пробующие проехаться на самокате, как правило не проезжают большое расстояние. Пиковое значение на 3500 м, возможно объясняется тем, что опытные пользователи часто используют самокат для того, чтобы добраться до места учебы или работы, т.е. как правило проезжают одинаковое расстояние каждый день"
   ]
  },
  {
   "cell_type": "markdown",
   "id": "ef54bd33",
   "metadata": {},
   "source": [
    "**Продолжительность поездок**"
   ]
  },
  {
   "cell_type": "code",
   "execution_count": 33,
   "id": "98d06ca5",
   "metadata": {},
   "outputs": [
    {
     "data": {
      "text/plain": [
       "count    18068.000000\n",
       "mean        17.805017\n",
       "std          6.091071\n",
       "min          0.500000\n",
       "25%         13.600000\n",
       "50%         17.680000\n",
       "75%         21.722500\n",
       "max         40.820000\n",
       "Name: duration, dtype: float64"
      ]
     },
     "metadata": {},
     "output_type": "display_data"
    }
   ],
   "source": [
    "#Вывод числовых значений столбца 'duration'\n",
    "display(data_rides['duration'].describe())"
   ]
  },
  {
   "cell_type": "code",
   "execution_count": 34,
   "id": "5f54c947",
   "metadata": {},
   "outputs": [
    {
     "data": {
      "image/png": "[encoded data removed]",
      "text/plain": [
       "<Figure size 432x288 with 1 Axes>"
      ]
     },
     "metadata": {
      "needs_background": "light"
     },
     "output_type": "display_data"
    }
   ],
   "source": [
    "#Постройга гистограммы\n",
    "data_rides['duration'].hist(bins = 45, range=(0, 45))\n",
    "\n",
    "plt.title('Время поездки')\n",
    "plt.xlabel('Время')\n",
    "plt.ylabel('Количество поездок')\n",
    "plt.show()"
   ]
  },
  {
   "cell_type": "markdown",
   "id": "554ef513",
   "metadata": {},
   "source": [
    "**Вывод**\n",
    "\n",
    "Средние и медианное значение продолжительности поездок примерно одинаковы - 17.8 и 17.6 мин. соответственно. Минимальная поездка 0.5 мин., в районе этой же отметки наблюдается небольшой всплеск поездок, это можно соотнести с минимальным расстоянием поездки в 0.85 м, это можно объяснить пробной поездкой. Максимальное время поездки составляет 40.8 мин. По гистограмме видно, что чаще всего время поездки составляет от 13 до 17 минут. Резкое увеличение продолжительности поездок наблюдается с 9 минуты, а резкий спад с последующим уменьшением времени после 22 минуты. Это также можно соотнести со средним расстоянием поездки в 3071 м., т.е. можно предположить, что это пользователи которые часто проезжают одинаковое расстояние, например, до учебы или работы. Количество поездок, превышающее 35 минут, практически равно 0"
   ]
  },
  {
   "cell_type": "markdown",
   "id": "b9f67ca0",
   "metadata": {},
   "source": [
    "# Шаг 4. Объединение данных"
   ]
  },
  {
   "cell_type": "code",
   "execution_count": 35,
   "id": "660f447b",
   "metadata": {},
   "outputs": [],
   "source": [
    "#Объединение датафреймов 'data_user' и 'data_rides' по столбцу 'user_id'\n",
    "data_general = data_user.merge(data_rides, on='user_id')\n"
   ]
  },
  {
   "cell_type": "code",
   "execution_count": 36,
   "id": "9ecab637",
   "metadata": {},
   "outputs": [
    {
     "data": {
      "text/html": [
       "<div>\n",
       "<style scoped>\n",
       "    .dataframe tbody tr th:only-of-type {\n",
       "        vertical-align: middle;\n",
       "    }\n",
       "\n",
       "    .dataframe tbody tr th {\n",
       "        vertical-align: top;\n",
       "    }\n",
       "\n",
       "    .dataframe thead th {\n",
       "        text-align: right;\n",
       "    }\n",
       "</style>\n",
       "<table border=\"1\" class=\"dataframe\">\n",
       "  <thead>\n",
       "    <tr style=\"text-align: right;\">\n",
       "      <th></th>\n",
       "      <th>user_id</th>\n",
       "      <th>name</th>\n",
       "      <th>age</th>\n",
       "      <th>city</th>\n",
       "      <th>subscription_type</th>\n",
       "      <th>distance</th>\n",
       "      <th>duration</th>\n",
       "      <th>date</th>\n",
       "      <th>month</th>\n",
       "      <th>minute_price</th>\n",
       "      <th>start_ride_price</th>\n",
       "      <th>subscription_fee</th>\n",
       "    </tr>\n",
       "  </thead>\n",
       "  <tbody>\n",
       "    <tr>\n",
       "      <th>0</th>\n",
       "      <td>1</td>\n",
       "      <td>Кира</td>\n",
       "      <td>22</td>\n",
       "      <td>Тюмень</td>\n",
       "      <td>ultra</td>\n",
       "      <td>4409.92</td>\n",
       "      <td>25.60</td>\n",
       "      <td>2021-01-01</td>\n",
       "      <td>1</td>\n",
       "      <td>6</td>\n",
       "      <td>0</td>\n",
       "      <td>199</td>\n",
       "    </tr>\n",
       "    <tr>\n",
       "      <th>1</th>\n",
       "      <td>1</td>\n",
       "      <td>Кира</td>\n",
       "      <td>22</td>\n",
       "      <td>Тюмень</td>\n",
       "      <td>ultra</td>\n",
       "      <td>2617.59</td>\n",
       "      <td>15.82</td>\n",
       "      <td>2021-01-18</td>\n",
       "      <td>1</td>\n",
       "      <td>6</td>\n",
       "      <td>0</td>\n",
       "      <td>199</td>\n",
       "    </tr>\n",
       "    <tr>\n",
       "      <th>2</th>\n",
       "      <td>1</td>\n",
       "      <td>Кира</td>\n",
       "      <td>22</td>\n",
       "      <td>Тюмень</td>\n",
       "      <td>ultra</td>\n",
       "      <td>754.16</td>\n",
       "      <td>6.23</td>\n",
       "      <td>2021-04-20</td>\n",
       "      <td>4</td>\n",
       "      <td>6</td>\n",
       "      <td>0</td>\n",
       "      <td>199</td>\n",
       "    </tr>\n",
       "    <tr>\n",
       "      <th>3</th>\n",
       "      <td>1</td>\n",
       "      <td>Кира</td>\n",
       "      <td>22</td>\n",
       "      <td>Тюмень</td>\n",
       "      <td>ultra</td>\n",
       "      <td>2694.78</td>\n",
       "      <td>18.51</td>\n",
       "      <td>2021-08-11</td>\n",
       "      <td>8</td>\n",
       "      <td>6</td>\n",
       "      <td>0</td>\n",
       "      <td>199</td>\n",
       "    </tr>\n",
       "    <tr>\n",
       "      <th>4</th>\n",
       "      <td>1</td>\n",
       "      <td>Кира</td>\n",
       "      <td>22</td>\n",
       "      <td>Тюмень</td>\n",
       "      <td>ultra</td>\n",
       "      <td>4028.69</td>\n",
       "      <td>26.27</td>\n",
       "      <td>2021-08-28</td>\n",
       "      <td>8</td>\n",
       "      <td>6</td>\n",
       "      <td>0</td>\n",
       "      <td>199</td>\n",
       "    </tr>\n",
       "    <tr>\n",
       "      <th>...</th>\n",
       "      <td>...</td>\n",
       "      <td>...</td>\n",
       "      <td>...</td>\n",
       "      <td>...</td>\n",
       "      <td>...</td>\n",
       "      <td>...</td>\n",
       "      <td>...</td>\n",
       "      <td>...</td>\n",
       "      <td>...</td>\n",
       "      <td>...</td>\n",
       "      <td>...</td>\n",
       "      <td>...</td>\n",
       "    </tr>\n",
       "    <tr>\n",
       "      <th>18063</th>\n",
       "      <td>1534</td>\n",
       "      <td>Альберт</td>\n",
       "      <td>25</td>\n",
       "      <td>Краснодар</td>\n",
       "      <td>free</td>\n",
       "      <td>3781.10</td>\n",
       "      <td>19.82</td>\n",
       "      <td>2021-11-04</td>\n",
       "      <td>11</td>\n",
       "      <td>8</td>\n",
       "      <td>50</td>\n",
       "      <td>0</td>\n",
       "    </tr>\n",
       "    <tr>\n",
       "      <th>18064</th>\n",
       "      <td>1534</td>\n",
       "      <td>Альберт</td>\n",
       "      <td>25</td>\n",
       "      <td>Краснодар</td>\n",
       "      <td>free</td>\n",
       "      <td>2840.42</td>\n",
       "      <td>21.41</td>\n",
       "      <td>2021-11-16</td>\n",
       "      <td>11</td>\n",
       "      <td>8</td>\n",
       "      <td>50</td>\n",
       "      <td>0</td>\n",
       "    </tr>\n",
       "    <tr>\n",
       "      <th>18065</th>\n",
       "      <td>1534</td>\n",
       "      <td>Альберт</td>\n",
       "      <td>25</td>\n",
       "      <td>Краснодар</td>\n",
       "      <td>free</td>\n",
       "      <td>3826.19</td>\n",
       "      <td>18.44</td>\n",
       "      <td>2021-11-18</td>\n",
       "      <td>11</td>\n",
       "      <td>8</td>\n",
       "      <td>50</td>\n",
       "      <td>0</td>\n",
       "    </tr>\n",
       "    <tr>\n",
       "      <th>18066</th>\n",
       "      <td>1534</td>\n",
       "      <td>Альберт</td>\n",
       "      <td>25</td>\n",
       "      <td>Краснодар</td>\n",
       "      <td>free</td>\n",
       "      <td>2902.31</td>\n",
       "      <td>16.67</td>\n",
       "      <td>2021-11-27</td>\n",
       "      <td>11</td>\n",
       "      <td>8</td>\n",
       "      <td>50</td>\n",
       "      <td>0</td>\n",
       "    </tr>\n",
       "    <tr>\n",
       "      <th>18067</th>\n",
       "      <td>1534</td>\n",
       "      <td>Альберт</td>\n",
       "      <td>25</td>\n",
       "      <td>Краснодар</td>\n",
       "      <td>free</td>\n",
       "      <td>2371.71</td>\n",
       "      <td>15.89</td>\n",
       "      <td>2021-12-29</td>\n",
       "      <td>12</td>\n",
       "      <td>8</td>\n",
       "      <td>50</td>\n",
       "      <td>0</td>\n",
       "    </tr>\n",
       "  </tbody>\n",
       "</table>\n",
       "<p>18068 rows × 12 columns</p>\n",
       "</div>"
      ],
      "text/plain": [
       "       user_id     name  age       city subscription_type  distance  duration  \\\n",
       "0            1     Кира   22     Тюмень             ultra   4409.92     25.60   \n",
       "1            1     Кира   22     Тюмень             ultra   2617.59     15.82   \n",
       "2            1     Кира   22     Тюмень             ultra    754.16      6.23   \n",
       "3            1     Кира   22     Тюмень             ultra   2694.78     18.51   \n",
       "4            1     Кира   22     Тюмень             ultra   4028.69     26.27   \n",
       "...        ...      ...  ...        ...               ...       ...       ...   \n",
       "18063     1534  Альберт   25  Краснодар              free   3781.10     19.82   \n",
       "18064     1534  Альберт   25  Краснодар              free   2840.42     21.41   \n",
       "18065     1534  Альберт   25  Краснодар              free   3826.19     18.44   \n",
       "18066     1534  Альберт   25  Краснодар              free   2902.31     16.67   \n",
       "18067     1534  Альберт   25  Краснодар              free   2371.71     15.89   \n",
       "\n",
       "            date  month  minute_price  start_ride_price  subscription_fee  \n",
       "0     2021-01-01      1             6                 0               199  \n",
       "1     2021-01-18      1             6                 0               199  \n",
       "2     2021-04-20      4             6                 0               199  \n",
       "3     2021-08-11      8             6                 0               199  \n",
       "4     2021-08-28      8             6                 0               199  \n",
       "...          ...    ...           ...               ...               ...  \n",
       "18063 2021-11-04     11             8                50                 0  \n",
       "18064 2021-11-16     11             8                50                 0  \n",
       "18065 2021-11-18     11             8                50                 0  \n",
       "18066 2021-11-27     11             8                50                 0  \n",
       "18067 2021-12-29     12             8                50                 0  \n",
       "\n",
       "[18068 rows x 12 columns]"
      ]
     },
     "execution_count": 36,
     "metadata": {},
     "output_type": "execute_result"
    }
   ],
   "source": [
    "#Объединение датафреймов 'data_general' и 'data_subscriptions' по столбцу 'subscription_type'\n",
    "data_general = data_general.merge(data_subscriptions, on='subscription_type')\n",
    "\n",
    "#Вывод нового датафрейма \n",
    "data_general"
   ]
  },
  {
   "cell_type": "markdown",
   "id": "93df8cab",
   "metadata": {},
   "source": [
    "Создали единый датафрейм из трех изначальных, сначала объединив таблицы с информацией о пользователях и поездках, по идентификационному номеру пользователя. Затем полученный датафрейм объединили с датафреймом о подписках по их наличию. Таблица содержит 18068 строк, столько же содержала самая большая из изначальных таблиц - таблица с поездками."
   ]
  },
  {
   "cell_type": "code",
   "execution_count": 37,
   "id": "7cc5a0ab",
   "metadata": {},
   "outputs": [],
   "source": [
    "#Создание отдельного датафрейма с данными о пользователях с подпиской\n",
    "data_general_ultra =  data_general[data_general['subscription_type'] == 'ultra']\n",
    "\n",
    "#Создание отдельного датафрейма с данными о пользователях без подписки\n",
    "data_general_free =  data_general[data_general['subscription_type'] == 'free']"
   ]
  },
  {
   "cell_type": "code",
   "execution_count": 38,
   "id": "e6ede1ad",
   "metadata": {},
   "outputs": [
    {
     "data": {
      "text/html": [
       "<div>\n",
       "<style scoped>\n",
       "    .dataframe tbody tr th:only-of-type {\n",
       "        vertical-align: middle;\n",
       "    }\n",
       "\n",
       "    .dataframe tbody tr th {\n",
       "        vertical-align: top;\n",
       "    }\n",
       "\n",
       "    .dataframe thead th {\n",
       "        text-align: right;\n",
       "    }\n",
       "</style>\n",
       "<table border=\"1\" class=\"dataframe\">\n",
       "  <thead>\n",
       "    <tr style=\"text-align: right;\">\n",
       "      <th></th>\n",
       "      <th>user_id</th>\n",
       "      <th>name</th>\n",
       "      <th>age</th>\n",
       "      <th>city</th>\n",
       "      <th>subscription_type</th>\n",
       "      <th>distance</th>\n",
       "      <th>duration</th>\n",
       "      <th>date</th>\n",
       "      <th>month</th>\n",
       "      <th>minute_price</th>\n",
       "      <th>start_ride_price</th>\n",
       "      <th>subscription_fee</th>\n",
       "    </tr>\n",
       "  </thead>\n",
       "  <tbody>\n",
       "    <tr>\n",
       "      <th>0</th>\n",
       "      <td>1</td>\n",
       "      <td>Кира</td>\n",
       "      <td>22</td>\n",
       "      <td>Тюмень</td>\n",
       "      <td>ultra</td>\n",
       "      <td>4409.92</td>\n",
       "      <td>25.60</td>\n",
       "      <td>2021-01-01</td>\n",
       "      <td>1</td>\n",
       "      <td>6</td>\n",
       "      <td>0</td>\n",
       "      <td>199</td>\n",
       "    </tr>\n",
       "    <tr>\n",
       "      <th>1</th>\n",
       "      <td>1</td>\n",
       "      <td>Кира</td>\n",
       "      <td>22</td>\n",
       "      <td>Тюмень</td>\n",
       "      <td>ultra</td>\n",
       "      <td>2617.59</td>\n",
       "      <td>15.82</td>\n",
       "      <td>2021-01-18</td>\n",
       "      <td>1</td>\n",
       "      <td>6</td>\n",
       "      <td>0</td>\n",
       "      <td>199</td>\n",
       "    </tr>\n",
       "    <tr>\n",
       "      <th>2</th>\n",
       "      <td>1</td>\n",
       "      <td>Кира</td>\n",
       "      <td>22</td>\n",
       "      <td>Тюмень</td>\n",
       "      <td>ultra</td>\n",
       "      <td>754.16</td>\n",
       "      <td>6.23</td>\n",
       "      <td>2021-04-20</td>\n",
       "      <td>4</td>\n",
       "      <td>6</td>\n",
       "      <td>0</td>\n",
       "      <td>199</td>\n",
       "    </tr>\n",
       "    <tr>\n",
       "      <th>3</th>\n",
       "      <td>1</td>\n",
       "      <td>Кира</td>\n",
       "      <td>22</td>\n",
       "      <td>Тюмень</td>\n",
       "      <td>ultra</td>\n",
       "      <td>2694.78</td>\n",
       "      <td>18.51</td>\n",
       "      <td>2021-08-11</td>\n",
       "      <td>8</td>\n",
       "      <td>6</td>\n",
       "      <td>0</td>\n",
       "      <td>199</td>\n",
       "    </tr>\n",
       "    <tr>\n",
       "      <th>4</th>\n",
       "      <td>1</td>\n",
       "      <td>Кира</td>\n",
       "      <td>22</td>\n",
       "      <td>Тюмень</td>\n",
       "      <td>ultra</td>\n",
       "      <td>4028.69</td>\n",
       "      <td>26.27</td>\n",
       "      <td>2021-08-28</td>\n",
       "      <td>8</td>\n",
       "      <td>6</td>\n",
       "      <td>0</td>\n",
       "      <td>199</td>\n",
       "    </tr>\n",
       "    <tr>\n",
       "      <th>...</th>\n",
       "      <td>...</td>\n",
       "      <td>...</td>\n",
       "      <td>...</td>\n",
       "      <td>...</td>\n",
       "      <td>...</td>\n",
       "      <td>...</td>\n",
       "      <td>...</td>\n",
       "      <td>...</td>\n",
       "      <td>...</td>\n",
       "      <td>...</td>\n",
       "      <td>...</td>\n",
       "      <td>...</td>\n",
       "    </tr>\n",
       "    <tr>\n",
       "      <th>6495</th>\n",
       "      <td>699</td>\n",
       "      <td>Оксана</td>\n",
       "      <td>22</td>\n",
       "      <td>Москва</td>\n",
       "      <td>ultra</td>\n",
       "      <td>3973.05</td>\n",
       "      <td>24.67</td>\n",
       "      <td>2021-08-29</td>\n",
       "      <td>8</td>\n",
       "      <td>6</td>\n",
       "      <td>0</td>\n",
       "      <td>199</td>\n",
       "    </tr>\n",
       "    <tr>\n",
       "      <th>6496</th>\n",
       "      <td>699</td>\n",
       "      <td>Оксана</td>\n",
       "      <td>22</td>\n",
       "      <td>Москва</td>\n",
       "      <td>ultra</td>\n",
       "      <td>3288.70</td>\n",
       "      <td>15.89</td>\n",
       "      <td>2021-09-12</td>\n",
       "      <td>9</td>\n",
       "      <td>6</td>\n",
       "      <td>0</td>\n",
       "      <td>199</td>\n",
       "    </tr>\n",
       "    <tr>\n",
       "      <th>6497</th>\n",
       "      <td>699</td>\n",
       "      <td>Оксана</td>\n",
       "      <td>22</td>\n",
       "      <td>Москва</td>\n",
       "      <td>ultra</td>\n",
       "      <td>3076.16</td>\n",
       "      <td>14.39</td>\n",
       "      <td>2021-09-26</td>\n",
       "      <td>9</td>\n",
       "      <td>6</td>\n",
       "      <td>0</td>\n",
       "      <td>199</td>\n",
       "    </tr>\n",
       "    <tr>\n",
       "      <th>6498</th>\n",
       "      <td>699</td>\n",
       "      <td>Оксана</td>\n",
       "      <td>22</td>\n",
       "      <td>Москва</td>\n",
       "      <td>ultra</td>\n",
       "      <td>4707.85</td>\n",
       "      <td>15.84</td>\n",
       "      <td>2021-10-17</td>\n",
       "      <td>10</td>\n",
       "      <td>6</td>\n",
       "      <td>0</td>\n",
       "      <td>199</td>\n",
       "    </tr>\n",
       "    <tr>\n",
       "      <th>6499</th>\n",
       "      <td>699</td>\n",
       "      <td>Оксана</td>\n",
       "      <td>22</td>\n",
       "      <td>Москва</td>\n",
       "      <td>ultra</td>\n",
       "      <td>3202.89</td>\n",
       "      <td>25.22</td>\n",
       "      <td>2021-12-03</td>\n",
       "      <td>12</td>\n",
       "      <td>6</td>\n",
       "      <td>0</td>\n",
       "      <td>199</td>\n",
       "    </tr>\n",
       "  </tbody>\n",
       "</table>\n",
       "<p>6500 rows × 12 columns</p>\n",
       "</div>"
      ],
      "text/plain": [
       "      user_id    name  age    city subscription_type  distance  duration  \\\n",
       "0           1    Кира   22  Тюмень             ultra   4409.92     25.60   \n",
       "1           1    Кира   22  Тюмень             ultra   2617.59     15.82   \n",
       "2           1    Кира   22  Тюмень             ultra    754.16      6.23   \n",
       "3           1    Кира   22  Тюмень             ultra   2694.78     18.51   \n",
       "4           1    Кира   22  Тюмень             ultra   4028.69     26.27   \n",
       "...       ...     ...  ...     ...               ...       ...       ...   \n",
       "6495      699  Оксана   22  Москва             ultra   3973.05     24.67   \n",
       "6496      699  Оксана   22  Москва             ultra   3288.70     15.89   \n",
       "6497      699  Оксана   22  Москва             ultra   3076.16     14.39   \n",
       "6498      699  Оксана   22  Москва             ultra   4707.85     15.84   \n",
       "6499      699  Оксана   22  Москва             ultra   3202.89     25.22   \n",
       "\n",
       "           date  month  minute_price  start_ride_price  subscription_fee  \n",
       "0    2021-01-01      1             6                 0               199  \n",
       "1    2021-01-18      1             6                 0               199  \n",
       "2    2021-04-20      4             6                 0               199  \n",
       "3    2021-08-11      8             6                 0               199  \n",
       "4    2021-08-28      8             6                 0               199  \n",
       "...         ...    ...           ...               ...               ...  \n",
       "6495 2021-08-29      8             6                 0               199  \n",
       "6496 2021-09-12      9             6                 0               199  \n",
       "6497 2021-09-26      9             6                 0               199  \n",
       "6498 2021-10-17     10             6                 0               199  \n",
       "6499 2021-12-03     12             6                 0               199  \n",
       "\n",
       "[6500 rows x 12 columns]"
      ]
     },
     "execution_count": 38,
     "metadata": {},
     "output_type": "execute_result"
    }
   ],
   "source": [
    "#Вывод датафрейма 'data_general_ultra'\n",
    "data_general_ultra"
   ]
  },
  {
   "cell_type": "code",
   "execution_count": 39,
   "id": "a3e60971",
   "metadata": {},
   "outputs": [
    {
     "data": {
      "text/html": [
       "<div>\n",
       "<style scoped>\n",
       "    .dataframe tbody tr th:only-of-type {\n",
       "        vertical-align: middle;\n",
       "    }\n",
       "\n",
       "    .dataframe tbody tr th {\n",
       "        vertical-align: top;\n",
       "    }\n",
       "\n",
       "    .dataframe thead th {\n",
       "        text-align: right;\n",
       "    }\n",
       "</style>\n",
       "<table border=\"1\" class=\"dataframe\">\n",
       "  <thead>\n",
       "    <tr style=\"text-align: right;\">\n",
       "      <th></th>\n",
       "      <th>user_id</th>\n",
       "      <th>name</th>\n",
       "      <th>age</th>\n",
       "      <th>city</th>\n",
       "      <th>subscription_type</th>\n",
       "      <th>distance</th>\n",
       "      <th>duration</th>\n",
       "      <th>date</th>\n",
       "      <th>month</th>\n",
       "      <th>minute_price</th>\n",
       "      <th>start_ride_price</th>\n",
       "      <th>subscription_fee</th>\n",
       "    </tr>\n",
       "  </thead>\n",
       "  <tbody>\n",
       "    <tr>\n",
       "      <th>6500</th>\n",
       "      <td>700</td>\n",
       "      <td>Айдар</td>\n",
       "      <td>22</td>\n",
       "      <td>Омск</td>\n",
       "      <td>free</td>\n",
       "      <td>2515.69</td>\n",
       "      <td>14.94</td>\n",
       "      <td>2021-01-02</td>\n",
       "      <td>1</td>\n",
       "      <td>8</td>\n",
       "      <td>50</td>\n",
       "      <td>0</td>\n",
       "    </tr>\n",
       "    <tr>\n",
       "      <th>6501</th>\n",
       "      <td>700</td>\n",
       "      <td>Айдар</td>\n",
       "      <td>22</td>\n",
       "      <td>Омск</td>\n",
       "      <td>free</td>\n",
       "      <td>846.93</td>\n",
       "      <td>16.23</td>\n",
       "      <td>2021-02-01</td>\n",
       "      <td>2</td>\n",
       "      <td>8</td>\n",
       "      <td>50</td>\n",
       "      <td>0</td>\n",
       "    </tr>\n",
       "    <tr>\n",
       "      <th>6502</th>\n",
       "      <td>700</td>\n",
       "      <td>Айдар</td>\n",
       "      <td>22</td>\n",
       "      <td>Омск</td>\n",
       "      <td>free</td>\n",
       "      <td>4004.43</td>\n",
       "      <td>20.02</td>\n",
       "      <td>2021-02-04</td>\n",
       "      <td>2</td>\n",
       "      <td>8</td>\n",
       "      <td>50</td>\n",
       "      <td>0</td>\n",
       "    </tr>\n",
       "    <tr>\n",
       "      <th>6503</th>\n",
       "      <td>700</td>\n",
       "      <td>Айдар</td>\n",
       "      <td>22</td>\n",
       "      <td>Омск</td>\n",
       "      <td>free</td>\n",
       "      <td>1205.91</td>\n",
       "      <td>9.78</td>\n",
       "      <td>2021-02-10</td>\n",
       "      <td>2</td>\n",
       "      <td>8</td>\n",
       "      <td>50</td>\n",
       "      <td>0</td>\n",
       "    </tr>\n",
       "    <tr>\n",
       "      <th>6504</th>\n",
       "      <td>700</td>\n",
       "      <td>Айдар</td>\n",
       "      <td>22</td>\n",
       "      <td>Омск</td>\n",
       "      <td>free</td>\n",
       "      <td>3047.38</td>\n",
       "      <td>17.43</td>\n",
       "      <td>2021-02-14</td>\n",
       "      <td>2</td>\n",
       "      <td>8</td>\n",
       "      <td>50</td>\n",
       "      <td>0</td>\n",
       "    </tr>\n",
       "    <tr>\n",
       "      <th>...</th>\n",
       "      <td>...</td>\n",
       "      <td>...</td>\n",
       "      <td>...</td>\n",
       "      <td>...</td>\n",
       "      <td>...</td>\n",
       "      <td>...</td>\n",
       "      <td>...</td>\n",
       "      <td>...</td>\n",
       "      <td>...</td>\n",
       "      <td>...</td>\n",
       "      <td>...</td>\n",
       "      <td>...</td>\n",
       "    </tr>\n",
       "    <tr>\n",
       "      <th>18063</th>\n",
       "      <td>1534</td>\n",
       "      <td>Альберт</td>\n",
       "      <td>25</td>\n",
       "      <td>Краснодар</td>\n",
       "      <td>free</td>\n",
       "      <td>3781.10</td>\n",
       "      <td>19.82</td>\n",
       "      <td>2021-11-04</td>\n",
       "      <td>11</td>\n",
       "      <td>8</td>\n",
       "      <td>50</td>\n",
       "      <td>0</td>\n",
       "    </tr>\n",
       "    <tr>\n",
       "      <th>18064</th>\n",
       "      <td>1534</td>\n",
       "      <td>Альберт</td>\n",
       "      <td>25</td>\n",
       "      <td>Краснодар</td>\n",
       "      <td>free</td>\n",
       "      <td>2840.42</td>\n",
       "      <td>21.41</td>\n",
       "      <td>2021-11-16</td>\n",
       "      <td>11</td>\n",
       "      <td>8</td>\n",
       "      <td>50</td>\n",
       "      <td>0</td>\n",
       "    </tr>\n",
       "    <tr>\n",
       "      <th>18065</th>\n",
       "      <td>1534</td>\n",
       "      <td>Альберт</td>\n",
       "      <td>25</td>\n",
       "      <td>Краснодар</td>\n",
       "      <td>free</td>\n",
       "      <td>3826.19</td>\n",
       "      <td>18.44</td>\n",
       "      <td>2021-11-18</td>\n",
       "      <td>11</td>\n",
       "      <td>8</td>\n",
       "      <td>50</td>\n",
       "      <td>0</td>\n",
       "    </tr>\n",
       "    <tr>\n",
       "      <th>18066</th>\n",
       "      <td>1534</td>\n",
       "      <td>Альберт</td>\n",
       "      <td>25</td>\n",
       "      <td>Краснодар</td>\n",
       "      <td>free</td>\n",
       "      <td>2902.31</td>\n",
       "      <td>16.67</td>\n",
       "      <td>2021-11-27</td>\n",
       "      <td>11</td>\n",
       "      <td>8</td>\n",
       "      <td>50</td>\n",
       "      <td>0</td>\n",
       "    </tr>\n",
       "    <tr>\n",
       "      <th>18067</th>\n",
       "      <td>1534</td>\n",
       "      <td>Альберт</td>\n",
       "      <td>25</td>\n",
       "      <td>Краснодар</td>\n",
       "      <td>free</td>\n",
       "      <td>2371.71</td>\n",
       "      <td>15.89</td>\n",
       "      <td>2021-12-29</td>\n",
       "      <td>12</td>\n",
       "      <td>8</td>\n",
       "      <td>50</td>\n",
       "      <td>0</td>\n",
       "    </tr>\n",
       "  </tbody>\n",
       "</table>\n",
       "<p>11568 rows × 12 columns</p>\n",
       "</div>"
      ],
      "text/plain": [
       "       user_id     name  age       city subscription_type  distance  duration  \\\n",
       "6500       700    Айдар   22       Омск              free   2515.69     14.94   \n",
       "6501       700    Айдар   22       Омск              free    846.93     16.23   \n",
       "6502       700    Айдар   22       Омск              free   4004.43     20.02   \n",
       "6503       700    Айдар   22       Омск              free   1205.91      9.78   \n",
       "6504       700    Айдар   22       Омск              free   3047.38     17.43   \n",
       "...        ...      ...  ...        ...               ...       ...       ...   \n",
       "18063     1534  Альберт   25  Краснодар              free   3781.10     19.82   \n",
       "18064     1534  Альберт   25  Краснодар              free   2840.42     21.41   \n",
       "18065     1534  Альберт   25  Краснодар              free   3826.19     18.44   \n",
       "18066     1534  Альберт   25  Краснодар              free   2902.31     16.67   \n",
       "18067     1534  Альберт   25  Краснодар              free   2371.71     15.89   \n",
       "\n",
       "            date  month  minute_price  start_ride_price  subscription_fee  \n",
       "6500  2021-01-02      1             8                50                 0  \n",
       "6501  2021-02-01      2             8                50                 0  \n",
       "6502  2021-02-04      2             8                50                 0  \n",
       "6503  2021-02-10      2             8                50                 0  \n",
       "6504  2021-02-14      2             8                50                 0  \n",
       "...          ...    ...           ...               ...               ...  \n",
       "18063 2021-11-04     11             8                50                 0  \n",
       "18064 2021-11-16     11             8                50                 0  \n",
       "18065 2021-11-18     11             8                50                 0  \n",
       "18066 2021-11-27     11             8                50                 0  \n",
       "18067 2021-12-29     12             8                50                 0  \n",
       "\n",
       "[11568 rows x 12 columns]"
      ]
     },
     "execution_count": 39,
     "metadata": {},
     "output_type": "execute_result"
    }
   ],
   "source": [
    "#Вывод датафрейма 'data_general_free'\n",
    "data_general_free"
   ]
  },
  {
   "cell_type": "markdown",
   "id": "393d4f8a",
   "metadata": {},
   "source": [
    "Создали из общего датафрейма отдельные датафреймы по пользователям с подпиской и без неё, т.е. создали две выборки из генеральной совокупности"
   ]
  },
  {
   "cell_type": "markdown",
   "id": "0777343a",
   "metadata": {},
   "source": [
    "**Расстояние поездок по категориям**"
   ]
  },
  {
   "cell_type": "code",
   "execution_count": 40,
   "id": "4d2e5386",
   "metadata": {},
   "outputs": [
    {
     "data": {
      "image/png": "[encoded data removed]",
      "text/plain": [
       "<Figure size 432x288 with 1 Axes>"
      ]
     },
     "metadata": {
      "needs_background": "light"
     },
     "output_type": "display_data"
    }
   ],
   "source": [
    "#Создание гистограмм для растояния\n",
    "ax = data_general_ultra['distance'].plot(\n",
    "    kind='hist',\n",
    "    histtype='step',\n",
    "    range=(0, 7500),\n",
    "    bins=25,\n",
    "    linewidth=5,\n",
    "    alpha=0.7,\n",
    "    label='С подпиской',\n",
    "    legend=True\n",
    ")\n",
    "data_general_free['distance'].plot(\n",
    "    kind='hist',\n",
    "    histtype='step',\n",
    "    range=(0, 7500),\n",
    "    bins=25,\n",
    "    linewidth=5,\n",
    "    alpha=0.7,\n",
    "    label='Без подписки',\n",
    "    ax=ax,\n",
    "    grid=True,\n",
    "    legend=True,\n",
    ")\n",
    "\n",
    "plt.title('Расстояние поездки')\n",
    "plt.xlabel('Расстояние')\n",
    "plt.ylabel('Количество поездок')\n",
    "plt.show()"
   ]
  },
  {
   "cell_type": "code",
   "execution_count": 41,
   "id": "40346856",
   "metadata": {},
   "outputs": [
    {
     "data": {
      "text/plain": [
       "count    6500.000000\n",
       "mean     3115.445431\n",
       "std       836.895369\n",
       "min       244.210000\n",
       "25%      2785.447500\n",
       "50%      3148.640000\n",
       "75%      3560.577500\n",
       "max      5699.770000\n",
       "Name: distance, dtype: float64"
      ]
     },
     "metadata": {},
     "output_type": "display_data"
    }
   ],
   "source": [
    "#Вывод числовых значений столбца 'distance' для пользователей с подпиской\n",
    "display(data_general_ultra['distance'].describe())"
   ]
  },
  {
   "cell_type": "code",
   "execution_count": 42,
   "id": "aefbc431",
   "metadata": {},
   "outputs": [
    {
     "data": {
      "text/plain": [
       "count    11568.000000\n",
       "mean      3045.495284\n",
       "std       1246.173810\n",
       "min          0.860000\n",
       "25%       2366.560000\n",
       "50%       3114.650000\n",
       "75%       3905.695000\n",
       "max       7211.010000\n",
       "Name: distance, dtype: float64"
      ]
     },
     "metadata": {},
     "output_type": "display_data"
    }
   ],
   "source": [
    "#Вывод числовых значений столбца 'distance' для пользователей без подпиской\n",
    "display(data_general_free['distance'].describe())"
   ]
  },
  {
   "cell_type": "markdown",
   "id": "ec3b914a",
   "metadata": {},
   "source": [
    "**Вывод**\n",
    "\n",
    "Среднее и медианное значение расстояния, которое проезжают пользователи сервиса практически одинокого, вне зависимости от наличия или отсутствия подписки. По гистограмме пользователей с подпиской можно заметить, что они чаще чем пользователи без подписки проезжают расстояние 3000-3500 м., а пользователи без подписки намного чаще проезжают расстояние менее 1000 м., после чего у них наблюдается схожая общая динамика с пользователями с подпиской.\n"
   ]
  },
  {
   "cell_type": "markdown",
   "id": "1ee40a26",
   "metadata": {},
   "source": [
    "**Время поездок по категориям**"
   ]
  },
  {
   "cell_type": "code",
   "execution_count": 43,
   "id": "84149f8f",
   "metadata": {},
   "outputs": [
    {
     "data": {
      "image/png": "[encoded data removed]",
      "text/plain": [
       "<Figure size 432x288 with 1 Axes>"
      ]
     },
     "metadata": {
      "needs_background": "light"
     },
     "output_type": "display_data"
    }
   ],
   "source": [
    "#Создание гистограмм для времени поезок\n",
    "ax = data_general_ultra['duration'].plot(\n",
    "    kind='hist',\n",
    "    histtype='step',\n",
    "    range=(0, 45),\n",
    "    bins=20,\n",
    "    linewidth=5,\n",
    "    alpha=0.7,\n",
    "    label='С подпиской',\n",
    "    legend=True\n",
    ")\n",
    "data_general_free['duration'].plot(\n",
    "    kind='hist',\n",
    "    histtype='step',\n",
    "    range=(0, 45),\n",
    "    bins=20,\n",
    "    linewidth=5,\n",
    "    alpha=0.7,\n",
    "    label='Без подписки',\n",
    "    ax=ax,\n",
    "    grid=True,\n",
    "    legend=True,\n",
    ")\n",
    "\n",
    "plt.title('Время поездки')\n",
    "plt.xlabel('Время')\n",
    "plt.ylabel('Количество поездок')\n",
    "plt.show()"
   ]
  },
  {
   "cell_type": "code",
   "execution_count": 44,
   "id": "b92646e2",
   "metadata": {},
   "outputs": [
    {
     "data": {
      "text/plain": [
       "count    6500.000000\n",
       "mean       18.542017\n",
       "std         5.572065\n",
       "min         3.760000\n",
       "25%        14.527500\n",
       "50%        18.180000\n",
       "75%        21.880000\n",
       "max        40.820000\n",
       "Name: duration, dtype: float64"
      ]
     },
     "metadata": {},
     "output_type": "display_data"
    }
   ],
   "source": [
    "#Вывод числовых значений столбца 'duration' для пользователей с подпиской\n",
    "display(data_general_ultra['duration'].describe())"
   ]
  },
  {
   "cell_type": "code",
   "execution_count": 45,
   "id": "d4c263b1",
   "metadata": {},
   "outputs": [
    {
     "data": {
      "text/plain": [
       "count    11568.000000\n",
       "mean        17.390900\n",
       "std          6.326821\n",
       "min          0.500000\n",
       "25%         12.960000\n",
       "50%         17.330000\n",
       "75%         21.592500\n",
       "max         34.950000\n",
       "Name: duration, dtype: float64"
      ]
     },
     "metadata": {},
     "output_type": "display_data"
    }
   ],
   "source": [
    "#Вывод числовых значений столбца 'duration' для пользователей без подпиской\n",
    "display(data_general_free['duration'].describe())"
   ]
  },
  {
   "cell_type": "markdown",
   "id": "7ede89d5",
   "metadata": {},
   "source": [
    "**Вывод**\n",
    "\n",
    "Среднее и медианное значение времени поездок по обеим категориям близки друг к другу, но можно отметить, что данные показатели у пользователей с подпиской почти на минуту выше, чем у пользователей без подписки, несмотря на то, что пользователей без подписки больше. По гистограмме можно заметить, что у пользователей без подписки, несмотря на большее количество поездок, больше поездок на более короткие промежутки времени. Это также соотносится с короткими расстояниями поездок, т.е. пользователи с подпиской используют самокаты для более долгих и продолжительных поездок, это может быть связанно с опытом и конкретной целью, а пользователи без подписок ввиду малой опытности пользуются сервисом более короткое время"
   ]
  },
  {
   "cell_type": "markdown",
   "id": "b6f69dbb",
   "metadata": {},
   "source": [
    "# Шаг 5. Подсчёт выручки"
   ]
  },
  {
   "cell_type": "markdown",
   "id": "bb644cfa",
   "metadata": {},
   "source": [
    "**Создание датафрейма с агрегированными данными о поездках** "
   ]
  },
  {
   "cell_type": "markdown",
   "id": "de1ad68b",
   "metadata": {},
   "source": [
    "Для подсчета помесячной выручки необходимо создать агрегированный датафрейм с данными о поездках для каждого пользователя по каждому месяцу. Для этого нужно добавить столбцы с типом подписки, стоимости минуты поездки по подписке, стоимость начала поездки и стоимость ежемесячного платежа. Данные в указанные столбцы, можно взять по минимальному или максимальному значению, т.к. данные в каждой категории одинаковы"
   ]
  },
  {
   "cell_type": "code",
   "execution_count": 46,
   "id": "c89bc0a0",
   "metadata": {},
   "outputs": [],
   "source": [
    "#Округление продолжительности поездки до целого числа\n",
    "data_general['duration'] = np.ceil(data_general['duration'])"
   ]
  },
  {
   "cell_type": "code",
   "execution_count": 47,
   "id": "bb12fa7c",
   "metadata": {},
   "outputs": [
    {
     "data": {
      "text/html": [
       "<div>\n",
       "<style scoped>\n",
       "    .dataframe tbody tr th:only-of-type {\n",
       "        vertical-align: middle;\n",
       "    }\n",
       "\n",
       "    .dataframe tbody tr th {\n",
       "        vertical-align: top;\n",
       "    }\n",
       "\n",
       "    .dataframe thead th {\n",
       "        text-align: right;\n",
       "    }\n",
       "</style>\n",
       "<table border=\"1\" class=\"dataframe\">\n",
       "  <thead>\n",
       "    <tr style=\"text-align: right;\">\n",
       "      <th></th>\n",
       "      <th></th>\n",
       "      <th>count</th>\n",
       "      <th>distance_sum</th>\n",
       "      <th>duration_sum</th>\n",
       "      <th>subscription_type</th>\n",
       "      <th>minute_price</th>\n",
       "      <th>start_ride_price</th>\n",
       "      <th>subscription_fee</th>\n",
       "    </tr>\n",
       "    <tr>\n",
       "      <th>user_id</th>\n",
       "      <th>month</th>\n",
       "      <th></th>\n",
       "      <th></th>\n",
       "      <th></th>\n",
       "      <th></th>\n",
       "      <th></th>\n",
       "      <th></th>\n",
       "      <th></th>\n",
       "    </tr>\n",
       "  </thead>\n",
       "  <tbody>\n",
       "    <tr>\n",
       "      <th rowspan=\"5\" valign=\"top\">1</th>\n",
       "      <th>1</th>\n",
       "      <td>2</td>\n",
       "      <td>7027.51</td>\n",
       "      <td>42.0</td>\n",
       "      <td>ultra</td>\n",
       "      <td>6</td>\n",
       "      <td>0</td>\n",
       "      <td>199</td>\n",
       "    </tr>\n",
       "    <tr>\n",
       "      <th>4</th>\n",
       "      <td>1</td>\n",
       "      <td>754.16</td>\n",
       "      <td>7.0</td>\n",
       "      <td>ultra</td>\n",
       "      <td>6</td>\n",
       "      <td>0</td>\n",
       "      <td>199</td>\n",
       "    </tr>\n",
       "    <tr>\n",
       "      <th>8</th>\n",
       "      <td>2</td>\n",
       "      <td>6723.47</td>\n",
       "      <td>46.0</td>\n",
       "      <td>ultra</td>\n",
       "      <td>6</td>\n",
       "      <td>0</td>\n",
       "      <td>199</td>\n",
       "    </tr>\n",
       "    <tr>\n",
       "      <th>10</th>\n",
       "      <td>2</td>\n",
       "      <td>5809.91</td>\n",
       "      <td>32.0</td>\n",
       "      <td>ultra</td>\n",
       "      <td>6</td>\n",
       "      <td>0</td>\n",
       "      <td>199</td>\n",
       "    </tr>\n",
       "    <tr>\n",
       "      <th>11</th>\n",
       "      <td>3</td>\n",
       "      <td>7003.50</td>\n",
       "      <td>56.0</td>\n",
       "      <td>ultra</td>\n",
       "      <td>6</td>\n",
       "      <td>0</td>\n",
       "      <td>199</td>\n",
       "    </tr>\n",
       "    <tr>\n",
       "      <th>...</th>\n",
       "      <th>...</th>\n",
       "      <td>...</td>\n",
       "      <td>...</td>\n",
       "      <td>...</td>\n",
       "      <td>...</td>\n",
       "      <td>...</td>\n",
       "      <td>...</td>\n",
       "      <td>...</td>\n",
       "    </tr>\n",
       "    <tr>\n",
       "      <th rowspan=\"5\" valign=\"top\">1534</th>\n",
       "      <th>6</th>\n",
       "      <td>2</td>\n",
       "      <td>3409.47</td>\n",
       "      <td>26.0</td>\n",
       "      <td>free</td>\n",
       "      <td>8</td>\n",
       "      <td>50</td>\n",
       "      <td>0</td>\n",
       "    </tr>\n",
       "    <tr>\n",
       "      <th>8</th>\n",
       "      <td>2</td>\n",
       "      <td>7622.45</td>\n",
       "      <td>48.0</td>\n",
       "      <td>free</td>\n",
       "      <td>8</td>\n",
       "      <td>50</td>\n",
       "      <td>0</td>\n",
       "    </tr>\n",
       "    <tr>\n",
       "      <th>9</th>\n",
       "      <td>1</td>\n",
       "      <td>4928.17</td>\n",
       "      <td>23.0</td>\n",
       "      <td>free</td>\n",
       "      <td>8</td>\n",
       "      <td>50</td>\n",
       "      <td>0</td>\n",
       "    </tr>\n",
       "    <tr>\n",
       "      <th>11</th>\n",
       "      <td>4</td>\n",
       "      <td>13350.02</td>\n",
       "      <td>78.0</td>\n",
       "      <td>free</td>\n",
       "      <td>8</td>\n",
       "      <td>50</td>\n",
       "      <td>0</td>\n",
       "    </tr>\n",
       "    <tr>\n",
       "      <th>12</th>\n",
       "      <td>1</td>\n",
       "      <td>2371.71</td>\n",
       "      <td>16.0</td>\n",
       "      <td>free</td>\n",
       "      <td>8</td>\n",
       "      <td>50</td>\n",
       "      <td>0</td>\n",
       "    </tr>\n",
       "  </tbody>\n",
       "</table>\n",
       "<p>11331 rows × 7 columns</p>\n",
       "</div>"
      ],
      "text/plain": [
       "               count  distance_sum  duration_sum subscription_type  \\\n",
       "user_id month                                                        \n",
       "1       1          2       7027.51          42.0             ultra   \n",
       "        4          1        754.16           7.0             ultra   \n",
       "        8          2       6723.47          46.0             ultra   \n",
       "        10         2       5809.91          32.0             ultra   \n",
       "        11         3       7003.50          56.0             ultra   \n",
       "...              ...           ...           ...               ...   \n",
       "1534    6          2       3409.47          26.0              free   \n",
       "        8          2       7622.45          48.0              free   \n",
       "        9          1       4928.17          23.0              free   \n",
       "        11         4      13350.02          78.0              free   \n",
       "        12         1       2371.71          16.0              free   \n",
       "\n",
       "               minute_price  start_ride_price  subscription_fee  \n",
       "user_id month                                                    \n",
       "1       1                 6                 0               199  \n",
       "        4                 6                 0               199  \n",
       "        8                 6                 0               199  \n",
       "        10                6                 0               199  \n",
       "        11                6                 0               199  \n",
       "...                     ...               ...               ...  \n",
       "1534    6                 8                50                 0  \n",
       "        8                 8                50                 0  \n",
       "        9                 8                50                 0  \n",
       "        11                8                50                 0  \n",
       "        12                8                50                 0  \n",
       "\n",
       "[11331 rows x 7 columns]"
      ]
     },
     "execution_count": 47,
     "metadata": {},
     "output_type": "execute_result"
    }
   ],
   "source": [
    "#Группировка данных по идентификационному номеру пользователя и месяцу поездки\n",
    "#Добавление количества поездок,суммарного расстояния и суммарноого времени,подписки и ценовых показателей для каждого пользователя за месяц\n",
    "data_general_agg = data_general.groupby(['user_id', 'month']).agg({'distance': ['count','sum'], 'duration': 'sum', \n",
    "            'subscription_type': 'min','minute_price': 'min','start_ride_price': 'min', 'subscription_fee': 'min'})\n",
    "\n",
    "#Переименование столбцов\n",
    "data_general_agg.columns = ['count','distance_sum', 'duration_sum', 'subscription_type',\n",
    "                            'minute_price', 'start_ride_price','subscription_fee']\n",
    "#Вывод датафрейма\n",
    "data_general_agg"
   ]
  },
  {
   "cell_type": "markdown",
   "id": "3eb8133a",
   "metadata": {},
   "source": [
    "**Подсчет помесячной выручки**"
   ]
  },
  {
   "cell_type": "code",
   "execution_count": 48,
   "id": "4f37ca1d",
   "metadata": {
    "scrolled": false
   },
   "outputs": [
    {
     "data": {
      "text/html": [
       "<div>\n",
       "<style scoped>\n",
       "    .dataframe tbody tr th:only-of-type {\n",
       "        vertical-align: middle;\n",
       "    }\n",
       "\n",
       "    .dataframe tbody tr th {\n",
       "        vertical-align: top;\n",
       "    }\n",
       "\n",
       "    .dataframe thead th {\n",
       "        text-align: right;\n",
       "    }\n",
       "</style>\n",
       "<table border=\"1\" class=\"dataframe\">\n",
       "  <thead>\n",
       "    <tr style=\"text-align: right;\">\n",
       "      <th></th>\n",
       "      <th></th>\n",
       "      <th>count</th>\n",
       "      <th>distance_sum</th>\n",
       "      <th>duration_sum</th>\n",
       "      <th>subscription_type</th>\n",
       "      <th>minute_price</th>\n",
       "      <th>start_ride_price</th>\n",
       "      <th>subscription_fee</th>\n",
       "      <th>revenue</th>\n",
       "    </tr>\n",
       "    <tr>\n",
       "      <th>user_id</th>\n",
       "      <th>month</th>\n",
       "      <th></th>\n",
       "      <th></th>\n",
       "      <th></th>\n",
       "      <th></th>\n",
       "      <th></th>\n",
       "      <th></th>\n",
       "      <th></th>\n",
       "      <th></th>\n",
       "    </tr>\n",
       "  </thead>\n",
       "  <tbody>\n",
       "    <tr>\n",
       "      <th rowspan=\"5\" valign=\"top\">1</th>\n",
       "      <th>1</th>\n",
       "      <td>2</td>\n",
       "      <td>7027.51</td>\n",
       "      <td>42.0</td>\n",
       "      <td>ultra</td>\n",
       "      <td>6</td>\n",
       "      <td>0</td>\n",
       "      <td>199</td>\n",
       "      <td>451.0</td>\n",
       "    </tr>\n",
       "    <tr>\n",
       "      <th>4</th>\n",
       "      <td>1</td>\n",
       "      <td>754.16</td>\n",
       "      <td>7.0</td>\n",
       "      <td>ultra</td>\n",
       "      <td>6</td>\n",
       "      <td>0</td>\n",
       "      <td>199</td>\n",
       "      <td>241.0</td>\n",
       "    </tr>\n",
       "    <tr>\n",
       "      <th>8</th>\n",
       "      <td>2</td>\n",
       "      <td>6723.47</td>\n",
       "      <td>46.0</td>\n",
       "      <td>ultra</td>\n",
       "      <td>6</td>\n",
       "      <td>0</td>\n",
       "      <td>199</td>\n",
       "      <td>475.0</td>\n",
       "    </tr>\n",
       "    <tr>\n",
       "      <th>10</th>\n",
       "      <td>2</td>\n",
       "      <td>5809.91</td>\n",
       "      <td>32.0</td>\n",
       "      <td>ultra</td>\n",
       "      <td>6</td>\n",
       "      <td>0</td>\n",
       "      <td>199</td>\n",
       "      <td>391.0</td>\n",
       "    </tr>\n",
       "    <tr>\n",
       "      <th>11</th>\n",
       "      <td>3</td>\n",
       "      <td>7003.50</td>\n",
       "      <td>56.0</td>\n",
       "      <td>ultra</td>\n",
       "      <td>6</td>\n",
       "      <td>0</td>\n",
       "      <td>199</td>\n",
       "      <td>535.0</td>\n",
       "    </tr>\n",
       "    <tr>\n",
       "      <th>...</th>\n",
       "      <th>...</th>\n",
       "      <td>...</td>\n",
       "      <td>...</td>\n",
       "      <td>...</td>\n",
       "      <td>...</td>\n",
       "      <td>...</td>\n",
       "      <td>...</td>\n",
       "      <td>...</td>\n",
       "      <td>...</td>\n",
       "    </tr>\n",
       "    <tr>\n",
       "      <th rowspan=\"5\" valign=\"top\">1534</th>\n",
       "      <th>6</th>\n",
       "      <td>2</td>\n",
       "      <td>3409.47</td>\n",
       "      <td>26.0</td>\n",
       "      <td>free</td>\n",
       "      <td>8</td>\n",
       "      <td>50</td>\n",
       "      <td>0</td>\n",
       "      <td>308.0</td>\n",
       "    </tr>\n",
       "    <tr>\n",
       "      <th>8</th>\n",
       "      <td>2</td>\n",
       "      <td>7622.45</td>\n",
       "      <td>48.0</td>\n",
       "      <td>free</td>\n",
       "      <td>8</td>\n",
       "      <td>50</td>\n",
       "      <td>0</td>\n",
       "      <td>484.0</td>\n",
       "    </tr>\n",
       "    <tr>\n",
       "      <th>9</th>\n",
       "      <td>1</td>\n",
       "      <td>4928.17</td>\n",
       "      <td>23.0</td>\n",
       "      <td>free</td>\n",
       "      <td>8</td>\n",
       "      <td>50</td>\n",
       "      <td>0</td>\n",
       "      <td>234.0</td>\n",
       "    </tr>\n",
       "    <tr>\n",
       "      <th>11</th>\n",
       "      <td>4</td>\n",
       "      <td>13350.02</td>\n",
       "      <td>78.0</td>\n",
       "      <td>free</td>\n",
       "      <td>8</td>\n",
       "      <td>50</td>\n",
       "      <td>0</td>\n",
       "      <td>824.0</td>\n",
       "    </tr>\n",
       "    <tr>\n",
       "      <th>12</th>\n",
       "      <td>1</td>\n",
       "      <td>2371.71</td>\n",
       "      <td>16.0</td>\n",
       "      <td>free</td>\n",
       "      <td>8</td>\n",
       "      <td>50</td>\n",
       "      <td>0</td>\n",
       "      <td>178.0</td>\n",
       "    </tr>\n",
       "  </tbody>\n",
       "</table>\n",
       "<p>11331 rows × 8 columns</p>\n",
       "</div>"
      ],
      "text/plain": [
       "               count  distance_sum  duration_sum subscription_type  \\\n",
       "user_id month                                                        \n",
       "1       1          2       7027.51          42.0             ultra   \n",
       "        4          1        754.16           7.0             ultra   \n",
       "        8          2       6723.47          46.0             ultra   \n",
       "        10         2       5809.91          32.0             ultra   \n",
       "        11         3       7003.50          56.0             ultra   \n",
       "...              ...           ...           ...               ...   \n",
       "1534    6          2       3409.47          26.0              free   \n",
       "        8          2       7622.45          48.0              free   \n",
       "        9          1       4928.17          23.0              free   \n",
       "        11         4      13350.02          78.0              free   \n",
       "        12         1       2371.71          16.0              free   \n",
       "\n",
       "               minute_price  start_ride_price  subscription_fee  revenue  \n",
       "user_id month                                                             \n",
       "1       1                 6                 0               199    451.0  \n",
       "        4                 6                 0               199    241.0  \n",
       "        8                 6                 0               199    475.0  \n",
       "        10                6                 0               199    391.0  \n",
       "        11                6                 0               199    535.0  \n",
       "...                     ...               ...               ...      ...  \n",
       "1534    6                 8                50                 0    308.0  \n",
       "        8                 8                50                 0    484.0  \n",
       "        9                 8                50                 0    234.0  \n",
       "        11                8                50                 0    824.0  \n",
       "        12                8                50                 0    178.0  \n",
       "\n",
       "[11331 rows x 8 columns]"
      ]
     },
     "execution_count": 48,
     "metadata": {},
     "output_type": "execute_result"
    }
   ],
   "source": [
    "\n",
    "\n",
    "\n",
    "data_general_agg['revenue'] = (data_general_agg['start_ride_price'] * data_general_agg['count'])+(data_general_agg['minute_price']*data_general_agg['duration_sum']) + data_general_agg['subscription_fee']\n",
    "\n",
    "#Вывод нового датафрейма\n",
    "data_general_agg"
   ]
  },
  {
   "cell_type": "markdown",
   "id": "36be330e",
   "metadata": {},
   "source": [
    "# Шаг 6. Проверка гипотез"
   ]
  },
  {
   "cell_type": "markdown",
   "id": "9758b8cd",
   "metadata": {},
   "source": [
    "**Тратят ли пользователи с подпиской больше времени на поездки?**"
   ]
  },
  {
   "cell_type": "markdown",
   "id": "34f9f09f",
   "metadata": {},
   "source": [
    "Необходимо проверить гипотезу тратят ли пользователи с подпиской больше времени на поездки, т.е. мы имеем две независимые совокупности, таким оброзом мы можем применить метод сравнения равенства средних двух геннеральных совокупностей - scipy.stats.ttest_ind(). Нулевая гипотеза - средние значения времени поездок из двух групп равны., Альтернативная гипотеза - среднее значение времени поездок пользователей с подпиской больше, чем среднее значение времени поездок пользователей без подписки. В качестве alternative нужно указать 'greater', то есть «больше»."
   ]
  },
  {
   "cell_type": "code",
   "execution_count": 49,
   "id": "fc212207",
   "metadata": {},
   "outputs": [
    {
     "name": "stdout",
     "output_type": "stream",
     "text": [
      "p-value: 1.274138957151199e-34\n",
      "Отвергаем нулевую гипотезу\n"
     ]
    }
   ],
   "source": [
    "#Проверяем гипотезу\n",
    "\n",
    "alpha = 0.05 \n",
    "\n",
    "results = st.ttest_ind(data_general_ultra['duration'], data_general_free['duration'], alternative='greater')\n",
    "\n",
    "\n",
    "print(f'p-value: {results.pvalue}')\n",
    "\n",
    "if results.pvalue < alpha:\n",
    "    print('Отвергаем нулевую гипотезу')\n",
    "else:\n",
    "    print('Не получилось отвергнуть нулевую гипотезу')"
   ]
  },
  {
   "cell_type": "markdown",
   "id": "5645c87a",
   "metadata": {},
   "source": [
    "**Вывод**\n",
    "\n",
    "После проверки гипотезы с помощью метода scipy.stats.ttest_ind() мы получили результат - Отвергаем нулевую гипотезу (p-значение: 1.274138957151199e-34), в пользу альтернативной. Таким образом среднее время поездок пользователей с подпиской больше среднего времени поездок без подписки и они могут быть \"выгоднее\" для компании"
   ]
  },
  {
   "cell_type": "markdown",
   "id": "7e9b54f3",
   "metadata": {},
   "source": [
    "**Расстояние, которое проезжают пользователи с подпиской за одну поездку, не превышает 3130 метров**"
   ]
  },
  {
   "cell_type": "markdown",
   "id": "8a22f044",
   "metadata": {},
   "source": [
    "Необходимо проверить гипотезу не превышает ли расстояние, которое проезжают пользователи с подпиской за одну поездку 3130 м., т.к. данное растояние считается оптимальным с точки зрения износа самоката. Проверим эту гипотезу с помощью метода scipy.stats.ttest_1samp() для левосторонней гипотезы. Среднее растояние одной поездки пользователем с подпиской не привышает 3130 м., примем это за нулевую гипотезу (H0), тогда альтернативная гипотеза (H1) - среднее растояние одной поездки пользователем с подпиской привышает 3130 м."
   ]
  },
  {
   "cell_type": "code",
   "execution_count": 50,
   "id": "aebac753",
   "metadata": {},
   "outputs": [
    {
     "name": "stdout",
     "output_type": "stream",
     "text": [
      "p-значение: 0.9195362605842414\n",
      "Не отвергаем нулевую гипотезу\n"
     ]
    }
   ],
   "source": [
    "#Проверяем гипотезу\n",
    "distance_ultra = data_general_ultra['distance']\n",
    "\n",
    "optimal_distance_ultra = 3130\n",
    "\n",
    "alpha = 0.05 \n",
    "\n",
    "results = st.ttest_1samp(\n",
    "    distance_ultra, \n",
    "    optimal_distance_ultra,\n",
    "      alternative='greater')\n",
    "\n",
    "print('p-значение:', results.pvalue)\n",
    "\n",
    "if (results.pvalue < alpha):\n",
    "    print('Отвергаем нулевую гипотезу')\n",
    "else:\n",
    "    print('Не отвергаем нулевую гипотезу') "
   ]
  },
  {
   "cell_type": "markdown",
   "id": "7b24ba0a",
   "metadata": {},
   "source": [
    "**Вывод**\n",
    "После проверки гипотезы с помощью метода scipy.stats.ttest_1samp() мы получили результат - Не отвергаем нулевую гипотезу (p-значение: 0.9), в пользу альтернативной. Таким образом среднее расстояние одной поездки пользователя с подпиской не превышает оптимального расстояния для износа самоката, т.е. пользователи с подпиской \"выгоднее\" с точки зрения амортизации самоката."
   ]
  },
  {
   "cell_type": "markdown",
   "id": "430851c1",
   "metadata": {},
   "source": [
    "**Помесячная выручка от пользователей с подпиской по месяцам выше, чем выручка от пользователей без подписки** "
   ]
  },
  {
   "cell_type": "markdown",
   "id": "910c2be9",
   "metadata": {},
   "source": [
    "Необходимо проверить гипотезу, что помесячная выручка от пользователей с подпиской по месяцам выше, чем выручка от пользователей без подписки, т.е. мы имеем две независимые совокупности, таким оброзом мы можем применить метод сравнения равенства средних двух геннеральных совокупностей - scipy.stats.ttest_ind(). Нулевая гипотеза - средние значения помесячной выручки из двух групп равны., Альтернативная гипотеза - среднее значение помесячной выручка пользователей с подпиской больше, чем среднее значение помесячной выручки пользователей без подписки. В качестве alternative нужно указать 'greater', то есть «больше»."
   ]
  },
  {
   "cell_type": "code",
   "execution_count": 51,
   "id": "1b5cd398",
   "metadata": {},
   "outputs": [
    {
     "name": "stdout",
     "output_type": "stream",
     "text": [
      "p-value: 1.8164914860049708e-31\n",
      "Отвергаем нулевую гипотезу\n"
     ]
    }
   ],
   "source": [
    "#Создание датафрейма с агрегированными данными для пользователей с подпиской\n",
    "data_general_agg_ultra =  data_general_agg[data_general_agg['subscription_type'] == 'ultra']\n",
    "\n",
    "#Создание датафрейма с агрегированными данными для пользователей без подпиской\n",
    "data_general_agg_free =  data_general_agg[data_general_agg['subscription_type'] == 'free']\n",
    "\n",
    "#Проверяем гипотезу\n",
    "\n",
    "alpha = 0.05 \n",
    "\n",
    "results = st.ttest_ind(data_general_agg_ultra['revenue'], data_general_agg_free['revenue'], alternative='greater')\n",
    "\n",
    "\n",
    "print(f'p-value: {results.pvalue}')\n",
    "\n",
    "if results.pvalue < alpha:\n",
    "    print('Отвергаем нулевую гипотезу')\n",
    "else:\n",
    "    print('Не получилось отвергнуть нулевую гипотезу')\n"
   ]
  },
  {
   "cell_type": "markdown",
   "id": "643fdb61",
   "metadata": {},
   "source": [
    "**Вывод**\n",
    "\n",
    "После проверки гипотезы с помощью метода scipy.stats.ttest_ind() мы получили результат - Отвергаем нулевую гипотезу (p-значение: 1.8164914860049708e-31), в пользу альтернативной. Таким образом помесячная выручка от пользователей с подпиской больше помесячной выручки от пользователей без подписки"
   ]
  },
  {
   "cell_type": "markdown",
   "id": "ab6064c9",
   "metadata": {},
   "source": [
    "**Техническая команда сервиса обновила сервера, с которыми взаимодействует мобильное приложение. Она надеется, что из-за этого количество обращений в техподдержку значимо снизилось. Некоторый файл содержит для каждого пользователя данные о количестве обращений до обновления и после него. Какой тест понадобился бы для проверки этой гипотезы?**\n",
    "\n",
    "Данная ситуация является примером гипотезы о равенстве средних для зависимых (парных) выборок, т.е. необходимо провести анализ одной генеральной совокупности, с которой произошли некоторые изменения, для этого нужно проверить равны ли средние совокупности до и после этих изменений. Для этого в Python, применим метод scipy.stats.ttest_rel()"
   ]
  },
  {
   "cell_type": "markdown",
   "id": "624b38fe",
   "metadata": {},
   "source": [
    "# Общий вывод\n",
    "\n",
    "Нами проведен анализ данных сервиса аренды самокатов GoFast. Изначально данные были разделены на несколько отдельных таблиц - информация о пользователях, информация о поездках и информация о подписках. На этапе предобработки данных было проанализировано содержание предоставленных таблицы, в таблицах не было выявлено пропусков, была произведена замена типа данных в столбце содержащим дату поездки, а также добавлен столбец с номером месяца, который необходим для последующего анализа. Были округлены до двух знаком после запятой значения в столбцах с расстоянием и продолжительностью поездки. Выявлены дубликат строк в таблице содержащей данные пользователей. дубликаты были удалены, их доля составила 1,98%. \n",
    "\n",
    "С помощью метода describe() и гистограмм проанализированы следующие данные: \n",
    "\n",
    "Частота встречаемости городов - Сервисом пользуются в 8 городах. Чаще всего встречается Пятигорск (219 раз), заметно реже всех встречается Москва (163 раза). Частота встречаемости остальных городов расположена в промежутке 180-204 раза; \n",
    "\n",
    "Соотношении пользователей с подпиской и без подписки - Количество пользователей самокатами без подписки на 8.86% превышает количество пользователей с подпиской;\n",
    "\n",
    "Возраст пользователей - Чаще остальных сервисом аренды самокатов пользуются люди в возрасте 25 лет. Основной возраст пользователей лежит в диапазоне 22-28 лет, после 28 лет наблюдается резкий спад пользователей, после 33 лет количество пользователей уменьшается ещё больше, а после 37 практически равно 0. Максимальный возраст пользователей сервисом 43 года, минимальный 12 лет;\n",
    "\n",
    "Расстояние, которое пользователь преодолел за одну поездку - Среднее расстояние поездки - 3070. Минимальное расстояние составляет 0,85 м, максимальное 7211 м.  На диаграммах были выявлены два пиковых значения - 500 м и 3500;\n",
    "\n",
    "Продолжительность поездок - Среднее значение у пользователей с подпиской почти на минуту выше, чем у пользователей без подписки - 18,5 мин., несмотря на то, что пользователей без подписки больше. \n",
    "\n",
    "По гистограммам можно заметить, что у пользователей без подписки, больше поездок на более короткие промежутки времени. Это также соотносится с короткими расстояниями поездок, т.к. многие пользователи, не имеющие подписку, являются новичками или имеющими небольшой опыт в использовании самокатов. Продолжительное время использование самокатов и пиковое значение расстояния в 3500 м. у пользователей с подпиской можно объяснить тем, что опитые пользователи при использовании самокатов уже имеют постоянные маршруты для поездок, например, на учебу или работу и совершают их с постоянной периодичностью. \n",
    "\n",
    "Затем мы создали таблицу с агрегированными данными о поездках и подсчитали помесячную выручку.\n",
    "\n",
    "На основании имеющихся данных проверили гипотезы о том, что пользователи с подпиской тратят больше времени на поездки (Гипотеза 1); среднее расстояние, которое проезжают пользователи с подпиской не превышает оптимальное расстояние с точки зрения износа самоката (Гипотеза 2); помесячная выручка от пользователей с подпиской по месяцам выше, чем выручка от пользователей без подписки (Гипотеза 3). После проверки гипотез, получили результат не отвергающий значение этих гипотез. \n",
    "\n",
    "Таким образом, после проведения исследования можно сделать вывод, что пользователи с подпиской более \"выгодные\" по всем трем гипотезам. Они дольше пользуются услугой за поездку, проезжают расстояние меньше оптимального расстояния износа самоката, т.е. они более выгодны в плане амортизации оборудования и в целом помесячная выручка от них выше, чем от пользователей без подписки. Так же у пользователей с подпиской замечена тенденция к частому использования услуги, предположительно в целях передвижения до места учебы или работы, т.е. использования постоянных маршрутов.\n",
    "\n",
    "\n",
    "С учетом изложенного, а также того, что основной возраст пользователей находится в диапазоне 22-28 лет, т.е. активные молодые люди, на которых можно повлиять с помощью рекламных предложений, то планы продакт-менеджеров сервиса увеличить количество пользователей с подпиской вполне обоснованы.\n"
   ]
  },
  {
   "cell_type": "markdown",
   "id": "dfc257f7",
   "metadata": {},
   "source": [
    "# Шаг 7. Распределения"
   ]
  },
  {
   "cell_type": "code",
   "execution_count": null,
   "id": "452ed7e2",
   "metadata": {},
   "outputs": [],
   "source": []
  }
 ],
 "metadata": {
  "ExecuteTimeLog": [
   {
    "duration": 60,
    "start_time": "2023-05-14T06:10:17.096Z"
   },
   {
    "duration": 7,
    "start_time": "2023-05-14T06:11:00.249Z"
   },
   {
    "duration": 427,
    "start_time": "2023-05-14T06:11:06.239Z"
   },
   {
    "duration": 179,
    "start_time": "2023-05-14T06:11:06.669Z"
   },
   {
    "duration": 39,
    "start_time": "2023-05-14T06:11:17.005Z"
   },
   {
    "duration": 7,
    "start_time": "2023-05-14T06:13:19.155Z"
   },
   {
    "duration": 24,
    "start_time": "2023-05-14T06:13:30.477Z"
   },
   {
    "duration": 106,
    "start_time": "2023-05-14T06:15:30.905Z"
   },
   {
    "duration": 391,
    "start_time": "2023-05-14T06:16:24.150Z"
   },
   {
    "duration": 42,
    "start_time": "2023-05-14T06:16:24.543Z"
   },
   {
    "duration": 13,
    "start_time": "2023-05-14T06:16:24.587Z"
   },
   {
    "duration": 35,
    "start_time": "2023-05-14T06:16:24.603Z"
   },
   {
    "duration": 382,
    "start_time": "2023-05-14T06:16:50.344Z"
   },
   {
    "duration": 36,
    "start_time": "2023-05-14T06:16:50.727Z"
   },
   {
    "duration": 10,
    "start_time": "2023-05-14T06:16:50.764Z"
   },
   {
    "duration": 60,
    "start_time": "2023-05-14T06:16:50.775Z"
   },
   {
    "duration": 10,
    "start_time": "2023-05-14T06:16:50.837Z"
   },
   {
    "duration": 420,
    "start_time": "2023-05-14T06:20:11.836Z"
   },
   {
    "duration": 67,
    "start_time": "2023-05-14T06:20:12.258Z"
   },
   {
    "duration": 10,
    "start_time": "2023-05-14T06:20:12.331Z"
   },
   {
    "duration": 40,
    "start_time": "2023-05-14T06:20:12.343Z"
   },
   {
    "duration": 16,
    "start_time": "2023-05-14T06:20:12.386Z"
   },
   {
    "duration": 64,
    "start_time": "2023-05-14T06:20:12.404Z"
   },
   {
    "duration": 10,
    "start_time": "2023-05-14T06:20:12.469Z"
   },
   {
    "duration": 2013,
    "start_time": "2023-05-14T07:19:38.255Z"
   },
   {
    "duration": 498,
    "start_time": "2023-05-14T07:19:54.906Z"
   },
   {
    "duration": 53,
    "start_time": "2023-05-14T07:19:55.411Z"
   },
   {
    "duration": 10,
    "start_time": "2023-05-14T07:19:55.466Z"
   },
   {
    "duration": 70,
    "start_time": "2023-05-14T07:19:55.478Z"
   },
   {
    "duration": 17,
    "start_time": "2023-05-14T07:19:55.550Z"
   },
   {
    "duration": 34,
    "start_time": "2023-05-14T07:19:55.569Z"
   },
   {
    "duration": 32,
    "start_time": "2023-05-14T07:19:55.606Z"
   },
   {
    "duration": 1434,
    "start_time": "2023-05-14T07:19:55.642Z"
   },
   {
    "duration": 420,
    "start_time": "2023-05-14T07:20:36.140Z"
   },
   {
    "duration": 58,
    "start_time": "2023-05-14T07:20:36.562Z"
   },
   {
    "duration": 14,
    "start_time": "2023-05-14T07:20:36.622Z"
   },
   {
    "duration": 36,
    "start_time": "2023-05-14T07:20:36.639Z"
   },
   {
    "duration": 26,
    "start_time": "2023-05-14T07:20:36.677Z"
   },
   {
    "duration": 36,
    "start_time": "2023-05-14T07:20:36.705Z"
   },
   {
    "duration": 11,
    "start_time": "2023-05-14T07:20:36.743Z"
   },
   {
    "duration": 10,
    "start_time": "2023-05-14T07:20:36.755Z"
   },
   {
    "duration": 56,
    "start_time": "2023-05-14T07:20:50.147Z"
   },
   {
    "duration": 50,
    "start_time": "2023-05-14T07:21:13.653Z"
   },
   {
    "duration": 491,
    "start_time": "2023-05-14T07:21:26.157Z"
   },
   {
    "duration": 47,
    "start_time": "2023-05-14T07:21:26.650Z"
   },
   {
    "duration": 14,
    "start_time": "2023-05-14T07:21:26.699Z"
   },
   {
    "duration": 49,
    "start_time": "2023-05-14T07:21:26.715Z"
   },
   {
    "duration": 28,
    "start_time": "2023-05-14T07:21:26.766Z"
   },
   {
    "duration": 40,
    "start_time": "2023-05-14T07:21:26.801Z"
   },
   {
    "duration": 19,
    "start_time": "2023-05-14T07:21:26.843Z"
   },
   {
    "duration": 22,
    "start_time": "2023-05-14T07:21:26.864Z"
   },
   {
    "duration": 34,
    "start_time": "2023-05-14T07:21:26.888Z"
   },
   {
    "duration": 511,
    "start_time": "2023-05-14T07:23:27.422Z"
   },
   {
    "duration": 43,
    "start_time": "2023-05-14T07:23:27.938Z"
   },
   {
    "duration": 15,
    "start_time": "2023-05-14T07:23:27.990Z"
   },
   {
    "duration": 52,
    "start_time": "2023-05-14T07:23:28.008Z"
   },
   {
    "duration": 10,
    "start_time": "2023-05-14T07:23:28.062Z"
   },
   {
    "duration": 44,
    "start_time": "2023-05-14T07:23:28.074Z"
   },
   {
    "duration": 17,
    "start_time": "2023-05-14T07:23:28.121Z"
   },
   {
    "duration": 11,
    "start_time": "2023-05-14T07:23:28.140Z"
   },
   {
    "duration": 33,
    "start_time": "2023-05-14T07:23:28.152Z"
   },
   {
    "duration": 460,
    "start_time": "2023-05-14T07:25:12.255Z"
   },
   {
    "duration": 54,
    "start_time": "2023-05-14T07:25:12.722Z"
   },
   {
    "duration": 24,
    "start_time": "2023-05-14T07:25:12.782Z"
   },
   {
    "duration": 53,
    "start_time": "2023-05-14T07:25:12.808Z"
   },
   {
    "duration": 14,
    "start_time": "2023-05-14T07:25:12.863Z"
   },
   {
    "duration": 58,
    "start_time": "2023-05-14T07:25:12.885Z"
   },
   {
    "duration": 12,
    "start_time": "2023-05-14T07:25:12.944Z"
   },
   {
    "duration": 9,
    "start_time": "2023-05-14T07:25:12.958Z"
   },
   {
    "duration": 17,
    "start_time": "2023-05-14T07:25:12.968Z"
   },
   {
    "duration": 17,
    "start_time": "2023-05-14T07:26:20.001Z"
   },
   {
    "duration": 457,
    "start_time": "2023-05-14T07:31:19.060Z"
   },
   {
    "duration": 54,
    "start_time": "2023-05-14T07:31:19.519Z"
   },
   {
    "duration": 19,
    "start_time": "2023-05-14T07:31:19.575Z"
   },
   {
    "duration": 39,
    "start_time": "2023-05-14T07:31:19.597Z"
   },
   {
    "duration": 12,
    "start_time": "2023-05-14T07:31:19.638Z"
   },
   {
    "duration": 18,
    "start_time": "2023-05-14T07:31:19.652Z"
   },
   {
    "duration": 27,
    "start_time": "2023-05-14T07:31:19.671Z"
   },
   {
    "duration": 11,
    "start_time": "2023-05-14T07:31:19.700Z"
   },
   {
    "duration": 21,
    "start_time": "2023-05-14T07:31:19.713Z"
   },
   {
    "duration": 5,
    "start_time": "2023-05-14T07:31:19.737Z"
   },
   {
    "duration": 12,
    "start_time": "2023-05-14T07:31:19.743Z"
   },
   {
    "duration": 502,
    "start_time": "2023-05-14T07:32:46.638Z"
   },
   {
    "duration": 43,
    "start_time": "2023-05-14T07:32:47.143Z"
   },
   {
    "duration": 13,
    "start_time": "2023-05-14T07:32:47.188Z"
   },
   {
    "duration": 50,
    "start_time": "2023-05-14T07:32:47.203Z"
   },
   {
    "duration": 13,
    "start_time": "2023-05-14T07:32:47.255Z"
   },
   {
    "duration": 32,
    "start_time": "2023-05-14T07:32:47.270Z"
   },
   {
    "duration": 12,
    "start_time": "2023-05-14T07:32:47.304Z"
   },
   {
    "duration": 9,
    "start_time": "2023-05-14T07:32:47.322Z"
   },
   {
    "duration": 19,
    "start_time": "2023-05-14T07:32:47.336Z"
   },
   {
    "duration": 20,
    "start_time": "2023-05-14T07:32:47.358Z"
   },
   {
    "duration": 10,
    "start_time": "2023-05-14T07:39:39.842Z"
   },
   {
    "duration": 374,
    "start_time": "2023-05-14T07:39:54.439Z"
   },
   {
    "duration": 38,
    "start_time": "2023-05-14T07:39:54.815Z"
   },
   {
    "duration": 11,
    "start_time": "2023-05-14T07:39:54.854Z"
   },
   {
    "duration": 53,
    "start_time": "2023-05-14T07:39:54.866Z"
   },
   {
    "duration": 11,
    "start_time": "2023-05-14T07:39:54.922Z"
   },
   {
    "duration": 17,
    "start_time": "2023-05-14T07:39:54.935Z"
   },
   {
    "duration": 9,
    "start_time": "2023-05-14T07:39:54.954Z"
   },
   {
    "duration": 7,
    "start_time": "2023-05-14T07:39:54.965Z"
   },
   {
    "duration": 11,
    "start_time": "2023-05-14T07:39:54.974Z"
   },
   {
    "duration": 32,
    "start_time": "2023-05-14T07:39:54.986Z"
   },
   {
    "duration": 11,
    "start_time": "2023-05-14T07:39:55.020Z"
   },
   {
    "duration": 445,
    "start_time": "2023-05-14T07:42:11.097Z"
   },
   {
    "duration": 41,
    "start_time": "2023-05-14T07:42:11.545Z"
   },
   {
    "duration": 17,
    "start_time": "2023-05-14T07:42:11.588Z"
   },
   {
    "duration": 35,
    "start_time": "2023-05-14T07:42:11.607Z"
   },
   {
    "duration": 16,
    "start_time": "2023-05-14T07:42:11.644Z"
   },
   {
    "duration": 30,
    "start_time": "2023-05-14T07:42:11.662Z"
   },
   {
    "duration": 14,
    "start_time": "2023-05-14T07:42:11.693Z"
   },
   {
    "duration": 22,
    "start_time": "2023-05-14T07:42:11.710Z"
   },
   {
    "duration": 21,
    "start_time": "2023-05-14T07:42:11.734Z"
   },
   {
    "duration": 15,
    "start_time": "2023-05-14T07:42:11.757Z"
   },
   {
    "duration": 18,
    "start_time": "2023-05-14T07:42:11.786Z"
   },
   {
    "duration": 12,
    "start_time": "2023-05-14T07:42:11.805Z"
   },
   {
    "duration": 8,
    "start_time": "2023-05-14T07:42:11.819Z"
   },
   {
    "duration": 6,
    "start_time": "2023-05-14T07:59:28.019Z"
   },
   {
    "duration": 8,
    "start_time": "2023-05-14T07:59:46.654Z"
   },
   {
    "duration": 10,
    "start_time": "2023-05-14T07:59:54.012Z"
   },
   {
    "duration": 5,
    "start_time": "2023-05-14T08:00:04.012Z"
   },
   {
    "duration": 9,
    "start_time": "2023-05-14T08:00:45.664Z"
   },
   {
    "duration": 9,
    "start_time": "2023-05-14T08:02:21.110Z"
   },
   {
    "duration": 21,
    "start_time": "2023-05-14T08:04:25.199Z"
   },
   {
    "duration": 10,
    "start_time": "2023-05-14T08:04:50.553Z"
   },
   {
    "duration": 16,
    "start_time": "2023-05-14T08:05:04.229Z"
   },
   {
    "duration": 9,
    "start_time": "2023-05-14T08:06:30.700Z"
   },
   {
    "duration": 32,
    "start_time": "2023-05-14T08:07:15.603Z"
   },
   {
    "duration": 14,
    "start_time": "2023-05-14T08:08:38.903Z"
   },
   {
    "duration": 109,
    "start_time": "2023-05-14T08:09:35.615Z"
   },
   {
    "duration": 10,
    "start_time": "2023-05-14T08:09:49.824Z"
   },
   {
    "duration": 19,
    "start_time": "2023-05-14T08:10:37.096Z"
   },
   {
    "duration": 8,
    "start_time": "2023-05-14T08:10:50.399Z"
   },
   {
    "duration": 22,
    "start_time": "2023-05-14T08:17:04.903Z"
   },
   {
    "duration": 24,
    "start_time": "2023-05-14T08:17:21.043Z"
   },
   {
    "duration": 18,
    "start_time": "2023-05-14T08:17:55.827Z"
   },
   {
    "duration": 575,
    "start_time": "2023-05-14T08:19:51.708Z"
   },
   {
    "duration": 102,
    "start_time": "2023-05-14T08:19:52.285Z"
   },
   {
    "duration": 38,
    "start_time": "2023-05-14T08:19:52.395Z"
   },
   {
    "duration": 83,
    "start_time": "2023-05-14T08:19:52.435Z"
   },
   {
    "duration": 22,
    "start_time": "2023-05-14T08:19:52.522Z"
   },
   {
    "duration": 40,
    "start_time": "2023-05-14T08:19:52.547Z"
   },
   {
    "duration": 26,
    "start_time": "2023-05-14T08:19:52.591Z"
   },
   {
    "duration": 20,
    "start_time": "2023-05-14T08:19:52.620Z"
   },
   {
    "duration": 87,
    "start_time": "2023-05-14T08:19:52.642Z"
   },
   {
    "duration": 49,
    "start_time": "2023-05-14T08:19:52.732Z"
   },
   {
    "duration": 58,
    "start_time": "2023-05-14T08:19:52.783Z"
   },
   {
    "duration": 70,
    "start_time": "2023-05-14T08:19:52.846Z"
   },
   {
    "duration": 26,
    "start_time": "2023-05-14T08:19:52.921Z"
   },
   {
    "duration": 14,
    "start_time": "2023-05-14T08:19:52.954Z"
   },
   {
    "duration": 19,
    "start_time": "2023-05-14T08:19:52.972Z"
   },
   {
    "duration": 17,
    "start_time": "2023-05-14T08:19:52.993Z"
   },
   {
    "duration": 37,
    "start_time": "2023-05-14T08:19:53.014Z"
   },
   {
    "duration": 16,
    "start_time": "2023-05-14T08:21:46.130Z"
   },
   {
    "duration": 6,
    "start_time": "2023-05-14T08:22:50.738Z"
   },
   {
    "duration": 24,
    "start_time": "2023-05-14T08:22:52.494Z"
   },
   {
    "duration": 6,
    "start_time": "2023-05-14T08:23:43.782Z"
   },
   {
    "duration": 488,
    "start_time": "2023-05-14T08:34:34.258Z"
   },
   {
    "duration": 53,
    "start_time": "2023-05-14T08:34:34.748Z"
   },
   {
    "duration": 27,
    "start_time": "2023-05-14T08:34:34.811Z"
   },
   {
    "duration": 34,
    "start_time": "2023-05-14T08:34:34.841Z"
   },
   {
    "duration": 21,
    "start_time": "2023-05-14T08:34:34.876Z"
   },
   {
    "duration": 22,
    "start_time": "2023-05-14T08:34:34.901Z"
   },
   {
    "duration": 14,
    "start_time": "2023-05-14T08:34:34.925Z"
   },
   {
    "duration": 18,
    "start_time": "2023-05-14T08:34:34.941Z"
   },
   {
    "duration": 36,
    "start_time": "2023-05-14T08:34:34.961Z"
   },
   {
    "duration": 23,
    "start_time": "2023-05-14T08:34:35.001Z"
   },
   {
    "duration": 7,
    "start_time": "2023-05-14T08:34:35.027Z"
   },
   {
    "duration": 11,
    "start_time": "2023-05-14T08:34:35.036Z"
   },
   {
    "duration": 22,
    "start_time": "2023-05-14T08:34:35.049Z"
   },
   {
    "duration": 25,
    "start_time": "2023-05-14T08:34:35.073Z"
   },
   {
    "duration": 21,
    "start_time": "2023-05-14T08:34:35.100Z"
   },
   {
    "duration": 14,
    "start_time": "2023-05-14T08:34:35.125Z"
   },
   {
    "duration": 25,
    "start_time": "2023-05-14T08:34:35.143Z"
   },
   {
    "duration": 4,
    "start_time": "2023-05-14T08:34:35.170Z"
   },
   {
    "duration": 38,
    "start_time": "2023-05-14T08:34:35.176Z"
   },
   {
    "duration": 43,
    "start_time": "2023-05-14T08:34:35.217Z"
   },
   {
    "duration": 1281,
    "start_time": "2023-05-14T09:06:44.426Z"
   },
   {
    "duration": 141,
    "start_time": "2023-05-14T09:06:57.222Z"
   },
   {
    "duration": 374,
    "start_time": "2023-05-14T09:07:00.351Z"
   },
   {
    "duration": 6,
    "start_time": "2023-05-14T09:10:21.204Z"
   },
   {
    "duration": 441,
    "start_time": "2023-05-14T09:11:05.820Z"
   },
   {
    "duration": 297,
    "start_time": "2023-05-14T09:11:14.212Z"
   },
   {
    "duration": 219,
    "start_time": "2023-05-14T09:11:21.611Z"
   },
   {
    "duration": 196,
    "start_time": "2023-05-14T09:11:34.892Z"
   },
   {
    "duration": 226,
    "start_time": "2023-05-14T09:13:20.854Z"
   },
   {
    "duration": 211,
    "start_time": "2023-05-14T09:13:29.420Z"
   },
   {
    "duration": 10,
    "start_time": "2023-05-14T09:15:27.013Z"
   },
   {
    "duration": 7,
    "start_time": "2023-05-14T09:23:21.724Z"
   },
   {
    "duration": 7,
    "start_time": "2023-05-14T09:23:29.526Z"
   },
   {
    "duration": 11,
    "start_time": "2023-05-14T09:24:44.836Z"
   },
   {
    "duration": 208,
    "start_time": "2023-05-14T09:25:53.628Z"
   },
   {
    "duration": 211,
    "start_time": "2023-05-14T09:26:04.694Z"
   },
   {
    "duration": 220,
    "start_time": "2023-05-14T09:26:16.904Z"
   },
   {
    "duration": 262,
    "start_time": "2023-05-14T09:26:29.402Z"
   },
   {
    "duration": 239,
    "start_time": "2023-05-14T09:44:23.009Z"
   },
   {
    "duration": 164,
    "start_time": "2023-05-14T09:49:21.395Z"
   },
   {
    "duration": 165,
    "start_time": "2023-05-14T09:49:27.106Z"
   },
   {
    "duration": 166,
    "start_time": "2023-05-14T09:49:35.071Z"
   },
   {
    "duration": 128,
    "start_time": "2023-05-14T09:49:42.308Z"
   },
   {
    "duration": 141,
    "start_time": "2023-05-14T09:49:52.417Z"
   },
   {
    "duration": 146,
    "start_time": "2023-05-14T09:50:04.198Z"
   },
   {
    "duration": 159,
    "start_time": "2023-05-14T09:50:10.511Z"
   },
   {
    "duration": 143,
    "start_time": "2023-05-14T09:50:25.908Z"
   },
   {
    "duration": 156,
    "start_time": "2023-05-14T09:50:41.412Z"
   },
   {
    "duration": 172,
    "start_time": "2023-05-14T09:50:47.568Z"
   },
   {
    "duration": 241,
    "start_time": "2023-05-14T09:50:57.509Z"
   },
   {
    "duration": 214,
    "start_time": "2023-05-14T09:51:01.679Z"
   },
   {
    "duration": 153,
    "start_time": "2023-05-14T09:51:07.158Z"
   },
   {
    "duration": 191,
    "start_time": "2023-05-14T09:51:11.268Z"
   },
   {
    "duration": 207,
    "start_time": "2023-05-14T09:51:16.646Z"
   },
   {
    "duration": 131,
    "start_time": "2023-05-14T09:51:24.606Z"
   },
   {
    "duration": 169,
    "start_time": "2023-05-14T09:51:35.650Z"
   },
   {
    "duration": 156,
    "start_time": "2023-05-14T09:51:39.554Z"
   },
   {
    "duration": 162,
    "start_time": "2023-05-14T09:55:09.899Z"
   },
   {
    "duration": 149,
    "start_time": "2023-05-14T09:55:18.718Z"
   },
   {
    "duration": 134,
    "start_time": "2023-05-14T09:55:23.319Z"
   },
   {
    "duration": 139,
    "start_time": "2023-05-14T09:55:28.493Z"
   },
   {
    "duration": 150,
    "start_time": "2023-05-14T09:55:35.421Z"
   },
   {
    "duration": 146,
    "start_time": "2023-05-14T09:55:41.452Z"
   },
   {
    "duration": 252,
    "start_time": "2023-05-14T09:56:02.394Z"
   },
   {
    "duration": 142,
    "start_time": "2023-05-14T09:56:56.900Z"
   },
   {
    "duration": 122,
    "start_time": "2023-05-14T09:57:07.140Z"
   },
   {
    "duration": 8,
    "start_time": "2023-05-14T09:57:36.743Z"
   },
   {
    "duration": 169,
    "start_time": "2023-05-14T09:57:37.544Z"
   },
   {
    "duration": 5,
    "start_time": "2023-05-14T10:04:18.947Z"
   },
   {
    "duration": 7,
    "start_time": "2023-05-14T10:07:29.535Z"
   },
   {
    "duration": 207,
    "start_time": "2023-05-14T10:08:37.721Z"
   },
   {
    "duration": 180,
    "start_time": "2023-05-14T10:09:09.379Z"
   },
   {
    "duration": 181,
    "start_time": "2023-05-14T10:09:15.351Z"
   },
   {
    "duration": 182,
    "start_time": "2023-05-14T10:09:29.486Z"
   },
   {
    "duration": 7,
    "start_time": "2023-05-14T10:10:13.442Z"
   },
   {
    "duration": 5,
    "start_time": "2023-05-14T10:10:18.602Z"
   },
   {
    "duration": 10,
    "start_time": "2023-05-14T10:13:32.800Z"
   },
   {
    "duration": 12,
    "start_time": "2023-05-14T10:14:11.202Z"
   },
   {
    "duration": 156,
    "start_time": "2023-05-14T10:15:39.656Z"
   },
   {
    "duration": 4,
    "start_time": "2023-05-14T10:18:02.213Z"
   },
   {
    "duration": 4,
    "start_time": "2023-05-14T10:18:04.758Z"
   },
   {
    "duration": 6,
    "start_time": "2023-05-14T10:18:12.499Z"
   },
   {
    "duration": 10,
    "start_time": "2023-05-14T10:32:03.252Z"
   },
   {
    "duration": 160,
    "start_time": "2023-05-14T10:32:58.727Z"
   },
   {
    "duration": 158,
    "start_time": "2023-05-14T10:33:19.294Z"
   },
   {
    "duration": 177,
    "start_time": "2023-05-14T10:33:34.646Z"
   },
   {
    "duration": 622,
    "start_time": "2023-05-14T10:42:44.750Z"
   },
   {
    "duration": 46,
    "start_time": "2023-05-14T10:42:45.374Z"
   },
   {
    "duration": 12,
    "start_time": "2023-05-14T10:42:45.421Z"
   },
   {
    "duration": 37,
    "start_time": "2023-05-14T10:42:45.435Z"
   },
   {
    "duration": 20,
    "start_time": "2023-05-14T10:42:45.474Z"
   },
   {
    "duration": 19,
    "start_time": "2023-05-14T10:42:45.496Z"
   },
   {
    "duration": 13,
    "start_time": "2023-05-14T10:42:45.517Z"
   },
   {
    "duration": 10,
    "start_time": "2023-05-14T10:42:45.532Z"
   },
   {
    "duration": 51,
    "start_time": "2023-05-14T10:42:45.544Z"
   },
   {
    "duration": 13,
    "start_time": "2023-05-14T10:42:45.597Z"
   },
   {
    "duration": 8,
    "start_time": "2023-05-14T10:42:45.612Z"
   },
   {
    "duration": 16,
    "start_time": "2023-05-14T10:42:45.621Z"
   },
   {
    "duration": 7,
    "start_time": "2023-05-14T10:42:45.640Z"
   },
   {
    "duration": 12,
    "start_time": "2023-05-14T10:42:45.681Z"
   },
   {
    "duration": 13,
    "start_time": "2023-05-14T10:42:45.696Z"
   },
   {
    "duration": 5,
    "start_time": "2023-05-14T10:42:45.710Z"
   },
   {
    "duration": 9,
    "start_time": "2023-05-14T10:42:45.717Z"
   },
   {
    "duration": 3,
    "start_time": "2023-05-14T10:42:45.728Z"
   },
   {
    "duration": 18,
    "start_time": "2023-05-14T10:42:45.733Z"
   },
   {
    "duration": 39,
    "start_time": "2023-05-14T10:42:45.753Z"
   },
   {
    "duration": 8,
    "start_time": "2023-05-14T10:42:45.795Z"
   },
   {
    "duration": 192,
    "start_time": "2023-05-14T10:42:45.804Z"
   },
   {
    "duration": 7,
    "start_time": "2023-05-14T10:42:45.997Z"
   },
   {
    "duration": 143,
    "start_time": "2023-05-14T10:42:46.006Z"
   },
   {
    "duration": 4,
    "start_time": "2023-05-14T10:42:46.151Z"
   },
   {
    "duration": 30,
    "start_time": "2023-05-14T10:42:46.157Z"
   },
   {
    "duration": 8,
    "start_time": "2023-05-14T10:42:46.189Z"
   },
   {
    "duration": 163,
    "start_time": "2023-05-14T10:42:46.199Z"
   },
   {
    "duration": 28,
    "start_time": "2023-05-14T10:42:46.364Z"
   },
   {
    "duration": 174,
    "start_time": "2023-05-14T10:42:46.395Z"
   },
   {
    "duration": 9,
    "start_time": "2023-05-14T11:21:59.356Z"
   },
   {
    "duration": 215,
    "start_time": "2023-05-14T11:22:51.539Z"
   },
   {
    "duration": 126,
    "start_time": "2023-05-14T11:22:59.031Z"
   },
   {
    "duration": 22,
    "start_time": "2023-05-14T11:44:56.389Z"
   },
   {
    "duration": 11,
    "start_time": "2023-05-14T11:46:36.661Z"
   },
   {
    "duration": 619,
    "start_time": "2023-05-14T11:50:15.723Z"
   },
   {
    "duration": 35,
    "start_time": "2023-05-14T11:50:16.345Z"
   },
   {
    "duration": 12,
    "start_time": "2023-05-14T11:50:16.382Z"
   },
   {
    "duration": 44,
    "start_time": "2023-05-14T11:50:16.396Z"
   },
   {
    "duration": 12,
    "start_time": "2023-05-14T11:50:16.443Z"
   },
   {
    "duration": 27,
    "start_time": "2023-05-14T11:50:16.457Z"
   },
   {
    "duration": 28,
    "start_time": "2023-05-14T11:50:16.486Z"
   },
   {
    "duration": 24,
    "start_time": "2023-05-14T11:50:16.516Z"
   },
   {
    "duration": 22,
    "start_time": "2023-05-14T11:50:16.542Z"
   },
   {
    "duration": 18,
    "start_time": "2023-05-14T11:50:16.567Z"
   },
   {
    "duration": 13,
    "start_time": "2023-05-14T11:50:16.587Z"
   },
   {
    "duration": 28,
    "start_time": "2023-05-14T11:50:16.601Z"
   },
   {
    "duration": 21,
    "start_time": "2023-05-14T11:50:16.631Z"
   },
   {
    "duration": 20,
    "start_time": "2023-05-14T11:50:16.653Z"
   },
   {
    "duration": 16,
    "start_time": "2023-05-14T11:50:16.675Z"
   },
   {
    "duration": 10,
    "start_time": "2023-05-14T11:50:16.693Z"
   },
   {
    "duration": 32,
    "start_time": "2023-05-14T11:50:16.705Z"
   },
   {
    "duration": 13,
    "start_time": "2023-05-14T11:50:16.739Z"
   },
   {
    "duration": 22,
    "start_time": "2023-05-14T11:50:16.753Z"
   },
   {
    "duration": 14,
    "start_time": "2023-05-14T11:50:16.776Z"
   },
   {
    "duration": 19,
    "start_time": "2023-05-14T11:50:16.792Z"
   },
   {
    "duration": 158,
    "start_time": "2023-05-14T11:50:16.813Z"
   },
   {
    "duration": 7,
    "start_time": "2023-05-14T11:50:16.973Z"
   },
   {
    "duration": 120,
    "start_time": "2023-05-14T11:50:16.982Z"
   },
   {
    "duration": 5,
    "start_time": "2023-05-14T11:50:17.103Z"
   },
   {
    "duration": 10,
    "start_time": "2023-05-14T11:50:17.110Z"
   },
   {
    "duration": 4,
    "start_time": "2023-05-14T11:50:17.122Z"
   },
   {
    "duration": 164,
    "start_time": "2023-05-14T11:50:17.128Z"
   },
   {
    "duration": 10,
    "start_time": "2023-05-14T11:50:17.293Z"
   },
   {
    "duration": 212,
    "start_time": "2023-05-14T11:50:17.305Z"
   },
   {
    "duration": 13,
    "start_time": "2023-05-14T11:50:17.518Z"
   },
   {
    "duration": 217,
    "start_time": "2023-05-14T11:50:17.533Z"
   },
   {
    "duration": 11,
    "start_time": "2023-05-14T11:50:17.752Z"
   },
   {
    "duration": 36,
    "start_time": "2023-05-14T11:50:17.764Z"
   },
   {
    "duration": 14,
    "start_time": "2023-05-14T11:51:03.633Z"
   },
   {
    "duration": 73,
    "start_time": "2023-05-14T12:02:29.792Z"
   },
   {
    "duration": 636,
    "start_time": "2023-05-14T12:02:40.204Z"
   },
   {
    "duration": 37,
    "start_time": "2023-05-14T12:02:40.842Z"
   },
   {
    "duration": 12,
    "start_time": "2023-05-14T12:02:40.881Z"
   },
   {
    "duration": 37,
    "start_time": "2023-05-14T12:02:40.895Z"
   },
   {
    "duration": 11,
    "start_time": "2023-05-14T12:02:40.935Z"
   },
   {
    "duration": 30,
    "start_time": "2023-05-14T12:02:40.948Z"
   },
   {
    "duration": 11,
    "start_time": "2023-05-14T12:02:40.980Z"
   },
   {
    "duration": 17,
    "start_time": "2023-05-14T12:02:40.993Z"
   },
   {
    "duration": 13,
    "start_time": "2023-05-14T12:02:41.012Z"
   },
   {
    "duration": 14,
    "start_time": "2023-05-14T12:02:41.027Z"
   },
   {
    "duration": 6,
    "start_time": "2023-05-14T12:02:41.042Z"
   },
   {
    "duration": 37,
    "start_time": "2023-05-14T12:02:41.049Z"
   },
   {
    "duration": 6,
    "start_time": "2023-05-14T12:02:41.088Z"
   },
   {
    "duration": 5,
    "start_time": "2023-05-14T12:02:41.097Z"
   },
   {
    "duration": 8,
    "start_time": "2023-05-14T12:02:41.104Z"
   },
   {
    "duration": 5,
    "start_time": "2023-05-14T12:02:41.113Z"
   },
   {
    "duration": 8,
    "start_time": "2023-05-14T12:02:41.120Z"
   },
   {
    "duration": 2,
    "start_time": "2023-05-14T12:02:41.130Z"
   },
   {
    "duration": 48,
    "start_time": "2023-05-14T12:02:41.134Z"
   },
   {
    "duration": 3,
    "start_time": "2023-05-14T12:02:41.184Z"
   },
   {
    "duration": 6,
    "start_time": "2023-05-14T12:02:41.189Z"
   },
   {
    "duration": 171,
    "start_time": "2023-05-14T12:02:41.197Z"
   },
   {
    "duration": 12,
    "start_time": "2023-05-14T12:02:41.369Z"
   },
   {
    "duration": 130,
    "start_time": "2023-05-14T12:02:41.382Z"
   },
   {
    "duration": 4,
    "start_time": "2023-05-14T12:02:41.514Z"
   },
   {
    "duration": 24,
    "start_time": "2023-05-14T12:02:41.520Z"
   },
   {
    "duration": 5,
    "start_time": "2023-05-14T12:02:41.546Z"
   },
   {
    "duration": 153,
    "start_time": "2023-05-14T12:02:41.553Z"
   },
   {
    "duration": 10,
    "start_time": "2023-05-14T12:02:41.707Z"
   },
   {
    "duration": 163,
    "start_time": "2023-05-14T12:02:41.718Z"
   },
   {
    "duration": 8,
    "start_time": "2023-05-14T12:02:41.883Z"
   },
   {
    "duration": 202,
    "start_time": "2023-05-14T12:02:41.892Z"
   },
   {
    "duration": 9,
    "start_time": "2023-05-14T12:02:42.096Z"
   },
   {
    "duration": 20,
    "start_time": "2023-05-14T12:02:42.107Z"
   },
   {
    "duration": 12,
    "start_time": "2023-05-14T12:02:42.129Z"
   },
   {
    "duration": 8,
    "start_time": "2023-05-14T12:02:42.143Z"
   },
   {
    "duration": 15,
    "start_time": "2023-05-14T12:02:42.177Z"
   },
   {
    "duration": 19,
    "start_time": "2023-05-14T12:03:04.789Z"
   },
   {
    "duration": 17,
    "start_time": "2023-05-14T12:03:35.747Z"
   },
   {
    "duration": 14,
    "start_time": "2023-05-14T12:03:46.151Z"
   },
   {
    "duration": 13,
    "start_time": "2023-05-14T12:04:03.255Z"
   },
   {
    "duration": 198,
    "start_time": "2023-05-14T12:13:57.029Z"
   },
   {
    "duration": 202,
    "start_time": "2023-05-14T12:14:17.609Z"
   },
   {
    "duration": 204,
    "start_time": "2023-05-14T12:14:26.001Z"
   },
   {
    "duration": 181,
    "start_time": "2023-05-14T12:14:41.545Z"
   },
   {
    "duration": 54,
    "start_time": "2023-05-14T12:14:47.813Z"
   },
   {
    "duration": 173,
    "start_time": "2023-05-14T12:14:53.416Z"
   },
   {
    "duration": 209,
    "start_time": "2023-05-14T12:15:01.729Z"
   },
   {
    "duration": 151,
    "start_time": "2023-05-14T12:15:05.935Z"
   },
   {
    "duration": 614,
    "start_time": "2023-05-14T12:19:46.681Z"
   },
   {
    "duration": 33,
    "start_time": "2023-05-14T12:19:47.297Z"
   },
   {
    "duration": 11,
    "start_time": "2023-05-14T12:19:47.331Z"
   },
   {
    "duration": 31,
    "start_time": "2023-05-14T12:19:47.344Z"
   },
   {
    "duration": 11,
    "start_time": "2023-05-14T12:19:47.376Z"
   },
   {
    "duration": 16,
    "start_time": "2023-05-14T12:19:47.389Z"
   },
   {
    "duration": 9,
    "start_time": "2023-05-14T12:19:47.407Z"
   },
   {
    "duration": 7,
    "start_time": "2023-05-14T12:19:47.418Z"
   },
   {
    "duration": 9,
    "start_time": "2023-05-14T12:19:47.427Z"
   },
   {
    "duration": 12,
    "start_time": "2023-05-14T12:19:47.438Z"
   },
   {
    "duration": 31,
    "start_time": "2023-05-14T12:19:47.451Z"
   },
   {
    "duration": 7,
    "start_time": "2023-05-14T12:19:47.484Z"
   },
   {
    "duration": 6,
    "start_time": "2023-05-14T12:19:47.492Z"
   },
   {
    "duration": 5,
    "start_time": "2023-05-14T12:19:47.500Z"
   },
   {
    "duration": 7,
    "start_time": "2023-05-14T12:19:47.507Z"
   },
   {
    "duration": 5,
    "start_time": "2023-05-14T12:19:47.516Z"
   },
   {
    "duration": 9,
    "start_time": "2023-05-14T12:19:47.522Z"
   },
   {
    "duration": 46,
    "start_time": "2023-05-14T12:19:47.532Z"
   },
   {
    "duration": 12,
    "start_time": "2023-05-14T12:19:47.580Z"
   },
   {
    "duration": 5,
    "start_time": "2023-05-14T12:19:47.593Z"
   },
   {
    "duration": 7,
    "start_time": "2023-05-14T12:19:47.599Z"
   },
   {
    "duration": 173,
    "start_time": "2023-05-14T12:19:47.607Z"
   },
   {
    "duration": 5,
    "start_time": "2023-05-14T12:19:47.782Z"
   },
   {
    "duration": 124,
    "start_time": "2023-05-14T12:19:47.789Z"
   },
   {
    "duration": 4,
    "start_time": "2023-05-14T12:19:47.914Z"
   },
   {
    "duration": 16,
    "start_time": "2023-05-14T12:19:47.919Z"
   },
   {
    "duration": 6,
    "start_time": "2023-05-14T12:19:47.936Z"
   },
   {
    "duration": 150,
    "start_time": "2023-05-14T12:19:47.946Z"
   },
   {
    "duration": 8,
    "start_time": "2023-05-14T12:19:48.098Z"
   },
   {
    "duration": 205,
    "start_time": "2023-05-14T12:19:48.108Z"
   },
   {
    "duration": 10,
    "start_time": "2023-05-14T12:19:48.315Z"
   },
   {
    "duration": 227,
    "start_time": "2023-05-14T12:19:48.327Z"
   },
   {
    "duration": 10,
    "start_time": "2023-05-14T12:19:48.555Z"
   },
   {
    "duration": 28,
    "start_time": "2023-05-14T12:19:48.567Z"
   },
   {
    "duration": 12,
    "start_time": "2023-05-14T12:19:48.597Z"
   },
   {
    "duration": 16,
    "start_time": "2023-05-14T12:19:48.611Z"
   },
   {
    "duration": 26,
    "start_time": "2023-05-14T12:19:48.628Z"
   },
   {
    "duration": 27,
    "start_time": "2023-05-14T12:19:48.656Z"
   },
   {
    "duration": 173,
    "start_time": "2023-05-14T12:19:48.684Z"
   },
   {
    "duration": 190,
    "start_time": "2023-05-14T12:19:48.858Z"
   },
   {
    "duration": 7,
    "start_time": "2023-05-14T12:20:13.056Z"
   },
   {
    "duration": 9,
    "start_time": "2023-05-14T12:20:28.129Z"
   },
   {
    "duration": 151,
    "start_time": "2023-05-14T12:26:28.109Z"
   },
   {
    "duration": 150,
    "start_time": "2023-05-14T12:26:37.959Z"
   },
   {
    "duration": 617,
    "start_time": "2023-05-14T12:41:25.012Z"
   },
   {
    "duration": 35,
    "start_time": "2023-05-14T12:41:25.631Z"
   },
   {
    "duration": 11,
    "start_time": "2023-05-14T12:41:25.668Z"
   },
   {
    "duration": 32,
    "start_time": "2023-05-14T12:41:25.680Z"
   },
   {
    "duration": 47,
    "start_time": "2023-05-14T12:41:25.714Z"
   },
   {
    "duration": 34,
    "start_time": "2023-05-14T12:41:25.763Z"
   },
   {
    "duration": 11,
    "start_time": "2023-05-14T12:41:25.799Z"
   },
   {
    "duration": 10,
    "start_time": "2023-05-14T12:41:25.811Z"
   },
   {
    "duration": 11,
    "start_time": "2023-05-14T12:41:25.823Z"
   },
   {
    "duration": 13,
    "start_time": "2023-05-14T12:41:25.835Z"
   },
   {
    "duration": 27,
    "start_time": "2023-05-14T12:41:25.851Z"
   },
   {
    "duration": 8,
    "start_time": "2023-05-14T12:41:25.880Z"
   },
   {
    "duration": 8,
    "start_time": "2023-05-14T12:41:25.890Z"
   },
   {
    "duration": 17,
    "start_time": "2023-05-14T12:41:25.903Z"
   },
   {
    "duration": 12,
    "start_time": "2023-05-14T12:41:25.922Z"
   },
   {
    "duration": 6,
    "start_time": "2023-05-14T12:41:25.936Z"
   },
   {
    "duration": 42,
    "start_time": "2023-05-14T12:41:25.944Z"
   },
   {
    "duration": 3,
    "start_time": "2023-05-14T12:41:25.988Z"
   },
   {
    "duration": 18,
    "start_time": "2023-05-14T12:41:25.993Z"
   },
   {
    "duration": 5,
    "start_time": "2023-05-14T12:41:26.013Z"
   },
   {
    "duration": 7,
    "start_time": "2023-05-14T12:41:26.020Z"
   },
   {
    "duration": 179,
    "start_time": "2023-05-14T12:41:26.028Z"
   },
   {
    "duration": 7,
    "start_time": "2023-05-14T12:41:26.208Z"
   },
   {
    "duration": 137,
    "start_time": "2023-05-14T12:41:26.218Z"
   },
   {
    "duration": 5,
    "start_time": "2023-05-14T12:41:26.357Z"
   },
   {
    "duration": 20,
    "start_time": "2023-05-14T12:41:26.363Z"
   },
   {
    "duration": 6,
    "start_time": "2023-05-14T12:41:26.384Z"
   },
   {
    "duration": 171,
    "start_time": "2023-05-14T12:41:26.392Z"
   },
   {
    "duration": 20,
    "start_time": "2023-05-14T12:41:26.565Z"
   },
   {
    "duration": 193,
    "start_time": "2023-05-14T12:41:26.587Z"
   },
   {
    "duration": 10,
    "start_time": "2023-05-14T12:41:26.781Z"
   },
   {
    "duration": 228,
    "start_time": "2023-05-14T12:41:26.792Z"
   },
   {
    "duration": 12,
    "start_time": "2023-05-14T12:41:27.023Z"
   },
   {
    "duration": 42,
    "start_time": "2023-05-14T12:41:27.037Z"
   },
   {
    "duration": 14,
    "start_time": "2023-05-14T12:41:27.081Z"
   },
   {
    "duration": 10,
    "start_time": "2023-05-14T12:41:27.097Z"
   },
   {
    "duration": 14,
    "start_time": "2023-05-14T12:41:27.109Z"
   },
   {
    "duration": 14,
    "start_time": "2023-05-14T12:41:27.125Z"
   },
   {
    "duration": 216,
    "start_time": "2023-05-14T12:41:27.141Z"
   },
   {
    "duration": 201,
    "start_time": "2023-05-14T12:41:27.359Z"
   },
   {
    "duration": 14,
    "start_time": "2023-05-14T12:41:27.565Z"
   },
   {
    "duration": 10,
    "start_time": "2023-05-14T12:41:27.582Z"
   },
   {
    "duration": 59,
    "start_time": "2023-05-14T13:22:43.957Z"
   },
   {
    "duration": 261,
    "start_time": "2023-05-14T13:24:19.759Z"
   },
   {
    "duration": 303,
    "start_time": "2023-05-14T13:24:41.054Z"
   },
   {
    "duration": 11,
    "start_time": "2023-05-14T13:25:35.921Z"
   },
   {
    "duration": 103,
    "start_time": "2023-05-14T13:25:56.905Z"
   },
   {
    "duration": 11,
    "start_time": "2023-05-14T13:26:06.850Z"
   },
   {
    "duration": 32,
    "start_time": "2023-05-14T14:03:31.028Z"
   },
   {
    "duration": 11,
    "start_time": "2023-05-14T14:04:46.306Z"
   },
   {
    "duration": 6,
    "start_time": "2023-05-14T14:05:08.261Z"
   },
   {
    "duration": 724,
    "start_time": "2023-05-14T14:05:22.884Z"
   },
   {
    "duration": 45,
    "start_time": "2023-05-14T14:05:23.610Z"
   },
   {
    "duration": 16,
    "start_time": "2023-05-14T14:05:23.657Z"
   },
   {
    "duration": 44,
    "start_time": "2023-05-14T14:05:23.675Z"
   },
   {
    "duration": 13,
    "start_time": "2023-05-14T14:05:23.721Z"
   },
   {
    "duration": 47,
    "start_time": "2023-05-14T14:05:23.736Z"
   },
   {
    "duration": 16,
    "start_time": "2023-05-14T14:05:23.790Z"
   },
   {
    "duration": 15,
    "start_time": "2023-05-14T14:05:23.808Z"
   },
   {
    "duration": 13,
    "start_time": "2023-05-14T14:05:23.825Z"
   },
   {
    "duration": 42,
    "start_time": "2023-05-14T14:05:23.841Z"
   },
   {
    "duration": 14,
    "start_time": "2023-05-14T14:05:23.885Z"
   },
   {
    "duration": 15,
    "start_time": "2023-05-14T14:05:23.901Z"
   },
   {
    "duration": 20,
    "start_time": "2023-05-14T14:05:23.918Z"
   },
   {
    "duration": 11,
    "start_time": "2023-05-14T14:05:23.940Z"
   },
   {
    "duration": 17,
    "start_time": "2023-05-14T14:05:23.953Z"
   },
   {
    "duration": 20,
    "start_time": "2023-05-14T14:05:23.973Z"
   },
   {
    "duration": 27,
    "start_time": "2023-05-14T14:05:23.996Z"
   },
   {
    "duration": 5,
    "start_time": "2023-05-14T14:05:24.025Z"
   },
   {
    "duration": 53,
    "start_time": "2023-05-14T14:05:24.032Z"
   },
   {
    "duration": 14,
    "start_time": "2023-05-14T14:05:24.088Z"
   },
   {
    "duration": 7,
    "start_time": "2023-05-14T14:05:24.104Z"
   },
   {
    "duration": 188,
    "start_time": "2023-05-14T14:05:24.112Z"
   },
   {
    "duration": 9,
    "start_time": "2023-05-14T14:05:24.306Z"
   },
   {
    "duration": 177,
    "start_time": "2023-05-14T14:05:24.318Z"
   },
   {
    "duration": 4,
    "start_time": "2023-05-14T14:05:24.497Z"
   },
   {
    "duration": 14,
    "start_time": "2023-05-14T14:05:24.503Z"
   },
   {
    "duration": 7,
    "start_time": "2023-05-14T14:05:24.519Z"
   },
   {
    "duration": 178,
    "start_time": "2023-05-14T14:05:24.529Z"
   },
   {
    "duration": 10,
    "start_time": "2023-05-14T14:05:24.709Z"
   },
   {
    "duration": 191,
    "start_time": "2023-05-14T14:05:24.720Z"
   },
   {
    "duration": 14,
    "start_time": "2023-05-14T14:05:24.914Z"
   },
   {
    "duration": 280,
    "start_time": "2023-05-14T14:05:24.931Z"
   },
   {
    "duration": 12,
    "start_time": "2023-05-14T14:05:25.213Z"
   },
   {
    "duration": 28,
    "start_time": "2023-05-14T14:05:25.226Z"
   },
   {
    "duration": 45,
    "start_time": "2023-05-14T14:05:25.257Z"
   },
   {
    "duration": 10,
    "start_time": "2023-05-14T14:05:25.305Z"
   },
   {
    "duration": 23,
    "start_time": "2023-05-14T14:05:25.317Z"
   },
   {
    "duration": 14,
    "start_time": "2023-05-14T14:05:25.343Z"
   },
   {
    "duration": 228,
    "start_time": "2023-05-14T14:05:25.360Z"
   },
   {
    "duration": 213,
    "start_time": "2023-05-14T14:05:25.592Z"
   },
   {
    "duration": 11,
    "start_time": "2023-05-14T14:05:25.807Z"
   },
   {
    "duration": 18,
    "start_time": "2023-05-14T14:05:25.821Z"
   },
   {
    "duration": 166,
    "start_time": "2023-05-14T14:05:25.841Z"
   },
   {
    "duration": 196,
    "start_time": "2023-05-14T14:05:26.009Z"
   },
   {
    "duration": 9,
    "start_time": "2023-05-14T14:05:26.207Z"
   },
   {
    "duration": 37,
    "start_time": "2023-05-14T14:05:26.218Z"
   },
   {
    "duration": 10,
    "start_time": "2023-05-14T14:05:26.256Z"
   },
   {
    "duration": 233,
    "start_time": "2023-05-14T14:07:32.900Z"
   },
   {
    "duration": 160,
    "start_time": "2023-05-14T14:07:41.888Z"
   },
   {
    "duration": 222,
    "start_time": "2023-05-14T14:08:43.195Z"
   },
   {
    "duration": 148,
    "start_time": "2023-05-14T14:09:16.938Z"
   },
   {
    "duration": 712,
    "start_time": "2023-05-14T14:09:51.954Z"
   },
   {
    "duration": 46,
    "start_time": "2023-05-14T14:09:52.670Z"
   },
   {
    "duration": 13,
    "start_time": "2023-05-14T14:09:52.717Z"
   },
   {
    "duration": 54,
    "start_time": "2023-05-14T14:09:52.732Z"
   },
   {
    "duration": 16,
    "start_time": "2023-05-14T14:09:52.788Z"
   },
   {
    "duration": 19,
    "start_time": "2023-05-14T14:09:52.807Z"
   },
   {
    "duration": 14,
    "start_time": "2023-05-14T14:09:52.828Z"
   },
   {
    "duration": 40,
    "start_time": "2023-05-14T14:09:52.843Z"
   },
   {
    "duration": 12,
    "start_time": "2023-05-14T14:09:52.889Z"
   },
   {
    "duration": 23,
    "start_time": "2023-05-14T14:09:52.907Z"
   },
   {
    "duration": 35,
    "start_time": "2023-05-14T14:09:52.932Z"
   },
   {
    "duration": 30,
    "start_time": "2023-05-14T14:09:52.969Z"
   },
   {
    "duration": 34,
    "start_time": "2023-05-14T14:09:53.001Z"
   },
   {
    "duration": 7,
    "start_time": "2023-05-14T14:09:53.037Z"
   },
   {
    "duration": 16,
    "start_time": "2023-05-14T14:09:53.046Z"
   },
   {
    "duration": 6,
    "start_time": "2023-05-14T14:09:53.064Z"
   },
   {
    "duration": 22,
    "start_time": "2023-05-14T14:09:53.071Z"
   },
   {
    "duration": 10,
    "start_time": "2023-05-14T14:09:53.095Z"
   },
   {
    "duration": 20,
    "start_time": "2023-05-14T14:09:53.107Z"
   },
   {
    "duration": 18,
    "start_time": "2023-05-14T14:09:53.129Z"
   },
   {
    "duration": 11,
    "start_time": "2023-05-14T14:09:53.149Z"
   },
   {
    "duration": 158,
    "start_time": "2023-05-14T14:09:53.162Z"
   },
   {
    "duration": 7,
    "start_time": "2023-05-14T14:09:53.321Z"
   },
   {
    "duration": 136,
    "start_time": "2023-05-14T14:09:53.330Z"
   },
   {
    "duration": 16,
    "start_time": "2023-05-14T14:09:53.469Z"
   },
   {
    "duration": 21,
    "start_time": "2023-05-14T14:09:53.492Z"
   },
   {
    "duration": 20,
    "start_time": "2023-05-14T14:09:53.517Z"
   },
   {
    "duration": 171,
    "start_time": "2023-05-14T14:09:53.543Z"
   },
   {
    "duration": 11,
    "start_time": "2023-05-14T14:09:53.716Z"
   },
   {
    "duration": 188,
    "start_time": "2023-05-14T14:09:53.729Z"
   },
   {
    "duration": 11,
    "start_time": "2023-05-14T14:09:53.920Z"
   },
   {
    "duration": 229,
    "start_time": "2023-05-14T14:09:53.932Z"
   },
   {
    "duration": 34,
    "start_time": "2023-05-14T14:09:54.163Z"
   },
   {
    "duration": 30,
    "start_time": "2023-05-14T14:09:54.199Z"
   },
   {
    "duration": 24,
    "start_time": "2023-05-14T14:09:54.231Z"
   },
   {
    "duration": 30,
    "start_time": "2023-05-14T14:09:54.258Z"
   },
   {
    "duration": 17,
    "start_time": "2023-05-14T14:09:54.296Z"
   },
   {
    "duration": 14,
    "start_time": "2023-05-14T14:09:54.315Z"
   },
   {
    "duration": 181,
    "start_time": "2023-05-14T14:09:54.331Z"
   },
   {
    "duration": 187,
    "start_time": "2023-05-14T14:09:54.514Z"
   },
   {
    "duration": 12,
    "start_time": "2023-05-14T14:09:54.704Z"
   },
   {
    "duration": 12,
    "start_time": "2023-05-14T14:09:54.719Z"
   },
   {
    "duration": 175,
    "start_time": "2023-05-14T14:09:54.733Z"
   },
   {
    "duration": 178,
    "start_time": "2023-05-14T14:09:54.909Z"
   },
   {
    "duration": 8,
    "start_time": "2023-05-14T14:09:55.099Z"
   },
   {
    "duration": 30,
    "start_time": "2023-05-14T14:09:55.109Z"
   },
   {
    "duration": 23,
    "start_time": "2023-05-14T14:09:55.141Z"
   },
   {
    "duration": 61,
    "start_time": "2023-05-14T14:10:31.596Z"
   },
   {
    "duration": 53,
    "start_time": "2023-05-14T14:29:50.714Z"
   },
   {
    "duration": 58,
    "start_time": "2023-05-14T14:31:48.217Z"
   },
   {
    "duration": 693,
    "start_time": "2023-05-14T14:32:00.045Z"
   },
   {
    "duration": 37,
    "start_time": "2023-05-14T14:32:00.740Z"
   },
   {
    "duration": 27,
    "start_time": "2023-05-14T14:32:00.791Z"
   },
   {
    "duration": 40,
    "start_time": "2023-05-14T14:32:00.821Z"
   },
   {
    "duration": 14,
    "start_time": "2023-05-14T14:32:00.863Z"
   },
   {
    "duration": 51,
    "start_time": "2023-05-14T14:32:00.879Z"
   },
   {
    "duration": 11,
    "start_time": "2023-05-14T14:32:00.932Z"
   },
   {
    "duration": 30,
    "start_time": "2023-05-14T14:32:00.945Z"
   },
   {
    "duration": 40,
    "start_time": "2023-05-14T14:32:00.977Z"
   },
   {
    "duration": 27,
    "start_time": "2023-05-14T14:32:01.020Z"
   },
   {
    "duration": 12,
    "start_time": "2023-05-14T14:32:01.049Z"
   },
   {
    "duration": 48,
    "start_time": "2023-05-14T14:32:01.063Z"
   },
   {
    "duration": 18,
    "start_time": "2023-05-14T14:32:01.113Z"
   },
   {
    "duration": 12,
    "start_time": "2023-05-14T14:32:01.133Z"
   },
   {
    "duration": 16,
    "start_time": "2023-05-14T14:32:01.147Z"
   },
   {
    "duration": 26,
    "start_time": "2023-05-14T14:32:01.165Z"
   },
   {
    "duration": 16,
    "start_time": "2023-05-14T14:32:01.202Z"
   },
   {
    "duration": 13,
    "start_time": "2023-05-14T14:32:01.220Z"
   },
   {
    "duration": 53,
    "start_time": "2023-05-14T14:32:01.235Z"
   },
   {
    "duration": 32,
    "start_time": "2023-05-14T14:32:01.289Z"
   },
   {
    "duration": 18,
    "start_time": "2023-05-14T14:32:01.322Z"
   },
   {
    "duration": 204,
    "start_time": "2023-05-14T14:32:01.342Z"
   },
   {
    "duration": 7,
    "start_time": "2023-05-14T14:32:01.548Z"
   },
   {
    "duration": 208,
    "start_time": "2023-05-14T14:32:01.559Z"
   },
   {
    "duration": 22,
    "start_time": "2023-05-14T14:32:01.770Z"
   },
   {
    "duration": 28,
    "start_time": "2023-05-14T14:32:01.795Z"
   },
   {
    "duration": 37,
    "start_time": "2023-05-14T14:32:01.825Z"
   },
   {
    "duration": 210,
    "start_time": "2023-05-14T14:32:01.866Z"
   },
   {
    "duration": 11,
    "start_time": "2023-05-14T14:32:02.083Z"
   },
   {
    "duration": 189,
    "start_time": "2023-05-14T14:32:02.096Z"
   },
   {
    "duration": 12,
    "start_time": "2023-05-14T14:32:02.293Z"
   },
   {
    "duration": 203,
    "start_time": "2023-05-14T14:32:02.307Z"
   },
   {
    "duration": 12,
    "start_time": "2023-05-14T14:32:02.513Z"
   },
   {
    "duration": 22,
    "start_time": "2023-05-14T14:32:02.527Z"
   },
   {
    "duration": 45,
    "start_time": "2023-05-14T14:32:02.551Z"
   },
   {
    "duration": 12,
    "start_time": "2023-05-14T14:32:02.604Z"
   },
   {
    "duration": 11,
    "start_time": "2023-05-14T14:32:02.617Z"
   },
   {
    "duration": 15,
    "start_time": "2023-05-14T14:32:02.630Z"
   },
   {
    "duration": 227,
    "start_time": "2023-05-14T14:32:02.647Z"
   },
   {
    "duration": 222,
    "start_time": "2023-05-14T14:32:02.878Z"
   },
   {
    "duration": 11,
    "start_time": "2023-05-14T14:32:03.104Z"
   },
   {
    "duration": 8,
    "start_time": "2023-05-14T14:32:03.117Z"
   },
   {
    "duration": 142,
    "start_time": "2023-05-14T14:32:03.126Z"
   },
   {
    "duration": 166,
    "start_time": "2023-05-14T14:32:03.270Z"
   },
   {
    "duration": 8,
    "start_time": "2023-05-14T14:32:03.438Z"
   },
   {
    "duration": 9,
    "start_time": "2023-05-14T14:32:03.447Z"
   },
   {
    "duration": 81,
    "start_time": "2023-05-14T14:32:03.457Z"
   },
   {
    "duration": 92,
    "start_time": "2023-05-14T14:32:24.318Z"
   },
   {
    "duration": 56,
    "start_time": "2023-05-14T14:32:39.148Z"
   },
   {
    "duration": 56,
    "start_time": "2023-05-14T14:34:45.364Z"
   },
   {
    "duration": 38,
    "start_time": "2023-05-14T14:46:38.163Z"
   },
   {
    "duration": 17,
    "start_time": "2023-05-14T14:48:23.418Z"
   },
   {
    "duration": 40,
    "start_time": "2023-05-14T14:53:03.598Z"
   },
   {
    "duration": 29,
    "start_time": "2023-05-14T14:53:15.065Z"
   },
   {
    "duration": 29,
    "start_time": "2023-05-14T14:58:47.908Z"
   },
   {
    "duration": 32,
    "start_time": "2023-05-14T14:59:39.972Z"
   },
   {
    "duration": 4,
    "start_time": "2023-05-14T14:59:45.972Z"
   },
   {
    "duration": 35,
    "start_time": "2023-05-14T14:59:50.876Z"
   },
   {
    "duration": 641,
    "start_time": "2023-05-14T15:00:51.102Z"
   },
   {
    "duration": 38,
    "start_time": "2023-05-14T15:00:51.746Z"
   },
   {
    "duration": 26,
    "start_time": "2023-05-14T15:00:51.786Z"
   },
   {
    "duration": 31,
    "start_time": "2023-05-14T15:00:51.814Z"
   },
   {
    "duration": 10,
    "start_time": "2023-05-14T15:00:51.847Z"
   },
   {
    "duration": 17,
    "start_time": "2023-05-14T15:00:51.859Z"
   },
   {
    "duration": 20,
    "start_time": "2023-05-14T15:00:51.877Z"
   },
   {
    "duration": 10,
    "start_time": "2023-05-14T15:00:51.898Z"
   },
   {
    "duration": 11,
    "start_time": "2023-05-14T15:00:51.912Z"
   },
   {
    "duration": 18,
    "start_time": "2023-05-14T15:00:51.925Z"
   },
   {
    "duration": 6,
    "start_time": "2023-05-14T15:00:51.945Z"
   },
   {
    "duration": 17,
    "start_time": "2023-05-14T15:00:51.952Z"
   },
   {
    "duration": 19,
    "start_time": "2023-05-14T15:00:51.977Z"
   },
   {
    "duration": 10,
    "start_time": "2023-05-14T15:00:52.004Z"
   },
   {
    "duration": 28,
    "start_time": "2023-05-14T15:00:52.015Z"
   },
   {
    "duration": 16,
    "start_time": "2023-05-14T15:00:52.044Z"
   },
   {
    "duration": 27,
    "start_time": "2023-05-14T15:00:52.061Z"
   },
   {
    "duration": 5,
    "start_time": "2023-05-14T15:00:52.089Z"
   },
   {
    "duration": 15,
    "start_time": "2023-05-14T15:00:52.095Z"
   },
   {
    "duration": 4,
    "start_time": "2023-05-14T15:00:52.113Z"
   },
   {
    "duration": 18,
    "start_time": "2023-05-14T15:00:52.119Z"
   },
   {
    "duration": 174,
    "start_time": "2023-05-14T15:00:52.139Z"
   },
   {
    "duration": 7,
    "start_time": "2023-05-14T15:00:52.314Z"
   },
   {
    "duration": 116,
    "start_time": "2023-05-14T15:00:52.323Z"
   },
   {
    "duration": 5,
    "start_time": "2023-05-14T15:00:52.441Z"
   },
   {
    "duration": 10,
    "start_time": "2023-05-14T15:00:52.447Z"
   },
   {
    "duration": 23,
    "start_time": "2023-05-14T15:00:52.478Z"
   },
   {
    "duration": 140,
    "start_time": "2023-05-14T15:00:52.506Z"
   },
   {
    "duration": 8,
    "start_time": "2023-05-14T15:00:52.648Z"
   },
   {
    "duration": 178,
    "start_time": "2023-05-14T15:00:52.658Z"
   },
   {
    "duration": 10,
    "start_time": "2023-05-14T15:00:52.838Z"
   },
   {
    "duration": 218,
    "start_time": "2023-05-14T15:00:52.849Z"
   },
   {
    "duration": 21,
    "start_time": "2023-05-14T15:00:53.069Z"
   },
   {
    "duration": 33,
    "start_time": "2023-05-14T15:00:53.094Z"
   },
   {
    "duration": 11,
    "start_time": "2023-05-14T15:00:53.128Z"
   },
   {
    "duration": 22,
    "start_time": "2023-05-14T15:00:53.141Z"
   },
   {
    "duration": 42,
    "start_time": "2023-05-14T15:00:53.164Z"
   },
   {
    "duration": 151,
    "start_time": "2023-05-14T15:00:53.210Z"
   },
   {
    "duration": 181,
    "start_time": "2023-05-14T15:00:53.363Z"
   },
   {
    "duration": 8,
    "start_time": "2023-05-14T15:00:53.547Z"
   },
   {
    "duration": 34,
    "start_time": "2023-05-14T15:00:53.558Z"
   },
   {
    "duration": 170,
    "start_time": "2023-05-14T15:00:53.594Z"
   },
   {
    "duration": 201,
    "start_time": "2023-05-14T15:00:53.766Z"
   },
   {
    "duration": 23,
    "start_time": "2023-05-14T15:00:53.969Z"
   },
   {
    "duration": 16,
    "start_time": "2023-05-14T15:00:53.993Z"
   },
   {
    "duration": 35,
    "start_time": "2023-05-14T15:00:54.011Z"
   },
   {
    "duration": 28,
    "start_time": "2023-05-14T15:04:22.340Z"
   },
   {
    "duration": 27,
    "start_time": "2023-05-14T15:06:19.706Z"
   },
   {
    "duration": 36,
    "start_time": "2023-05-14T15:08:53.391Z"
   },
   {
    "duration": 889,
    "start_time": "2023-05-14T15:54:30.638Z"
   },
   {
    "duration": 637,
    "start_time": "2023-05-14T15:54:41.397Z"
   },
   {
    "duration": 36,
    "start_time": "2023-05-14T15:54:42.036Z"
   },
   {
    "duration": 23,
    "start_time": "2023-05-14T15:54:42.074Z"
   },
   {
    "duration": 38,
    "start_time": "2023-05-14T15:54:42.100Z"
   },
   {
    "duration": 11,
    "start_time": "2023-05-14T15:54:42.140Z"
   },
   {
    "duration": 16,
    "start_time": "2023-05-14T15:54:42.153Z"
   },
   {
    "duration": 17,
    "start_time": "2023-05-14T15:54:42.171Z"
   },
   {
    "duration": 8,
    "start_time": "2023-05-14T15:54:42.191Z"
   },
   {
    "duration": 10,
    "start_time": "2023-05-14T15:54:42.201Z"
   },
   {
    "duration": 12,
    "start_time": "2023-05-14T15:54:42.213Z"
   },
   {
    "duration": 6,
    "start_time": "2023-05-14T15:54:42.226Z"
   },
   {
    "duration": 7,
    "start_time": "2023-05-14T15:54:42.234Z"
   },
   {
    "duration": 16,
    "start_time": "2023-05-14T15:54:42.277Z"
   },
   {
    "duration": 8,
    "start_time": "2023-05-14T15:54:42.297Z"
   },
   {
    "duration": 12,
    "start_time": "2023-05-14T15:54:42.307Z"
   },
   {
    "duration": 5,
    "start_time": "2023-05-14T15:54:42.321Z"
   },
   {
    "duration": 8,
    "start_time": "2023-05-14T15:54:42.328Z"
   },
   {
    "duration": 3,
    "start_time": "2023-05-14T15:54:42.338Z"
   },
   {
    "duration": 13,
    "start_time": "2023-05-14T15:54:42.343Z"
   },
   {
    "duration": 28,
    "start_time": "2023-05-14T15:54:42.358Z"
   },
   {
    "duration": 10,
    "start_time": "2023-05-14T15:54:42.389Z"
   },
   {
    "duration": 157,
    "start_time": "2023-05-14T15:54:42.401Z"
   },
   {
    "duration": 21,
    "start_time": "2023-05-14T15:54:42.560Z"
   },
   {
    "duration": 120,
    "start_time": "2023-05-14T15:54:42.590Z"
   },
   {
    "duration": 4,
    "start_time": "2023-05-14T15:54:42.712Z"
   },
   {
    "duration": 11,
    "start_time": "2023-05-14T15:54:42.718Z"
   },
   {
    "duration": 5,
    "start_time": "2023-05-14T15:54:42.731Z"
   },
   {
    "duration": 192,
    "start_time": "2023-05-14T15:54:42.742Z"
   },
   {
    "duration": 9,
    "start_time": "2023-05-14T15:54:42.936Z"
   },
   {
    "duration": 180,
    "start_time": "2023-05-14T15:54:42.947Z"
   },
   {
    "duration": 9,
    "start_time": "2023-05-14T15:54:43.128Z"
   },
   {
    "duration": 221,
    "start_time": "2023-05-14T15:54:43.139Z"
   },
   {
    "duration": 24,
    "start_time": "2023-05-14T15:54:43.362Z"
   },
   {
    "duration": 29,
    "start_time": "2023-05-14T15:54:43.387Z"
   },
   {
    "duration": 9,
    "start_time": "2023-05-14T15:54:43.418Z"
   },
   {
    "duration": 19,
    "start_time": "2023-05-14T15:54:43.429Z"
   },
   {
    "duration": 47,
    "start_time": "2023-05-14T15:54:43.450Z"
   },
   {
    "duration": 173,
    "start_time": "2023-05-14T15:54:43.499Z"
   },
   {
    "duration": 179,
    "start_time": "2023-05-14T15:54:43.677Z"
   },
   {
    "duration": 11,
    "start_time": "2023-05-14T15:54:43.858Z"
   },
   {
    "duration": 12,
    "start_time": "2023-05-14T15:54:43.879Z"
   },
   {
    "duration": 164,
    "start_time": "2023-05-14T15:54:43.893Z"
   },
   {
    "duration": 184,
    "start_time": "2023-05-14T15:54:44.059Z"
   },
   {
    "duration": 9,
    "start_time": "2023-05-14T15:54:44.245Z"
   },
   {
    "duration": 39,
    "start_time": "2023-05-14T15:54:44.256Z"
   },
   {
    "duration": 43,
    "start_time": "2023-05-14T15:54:44.296Z"
   },
   {
    "duration": 842,
    "start_time": "2023-05-14T15:54:44.341Z"
   },
   {
    "duration": 3,
    "start_time": "2023-05-14T16:01:58.771Z"
   },
   {
    "duration": 28,
    "start_time": "2023-05-14T16:02:14.391Z"
   },
   {
    "duration": 813,
    "start_time": "2023-05-14T16:02:53.150Z"
   },
   {
    "duration": 729,
    "start_time": "2023-05-14T16:04:20.763Z"
   },
   {
    "duration": 119,
    "start_time": "2023-05-14T16:04:21.495Z"
   },
   {
    "duration": 16,
    "start_time": "2023-05-14T16:04:21.616Z"
   },
   {
    "duration": 114,
    "start_time": "2023-05-14T16:04:21.635Z"
   },
   {
    "duration": 15,
    "start_time": "2023-05-14T16:04:21.751Z"
   },
   {
    "duration": 92,
    "start_time": "2023-05-14T16:04:21.768Z"
   },
   {
    "duration": 18,
    "start_time": "2023-05-14T16:04:21.863Z"
   },
   {
    "duration": 20,
    "start_time": "2023-05-14T16:04:21.887Z"
   },
   {
    "duration": 32,
    "start_time": "2023-05-14T16:04:21.909Z"
   },
   {
    "duration": 17,
    "start_time": "2023-05-14T16:04:21.945Z"
   },
   {
    "duration": 9,
    "start_time": "2023-05-14T16:04:21.964Z"
   },
   {
    "duration": 27,
    "start_time": "2023-05-14T16:04:21.974Z"
   },
   {
    "duration": 14,
    "start_time": "2023-05-14T16:04:22.003Z"
   },
   {
    "duration": 10,
    "start_time": "2023-05-14T16:04:22.019Z"
   },
   {
    "duration": 24,
    "start_time": "2023-05-14T16:04:22.031Z"
   },
   {
    "duration": 7,
    "start_time": "2023-05-14T16:04:22.058Z"
   },
   {
    "duration": 34,
    "start_time": "2023-05-14T16:04:22.067Z"
   },
   {
    "duration": 18,
    "start_time": "2023-05-14T16:04:22.103Z"
   },
   {
    "duration": 21,
    "start_time": "2023-05-14T16:04:22.126Z"
   },
   {
    "duration": 6,
    "start_time": "2023-05-14T16:04:22.149Z"
   },
   {
    "duration": 7,
    "start_time": "2023-05-14T16:04:22.157Z"
   },
   {
    "duration": 244,
    "start_time": "2023-05-14T16:04:22.166Z"
   },
   {
    "duration": 10,
    "start_time": "2023-05-14T16:04:22.412Z"
   },
   {
    "duration": 135,
    "start_time": "2023-05-14T16:04:22.424Z"
   },
   {
    "duration": 21,
    "start_time": "2023-05-14T16:04:22.561Z"
   },
   {
    "duration": 19,
    "start_time": "2023-05-14T16:04:22.584Z"
   },
   {
    "duration": 6,
    "start_time": "2023-05-14T16:04:22.605Z"
   },
   {
    "duration": 206,
    "start_time": "2023-05-14T16:04:22.621Z"
   },
   {
    "duration": 12,
    "start_time": "2023-05-14T16:04:22.830Z"
   },
   {
    "duration": 222,
    "start_time": "2023-05-14T16:04:22.844Z"
   },
   {
    "duration": 22,
    "start_time": "2023-05-14T16:04:23.068Z"
   },
   {
    "duration": 238,
    "start_time": "2023-05-14T16:04:23.092Z"
   },
   {
    "duration": 11,
    "start_time": "2023-05-14T16:04:23.333Z"
   },
   {
    "duration": 53,
    "start_time": "2023-05-14T16:04:23.346Z"
   },
   {
    "duration": 13,
    "start_time": "2023-05-14T16:04:23.400Z"
   },
   {
    "duration": 30,
    "start_time": "2023-05-14T16:04:23.415Z"
   },
   {
    "duration": 70,
    "start_time": "2023-05-14T16:04:23.447Z"
   },
   {
    "duration": 245,
    "start_time": "2023-05-14T16:04:23.520Z"
   },
   {
    "duration": 238,
    "start_time": "2023-05-14T16:04:23.767Z"
   },
   {
    "duration": 11,
    "start_time": "2023-05-14T16:04:24.011Z"
   },
   {
    "duration": 12,
    "start_time": "2023-05-14T16:04:24.024Z"
   },
   {
    "duration": 236,
    "start_time": "2023-05-14T16:04:24.038Z"
   },
   {
    "duration": 235,
    "start_time": "2023-05-14T16:04:24.276Z"
   },
   {
    "duration": 13,
    "start_time": "2023-05-14T16:04:24.519Z"
   },
   {
    "duration": 11,
    "start_time": "2023-05-14T16:04:24.536Z"
   },
   {
    "duration": 45,
    "start_time": "2023-05-14T16:04:24.549Z"
   },
   {
    "duration": 796,
    "start_time": "2023-05-14T16:04:53.941Z"
   },
   {
    "duration": 118,
    "start_time": "2023-05-14T16:04:54.739Z"
   },
   {
    "duration": 18,
    "start_time": "2023-05-14T16:04:54.859Z"
   },
   {
    "duration": 101,
    "start_time": "2023-05-14T16:04:54.884Z"
   },
   {
    "duration": 20,
    "start_time": "2023-05-14T16:04:54.989Z"
   },
   {
    "duration": 61,
    "start_time": "2023-05-14T16:04:55.012Z"
   },
   {
    "duration": 16,
    "start_time": "2023-05-14T16:04:55.075Z"
   },
   {
    "duration": 24,
    "start_time": "2023-05-14T16:04:55.092Z"
   },
   {
    "duration": 40,
    "start_time": "2023-05-14T16:04:55.118Z"
   },
   {
    "duration": 22,
    "start_time": "2023-05-14T16:04:55.162Z"
   },
   {
    "duration": 12,
    "start_time": "2023-05-14T16:04:55.186Z"
   },
   {
    "duration": 23,
    "start_time": "2023-05-14T16:04:55.200Z"
   },
   {
    "duration": 11,
    "start_time": "2023-05-14T16:04:55.225Z"
   },
   {
    "duration": 20,
    "start_time": "2023-05-14T16:04:55.238Z"
   },
   {
    "duration": 26,
    "start_time": "2023-05-14T16:04:55.260Z"
   },
   {
    "duration": 7,
    "start_time": "2023-05-14T16:04:55.291Z"
   },
   {
    "duration": 13,
    "start_time": "2023-05-14T16:04:55.300Z"
   },
   {
    "duration": 3,
    "start_time": "2023-05-14T16:04:55.315Z"
   },
   {
    "duration": 22,
    "start_time": "2023-05-14T16:04:55.319Z"
   },
   {
    "duration": 10,
    "start_time": "2023-05-14T16:04:55.343Z"
   },
   {
    "duration": 26,
    "start_time": "2023-05-14T16:04:55.355Z"
   },
   {
    "duration": 203,
    "start_time": "2023-05-14T16:04:55.384Z"
   },
   {
    "duration": 17,
    "start_time": "2023-05-14T16:04:55.590Z"
   },
   {
    "duration": 161,
    "start_time": "2023-05-14T16:04:55.609Z"
   },
   {
    "duration": 15,
    "start_time": "2023-05-14T16:04:55.772Z"
   },
   {
    "duration": 13,
    "start_time": "2023-05-14T16:04:55.791Z"
   },
   {
    "duration": 6,
    "start_time": "2023-05-14T16:04:55.806Z"
   },
   {
    "duration": 197,
    "start_time": "2023-05-14T16:04:55.816Z"
   },
   {
    "duration": 11,
    "start_time": "2023-05-14T16:04:56.015Z"
   },
   {
    "duration": 240,
    "start_time": "2023-05-14T16:04:56.028Z"
   },
   {
    "duration": 13,
    "start_time": "2023-05-14T16:04:56.280Z"
   },
   {
    "duration": 266,
    "start_time": "2023-05-14T16:04:56.295Z"
   },
   {
    "duration": 26,
    "start_time": "2023-05-14T16:04:56.563Z"
   },
   {
    "duration": 44,
    "start_time": "2023-05-14T16:04:56.598Z"
   },
   {
    "duration": 13,
    "start_time": "2023-05-14T16:04:56.644Z"
   },
   {
    "duration": 45,
    "start_time": "2023-05-14T16:04:56.659Z"
   },
   {
    "duration": 27,
    "start_time": "2023-05-14T16:04:56.706Z"
   },
   {
    "duration": 235,
    "start_time": "2023-05-14T16:04:56.734Z"
   },
   {
    "duration": 252,
    "start_time": "2023-05-14T16:04:56.972Z"
   },
   {
    "duration": 14,
    "start_time": "2023-05-14T16:04:57.231Z"
   },
   {
    "duration": 17,
    "start_time": "2023-05-14T16:04:57.247Z"
   },
   {
    "duration": 198,
    "start_time": "2023-05-14T16:04:57.267Z"
   },
   {
    "duration": 207,
    "start_time": "2023-05-14T16:04:57.467Z"
   },
   {
    "duration": 17,
    "start_time": "2023-05-14T16:04:57.678Z"
   },
   {
    "duration": 11,
    "start_time": "2023-05-14T16:04:57.697Z"
   },
   {
    "duration": 39,
    "start_time": "2023-05-14T16:04:57.710Z"
   },
   {
    "duration": 94,
    "start_time": "2023-05-14T16:05:19.597Z"
   },
   {
    "duration": 730,
    "start_time": "2023-05-14T16:05:44.443Z"
   },
   {
    "duration": 117,
    "start_time": "2023-05-14T16:05:45.175Z"
   },
   {
    "duration": 14,
    "start_time": "2023-05-14T16:05:45.297Z"
   },
   {
    "duration": 108,
    "start_time": "2023-05-14T16:05:45.314Z"
   },
   {
    "duration": 16,
    "start_time": "2023-05-14T16:05:45.424Z"
   },
   {
    "duration": 90,
    "start_time": "2023-05-14T16:05:45.442Z"
   },
   {
    "duration": 14,
    "start_time": "2023-05-14T16:05:45.535Z"
   },
   {
    "duration": 28,
    "start_time": "2023-05-14T16:05:45.551Z"
   },
   {
    "duration": 35,
    "start_time": "2023-05-14T16:05:45.582Z"
   },
   {
    "duration": 38,
    "start_time": "2023-05-14T16:05:45.621Z"
   },
   {
    "duration": 16,
    "start_time": "2023-05-14T16:05:45.661Z"
   },
   {
    "duration": 21,
    "start_time": "2023-05-14T16:05:45.682Z"
   },
   {
    "duration": 29,
    "start_time": "2023-05-14T16:05:45.707Z"
   },
   {
    "duration": 8,
    "start_time": "2023-05-14T16:05:45.740Z"
   },
   {
    "duration": 36,
    "start_time": "2023-05-14T16:05:45.750Z"
   },
   {
    "duration": 12,
    "start_time": "2023-05-14T16:05:45.791Z"
   },
   {
    "duration": 33,
    "start_time": "2023-05-14T16:05:45.810Z"
   },
   {
    "duration": 17,
    "start_time": "2023-05-14T16:05:45.845Z"
   },
   {
    "duration": 34,
    "start_time": "2023-05-14T16:05:45.864Z"
   },
   {
    "duration": 6,
    "start_time": "2023-05-14T16:05:45.904Z"
   },
   {
    "duration": 16,
    "start_time": "2023-05-14T16:05:45.915Z"
   },
   {
    "duration": 247,
    "start_time": "2023-05-14T16:05:45.934Z"
   },
   {
    "duration": 8,
    "start_time": "2023-05-14T16:05:46.183Z"
   },
   {
    "duration": 193,
    "start_time": "2023-05-14T16:05:46.193Z"
   },
   {
    "duration": 12,
    "start_time": "2023-05-14T16:05:46.396Z"
   },
   {
    "duration": 34,
    "start_time": "2023-05-14T16:05:46.411Z"
   },
   {
    "duration": 21,
    "start_time": "2023-05-14T16:05:46.447Z"
   },
   {
    "duration": 234,
    "start_time": "2023-05-14T16:05:46.473Z"
   },
   {
    "duration": 11,
    "start_time": "2023-05-14T16:05:46.709Z"
   },
   {
    "duration": 208,
    "start_time": "2023-05-14T16:05:46.723Z"
   },
   {
    "duration": 9,
    "start_time": "2023-05-14T16:05:46.933Z"
   },
   {
    "duration": 270,
    "start_time": "2023-05-14T16:05:46.943Z"
   },
   {
    "duration": 13,
    "start_time": "2023-05-14T16:05:47.215Z"
   },
   {
    "duration": 34,
    "start_time": "2023-05-14T16:05:47.230Z"
   },
   {
    "duration": 16,
    "start_time": "2023-05-14T16:05:47.278Z"
   },
   {
    "duration": 35,
    "start_time": "2023-05-14T16:05:47.295Z"
   },
   {
    "duration": 25,
    "start_time": "2023-05-14T16:05:47.332Z"
   },
   {
    "duration": 228,
    "start_time": "2023-05-14T16:05:47.359Z"
   },
   {
    "duration": 232,
    "start_time": "2023-05-14T16:05:47.589Z"
   },
   {
    "duration": 15,
    "start_time": "2023-05-14T16:05:47.826Z"
   },
   {
    "duration": 13,
    "start_time": "2023-05-14T16:05:47.843Z"
   },
   {
    "duration": 213,
    "start_time": "2023-05-14T16:05:47.859Z"
   },
   {
    "duration": 230,
    "start_time": "2023-05-14T16:05:48.077Z"
   },
   {
    "duration": 16,
    "start_time": "2023-05-14T16:05:48.311Z"
   },
   {
    "duration": 12,
    "start_time": "2023-05-14T16:05:48.329Z"
   },
   {
    "duration": 44,
    "start_time": "2023-05-14T16:05:48.343Z"
   },
   {
    "duration": 73,
    "start_time": "2023-05-14T16:06:03.245Z"
   },
   {
    "duration": 861,
    "start_time": "2023-05-14T16:06:11.374Z"
   },
   {
    "duration": 120,
    "start_time": "2023-05-14T16:06:12.238Z"
   },
   {
    "duration": 14,
    "start_time": "2023-05-14T16:06:12.360Z"
   },
   {
    "duration": 96,
    "start_time": "2023-05-14T16:06:12.380Z"
   },
   {
    "duration": 20,
    "start_time": "2023-05-14T16:06:12.477Z"
   },
   {
    "duration": 67,
    "start_time": "2023-05-14T16:06:12.499Z"
   },
   {
    "duration": 21,
    "start_time": "2023-05-14T16:06:12.568Z"
   },
   {
    "duration": 9,
    "start_time": "2023-05-14T16:06:12.594Z"
   },
   {
    "duration": 14,
    "start_time": "2023-05-14T16:06:12.607Z"
   },
   {
    "duration": 18,
    "start_time": "2023-05-14T16:06:12.624Z"
   },
   {
    "duration": 8,
    "start_time": "2023-05-14T16:06:12.644Z"
   },
   {
    "duration": 31,
    "start_time": "2023-05-14T16:06:12.654Z"
   },
   {
    "duration": 12,
    "start_time": "2023-05-14T16:06:12.687Z"
   },
   {
    "duration": 9,
    "start_time": "2023-05-14T16:06:12.704Z"
   },
   {
    "duration": 10,
    "start_time": "2023-05-14T16:06:12.715Z"
   },
   {
    "duration": 6,
    "start_time": "2023-05-14T16:06:12.727Z"
   },
   {
    "duration": 13,
    "start_time": "2023-05-14T16:06:12.735Z"
   },
   {
    "duration": 37,
    "start_time": "2023-05-14T16:06:12.750Z"
   },
   {
    "duration": 22,
    "start_time": "2023-05-14T16:06:12.798Z"
   },
   {
    "duration": 6,
    "start_time": "2023-05-14T16:06:12.822Z"
   },
   {
    "duration": 6,
    "start_time": "2023-05-14T16:06:12.831Z"
   },
   {
    "duration": 207,
    "start_time": "2023-05-14T16:06:12.839Z"
   },
   {
    "duration": 6,
    "start_time": "2023-05-14T16:06:13.048Z"
   },
   {
    "duration": 170,
    "start_time": "2023-05-14T16:06:13.056Z"
   },
   {
    "duration": 4,
    "start_time": "2023-05-14T16:06:13.228Z"
   },
   {
    "duration": 10,
    "start_time": "2023-05-14T16:06:13.242Z"
   },
   {
    "duration": 6,
    "start_time": "2023-05-14T16:06:13.253Z"
   },
   {
    "duration": 204,
    "start_time": "2023-05-14T16:06:13.277Z"
   },
   {
    "duration": 11,
    "start_time": "2023-05-14T16:06:13.483Z"
   },
   {
    "duration": 228,
    "start_time": "2023-05-14T16:06:13.496Z"
   },
   {
    "duration": 11,
    "start_time": "2023-05-14T16:06:13.727Z"
   },
   {
    "duration": 272,
    "start_time": "2023-05-14T16:06:13.740Z"
   },
   {
    "duration": 14,
    "start_time": "2023-05-14T16:06:14.014Z"
   },
   {
    "duration": 62,
    "start_time": "2023-05-14T16:06:14.033Z"
   },
   {
    "duration": 15,
    "start_time": "2023-05-14T16:06:14.101Z"
   },
   {
    "duration": 27,
    "start_time": "2023-05-14T16:06:14.118Z"
   },
   {
    "duration": 38,
    "start_time": "2023-05-14T16:06:14.147Z"
   },
   {
    "duration": 260,
    "start_time": "2023-05-14T16:06:14.187Z"
   },
   {
    "duration": 230,
    "start_time": "2023-05-14T16:06:14.449Z"
   },
   {
    "duration": 23,
    "start_time": "2023-05-14T16:06:14.684Z"
   },
   {
    "duration": 13,
    "start_time": "2023-05-14T16:06:14.709Z"
   },
   {
    "duration": 189,
    "start_time": "2023-05-14T16:06:14.724Z"
   },
   {
    "duration": 234,
    "start_time": "2023-05-14T16:06:14.916Z"
   },
   {
    "duration": 14,
    "start_time": "2023-05-14T16:06:15.152Z"
   },
   {
    "duration": 12,
    "start_time": "2023-05-14T16:06:15.181Z"
   },
   {
    "duration": 40,
    "start_time": "2023-05-14T16:06:15.195Z"
   },
   {
    "duration": 1201,
    "start_time": "2023-05-14T16:06:15.237Z"
   },
   {
    "duration": 88,
    "start_time": "2023-05-14T16:10:19.417Z"
   },
   {
    "duration": 771,
    "start_time": "2023-05-14T16:10:32.369Z"
   },
   {
    "duration": 113,
    "start_time": "2023-05-14T16:10:33.142Z"
   },
   {
    "duration": 15,
    "start_time": "2023-05-14T16:10:33.257Z"
   },
   {
    "duration": 107,
    "start_time": "2023-05-14T16:10:33.275Z"
   },
   {
    "duration": 19,
    "start_time": "2023-05-14T16:10:33.384Z"
   },
   {
    "duration": 146,
    "start_time": "2023-05-14T16:10:33.407Z"
   },
   {
    "duration": 13,
    "start_time": "2023-05-14T16:10:33.557Z"
   },
   {
    "duration": 18,
    "start_time": "2023-05-14T16:10:33.572Z"
   },
   {
    "duration": 17,
    "start_time": "2023-05-14T16:10:33.597Z"
   },
   {
    "duration": 24,
    "start_time": "2023-05-14T16:10:33.617Z"
   },
   {
    "duration": 9,
    "start_time": "2023-05-14T16:10:33.643Z"
   },
   {
    "duration": 18,
    "start_time": "2023-05-14T16:10:33.654Z"
   },
   {
    "duration": 28,
    "start_time": "2023-05-14T16:10:33.674Z"
   },
   {
    "duration": 10,
    "start_time": "2023-05-14T16:10:33.704Z"
   },
   {
    "duration": 23,
    "start_time": "2023-05-14T16:10:33.716Z"
   },
   {
    "duration": 6,
    "start_time": "2023-05-14T16:10:33.741Z"
   },
   {
    "duration": 19,
    "start_time": "2023-05-14T16:10:33.751Z"
   },
   {
    "duration": 20,
    "start_time": "2023-05-14T16:10:33.772Z"
   },
   {
    "duration": 21,
    "start_time": "2023-05-14T16:10:33.795Z"
   },
   {
    "duration": 13,
    "start_time": "2023-05-14T16:10:33.818Z"
   },
   {
    "duration": 8,
    "start_time": "2023-05-14T16:10:33.833Z"
   },
   {
    "duration": 174,
    "start_time": "2023-05-14T16:10:33.843Z"
   },
   {
    "duration": 9,
    "start_time": "2023-05-14T16:10:34.019Z"
   },
   {
    "duration": 151,
    "start_time": "2023-05-14T16:10:34.030Z"
   },
   {
    "duration": 7,
    "start_time": "2023-05-14T16:10:34.183Z"
   },
   {
    "duration": 21,
    "start_time": "2023-05-14T16:10:34.192Z"
   },
   {
    "duration": 7,
    "start_time": "2023-05-14T16:10:34.215Z"
   },
   {
    "duration": 187,
    "start_time": "2023-05-14T16:10:34.226Z"
   },
   {
    "duration": 12,
    "start_time": "2023-05-14T16:10:34.416Z"
   },
   {
    "duration": 218,
    "start_time": "2023-05-14T16:10:34.430Z"
   },
   {
    "duration": 13,
    "start_time": "2023-05-14T16:10:34.650Z"
   },
   {
    "duration": 253,
    "start_time": "2023-05-14T16:10:34.665Z"
   },
   {
    "duration": 16,
    "start_time": "2023-05-14T16:10:34.921Z"
   },
   {
    "duration": 30,
    "start_time": "2023-05-14T16:10:34.939Z"
   },
   {
    "duration": 19,
    "start_time": "2023-05-14T16:10:34.980Z"
   },
   {
    "duration": 36,
    "start_time": "2023-05-14T16:10:35.001Z"
   },
   {
    "duration": 29,
    "start_time": "2023-05-14T16:10:35.039Z"
   },
   {
    "duration": 258,
    "start_time": "2023-05-14T16:10:35.070Z"
   },
   {
    "duration": 259,
    "start_time": "2023-05-14T16:10:35.330Z"
   },
   {
    "duration": 18,
    "start_time": "2023-05-14T16:10:35.591Z"
   },
   {
    "duration": 23,
    "start_time": "2023-05-14T16:10:35.613Z"
   },
   {
    "duration": 194,
    "start_time": "2023-05-14T16:10:35.642Z"
   },
   {
    "duration": 249,
    "start_time": "2023-05-14T16:10:35.838Z"
   },
   {
    "duration": 11,
    "start_time": "2023-05-14T16:10:36.088Z"
   },
   {
    "duration": 41,
    "start_time": "2023-05-14T16:10:36.101Z"
   },
   {
    "duration": 49,
    "start_time": "2023-05-14T16:10:36.145Z"
   },
   {
    "duration": 149,
    "start_time": "2023-05-14T16:10:36.197Z"
   },
   {
    "duration": 32,
    "start_time": "2023-05-14T16:18:53.964Z"
   },
   {
    "duration": 671,
    "start_time": "2023-05-14T17:26:11.055Z"
   },
   {
    "duration": 35,
    "start_time": "2023-05-14T17:26:11.728Z"
   },
   {
    "duration": 12,
    "start_time": "2023-05-14T17:26:11.765Z"
   },
   {
    "duration": 36,
    "start_time": "2023-05-14T17:26:11.779Z"
   },
   {
    "duration": 11,
    "start_time": "2023-05-14T17:26:11.817Z"
   },
   {
    "duration": 20,
    "start_time": "2023-05-14T17:26:11.831Z"
   },
   {
    "duration": 11,
    "start_time": "2023-05-14T17:26:11.853Z"
   },
   {
    "duration": 12,
    "start_time": "2023-05-14T17:26:11.866Z"
   },
   {
    "duration": 11,
    "start_time": "2023-05-14T17:26:11.880Z"
   },
   {
    "duration": 12,
    "start_time": "2023-05-14T17:26:11.894Z"
   },
   {
    "duration": 7,
    "start_time": "2023-05-14T17:26:11.908Z"
   },
   {
    "duration": 8,
    "start_time": "2023-05-14T17:26:11.916Z"
   },
   {
    "duration": 7,
    "start_time": "2023-05-14T17:26:11.926Z"
   },
   {
    "duration": 47,
    "start_time": "2023-05-14T17:26:11.935Z"
   },
   {
    "duration": 8,
    "start_time": "2023-05-14T17:26:11.984Z"
   },
   {
    "duration": 5,
    "start_time": "2023-05-14T17:26:11.994Z"
   },
   {
    "duration": 12,
    "start_time": "2023-05-14T17:26:12.001Z"
   },
   {
    "duration": 11,
    "start_time": "2023-05-14T17:26:12.015Z"
   },
   {
    "duration": 31,
    "start_time": "2023-05-14T17:26:12.028Z"
   },
   {
    "duration": 19,
    "start_time": "2023-05-14T17:26:12.060Z"
   },
   {
    "duration": 13,
    "start_time": "2023-05-14T17:26:12.081Z"
   },
   {
    "duration": 148,
    "start_time": "2023-05-14T17:26:12.097Z"
   },
   {
    "duration": 6,
    "start_time": "2023-05-14T17:26:12.246Z"
   },
   {
    "duration": 138,
    "start_time": "2023-05-14T17:26:12.254Z"
   },
   {
    "duration": 4,
    "start_time": "2023-05-14T17:26:12.394Z"
   },
   {
    "duration": 13,
    "start_time": "2023-05-14T17:26:12.400Z"
   },
   {
    "duration": 22,
    "start_time": "2023-05-14T17:26:12.415Z"
   },
   {
    "duration": 148,
    "start_time": "2023-05-14T17:26:12.440Z"
   },
   {
    "duration": 8,
    "start_time": "2023-05-14T17:26:12.590Z"
   },
   {
    "duration": 169,
    "start_time": "2023-05-14T17:26:12.599Z"
   },
   {
    "duration": 14,
    "start_time": "2023-05-14T17:26:12.770Z"
   },
   {
    "duration": 218,
    "start_time": "2023-05-14T17:26:12.786Z"
   },
   {
    "duration": 10,
    "start_time": "2023-05-14T17:26:13.007Z"
   },
   {
    "duration": 39,
    "start_time": "2023-05-14T17:26:13.019Z"
   },
   {
    "duration": 23,
    "start_time": "2023-05-14T17:26:13.060Z"
   },
   {
    "duration": 19,
    "start_time": "2023-05-14T17:26:13.085Z"
   },
   {
    "duration": 24,
    "start_time": "2023-05-14T17:26:13.106Z"
   },
   {
    "duration": 171,
    "start_time": "2023-05-14T17:26:13.132Z"
   },
   {
    "duration": 162,
    "start_time": "2023-05-14T17:26:13.304Z"
   },
   {
    "duration": 13,
    "start_time": "2023-05-14T17:26:13.467Z"
   },
   {
    "duration": 16,
    "start_time": "2023-05-14T17:26:13.481Z"
   },
   {
    "duration": 149,
    "start_time": "2023-05-14T17:26:13.498Z"
   },
   {
    "duration": 157,
    "start_time": "2023-05-14T17:26:13.648Z"
   },
   {
    "duration": 10,
    "start_time": "2023-05-14T17:26:13.807Z"
   },
   {
    "duration": 22,
    "start_time": "2023-05-14T17:26:13.819Z"
   },
   {
    "duration": 1093,
    "start_time": "2023-05-14T17:26:13.843Z"
   },
   {
    "duration": 0,
    "start_time": "2023-05-14T17:26:14.938Z"
   },
   {
    "duration": 1099,
    "start_time": "2023-05-14T17:27:04.363Z"
   },
   {
    "duration": 909,
    "start_time": "2023-05-14T17:28:20.472Z"
   },
   {
    "duration": 945,
    "start_time": "2023-05-14T17:28:33.981Z"
   },
   {
    "duration": 25,
    "start_time": "2023-05-14T17:28:59.249Z"
   },
   {
    "duration": 19,
    "start_time": "2023-05-14T17:34:39.953Z"
   },
   {
    "duration": 29,
    "start_time": "2023-05-14T17:35:20.675Z"
   },
   {
    "duration": 16,
    "start_time": "2023-05-14T17:35:38.648Z"
   },
   {
    "duration": 15,
    "start_time": "2023-05-14T17:35:53.544Z"
   },
   {
    "duration": 23,
    "start_time": "2023-05-14T17:41:39.838Z"
   },
   {
    "duration": 73,
    "start_time": "2023-05-14T17:42:15.729Z"
   },
   {
    "duration": 1150,
    "start_time": "2023-05-14T17:42:35.715Z"
   },
   {
    "duration": 23,
    "start_time": "2023-05-14T17:42:57.935Z"
   },
   {
    "duration": 922,
    "start_time": "2023-05-14T17:57:03.775Z"
   },
   {
    "duration": 830,
    "start_time": "2023-05-14T17:57:09.322Z"
   },
   {
    "duration": 872,
    "start_time": "2023-05-14T17:57:48.012Z"
   },
   {
    "duration": 831,
    "start_time": "2023-05-14T17:58:23.162Z"
   },
   {
    "duration": 846,
    "start_time": "2023-05-14T17:59:10.992Z"
   },
   {
    "duration": 952,
    "start_time": "2023-05-14T18:01:45.846Z"
   },
   {
    "duration": 807,
    "start_time": "2023-05-14T18:08:39.606Z"
   },
   {
    "duration": 33,
    "start_time": "2023-05-14T18:08:58.706Z"
   },
   {
    "duration": 10,
    "start_time": "2023-05-14T18:26:18.966Z"
   },
   {
    "duration": 25,
    "start_time": "2023-05-14T18:26:51.617Z"
   },
   {
    "duration": 655,
    "start_time": "2023-05-14T18:27:06.540Z"
   },
   {
    "duration": 36,
    "start_time": "2023-05-14T18:27:07.197Z"
   },
   {
    "duration": 12,
    "start_time": "2023-05-14T18:27:07.235Z"
   },
   {
    "duration": 48,
    "start_time": "2023-05-14T18:27:07.249Z"
   },
   {
    "duration": 12,
    "start_time": "2023-05-14T18:27:07.299Z"
   },
   {
    "duration": 21,
    "start_time": "2023-05-14T18:27:07.313Z"
   },
   {
    "duration": 17,
    "start_time": "2023-05-14T18:27:07.335Z"
   },
   {
    "duration": 21,
    "start_time": "2023-05-14T18:27:07.354Z"
   },
   {
    "duration": 21,
    "start_time": "2023-05-14T18:27:07.377Z"
   },
   {
    "duration": 16,
    "start_time": "2023-05-14T18:27:07.401Z"
   },
   {
    "duration": 9,
    "start_time": "2023-05-14T18:27:07.419Z"
   },
   {
    "duration": 37,
    "start_time": "2023-05-14T18:27:07.431Z"
   },
   {
    "duration": 8,
    "start_time": "2023-05-14T18:27:07.470Z"
   },
   {
    "duration": 21,
    "start_time": "2023-05-14T18:27:07.480Z"
   },
   {
    "duration": 9,
    "start_time": "2023-05-14T18:27:07.503Z"
   },
   {
    "duration": 6,
    "start_time": "2023-05-14T18:27:07.515Z"
   },
   {
    "duration": 15,
    "start_time": "2023-05-14T18:27:07.523Z"
   },
   {
    "duration": 4,
    "start_time": "2023-05-14T18:27:07.540Z"
   },
   {
    "duration": 43,
    "start_time": "2023-05-14T18:27:07.546Z"
   },
   {
    "duration": 11,
    "start_time": "2023-05-14T18:27:07.592Z"
   },
   {
    "duration": 7,
    "start_time": "2023-05-14T18:27:07.606Z"
   },
   {
    "duration": 197,
    "start_time": "2023-05-14T18:27:07.614Z"
   },
   {
    "duration": 7,
    "start_time": "2023-05-14T18:27:07.813Z"
   },
   {
    "duration": 134,
    "start_time": "2023-05-14T18:27:07.821Z"
   },
   {
    "duration": 4,
    "start_time": "2023-05-14T18:27:07.956Z"
   },
   {
    "duration": 25,
    "start_time": "2023-05-14T18:27:07.962Z"
   },
   {
    "duration": 17,
    "start_time": "2023-05-14T18:27:07.993Z"
   },
   {
    "duration": 149,
    "start_time": "2023-05-14T18:27:08.013Z"
   },
   {
    "duration": 32,
    "start_time": "2023-05-14T18:27:08.163Z"
   },
   {
    "duration": 168,
    "start_time": "2023-05-14T18:27:08.196Z"
   },
   {
    "duration": 8,
    "start_time": "2023-05-14T18:27:08.366Z"
   },
   {
    "duration": 223,
    "start_time": "2023-05-14T18:27:08.375Z"
   },
   {
    "duration": 14,
    "start_time": "2023-05-14T18:27:08.600Z"
   },
   {
    "duration": 33,
    "start_time": "2023-05-14T18:27:08.616Z"
   },
   {
    "duration": 36,
    "start_time": "2023-05-14T18:27:08.651Z"
   },
   {
    "duration": 20,
    "start_time": "2023-05-14T18:27:08.689Z"
   },
   {
    "duration": 17,
    "start_time": "2023-05-14T18:27:08.710Z"
   },
   {
    "duration": 190,
    "start_time": "2023-05-14T18:27:08.729Z"
   },
   {
    "duration": 195,
    "start_time": "2023-05-14T18:27:08.921Z"
   },
   {
    "duration": 9,
    "start_time": "2023-05-14T18:27:09.117Z"
   },
   {
    "duration": 12,
    "start_time": "2023-05-14T18:27:09.128Z"
   },
   {
    "duration": 165,
    "start_time": "2023-05-14T18:27:09.142Z"
   },
   {
    "duration": 180,
    "start_time": "2023-05-14T18:27:09.308Z"
   },
   {
    "duration": 11,
    "start_time": "2023-05-14T18:27:09.490Z"
   },
   {
    "duration": 24,
    "start_time": "2023-05-14T18:27:09.503Z"
   },
   {
    "duration": 43,
    "start_time": "2023-05-14T18:27:09.529Z"
   },
   {
    "duration": 878,
    "start_time": "2023-05-14T18:27:09.573Z"
   },
   {
    "duration": 40,
    "start_time": "2023-05-14T18:27:10.453Z"
   },
   {
    "duration": 100,
    "start_time": "2023-05-14T18:27:10.494Z"
   },
   {
    "duration": 17,
    "start_time": "2023-05-14T18:27:17.699Z"
   },
   {
    "duration": 47,
    "start_time": "2023-05-14T18:28:27.538Z"
   },
   {
    "duration": 23,
    "start_time": "2023-05-14T18:28:52.136Z"
   },
   {
    "duration": 28,
    "start_time": "2023-05-14T18:30:06.992Z"
   },
   {
    "duration": 36,
    "start_time": "2023-05-14T18:30:29.938Z"
   },
   {
    "duration": 12,
    "start_time": "2023-05-14T18:45:11.702Z"
   },
   {
    "duration": 32,
    "start_time": "2023-05-14T18:45:20.677Z"
   },
   {
    "duration": 62,
    "start_time": "2023-05-15T03:58:11.999Z"
   },
   {
    "duration": 9,
    "start_time": "2023-05-15T03:58:42.213Z"
   },
   {
    "duration": 10,
    "start_time": "2023-05-15T04:01:12.502Z"
   },
   {
    "duration": 1707,
    "start_time": "2023-05-15T04:01:22.937Z"
   },
   {
    "duration": 109,
    "start_time": "2023-05-15T04:01:24.647Z"
   },
   {
    "duration": 27,
    "start_time": "2023-05-15T04:01:24.759Z"
   },
   {
    "duration": 279,
    "start_time": "2023-05-15T04:01:24.799Z"
   },
   {
    "duration": 19,
    "start_time": "2023-05-15T04:01:25.080Z"
   },
   {
    "duration": 103,
    "start_time": "2023-05-15T04:01:25.104Z"
   },
   {
    "duration": 19,
    "start_time": "2023-05-15T04:01:25.209Z"
   },
   {
    "duration": 12,
    "start_time": "2023-05-15T04:01:25.231Z"
   },
   {
    "duration": 20,
    "start_time": "2023-05-15T04:01:25.246Z"
   },
   {
    "duration": 20,
    "start_time": "2023-05-15T04:01:25.270Z"
   },
   {
    "duration": 28,
    "start_time": "2023-05-15T04:01:25.293Z"
   },
   {
    "duration": 18,
    "start_time": "2023-05-15T04:01:25.324Z"
   },
   {
    "duration": 9,
    "start_time": "2023-05-15T04:01:25.344Z"
   },
   {
    "duration": 28,
    "start_time": "2023-05-15T04:01:25.355Z"
   },
   {
    "duration": 32,
    "start_time": "2023-05-15T04:01:25.385Z"
   },
   {
    "duration": 9,
    "start_time": "2023-05-15T04:01:25.420Z"
   },
   {
    "duration": 20,
    "start_time": "2023-05-15T04:01:25.431Z"
   },
   {
    "duration": 6,
    "start_time": "2023-05-15T04:01:25.453Z"
   },
   {
    "duration": 22,
    "start_time": "2023-05-15T04:01:25.462Z"
   },
   {
    "duration": 24,
    "start_time": "2023-05-15T04:01:25.489Z"
   },
   {
    "duration": 13,
    "start_time": "2023-05-15T04:01:25.516Z"
   },
   {
    "duration": 239,
    "start_time": "2023-05-15T04:01:25.531Z"
   },
   {
    "duration": 22,
    "start_time": "2023-05-15T04:01:25.779Z"
   },
   {
    "duration": 237,
    "start_time": "2023-05-15T04:01:25.804Z"
   },
   {
    "duration": 6,
    "start_time": "2023-05-15T04:01:26.044Z"
   },
   {
    "duration": 28,
    "start_time": "2023-05-15T04:01:26.053Z"
   },
   {
    "duration": 54,
    "start_time": "2023-05-15T04:01:26.084Z"
   },
   {
    "duration": 240,
    "start_time": "2023-05-15T04:01:26.144Z"
   },
   {
    "duration": 14,
    "start_time": "2023-05-15T04:01:26.390Z"
   },
   {
    "duration": 304,
    "start_time": "2023-05-15T04:01:26.407Z"
   },
   {
    "duration": 12,
    "start_time": "2023-05-15T04:01:26.716Z"
   },
   {
    "duration": 258,
    "start_time": "2023-05-15T04:01:26.731Z"
   },
   {
    "duration": 23,
    "start_time": "2023-05-15T04:01:26.991Z"
   },
   {
    "duration": 46,
    "start_time": "2023-05-15T04:01:27.016Z"
   },
   {
    "duration": 24,
    "start_time": "2023-05-15T04:01:27.064Z"
   },
   {
    "duration": 44,
    "start_time": "2023-05-15T04:01:27.090Z"
   },
   {
    "duration": 47,
    "start_time": "2023-05-15T04:01:27.137Z"
   },
   {
    "duration": 238,
    "start_time": "2023-05-15T04:01:27.188Z"
   },
   {
    "duration": 217,
    "start_time": "2023-05-15T04:01:27.428Z"
   },
   {
    "duration": 12,
    "start_time": "2023-05-15T04:01:27.647Z"
   },
   {
    "duration": 27,
    "start_time": "2023-05-15T04:01:27.662Z"
   },
   {
    "duration": 200,
    "start_time": "2023-05-15T04:01:27.693Z"
   },
   {
    "duration": 244,
    "start_time": "2023-05-15T04:01:27.896Z"
   },
   {
    "duration": 12,
    "start_time": "2023-05-15T04:01:28.143Z"
   },
   {
    "duration": 28,
    "start_time": "2023-05-15T04:01:28.158Z"
   },
   {
    "duration": 61,
    "start_time": "2023-05-15T04:01:28.189Z"
   },
   {
    "duration": 1662,
    "start_time": "2023-05-15T04:01:28.254Z"
   },
   {
    "duration": 37,
    "start_time": "2023-05-15T04:01:29.919Z"
   },
   {
    "duration": 50,
    "start_time": "2023-05-15T04:01:29.958Z"
   },
   {
    "duration": 116,
    "start_time": "2023-05-15T05:21:50.177Z"
   },
   {
    "duration": 1298,
    "start_time": "2023-05-15T05:22:01.089Z"
   },
   {
    "duration": 51,
    "start_time": "2023-05-15T05:22:02.391Z"
   },
   {
    "duration": 26,
    "start_time": "2023-05-15T05:22:02.444Z"
   },
   {
    "duration": 82,
    "start_time": "2023-05-15T05:22:02.473Z"
   },
   {
    "duration": 14,
    "start_time": "2023-05-15T05:22:02.557Z"
   },
   {
    "duration": 85,
    "start_time": "2023-05-15T05:22:02.573Z"
   },
   {
    "duration": 163,
    "start_time": "2023-05-15T05:22:02.660Z"
   },
   {
    "duration": 94,
    "start_time": "2023-05-15T05:22:02.825Z"
   },
   {
    "duration": 31,
    "start_time": "2023-05-15T05:22:02.922Z"
   },
   {
    "duration": 26,
    "start_time": "2023-05-15T05:22:02.957Z"
   },
   {
    "duration": 10,
    "start_time": "2023-05-15T05:22:02.991Z"
   },
   {
    "duration": 13,
    "start_time": "2023-05-15T05:22:03.003Z"
   },
   {
    "duration": 129,
    "start_time": "2023-05-15T05:22:03.018Z"
   },
   {
    "duration": 145,
    "start_time": "2023-05-15T05:22:03.149Z"
   },
   {
    "duration": 25,
    "start_time": "2023-05-15T05:22:03.296Z"
   },
   {
    "duration": 19,
    "start_time": "2023-05-15T05:22:03.323Z"
   },
   {
    "duration": 22,
    "start_time": "2023-05-15T05:22:03.344Z"
   },
   {
    "duration": 27,
    "start_time": "2023-05-15T05:22:03.368Z"
   },
   {
    "duration": 31,
    "start_time": "2023-05-15T05:22:03.398Z"
   },
   {
    "duration": 68,
    "start_time": "2023-05-15T05:22:03.432Z"
   },
   {
    "duration": 71,
    "start_time": "2023-05-15T05:22:03.503Z"
   },
   {
    "duration": 497,
    "start_time": "2023-05-15T05:22:03.578Z"
   },
   {
    "duration": 11,
    "start_time": "2023-05-15T05:22:04.081Z"
   },
   {
    "duration": 545,
    "start_time": "2023-05-15T05:22:04.094Z"
   },
   {
    "duration": 5,
    "start_time": "2023-05-15T05:22:04.641Z"
   },
   {
    "duration": 30,
    "start_time": "2023-05-15T05:22:04.648Z"
   },
   {
    "duration": 16,
    "start_time": "2023-05-15T05:22:04.682Z"
   },
   {
    "duration": 189,
    "start_time": "2023-05-15T05:22:04.704Z"
   },
   {
    "duration": 12,
    "start_time": "2023-05-15T05:22:04.895Z"
   },
   {
    "duration": 193,
    "start_time": "2023-05-15T05:22:04.909Z"
   },
   {
    "duration": 9,
    "start_time": "2023-05-15T05:22:05.104Z"
   },
   {
    "duration": 183,
    "start_time": "2023-05-15T05:22:05.115Z"
   },
   {
    "duration": 13,
    "start_time": "2023-05-15T05:22:05.300Z"
   },
   {
    "duration": 34,
    "start_time": "2023-05-15T05:22:05.316Z"
   },
   {
    "duration": 36,
    "start_time": "2023-05-15T05:22:05.351Z"
   },
   {
    "duration": 40,
    "start_time": "2023-05-15T05:22:05.393Z"
   },
   {
    "duration": 57,
    "start_time": "2023-05-15T05:22:05.435Z"
   },
   {
    "duration": 216,
    "start_time": "2023-05-15T05:22:05.494Z"
   },
   {
    "duration": 275,
    "start_time": "2023-05-15T05:22:05.713Z"
   },
   {
    "duration": 17,
    "start_time": "2023-05-15T05:22:05.997Z"
   },
   {
    "duration": 22,
    "start_time": "2023-05-15T05:22:06.016Z"
   },
   {
    "duration": 210,
    "start_time": "2023-05-15T05:22:06.041Z"
   },
   {
    "duration": 196,
    "start_time": "2023-05-15T05:22:06.254Z"
   },
   {
    "duration": 26,
    "start_time": "2023-05-15T05:22:06.453Z"
   },
   {
    "duration": 18,
    "start_time": "2023-05-15T05:22:06.488Z"
   },
   {
    "duration": 49,
    "start_time": "2023-05-15T05:22:06.508Z"
   },
   {
    "duration": 1124,
    "start_time": "2023-05-15T05:22:06.559Z"
   },
   {
    "duration": 47,
    "start_time": "2023-05-15T05:22:07.686Z"
   },
   {
    "duration": 44,
    "start_time": "2023-05-15T05:22:07.735Z"
   },
   {
    "duration": 160,
    "start_time": "2023-05-15T05:22:07.782Z"
   },
   {
    "duration": 21,
    "start_time": "2023-05-15T05:23:09.482Z"
   },
   {
    "duration": 25,
    "start_time": "2023-05-15T05:23:39.702Z"
   },
   {
    "duration": 1280,
    "start_time": "2023-05-15T05:23:50.147Z"
   },
   {
    "duration": 51,
    "start_time": "2023-05-15T05:23:51.429Z"
   },
   {
    "duration": 12,
    "start_time": "2023-05-15T05:23:51.484Z"
   },
   {
    "duration": 43,
    "start_time": "2023-05-15T05:23:51.499Z"
   },
   {
    "duration": 17,
    "start_time": "2023-05-15T05:23:51.544Z"
   },
   {
    "duration": 59,
    "start_time": "2023-05-15T05:23:51.563Z"
   },
   {
    "duration": 21,
    "start_time": "2023-05-15T05:23:51.624Z"
   },
   {
    "duration": 41,
    "start_time": "2023-05-15T05:23:51.648Z"
   },
   {
    "duration": 65,
    "start_time": "2023-05-15T05:23:51.691Z"
   },
   {
    "duration": 29,
    "start_time": "2023-05-15T05:23:51.759Z"
   },
   {
    "duration": 14,
    "start_time": "2023-05-15T05:23:51.791Z"
   },
   {
    "duration": 17,
    "start_time": "2023-05-15T05:23:51.808Z"
   },
   {
    "duration": 8,
    "start_time": "2023-05-15T05:23:51.827Z"
   },
   {
    "duration": 19,
    "start_time": "2023-05-15T05:23:51.837Z"
   },
   {
    "duration": 24,
    "start_time": "2023-05-15T05:23:51.858Z"
   },
   {
    "duration": 42,
    "start_time": "2023-05-15T05:23:51.884Z"
   },
   {
    "duration": 38,
    "start_time": "2023-05-15T05:23:51.928Z"
   },
   {
    "duration": 30,
    "start_time": "2023-05-15T05:23:51.969Z"
   },
   {
    "duration": 26,
    "start_time": "2023-05-15T05:23:52.002Z"
   },
   {
    "duration": 22,
    "start_time": "2023-05-15T05:23:52.031Z"
   },
   {
    "duration": 34,
    "start_time": "2023-05-15T05:23:52.055Z"
   },
   {
    "duration": 203,
    "start_time": "2023-05-15T05:23:52.091Z"
   },
   {
    "duration": 8,
    "start_time": "2023-05-15T05:23:52.297Z"
   },
   {
    "duration": 193,
    "start_time": "2023-05-15T05:23:52.308Z"
   },
   {
    "duration": 4,
    "start_time": "2023-05-15T05:23:52.506Z"
   },
   {
    "duration": 37,
    "start_time": "2023-05-15T05:23:52.513Z"
   },
   {
    "duration": 21,
    "start_time": "2023-05-15T05:23:52.553Z"
   },
   {
    "duration": 234,
    "start_time": "2023-05-15T05:23:52.578Z"
   },
   {
    "duration": 11,
    "start_time": "2023-05-15T05:23:52.814Z"
   },
   {
    "duration": 251,
    "start_time": "2023-05-15T05:23:52.828Z"
   },
   {
    "duration": 13,
    "start_time": "2023-05-15T05:23:53.081Z"
   },
   {
    "duration": 260,
    "start_time": "2023-05-15T05:23:53.096Z"
   },
   {
    "duration": 26,
    "start_time": "2023-05-15T05:23:53.358Z"
   },
   {
    "duration": 68,
    "start_time": "2023-05-15T05:23:53.386Z"
   },
   {
    "duration": 15,
    "start_time": "2023-05-15T05:23:53.457Z"
   },
   {
    "duration": 43,
    "start_time": "2023-05-15T05:23:53.476Z"
   },
   {
    "duration": 66,
    "start_time": "2023-05-15T05:23:53.521Z"
   },
   {
    "duration": 204,
    "start_time": "2023-05-15T05:23:53.589Z"
   },
   {
    "duration": 188,
    "start_time": "2023-05-15T05:23:53.796Z"
   },
   {
    "duration": 11,
    "start_time": "2023-05-15T05:23:53.991Z"
   },
   {
    "duration": 11,
    "start_time": "2023-05-15T05:23:54.004Z"
   },
   {
    "duration": 187,
    "start_time": "2023-05-15T05:23:54.018Z"
   },
   {
    "duration": 207,
    "start_time": "2023-05-15T05:23:54.207Z"
   },
   {
    "duration": 11,
    "start_time": "2023-05-15T05:23:54.417Z"
   },
   {
    "duration": 12,
    "start_time": "2023-05-15T05:23:54.430Z"
   },
   {
    "duration": 52,
    "start_time": "2023-05-15T05:23:54.445Z"
   },
   {
    "duration": 1078,
    "start_time": "2023-05-15T05:23:54.499Z"
   },
   {
    "duration": 42,
    "start_time": "2023-05-15T05:23:55.584Z"
   },
   {
    "duration": 30,
    "start_time": "2023-05-15T05:23:55.629Z"
   },
   {
    "duration": 147,
    "start_time": "2023-05-15T05:23:55.661Z"
   },
   {
    "duration": 9,
    "start_time": "2023-05-15T05:31:05.816Z"
   },
   {
    "duration": 10,
    "start_time": "2023-05-15T05:31:24.729Z"
   },
   {
    "duration": 7,
    "start_time": "2023-05-15T05:31:47.897Z"
   },
   {
    "duration": 8,
    "start_time": "2023-05-15T05:31:57.475Z"
   },
   {
    "duration": 7,
    "start_time": "2023-05-15T05:32:05.049Z"
   },
   {
    "duration": 45,
    "start_time": "2023-05-15T16:00:48.409Z"
   },
   {
    "duration": 1278,
    "start_time": "2023-05-15T16:00:53.293Z"
   },
   {
    "duration": 108,
    "start_time": "2023-05-15T16:00:54.573Z"
   },
   {
    "duration": 12,
    "start_time": "2023-05-15T16:00:54.684Z"
   },
   {
    "duration": 396,
    "start_time": "2023-05-15T16:00:54.698Z"
   },
   {
    "duration": 10,
    "start_time": "2023-05-15T16:00:55.095Z"
   },
   {
    "duration": 61,
    "start_time": "2023-05-15T16:00:55.106Z"
   },
   {
    "duration": 16,
    "start_time": "2023-05-15T16:00:55.169Z"
   },
   {
    "duration": 7,
    "start_time": "2023-05-15T16:00:55.192Z"
   },
   {
    "duration": 11,
    "start_time": "2023-05-15T16:00:55.201Z"
   },
   {
    "duration": 12,
    "start_time": "2023-05-15T16:00:55.214Z"
   },
   {
    "duration": 5,
    "start_time": "2023-05-15T16:00:55.228Z"
   },
   {
    "duration": 9,
    "start_time": "2023-05-15T16:00:55.235Z"
   },
   {
    "duration": 5,
    "start_time": "2023-05-15T16:00:55.246Z"
   },
   {
    "duration": 12,
    "start_time": "2023-05-15T16:00:55.275Z"
   },
   {
    "duration": 7,
    "start_time": "2023-05-15T16:00:55.289Z"
   },
   {
    "duration": 6,
    "start_time": "2023-05-15T16:00:55.298Z"
   },
   {
    "duration": 8,
    "start_time": "2023-05-15T16:00:55.305Z"
   },
   {
    "duration": 5,
    "start_time": "2023-05-15T16:00:55.315Z"
   },
   {
    "duration": 14,
    "start_time": "2023-05-15T16:00:55.321Z"
   },
   {
    "duration": 10,
    "start_time": "2023-05-15T16:00:55.337Z"
   },
   {
    "duration": 39,
    "start_time": "2023-05-15T16:00:55.348Z"
   },
   {
    "duration": 147,
    "start_time": "2023-05-15T16:00:55.389Z"
   },
   {
    "duration": 5,
    "start_time": "2023-05-15T16:00:55.537Z"
   },
   {
    "duration": 118,
    "start_time": "2023-05-15T16:00:55.544Z"
   },
   {
    "duration": 15,
    "start_time": "2023-05-15T16:00:55.663Z"
   },
   {
    "duration": 15,
    "start_time": "2023-05-15T16:00:55.679Z"
   },
   {
    "duration": 6,
    "start_time": "2023-05-15T16:00:55.695Z"
   },
   {
    "duration": 131,
    "start_time": "2023-05-15T16:00:55.704Z"
   },
   {
    "duration": 8,
    "start_time": "2023-05-15T16:00:55.836Z"
   },
   {
    "duration": 158,
    "start_time": "2023-05-15T16:00:55.846Z"
   },
   {
    "duration": 8,
    "start_time": "2023-05-15T16:00:56.005Z"
   },
   {
    "duration": 132,
    "start_time": "2023-05-15T16:00:56.014Z"
   },
   {
    "duration": 10,
    "start_time": "2023-05-15T16:00:56.147Z"
   },
   {
    "duration": 36,
    "start_time": "2023-05-15T16:00:56.158Z"
   },
   {
    "duration": 9,
    "start_time": "2023-05-15T16:00:56.195Z"
   },
   {
    "duration": 15,
    "start_time": "2023-05-15T16:00:56.205Z"
   },
   {
    "duration": 15,
    "start_time": "2023-05-15T16:00:56.222Z"
   },
   {
    "duration": 172,
    "start_time": "2023-05-15T16:00:56.239Z"
   },
   {
    "duration": 147,
    "start_time": "2023-05-15T16:00:56.413Z"
   },
   {
    "duration": 29,
    "start_time": "2023-05-15T16:00:56.562Z"
   },
   {
    "duration": 9,
    "start_time": "2023-05-15T16:00:56.592Z"
   },
   {
    "duration": 129,
    "start_time": "2023-05-15T16:00:56.602Z"
   },
   {
    "duration": 134,
    "start_time": "2023-05-15T16:00:56.732Z"
   },
   {
    "duration": 10,
    "start_time": "2023-05-15T16:00:56.874Z"
   },
   {
    "duration": 9,
    "start_time": "2023-05-15T16:00:56.885Z"
   },
   {
    "duration": 21,
    "start_time": "2023-05-15T16:00:56.896Z"
   },
   {
    "duration": 891,
    "start_time": "2023-05-15T16:00:56.918Z"
   },
   {
    "duration": 22,
    "start_time": "2023-05-15T16:00:57.811Z"
   },
   {
    "duration": 116,
    "start_time": "2023-05-15T16:00:57.834Z"
   },
   {
    "duration": 9,
    "start_time": "2023-05-15T16:01:13.351Z"
   },
   {
    "duration": 6,
    "start_time": "2023-05-15T16:01:49.451Z"
   },
   {
    "duration": 7,
    "start_time": "2023-05-15T16:01:52.385Z"
   },
   {
    "duration": 7,
    "start_time": "2023-05-15T16:02:03.782Z"
   },
   {
    "duration": 7,
    "start_time": "2023-05-15T16:02:08.195Z"
   },
   {
    "duration": 7,
    "start_time": "2023-05-15T16:02:24.731Z"
   },
   {
    "duration": 5,
    "start_time": "2023-05-15T16:02:33.459Z"
   },
   {
    "duration": 6,
    "start_time": "2023-05-15T16:03:31.857Z"
   },
   {
    "duration": 60,
    "start_time": "2023-05-15T16:30:32.393Z"
   },
   {
    "duration": 1290,
    "start_time": "2023-05-15T16:30:41.672Z"
   },
   {
    "duration": 49,
    "start_time": "2023-05-15T16:30:42.963Z"
   },
   {
    "duration": 10,
    "start_time": "2023-05-15T16:30:43.014Z"
   },
   {
    "duration": 60,
    "start_time": "2023-05-15T16:30:43.026Z"
   },
   {
    "duration": 15,
    "start_time": "2023-05-15T16:30:43.091Z"
   },
   {
    "duration": 20,
    "start_time": "2023-05-15T16:30:43.107Z"
   },
   {
    "duration": 10,
    "start_time": "2023-05-15T16:30:43.129Z"
   },
   {
    "duration": 15,
    "start_time": "2023-05-15T16:30:43.141Z"
   },
   {
    "duration": 29,
    "start_time": "2023-05-15T16:30:43.158Z"
   },
   {
    "duration": 20,
    "start_time": "2023-05-15T16:30:43.190Z"
   },
   {
    "duration": 7,
    "start_time": "2023-05-15T16:30:43.212Z"
   },
   {
    "duration": 16,
    "start_time": "2023-05-15T16:30:43.221Z"
   },
   {
    "duration": 11,
    "start_time": "2023-05-15T16:30:43.239Z"
   },
   {
    "duration": 6,
    "start_time": "2023-05-15T16:30:43.253Z"
   },
   {
    "duration": 33,
    "start_time": "2023-05-15T16:30:43.260Z"
   },
   {
    "duration": 16,
    "start_time": "2023-05-15T16:30:43.295Z"
   },
   {
    "duration": 25,
    "start_time": "2023-05-15T16:30:43.313Z"
   },
   {
    "duration": 12,
    "start_time": "2023-05-15T16:30:43.340Z"
   },
   {
    "duration": 14,
    "start_time": "2023-05-15T16:30:43.353Z"
   },
   {
    "duration": 21,
    "start_time": "2023-05-15T16:30:43.369Z"
   },
   {
    "duration": 7,
    "start_time": "2023-05-15T16:30:43.393Z"
   },
   {
    "duration": 184,
    "start_time": "2023-05-15T16:30:43.402Z"
   },
   {
    "duration": 8,
    "start_time": "2023-05-15T16:30:43.589Z"
   },
   {
    "duration": 156,
    "start_time": "2023-05-15T16:30:43.599Z"
   },
   {
    "duration": 4,
    "start_time": "2023-05-15T16:30:43.757Z"
   },
   {
    "duration": 32,
    "start_time": "2023-05-15T16:30:43.763Z"
   },
   {
    "duration": 5,
    "start_time": "2023-05-15T16:30:43.797Z"
   },
   {
    "duration": 190,
    "start_time": "2023-05-15T16:30:43.804Z"
   },
   {
    "duration": 12,
    "start_time": "2023-05-15T16:30:43.997Z"
   },
   {
    "duration": 240,
    "start_time": "2023-05-15T16:30:44.010Z"
   },
   {
    "duration": 12,
    "start_time": "2023-05-15T16:30:44.252Z"
   },
   {
    "duration": 191,
    "start_time": "2023-05-15T16:30:44.281Z"
   },
   {
    "duration": 27,
    "start_time": "2023-05-15T16:30:44.473Z"
   },
   {
    "duration": 23,
    "start_time": "2023-05-15T16:30:44.502Z"
   },
   {
    "duration": 8,
    "start_time": "2023-05-15T16:30:44.527Z"
   },
   {
    "duration": 18,
    "start_time": "2023-05-15T16:30:44.537Z"
   },
   {
    "duration": 48,
    "start_time": "2023-05-15T16:30:44.556Z"
   },
   {
    "duration": 161,
    "start_time": "2023-05-15T16:30:44.606Z"
   },
   {
    "duration": 177,
    "start_time": "2023-05-15T16:30:44.769Z"
   },
   {
    "duration": 11,
    "start_time": "2023-05-15T16:30:44.948Z"
   },
   {
    "duration": 26,
    "start_time": "2023-05-15T16:30:44.962Z"
   },
   {
    "duration": 156,
    "start_time": "2023-05-15T16:30:44.990Z"
   },
   {
    "duration": 189,
    "start_time": "2023-05-15T16:30:45.148Z"
   },
   {
    "duration": 9,
    "start_time": "2023-05-15T16:30:45.339Z"
   },
   {
    "duration": 9,
    "start_time": "2023-05-15T16:30:45.350Z"
   },
   {
    "duration": 47,
    "start_time": "2023-05-15T16:30:45.360Z"
   },
   {
    "duration": 933,
    "start_time": "2023-05-15T16:30:45.409Z"
   },
   {
    "duration": 21,
    "start_time": "2023-05-15T16:30:46.343Z"
   },
   {
    "duration": 4,
    "start_time": "2023-05-15T16:30:46.366Z"
   },
   {
    "duration": 5,
    "start_time": "2023-05-15T16:30:46.385Z"
   },
   {
    "duration": 6,
    "start_time": "2023-05-15T16:30:55.689Z"
   },
   {
    "duration": 5,
    "start_time": "2023-05-15T16:31:01.560Z"
   },
   {
    "duration": 6,
    "start_time": "2023-05-15T16:31:53.187Z"
   },
   {
    "duration": 5,
    "start_time": "2023-05-15T16:39:28.167Z"
   },
   {
    "duration": 71,
    "start_time": "2023-05-15T16:44:08.017Z"
   },
   {
    "duration": 50,
    "start_time": "2023-05-15T18:10:53.793Z"
   },
   {
    "duration": 1420,
    "start_time": "2023-05-15T18:11:03.899Z"
   },
   {
    "duration": 116,
    "start_time": "2023-05-15T18:11:05.321Z"
   },
   {
    "duration": 10,
    "start_time": "2023-05-15T18:11:05.438Z"
   },
   {
    "duration": 477,
    "start_time": "2023-05-15T18:11:05.450Z"
   },
   {
    "duration": 11,
    "start_time": "2023-05-15T18:11:05.928Z"
   },
   {
    "duration": 81,
    "start_time": "2023-05-15T18:11:05.941Z"
   },
   {
    "duration": 10,
    "start_time": "2023-05-15T18:11:06.024Z"
   },
   {
    "duration": 8,
    "start_time": "2023-05-15T18:11:06.036Z"
   },
   {
    "duration": 12,
    "start_time": "2023-05-15T18:11:06.046Z"
   },
   {
    "duration": 17,
    "start_time": "2023-05-15T18:11:06.061Z"
   },
   {
    "duration": 5,
    "start_time": "2023-05-15T18:11:06.080Z"
   },
   {
    "duration": 8,
    "start_time": "2023-05-15T18:11:06.086Z"
   },
   {
    "duration": 6,
    "start_time": "2023-05-15T18:11:06.095Z"
   },
   {
    "duration": 6,
    "start_time": "2023-05-15T18:11:06.102Z"
   },
   {
    "duration": 8,
    "start_time": "2023-05-15T18:11:06.110Z"
   },
   {
    "duration": 7,
    "start_time": "2023-05-15T18:11:06.152Z"
   },
   {
    "duration": 10,
    "start_time": "2023-05-15T18:11:06.161Z"
   },
   {
    "duration": 10,
    "start_time": "2023-05-15T18:11:06.172Z"
   },
   {
    "duration": 12,
    "start_time": "2023-05-15T18:11:06.184Z"
   },
   {
    "duration": 33,
    "start_time": "2023-05-15T18:11:06.198Z"
   },
   {
    "duration": 13,
    "start_time": "2023-05-15T18:11:06.232Z"
   },
   {
    "duration": 158,
    "start_time": "2023-05-15T18:11:06.247Z"
   },
   {
    "duration": 6,
    "start_time": "2023-05-15T18:11:06.407Z"
   },
   {
    "duration": 154,
    "start_time": "2023-05-15T18:11:06.415Z"
   },
   {
    "duration": 7,
    "start_time": "2023-05-15T18:11:06.570Z"
   },
   {
    "duration": 12,
    "start_time": "2023-05-15T18:11:06.579Z"
   },
   {
    "duration": 15,
    "start_time": "2023-05-15T18:11:06.593Z"
   },
   {
    "duration": 146,
    "start_time": "2023-05-15T18:11:06.611Z"
   },
   {
    "duration": 9,
    "start_time": "2023-05-15T18:11:06.759Z"
   },
   {
    "duration": 172,
    "start_time": "2023-05-15T18:11:06.770Z"
   },
   {
    "duration": 11,
    "start_time": "2023-05-15T18:11:06.944Z"
   },
   {
    "duration": 148,
    "start_time": "2023-05-15T18:11:06.956Z"
   },
   {
    "duration": 10,
    "start_time": "2023-05-15T18:11:07.106Z"
   },
   {
    "duration": 44,
    "start_time": "2023-05-15T18:11:07.118Z"
   },
   {
    "duration": 11,
    "start_time": "2023-05-15T18:11:07.164Z"
   },
   {
    "duration": 23,
    "start_time": "2023-05-15T18:11:07.179Z"
   },
   {
    "duration": 19,
    "start_time": "2023-05-15T18:11:07.204Z"
   },
   {
    "duration": 192,
    "start_time": "2023-05-15T18:11:07.224Z"
   },
   {
    "duration": 175,
    "start_time": "2023-05-15T18:11:07.418Z"
   },
   {
    "duration": 7,
    "start_time": "2023-05-15T18:11:07.595Z"
   },
   {
    "duration": 7,
    "start_time": "2023-05-15T18:11:07.604Z"
   },
   {
    "duration": 172,
    "start_time": "2023-05-15T18:11:07.613Z"
   },
   {
    "duration": 155,
    "start_time": "2023-05-15T18:11:07.787Z"
   },
   {
    "duration": 13,
    "start_time": "2023-05-15T18:11:07.943Z"
   },
   {
    "duration": 10,
    "start_time": "2023-05-15T18:11:07.958Z"
   },
   {
    "duration": 27,
    "start_time": "2023-05-15T18:11:07.970Z"
   },
   {
    "duration": 1029,
    "start_time": "2023-05-15T18:11:07.999Z"
   },
   {
    "duration": 44,
    "start_time": "2023-05-15T18:11:09.030Z"
   },
   {
    "duration": 6,
    "start_time": "2023-05-15T18:11:09.078Z"
   },
   {
    "duration": 44,
    "start_time": "2023-05-15T18:11:09.086Z"
   },
   {
    "duration": 41,
    "start_time": "2023-05-15T18:11:09.132Z"
   },
   {
    "duration": 8,
    "start_time": "2023-05-15T18:11:15.520Z"
   },
   {
    "duration": 6,
    "start_time": "2023-05-15T18:13:25.173Z"
   },
   {
    "duration": 11,
    "start_time": "2023-05-15T18:13:58.477Z"
   },
   {
    "duration": 10,
    "start_time": "2023-05-15T18:14:12.569Z"
   },
   {
    "duration": 8,
    "start_time": "2023-05-15T18:14:15.606Z"
   },
   {
    "duration": 1156,
    "start_time": "2023-05-15T18:56:47.650Z"
   },
   {
    "duration": 38,
    "start_time": "2023-05-15T18:56:48.808Z"
   },
   {
    "duration": 11,
    "start_time": "2023-05-15T18:56:48.847Z"
   },
   {
    "duration": 37,
    "start_time": "2023-05-15T18:56:48.860Z"
   },
   {
    "duration": 11,
    "start_time": "2023-05-15T18:56:48.899Z"
   },
   {
    "duration": 22,
    "start_time": "2023-05-15T18:56:48.911Z"
   },
   {
    "duration": 10,
    "start_time": "2023-05-15T18:56:48.934Z"
   },
   {
    "duration": 9,
    "start_time": "2023-05-15T18:56:48.946Z"
   },
   {
    "duration": 12,
    "start_time": "2023-05-15T18:56:48.956Z"
   },
   {
    "duration": 13,
    "start_time": "2023-05-15T18:56:48.970Z"
   },
   {
    "duration": 7,
    "start_time": "2023-05-15T18:56:48.985Z"
   },
   {
    "duration": 7,
    "start_time": "2023-05-15T18:56:48.994Z"
   },
   {
    "duration": 6,
    "start_time": "2023-05-15T18:56:49.003Z"
   },
   {
    "duration": 44,
    "start_time": "2023-05-15T18:56:49.011Z"
   },
   {
    "duration": 11,
    "start_time": "2023-05-15T18:56:49.056Z"
   },
   {
    "duration": 5,
    "start_time": "2023-05-15T18:56:49.069Z"
   },
   {
    "duration": 9,
    "start_time": "2023-05-15T18:56:49.075Z"
   },
   {
    "duration": 6,
    "start_time": "2023-05-15T18:56:49.086Z"
   },
   {
    "duration": 31,
    "start_time": "2023-05-15T18:56:49.093Z"
   },
   {
    "duration": 7,
    "start_time": "2023-05-15T18:56:49.126Z"
   },
   {
    "duration": 19,
    "start_time": "2023-05-15T18:56:49.135Z"
   },
   {
    "duration": 153,
    "start_time": "2023-05-15T18:56:49.155Z"
   },
   {
    "duration": 5,
    "start_time": "2023-05-15T18:56:49.309Z"
   },
   {
    "duration": 115,
    "start_time": "2023-05-15T18:56:49.315Z"
   },
   {
    "duration": 4,
    "start_time": "2023-05-15T18:56:49.432Z"
   },
   {
    "duration": 8,
    "start_time": "2023-05-15T18:56:49.450Z"
   },
   {
    "duration": 11,
    "start_time": "2023-05-15T18:56:49.460Z"
   },
   {
    "duration": 146,
    "start_time": "2023-05-15T18:56:49.474Z"
   },
   {
    "duration": 7,
    "start_time": "2023-05-15T18:56:49.622Z"
   },
   {
    "duration": 162,
    "start_time": "2023-05-15T18:56:49.631Z"
   },
   {
    "duration": 8,
    "start_time": "2023-05-15T18:56:49.795Z"
   },
   {
    "duration": 135,
    "start_time": "2023-05-15T18:56:49.805Z"
   },
   {
    "duration": 10,
    "start_time": "2023-05-15T18:56:49.949Z"
   },
   {
    "duration": 24,
    "start_time": "2023-05-15T18:56:49.961Z"
   },
   {
    "duration": 9,
    "start_time": "2023-05-15T18:56:49.987Z"
   },
   {
    "duration": 23,
    "start_time": "2023-05-15T18:56:49.998Z"
   },
   {
    "duration": 42,
    "start_time": "2023-05-15T18:56:50.022Z"
   },
   {
    "duration": 167,
    "start_time": "2023-05-15T18:56:50.065Z"
   },
   {
    "duration": 168,
    "start_time": "2023-05-15T18:56:50.234Z"
   },
   {
    "duration": 7,
    "start_time": "2023-05-15T18:56:50.404Z"
   },
   {
    "duration": 9,
    "start_time": "2023-05-15T18:56:50.412Z"
   },
   {
    "duration": 165,
    "start_time": "2023-05-15T18:56:50.423Z"
   },
   {
    "duration": 152,
    "start_time": "2023-05-15T18:56:50.590Z"
   },
   {
    "duration": 11,
    "start_time": "2023-05-15T18:56:50.744Z"
   },
   {
    "duration": 8,
    "start_time": "2023-05-15T18:56:50.756Z"
   },
   {
    "duration": 22,
    "start_time": "2023-05-15T18:56:50.765Z"
   },
   {
    "duration": 936,
    "start_time": "2023-05-15T18:56:50.789Z"
   },
   {
    "duration": 35,
    "start_time": "2023-05-15T18:56:51.726Z"
   },
   {
    "duration": 5,
    "start_time": "2023-05-15T18:56:51.763Z"
   },
   {
    "duration": 16,
    "start_time": "2023-05-15T18:56:51.769Z"
   },
   {
    "duration": 22,
    "start_time": "2023-05-15T18:56:51.786Z"
   },
   {
    "duration": 5,
    "start_time": "2023-05-15T18:56:51.810Z"
   },
   {
    "duration": 1066,
    "start_time": "2023-05-15T19:48:20.463Z"
   },
   {
    "duration": 54,
    "start_time": "2023-05-15T19:48:21.531Z"
   },
   {
    "duration": 10,
    "start_time": "2023-05-15T19:48:21.587Z"
   },
   {
    "duration": 39,
    "start_time": "2023-05-15T19:48:21.599Z"
   },
   {
    "duration": 9,
    "start_time": "2023-05-15T19:48:21.640Z"
   },
   {
    "duration": 26,
    "start_time": "2023-05-15T19:48:21.659Z"
   },
   {
    "duration": 10,
    "start_time": "2023-05-15T19:48:21.686Z"
   },
   {
    "duration": 7,
    "start_time": "2023-05-15T19:48:21.698Z"
   },
   {
    "duration": 10,
    "start_time": "2023-05-15T19:48:21.707Z"
   },
   {
    "duration": 12,
    "start_time": "2023-05-15T19:48:21.719Z"
   },
   {
    "duration": 5,
    "start_time": "2023-05-15T19:48:21.732Z"
   },
   {
    "duration": 14,
    "start_time": "2023-05-15T19:48:21.750Z"
   },
   {
    "duration": 18,
    "start_time": "2023-05-15T19:48:21.765Z"
   },
   {
    "duration": 5,
    "start_time": "2023-05-15T19:48:21.785Z"
   },
   {
    "duration": 8,
    "start_time": "2023-05-15T19:48:21.792Z"
   },
   {
    "duration": 4,
    "start_time": "2023-05-15T19:48:21.802Z"
   },
   {
    "duration": 8,
    "start_time": "2023-05-15T19:48:21.808Z"
   },
   {
    "duration": 2,
    "start_time": "2023-05-15T19:48:21.818Z"
   },
   {
    "duration": 39,
    "start_time": "2023-05-15T19:48:21.822Z"
   },
   {
    "duration": 15,
    "start_time": "2023-05-15T19:48:21.864Z"
   },
   {
    "duration": 5,
    "start_time": "2023-05-15T19:48:21.886Z"
   },
   {
    "duration": 166,
    "start_time": "2023-05-15T19:48:21.893Z"
   },
   {
    "duration": 10,
    "start_time": "2023-05-15T19:48:22.070Z"
   },
   {
    "duration": 130,
    "start_time": "2023-05-15T19:48:22.082Z"
   },
   {
    "duration": 4,
    "start_time": "2023-05-15T19:48:22.214Z"
   },
   {
    "duration": 9,
    "start_time": "2023-05-15T19:48:22.220Z"
   },
   {
    "duration": 36,
    "start_time": "2023-05-15T19:48:22.231Z"
   },
   {
    "duration": 134,
    "start_time": "2023-05-15T19:48:22.271Z"
   },
   {
    "duration": 7,
    "start_time": "2023-05-15T19:48:22.407Z"
   },
   {
    "duration": 211,
    "start_time": "2023-05-15T19:48:22.416Z"
   },
   {
    "duration": 11,
    "start_time": "2023-05-15T19:48:22.629Z"
   },
   {
    "duration": 170,
    "start_time": "2023-05-15T19:48:22.642Z"
   },
   {
    "duration": 10,
    "start_time": "2023-05-15T19:48:22.814Z"
   },
   {
    "duration": 40,
    "start_time": "2023-05-15T19:48:22.826Z"
   },
   {
    "duration": 17,
    "start_time": "2023-05-15T19:48:22.873Z"
   },
   {
    "duration": 18,
    "start_time": "2023-05-15T19:48:22.892Z"
   },
   {
    "duration": 16,
    "start_time": "2023-05-15T19:48:22.911Z"
   },
   {
    "duration": 198,
    "start_time": "2023-05-15T19:48:22.929Z"
   },
   {
    "duration": 171,
    "start_time": "2023-05-15T19:48:23.129Z"
   },
   {
    "duration": 7,
    "start_time": "2023-05-15T19:48:23.302Z"
   },
   {
    "duration": 6,
    "start_time": "2023-05-15T19:48:23.311Z"
   },
   {
    "duration": 167,
    "start_time": "2023-05-15T19:48:23.319Z"
   },
   {
    "duration": 204,
    "start_time": "2023-05-15T19:48:23.489Z"
   },
   {
    "duration": 9,
    "start_time": "2023-05-15T19:48:23.695Z"
   },
   {
    "duration": 8,
    "start_time": "2023-05-15T19:48:23.706Z"
   },
   {
    "duration": 36,
    "start_time": "2023-05-15T19:48:23.715Z"
   },
   {
    "duration": 1065,
    "start_time": "2023-05-15T19:48:23.755Z"
   },
   {
    "duration": 55,
    "start_time": "2023-05-15T19:48:24.821Z"
   },
   {
    "duration": 5,
    "start_time": "2023-05-15T19:48:24.885Z"
   },
   {
    "duration": 5,
    "start_time": "2023-05-15T19:48:24.892Z"
   },
   {
    "duration": 10,
    "start_time": "2023-05-15T19:48:24.899Z"
   },
   {
    "duration": 6,
    "start_time": "2023-05-15T19:48:24.911Z"
   },
   {
    "duration": 5,
    "start_time": "2023-05-15T20:23:29.383Z"
   },
   {
    "duration": 1254,
    "start_time": "2023-05-15T20:23:43.834Z"
   },
   {
    "duration": 39,
    "start_time": "2023-05-15T20:23:45.090Z"
   },
   {
    "duration": 12,
    "start_time": "2023-05-15T20:23:45.132Z"
   },
   {
    "duration": 172,
    "start_time": "2023-05-15T20:23:45.146Z"
   },
   {
    "duration": 13,
    "start_time": "2023-05-15T20:23:45.319Z"
   },
   {
    "duration": 21,
    "start_time": "2023-05-15T20:23:45.334Z"
   },
   {
    "duration": 21,
    "start_time": "2023-05-15T20:23:45.356Z"
   },
   {
    "duration": 7,
    "start_time": "2023-05-15T20:23:45.380Z"
   },
   {
    "duration": 13,
    "start_time": "2023-05-15T20:23:45.389Z"
   },
   {
    "duration": 13,
    "start_time": "2023-05-15T20:23:45.405Z"
   },
   {
    "duration": 5,
    "start_time": "2023-05-15T20:23:45.420Z"
   },
   {
    "duration": 13,
    "start_time": "2023-05-15T20:23:45.455Z"
   },
   {
    "duration": 13,
    "start_time": "2023-05-15T20:23:45.470Z"
   },
   {
    "duration": 8,
    "start_time": "2023-05-15T20:23:45.485Z"
   },
   {
    "duration": 9,
    "start_time": "2023-05-15T20:23:45.494Z"
   },
   {
    "duration": 5,
    "start_time": "2023-05-15T20:23:45.504Z"
   },
   {
    "duration": 41,
    "start_time": "2023-05-15T20:23:45.512Z"
   },
   {
    "duration": 5,
    "start_time": "2023-05-15T20:23:45.556Z"
   },
   {
    "duration": 14,
    "start_time": "2023-05-15T20:23:45.563Z"
   },
   {
    "duration": 10,
    "start_time": "2023-05-15T20:23:45.579Z"
   },
   {
    "duration": 8,
    "start_time": "2023-05-15T20:23:45.591Z"
   },
   {
    "duration": 166,
    "start_time": "2023-05-15T20:23:45.601Z"
   },
   {
    "duration": 6,
    "start_time": "2023-05-15T20:23:45.769Z"
   },
   {
    "duration": 132,
    "start_time": "2023-05-15T20:23:45.778Z"
   },
   {
    "duration": 4,
    "start_time": "2023-05-15T20:23:45.912Z"
   },
   {
    "duration": 8,
    "start_time": "2023-05-15T20:23:45.917Z"
   },
   {
    "duration": 24,
    "start_time": "2023-05-15T20:23:45.927Z"
   },
   {
    "duration": 139,
    "start_time": "2023-05-15T20:23:45.967Z"
   },
   {
    "duration": 8,
    "start_time": "2023-05-15T20:23:46.107Z"
   },
   {
    "duration": 177,
    "start_time": "2023-05-15T20:23:46.117Z"
   },
   {
    "duration": 8,
    "start_time": "2023-05-15T20:23:46.296Z"
   },
   {
    "duration": 162,
    "start_time": "2023-05-15T20:23:46.306Z"
   },
   {
    "duration": 10,
    "start_time": "2023-05-15T20:23:46.471Z"
   },
   {
    "duration": 30,
    "start_time": "2023-05-15T20:23:46.482Z"
   },
   {
    "duration": 9,
    "start_time": "2023-05-15T20:23:46.513Z"
   },
   {
    "duration": 30,
    "start_time": "2023-05-15T20:23:46.523Z"
   },
   {
    "duration": 32,
    "start_time": "2023-05-15T20:23:46.556Z"
   },
   {
    "duration": 181,
    "start_time": "2023-05-15T20:23:46.590Z"
   },
   {
    "duration": 174,
    "start_time": "2023-05-15T20:23:46.772Z"
   },
   {
    "duration": 18,
    "start_time": "2023-05-15T20:23:46.948Z"
   },
   {
    "duration": 8,
    "start_time": "2023-05-15T20:23:46.968Z"
   },
   {
    "duration": 148,
    "start_time": "2023-05-15T20:23:46.978Z"
   },
   {
    "duration": 151,
    "start_time": "2023-05-15T20:23:47.128Z"
   },
   {
    "duration": 8,
    "start_time": "2023-05-15T20:23:47.281Z"
   },
   {
    "duration": 8,
    "start_time": "2023-05-15T20:23:47.290Z"
   },
   {
    "duration": 27,
    "start_time": "2023-05-15T20:23:47.300Z"
   },
   {
    "duration": 951,
    "start_time": "2023-05-15T20:23:47.328Z"
   },
   {
    "duration": 26,
    "start_time": "2023-05-15T20:23:48.281Z"
   },
   {
    "duration": 6,
    "start_time": "2023-05-15T20:23:48.308Z"
   },
   {
    "duration": 7,
    "start_time": "2023-05-15T20:23:48.315Z"
   },
   {
    "duration": 34,
    "start_time": "2023-05-15T20:23:48.323Z"
   },
   {
    "duration": 10,
    "start_time": "2023-05-15T20:23:48.359Z"
   },
   {
    "duration": 1423,
    "start_time": "2023-05-16T15:23:58.253Z"
   },
   {
    "duration": 79,
    "start_time": "2023-05-16T15:23:59.678Z"
   },
   {
    "duration": 12,
    "start_time": "2023-05-16T15:23:59.759Z"
   },
   {
    "duration": 61,
    "start_time": "2023-05-16T15:23:59.773Z"
   },
   {
    "duration": 16,
    "start_time": "2023-05-16T15:23:59.836Z"
   },
   {
    "duration": 21,
    "start_time": "2023-05-16T15:23:59.854Z"
   },
   {
    "duration": 63,
    "start_time": "2023-05-16T15:23:59.876Z"
   },
   {
    "duration": 14,
    "start_time": "2023-05-16T15:23:59.940Z"
   },
   {
    "duration": 19,
    "start_time": "2023-05-16T15:23:59.957Z"
   },
   {
    "duration": 22,
    "start_time": "2023-05-16T15:23:59.979Z"
   },
   {
    "duration": 12,
    "start_time": "2023-05-16T15:24:00.004Z"
   },
   {
    "duration": 32,
    "start_time": "2023-05-16T15:24:00.019Z"
   },
   {
    "duration": 20,
    "start_time": "2023-05-16T15:24:00.053Z"
   },
   {
    "duration": 51,
    "start_time": "2023-05-16T15:24:00.076Z"
   },
   {
    "duration": 27,
    "start_time": "2023-05-16T15:24:00.138Z"
   },
   {
    "duration": 54,
    "start_time": "2023-05-16T15:24:00.167Z"
   },
   {
    "duration": 19,
    "start_time": "2023-05-16T15:24:00.230Z"
   },
   {
    "duration": 21,
    "start_time": "2023-05-16T15:24:00.253Z"
   },
   {
    "duration": 55,
    "start_time": "2023-05-16T15:24:00.276Z"
   },
   {
    "duration": 28,
    "start_time": "2023-05-16T15:24:00.333Z"
   },
   {
    "duration": 45,
    "start_time": "2023-05-16T15:24:00.363Z"
   },
   {
    "duration": 223,
    "start_time": "2023-05-16T15:24:00.410Z"
   },
   {
    "duration": 13,
    "start_time": "2023-05-16T15:24:00.634Z"
   },
   {
    "duration": 227,
    "start_time": "2023-05-16T15:24:00.648Z"
   },
   {
    "duration": 5,
    "start_time": "2023-05-16T15:24:00.877Z"
   },
   {
    "duration": 36,
    "start_time": "2023-05-16T15:24:00.892Z"
   },
   {
    "duration": 21,
    "start_time": "2023-05-16T15:24:00.930Z"
   },
   {
    "duration": 224,
    "start_time": "2023-05-16T15:24:00.953Z"
   },
   {
    "duration": 16,
    "start_time": "2023-05-16T15:24:01.179Z"
   },
   {
    "duration": 275,
    "start_time": "2023-05-16T15:24:01.197Z"
   },
   {
    "duration": 13,
    "start_time": "2023-05-16T15:24:01.474Z"
   },
   {
    "duration": 214,
    "start_time": "2023-05-16T15:24:01.495Z"
   },
   {
    "duration": 17,
    "start_time": "2023-05-16T15:24:01.712Z"
   },
   {
    "duration": 69,
    "start_time": "2023-05-16T15:24:01.731Z"
   },
   {
    "duration": 17,
    "start_time": "2023-05-16T15:24:01.804Z"
   },
   {
    "duration": 71,
    "start_time": "2023-05-16T15:24:01.823Z"
   },
   {
    "duration": 91,
    "start_time": "2023-05-16T15:24:01.896Z"
   },
   {
    "duration": 307,
    "start_time": "2023-05-16T15:24:01.997Z"
   },
   {
    "duration": 260,
    "start_time": "2023-05-16T15:24:02.311Z"
   },
   {
    "duration": 42,
    "start_time": "2023-05-16T15:24:02.574Z"
   },
   {
    "duration": 21,
    "start_time": "2023-05-16T15:24:02.624Z"
   },
   {
    "duration": 320,
    "start_time": "2023-05-16T15:24:02.648Z"
   },
   {
    "duration": 315,
    "start_time": "2023-05-16T15:24:02.973Z"
   },
   {
    "duration": 11,
    "start_time": "2023-05-16T15:24:03.292Z"
   },
   {
    "duration": 37,
    "start_time": "2023-05-16T15:24:03.305Z"
   },
   {
    "duration": 56,
    "start_time": "2023-05-16T15:24:03.345Z"
   },
   {
    "duration": 1289,
    "start_time": "2023-05-16T15:24:03.403Z"
   },
   {
    "duration": 59,
    "start_time": "2023-05-16T15:24:04.693Z"
   },
   {
    "duration": 11,
    "start_time": "2023-05-16T15:24:04.759Z"
   },
   {
    "duration": 36,
    "start_time": "2023-05-16T15:24:04.773Z"
   },
   {
    "duration": 26,
    "start_time": "2023-05-16T15:24:04.811Z"
   },
   {
    "duration": 11,
    "start_time": "2023-05-16T15:24:04.844Z"
   },
   {
    "duration": 1564,
    "start_time": "2023-05-16T15:41:43.710Z"
   },
   {
    "duration": 74,
    "start_time": "2023-05-16T15:41:45.278Z"
   },
   {
    "duration": 17,
    "start_time": "2023-05-16T15:41:45.354Z"
   },
   {
    "duration": 76,
    "start_time": "2023-05-16T15:41:45.373Z"
   },
   {
    "duration": 14,
    "start_time": "2023-05-16T15:41:45.455Z"
   },
   {
    "duration": 65,
    "start_time": "2023-05-16T15:41:45.471Z"
   },
   {
    "duration": 18,
    "start_time": "2023-05-16T15:41:45.538Z"
   },
   {
    "duration": 9,
    "start_time": "2023-05-16T15:41:45.559Z"
   },
   {
    "duration": 37,
    "start_time": "2023-05-16T15:41:45.569Z"
   },
   {
    "duration": 52,
    "start_time": "2023-05-16T15:41:45.611Z"
   },
   {
    "duration": 8,
    "start_time": "2023-05-16T15:41:45.665Z"
   },
   {
    "duration": 9,
    "start_time": "2023-05-16T15:41:45.675Z"
   },
   {
    "duration": 20,
    "start_time": "2023-05-16T15:41:45.685Z"
   },
   {
    "duration": 40,
    "start_time": "2023-05-16T15:41:45.707Z"
   },
   {
    "duration": 18,
    "start_time": "2023-05-16T15:41:45.752Z"
   },
   {
    "duration": 45,
    "start_time": "2023-05-16T15:41:45.772Z"
   },
   {
    "duration": 25,
    "start_time": "2023-05-16T15:41:45.819Z"
   },
   {
    "duration": 5,
    "start_time": "2023-05-16T15:41:45.846Z"
   },
   {
    "duration": 91,
    "start_time": "2023-05-16T15:41:45.853Z"
   },
   {
    "duration": 13,
    "start_time": "2023-05-16T15:41:45.947Z"
   },
   {
    "duration": 14,
    "start_time": "2023-05-16T15:41:45.962Z"
   },
   {
    "duration": 261,
    "start_time": "2023-05-16T15:41:45.978Z"
   },
   {
    "duration": 15,
    "start_time": "2023-05-16T15:41:46.245Z"
   },
   {
    "duration": 160,
    "start_time": "2023-05-16T15:41:46.263Z"
   },
   {
    "duration": 9,
    "start_time": "2023-05-16T15:41:46.425Z"
   },
   {
    "duration": 31,
    "start_time": "2023-05-16T15:41:46.439Z"
   },
   {
    "duration": 7,
    "start_time": "2023-05-16T15:41:46.478Z"
   },
   {
    "duration": 215,
    "start_time": "2023-05-16T15:41:46.496Z"
   },
   {
    "duration": 18,
    "start_time": "2023-05-16T15:41:46.713Z"
   },
   {
    "duration": 267,
    "start_time": "2023-05-16T15:41:46.733Z"
   },
   {
    "duration": 13,
    "start_time": "2023-05-16T15:41:47.004Z"
   },
   {
    "duration": 204,
    "start_time": "2023-05-16T15:41:47.020Z"
   },
   {
    "duration": 20,
    "start_time": "2023-05-16T15:41:47.230Z"
   },
   {
    "duration": 36,
    "start_time": "2023-05-16T15:41:47.262Z"
   },
   {
    "duration": 19,
    "start_time": "2023-05-16T15:41:47.305Z"
   },
   {
    "duration": 40,
    "start_time": "2023-05-16T15:41:47.331Z"
   },
   {
    "duration": 23,
    "start_time": "2023-05-16T15:41:47.372Z"
   },
   {
    "duration": 219,
    "start_time": "2023-05-16T15:41:47.396Z"
   },
   {
    "duration": 234,
    "start_time": "2023-05-16T15:41:47.621Z"
   },
   {
    "duration": 14,
    "start_time": "2023-05-16T15:41:47.856Z"
   },
   {
    "duration": 27,
    "start_time": "2023-05-16T15:41:47.873Z"
   },
   {
    "duration": 222,
    "start_time": "2023-05-16T15:41:47.903Z"
   },
   {
    "duration": 213,
    "start_time": "2023-05-16T15:41:48.126Z"
   },
   {
    "duration": 15,
    "start_time": "2023-05-16T15:41:48.343Z"
   },
   {
    "duration": 14,
    "start_time": "2023-05-16T15:41:48.364Z"
   },
   {
    "duration": 58,
    "start_time": "2023-05-16T15:41:48.381Z"
   },
   {
    "duration": 1324,
    "start_time": "2023-05-16T15:41:48.442Z"
   },
   {
    "duration": 32,
    "start_time": "2023-05-16T15:41:49.768Z"
   },
   {
    "duration": 16,
    "start_time": "2023-05-16T15:41:49.802Z"
   },
   {
    "duration": 12,
    "start_time": "2023-05-16T15:41:49.822Z"
   },
   {
    "duration": 26,
    "start_time": "2023-05-16T15:41:49.838Z"
   },
   {
    "duration": 9,
    "start_time": "2023-05-16T15:41:49.866Z"
   },
   {
    "duration": 50,
    "start_time": "2023-05-16T16:41:15.485Z"
   },
   {
    "duration": 1380,
    "start_time": "2023-05-16T16:41:22.285Z"
   },
   {
    "duration": 106,
    "start_time": "2023-05-16T16:41:23.667Z"
   },
   {
    "duration": 12,
    "start_time": "2023-05-16T16:41:23.775Z"
   },
   {
    "duration": 98,
    "start_time": "2023-05-16T16:41:23.789Z"
   },
   {
    "duration": 11,
    "start_time": "2023-05-16T16:41:23.890Z"
   },
   {
    "duration": 66,
    "start_time": "2023-05-16T16:41:23.903Z"
   },
   {
    "duration": 10,
    "start_time": "2023-05-16T16:41:23.971Z"
   },
   {
    "duration": 13,
    "start_time": "2023-05-16T16:41:23.983Z"
   },
   {
    "duration": 12,
    "start_time": "2023-05-16T16:41:23.998Z"
   },
   {
    "duration": 16,
    "start_time": "2023-05-16T16:41:24.011Z"
   },
   {
    "duration": 22,
    "start_time": "2023-05-16T16:41:24.029Z"
   },
   {
    "duration": 8,
    "start_time": "2023-05-16T16:41:24.053Z"
   },
   {
    "duration": 16,
    "start_time": "2023-05-16T16:41:24.062Z"
   },
   {
    "duration": 7,
    "start_time": "2023-05-16T16:41:24.083Z"
   },
   {
    "duration": 28,
    "start_time": "2023-05-16T16:41:24.092Z"
   },
   {
    "duration": 42,
    "start_time": "2023-05-16T16:41:24.124Z"
   },
   {
    "duration": 4,
    "start_time": "2023-05-16T16:41:24.168Z"
   },
   {
    "duration": 11,
    "start_time": "2023-05-16T16:41:24.173Z"
   },
   {
    "duration": 2,
    "start_time": "2023-05-16T16:41:24.186Z"
   },
   {
    "duration": 33,
    "start_time": "2023-05-16T16:41:24.190Z"
   },
   {
    "duration": 4,
    "start_time": "2023-05-16T16:41:24.224Z"
   },
   {
    "duration": 10,
    "start_time": "2023-05-16T16:41:24.229Z"
   },
   {
    "duration": 147,
    "start_time": "2023-05-16T16:41:24.241Z"
   },
   {
    "duration": 6,
    "start_time": "2023-05-16T16:41:24.389Z"
   },
   {
    "duration": 143,
    "start_time": "2023-05-16T16:41:24.396Z"
   },
   {
    "duration": 4,
    "start_time": "2023-05-16T16:41:24.541Z"
   },
   {
    "duration": 16,
    "start_time": "2023-05-16T16:41:24.547Z"
   },
   {
    "duration": 14,
    "start_time": "2023-05-16T16:41:24.565Z"
   },
   {
    "duration": 173,
    "start_time": "2023-05-16T16:41:24.581Z"
   },
   {
    "duration": 9,
    "start_time": "2023-05-16T16:41:24.756Z"
   },
   {
    "duration": 151,
    "start_time": "2023-05-16T16:41:24.767Z"
   },
   {
    "duration": 10,
    "start_time": "2023-05-16T16:41:24.920Z"
   },
   {
    "duration": 179,
    "start_time": "2023-05-16T16:41:24.932Z"
   },
   {
    "duration": 13,
    "start_time": "2023-05-16T16:41:25.112Z"
   },
   {
    "duration": 25,
    "start_time": "2023-05-16T16:41:25.126Z"
   },
   {
    "duration": 9,
    "start_time": "2023-05-16T16:41:25.153Z"
   },
   {
    "duration": 18,
    "start_time": "2023-05-16T16:41:25.164Z"
   },
   {
    "duration": 51,
    "start_time": "2023-05-16T16:41:25.183Z"
   },
   {
    "duration": 154,
    "start_time": "2023-05-16T16:41:25.236Z"
   },
   {
    "duration": 147,
    "start_time": "2023-05-16T16:41:25.391Z"
   },
   {
    "duration": 8,
    "start_time": "2023-05-16T16:41:25.541Z"
   },
   {
    "duration": 17,
    "start_time": "2023-05-16T16:41:25.550Z"
   },
   {
    "duration": 167,
    "start_time": "2023-05-16T16:41:25.569Z"
   },
   {
    "duration": 144,
    "start_time": "2023-05-16T16:41:25.738Z"
   },
   {
    "duration": 9,
    "start_time": "2023-05-16T16:41:25.883Z"
   },
   {
    "duration": 9,
    "start_time": "2023-05-16T16:41:25.894Z"
   },
   {
    "duration": 31,
    "start_time": "2023-05-16T16:41:25.917Z"
   },
   {
    "duration": 878,
    "start_time": "2023-05-16T16:41:25.949Z"
   },
   {
    "duration": 20,
    "start_time": "2023-05-16T16:41:26.828Z"
   },
   {
    "duration": 4,
    "start_time": "2023-05-16T16:41:26.850Z"
   },
   {
    "duration": 7,
    "start_time": "2023-05-16T16:41:26.856Z"
   },
   {
    "duration": 11,
    "start_time": "2023-05-16T16:41:26.865Z"
   },
   {
    "duration": 12,
    "start_time": "2023-05-16T16:41:26.877Z"
   },
   {
    "duration": 5,
    "start_time": "2023-05-16T16:42:57.845Z"
   },
   {
    "duration": 4,
    "start_time": "2023-05-16T16:43:17.835Z"
   },
   {
    "duration": 79,
    "start_time": "2023-05-16T18:23:14.201Z"
   },
   {
    "duration": 1481,
    "start_time": "2023-05-16T18:23:21.548Z"
   },
   {
    "duration": 181,
    "start_time": "2023-05-16T18:23:23.031Z"
   },
   {
    "duration": 15,
    "start_time": "2023-05-16T18:23:23.214Z"
   },
   {
    "duration": 268,
    "start_time": "2023-05-16T18:23:23.233Z"
   },
   {
    "duration": 13,
    "start_time": "2023-05-16T18:23:23.509Z"
   },
   {
    "duration": 95,
    "start_time": "2023-05-16T18:23:23.524Z"
   },
   {
    "duration": 12,
    "start_time": "2023-05-16T18:23:23.622Z"
   },
   {
    "duration": 8,
    "start_time": "2023-05-16T18:23:23.636Z"
   },
   {
    "duration": 48,
    "start_time": "2023-05-16T18:23:23.646Z"
   },
   {
    "duration": 19,
    "start_time": "2023-05-16T18:23:23.700Z"
   },
   {
    "duration": 7,
    "start_time": "2023-05-16T18:23:23.722Z"
   },
   {
    "duration": 6,
    "start_time": "2023-05-16T18:23:23.732Z"
   },
   {
    "duration": 11,
    "start_time": "2023-05-16T18:23:23.741Z"
   },
   {
    "duration": 25,
    "start_time": "2023-05-16T18:23:23.754Z"
   },
   {
    "duration": 11,
    "start_time": "2023-05-16T18:23:23.781Z"
   },
   {
    "duration": 10,
    "start_time": "2023-05-16T18:23:23.807Z"
   },
   {
    "duration": 11,
    "start_time": "2023-05-16T18:23:23.820Z"
   },
   {
    "duration": 6,
    "start_time": "2023-05-16T18:23:23.833Z"
   },
   {
    "duration": 24,
    "start_time": "2023-05-16T18:23:23.841Z"
   },
   {
    "duration": 11,
    "start_time": "2023-05-16T18:23:23.866Z"
   },
   {
    "duration": 19,
    "start_time": "2023-05-16T18:23:23.880Z"
   },
   {
    "duration": 6,
    "start_time": "2023-05-16T18:23:23.909Z"
   },
   {
    "duration": 8,
    "start_time": "2023-05-16T18:23:23.917Z"
   },
   {
    "duration": 255,
    "start_time": "2023-05-16T18:23:23.927Z"
   },
   {
    "duration": 15,
    "start_time": "2023-05-16T18:23:24.190Z"
   },
   {
    "duration": 160,
    "start_time": "2023-05-16T18:23:24.215Z"
   },
   {
    "duration": 5,
    "start_time": "2023-05-16T18:23:24.377Z"
   },
   {
    "duration": 25,
    "start_time": "2023-05-16T18:23:24.388Z"
   },
   {
    "duration": 6,
    "start_time": "2023-05-16T18:23:24.419Z"
   },
   {
    "duration": 163,
    "start_time": "2023-05-16T18:23:24.427Z"
   },
   {
    "duration": 16,
    "start_time": "2023-05-16T18:23:24.592Z"
   },
   {
    "duration": 176,
    "start_time": "2023-05-16T18:23:24.609Z"
   },
   {
    "duration": 11,
    "start_time": "2023-05-16T18:23:24.787Z"
   },
   {
    "duration": 206,
    "start_time": "2023-05-16T18:23:24.800Z"
   },
   {
    "duration": 11,
    "start_time": "2023-05-16T18:23:25.008Z"
   },
   {
    "duration": 26,
    "start_time": "2023-05-16T18:23:25.020Z"
   },
   {
    "duration": 20,
    "start_time": "2023-05-16T18:23:25.047Z"
   },
   {
    "duration": 32,
    "start_time": "2023-05-16T18:23:25.069Z"
   },
   {
    "duration": 26,
    "start_time": "2023-05-16T18:23:25.104Z"
   },
   {
    "duration": 195,
    "start_time": "2023-05-16T18:23:25.132Z"
   },
   {
    "duration": 202,
    "start_time": "2023-05-16T18:23:25.329Z"
   },
   {
    "duration": 10,
    "start_time": "2023-05-16T18:23:25.533Z"
   },
   {
    "duration": 42,
    "start_time": "2023-05-16T18:23:25.545Z"
   },
   {
    "duration": 179,
    "start_time": "2023-05-16T18:23:25.598Z"
   },
   {
    "duration": 177,
    "start_time": "2023-05-16T18:23:25.779Z"
   },
   {
    "duration": 8,
    "start_time": "2023-05-16T18:23:25.961Z"
   },
   {
    "duration": 13,
    "start_time": "2023-05-16T18:23:25.971Z"
   },
   {
    "duration": 38,
    "start_time": "2023-05-16T18:23:25.986Z"
   },
   {
    "duration": 1227,
    "start_time": "2023-05-16T18:23:26.026Z"
   },
   {
    "duration": 37,
    "start_time": "2023-05-16T18:23:27.266Z"
   },
   {
    "duration": 10,
    "start_time": "2023-05-16T18:23:27.305Z"
   },
   {
    "duration": 21,
    "start_time": "2023-05-16T18:23:27.317Z"
   },
   {
    "duration": 13,
    "start_time": "2023-05-16T18:23:27.341Z"
   },
   {
    "duration": 8,
    "start_time": "2023-05-16T18:23:27.356Z"
   },
   {
    "duration": 176,
    "start_time": "2023-05-16T19:06:46.221Z"
   },
   {
    "duration": 183,
    "start_time": "2023-05-16T19:07:29.732Z"
   },
   {
    "duration": 284,
    "start_time": "2023-05-16T19:13:45.189Z"
   },
   {
    "duration": 182,
    "start_time": "2023-05-16T19:14:09.814Z"
   },
   {
    "duration": 415,
    "start_time": "2023-05-16T19:14:35.059Z"
   },
   {
    "duration": 210,
    "start_time": "2023-05-16T19:19:12.510Z"
   },
   {
    "duration": 265,
    "start_time": "2023-05-16T19:19:25.097Z"
   },
   {
    "duration": 46,
    "start_time": "2023-05-16T19:19:57.856Z"
   },
   {
    "duration": 13,
    "start_time": "2023-05-16T19:20:03.434Z"
   },
   {
    "duration": 232,
    "start_time": "2023-05-16T19:20:12.232Z"
   },
   {
    "duration": 195,
    "start_time": "2023-05-16T19:20:35.357Z"
   },
   {
    "duration": 20,
    "start_time": "2023-05-16T19:36:10.010Z"
   },
   {
    "duration": 20,
    "start_time": "2023-05-16T19:36:24.525Z"
   },
   {
    "duration": 3185,
    "start_time": "2023-05-16T19:36:38.509Z"
   },
   {
    "duration": 3210,
    "start_time": "2023-05-16T19:37:53.927Z"
   },
   {
    "duration": 15,
    "start_time": "2023-05-16T19:39:05.104Z"
   },
   {
    "duration": 3078,
    "start_time": "2023-05-16T19:39:18.496Z"
   },
   {
    "duration": 2712,
    "start_time": "2023-05-16T19:39:45.137Z"
   },
   {
    "duration": 3262,
    "start_time": "2023-05-16T19:40:01.832Z"
   },
   {
    "duration": 26,
    "start_time": "2023-05-16T19:42:23.792Z"
   },
   {
    "duration": 2924,
    "start_time": "2023-05-16T19:42:30.585Z"
   },
   {
    "duration": 203,
    "start_time": "2023-05-16T19:42:47.195Z"
   },
   {
    "duration": 14,
    "start_time": "2023-05-16T19:42:56.917Z"
   },
   {
    "duration": 1173,
    "start_time": "2023-05-16T19:43:05.975Z"
   },
   {
    "duration": 66,
    "start_time": "2023-05-16T19:43:07.151Z"
   },
   {
    "duration": 15,
    "start_time": "2023-05-16T19:43:07.219Z"
   },
   {
    "duration": 79,
    "start_time": "2023-05-16T19:43:07.236Z"
   },
   {
    "duration": 12,
    "start_time": "2023-05-16T19:43:07.316Z"
   },
   {
    "duration": 31,
    "start_time": "2023-05-16T19:43:07.330Z"
   },
   {
    "duration": 14,
    "start_time": "2023-05-16T19:43:07.370Z"
   },
   {
    "duration": 12,
    "start_time": "2023-05-16T19:43:07.386Z"
   },
   {
    "duration": 10,
    "start_time": "2023-05-16T19:43:07.400Z"
   },
   {
    "duration": 15,
    "start_time": "2023-05-16T19:43:07.413Z"
   },
   {
    "duration": 5,
    "start_time": "2023-05-16T19:43:07.430Z"
   },
   {
    "duration": 33,
    "start_time": "2023-05-16T19:43:07.436Z"
   },
   {
    "duration": 10,
    "start_time": "2023-05-16T19:43:07.478Z"
   },
   {
    "duration": 13,
    "start_time": "2023-05-16T19:43:07.489Z"
   },
   {
    "duration": 14,
    "start_time": "2023-05-16T19:43:07.505Z"
   },
   {
    "duration": 12,
    "start_time": "2023-05-16T19:43:07.521Z"
   },
   {
    "duration": 14,
    "start_time": "2023-05-16T19:43:07.535Z"
   },
   {
    "duration": 23,
    "start_time": "2023-05-16T19:43:07.551Z"
   },
   {
    "duration": 18,
    "start_time": "2023-05-16T19:43:07.575Z"
   },
   {
    "duration": 6,
    "start_time": "2023-05-16T19:43:07.594Z"
   },
   {
    "duration": 12,
    "start_time": "2023-05-16T19:43:07.602Z"
   },
   {
    "duration": 16,
    "start_time": "2023-05-16T19:43:07.616Z"
   },
   {
    "duration": 6,
    "start_time": "2023-05-16T19:43:07.634Z"
   },
   {
    "duration": 128,
    "start_time": "2023-05-16T19:43:07.642Z"
   },
   {
    "duration": 0,
    "start_time": "2023-05-16T19:43:07.776Z"
   },
   {
    "duration": 0,
    "start_time": "2023-05-16T19:43:07.776Z"
   },
   {
    "duration": 0,
    "start_time": "2023-05-16T19:43:07.777Z"
   },
   {
    "duration": 0,
    "start_time": "2023-05-16T19:43:07.780Z"
   },
   {
    "duration": 0,
    "start_time": "2023-05-16T19:43:07.781Z"
   },
   {
    "duration": 0,
    "start_time": "2023-05-16T19:43:07.782Z"
   },
   {
    "duration": 0,
    "start_time": "2023-05-16T19:43:07.783Z"
   },
   {
    "duration": 0,
    "start_time": "2023-05-16T19:43:07.790Z"
   },
   {
    "duration": 0,
    "start_time": "2023-05-16T19:43:07.791Z"
   },
   {
    "duration": 0,
    "start_time": "2023-05-16T19:43:07.793Z"
   },
   {
    "duration": 0,
    "start_time": "2023-05-16T19:43:07.794Z"
   },
   {
    "duration": 0,
    "start_time": "2023-05-16T19:43:07.795Z"
   },
   {
    "duration": 0,
    "start_time": "2023-05-16T19:43:07.796Z"
   },
   {
    "duration": 0,
    "start_time": "2023-05-16T19:43:07.797Z"
   },
   {
    "duration": 0,
    "start_time": "2023-05-16T19:43:07.798Z"
   },
   {
    "duration": 1,
    "start_time": "2023-05-16T19:43:07.798Z"
   },
   {
    "duration": 0,
    "start_time": "2023-05-16T19:43:07.800Z"
   },
   {
    "duration": 0,
    "start_time": "2023-05-16T19:43:07.802Z"
   },
   {
    "duration": 0,
    "start_time": "2023-05-16T19:43:07.804Z"
   },
   {
    "duration": 0,
    "start_time": "2023-05-16T19:43:07.805Z"
   },
   {
    "duration": 0,
    "start_time": "2023-05-16T19:43:07.805Z"
   },
   {
    "duration": 0,
    "start_time": "2023-05-16T19:43:07.807Z"
   },
   {
    "duration": 0,
    "start_time": "2023-05-16T19:43:07.808Z"
   },
   {
    "duration": 0,
    "start_time": "2023-05-16T19:43:07.809Z"
   },
   {
    "duration": 0,
    "start_time": "2023-05-16T19:43:07.810Z"
   },
   {
    "duration": 0,
    "start_time": "2023-05-16T19:43:07.812Z"
   },
   {
    "duration": 0,
    "start_time": "2023-05-16T19:43:07.814Z"
   },
   {
    "duration": 0,
    "start_time": "2023-05-16T19:43:07.815Z"
   },
   {
    "duration": 0,
    "start_time": "2023-05-16T19:43:07.816Z"
   },
   {
    "duration": 0,
    "start_time": "2023-05-16T19:43:07.818Z"
   },
   {
    "duration": 2404,
    "start_time": "2023-05-16T19:43:23.600Z"
   },
   {
    "duration": 19,
    "start_time": "2023-05-16T19:44:05.053Z"
   },
   {
    "duration": 1288,
    "start_time": "2023-05-16T19:44:11.106Z"
   },
   {
    "duration": 44,
    "start_time": "2023-05-16T19:44:12.395Z"
   },
   {
    "duration": 13,
    "start_time": "2023-05-16T19:44:12.441Z"
   },
   {
    "duration": 61,
    "start_time": "2023-05-16T19:44:12.457Z"
   },
   {
    "duration": 17,
    "start_time": "2023-05-16T19:44:12.520Z"
   },
   {
    "duration": 56,
    "start_time": "2023-05-16T19:44:12.539Z"
   },
   {
    "duration": 12,
    "start_time": "2023-05-16T19:44:12.597Z"
   },
   {
    "duration": 7,
    "start_time": "2023-05-16T19:44:12.611Z"
   },
   {
    "duration": 13,
    "start_time": "2023-05-16T19:44:12.620Z"
   },
   {
    "duration": 22,
    "start_time": "2023-05-16T19:44:12.636Z"
   },
   {
    "duration": 22,
    "start_time": "2023-05-16T19:44:12.663Z"
   },
   {
    "duration": 11,
    "start_time": "2023-05-16T19:44:12.698Z"
   },
   {
    "duration": 7,
    "start_time": "2023-05-16T19:44:12.711Z"
   },
   {
    "duration": 9,
    "start_time": "2023-05-16T19:44:12.720Z"
   },
   {
    "duration": 7,
    "start_time": "2023-05-16T19:44:12.732Z"
   },
   {
    "duration": 7,
    "start_time": "2023-05-16T19:44:12.741Z"
   },
   {
    "duration": 12,
    "start_time": "2023-05-16T19:44:12.756Z"
   },
   {
    "duration": 20,
    "start_time": "2023-05-16T19:44:12.769Z"
   },
   {
    "duration": 16,
    "start_time": "2023-05-16T19:44:12.791Z"
   },
   {
    "duration": 4,
    "start_time": "2023-05-16T19:44:12.809Z"
   },
   {
    "duration": 15,
    "start_time": "2023-05-16T19:44:12.815Z"
   },
   {
    "duration": 8,
    "start_time": "2023-05-16T19:44:12.832Z"
   },
   {
    "duration": 10,
    "start_time": "2023-05-16T19:44:12.858Z"
   },
   {
    "duration": 156,
    "start_time": "2023-05-16T19:44:12.870Z"
   },
   {
    "duration": 0,
    "start_time": "2023-05-16T19:44:13.030Z"
   },
   {
    "duration": 0,
    "start_time": "2023-05-16T19:44:13.031Z"
   },
   {
    "duration": 0,
    "start_time": "2023-05-16T19:44:13.033Z"
   },
   {
    "duration": 0,
    "start_time": "2023-05-16T19:44:13.035Z"
   },
   {
    "duration": 0,
    "start_time": "2023-05-16T19:44:13.036Z"
   },
   {
    "duration": 0,
    "start_time": "2023-05-16T19:44:13.038Z"
   },
   {
    "duration": 0,
    "start_time": "2023-05-16T19:44:13.039Z"
   },
   {
    "duration": 0,
    "start_time": "2023-05-16T19:44:13.041Z"
   },
   {
    "duration": 0,
    "start_time": "2023-05-16T19:44:13.059Z"
   },
   {
    "duration": 0,
    "start_time": "2023-05-16T19:44:13.059Z"
   },
   {
    "duration": 0,
    "start_time": "2023-05-16T19:44:13.060Z"
   },
   {
    "duration": 0,
    "start_time": "2023-05-16T19:44:13.060Z"
   },
   {
    "duration": 0,
    "start_time": "2023-05-16T19:44:13.061Z"
   },
   {
    "duration": 0,
    "start_time": "2023-05-16T19:44:13.064Z"
   },
   {
    "duration": 0,
    "start_time": "2023-05-16T19:44:13.064Z"
   },
   {
    "duration": 0,
    "start_time": "2023-05-16T19:44:13.065Z"
   },
   {
    "duration": 0,
    "start_time": "2023-05-16T19:44:13.066Z"
   },
   {
    "duration": 0,
    "start_time": "2023-05-16T19:44:13.067Z"
   },
   {
    "duration": 0,
    "start_time": "2023-05-16T19:44:13.067Z"
   },
   {
    "duration": 0,
    "start_time": "2023-05-16T19:44:13.068Z"
   },
   {
    "duration": 0,
    "start_time": "2023-05-16T19:44:13.070Z"
   },
   {
    "duration": 0,
    "start_time": "2023-05-16T19:44:13.071Z"
   },
   {
    "duration": 0,
    "start_time": "2023-05-16T19:44:13.072Z"
   },
   {
    "duration": 0,
    "start_time": "2023-05-16T19:44:13.072Z"
   },
   {
    "duration": 0,
    "start_time": "2023-05-16T19:44:13.073Z"
   },
   {
    "duration": 0,
    "start_time": "2023-05-16T19:44:13.076Z"
   },
   {
    "duration": 0,
    "start_time": "2023-05-16T19:44:13.077Z"
   },
   {
    "duration": 1,
    "start_time": "2023-05-16T19:44:13.081Z"
   },
   {
    "duration": 0,
    "start_time": "2023-05-16T19:44:13.083Z"
   },
   {
    "duration": 0,
    "start_time": "2023-05-16T19:44:13.085Z"
   },
   {
    "duration": 2528,
    "start_time": "2023-05-16T19:44:32.998Z"
   },
   {
    "duration": 12,
    "start_time": "2023-05-16T19:44:49.439Z"
   },
   {
    "duration": 17,
    "start_time": "2023-05-16T19:45:48.790Z"
   },
   {
    "duration": 9,
    "start_time": "2023-05-16T19:45:56.692Z"
   },
   {
    "duration": 10,
    "start_time": "2023-05-16T19:46:31.305Z"
   },
   {
    "duration": 1170,
    "start_time": "2023-05-16T19:46:41.838Z"
   },
   {
    "duration": 55,
    "start_time": "2023-05-16T19:46:43.015Z"
   },
   {
    "duration": 18,
    "start_time": "2023-05-16T19:46:43.072Z"
   },
   {
    "duration": 51,
    "start_time": "2023-05-16T19:46:43.092Z"
   },
   {
    "duration": 22,
    "start_time": "2023-05-16T19:46:43.146Z"
   },
   {
    "duration": 33,
    "start_time": "2023-05-16T19:46:43.173Z"
   },
   {
    "duration": 10,
    "start_time": "2023-05-16T19:46:43.208Z"
   },
   {
    "duration": 10,
    "start_time": "2023-05-16T19:46:43.220Z"
   },
   {
    "duration": 14,
    "start_time": "2023-05-16T19:46:43.231Z"
   },
   {
    "duration": 24,
    "start_time": "2023-05-16T19:46:43.247Z"
   },
   {
    "duration": 5,
    "start_time": "2023-05-16T19:46:43.274Z"
   },
   {
    "duration": 19,
    "start_time": "2023-05-16T19:46:43.281Z"
   },
   {
    "duration": 20,
    "start_time": "2023-05-16T19:46:43.302Z"
   },
   {
    "duration": 10,
    "start_time": "2023-05-16T19:46:43.325Z"
   },
   {
    "duration": 8,
    "start_time": "2023-05-16T19:46:43.337Z"
   },
   {
    "duration": 22,
    "start_time": "2023-05-16T19:46:43.347Z"
   },
   {
    "duration": 14,
    "start_time": "2023-05-16T19:46:43.371Z"
   },
   {
    "duration": 9,
    "start_time": "2023-05-16T19:46:43.387Z"
   },
   {
    "duration": 10,
    "start_time": "2023-05-16T19:46:43.397Z"
   },
   {
    "duration": 4,
    "start_time": "2023-05-16T19:46:43.408Z"
   },
   {
    "duration": 16,
    "start_time": "2023-05-16T19:46:43.414Z"
   },
   {
    "duration": 6,
    "start_time": "2023-05-16T19:46:43.431Z"
   },
   {
    "duration": 30,
    "start_time": "2023-05-16T19:46:43.438Z"
   },
   {
    "duration": 137,
    "start_time": "2023-05-16T19:46:43.471Z"
   },
   {
    "duration": 0,
    "start_time": "2023-05-16T19:46:43.611Z"
   },
   {
    "duration": 0,
    "start_time": "2023-05-16T19:46:43.613Z"
   },
   {
    "duration": 0,
    "start_time": "2023-05-16T19:46:43.614Z"
   },
   {
    "duration": 0,
    "start_time": "2023-05-16T19:46:43.615Z"
   },
   {
    "duration": 0,
    "start_time": "2023-05-16T19:46:43.616Z"
   },
   {
    "duration": 0,
    "start_time": "2023-05-16T19:46:43.616Z"
   },
   {
    "duration": 0,
    "start_time": "2023-05-16T19:46:43.617Z"
   },
   {
    "duration": 0,
    "start_time": "2023-05-16T19:46:43.618Z"
   },
   {
    "duration": 0,
    "start_time": "2023-05-16T19:46:43.620Z"
   },
   {
    "duration": 0,
    "start_time": "2023-05-16T19:46:43.621Z"
   },
   {
    "duration": 0,
    "start_time": "2023-05-16T19:46:43.622Z"
   },
   {
    "duration": 0,
    "start_time": "2023-05-16T19:46:43.623Z"
   },
   {
    "duration": 0,
    "start_time": "2023-05-16T19:46:43.624Z"
   },
   {
    "duration": 0,
    "start_time": "2023-05-16T19:46:43.626Z"
   },
   {
    "duration": 0,
    "start_time": "2023-05-16T19:46:43.627Z"
   },
   {
    "duration": 0,
    "start_time": "2023-05-16T19:46:43.662Z"
   },
   {
    "duration": 0,
    "start_time": "2023-05-16T19:46:43.663Z"
   },
   {
    "duration": 0,
    "start_time": "2023-05-16T19:46:43.663Z"
   },
   {
    "duration": 0,
    "start_time": "2023-05-16T19:46:43.665Z"
   },
   {
    "duration": 0,
    "start_time": "2023-05-16T19:46:43.667Z"
   },
   {
    "duration": 0,
    "start_time": "2023-05-16T19:46:43.670Z"
   },
   {
    "duration": 0,
    "start_time": "2023-05-16T19:46:43.670Z"
   },
   {
    "duration": 0,
    "start_time": "2023-05-16T19:46:43.671Z"
   },
   {
    "duration": 0,
    "start_time": "2023-05-16T19:46:43.673Z"
   },
   {
    "duration": 0,
    "start_time": "2023-05-16T19:46:43.673Z"
   },
   {
    "duration": 0,
    "start_time": "2023-05-16T19:46:43.674Z"
   },
   {
    "duration": 0,
    "start_time": "2023-05-16T19:46:43.680Z"
   },
   {
    "duration": 0,
    "start_time": "2023-05-16T19:46:43.686Z"
   },
   {
    "duration": 0,
    "start_time": "2023-05-16T19:46:43.687Z"
   },
   {
    "duration": 0,
    "start_time": "2023-05-16T19:46:43.687Z"
   },
   {
    "duration": 0,
    "start_time": "2023-05-16T19:46:43.695Z"
   },
   {
    "duration": 2553,
    "start_time": "2023-05-16T19:46:57.194Z"
   },
   {
    "duration": 177,
    "start_time": "2023-05-16T19:48:11.706Z"
   },
   {
    "duration": 244,
    "start_time": "2023-05-16T19:48:48.700Z"
   },
   {
    "duration": 1270,
    "start_time": "2023-05-16T19:49:05.100Z"
   },
   {
    "duration": 56,
    "start_time": "2023-05-16T19:49:06.382Z"
   },
   {
    "duration": 14,
    "start_time": "2023-05-16T19:49:06.440Z"
   },
   {
    "duration": 58,
    "start_time": "2023-05-16T19:49:06.462Z"
   },
   {
    "duration": 14,
    "start_time": "2023-05-16T19:49:06.524Z"
   },
   {
    "duration": 29,
    "start_time": "2023-05-16T19:49:06.540Z"
   },
   {
    "duration": 16,
    "start_time": "2023-05-16T19:49:06.574Z"
   },
   {
    "duration": 11,
    "start_time": "2023-05-16T19:49:06.592Z"
   },
   {
    "duration": 11,
    "start_time": "2023-05-16T19:49:06.605Z"
   },
   {
    "duration": 17,
    "start_time": "2023-05-16T19:49:06.618Z"
   },
   {
    "duration": 15,
    "start_time": "2023-05-16T19:49:06.658Z"
   },
   {
    "duration": 12,
    "start_time": "2023-05-16T19:49:06.675Z"
   },
   {
    "duration": 11,
    "start_time": "2023-05-16T19:49:06.689Z"
   },
   {
    "duration": 9,
    "start_time": "2023-05-16T19:49:06.704Z"
   },
   {
    "duration": 8,
    "start_time": "2023-05-16T19:49:06.715Z"
   },
   {
    "duration": 10,
    "start_time": "2023-05-16T19:49:06.725Z"
   },
   {
    "duration": 41,
    "start_time": "2023-05-16T19:49:06.737Z"
   },
   {
    "duration": 12,
    "start_time": "2023-05-16T19:49:06.784Z"
   },
   {
    "duration": 16,
    "start_time": "2023-05-16T19:49:06.798Z"
   },
   {
    "duration": 5,
    "start_time": "2023-05-16T19:49:06.816Z"
   },
   {
    "duration": 16,
    "start_time": "2023-05-16T19:49:06.823Z"
   },
   {
    "duration": 29,
    "start_time": "2023-05-16T19:49:06.841Z"
   },
   {
    "duration": 9,
    "start_time": "2023-05-16T19:49:06.874Z"
   },
   {
    "duration": 349,
    "start_time": "2023-05-16T19:49:06.886Z"
   },
   {
    "duration": 0,
    "start_time": "2023-05-16T19:49:07.237Z"
   },
   {
    "duration": 0,
    "start_time": "2023-05-16T19:49:07.238Z"
   },
   {
    "duration": 0,
    "start_time": "2023-05-16T19:49:07.239Z"
   },
   {
    "duration": 0,
    "start_time": "2023-05-16T19:49:07.241Z"
   },
   {
    "duration": 0,
    "start_time": "2023-05-16T19:49:07.243Z"
   },
   {
    "duration": 0,
    "start_time": "2023-05-16T19:49:07.244Z"
   },
   {
    "duration": 0,
    "start_time": "2023-05-16T19:49:07.259Z"
   },
   {
    "duration": 0,
    "start_time": "2023-05-16T19:49:07.260Z"
   },
   {
    "duration": 0,
    "start_time": "2023-05-16T19:49:07.261Z"
   },
   {
    "duration": 0,
    "start_time": "2023-05-16T19:49:07.263Z"
   },
   {
    "duration": 0,
    "start_time": "2023-05-16T19:49:07.264Z"
   },
   {
    "duration": 0,
    "start_time": "2023-05-16T19:49:07.265Z"
   },
   {
    "duration": 0,
    "start_time": "2023-05-16T19:49:07.266Z"
   },
   {
    "duration": 0,
    "start_time": "2023-05-16T19:49:07.267Z"
   },
   {
    "duration": 0,
    "start_time": "2023-05-16T19:49:07.268Z"
   },
   {
    "duration": 0,
    "start_time": "2023-05-16T19:49:07.269Z"
   },
   {
    "duration": 0,
    "start_time": "2023-05-16T19:49:07.270Z"
   },
   {
    "duration": 0,
    "start_time": "2023-05-16T19:49:07.274Z"
   },
   {
    "duration": 0,
    "start_time": "2023-05-16T19:49:07.275Z"
   },
   {
    "duration": 0,
    "start_time": "2023-05-16T19:49:07.276Z"
   },
   {
    "duration": 0,
    "start_time": "2023-05-16T19:49:07.276Z"
   },
   {
    "duration": 0,
    "start_time": "2023-05-16T19:49:07.278Z"
   },
   {
    "duration": 0,
    "start_time": "2023-05-16T19:49:07.283Z"
   },
   {
    "duration": 0,
    "start_time": "2023-05-16T19:49:07.284Z"
   },
   {
    "duration": 0,
    "start_time": "2023-05-16T19:49:07.285Z"
   },
   {
    "duration": 0,
    "start_time": "2023-05-16T19:49:07.289Z"
   },
   {
    "duration": 0,
    "start_time": "2023-05-16T19:49:07.290Z"
   },
   {
    "duration": 0,
    "start_time": "2023-05-16T19:49:07.291Z"
   },
   {
    "duration": 0,
    "start_time": "2023-05-16T19:49:07.292Z"
   },
   {
    "duration": 0,
    "start_time": "2023-05-16T19:49:07.292Z"
   },
   {
    "duration": 3349,
    "start_time": "2023-05-16T19:49:34.471Z"
   },
   {
    "duration": 3683,
    "start_time": "2023-05-16T19:49:51.803Z"
   },
   {
    "duration": 9,
    "start_time": "2023-05-16T19:50:37.812Z"
   },
   {
    "duration": 207,
    "start_time": "2023-05-16T19:50:56.012Z"
   },
   {
    "duration": 6,
    "start_time": "2023-05-16T19:51:18.997Z"
   },
   {
    "duration": 2623,
    "start_time": "2023-05-16T19:51:24.945Z"
   },
   {
    "duration": 499,
    "start_time": "2023-05-16T19:51:42.794Z"
   },
   {
    "duration": 2612,
    "start_time": "2023-05-16T19:52:01.932Z"
   },
   {
    "duration": 1362,
    "start_time": "2023-05-16T19:54:09.704Z"
   },
   {
    "duration": 53,
    "start_time": "2023-05-16T19:54:11.075Z"
   },
   {
    "duration": 16,
    "start_time": "2023-05-16T19:54:11.130Z"
   },
   {
    "duration": 56,
    "start_time": "2023-05-16T19:54:11.148Z"
   },
   {
    "duration": 15,
    "start_time": "2023-05-16T19:54:11.210Z"
   },
   {
    "duration": 24,
    "start_time": "2023-05-16T19:54:11.228Z"
   },
   {
    "duration": 37,
    "start_time": "2023-05-16T19:54:11.254Z"
   },
   {
    "duration": 12,
    "start_time": "2023-05-16T19:54:11.299Z"
   },
   {
    "duration": 12,
    "start_time": "2023-05-16T19:54:11.313Z"
   },
   {
    "duration": 43,
    "start_time": "2023-05-16T19:54:11.327Z"
   },
   {
    "duration": 21,
    "start_time": "2023-05-16T19:54:11.376Z"
   },
   {
    "duration": 9,
    "start_time": "2023-05-16T19:54:11.398Z"
   },
   {
    "duration": 11,
    "start_time": "2023-05-16T19:54:11.408Z"
   },
   {
    "duration": 10,
    "start_time": "2023-05-16T19:54:11.424Z"
   },
   {
    "duration": 24,
    "start_time": "2023-05-16T19:54:11.436Z"
   },
   {
    "duration": 37,
    "start_time": "2023-05-16T19:54:11.465Z"
   },
   {
    "duration": 30,
    "start_time": "2023-05-16T19:54:11.506Z"
   },
   {
    "duration": 6,
    "start_time": "2023-05-16T19:54:11.538Z"
   },
   {
    "duration": 24,
    "start_time": "2023-05-16T19:54:11.546Z"
   },
   {
    "duration": 6,
    "start_time": "2023-05-16T19:54:11.573Z"
   },
   {
    "duration": 25,
    "start_time": "2023-05-16T19:54:11.581Z"
   },
   {
    "duration": 6,
    "start_time": "2023-05-16T19:54:11.607Z"
   },
   {
    "duration": 7,
    "start_time": "2023-05-16T19:54:11.617Z"
   },
   {
    "duration": 2594,
    "start_time": "2023-05-16T19:54:11.626Z"
   },
   {
    "duration": 8,
    "start_time": "2023-05-16T19:54:14.222Z"
   },
   {
    "duration": 172,
    "start_time": "2023-05-16T19:54:14.232Z"
   },
   {
    "duration": 6,
    "start_time": "2023-05-16T19:54:14.407Z"
   },
   {
    "duration": 12,
    "start_time": "2023-05-16T19:54:14.415Z"
   },
   {
    "duration": 6,
    "start_time": "2023-05-16T19:54:14.429Z"
   },
   {
    "duration": 184,
    "start_time": "2023-05-16T19:54:14.436Z"
   },
   {
    "duration": 10,
    "start_time": "2023-05-16T19:54:14.622Z"
   },
   {
    "duration": 186,
    "start_time": "2023-05-16T19:54:14.634Z"
   },
   {
    "duration": 9,
    "start_time": "2023-05-16T19:54:14.822Z"
   },
   {
    "duration": 347,
    "start_time": "2023-05-16T19:54:14.833Z"
   },
   {
    "duration": 12,
    "start_time": "2023-05-16T19:54:15.182Z"
   },
   {
    "duration": 26,
    "start_time": "2023-05-16T19:54:15.195Z"
   },
   {
    "duration": 12,
    "start_time": "2023-05-16T19:54:15.223Z"
   },
   {
    "duration": 39,
    "start_time": "2023-05-16T19:54:15.237Z"
   },
   {
    "duration": 25,
    "start_time": "2023-05-16T19:54:15.278Z"
   },
   {
    "duration": 188,
    "start_time": "2023-05-16T19:54:15.305Z"
   },
   {
    "duration": 175,
    "start_time": "2023-05-16T19:54:15.501Z"
   },
   {
    "duration": 9,
    "start_time": "2023-05-16T19:54:15.680Z"
   },
   {
    "duration": 11,
    "start_time": "2023-05-16T19:54:15.691Z"
   },
   {
    "duration": 185,
    "start_time": "2023-05-16T19:54:15.704Z"
   },
   {
    "duration": 151,
    "start_time": "2023-05-16T19:54:15.892Z"
   },
   {
    "duration": 18,
    "start_time": "2023-05-16T19:54:16.045Z"
   },
   {
    "duration": 22,
    "start_time": "2023-05-16T19:54:16.073Z"
   },
   {
    "duration": 29,
    "start_time": "2023-05-16T19:54:16.096Z"
   },
   {
    "duration": 925,
    "start_time": "2023-05-16T19:54:16.127Z"
   },
   {
    "duration": 36,
    "start_time": "2023-05-16T19:54:17.057Z"
   },
   {
    "duration": 8,
    "start_time": "2023-05-16T19:54:17.095Z"
   },
   {
    "duration": 11,
    "start_time": "2023-05-16T19:54:17.105Z"
   },
   {
    "duration": 11,
    "start_time": "2023-05-16T19:54:17.118Z"
   },
   {
    "duration": 42,
    "start_time": "2023-05-16T19:54:17.131Z"
   },
   {
    "duration": 228,
    "start_time": "2023-05-16T19:56:45.799Z"
   },
   {
    "duration": 1108,
    "start_time": "2023-05-16T19:56:59.392Z"
   },
   {
    "duration": 39,
    "start_time": "2023-05-16T19:57:00.502Z"
   },
   {
    "duration": 11,
    "start_time": "2023-05-16T19:57:00.543Z"
   },
   {
    "duration": 57,
    "start_time": "2023-05-16T19:57:00.556Z"
   },
   {
    "duration": 11,
    "start_time": "2023-05-16T19:57:00.616Z"
   },
   {
    "duration": 73,
    "start_time": "2023-05-16T19:57:00.629Z"
   },
   {
    "duration": 36,
    "start_time": "2023-05-16T19:57:00.704Z"
   },
   {
    "duration": 38,
    "start_time": "2023-05-16T19:57:00.743Z"
   },
   {
    "duration": 36,
    "start_time": "2023-05-16T19:57:00.787Z"
   },
   {
    "duration": 63,
    "start_time": "2023-05-16T19:57:00.825Z"
   },
   {
    "duration": 42,
    "start_time": "2023-05-16T19:57:00.890Z"
   },
   {
    "duration": 83,
    "start_time": "2023-05-16T19:57:00.934Z"
   },
   {
    "duration": 82,
    "start_time": "2023-05-16T19:57:01.019Z"
   },
   {
    "duration": 46,
    "start_time": "2023-05-16T19:57:01.104Z"
   },
   {
    "duration": 55,
    "start_time": "2023-05-16T19:57:01.152Z"
   },
   {
    "duration": 19,
    "start_time": "2023-05-16T19:57:01.209Z"
   },
   {
    "duration": 21,
    "start_time": "2023-05-16T19:57:01.230Z"
   },
   {
    "duration": 49,
    "start_time": "2023-05-16T19:57:01.253Z"
   },
   {
    "duration": 49,
    "start_time": "2023-05-16T19:57:01.304Z"
   },
   {
    "duration": 50,
    "start_time": "2023-05-16T19:57:01.355Z"
   },
   {
    "duration": 62,
    "start_time": "2023-05-16T19:57:01.406Z"
   },
   {
    "duration": 37,
    "start_time": "2023-05-16T19:57:01.472Z"
   },
   {
    "duration": 77,
    "start_time": "2023-05-16T19:57:01.512Z"
   },
   {
    "duration": 2495,
    "start_time": "2023-05-16T19:57:01.592Z"
   },
   {
    "duration": 11,
    "start_time": "2023-05-16T19:57:04.092Z"
   },
   {
    "duration": 195,
    "start_time": "2023-05-16T19:57:04.106Z"
   },
   {
    "duration": 221,
    "start_time": "2023-05-16T19:57:04.303Z"
   },
   {
    "duration": 0,
    "start_time": "2023-05-16T19:57:04.526Z"
   },
   {
    "duration": 0,
    "start_time": "2023-05-16T19:57:04.527Z"
   },
   {
    "duration": 0,
    "start_time": "2023-05-16T19:57:04.528Z"
   },
   {
    "duration": 0,
    "start_time": "2023-05-16T19:57:04.529Z"
   },
   {
    "duration": 0,
    "start_time": "2023-05-16T19:57:04.530Z"
   },
   {
    "duration": 0,
    "start_time": "2023-05-16T19:57:04.531Z"
   },
   {
    "duration": 0,
    "start_time": "2023-05-16T19:57:04.532Z"
   },
   {
    "duration": 0,
    "start_time": "2023-05-16T19:57:04.533Z"
   },
   {
    "duration": 0,
    "start_time": "2023-05-16T19:57:04.534Z"
   },
   {
    "duration": 0,
    "start_time": "2023-05-16T19:57:04.535Z"
   },
   {
    "duration": 0,
    "start_time": "2023-05-16T19:57:04.536Z"
   },
   {
    "duration": 0,
    "start_time": "2023-05-16T19:57:04.558Z"
   },
   {
    "duration": 0,
    "start_time": "2023-05-16T19:57:04.559Z"
   },
   {
    "duration": 0,
    "start_time": "2023-05-16T19:57:04.559Z"
   },
   {
    "duration": 0,
    "start_time": "2023-05-16T19:57:04.560Z"
   },
   {
    "duration": 0,
    "start_time": "2023-05-16T19:57:04.567Z"
   },
   {
    "duration": 0,
    "start_time": "2023-05-16T19:57:04.567Z"
   },
   {
    "duration": 0,
    "start_time": "2023-05-16T19:57:04.580Z"
   },
   {
    "duration": 0,
    "start_time": "2023-05-16T19:57:04.581Z"
   },
   {
    "duration": 0,
    "start_time": "2023-05-16T19:57:04.583Z"
   },
   {
    "duration": 0,
    "start_time": "2023-05-16T19:57:04.584Z"
   },
   {
    "duration": 0,
    "start_time": "2023-05-16T19:57:04.588Z"
   },
   {
    "duration": 0,
    "start_time": "2023-05-16T19:57:04.589Z"
   },
   {
    "duration": 0,
    "start_time": "2023-05-16T19:57:04.589Z"
   },
   {
    "duration": 0,
    "start_time": "2023-05-16T19:57:04.590Z"
   },
   {
    "duration": 0,
    "start_time": "2023-05-16T19:57:04.592Z"
   },
   {
    "duration": 0,
    "start_time": "2023-05-16T19:57:04.594Z"
   },
   {
    "duration": 0,
    "start_time": "2023-05-16T19:57:04.595Z"
   },
   {
    "duration": 12,
    "start_time": "2023-05-16T19:58:10.724Z"
   },
   {
    "duration": 124,
    "start_time": "2023-05-16T20:00:09.555Z"
   },
   {
    "duration": 1261,
    "start_time": "2023-05-16T20:00:36.731Z"
   },
   {
    "duration": 42,
    "start_time": "2023-05-16T20:00:37.995Z"
   },
   {
    "duration": 13,
    "start_time": "2023-05-16T20:00:38.039Z"
   },
   {
    "duration": 58,
    "start_time": "2023-05-16T20:00:38.054Z"
   },
   {
    "duration": 12,
    "start_time": "2023-05-16T20:00:38.114Z"
   },
   {
    "duration": 21,
    "start_time": "2023-05-16T20:00:38.128Z"
   },
   {
    "duration": 30,
    "start_time": "2023-05-16T20:00:38.151Z"
   },
   {
    "duration": 9,
    "start_time": "2023-05-16T20:00:38.186Z"
   },
   {
    "duration": 19,
    "start_time": "2023-05-16T20:00:38.197Z"
   },
   {
    "duration": 28,
    "start_time": "2023-05-16T20:00:38.220Z"
   },
   {
    "duration": 5,
    "start_time": "2023-05-16T20:00:38.250Z"
   },
   {
    "duration": 15,
    "start_time": "2023-05-16T20:00:38.256Z"
   },
   {
    "duration": 8,
    "start_time": "2023-05-16T20:00:38.273Z"
   },
   {
    "duration": 8,
    "start_time": "2023-05-16T20:00:38.283Z"
   },
   {
    "duration": 7,
    "start_time": "2023-05-16T20:00:38.293Z"
   },
   {
    "duration": 7,
    "start_time": "2023-05-16T20:00:38.302Z"
   },
   {
    "duration": 9,
    "start_time": "2023-05-16T20:00:38.310Z"
   },
   {
    "duration": 6,
    "start_time": "2023-05-16T20:00:38.320Z"
   },
   {
    "duration": 16,
    "start_time": "2023-05-16T20:00:38.357Z"
   },
   {
    "duration": 9,
    "start_time": "2023-05-16T20:00:38.375Z"
   },
   {
    "duration": 19,
    "start_time": "2023-05-16T20:00:38.388Z"
   },
   {
    "duration": 7,
    "start_time": "2023-05-16T20:00:38.409Z"
   },
   {
    "duration": 9,
    "start_time": "2023-05-16T20:00:38.418Z"
   },
   {
    "duration": 2452,
    "start_time": "2023-05-16T20:00:38.430Z"
   },
   {
    "duration": 9,
    "start_time": "2023-05-16T20:00:40.885Z"
   },
   {
    "duration": 129,
    "start_time": "2023-05-16T20:00:40.896Z"
   },
   {
    "duration": 5,
    "start_time": "2023-05-16T20:00:41.026Z"
   },
   {
    "duration": 8,
    "start_time": "2023-05-16T20:00:41.034Z"
   },
   {
    "duration": 31,
    "start_time": "2023-05-16T20:00:41.044Z"
   },
   {
    "duration": 134,
    "start_time": "2023-05-16T20:00:41.087Z"
   },
   {
    "duration": 9,
    "start_time": "2023-05-16T20:00:41.223Z"
   },
   {
    "duration": 163,
    "start_time": "2023-05-16T20:00:41.233Z"
   },
   {
    "duration": 9,
    "start_time": "2023-05-16T20:00:41.397Z"
   },
   {
    "duration": 319,
    "start_time": "2023-05-16T20:00:41.407Z"
   },
   {
    "duration": 9,
    "start_time": "2023-05-16T20:00:41.728Z"
   },
   {
    "duration": 48,
    "start_time": "2023-05-16T20:00:41.739Z"
   },
   {
    "duration": 13,
    "start_time": "2023-05-16T20:00:41.788Z"
   },
   {
    "duration": 26,
    "start_time": "2023-05-16T20:00:41.803Z"
   },
   {
    "duration": 51,
    "start_time": "2023-05-16T20:00:41.832Z"
   },
   {
    "duration": 164,
    "start_time": "2023-05-16T20:00:41.887Z"
   },
   {
    "duration": 172,
    "start_time": "2023-05-16T20:00:42.053Z"
   },
   {
    "duration": 9,
    "start_time": "2023-05-16T20:00:42.227Z"
   },
   {
    "duration": 21,
    "start_time": "2023-05-16T20:00:42.238Z"
   },
   {
    "duration": 148,
    "start_time": "2023-05-16T20:00:42.260Z"
   },
   {
    "duration": 167,
    "start_time": "2023-05-16T20:00:42.410Z"
   },
   {
    "duration": 11,
    "start_time": "2023-05-16T20:00:42.582Z"
   },
   {
    "duration": 10,
    "start_time": "2023-05-16T20:00:42.595Z"
   },
   {
    "duration": 25,
    "start_time": "2023-05-16T20:00:42.606Z"
   },
   {
    "duration": 859,
    "start_time": "2023-05-16T20:00:42.633Z"
   },
   {
    "duration": 24,
    "start_time": "2023-05-16T20:00:43.494Z"
   },
   {
    "duration": 6,
    "start_time": "2023-05-16T20:00:43.520Z"
   },
   {
    "duration": 6,
    "start_time": "2023-05-16T20:00:43.527Z"
   },
   {
    "duration": 38,
    "start_time": "2023-05-16T20:00:43.534Z"
   },
   {
    "duration": 13,
    "start_time": "2023-05-16T20:00:43.576Z"
   },
   {
    "duration": 2436,
    "start_time": "2023-05-16T20:03:09.417Z"
   },
   {
    "duration": 531,
    "start_time": "2023-05-16T20:03:51.910Z"
   },
   {
    "duration": 151,
    "start_time": "2023-05-16T20:03:57.288Z"
   },
   {
    "duration": 11,
    "start_time": "2023-05-16T20:04:41.888Z"
   },
   {
    "duration": 1245,
    "start_time": "2023-05-16T20:04:49.926Z"
   },
   {
    "duration": 43,
    "start_time": "2023-05-16T20:04:51.178Z"
   },
   {
    "duration": 13,
    "start_time": "2023-05-16T20:04:51.223Z"
   },
   {
    "duration": 60,
    "start_time": "2023-05-16T20:04:51.239Z"
   },
   {
    "duration": 14,
    "start_time": "2023-05-16T20:04:51.300Z"
   },
   {
    "duration": 37,
    "start_time": "2023-05-16T20:04:51.315Z"
   },
   {
    "duration": 17,
    "start_time": "2023-05-16T20:04:51.355Z"
   },
   {
    "duration": 18,
    "start_time": "2023-05-16T20:04:51.376Z"
   },
   {
    "duration": 25,
    "start_time": "2023-05-16T20:04:51.396Z"
   },
   {
    "duration": 18,
    "start_time": "2023-05-16T20:04:51.424Z"
   },
   {
    "duration": 5,
    "start_time": "2023-05-16T20:04:51.444Z"
   },
   {
    "duration": 20,
    "start_time": "2023-05-16T20:04:51.451Z"
   },
   {
    "duration": 7,
    "start_time": "2023-05-16T20:04:51.477Z"
   },
   {
    "duration": 15,
    "start_time": "2023-05-16T20:04:51.486Z"
   },
   {
    "duration": 30,
    "start_time": "2023-05-16T20:04:51.503Z"
   },
   {
    "duration": 7,
    "start_time": "2023-05-16T20:04:51.535Z"
   },
   {
    "duration": 46,
    "start_time": "2023-05-16T20:04:51.543Z"
   },
   {
    "duration": 7,
    "start_time": "2023-05-16T20:04:51.591Z"
   },
   {
    "duration": 19,
    "start_time": "2023-05-16T20:04:51.600Z"
   },
   {
    "duration": 5,
    "start_time": "2023-05-16T20:04:51.621Z"
   },
   {
    "duration": 45,
    "start_time": "2023-05-16T20:04:51.627Z"
   },
   {
    "duration": 18,
    "start_time": "2023-05-16T20:04:51.681Z"
   },
   {
    "duration": 12,
    "start_time": "2023-05-16T20:04:51.700Z"
   },
   {
    "duration": 129,
    "start_time": "2023-05-16T20:04:51.715Z"
   },
   {
    "duration": 0,
    "start_time": "2023-05-16T20:04:51.848Z"
   },
   {
    "duration": 0,
    "start_time": "2023-05-16T20:04:51.850Z"
   },
   {
    "duration": 0,
    "start_time": "2023-05-16T20:04:51.851Z"
   },
   {
    "duration": 0,
    "start_time": "2023-05-16T20:04:51.857Z"
   },
   {
    "duration": 0,
    "start_time": "2023-05-16T20:04:51.857Z"
   },
   {
    "duration": 0,
    "start_time": "2023-05-16T20:04:51.858Z"
   },
   {
    "duration": 0,
    "start_time": "2023-05-16T20:04:51.859Z"
   },
   {
    "duration": 0,
    "start_time": "2023-05-16T20:04:51.859Z"
   },
   {
    "duration": 0,
    "start_time": "2023-05-16T20:04:51.860Z"
   },
   {
    "duration": 0,
    "start_time": "2023-05-16T20:04:51.861Z"
   },
   {
    "duration": 0,
    "start_time": "2023-05-16T20:04:51.861Z"
   },
   {
    "duration": 0,
    "start_time": "2023-05-16T20:04:51.864Z"
   },
   {
    "duration": 0,
    "start_time": "2023-05-16T20:04:51.866Z"
   },
   {
    "duration": 0,
    "start_time": "2023-05-16T20:04:51.867Z"
   },
   {
    "duration": 0,
    "start_time": "2023-05-16T20:04:51.869Z"
   },
   {
    "duration": 0,
    "start_time": "2023-05-16T20:04:51.870Z"
   },
   {
    "duration": 0,
    "start_time": "2023-05-16T20:04:51.871Z"
   },
   {
    "duration": 0,
    "start_time": "2023-05-16T20:04:51.873Z"
   },
   {
    "duration": 0,
    "start_time": "2023-05-16T20:04:51.874Z"
   },
   {
    "duration": 0,
    "start_time": "2023-05-16T20:04:51.875Z"
   },
   {
    "duration": 0,
    "start_time": "2023-05-16T20:04:51.877Z"
   },
   {
    "duration": 0,
    "start_time": "2023-05-16T20:04:51.878Z"
   },
   {
    "duration": 0,
    "start_time": "2023-05-16T20:04:51.879Z"
   },
   {
    "duration": 0,
    "start_time": "2023-05-16T20:04:51.881Z"
   },
   {
    "duration": 0,
    "start_time": "2023-05-16T20:04:51.882Z"
   },
   {
    "duration": 0,
    "start_time": "2023-05-16T20:04:51.883Z"
   },
   {
    "duration": 0,
    "start_time": "2023-05-16T20:04:51.885Z"
   },
   {
    "duration": 0,
    "start_time": "2023-05-16T20:04:51.886Z"
   },
   {
    "duration": 0,
    "start_time": "2023-05-16T20:04:51.888Z"
   },
   {
    "duration": 0,
    "start_time": "2023-05-16T20:04:51.889Z"
   },
   {
    "duration": 9,
    "start_time": "2023-05-16T20:05:23.092Z"
   },
   {
    "duration": 10,
    "start_time": "2023-05-16T20:05:29.587Z"
   },
   {
    "duration": 2304,
    "start_time": "2023-05-16T20:05:34.399Z"
   },
   {
    "duration": 2539,
    "start_time": "2023-05-16T20:07:34.134Z"
   },
   {
    "duration": 28,
    "start_time": "2023-05-16T20:14:35.351Z"
   },
   {
    "duration": 11,
    "start_time": "2023-05-16T20:15:53.240Z"
   },
   {
    "duration": 2323,
    "start_time": "2023-05-16T20:16:17.879Z"
   },
   {
    "duration": 2695,
    "start_time": "2023-05-16T20:16:37.350Z"
   },
   {
    "duration": 2758,
    "start_time": "2023-05-16T20:16:54.352Z"
   },
   {
    "duration": 2596,
    "start_time": "2023-05-16T20:17:11.084Z"
   },
   {
    "duration": 2907,
    "start_time": "2023-05-16T20:17:22.384Z"
   },
   {
    "duration": 3053,
    "start_time": "2023-05-16T20:17:31.995Z"
   },
   {
    "duration": 2269,
    "start_time": "2023-05-16T20:17:43.522Z"
   },
   {
    "duration": 3103,
    "start_time": "2023-05-16T20:18:18.147Z"
   },
   {
    "duration": 3146,
    "start_time": "2023-05-16T20:18:32.133Z"
   },
   {
    "duration": 12,
    "start_time": "2023-05-16T20:24:26.086Z"
   },
   {
    "duration": 1376,
    "start_time": "2023-05-16T20:24:36.939Z"
   },
   {
    "duration": 58,
    "start_time": "2023-05-16T20:24:38.317Z"
   },
   {
    "duration": 17,
    "start_time": "2023-05-16T20:24:38.379Z"
   },
   {
    "duration": 56,
    "start_time": "2023-05-16T20:24:38.399Z"
   },
   {
    "duration": 26,
    "start_time": "2023-05-16T20:24:38.456Z"
   },
   {
    "duration": 24,
    "start_time": "2023-05-16T20:24:38.484Z"
   },
   {
    "duration": 16,
    "start_time": "2023-05-16T20:24:38.510Z"
   },
   {
    "duration": 11,
    "start_time": "2023-05-16T20:24:38.528Z"
   },
   {
    "duration": 26,
    "start_time": "2023-05-16T20:24:38.542Z"
   },
   {
    "duration": 20,
    "start_time": "2023-05-16T20:24:38.574Z"
   },
   {
    "duration": 7,
    "start_time": "2023-05-16T20:24:38.596Z"
   },
   {
    "duration": 7,
    "start_time": "2023-05-16T20:24:38.605Z"
   },
   {
    "duration": 8,
    "start_time": "2023-05-16T20:24:38.614Z"
   },
   {
    "duration": 21,
    "start_time": "2023-05-16T20:24:38.658Z"
   },
   {
    "duration": 7,
    "start_time": "2023-05-16T20:24:38.682Z"
   },
   {
    "duration": 23,
    "start_time": "2023-05-16T20:24:38.691Z"
   },
   {
    "duration": 11,
    "start_time": "2023-05-16T20:24:38.717Z"
   },
   {
    "duration": 33,
    "start_time": "2023-05-16T20:24:38.730Z"
   },
   {
    "duration": 13,
    "start_time": "2023-05-16T20:24:38.765Z"
   },
   {
    "duration": 46,
    "start_time": "2023-05-16T20:24:38.780Z"
   },
   {
    "duration": 57,
    "start_time": "2023-05-16T20:24:38.828Z"
   },
   {
    "duration": 13,
    "start_time": "2023-05-16T20:24:38.887Z"
   },
   {
    "duration": 22,
    "start_time": "2023-05-16T20:24:38.902Z"
   },
   {
    "duration": 117,
    "start_time": "2023-05-16T20:24:38.926Z"
   },
   {
    "duration": 0,
    "start_time": "2023-05-16T20:24:39.046Z"
   },
   {
    "duration": 0,
    "start_time": "2023-05-16T20:24:39.048Z"
   },
   {
    "duration": 0,
    "start_time": "2023-05-16T20:24:39.049Z"
   },
   {
    "duration": 0,
    "start_time": "2023-05-16T20:24:39.059Z"
   },
   {
    "duration": 0,
    "start_time": "2023-05-16T20:24:39.060Z"
   },
   {
    "duration": 0,
    "start_time": "2023-05-16T20:24:39.060Z"
   },
   {
    "duration": 0,
    "start_time": "2023-05-16T20:24:39.061Z"
   },
   {
    "duration": 0,
    "start_time": "2023-05-16T20:24:39.062Z"
   },
   {
    "duration": 0,
    "start_time": "2023-05-16T20:24:39.064Z"
   },
   {
    "duration": 1,
    "start_time": "2023-05-16T20:24:39.065Z"
   },
   {
    "duration": 0,
    "start_time": "2023-05-16T20:24:39.067Z"
   },
   {
    "duration": 0,
    "start_time": "2023-05-16T20:24:39.068Z"
   },
   {
    "duration": 0,
    "start_time": "2023-05-16T20:24:39.069Z"
   },
   {
    "duration": 0,
    "start_time": "2023-05-16T20:24:39.070Z"
   },
   {
    "duration": 0,
    "start_time": "2023-05-16T20:24:39.071Z"
   },
   {
    "duration": 0,
    "start_time": "2023-05-16T20:24:39.072Z"
   },
   {
    "duration": 0,
    "start_time": "2023-05-16T20:24:39.073Z"
   },
   {
    "duration": 0,
    "start_time": "2023-05-16T20:24:39.075Z"
   },
   {
    "duration": 0,
    "start_time": "2023-05-16T20:24:39.076Z"
   },
   {
    "duration": 0,
    "start_time": "2023-05-16T20:24:39.077Z"
   },
   {
    "duration": 0,
    "start_time": "2023-05-16T20:24:39.079Z"
   },
   {
    "duration": 0,
    "start_time": "2023-05-16T20:24:39.080Z"
   },
   {
    "duration": 0,
    "start_time": "2023-05-16T20:24:39.082Z"
   },
   {
    "duration": 0,
    "start_time": "2023-05-16T20:24:39.083Z"
   },
   {
    "duration": 0,
    "start_time": "2023-05-16T20:24:39.084Z"
   },
   {
    "duration": 0,
    "start_time": "2023-05-16T20:24:39.085Z"
   },
   {
    "duration": 0,
    "start_time": "2023-05-16T20:24:39.087Z"
   },
   {
    "duration": 0,
    "start_time": "2023-05-16T20:24:39.088Z"
   },
   {
    "duration": 0,
    "start_time": "2023-05-16T20:24:39.090Z"
   },
   {
    "duration": 0,
    "start_time": "2023-05-16T20:24:39.091Z"
   },
   {
    "duration": 249,
    "start_time": "2023-05-16T20:25:01.190Z"
   },
   {
    "duration": 205,
    "start_time": "2023-05-16T20:25:38.041Z"
   },
   {
    "duration": 12,
    "start_time": "2023-05-16T20:26:36.096Z"
   },
   {
    "duration": 2529,
    "start_time": "2023-05-16T20:26:46.881Z"
   },
   {
    "duration": 2773,
    "start_time": "2023-05-16T20:27:07.208Z"
   },
   {
    "duration": 18,
    "start_time": "2023-05-16T20:30:57.894Z"
   },
   {
    "duration": 1243,
    "start_time": "2023-05-16T20:31:12.712Z"
   },
   {
    "duration": 75,
    "start_time": "2023-05-16T20:31:13.958Z"
   },
   {
    "duration": 15,
    "start_time": "2023-05-16T20:31:14.037Z"
   },
   {
    "duration": 55,
    "start_time": "2023-05-16T20:31:14.056Z"
   },
   {
    "duration": 17,
    "start_time": "2023-05-16T20:31:14.113Z"
   },
   {
    "duration": 34,
    "start_time": "2023-05-16T20:31:14.132Z"
   },
   {
    "duration": 16,
    "start_time": "2023-05-16T20:31:14.170Z"
   },
   {
    "duration": 10,
    "start_time": "2023-05-16T20:31:14.190Z"
   },
   {
    "duration": 17,
    "start_time": "2023-05-16T20:31:14.202Z"
   },
   {
    "duration": 23,
    "start_time": "2023-05-16T20:31:14.223Z"
   },
   {
    "duration": 8,
    "start_time": "2023-05-16T20:31:14.262Z"
   },
   {
    "duration": 7,
    "start_time": "2023-05-16T20:31:14.272Z"
   },
   {
    "duration": 13,
    "start_time": "2023-05-16T20:31:14.285Z"
   },
   {
    "duration": 9,
    "start_time": "2023-05-16T20:31:14.300Z"
   },
   {
    "duration": 9,
    "start_time": "2023-05-16T20:31:14.312Z"
   },
   {
    "duration": 43,
    "start_time": "2023-05-16T20:31:14.323Z"
   },
   {
    "duration": 18,
    "start_time": "2023-05-16T20:31:14.367Z"
   },
   {
    "duration": 7,
    "start_time": "2023-05-16T20:31:14.387Z"
   },
   {
    "duration": 14,
    "start_time": "2023-05-16T20:31:14.396Z"
   },
   {
    "duration": 4,
    "start_time": "2023-05-16T20:31:14.412Z"
   },
   {
    "duration": 16,
    "start_time": "2023-05-16T20:31:14.419Z"
   },
   {
    "duration": 43,
    "start_time": "2023-05-16T20:31:14.437Z"
   },
   {
    "duration": 8,
    "start_time": "2023-05-16T20:31:14.482Z"
   },
   {
    "duration": 104,
    "start_time": "2023-05-16T20:31:14.492Z"
   },
   {
    "duration": 0,
    "start_time": "2023-05-16T20:31:14.600Z"
   },
   {
    "duration": 0,
    "start_time": "2023-05-16T20:31:14.601Z"
   },
   {
    "duration": 0,
    "start_time": "2023-05-16T20:31:14.602Z"
   },
   {
    "duration": 0,
    "start_time": "2023-05-16T20:31:14.603Z"
   },
   {
    "duration": 0,
    "start_time": "2023-05-16T20:31:14.605Z"
   },
   {
    "duration": 0,
    "start_time": "2023-05-16T20:31:14.607Z"
   },
   {
    "duration": 0,
    "start_time": "2023-05-16T20:31:14.608Z"
   },
   {
    "duration": 0,
    "start_time": "2023-05-16T20:31:14.610Z"
   },
   {
    "duration": 0,
    "start_time": "2023-05-16T20:31:14.612Z"
   },
   {
    "duration": 0,
    "start_time": "2023-05-16T20:31:14.613Z"
   },
   {
    "duration": 0,
    "start_time": "2023-05-16T20:31:14.619Z"
   },
   {
    "duration": 0,
    "start_time": "2023-05-16T20:31:14.622Z"
   },
   {
    "duration": 1,
    "start_time": "2023-05-16T20:31:14.622Z"
   },
   {
    "duration": 0,
    "start_time": "2023-05-16T20:31:14.624Z"
   },
   {
    "duration": 0,
    "start_time": "2023-05-16T20:31:14.626Z"
   },
   {
    "duration": 0,
    "start_time": "2023-05-16T20:31:14.662Z"
   },
   {
    "duration": 0,
    "start_time": "2023-05-16T20:31:14.663Z"
   },
   {
    "duration": 1,
    "start_time": "2023-05-16T20:31:14.666Z"
   },
   {
    "duration": 0,
    "start_time": "2023-05-16T20:31:14.667Z"
   },
   {
    "duration": 0,
    "start_time": "2023-05-16T20:31:14.670Z"
   },
   {
    "duration": 0,
    "start_time": "2023-05-16T20:31:14.672Z"
   },
   {
    "duration": 0,
    "start_time": "2023-05-16T20:31:14.674Z"
   },
   {
    "duration": 0,
    "start_time": "2023-05-16T20:31:14.676Z"
   },
   {
    "duration": 0,
    "start_time": "2023-05-16T20:31:14.678Z"
   },
   {
    "duration": 0,
    "start_time": "2023-05-16T20:31:14.679Z"
   },
   {
    "duration": 0,
    "start_time": "2023-05-16T20:31:14.681Z"
   },
   {
    "duration": 0,
    "start_time": "2023-05-16T20:31:14.682Z"
   },
   {
    "duration": 0,
    "start_time": "2023-05-16T20:31:14.684Z"
   },
   {
    "duration": 0,
    "start_time": "2023-05-16T20:31:14.686Z"
   },
   {
    "duration": 0,
    "start_time": "2023-05-16T20:31:14.687Z"
   },
   {
    "duration": 0,
    "start_time": "2023-05-16T20:31:14.689Z"
   },
   {
    "duration": 19,
    "start_time": "2023-05-16T20:33:33.156Z"
   },
   {
    "duration": 22,
    "start_time": "2023-05-16T20:33:37.892Z"
   },
   {
    "duration": 53,
    "start_time": "2023-05-16T20:34:16.999Z"
   },
   {
    "duration": 196,
    "start_time": "2023-05-16T20:34:25.505Z"
   },
   {
    "duration": 259,
    "start_time": "2023-05-16T20:34:51.611Z"
   },
   {
    "duration": 206,
    "start_time": "2023-05-16T20:36:30.406Z"
   },
   {
    "duration": 2894,
    "start_time": "2023-05-16T20:36:41.809Z"
   },
   {
    "duration": 2891,
    "start_time": "2023-05-16T20:36:57.701Z"
   },
   {
    "duration": 2947,
    "start_time": "2023-05-16T20:37:10.734Z"
   },
   {
    "duration": 3612,
    "start_time": "2023-05-16T20:37:30.694Z"
   },
   {
    "duration": 3729,
    "start_time": "2023-05-16T20:37:39.620Z"
   },
   {
    "duration": 3684,
    "start_time": "2023-05-16T20:37:51.737Z"
   },
   {
    "duration": 2541,
    "start_time": "2023-05-16T20:38:08.840Z"
   },
   {
    "duration": 3039,
    "start_time": "2023-05-16T20:39:21.013Z"
   },
   {
    "duration": 3,
    "start_time": "2023-05-16T20:40:19.679Z"
   },
   {
    "duration": 5,
    "start_time": "2023-05-16T20:40:30.382Z"
   },
   {
    "duration": 11,
    "start_time": "2023-05-16T20:40:42.039Z"
   },
   {
    "duration": 6,
    "start_time": "2023-05-16T20:40:54.448Z"
   },
   {
    "duration": 7,
    "start_time": "2023-05-16T20:41:18.629Z"
   },
   {
    "duration": 6,
    "start_time": "2023-05-16T20:41:32.513Z"
   },
   {
    "duration": 211,
    "start_time": "2023-05-16T20:41:56.736Z"
   },
   {
    "duration": 160,
    "start_time": "2023-05-16T20:53:28.785Z"
   },
   {
    "duration": 143,
    "start_time": "2023-05-16T20:53:45.287Z"
   },
   {
    "duration": 182,
    "start_time": "2023-05-16T20:53:50.597Z"
   },
   {
    "duration": 167,
    "start_time": "2023-05-16T20:53:55.941Z"
   },
   {
    "duration": 166,
    "start_time": "2023-05-16T20:54:11.487Z"
   },
   {
    "duration": 134,
    "start_time": "2023-05-16T20:54:30.006Z"
   },
   {
    "duration": 174,
    "start_time": "2023-05-16T20:54:53.055Z"
   },
   {
    "duration": 46,
    "start_time": "2023-05-17T03:02:37.004Z"
   },
   {
    "duration": 6,
    "start_time": "2023-05-17T03:03:09.113Z"
   },
   {
    "duration": 5,
    "start_time": "2023-05-17T03:03:24.674Z"
   },
   {
    "duration": 5,
    "start_time": "2023-05-17T03:03:37.813Z"
   },
   {
    "duration": 1239,
    "start_time": "2023-05-17T03:04:24.373Z"
   },
   {
    "duration": 84,
    "start_time": "2023-05-17T03:04:25.614Z"
   },
   {
    "duration": 10,
    "start_time": "2023-05-17T03:04:25.699Z"
   },
   {
    "duration": 78,
    "start_time": "2023-05-17T03:04:25.711Z"
   },
   {
    "duration": 8,
    "start_time": "2023-05-17T03:04:25.791Z"
   },
   {
    "duration": 70,
    "start_time": "2023-05-17T03:04:25.801Z"
   },
   {
    "duration": 8,
    "start_time": "2023-05-17T03:04:25.872Z"
   },
   {
    "duration": 34,
    "start_time": "2023-05-17T03:04:25.881Z"
   },
   {
    "duration": 18,
    "start_time": "2023-05-17T03:04:25.916Z"
   },
   {
    "duration": 30,
    "start_time": "2023-05-17T03:04:25.936Z"
   },
   {
    "duration": 17,
    "start_time": "2023-05-17T03:04:25.968Z"
   },
   {
    "duration": 23,
    "start_time": "2023-05-17T03:04:25.987Z"
   },
   {
    "duration": 37,
    "start_time": "2023-05-17T03:04:26.012Z"
   },
   {
    "duration": 12,
    "start_time": "2023-05-17T03:04:26.051Z"
   },
   {
    "duration": 12,
    "start_time": "2023-05-17T03:04:26.065Z"
   },
   {
    "duration": 30,
    "start_time": "2023-05-17T03:04:26.079Z"
   },
   {
    "duration": 20,
    "start_time": "2023-05-17T03:04:26.110Z"
   },
   {
    "duration": 12,
    "start_time": "2023-05-17T03:04:26.131Z"
   },
   {
    "duration": 18,
    "start_time": "2023-05-17T03:04:26.144Z"
   },
   {
    "duration": 11,
    "start_time": "2023-05-17T03:04:26.164Z"
   },
   {
    "duration": 45,
    "start_time": "2023-05-17T03:04:26.176Z"
   },
   {
    "duration": 15,
    "start_time": "2023-05-17T03:04:26.223Z"
   },
   {
    "duration": 13,
    "start_time": "2023-05-17T03:04:26.239Z"
   },
   {
    "duration": 23,
    "start_time": "2023-05-17T03:04:26.253Z"
   },
   {
    "duration": 132,
    "start_time": "2023-05-17T03:04:26.277Z"
   },
   {
    "duration": 5,
    "start_time": "2023-05-17T03:04:26.410Z"
   },
   {
    "duration": 113,
    "start_time": "2023-05-17T03:04:26.417Z"
   },
   {
    "duration": 3,
    "start_time": "2023-05-17T03:04:26.533Z"
   },
   {
    "duration": 15,
    "start_time": "2023-05-17T03:04:26.538Z"
   },
   {
    "duration": 5,
    "start_time": "2023-05-17T03:04:26.554Z"
   },
   {
    "duration": 118,
    "start_time": "2023-05-17T03:04:26.560Z"
   },
   {
    "duration": 6,
    "start_time": "2023-05-17T03:04:26.685Z"
   },
   {
    "duration": 125,
    "start_time": "2023-05-17T03:04:26.692Z"
   },
   {
    "duration": 7,
    "start_time": "2023-05-17T03:04:26.819Z"
   },
   {
    "duration": 123,
    "start_time": "2023-05-17T03:04:26.827Z"
   },
   {
    "duration": 9,
    "start_time": "2023-05-17T03:04:26.952Z"
   },
   {
    "duration": 36,
    "start_time": "2023-05-17T03:04:26.962Z"
   },
   {
    "duration": 12,
    "start_time": "2023-05-17T03:04:26.999Z"
   },
   {
    "duration": 46,
    "start_time": "2023-05-17T03:04:27.012Z"
   },
   {
    "duration": 33,
    "start_time": "2023-05-17T03:04:27.059Z"
   },
   {
    "duration": 127,
    "start_time": "2023-05-17T03:04:27.094Z"
   },
   {
    "duration": 132,
    "start_time": "2023-05-17T03:04:27.223Z"
   },
   {
    "duration": 9,
    "start_time": "2023-05-17T03:04:27.357Z"
   },
   {
    "duration": 19,
    "start_time": "2023-05-17T03:04:27.367Z"
   },
   {
    "duration": 120,
    "start_time": "2023-05-17T03:04:27.387Z"
   },
   {
    "duration": 120,
    "start_time": "2023-05-17T03:04:27.508Z"
   },
   {
    "duration": 6,
    "start_time": "2023-05-17T03:04:27.630Z"
   },
   {
    "duration": 15,
    "start_time": "2023-05-17T03:04:27.637Z"
   },
   {
    "duration": 22,
    "start_time": "2023-05-17T03:04:27.653Z"
   },
   {
    "duration": 851,
    "start_time": "2023-05-17T03:04:27.684Z"
   },
   {
    "duration": 17,
    "start_time": "2023-05-17T03:04:28.536Z"
   },
   {
    "duration": 61,
    "start_time": "2023-05-17T03:04:28.554Z"
   },
   {
    "duration": 26,
    "start_time": "2023-05-17T03:04:28.616Z"
   },
   {
    "duration": 12,
    "start_time": "2023-05-17T03:04:28.643Z"
   },
   {
    "duration": 5,
    "start_time": "2023-05-17T03:04:28.656Z"
   },
   {
    "duration": 89,
    "start_time": "2023-05-17T03:07:08.509Z"
   },
   {
    "duration": 109,
    "start_time": "2023-05-17T03:07:14.820Z"
   },
   {
    "duration": 205,
    "start_time": "2023-05-17T03:07:29.115Z"
   },
   {
    "duration": 115,
    "start_time": "2023-05-17T03:07:45.946Z"
   },
   {
    "duration": 230,
    "start_time": "2023-05-17T03:08:08.068Z"
   },
   {
    "duration": 153,
    "start_time": "2023-05-17T03:08:21.449Z"
   },
   {
    "duration": 1702,
    "start_time": "2023-05-17T03:08:43.980Z"
   },
   {
    "duration": 1607,
    "start_time": "2023-05-17T03:08:58.738Z"
   },
   {
    "duration": 1684,
    "start_time": "2023-05-17T03:09:04.684Z"
   },
   {
    "duration": 2082,
    "start_time": "2023-05-17T03:09:41.610Z"
   },
   {
    "duration": 1860,
    "start_time": "2023-05-17T03:09:52.066Z"
   },
   {
    "duration": 2056,
    "start_time": "2023-05-17T03:09:59.088Z"
   },
   {
    "duration": 1656,
    "start_time": "2023-05-17T03:10:20.874Z"
   },
   {
    "duration": 529,
    "start_time": "2023-05-17T03:13:21.675Z"
   },
   {
    "duration": 57,
    "start_time": "2023-05-17T03:19:56.323Z"
   },
   {
    "duration": 7,
    "start_time": "2023-05-17T03:21:26.684Z"
   },
   {
    "duration": 55,
    "start_time": "2023-05-17T03:21:31.516Z"
   },
   {
    "duration": 291,
    "start_time": "2023-05-17T03:26:21.336Z"
   },
   {
    "duration": 249,
    "start_time": "2023-05-17T03:27:25.797Z"
   },
   {
    "duration": 185,
    "start_time": "2023-05-17T03:34:23.413Z"
   },
   {
    "duration": 212,
    "start_time": "2023-05-17T03:34:36.943Z"
   },
   {
    "duration": 132,
    "start_time": "2023-05-17T03:34:54.665Z"
   },
   {
    "duration": 233,
    "start_time": "2023-05-17T03:35:07.804Z"
   },
   {
    "duration": 216,
    "start_time": "2023-05-17T03:35:14.568Z"
   },
   {
    "duration": 189,
    "start_time": "2023-05-17T03:35:20.118Z"
   },
   {
    "duration": 176,
    "start_time": "2023-05-17T03:35:56.323Z"
   },
   {
    "duration": 189,
    "start_time": "2023-05-17T03:36:06.598Z"
   },
   {
    "duration": 218,
    "start_time": "2023-05-17T03:36:11.013Z"
   },
   {
    "duration": 178,
    "start_time": "2023-05-17T03:36:18.285Z"
   },
   {
    "duration": 189,
    "start_time": "2023-05-17T03:36:35.442Z"
   },
   {
    "duration": 168,
    "start_time": "2023-05-17T03:36:43.779Z"
   },
   {
    "duration": 176,
    "start_time": "2023-05-17T03:40:40.721Z"
   },
   {
    "duration": 176,
    "start_time": "2023-05-17T03:40:48.332Z"
   },
   {
    "duration": 100,
    "start_time": "2023-05-17T03:41:26.862Z"
   },
   {
    "duration": 242,
    "start_time": "2023-05-17T03:41:32.170Z"
   },
   {
    "duration": 243,
    "start_time": "2023-05-17T03:42:00.872Z"
   },
   {
    "duration": 114,
    "start_time": "2023-05-17T03:42:06.446Z"
   },
   {
    "duration": 202,
    "start_time": "2023-05-17T03:42:11.379Z"
   },
   {
    "duration": 150,
    "start_time": "2023-05-17T03:42:16.704Z"
   },
   {
    "duration": 71,
    "start_time": "2023-05-17T03:42:28.652Z"
   },
   {
    "duration": 137,
    "start_time": "2023-05-17T03:42:32.883Z"
   },
   {
    "duration": 112,
    "start_time": "2023-05-17T03:43:30.647Z"
   },
   {
    "duration": 154,
    "start_time": "2023-05-17T03:43:35.170Z"
   },
   {
    "duration": 123,
    "start_time": "2023-05-17T03:45:59.336Z"
   },
   {
    "duration": 125,
    "start_time": "2023-05-17T03:48:10.829Z"
   },
   {
    "duration": 154,
    "start_time": "2023-05-17T03:48:49.655Z"
   },
   {
    "duration": 88,
    "start_time": "2023-05-17T03:49:30.654Z"
   },
   {
    "duration": 97,
    "start_time": "2023-05-17T03:49:34.138Z"
   },
   {
    "duration": 131,
    "start_time": "2023-05-17T03:50:53.163Z"
   },
   {
    "duration": 10,
    "start_time": "2023-05-17T03:54:14.712Z"
   },
   {
    "duration": 970,
    "start_time": "2023-05-17T03:54:21.950Z"
   },
   {
    "duration": 37,
    "start_time": "2023-05-17T03:54:22.922Z"
   },
   {
    "duration": 9,
    "start_time": "2023-05-17T03:54:22.960Z"
   },
   {
    "duration": 81,
    "start_time": "2023-05-17T03:54:22.971Z"
   },
   {
    "duration": 9,
    "start_time": "2023-05-17T03:54:23.053Z"
   },
   {
    "duration": 50,
    "start_time": "2023-05-17T03:54:23.063Z"
   },
   {
    "duration": 8,
    "start_time": "2023-05-17T03:54:23.114Z"
   },
   {
    "duration": 8,
    "start_time": "2023-05-17T03:54:23.123Z"
   },
   {
    "duration": 8,
    "start_time": "2023-05-17T03:54:23.133Z"
   },
   {
    "duration": 101,
    "start_time": "2023-05-17T03:54:23.144Z"
   },
   {
    "duration": 0,
    "start_time": "2023-05-17T03:54:23.247Z"
   },
   {
    "duration": 0,
    "start_time": "2023-05-17T03:54:23.248Z"
   },
   {
    "duration": 0,
    "start_time": "2023-05-17T03:54:23.249Z"
   },
   {
    "duration": 0,
    "start_time": "2023-05-17T03:54:23.250Z"
   },
   {
    "duration": 0,
    "start_time": "2023-05-17T03:54:23.251Z"
   },
   {
    "duration": 0,
    "start_time": "2023-05-17T03:54:23.252Z"
   },
   {
    "duration": 0,
    "start_time": "2023-05-17T03:54:23.252Z"
   },
   {
    "duration": 0,
    "start_time": "2023-05-17T03:54:23.253Z"
   },
   {
    "duration": 0,
    "start_time": "2023-05-17T03:54:23.254Z"
   },
   {
    "duration": 0,
    "start_time": "2023-05-17T03:54:23.254Z"
   },
   {
    "duration": 0,
    "start_time": "2023-05-17T03:54:23.255Z"
   },
   {
    "duration": 0,
    "start_time": "2023-05-17T03:54:23.256Z"
   },
   {
    "duration": 0,
    "start_time": "2023-05-17T03:54:23.257Z"
   },
   {
    "duration": 0,
    "start_time": "2023-05-17T03:54:23.257Z"
   },
   {
    "duration": 0,
    "start_time": "2023-05-17T03:54:23.258Z"
   },
   {
    "duration": 0,
    "start_time": "2023-05-17T03:54:23.259Z"
   },
   {
    "duration": 0,
    "start_time": "2023-05-17T03:54:23.259Z"
   },
   {
    "duration": 0,
    "start_time": "2023-05-17T03:54:23.260Z"
   },
   {
    "duration": 0,
    "start_time": "2023-05-17T03:54:23.261Z"
   },
   {
    "duration": 0,
    "start_time": "2023-05-17T03:54:23.262Z"
   },
   {
    "duration": 1,
    "start_time": "2023-05-17T03:54:23.262Z"
   },
   {
    "duration": 0,
    "start_time": "2023-05-17T03:54:23.284Z"
   },
   {
    "duration": 0,
    "start_time": "2023-05-17T03:54:23.285Z"
   },
   {
    "duration": 0,
    "start_time": "2023-05-17T03:54:23.285Z"
   },
   {
    "duration": 0,
    "start_time": "2023-05-17T03:54:23.286Z"
   },
   {
    "duration": 0,
    "start_time": "2023-05-17T03:54:23.287Z"
   },
   {
    "duration": 0,
    "start_time": "2023-05-17T03:54:23.287Z"
   },
   {
    "duration": 0,
    "start_time": "2023-05-17T03:54:23.288Z"
   },
   {
    "duration": 0,
    "start_time": "2023-05-17T03:54:23.288Z"
   },
   {
    "duration": 0,
    "start_time": "2023-05-17T03:54:23.289Z"
   },
   {
    "duration": 0,
    "start_time": "2023-05-17T03:54:23.289Z"
   },
   {
    "duration": 0,
    "start_time": "2023-05-17T03:54:23.290Z"
   },
   {
    "duration": 0,
    "start_time": "2023-05-17T03:54:23.291Z"
   },
   {
    "duration": 0,
    "start_time": "2023-05-17T03:54:23.291Z"
   },
   {
    "duration": 0,
    "start_time": "2023-05-17T03:54:23.292Z"
   },
   {
    "duration": 0,
    "start_time": "2023-05-17T03:54:23.295Z"
   },
   {
    "duration": 0,
    "start_time": "2023-05-17T03:54:23.295Z"
   },
   {
    "duration": 0,
    "start_time": "2023-05-17T03:54:23.296Z"
   },
   {
    "duration": 0,
    "start_time": "2023-05-17T03:54:23.296Z"
   },
   {
    "duration": 0,
    "start_time": "2023-05-17T03:54:23.297Z"
   },
   {
    "duration": 0,
    "start_time": "2023-05-17T03:54:23.298Z"
   },
   {
    "duration": 0,
    "start_time": "2023-05-17T03:54:23.299Z"
   },
   {
    "duration": 0,
    "start_time": "2023-05-17T03:54:23.299Z"
   },
   {
    "duration": 0,
    "start_time": "2023-05-17T03:54:23.300Z"
   },
   {
    "duration": 12,
    "start_time": "2023-05-17T03:54:42.827Z"
   },
   {
    "duration": 1106,
    "start_time": "2023-05-17T03:56:36.842Z"
   },
   {
    "duration": 56,
    "start_time": "2023-05-17T03:56:37.950Z"
   },
   {
    "duration": 9,
    "start_time": "2023-05-17T03:56:38.016Z"
   },
   {
    "duration": 31,
    "start_time": "2023-05-17T03:56:38.027Z"
   },
   {
    "duration": 9,
    "start_time": "2023-05-17T03:56:38.060Z"
   },
   {
    "duration": 45,
    "start_time": "2023-05-17T03:56:38.070Z"
   },
   {
    "duration": 10,
    "start_time": "2023-05-17T03:56:38.116Z"
   },
   {
    "duration": 7,
    "start_time": "2023-05-17T03:56:38.127Z"
   },
   {
    "duration": 7,
    "start_time": "2023-05-17T03:56:38.136Z"
   },
   {
    "duration": 13,
    "start_time": "2023-05-17T03:56:38.145Z"
   },
   {
    "duration": 4,
    "start_time": "2023-05-17T03:56:38.159Z"
   },
   {
    "duration": 5,
    "start_time": "2023-05-17T03:56:38.164Z"
   },
   {
    "duration": 10,
    "start_time": "2023-05-17T03:56:38.170Z"
   },
   {
    "duration": 37,
    "start_time": "2023-05-17T03:56:38.181Z"
   },
   {
    "duration": 6,
    "start_time": "2023-05-17T03:56:38.220Z"
   },
   {
    "duration": 10,
    "start_time": "2023-05-17T03:56:38.227Z"
   },
   {
    "duration": 10,
    "start_time": "2023-05-17T03:56:38.239Z"
   },
   {
    "duration": 5,
    "start_time": "2023-05-17T03:56:38.250Z"
   },
   {
    "duration": 11,
    "start_time": "2023-05-17T03:56:38.256Z"
   },
   {
    "duration": 3,
    "start_time": "2023-05-17T03:56:38.269Z"
   },
   {
    "duration": 21,
    "start_time": "2023-05-17T03:56:38.273Z"
   },
   {
    "duration": 22,
    "start_time": "2023-05-17T03:56:38.295Z"
   },
   {
    "duration": 11,
    "start_time": "2023-05-17T03:56:38.319Z"
   },
   {
    "duration": 8,
    "start_time": "2023-05-17T03:56:38.332Z"
   },
   {
    "duration": 1693,
    "start_time": "2023-05-17T03:56:38.342Z"
   },
   {
    "duration": 5,
    "start_time": "2023-05-17T03:56:40.037Z"
   },
   {
    "duration": 116,
    "start_time": "2023-05-17T03:56:40.045Z"
   },
   {
    "duration": 7,
    "start_time": "2023-05-17T03:56:40.162Z"
   },
   {
    "duration": 6,
    "start_time": "2023-05-17T03:56:40.170Z"
   },
   {
    "duration": 160,
    "start_time": "2023-05-17T03:56:40.177Z"
   },
   {
    "duration": 115,
    "start_time": "2023-05-17T03:56:40.339Z"
   },
   {
    "duration": 268,
    "start_time": "2023-05-17T03:56:40.455Z"
   },
   {
    "duration": 10,
    "start_time": "2023-05-17T03:56:40.724Z"
   },
   {
    "duration": 147,
    "start_time": "2023-05-17T03:56:40.736Z"
   },
   {
    "duration": 20,
    "start_time": "2023-05-17T03:56:40.897Z"
   },
   {
    "duration": 27,
    "start_time": "2023-05-17T03:56:40.918Z"
   },
   {
    "duration": 10,
    "start_time": "2023-05-17T03:56:40.947Z"
   },
   {
    "duration": 18,
    "start_time": "2023-05-17T03:56:40.958Z"
   },
   {
    "duration": 38,
    "start_time": "2023-05-17T03:56:40.978Z"
   },
   {
    "duration": 151,
    "start_time": "2023-05-17T03:56:41.017Z"
   },
   {
    "duration": 148,
    "start_time": "2023-05-17T03:56:41.169Z"
   },
   {
    "duration": 8,
    "start_time": "2023-05-17T03:56:41.319Z"
   },
   {
    "duration": 9,
    "start_time": "2023-05-17T03:56:41.328Z"
   },
   {
    "duration": 167,
    "start_time": "2023-05-17T03:56:41.339Z"
   },
   {
    "duration": 144,
    "start_time": "2023-05-17T03:56:41.507Z"
   },
   {
    "duration": 9,
    "start_time": "2023-05-17T03:56:41.652Z"
   },
   {
    "duration": 14,
    "start_time": "2023-05-17T03:56:41.662Z"
   },
   {
    "duration": 50,
    "start_time": "2023-05-17T03:56:41.677Z"
   },
   {
    "duration": 868,
    "start_time": "2023-05-17T03:56:41.729Z"
   },
   {
    "duration": 22,
    "start_time": "2023-05-17T03:56:42.599Z"
   },
   {
    "duration": 7,
    "start_time": "2023-05-17T03:56:42.622Z"
   },
   {
    "duration": 10,
    "start_time": "2023-05-17T03:56:42.631Z"
   },
   {
    "duration": 10,
    "start_time": "2023-05-17T03:56:42.642Z"
   },
   {
    "duration": 5,
    "start_time": "2023-05-17T03:56:42.653Z"
   },
   {
    "duration": 24,
    "start_time": "2023-05-17T03:57:23.782Z"
   },
   {
    "duration": 145,
    "start_time": "2023-05-17T03:57:55.129Z"
   },
   {
    "duration": 141,
    "start_time": "2023-05-17T03:58:08.036Z"
   },
   {
    "duration": 150,
    "start_time": "2023-05-17T03:58:25.679Z"
   },
   {
    "duration": 173,
    "start_time": "2023-05-17T04:45:04.505Z"
   },
   {
    "duration": 198,
    "start_time": "2023-05-17T04:45:26.149Z"
   },
   {
    "duration": 198,
    "start_time": "2023-05-17T04:46:32.648Z"
   },
   {
    "duration": 155,
    "start_time": "2023-05-17T04:47:12.263Z"
   },
   {
    "duration": 138,
    "start_time": "2023-05-17T04:47:18.208Z"
   },
   {
    "duration": 278,
    "start_time": "2023-05-17T04:47:22.827Z"
   },
   {
    "duration": 191,
    "start_time": "2023-05-17T04:49:37.956Z"
   },
   {
    "duration": 213,
    "start_time": "2023-05-17T04:49:44.513Z"
   },
   {
    "duration": 177,
    "start_time": "2023-05-17T04:49:50.425Z"
   },
   {
    "duration": 129,
    "start_time": "2023-05-17T04:50:15.614Z"
   },
   {
    "duration": 135,
    "start_time": "2023-05-17T04:50:57.226Z"
   },
   {
    "duration": 176,
    "start_time": "2023-05-17T04:51:20.269Z"
   },
   {
    "duration": 128,
    "start_time": "2023-05-17T04:51:49.038Z"
   },
   {
    "duration": 118,
    "start_time": "2023-05-17T05:00:35.361Z"
   },
   {
    "duration": 23,
    "start_time": "2023-05-17T05:04:42.379Z"
   },
   {
    "duration": 15,
    "start_time": "2023-05-17T05:04:47.426Z"
   },
   {
    "duration": 1106,
    "start_time": "2023-05-17T05:04:56.863Z"
   },
   {
    "duration": 55,
    "start_time": "2023-05-17T05:04:57.971Z"
   },
   {
    "duration": 23,
    "start_time": "2023-05-17T05:04:58.028Z"
   },
   {
    "duration": 99,
    "start_time": "2023-05-17T05:04:58.054Z"
   },
   {
    "duration": 10,
    "start_time": "2023-05-17T05:04:58.155Z"
   },
   {
    "duration": 53,
    "start_time": "2023-05-17T05:04:58.167Z"
   },
   {
    "duration": 37,
    "start_time": "2023-05-17T05:04:58.221Z"
   },
   {
    "duration": 60,
    "start_time": "2023-05-17T05:04:58.260Z"
   },
   {
    "duration": 13,
    "start_time": "2023-05-17T05:04:58.322Z"
   },
   {
    "duration": 15,
    "start_time": "2023-05-17T05:04:58.337Z"
   },
   {
    "duration": 14,
    "start_time": "2023-05-17T05:04:58.353Z"
   },
   {
    "duration": 7,
    "start_time": "2023-05-17T05:04:58.369Z"
   },
   {
    "duration": 33,
    "start_time": "2023-05-17T05:04:58.377Z"
   },
   {
    "duration": 7,
    "start_time": "2023-05-17T05:04:58.419Z"
   },
   {
    "duration": 16,
    "start_time": "2023-05-17T05:04:58.428Z"
   },
   {
    "duration": 12,
    "start_time": "2023-05-17T05:04:58.445Z"
   },
   {
    "duration": 63,
    "start_time": "2023-05-17T05:04:58.459Z"
   },
   {
    "duration": 4,
    "start_time": "2023-05-17T05:04:58.524Z"
   },
   {
    "duration": 19,
    "start_time": "2023-05-17T05:04:58.530Z"
   },
   {
    "duration": 3,
    "start_time": "2023-05-17T05:04:58.550Z"
   },
   {
    "duration": 39,
    "start_time": "2023-05-17T05:04:58.555Z"
   },
   {
    "duration": 20,
    "start_time": "2023-05-17T05:04:58.602Z"
   },
   {
    "duration": 37,
    "start_time": "2023-05-17T05:04:58.623Z"
   },
   {
    "duration": 47,
    "start_time": "2023-05-17T05:04:58.661Z"
   },
   {
    "duration": 1748,
    "start_time": "2023-05-17T05:04:58.709Z"
   },
   {
    "duration": 6,
    "start_time": "2023-05-17T05:05:00.458Z"
   },
   {
    "duration": 162,
    "start_time": "2023-05-17T05:05:00.465Z"
   },
   {
    "duration": 7,
    "start_time": "2023-05-17T05:05:00.630Z"
   },
   {
    "duration": 71,
    "start_time": "2023-05-17T05:05:00.639Z"
   },
   {
    "duration": 173,
    "start_time": "2023-05-17T05:05:00.711Z"
   },
   {
    "duration": 7,
    "start_time": "2023-05-17T05:05:00.885Z"
   },
   {
    "duration": 165,
    "start_time": "2023-05-17T05:05:00.893Z"
   },
   {
    "duration": 7,
    "start_time": "2023-05-17T05:05:01.060Z"
   },
   {
    "duration": 309,
    "start_time": "2023-05-17T05:05:01.069Z"
   },
   {
    "duration": 27,
    "start_time": "2023-05-17T05:05:01.380Z"
   },
   {
    "duration": 89,
    "start_time": "2023-05-17T05:05:01.409Z"
   },
   {
    "duration": 83,
    "start_time": "2023-05-17T05:05:01.499Z"
   },
   {
    "duration": 83,
    "start_time": "2023-05-17T05:05:01.583Z"
   },
   {
    "duration": 75,
    "start_time": "2023-05-17T05:05:01.667Z"
   },
   {
    "duration": 250,
    "start_time": "2023-05-17T05:05:01.744Z"
   },
   {
    "duration": 147,
    "start_time": "2023-05-17T05:05:01.995Z"
   },
   {
    "duration": 7,
    "start_time": "2023-05-17T05:05:02.144Z"
   },
   {
    "duration": 65,
    "start_time": "2023-05-17T05:05:02.153Z"
   },
   {
    "duration": 183,
    "start_time": "2023-05-17T05:05:02.219Z"
   },
   {
    "duration": 159,
    "start_time": "2023-05-17T05:05:02.403Z"
   },
   {
    "duration": 7,
    "start_time": "2023-05-17T05:05:02.563Z"
   },
   {
    "duration": 208,
    "start_time": "2023-05-17T05:05:02.571Z"
   },
   {
    "duration": 284,
    "start_time": "2023-05-17T05:05:02.780Z"
   },
   {
    "duration": 964,
    "start_time": "2023-05-17T05:05:03.066Z"
   },
   {
    "duration": 20,
    "start_time": "2023-05-17T05:05:04.032Z"
   },
   {
    "duration": 269,
    "start_time": "2023-05-17T05:05:04.053Z"
   },
   {
    "duration": 49,
    "start_time": "2023-05-17T05:05:04.324Z"
   },
   {
    "duration": 50,
    "start_time": "2023-05-17T05:05:04.375Z"
   },
   {
    "duration": 24,
    "start_time": "2023-05-17T05:05:04.426Z"
   },
   {
    "duration": 17,
    "start_time": "2023-05-17T05:05:40.408Z"
   },
   {
    "duration": 1086,
    "start_time": "2023-05-17T05:05:46.220Z"
   },
   {
    "duration": 40,
    "start_time": "2023-05-17T05:05:47.307Z"
   },
   {
    "duration": 10,
    "start_time": "2023-05-17T05:05:47.348Z"
   },
   {
    "duration": 51,
    "start_time": "2023-05-17T05:05:47.360Z"
   },
   {
    "duration": 14,
    "start_time": "2023-05-17T05:05:47.416Z"
   },
   {
    "duration": 25,
    "start_time": "2023-05-17T05:05:47.431Z"
   },
   {
    "duration": 11,
    "start_time": "2023-05-17T05:05:47.457Z"
   },
   {
    "duration": 12,
    "start_time": "2023-05-17T05:05:47.470Z"
   },
   {
    "duration": 35,
    "start_time": "2023-05-17T05:05:47.484Z"
   },
   {
    "duration": 15,
    "start_time": "2023-05-17T05:05:47.521Z"
   },
   {
    "duration": 5,
    "start_time": "2023-05-17T05:05:47.538Z"
   },
   {
    "duration": 10,
    "start_time": "2023-05-17T05:05:47.544Z"
   },
   {
    "duration": 11,
    "start_time": "2023-05-17T05:05:47.555Z"
   },
   {
    "duration": 10,
    "start_time": "2023-05-17T05:05:47.569Z"
   },
   {
    "duration": 36,
    "start_time": "2023-05-17T05:05:47.580Z"
   },
   {
    "duration": 10,
    "start_time": "2023-05-17T05:05:47.619Z"
   },
   {
    "duration": 9,
    "start_time": "2023-05-17T05:05:47.631Z"
   },
   {
    "duration": 4,
    "start_time": "2023-05-17T05:05:47.641Z"
   },
   {
    "duration": 9,
    "start_time": "2023-05-17T05:05:47.646Z"
   },
   {
    "duration": 2,
    "start_time": "2023-05-17T05:05:47.656Z"
   },
   {
    "duration": 44,
    "start_time": "2023-05-17T05:05:47.660Z"
   },
   {
    "duration": 8,
    "start_time": "2023-05-17T05:05:47.711Z"
   },
   {
    "duration": 7,
    "start_time": "2023-05-17T05:05:47.720Z"
   },
   {
    "duration": 28,
    "start_time": "2023-05-17T05:05:47.728Z"
   },
   {
    "duration": 1977,
    "start_time": "2023-05-17T05:05:47.758Z"
   },
   {
    "duration": 6,
    "start_time": "2023-05-17T05:05:49.736Z"
   },
   {
    "duration": 175,
    "start_time": "2023-05-17T05:05:49.743Z"
   },
   {
    "duration": 17,
    "start_time": "2023-05-17T05:05:49.921Z"
   },
   {
    "duration": 11,
    "start_time": "2023-05-17T05:05:49.940Z"
   },
   {
    "duration": 199,
    "start_time": "2023-05-17T05:05:49.953Z"
   },
   {
    "duration": 16,
    "start_time": "2023-05-17T05:05:50.154Z"
   },
   {
    "duration": 228,
    "start_time": "2023-05-17T05:05:50.172Z"
   },
   {
    "duration": 15,
    "start_time": "2023-05-17T05:05:50.420Z"
   },
   {
    "duration": 285,
    "start_time": "2023-05-17T05:05:50.437Z"
   },
   {
    "duration": 12,
    "start_time": "2023-05-17T05:05:50.724Z"
   },
   {
    "duration": 35,
    "start_time": "2023-05-17T05:05:50.738Z"
   },
   {
    "duration": 18,
    "start_time": "2023-05-17T05:05:50.784Z"
   },
   {
    "duration": 42,
    "start_time": "2023-05-17T05:05:50.807Z"
   },
   {
    "duration": 21,
    "start_time": "2023-05-17T05:05:50.851Z"
   },
   {
    "duration": 174,
    "start_time": "2023-05-17T05:05:50.874Z"
   },
   {
    "duration": 189,
    "start_time": "2023-05-17T05:05:51.052Z"
   },
   {
    "duration": 8,
    "start_time": "2023-05-17T05:05:51.243Z"
   },
   {
    "duration": 13,
    "start_time": "2023-05-17T05:05:51.252Z"
   },
   {
    "duration": 177,
    "start_time": "2023-05-17T05:05:51.266Z"
   },
   {
    "duration": 145,
    "start_time": "2023-05-17T05:05:51.445Z"
   },
   {
    "duration": 21,
    "start_time": "2023-05-17T05:05:51.599Z"
   },
   {
    "duration": 18,
    "start_time": "2023-05-17T05:05:51.622Z"
   },
   {
    "duration": 31,
    "start_time": "2023-05-17T05:05:51.642Z"
   },
   {
    "duration": 1028,
    "start_time": "2023-05-17T05:05:51.674Z"
   },
   {
    "duration": 29,
    "start_time": "2023-05-17T05:05:52.703Z"
   },
   {
    "duration": 5,
    "start_time": "2023-05-17T05:05:52.734Z"
   },
   {
    "duration": 9,
    "start_time": "2023-05-17T05:05:52.741Z"
   },
   {
    "duration": 19,
    "start_time": "2023-05-17T05:05:52.751Z"
   },
   {
    "duration": 16,
    "start_time": "2023-05-17T05:05:52.772Z"
   },
   {
    "duration": 131,
    "start_time": "2023-05-17T05:11:20.534Z"
   },
   {
    "duration": 129,
    "start_time": "2023-05-17T05:13:52.873Z"
   },
   {
    "duration": 116,
    "start_time": "2023-05-17T05:13:58.551Z"
   },
   {
    "duration": 105,
    "start_time": "2023-05-17T05:14:35.444Z"
   },
   {
    "duration": 122,
    "start_time": "2023-05-17T05:14:41.711Z"
   },
   {
    "duration": 113,
    "start_time": "2023-05-17T05:14:50.866Z"
   },
   {
    "duration": 2168,
    "start_time": "2023-05-17T05:23:17.572Z"
   },
   {
    "duration": 1810,
    "start_time": "2023-05-17T05:23:35.229Z"
   },
   {
    "duration": 3297,
    "start_time": "2023-05-17T05:23:45.056Z"
   },
   {
    "duration": 70,
    "start_time": "2023-05-17T05:23:48.354Z"
   },
   {
    "duration": 13,
    "start_time": "2023-05-17T05:23:48.426Z"
   },
   {
    "duration": 81,
    "start_time": "2023-05-17T05:23:48.441Z"
   },
   {
    "duration": 9,
    "start_time": "2023-05-17T05:23:48.531Z"
   },
   {
    "duration": 20,
    "start_time": "2023-05-17T05:23:48.542Z"
   },
   {
    "duration": 8,
    "start_time": "2023-05-17T05:23:48.563Z"
   },
   {
    "duration": 9,
    "start_time": "2023-05-17T05:23:48.573Z"
   },
   {
    "duration": 62,
    "start_time": "2023-05-17T05:23:48.583Z"
   },
   {
    "duration": 16,
    "start_time": "2023-05-17T05:23:48.651Z"
   },
   {
    "duration": 4,
    "start_time": "2023-05-17T05:23:48.668Z"
   },
   {
    "duration": 4,
    "start_time": "2023-05-17T05:23:48.673Z"
   },
   {
    "duration": 27,
    "start_time": "2023-05-17T05:23:48.679Z"
   },
   {
    "duration": 36,
    "start_time": "2023-05-17T05:23:48.707Z"
   },
   {
    "duration": 12,
    "start_time": "2023-05-17T05:23:48.744Z"
   },
   {
    "duration": 9,
    "start_time": "2023-05-17T05:23:48.758Z"
   },
   {
    "duration": 6,
    "start_time": "2023-05-17T05:23:48.768Z"
   },
   {
    "duration": 5,
    "start_time": "2023-05-17T05:23:48.775Z"
   },
   {
    "duration": 23,
    "start_time": "2023-05-17T05:23:48.781Z"
   },
   {
    "duration": 39,
    "start_time": "2023-05-17T05:23:48.805Z"
   },
   {
    "duration": 11,
    "start_time": "2023-05-17T05:23:48.845Z"
   },
   {
    "duration": 6,
    "start_time": "2023-05-17T05:23:48.858Z"
   },
   {
    "duration": 11,
    "start_time": "2023-05-17T05:23:48.865Z"
   },
   {
    "duration": 17,
    "start_time": "2023-05-17T05:23:48.877Z"
   },
   {
    "duration": 2156,
    "start_time": "2023-05-17T05:23:48.895Z"
   },
   {
    "duration": 0,
    "start_time": "2023-05-17T05:23:51.053Z"
   },
   {
    "duration": 0,
    "start_time": "2023-05-17T05:23:51.054Z"
   },
   {
    "duration": 0,
    "start_time": "2023-05-17T05:23:51.055Z"
   },
   {
    "duration": 0,
    "start_time": "2023-05-17T05:23:51.056Z"
   },
   {
    "duration": 0,
    "start_time": "2023-05-17T05:23:51.057Z"
   },
   {
    "duration": 1,
    "start_time": "2023-05-17T05:23:51.057Z"
   },
   {
    "duration": 0,
    "start_time": "2023-05-17T05:23:51.059Z"
   },
   {
    "duration": 0,
    "start_time": "2023-05-17T05:23:51.060Z"
   },
   {
    "duration": 0,
    "start_time": "2023-05-17T05:23:51.062Z"
   },
   {
    "duration": 0,
    "start_time": "2023-05-17T05:23:51.062Z"
   },
   {
    "duration": 0,
    "start_time": "2023-05-17T05:23:51.064Z"
   },
   {
    "duration": 0,
    "start_time": "2023-05-17T05:23:51.065Z"
   },
   {
    "duration": 0,
    "start_time": "2023-05-17T05:23:51.066Z"
   },
   {
    "duration": 0,
    "start_time": "2023-05-17T05:23:51.067Z"
   },
   {
    "duration": 0,
    "start_time": "2023-05-17T05:23:51.068Z"
   },
   {
    "duration": 0,
    "start_time": "2023-05-17T05:23:51.069Z"
   },
   {
    "duration": 0,
    "start_time": "2023-05-17T05:23:51.071Z"
   },
   {
    "duration": 0,
    "start_time": "2023-05-17T05:23:51.072Z"
   },
   {
    "duration": 0,
    "start_time": "2023-05-17T05:23:51.073Z"
   },
   {
    "duration": 0,
    "start_time": "2023-05-17T05:23:51.075Z"
   },
   {
    "duration": 0,
    "start_time": "2023-05-17T05:23:51.076Z"
   },
   {
    "duration": 0,
    "start_time": "2023-05-17T05:23:51.078Z"
   },
   {
    "duration": 0,
    "start_time": "2023-05-17T05:23:51.079Z"
   },
   {
    "duration": 0,
    "start_time": "2023-05-17T05:23:51.080Z"
   },
   {
    "duration": 0,
    "start_time": "2023-05-17T05:23:51.081Z"
   },
   {
    "duration": 0,
    "start_time": "2023-05-17T05:23:51.083Z"
   },
   {
    "duration": 0,
    "start_time": "2023-05-17T05:23:51.089Z"
   },
   {
    "duration": 0,
    "start_time": "2023-05-17T05:23:51.091Z"
   },
   {
    "duration": 0,
    "start_time": "2023-05-17T05:23:51.092Z"
   },
   {
    "duration": 208,
    "start_time": "2023-05-17T05:24:23.948Z"
   },
   {
    "duration": 1859,
    "start_time": "2023-05-17T05:24:37.767Z"
   },
   {
    "duration": 377,
    "start_time": "2023-05-17T05:26:50.403Z"
   },
   {
    "duration": 1164,
    "start_time": "2023-05-17T05:27:04.214Z"
   },
   {
    "duration": 67,
    "start_time": "2023-05-17T05:27:05.380Z"
   },
   {
    "duration": 11,
    "start_time": "2023-05-17T05:27:05.449Z"
   },
   {
    "duration": 56,
    "start_time": "2023-05-17T05:27:05.462Z"
   },
   {
    "duration": 14,
    "start_time": "2023-05-17T05:27:05.520Z"
   },
   {
    "duration": 39,
    "start_time": "2023-05-17T05:27:05.535Z"
   },
   {
    "duration": 8,
    "start_time": "2023-05-17T05:27:05.575Z"
   },
   {
    "duration": 91,
    "start_time": "2023-05-17T05:27:05.584Z"
   },
   {
    "duration": 74,
    "start_time": "2023-05-17T05:27:05.677Z"
   },
   {
    "duration": 59,
    "start_time": "2023-05-17T05:27:05.755Z"
   },
   {
    "duration": 45,
    "start_time": "2023-05-17T05:27:05.816Z"
   },
   {
    "duration": 15,
    "start_time": "2023-05-17T05:27:05.863Z"
   },
   {
    "duration": 16,
    "start_time": "2023-05-17T05:27:05.879Z"
   },
   {
    "duration": 81,
    "start_time": "2023-05-17T05:27:05.897Z"
   },
   {
    "duration": 100,
    "start_time": "2023-05-17T05:27:05.980Z"
   },
   {
    "duration": 85,
    "start_time": "2023-05-17T05:27:06.082Z"
   },
   {
    "duration": 12,
    "start_time": "2023-05-17T05:27:06.169Z"
   },
   {
    "duration": 28,
    "start_time": "2023-05-17T05:27:06.184Z"
   },
   {
    "duration": 65,
    "start_time": "2023-05-17T05:27:06.213Z"
   },
   {
    "duration": 91,
    "start_time": "2023-05-17T05:27:06.280Z"
   },
   {
    "duration": 67,
    "start_time": "2023-05-17T05:27:06.373Z"
   },
   {
    "duration": 22,
    "start_time": "2023-05-17T05:27:06.447Z"
   },
   {
    "duration": 55,
    "start_time": "2023-05-17T05:27:06.470Z"
   },
   {
    "duration": 46,
    "start_time": "2023-05-17T05:27:06.526Z"
   },
   {
    "duration": 456,
    "start_time": "2023-05-17T05:27:06.574Z"
   },
   {
    "duration": 0,
    "start_time": "2023-05-17T05:27:07.032Z"
   },
   {
    "duration": 0,
    "start_time": "2023-05-17T05:27:07.034Z"
   },
   {
    "duration": 0,
    "start_time": "2023-05-17T05:27:07.035Z"
   },
   {
    "duration": 0,
    "start_time": "2023-05-17T05:27:07.036Z"
   },
   {
    "duration": 0,
    "start_time": "2023-05-17T05:27:07.036Z"
   },
   {
    "duration": 0,
    "start_time": "2023-05-17T05:27:07.037Z"
   },
   {
    "duration": 0,
    "start_time": "2023-05-17T05:27:07.038Z"
   },
   {
    "duration": 0,
    "start_time": "2023-05-17T05:27:07.038Z"
   },
   {
    "duration": 0,
    "start_time": "2023-05-17T05:27:07.039Z"
   },
   {
    "duration": 0,
    "start_time": "2023-05-17T05:27:07.040Z"
   },
   {
    "duration": 0,
    "start_time": "2023-05-17T05:27:07.040Z"
   },
   {
    "duration": 0,
    "start_time": "2023-05-17T05:27:07.041Z"
   },
   {
    "duration": 0,
    "start_time": "2023-05-17T05:27:07.046Z"
   },
   {
    "duration": 0,
    "start_time": "2023-05-17T05:27:07.047Z"
   },
   {
    "duration": 0,
    "start_time": "2023-05-17T05:27:07.048Z"
   },
   {
    "duration": 0,
    "start_time": "2023-05-17T05:27:07.048Z"
   },
   {
    "duration": 0,
    "start_time": "2023-05-17T05:27:07.049Z"
   },
   {
    "duration": 0,
    "start_time": "2023-05-17T05:27:07.050Z"
   },
   {
    "duration": 0,
    "start_time": "2023-05-17T05:27:07.051Z"
   },
   {
    "duration": 0,
    "start_time": "2023-05-17T05:27:07.051Z"
   },
   {
    "duration": 0,
    "start_time": "2023-05-17T05:27:07.052Z"
   },
   {
    "duration": 0,
    "start_time": "2023-05-17T05:27:07.053Z"
   },
   {
    "duration": 0,
    "start_time": "2023-05-17T05:27:07.053Z"
   },
   {
    "duration": 0,
    "start_time": "2023-05-17T05:27:07.054Z"
   },
   {
    "duration": 0,
    "start_time": "2023-05-17T05:27:07.055Z"
   },
   {
    "duration": 0,
    "start_time": "2023-05-17T05:27:07.055Z"
   },
   {
    "duration": 0,
    "start_time": "2023-05-17T05:27:07.056Z"
   },
   {
    "duration": 0,
    "start_time": "2023-05-17T05:27:07.057Z"
   },
   {
    "duration": 0,
    "start_time": "2023-05-17T05:27:07.057Z"
   },
   {
    "duration": 225,
    "start_time": "2023-05-17T05:27:25.439Z"
   },
   {
    "duration": 1918,
    "start_time": "2023-05-17T05:27:36.565Z"
   },
   {
    "duration": 48,
    "start_time": "2023-05-17T16:41:59.127Z"
   },
   {
    "duration": 1292,
    "start_time": "2023-05-17T16:42:05.811Z"
   },
   {
    "duration": 113,
    "start_time": "2023-05-17T16:42:07.106Z"
   },
   {
    "duration": 12,
    "start_time": "2023-05-17T16:42:07.223Z"
   },
   {
    "duration": 170,
    "start_time": "2023-05-17T16:42:07.237Z"
   },
   {
    "duration": 12,
    "start_time": "2023-05-17T16:42:07.408Z"
   },
   {
    "duration": 60,
    "start_time": "2023-05-17T16:42:07.422Z"
   },
   {
    "duration": 10,
    "start_time": "2023-05-17T16:42:07.483Z"
   },
   {
    "duration": 9,
    "start_time": "2023-05-17T16:42:07.494Z"
   },
   {
    "duration": 11,
    "start_time": "2023-05-17T16:42:07.506Z"
   },
   {
    "duration": 21,
    "start_time": "2023-05-17T16:42:07.518Z"
   },
   {
    "duration": 5,
    "start_time": "2023-05-17T16:42:07.541Z"
   },
   {
    "duration": 6,
    "start_time": "2023-05-17T16:42:07.547Z"
   },
   {
    "duration": 11,
    "start_time": "2023-05-17T16:42:07.554Z"
   },
   {
    "duration": 9,
    "start_time": "2023-05-17T16:42:07.567Z"
   },
   {
    "duration": 7,
    "start_time": "2023-05-17T16:42:07.578Z"
   },
   {
    "duration": 41,
    "start_time": "2023-05-17T16:42:07.587Z"
   },
   {
    "duration": 8,
    "start_time": "2023-05-17T16:42:07.630Z"
   },
   {
    "duration": 6,
    "start_time": "2023-05-17T16:42:07.639Z"
   },
   {
    "duration": 12,
    "start_time": "2023-05-17T16:42:07.646Z"
   },
   {
    "duration": 3,
    "start_time": "2023-05-17T16:42:07.659Z"
   },
   {
    "duration": 15,
    "start_time": "2023-05-17T16:42:07.664Z"
   },
   {
    "duration": 8,
    "start_time": "2023-05-17T16:42:07.681Z"
   },
   {
    "duration": 37,
    "start_time": "2023-05-17T16:42:07.690Z"
   },
   {
    "duration": 7,
    "start_time": "2023-05-17T16:42:07.729Z"
   },
   {
    "duration": 161,
    "start_time": "2023-05-17T16:42:07.737Z"
   },
   {
    "duration": 2210,
    "start_time": "2023-05-17T16:42:07.900Z"
   },
   {
    "duration": 13,
    "start_time": "2023-05-17T16:42:10.114Z"
   },
   {
    "duration": 134,
    "start_time": "2023-05-17T16:42:10.130Z"
   },
   {
    "duration": 8,
    "start_time": "2023-05-17T16:42:10.266Z"
   },
   {
    "duration": 10,
    "start_time": "2023-05-17T16:42:10.275Z"
   },
   {
    "duration": 315,
    "start_time": "2023-05-17T16:42:10.287Z"
   },
   {
    "duration": 9,
    "start_time": "2023-05-17T16:42:10.604Z"
   },
   {
    "duration": 202,
    "start_time": "2023-05-17T16:42:10.615Z"
   },
   {
    "duration": 15,
    "start_time": "2023-05-17T16:42:10.819Z"
   },
   {
    "duration": 181,
    "start_time": "2023-05-17T16:42:10.835Z"
   },
   {
    "duration": 16,
    "start_time": "2023-05-17T16:42:11.018Z"
   },
   {
    "duration": 26,
    "start_time": "2023-05-17T16:42:11.035Z"
   },
   {
    "duration": 10,
    "start_time": "2023-05-17T16:42:11.062Z"
   },
   {
    "duration": 26,
    "start_time": "2023-05-17T16:42:11.073Z"
   },
   {
    "duration": 35,
    "start_time": "2023-05-17T16:42:11.100Z"
   },
   {
    "duration": 178,
    "start_time": "2023-05-17T16:42:11.136Z"
   },
   {
    "duration": 172,
    "start_time": "2023-05-17T16:42:11.316Z"
   },
   {
    "duration": 9,
    "start_time": "2023-05-17T16:42:11.489Z"
   },
   {
    "duration": 29,
    "start_time": "2023-05-17T16:42:11.500Z"
   },
   {
    "duration": 158,
    "start_time": "2023-05-17T16:42:11.531Z"
   },
   {
    "duration": 183,
    "start_time": "2023-05-17T16:42:11.691Z"
   },
   {
    "duration": 9,
    "start_time": "2023-05-17T16:42:11.876Z"
   },
   {
    "duration": 10,
    "start_time": "2023-05-17T16:42:11.887Z"
   },
   {
    "duration": 46,
    "start_time": "2023-05-17T16:42:11.898Z"
   },
   {
    "duration": 881,
    "start_time": "2023-05-17T16:42:11.945Z"
   },
   {
    "duration": 33,
    "start_time": "2023-05-17T16:42:12.828Z"
   },
   {
    "duration": 6,
    "start_time": "2023-05-17T16:42:12.863Z"
   },
   {
    "duration": 7,
    "start_time": "2023-05-17T16:42:12.871Z"
   },
   {
    "duration": 10,
    "start_time": "2023-05-17T16:42:12.880Z"
   },
   {
    "duration": 36,
    "start_time": "2023-05-17T16:42:12.892Z"
   },
   {
    "duration": 134,
    "start_time": "2023-05-17T16:42:21.546Z"
   },
   {
    "duration": 6,
    "start_time": "2023-05-17T16:42:35.245Z"
   },
   {
    "duration": 136,
    "start_time": "2023-05-17T16:42:35.757Z"
   },
   {
    "duration": 5,
    "start_time": "2023-05-17T16:44:44.516Z"
   },
   {
    "duration": 6,
    "start_time": "2023-05-17T16:45:00.443Z"
   },
   {
    "duration": 141,
    "start_time": "2023-05-17T16:45:01.406Z"
   },
   {
    "duration": 131,
    "start_time": "2023-05-17T16:45:06.508Z"
   },
   {
    "duration": 6,
    "start_time": "2023-05-17T16:45:14.038Z"
   },
   {
    "duration": 141,
    "start_time": "2023-05-17T16:45:15.911Z"
   },
   {
    "duration": 236,
    "start_time": "2023-05-17T16:48:37.079Z"
   },
   {
    "duration": 127,
    "start_time": "2023-05-17T16:48:42.056Z"
   },
   {
    "duration": 130,
    "start_time": "2023-05-17T16:48:50.544Z"
   },
   {
    "duration": 143,
    "start_time": "2023-05-17T16:48:52.784Z"
   },
   {
    "duration": 143,
    "start_time": "2023-05-17T16:52:06.318Z"
   },
   {
    "duration": 297,
    "start_time": "2023-05-17T16:52:23.587Z"
   },
   {
    "duration": 215,
    "start_time": "2023-05-17T16:54:14.722Z"
   },
   {
    "duration": 9,
    "start_time": "2023-05-17T16:56:17.113Z"
   },
   {
    "duration": 11,
    "start_time": "2023-05-17T16:56:37.192Z"
   },
   {
    "duration": 135,
    "start_time": "2023-05-17T16:56:37.905Z"
   },
   {
    "duration": 8,
    "start_time": "2023-05-17T16:56:59.585Z"
   },
   {
    "duration": 140,
    "start_time": "2023-05-17T16:57:01.298Z"
   },
   {
    "duration": 1094,
    "start_time": "2023-05-17T16:57:17.187Z"
   },
   {
    "duration": 40,
    "start_time": "2023-05-17T16:57:18.283Z"
   },
   {
    "duration": 13,
    "start_time": "2023-05-17T16:57:18.325Z"
   },
   {
    "duration": 38,
    "start_time": "2023-05-17T16:57:18.340Z"
   },
   {
    "duration": 10,
    "start_time": "2023-05-17T16:57:18.381Z"
   },
   {
    "duration": 20,
    "start_time": "2023-05-17T16:57:18.393Z"
   },
   {
    "duration": 19,
    "start_time": "2023-05-17T16:57:18.415Z"
   },
   {
    "duration": 14,
    "start_time": "2023-05-17T16:57:18.436Z"
   },
   {
    "duration": 11,
    "start_time": "2023-05-17T16:57:18.452Z"
   },
   {
    "duration": 15,
    "start_time": "2023-05-17T16:57:18.465Z"
   },
   {
    "duration": 5,
    "start_time": "2023-05-17T16:57:18.482Z"
   },
   {
    "duration": 37,
    "start_time": "2023-05-17T16:57:18.488Z"
   },
   {
    "duration": 7,
    "start_time": "2023-05-17T16:57:18.527Z"
   },
   {
    "duration": 12,
    "start_time": "2023-05-17T16:57:18.537Z"
   },
   {
    "duration": 6,
    "start_time": "2023-05-17T16:57:18.551Z"
   },
   {
    "duration": 9,
    "start_time": "2023-05-17T16:57:18.558Z"
   },
   {
    "duration": 10,
    "start_time": "2023-05-17T16:57:18.569Z"
   },
   {
    "duration": 5,
    "start_time": "2023-05-17T16:57:18.581Z"
   },
   {
    "duration": 43,
    "start_time": "2023-05-17T16:57:18.588Z"
   },
   {
    "duration": 3,
    "start_time": "2023-05-17T16:57:18.633Z"
   },
   {
    "duration": 13,
    "start_time": "2023-05-17T16:57:18.637Z"
   },
   {
    "duration": 7,
    "start_time": "2023-05-17T16:57:18.651Z"
   },
   {
    "duration": 119,
    "start_time": "2023-05-17T16:57:18.660Z"
   },
   {
    "duration": 0,
    "start_time": "2023-05-17T16:57:18.782Z"
   },
   {
    "duration": 0,
    "start_time": "2023-05-17T16:57:18.783Z"
   },
   {
    "duration": 0,
    "start_time": "2023-05-17T16:57:18.784Z"
   },
   {
    "duration": 0,
    "start_time": "2023-05-17T16:57:18.785Z"
   },
   {
    "duration": 0,
    "start_time": "2023-05-17T16:57:18.787Z"
   },
   {
    "duration": 0,
    "start_time": "2023-05-17T16:57:18.788Z"
   },
   {
    "duration": 0,
    "start_time": "2023-05-17T16:57:18.789Z"
   },
   {
    "duration": 0,
    "start_time": "2023-05-17T16:57:18.789Z"
   },
   {
    "duration": 0,
    "start_time": "2023-05-17T16:57:18.791Z"
   },
   {
    "duration": 0,
    "start_time": "2023-05-17T16:57:18.792Z"
   },
   {
    "duration": 1,
    "start_time": "2023-05-17T16:57:18.793Z"
   },
   {
    "duration": 0,
    "start_time": "2023-05-17T16:57:18.795Z"
   },
   {
    "duration": 0,
    "start_time": "2023-05-17T16:57:18.796Z"
   },
   {
    "duration": 0,
    "start_time": "2023-05-17T16:57:18.796Z"
   },
   {
    "duration": 0,
    "start_time": "2023-05-17T16:57:18.797Z"
   },
   {
    "duration": 0,
    "start_time": "2023-05-17T16:57:18.825Z"
   },
   {
    "duration": 0,
    "start_time": "2023-05-17T16:57:18.826Z"
   },
   {
    "duration": 0,
    "start_time": "2023-05-17T16:57:18.827Z"
   },
   {
    "duration": 0,
    "start_time": "2023-05-17T16:57:18.828Z"
   },
   {
    "duration": 0,
    "start_time": "2023-05-17T16:57:18.829Z"
   },
   {
    "duration": 0,
    "start_time": "2023-05-17T16:57:18.831Z"
   },
   {
    "duration": 0,
    "start_time": "2023-05-17T16:57:18.833Z"
   },
   {
    "duration": 0,
    "start_time": "2023-05-17T16:57:18.834Z"
   },
   {
    "duration": 0,
    "start_time": "2023-05-17T16:57:18.835Z"
   },
   {
    "duration": 0,
    "start_time": "2023-05-17T16:57:18.837Z"
   },
   {
    "duration": 0,
    "start_time": "2023-05-17T16:57:18.838Z"
   },
   {
    "duration": 0,
    "start_time": "2023-05-17T16:57:18.840Z"
   },
   {
    "duration": 0,
    "start_time": "2023-05-17T16:57:18.843Z"
   },
   {
    "duration": 0,
    "start_time": "2023-05-17T16:57:18.844Z"
   },
   {
    "duration": 0,
    "start_time": "2023-05-17T16:57:18.846Z"
   },
   {
    "duration": 0,
    "start_time": "2023-05-17T16:57:18.849Z"
   },
   {
    "duration": 8,
    "start_time": "2023-05-17T16:59:04.835Z"
   },
   {
    "duration": 8,
    "start_time": "2023-05-17T16:59:39.315Z"
   },
   {
    "duration": 11,
    "start_time": "2023-05-17T17:00:31.699Z"
   },
   {
    "duration": 10,
    "start_time": "2023-05-17T17:00:38.844Z"
   },
   {
    "duration": 1206,
    "start_time": "2023-05-17T17:00:44.712Z"
   },
   {
    "duration": 43,
    "start_time": "2023-05-17T17:00:45.921Z"
   },
   {
    "duration": 13,
    "start_time": "2023-05-17T17:00:45.966Z"
   },
   {
    "duration": 43,
    "start_time": "2023-05-17T17:00:45.981Z"
   },
   {
    "duration": 13,
    "start_time": "2023-05-17T17:00:46.026Z"
   },
   {
    "duration": 25,
    "start_time": "2023-05-17T17:00:46.041Z"
   },
   {
    "duration": 10,
    "start_time": "2023-05-17T17:00:46.068Z"
   },
   {
    "duration": 19,
    "start_time": "2023-05-17T17:00:46.080Z"
   },
   {
    "duration": 27,
    "start_time": "2023-05-17T17:00:46.101Z"
   },
   {
    "duration": 21,
    "start_time": "2023-05-17T17:00:46.132Z"
   },
   {
    "duration": 5,
    "start_time": "2023-05-17T17:00:46.155Z"
   },
   {
    "duration": 7,
    "start_time": "2023-05-17T17:00:46.162Z"
   },
   {
    "duration": 8,
    "start_time": "2023-05-17T17:00:46.170Z"
   },
   {
    "duration": 12,
    "start_time": "2023-05-17T17:00:46.180Z"
   },
   {
    "duration": 40,
    "start_time": "2023-05-17T17:00:46.194Z"
   },
   {
    "duration": 8,
    "start_time": "2023-05-17T17:00:46.236Z"
   },
   {
    "duration": 11,
    "start_time": "2023-05-17T17:00:46.245Z"
   },
   {
    "duration": 5,
    "start_time": "2023-05-17T17:00:46.258Z"
   },
   {
    "duration": 10,
    "start_time": "2023-05-17T17:00:46.265Z"
   },
   {
    "duration": 3,
    "start_time": "2023-05-17T17:00:46.277Z"
   },
   {
    "duration": 46,
    "start_time": "2023-05-17T17:00:46.281Z"
   },
   {
    "duration": 5,
    "start_time": "2023-05-17T17:00:46.329Z"
   },
   {
    "duration": 114,
    "start_time": "2023-05-17T17:00:46.335Z"
   },
   {
    "duration": 0,
    "start_time": "2023-05-17T17:00:46.451Z"
   },
   {
    "duration": 0,
    "start_time": "2023-05-17T17:00:46.453Z"
   },
   {
    "duration": 0,
    "start_time": "2023-05-17T17:00:46.454Z"
   },
   {
    "duration": 0,
    "start_time": "2023-05-17T17:00:46.455Z"
   },
   {
    "duration": 0,
    "start_time": "2023-05-17T17:00:46.456Z"
   },
   {
    "duration": 0,
    "start_time": "2023-05-17T17:00:46.457Z"
   },
   {
    "duration": 0,
    "start_time": "2023-05-17T17:00:46.458Z"
   },
   {
    "duration": 0,
    "start_time": "2023-05-17T17:00:46.459Z"
   },
   {
    "duration": 0,
    "start_time": "2023-05-17T17:00:46.460Z"
   },
   {
    "duration": 0,
    "start_time": "2023-05-17T17:00:46.461Z"
   },
   {
    "duration": 0,
    "start_time": "2023-05-17T17:00:46.462Z"
   },
   {
    "duration": 0,
    "start_time": "2023-05-17T17:00:46.463Z"
   },
   {
    "duration": 0,
    "start_time": "2023-05-17T17:00:46.464Z"
   },
   {
    "duration": 0,
    "start_time": "2023-05-17T17:00:46.465Z"
   },
   {
    "duration": 0,
    "start_time": "2023-05-17T17:00:46.466Z"
   },
   {
    "duration": 0,
    "start_time": "2023-05-17T17:00:46.467Z"
   },
   {
    "duration": 0,
    "start_time": "2023-05-17T17:00:46.468Z"
   },
   {
    "duration": 0,
    "start_time": "2023-05-17T17:00:46.469Z"
   },
   {
    "duration": 0,
    "start_time": "2023-05-17T17:00:46.471Z"
   },
   {
    "duration": 1,
    "start_time": "2023-05-17T17:00:46.472Z"
   },
   {
    "duration": 0,
    "start_time": "2023-05-17T17:00:46.474Z"
   },
   {
    "duration": 0,
    "start_time": "2023-05-17T17:00:46.475Z"
   },
   {
    "duration": 0,
    "start_time": "2023-05-17T17:00:46.477Z"
   },
   {
    "duration": 0,
    "start_time": "2023-05-17T17:00:46.478Z"
   },
   {
    "duration": 0,
    "start_time": "2023-05-17T17:00:46.480Z"
   },
   {
    "duration": 0,
    "start_time": "2023-05-17T17:00:46.532Z"
   },
   {
    "duration": 0,
    "start_time": "2023-05-17T17:00:46.533Z"
   },
   {
    "duration": 0,
    "start_time": "2023-05-17T17:00:46.535Z"
   },
   {
    "duration": 0,
    "start_time": "2023-05-17T17:00:46.536Z"
   },
   {
    "duration": 0,
    "start_time": "2023-05-17T17:00:46.538Z"
   },
   {
    "duration": 0,
    "start_time": "2023-05-17T17:00:46.539Z"
   },
   {
    "duration": 0,
    "start_time": "2023-05-17T17:00:46.541Z"
   },
   {
    "duration": 6,
    "start_time": "2023-05-17T17:01:06.858Z"
   },
   {
    "duration": 5,
    "start_time": "2023-05-17T17:01:18.092Z"
   },
   {
    "duration": 212,
    "start_time": "2023-05-17T17:01:19.542Z"
   },
   {
    "duration": 1156,
    "start_time": "2023-05-17T17:01:25.538Z"
   },
   {
    "duration": 42,
    "start_time": "2023-05-17T17:01:26.696Z"
   },
   {
    "duration": 12,
    "start_time": "2023-05-17T17:01:26.740Z"
   },
   {
    "duration": 80,
    "start_time": "2023-05-17T17:01:26.754Z"
   },
   {
    "duration": 29,
    "start_time": "2023-05-17T17:01:26.836Z"
   },
   {
    "duration": 24,
    "start_time": "2023-05-17T17:01:26.867Z"
   },
   {
    "duration": 11,
    "start_time": "2023-05-17T17:01:26.895Z"
   },
   {
    "duration": 27,
    "start_time": "2023-05-17T17:01:26.908Z"
   },
   {
    "duration": 23,
    "start_time": "2023-05-17T17:01:26.937Z"
   },
   {
    "duration": 52,
    "start_time": "2023-05-17T17:01:26.962Z"
   },
   {
    "duration": 8,
    "start_time": "2023-05-17T17:01:27.016Z"
   },
   {
    "duration": 26,
    "start_time": "2023-05-17T17:01:27.026Z"
   },
   {
    "duration": 29,
    "start_time": "2023-05-17T17:01:27.054Z"
   },
   {
    "duration": 16,
    "start_time": "2023-05-17T17:01:27.086Z"
   },
   {
    "duration": 50,
    "start_time": "2023-05-17T17:01:27.104Z"
   },
   {
    "duration": 24,
    "start_time": "2023-05-17T17:01:27.156Z"
   },
   {
    "duration": 25,
    "start_time": "2023-05-17T17:01:27.183Z"
   },
   {
    "duration": 29,
    "start_time": "2023-05-17T17:01:27.210Z"
   },
   {
    "duration": 25,
    "start_time": "2023-05-17T17:01:27.241Z"
   },
   {
    "duration": 12,
    "start_time": "2023-05-17T17:01:27.268Z"
   },
   {
    "duration": 42,
    "start_time": "2023-05-17T17:01:27.282Z"
   },
   {
    "duration": 22,
    "start_time": "2023-05-17T17:01:27.328Z"
   },
   {
    "duration": 47,
    "start_time": "2023-05-17T17:01:27.352Z"
   },
   {
    "duration": 38,
    "start_time": "2023-05-17T17:01:27.401Z"
   },
   {
    "duration": 180,
    "start_time": "2023-05-17T17:01:27.440Z"
   },
   {
    "duration": 100,
    "start_time": "2023-05-17T17:01:27.629Z"
   },
   {
    "duration": 0,
    "start_time": "2023-05-17T17:01:27.731Z"
   },
   {
    "duration": 0,
    "start_time": "2023-05-17T17:01:27.732Z"
   },
   {
    "duration": 0,
    "start_time": "2023-05-17T17:01:27.734Z"
   },
   {
    "duration": 0,
    "start_time": "2023-05-17T17:01:27.735Z"
   },
   {
    "duration": 0,
    "start_time": "2023-05-17T17:01:27.736Z"
   },
   {
    "duration": 0,
    "start_time": "2023-05-17T17:01:27.737Z"
   },
   {
    "duration": 0,
    "start_time": "2023-05-17T17:01:27.738Z"
   },
   {
    "duration": 0,
    "start_time": "2023-05-17T17:01:27.739Z"
   },
   {
    "duration": 0,
    "start_time": "2023-05-17T17:01:27.740Z"
   },
   {
    "duration": 0,
    "start_time": "2023-05-17T17:01:27.741Z"
   },
   {
    "duration": 0,
    "start_time": "2023-05-17T17:01:27.742Z"
   },
   {
    "duration": 0,
    "start_time": "2023-05-17T17:01:27.743Z"
   },
   {
    "duration": 0,
    "start_time": "2023-05-17T17:01:27.744Z"
   },
   {
    "duration": 0,
    "start_time": "2023-05-17T17:01:27.745Z"
   },
   {
    "duration": 0,
    "start_time": "2023-05-17T17:01:27.746Z"
   },
   {
    "duration": 0,
    "start_time": "2023-05-17T17:01:27.747Z"
   },
   {
    "duration": 0,
    "start_time": "2023-05-17T17:01:27.748Z"
   },
   {
    "duration": 0,
    "start_time": "2023-05-17T17:01:27.749Z"
   },
   {
    "duration": 0,
    "start_time": "2023-05-17T17:01:27.750Z"
   },
   {
    "duration": 0,
    "start_time": "2023-05-17T17:01:27.751Z"
   },
   {
    "duration": 0,
    "start_time": "2023-05-17T17:01:27.752Z"
   },
   {
    "duration": 0,
    "start_time": "2023-05-17T17:01:27.752Z"
   },
   {
    "duration": 0,
    "start_time": "2023-05-17T17:01:27.753Z"
   },
   {
    "duration": 0,
    "start_time": "2023-05-17T17:01:27.755Z"
   },
   {
    "duration": 0,
    "start_time": "2023-05-17T17:01:27.756Z"
   },
   {
    "duration": 0,
    "start_time": "2023-05-17T17:01:27.757Z"
   },
   {
    "duration": 0,
    "start_time": "2023-05-17T17:01:27.758Z"
   },
   {
    "duration": 0,
    "start_time": "2023-05-17T17:01:27.759Z"
   },
   {
    "duration": 0,
    "start_time": "2023-05-17T17:01:27.760Z"
   },
   {
    "duration": 125,
    "start_time": "2023-05-17T17:02:04.005Z"
   },
   {
    "duration": 157,
    "start_time": "2023-05-17T17:03:01.913Z"
   },
   {
    "duration": 50,
    "start_time": "2023-05-17T17:03:43.452Z"
   },
   {
    "duration": 8,
    "start_time": "2023-05-17T17:04:31.917Z"
   },
   {
    "duration": 1169,
    "start_time": "2023-05-17T17:05:08.033Z"
   },
   {
    "duration": 41,
    "start_time": "2023-05-17T17:05:09.204Z"
   },
   {
    "duration": 13,
    "start_time": "2023-05-17T17:05:09.246Z"
   },
   {
    "duration": 48,
    "start_time": "2023-05-17T17:05:09.262Z"
   },
   {
    "duration": 15,
    "start_time": "2023-05-17T17:05:09.312Z"
   },
   {
    "duration": 28,
    "start_time": "2023-05-17T17:05:09.330Z"
   },
   {
    "duration": 11,
    "start_time": "2023-05-17T17:05:09.360Z"
   },
   {
    "duration": 18,
    "start_time": "2023-05-17T17:05:09.372Z"
   },
   {
    "duration": 16,
    "start_time": "2023-05-17T17:05:09.391Z"
   },
   {
    "duration": 21,
    "start_time": "2023-05-17T17:05:09.411Z"
   },
   {
    "duration": 5,
    "start_time": "2023-05-17T17:05:09.434Z"
   },
   {
    "duration": 8,
    "start_time": "2023-05-17T17:05:09.440Z"
   },
   {
    "duration": 13,
    "start_time": "2023-05-17T17:05:09.450Z"
   },
   {
    "duration": 13,
    "start_time": "2023-05-17T17:05:09.465Z"
   },
   {
    "duration": 10,
    "start_time": "2023-05-17T17:05:09.481Z"
   },
   {
    "duration": 11,
    "start_time": "2023-05-17T17:05:09.493Z"
   },
   {
    "duration": 28,
    "start_time": "2023-05-17T17:05:09.505Z"
   },
   {
    "duration": 44,
    "start_time": "2023-05-17T17:05:09.535Z"
   },
   {
    "duration": 49,
    "start_time": "2023-05-17T17:05:09.581Z"
   },
   {
    "duration": 6,
    "start_time": "2023-05-17T17:05:09.633Z"
   },
   {
    "duration": 20,
    "start_time": "2023-05-17T17:05:09.641Z"
   },
   {
    "duration": 8,
    "start_time": "2023-05-17T17:05:09.663Z"
   },
   {
    "duration": 17,
    "start_time": "2023-05-17T17:05:09.674Z"
   },
   {
    "duration": 7,
    "start_time": "2023-05-17T17:05:09.694Z"
   },
   {
    "duration": 239,
    "start_time": "2023-05-17T17:05:09.726Z"
   },
   {
    "duration": 8,
    "start_time": "2023-05-17T17:05:09.967Z"
   },
   {
    "duration": 156,
    "start_time": "2023-05-17T17:05:09.977Z"
   },
   {
    "duration": 9,
    "start_time": "2023-05-17T17:05:10.138Z"
   },
   {
    "duration": 19,
    "start_time": "2023-05-17T17:05:10.149Z"
   },
   {
    "duration": 215,
    "start_time": "2023-05-17T17:05:10.170Z"
   },
   {
    "duration": 9,
    "start_time": "2023-05-17T17:05:10.387Z"
   },
   {
    "duration": 216,
    "start_time": "2023-05-17T17:05:10.397Z"
   },
   {
    "duration": 17,
    "start_time": "2023-05-17T17:05:10.615Z"
   },
   {
    "duration": 174,
    "start_time": "2023-05-17T17:05:10.634Z"
   },
   {
    "duration": 21,
    "start_time": "2023-05-17T17:05:10.809Z"
   },
   {
    "duration": 40,
    "start_time": "2023-05-17T17:05:10.832Z"
   },
   {
    "duration": 11,
    "start_time": "2023-05-17T17:05:10.874Z"
   },
   {
    "duration": 33,
    "start_time": "2023-05-17T17:05:10.887Z"
   },
   {
    "duration": 25,
    "start_time": "2023-05-17T17:05:10.925Z"
   },
   {
    "duration": 180,
    "start_time": "2023-05-17T17:05:10.951Z"
   },
   {
    "duration": 180,
    "start_time": "2023-05-17T17:05:11.132Z"
   },
   {
    "duration": 18,
    "start_time": "2023-05-17T17:05:11.314Z"
   },
   {
    "duration": 12,
    "start_time": "2023-05-17T17:05:11.334Z"
   },
   {
    "duration": 179,
    "start_time": "2023-05-17T17:05:11.348Z"
   },
   {
    "duration": 180,
    "start_time": "2023-05-17T17:05:11.529Z"
   },
   {
    "duration": 18,
    "start_time": "2023-05-17T17:05:11.711Z"
   },
   {
    "duration": 9,
    "start_time": "2023-05-17T17:05:11.731Z"
   },
   {
    "duration": 24,
    "start_time": "2023-05-17T17:05:11.742Z"
   },
   {
    "duration": 1012,
    "start_time": "2023-05-17T17:05:11.768Z"
   },
   {
    "duration": 23,
    "start_time": "2023-05-17T17:05:12.782Z"
   },
   {
    "duration": 21,
    "start_time": "2023-05-17T17:05:12.807Z"
   },
   {
    "duration": 6,
    "start_time": "2023-05-17T17:05:12.831Z"
   },
   {
    "duration": 12,
    "start_time": "2023-05-17T17:05:12.839Z"
   },
   {
    "duration": 8,
    "start_time": "2023-05-17T17:05:12.854Z"
   },
   {
    "duration": 180,
    "start_time": "2023-05-17T17:06:10.747Z"
   },
   {
    "duration": 197,
    "start_time": "2023-05-17T17:06:23.790Z"
   },
   {
    "duration": 235,
    "start_time": "2023-05-17T17:06:31.591Z"
   },
   {
    "duration": 146,
    "start_time": "2023-05-17T17:07:07.702Z"
   },
   {
    "duration": 637,
    "start_time": "2023-05-17T17:07:11.800Z"
   },
   {
    "duration": 191,
    "start_time": "2023-05-17T17:07:18.327Z"
   },
   {
    "duration": 204,
    "start_time": "2023-05-17T17:07:22.398Z"
   },
   {
    "duration": 55,
    "start_time": "2023-05-17T17:15:07.741Z"
   },
   {
    "duration": 1141,
    "start_time": "2023-05-17T17:20:24.631Z"
   },
   {
    "duration": 43,
    "start_time": "2023-05-17T17:20:25.775Z"
   },
   {
    "duration": 19,
    "start_time": "2023-05-17T17:20:25.820Z"
   },
   {
    "duration": 40,
    "start_time": "2023-05-17T17:20:25.842Z"
   },
   {
    "duration": 19,
    "start_time": "2023-05-17T17:20:25.885Z"
   },
   {
    "duration": 27,
    "start_time": "2023-05-17T17:20:25.906Z"
   },
   {
    "duration": 15,
    "start_time": "2023-05-17T17:20:25.935Z"
   },
   {
    "duration": 12,
    "start_time": "2023-05-17T17:20:25.952Z"
   },
   {
    "duration": 10,
    "start_time": "2023-05-17T17:20:25.966Z"
   },
   {
    "duration": 17,
    "start_time": "2023-05-17T17:20:25.979Z"
   },
   {
    "duration": 5,
    "start_time": "2023-05-17T17:20:26.025Z"
   },
   {
    "duration": 9,
    "start_time": "2023-05-17T17:20:26.032Z"
   },
   {
    "duration": 9,
    "start_time": "2023-05-17T17:20:26.043Z"
   },
   {
    "duration": 7,
    "start_time": "2023-05-17T17:20:26.053Z"
   },
   {
    "duration": 7,
    "start_time": "2023-05-17T17:20:26.062Z"
   },
   {
    "duration": 16,
    "start_time": "2023-05-17T17:20:26.070Z"
   },
   {
    "duration": 39,
    "start_time": "2023-05-17T17:20:26.088Z"
   },
   {
    "duration": 6,
    "start_time": "2023-05-17T17:20:26.129Z"
   },
   {
    "duration": 16,
    "start_time": "2023-05-17T17:20:26.137Z"
   },
   {
    "duration": 4,
    "start_time": "2023-05-17T17:20:26.155Z"
   },
   {
    "duration": 15,
    "start_time": "2023-05-17T17:20:26.161Z"
   },
   {
    "duration": 10,
    "start_time": "2023-05-17T17:20:26.178Z"
   },
   {
    "duration": 35,
    "start_time": "2023-05-17T17:20:26.190Z"
   },
   {
    "duration": 7,
    "start_time": "2023-05-17T17:20:26.228Z"
   },
   {
    "duration": 176,
    "start_time": "2023-05-17T17:20:26.237Z"
   },
   {
    "duration": 11,
    "start_time": "2023-05-17T17:20:26.416Z"
   },
   {
    "duration": 156,
    "start_time": "2023-05-17T17:20:26.429Z"
   },
   {
    "duration": 10,
    "start_time": "2023-05-17T17:20:26.589Z"
   },
   {
    "duration": 10,
    "start_time": "2023-05-17T17:20:26.601Z"
   },
   {
    "duration": 191,
    "start_time": "2023-05-17T17:20:26.613Z"
   },
   {
    "duration": 25,
    "start_time": "2023-05-17T17:20:26.806Z"
   },
   {
    "duration": 182,
    "start_time": "2023-05-17T17:20:26.833Z"
   },
   {
    "duration": 15,
    "start_time": "2023-05-17T17:20:27.017Z"
   },
   {
    "duration": 202,
    "start_time": "2023-05-17T17:20:27.034Z"
   },
   {
    "duration": 14,
    "start_time": "2023-05-17T17:20:27.238Z"
   },
   {
    "duration": 37,
    "start_time": "2023-05-17T17:20:27.254Z"
   },
   {
    "duration": 37,
    "start_time": "2023-05-17T17:20:27.294Z"
   },
   {
    "duration": 27,
    "start_time": "2023-05-17T17:20:27.334Z"
   },
   {
    "duration": 21,
    "start_time": "2023-05-17T17:20:27.363Z"
   },
   {
    "duration": 231,
    "start_time": "2023-05-17T17:20:27.386Z"
   },
   {
    "duration": 197,
    "start_time": "2023-05-17T17:20:27.619Z"
   },
   {
    "duration": 16,
    "start_time": "2023-05-17T17:20:27.818Z"
   },
   {
    "duration": 10,
    "start_time": "2023-05-17T17:20:27.836Z"
   },
   {
    "duration": 236,
    "start_time": "2023-05-17T17:20:27.848Z"
   },
   {
    "duration": 226,
    "start_time": "2023-05-17T17:20:28.087Z"
   },
   {
    "duration": 15,
    "start_time": "2023-05-17T17:20:28.316Z"
   },
   {
    "duration": 11,
    "start_time": "2023-05-17T17:20:28.333Z"
   },
   {
    "duration": 28,
    "start_time": "2023-05-17T17:20:28.346Z"
   },
   {
    "duration": 1106,
    "start_time": "2023-05-17T17:20:28.377Z"
   },
   {
    "duration": 24,
    "start_time": "2023-05-17T17:20:29.485Z"
   },
   {
    "duration": 7,
    "start_time": "2023-05-17T17:20:29.526Z"
   },
   {
    "duration": 23,
    "start_time": "2023-05-17T17:20:29.535Z"
   },
   {
    "duration": 51,
    "start_time": "2023-05-17T17:20:29.561Z"
   },
   {
    "duration": 40,
    "start_time": "2023-05-17T17:20:29.614Z"
   },
   {
    "duration": 160,
    "start_time": "2023-05-17T17:32:23.652Z"
   },
   {
    "duration": 187,
    "start_time": "2023-05-17T17:32:34.726Z"
   },
   {
    "duration": 237,
    "start_time": "2023-05-17T17:32:49.404Z"
   },
   {
    "duration": 215,
    "start_time": "2023-05-17T17:40:27.258Z"
   },
   {
    "duration": 171,
    "start_time": "2023-05-17T17:40:49.018Z"
   },
   {
    "duration": 175,
    "start_time": "2023-05-17T17:41:21.003Z"
   },
   {
    "duration": 198,
    "start_time": "2023-05-17T17:41:34.450Z"
   },
   {
    "duration": 183,
    "start_time": "2023-05-17T17:42:14.292Z"
   },
   {
    "duration": 164,
    "start_time": "2023-05-17T17:42:17.400Z"
   },
   {
    "duration": 233,
    "start_time": "2023-05-17T17:47:46.075Z"
   },
   {
    "duration": 143,
    "start_time": "2023-05-17T17:50:08.111Z"
   },
   {
    "duration": 165,
    "start_time": "2023-05-17T17:50:26.352Z"
   },
   {
    "duration": 257,
    "start_time": "2023-05-17T17:51:50.492Z"
   },
   {
    "duration": 256,
    "start_time": "2023-05-17T17:52:32.630Z"
   },
   {
    "duration": 177,
    "start_time": "2023-05-17T17:52:52.361Z"
   },
   {
    "duration": 203,
    "start_time": "2023-05-17T17:53:02.188Z"
   },
   {
    "duration": 241,
    "start_time": "2023-05-17T17:53:13.100Z"
   },
   {
    "duration": 238,
    "start_time": "2023-05-17T17:54:05.012Z"
   },
   {
    "duration": 186,
    "start_time": "2023-05-17T17:54:22.904Z"
   },
   {
    "duration": 197,
    "start_time": "2023-05-17T17:54:43.821Z"
   },
   {
    "duration": 54,
    "start_time": "2023-05-17T17:58:38.039Z"
   },
   {
    "duration": 163,
    "start_time": "2023-05-17T18:08:13.756Z"
   },
   {
    "duration": 178,
    "start_time": "2023-05-17T18:08:25.303Z"
   },
   {
    "duration": 185,
    "start_time": "2023-05-17T18:09:05.457Z"
   },
   {
    "duration": 5,
    "start_time": "2023-05-17T18:25:26.110Z"
   },
   {
    "duration": 39,
    "start_time": "2023-05-17T18:25:26.893Z"
   },
   {
    "duration": 1222,
    "start_time": "2023-05-17T18:25:36.564Z"
   },
   {
    "duration": 40,
    "start_time": "2023-05-17T18:25:37.788Z"
   },
   {
    "duration": 16,
    "start_time": "2023-05-17T18:25:37.830Z"
   },
   {
    "duration": 44,
    "start_time": "2023-05-17T18:25:37.848Z"
   },
   {
    "duration": 15,
    "start_time": "2023-05-17T18:25:37.894Z"
   },
   {
    "duration": 35,
    "start_time": "2023-05-17T18:25:37.911Z"
   },
   {
    "duration": 11,
    "start_time": "2023-05-17T18:25:37.948Z"
   },
   {
    "duration": 10,
    "start_time": "2023-05-17T18:25:37.961Z"
   },
   {
    "duration": 23,
    "start_time": "2023-05-17T18:25:37.973Z"
   },
   {
    "duration": 39,
    "start_time": "2023-05-17T18:25:38.000Z"
   },
   {
    "duration": 5,
    "start_time": "2023-05-17T18:25:38.042Z"
   },
   {
    "duration": 13,
    "start_time": "2023-05-17T18:25:38.048Z"
   },
   {
    "duration": 24,
    "start_time": "2023-05-17T18:25:38.062Z"
   },
   {
    "duration": 7,
    "start_time": "2023-05-17T18:25:38.088Z"
   },
   {
    "duration": 8,
    "start_time": "2023-05-17T18:25:38.097Z"
   },
   {
    "duration": 11,
    "start_time": "2023-05-17T18:25:38.107Z"
   },
   {
    "duration": 17,
    "start_time": "2023-05-17T18:25:38.125Z"
   },
   {
    "duration": 8,
    "start_time": "2023-05-17T18:25:38.144Z"
   },
   {
    "duration": 14,
    "start_time": "2023-05-17T18:25:38.153Z"
   },
   {
    "duration": 4,
    "start_time": "2023-05-17T18:25:38.169Z"
   },
   {
    "duration": 11,
    "start_time": "2023-05-17T18:25:38.175Z"
   },
   {
    "duration": 7,
    "start_time": "2023-05-17T18:25:38.188Z"
   },
   {
    "duration": 8,
    "start_time": "2023-05-17T18:25:38.226Z"
   },
   {
    "duration": 14,
    "start_time": "2023-05-17T18:25:38.235Z"
   },
   {
    "duration": 167,
    "start_time": "2023-05-17T18:25:38.250Z"
   },
   {
    "duration": 15,
    "start_time": "2023-05-17T18:25:38.424Z"
   },
   {
    "duration": 135,
    "start_time": "2023-05-17T18:25:38.441Z"
   },
   {
    "duration": 8,
    "start_time": "2023-05-17T18:25:38.581Z"
   },
   {
    "duration": 7,
    "start_time": "2023-05-17T18:25:38.591Z"
   },
   {
    "duration": 183,
    "start_time": "2023-05-17T18:25:38.600Z"
   },
   {
    "duration": 11,
    "start_time": "2023-05-17T18:25:38.785Z"
   },
   {
    "duration": 207,
    "start_time": "2023-05-17T18:25:38.798Z"
   },
   {
    "duration": 9,
    "start_time": "2023-05-17T18:25:39.007Z"
   },
   {
    "duration": 206,
    "start_time": "2023-05-17T18:25:39.029Z"
   },
   {
    "duration": 15,
    "start_time": "2023-05-17T18:25:39.239Z"
   },
   {
    "duration": 26,
    "start_time": "2023-05-17T18:25:39.255Z"
   },
   {
    "duration": 10,
    "start_time": "2023-05-17T18:25:39.283Z"
   },
   {
    "duration": 47,
    "start_time": "2023-05-17T18:25:39.295Z"
   },
   {
    "duration": 30,
    "start_time": "2023-05-17T18:25:39.346Z"
   },
   {
    "duration": 217,
    "start_time": "2023-05-17T18:25:39.378Z"
   },
   {
    "duration": 12,
    "start_time": "2023-05-17T18:25:39.597Z"
   },
   {
    "duration": 48,
    "start_time": "2023-05-17T18:25:39.611Z"
   },
   {
    "duration": 250,
    "start_time": "2023-05-17T18:25:39.662Z"
   },
   {
    "duration": 23,
    "start_time": "2023-05-17T18:25:39.914Z"
   },
   {
    "duration": 19,
    "start_time": "2023-05-17T18:25:39.939Z"
   },
   {
    "duration": 5,
    "start_time": "2023-05-17T18:25:39.963Z"
   },
   {
    "duration": 76,
    "start_time": "2023-05-17T18:25:39.971Z"
   },
   {
    "duration": 992,
    "start_time": "2023-05-17T18:25:40.052Z"
   },
   {
    "duration": 31,
    "start_time": "2023-05-17T18:25:41.048Z"
   },
   {
    "duration": 6,
    "start_time": "2023-05-17T18:25:41.081Z"
   },
   {
    "duration": 13,
    "start_time": "2023-05-17T18:25:41.089Z"
   },
   {
    "duration": 13,
    "start_time": "2023-05-17T18:25:41.103Z"
   },
   {
    "duration": 12,
    "start_time": "2023-05-17T18:25:41.126Z"
   },
   {
    "duration": 53,
    "start_time": "2023-05-17T18:27:02.447Z"
   },
   {
    "duration": 1025,
    "start_time": "2023-05-17T18:30:27.612Z"
   },
   {
    "duration": 1161,
    "start_time": "2023-05-17T18:30:43.419Z"
   },
   {
    "duration": 41,
    "start_time": "2023-05-17T18:30:44.582Z"
   },
   {
    "duration": 13,
    "start_time": "2023-05-17T18:30:44.626Z"
   },
   {
    "duration": 62,
    "start_time": "2023-05-17T18:30:44.642Z"
   },
   {
    "duration": 16,
    "start_time": "2023-05-17T18:30:44.706Z"
   },
   {
    "duration": 38,
    "start_time": "2023-05-17T18:30:44.726Z"
   },
   {
    "duration": 13,
    "start_time": "2023-05-17T18:30:44.767Z"
   },
   {
    "duration": 18,
    "start_time": "2023-05-17T18:30:44.782Z"
   },
   {
    "duration": 35,
    "start_time": "2023-05-17T18:30:44.802Z"
   },
   {
    "duration": 27,
    "start_time": "2023-05-17T18:30:44.840Z"
   },
   {
    "duration": 10,
    "start_time": "2023-05-17T18:30:44.870Z"
   },
   {
    "duration": 31,
    "start_time": "2023-05-17T18:30:44.882Z"
   },
   {
    "duration": 33,
    "start_time": "2023-05-17T18:30:44.915Z"
   },
   {
    "duration": 29,
    "start_time": "2023-05-17T18:30:44.950Z"
   },
   {
    "duration": 37,
    "start_time": "2023-05-17T18:30:44.981Z"
   },
   {
    "duration": 45,
    "start_time": "2023-05-17T18:30:45.020Z"
   },
   {
    "duration": 45,
    "start_time": "2023-05-17T18:30:45.067Z"
   },
   {
    "duration": 66,
    "start_time": "2023-05-17T18:30:45.114Z"
   },
   {
    "duration": 195,
    "start_time": "2023-05-17T18:30:45.182Z"
   },
   {
    "duration": 103,
    "start_time": "2023-05-17T18:30:45.379Z"
   },
   {
    "duration": 53,
    "start_time": "2023-05-17T18:30:45.485Z"
   },
   {
    "duration": 78,
    "start_time": "2023-05-17T18:30:45.540Z"
   },
   {
    "duration": 46,
    "start_time": "2023-05-17T18:30:45.620Z"
   },
   {
    "duration": 31,
    "start_time": "2023-05-17T18:30:45.668Z"
   },
   {
    "duration": 226,
    "start_time": "2023-05-17T18:30:45.700Z"
   },
   {
    "duration": 8,
    "start_time": "2023-05-17T18:30:45.928Z"
   },
   {
    "duration": 240,
    "start_time": "2023-05-17T18:30:45.938Z"
   },
   {
    "duration": 10,
    "start_time": "2023-05-17T18:30:46.182Z"
   },
   {
    "duration": 57,
    "start_time": "2023-05-17T18:30:46.194Z"
   },
   {
    "duration": 186,
    "start_time": "2023-05-17T18:30:46.253Z"
   },
   {
    "duration": 12,
    "start_time": "2023-05-17T18:30:46.441Z"
   },
   {
    "duration": 240,
    "start_time": "2023-05-17T18:30:46.456Z"
   },
   {
    "duration": 14,
    "start_time": "2023-05-17T18:30:46.698Z"
   },
   {
    "duration": 262,
    "start_time": "2023-05-17T18:30:46.728Z"
   },
   {
    "duration": 11,
    "start_time": "2023-05-17T18:30:46.992Z"
   },
   {
    "duration": 59,
    "start_time": "2023-05-17T18:30:47.005Z"
   },
   {
    "duration": 14,
    "start_time": "2023-05-17T18:30:47.067Z"
   },
   {
    "duration": 51,
    "start_time": "2023-05-17T18:30:47.084Z"
   },
   {
    "duration": 32,
    "start_time": "2023-05-17T18:30:47.138Z"
   },
   {
    "duration": 242,
    "start_time": "2023-05-17T18:30:47.172Z"
   },
   {
    "duration": 19,
    "start_time": "2023-05-17T18:30:47.416Z"
   },
   {
    "duration": 26,
    "start_time": "2023-05-17T18:30:47.436Z"
   },
   {
    "duration": 181,
    "start_time": "2023-05-17T18:30:47.465Z"
   },
   {
    "duration": 11,
    "start_time": "2023-05-17T18:30:47.648Z"
   },
   {
    "duration": 15,
    "start_time": "2023-05-17T18:30:47.660Z"
   },
   {
    "duration": 5,
    "start_time": "2023-05-17T18:30:47.677Z"
   },
   {
    "duration": 55,
    "start_time": "2023-05-17T18:30:47.683Z"
   },
   {
    "duration": 1012,
    "start_time": "2023-05-17T18:30:47.740Z"
   },
   {
    "duration": 1057,
    "start_time": "2023-05-17T18:30:48.755Z"
   },
   {
    "duration": 43,
    "start_time": "2023-05-17T18:30:49.814Z"
   },
   {
    "duration": 8,
    "start_time": "2023-05-17T18:30:49.859Z"
   },
   {
    "duration": 7,
    "start_time": "2023-05-17T18:30:49.869Z"
   },
   {
    "duration": 13,
    "start_time": "2023-05-17T18:30:49.878Z"
   },
   {
    "duration": 38,
    "start_time": "2023-05-17T18:30:49.894Z"
   },
   {
    "duration": 967,
    "start_time": "2023-05-17T18:32:51.849Z"
   },
   {
    "duration": 906,
    "start_time": "2023-05-17T18:34:13.293Z"
   },
   {
    "duration": 1221,
    "start_time": "2023-05-17T18:46:59.912Z"
   },
   {
    "duration": 1417,
    "start_time": "2023-05-17T18:47:11.789Z"
   },
   {
    "duration": 44,
    "start_time": "2023-05-17T18:47:13.208Z"
   },
   {
    "duration": 13,
    "start_time": "2023-05-17T18:47:13.254Z"
   },
   {
    "duration": 57,
    "start_time": "2023-05-17T18:47:13.269Z"
   },
   {
    "duration": 16,
    "start_time": "2023-05-17T18:47:13.329Z"
   },
   {
    "duration": 30,
    "start_time": "2023-05-17T18:47:13.348Z"
   },
   {
    "duration": 12,
    "start_time": "2023-05-17T18:47:13.380Z"
   },
   {
    "duration": 13,
    "start_time": "2023-05-17T18:47:13.395Z"
   },
   {
    "duration": 17,
    "start_time": "2023-05-17T18:47:13.427Z"
   },
   {
    "duration": 17,
    "start_time": "2023-05-17T18:47:13.447Z"
   },
   {
    "duration": 5,
    "start_time": "2023-05-17T18:47:13.466Z"
   },
   {
    "duration": 7,
    "start_time": "2023-05-17T18:47:13.473Z"
   },
   {
    "duration": 47,
    "start_time": "2023-05-17T18:47:13.482Z"
   },
   {
    "duration": 11,
    "start_time": "2023-05-17T18:47:13.533Z"
   },
   {
    "duration": 8,
    "start_time": "2023-05-17T18:47:13.548Z"
   },
   {
    "duration": 8,
    "start_time": "2023-05-17T18:47:13.558Z"
   },
   {
    "duration": 9,
    "start_time": "2023-05-17T18:47:13.568Z"
   },
   {
    "duration": 5,
    "start_time": "2023-05-17T18:47:13.579Z"
   },
   {
    "duration": 32,
    "start_time": "2023-05-17T18:47:13.625Z"
   },
   {
    "duration": 12,
    "start_time": "2023-05-17T18:47:13.660Z"
   },
   {
    "duration": 24,
    "start_time": "2023-05-17T18:47:13.674Z"
   },
   {
    "duration": 8,
    "start_time": "2023-05-17T18:47:13.701Z"
   },
   {
    "duration": 13,
    "start_time": "2023-05-17T18:47:13.713Z"
   },
   {
    "duration": 6,
    "start_time": "2023-05-17T18:47:13.729Z"
   },
   {
    "duration": 220,
    "start_time": "2023-05-17T18:47:13.736Z"
   },
   {
    "duration": 8,
    "start_time": "2023-05-17T18:47:13.959Z"
   },
   {
    "duration": 194,
    "start_time": "2023-05-17T18:47:13.968Z"
   },
   {
    "duration": 12,
    "start_time": "2023-05-17T18:47:14.165Z"
   },
   {
    "duration": 9,
    "start_time": "2023-05-17T18:47:14.179Z"
   },
   {
    "duration": 243,
    "start_time": "2023-05-17T18:47:14.190Z"
   },
   {
    "duration": 12,
    "start_time": "2023-05-17T18:47:14.435Z"
   },
   {
    "duration": 210,
    "start_time": "2023-05-17T18:47:14.449Z"
   },
   {
    "duration": 11,
    "start_time": "2023-05-17T18:47:14.662Z"
   },
   {
    "duration": 230,
    "start_time": "2023-05-17T18:47:14.675Z"
   },
   {
    "duration": 21,
    "start_time": "2023-05-17T18:47:14.908Z"
   },
   {
    "duration": 29,
    "start_time": "2023-05-17T18:47:14.931Z"
   },
   {
    "duration": 11,
    "start_time": "2023-05-17T18:47:14.962Z"
   },
   {
    "duration": 54,
    "start_time": "2023-05-17T18:47:14.975Z"
   },
   {
    "duration": 33,
    "start_time": "2023-05-17T18:47:15.030Z"
   },
   {
    "duration": 333,
    "start_time": "2023-05-17T18:47:15.066Z"
   },
   {
    "duration": 23,
    "start_time": "2023-05-17T18:47:15.405Z"
   },
   {
    "duration": 17,
    "start_time": "2023-05-17T18:47:15.430Z"
   },
   {
    "duration": 200,
    "start_time": "2023-05-17T18:47:15.451Z"
   },
   {
    "duration": 14,
    "start_time": "2023-05-17T18:47:15.653Z"
   },
   {
    "duration": 19,
    "start_time": "2023-05-17T18:47:15.669Z"
   },
   {
    "duration": 7,
    "start_time": "2023-05-17T18:47:15.690Z"
   },
   {
    "duration": 1157,
    "start_time": "2023-05-17T18:47:15.699Z"
   },
   {
    "duration": 28,
    "start_time": "2023-05-17T18:47:16.858Z"
   },
   {
    "duration": 924,
    "start_time": "2023-05-17T18:47:16.888Z"
   },
   {
    "duration": 32,
    "start_time": "2023-05-17T18:47:17.814Z"
   },
   {
    "duration": 7,
    "start_time": "2023-05-17T18:47:17.849Z"
   },
   {
    "duration": 15,
    "start_time": "2023-05-17T18:47:17.858Z"
   },
   {
    "duration": 21,
    "start_time": "2023-05-17T18:47:17.875Z"
   },
   {
    "duration": 6,
    "start_time": "2023-05-17T18:47:17.898Z"
   },
   {
    "duration": 1062,
    "start_time": "2023-05-17T18:49:09.616Z"
   },
   {
    "duration": 965,
    "start_time": "2023-05-17T18:50:10.624Z"
   },
   {
    "duration": 1010,
    "start_time": "2023-05-17T18:50:19.371Z"
   },
   {
    "duration": 1148,
    "start_time": "2023-05-17T18:57:54.209Z"
   },
   {
    "duration": 40,
    "start_time": "2023-05-17T18:57:55.360Z"
   },
   {
    "duration": 11,
    "start_time": "2023-05-17T18:57:55.402Z"
   },
   {
    "duration": 37,
    "start_time": "2023-05-17T18:57:55.415Z"
   },
   {
    "duration": 11,
    "start_time": "2023-05-17T18:57:55.455Z"
   },
   {
    "duration": 82,
    "start_time": "2023-05-17T18:57:55.468Z"
   },
   {
    "duration": 12,
    "start_time": "2023-05-17T18:57:55.551Z"
   },
   {
    "duration": 7,
    "start_time": "2023-05-17T18:57:55.564Z"
   },
   {
    "duration": 12,
    "start_time": "2023-05-17T18:57:55.573Z"
   },
   {
    "duration": 16,
    "start_time": "2023-05-17T18:57:55.586Z"
   },
   {
    "duration": 22,
    "start_time": "2023-05-17T18:57:55.604Z"
   },
   {
    "duration": 4,
    "start_time": "2023-05-17T18:57:55.628Z"
   },
   {
    "duration": 16,
    "start_time": "2023-05-17T18:57:55.634Z"
   },
   {
    "duration": 8,
    "start_time": "2023-05-17T18:57:55.653Z"
   },
   {
    "duration": 11,
    "start_time": "2023-05-17T18:57:55.663Z"
   },
   {
    "duration": 8,
    "start_time": "2023-05-17T18:57:55.676Z"
   },
   {
    "duration": 39,
    "start_time": "2023-05-17T18:57:55.686Z"
   },
   {
    "duration": 7,
    "start_time": "2023-05-17T18:57:55.727Z"
   },
   {
    "duration": 13,
    "start_time": "2023-05-17T18:57:55.736Z"
   },
   {
    "duration": 3,
    "start_time": "2023-05-17T18:57:55.751Z"
   },
   {
    "duration": 15,
    "start_time": "2023-05-17T18:57:55.755Z"
   },
   {
    "duration": 5,
    "start_time": "2023-05-17T18:57:55.772Z"
   },
   {
    "duration": 7,
    "start_time": "2023-05-17T18:57:55.779Z"
   },
   {
    "duration": 42,
    "start_time": "2023-05-17T18:57:55.787Z"
   },
   {
    "duration": 218,
    "start_time": "2023-05-17T18:57:55.832Z"
   },
   {
    "duration": 7,
    "start_time": "2023-05-17T18:57:56.052Z"
   },
   {
    "duration": 199,
    "start_time": "2023-05-17T18:57:56.060Z"
   },
   {
    "duration": 11,
    "start_time": "2023-05-17T18:57:56.261Z"
   },
   {
    "duration": 6,
    "start_time": "2023-05-17T18:57:56.274Z"
   },
   {
    "duration": 173,
    "start_time": "2023-05-17T18:57:56.282Z"
   },
   {
    "duration": 10,
    "start_time": "2023-05-17T18:57:56.457Z"
   },
   {
    "duration": 195,
    "start_time": "2023-05-17T18:57:56.469Z"
   },
   {
    "duration": 12,
    "start_time": "2023-05-17T18:57:56.667Z"
   },
   {
    "duration": 242,
    "start_time": "2023-05-17T18:57:56.681Z"
   },
   {
    "duration": 11,
    "start_time": "2023-05-17T18:57:56.925Z"
   },
   {
    "duration": 39,
    "start_time": "2023-05-17T18:57:56.938Z"
   },
   {
    "duration": 13,
    "start_time": "2023-05-17T18:57:56.979Z"
   },
   {
    "duration": 46,
    "start_time": "2023-05-17T18:57:56.995Z"
   },
   {
    "duration": 20,
    "start_time": "2023-05-17T18:57:57.043Z"
   },
   {
    "duration": 216,
    "start_time": "2023-05-17T18:57:57.065Z"
   },
   {
    "duration": 11,
    "start_time": "2023-05-17T18:57:57.287Z"
   },
   {
    "duration": 30,
    "start_time": "2023-05-17T18:57:57.301Z"
   },
   {
    "duration": 264,
    "start_time": "2023-05-17T18:57:57.333Z"
   },
   {
    "duration": 10,
    "start_time": "2023-05-17T18:57:57.600Z"
   },
   {
    "duration": 22,
    "start_time": "2023-05-17T18:57:57.612Z"
   },
   {
    "duration": 5,
    "start_time": "2023-05-17T18:57:57.636Z"
   },
   {
    "duration": 983,
    "start_time": "2023-05-17T18:57:57.643Z"
   },
   {
    "duration": 35,
    "start_time": "2023-05-17T18:57:58.628Z"
   },
   {
    "duration": 6,
    "start_time": "2023-05-17T18:57:58.665Z"
   },
   {
    "duration": 7,
    "start_time": "2023-05-17T18:57:58.673Z"
   },
   {
    "duration": 44,
    "start_time": "2023-05-17T18:57:58.682Z"
   },
   {
    "duration": 6,
    "start_time": "2023-05-17T18:57:58.728Z"
   },
   {
    "duration": 5,
    "start_time": "2023-05-17T19:32:02.044Z"
   },
   {
    "duration": 6,
    "start_time": "2023-05-17T19:32:14.970Z"
   },
   {
    "duration": 6,
    "start_time": "2023-05-17T19:32:22.095Z"
   },
   {
    "duration": 6,
    "start_time": "2023-05-17T19:32:35.094Z"
   },
   {
    "duration": 6,
    "start_time": "2023-05-17T19:32:48.242Z"
   },
   {
    "duration": 67,
    "start_time": "2023-05-17T20:15:15.528Z"
   },
   {
    "duration": 7,
    "start_time": "2023-05-17T20:15:26.486Z"
   },
   {
    "duration": 1183,
    "start_time": "2023-05-17T20:15:46.343Z"
   },
   {
    "duration": 40,
    "start_time": "2023-05-17T20:15:47.528Z"
   },
   {
    "duration": 11,
    "start_time": "2023-05-17T20:15:47.570Z"
   },
   {
    "duration": 43,
    "start_time": "2023-05-17T20:15:47.584Z"
   },
   {
    "duration": 12,
    "start_time": "2023-05-17T20:15:47.629Z"
   },
   {
    "duration": 20,
    "start_time": "2023-05-17T20:15:47.643Z"
   },
   {
    "duration": 12,
    "start_time": "2023-05-17T20:15:47.664Z"
   },
   {
    "duration": 12,
    "start_time": "2023-05-17T20:15:47.677Z"
   },
   {
    "duration": 11,
    "start_time": "2023-05-17T20:15:47.691Z"
   },
   {
    "duration": 30,
    "start_time": "2023-05-17T20:15:47.704Z"
   },
   {
    "duration": 5,
    "start_time": "2023-05-17T20:15:47.736Z"
   },
   {
    "duration": 4,
    "start_time": "2023-05-17T20:15:47.743Z"
   },
   {
    "duration": 8,
    "start_time": "2023-05-17T20:15:47.749Z"
   },
   {
    "duration": 8,
    "start_time": "2023-05-17T20:15:47.759Z"
   },
   {
    "duration": 8,
    "start_time": "2023-05-17T20:15:47.769Z"
   },
   {
    "duration": 51,
    "start_time": "2023-05-17T20:15:47.778Z"
   },
   {
    "duration": 9,
    "start_time": "2023-05-17T20:15:47.831Z"
   },
   {
    "duration": 5,
    "start_time": "2023-05-17T20:15:47.841Z"
   },
   {
    "duration": 10,
    "start_time": "2023-05-17T20:15:47.848Z"
   },
   {
    "duration": 3,
    "start_time": "2023-05-17T20:15:47.860Z"
   },
   {
    "duration": 16,
    "start_time": "2023-05-17T20:15:47.865Z"
   },
   {
    "duration": 4,
    "start_time": "2023-05-17T20:15:47.883Z"
   },
   {
    "duration": 41,
    "start_time": "2023-05-17T20:15:47.889Z"
   },
   {
    "duration": 6,
    "start_time": "2023-05-17T20:15:47.931Z"
   },
   {
    "duration": 170,
    "start_time": "2023-05-17T20:15:47.939Z"
   },
   {
    "duration": 5,
    "start_time": "2023-05-17T20:15:48.111Z"
   },
   {
    "duration": 127,
    "start_time": "2023-05-17T20:15:48.125Z"
   },
   {
    "duration": 9,
    "start_time": "2023-05-17T20:15:48.256Z"
   },
   {
    "duration": 8,
    "start_time": "2023-05-17T20:15:48.267Z"
   },
   {
    "duration": 170,
    "start_time": "2023-05-17T20:15:48.278Z"
   },
   {
    "duration": 8,
    "start_time": "2023-05-17T20:15:48.450Z"
   },
   {
    "duration": 178,
    "start_time": "2023-05-17T20:15:48.459Z"
   },
   {
    "duration": 9,
    "start_time": "2023-05-17T20:15:48.638Z"
   },
   {
    "duration": 198,
    "start_time": "2023-05-17T20:15:48.649Z"
   },
   {
    "duration": 12,
    "start_time": "2023-05-17T20:15:48.849Z"
   },
   {
    "duration": 27,
    "start_time": "2023-05-17T20:15:48.863Z"
   },
   {
    "duration": 9,
    "start_time": "2023-05-17T20:15:48.892Z"
   },
   {
    "duration": 17,
    "start_time": "2023-05-17T20:15:48.926Z"
   },
   {
    "duration": 18,
    "start_time": "2023-05-17T20:15:48.945Z"
   },
   {
    "duration": 199,
    "start_time": "2023-05-17T20:15:48.965Z"
   },
   {
    "duration": 9,
    "start_time": "2023-05-17T20:15:49.166Z"
   },
   {
    "duration": 8,
    "start_time": "2023-05-17T20:15:49.176Z"
   },
   {
    "duration": 188,
    "start_time": "2023-05-17T20:15:49.186Z"
   },
   {
    "duration": 8,
    "start_time": "2023-05-17T20:15:49.376Z"
   },
   {
    "duration": 7,
    "start_time": "2023-05-17T20:15:49.386Z"
   },
   {
    "duration": 3,
    "start_time": "2023-05-17T20:15:49.395Z"
   },
   {
    "duration": 868,
    "start_time": "2023-05-17T20:15:49.400Z"
   },
   {
    "duration": 28,
    "start_time": "2023-05-17T20:15:50.270Z"
   },
   {
    "duration": 127,
    "start_time": "2023-05-17T20:15:50.301Z"
   },
   {
    "duration": 0,
    "start_time": "2023-05-17T20:15:50.430Z"
   },
   {
    "duration": 0,
    "start_time": "2023-05-17T20:15:50.432Z"
   },
   {
    "duration": 0,
    "start_time": "2023-05-17T20:15:50.433Z"
   },
   {
    "duration": 5,
    "start_time": "2023-05-17T20:16:24.208Z"
   },
   {
    "duration": 6,
    "start_time": "2023-05-17T20:16:51.097Z"
   },
   {
    "duration": 1119,
    "start_time": "2023-05-17T20:16:58.328Z"
   },
   {
    "duration": 39,
    "start_time": "2023-05-17T20:16:59.449Z"
   },
   {
    "duration": 11,
    "start_time": "2023-05-17T20:16:59.490Z"
   },
   {
    "duration": 36,
    "start_time": "2023-05-17T20:16:59.503Z"
   },
   {
    "duration": 10,
    "start_time": "2023-05-17T20:16:59.541Z"
   },
   {
    "duration": 22,
    "start_time": "2023-05-17T20:16:59.553Z"
   },
   {
    "duration": 15,
    "start_time": "2023-05-17T20:16:59.578Z"
   },
   {
    "duration": 30,
    "start_time": "2023-05-17T20:16:59.595Z"
   },
   {
    "duration": 15,
    "start_time": "2023-05-17T20:16:59.628Z"
   },
   {
    "duration": 20,
    "start_time": "2023-05-17T20:16:59.647Z"
   },
   {
    "duration": 6,
    "start_time": "2023-05-17T20:16:59.669Z"
   },
   {
    "duration": 6,
    "start_time": "2023-05-17T20:16:59.677Z"
   },
   {
    "duration": 48,
    "start_time": "2023-05-17T20:16:59.685Z"
   },
   {
    "duration": 8,
    "start_time": "2023-05-17T20:16:59.736Z"
   },
   {
    "duration": 8,
    "start_time": "2023-05-17T20:16:59.746Z"
   },
   {
    "duration": 7,
    "start_time": "2023-05-17T20:16:59.757Z"
   },
   {
    "duration": 10,
    "start_time": "2023-05-17T20:16:59.767Z"
   },
   {
    "duration": 47,
    "start_time": "2023-05-17T20:16:59.779Z"
   },
   {
    "duration": 12,
    "start_time": "2023-05-17T20:16:59.828Z"
   },
   {
    "duration": 3,
    "start_time": "2023-05-17T20:16:59.842Z"
   },
   {
    "duration": 18,
    "start_time": "2023-05-17T20:16:59.847Z"
   },
   {
    "duration": 6,
    "start_time": "2023-05-17T20:16:59.868Z"
   },
   {
    "duration": 12,
    "start_time": "2023-05-17T20:16:59.876Z"
   },
   {
    "duration": 37,
    "start_time": "2023-05-17T20:16:59.890Z"
   },
   {
    "duration": 179,
    "start_time": "2023-05-17T20:16:59.929Z"
   },
   {
    "duration": 16,
    "start_time": "2023-05-17T20:17:00.110Z"
   },
   {
    "duration": 146,
    "start_time": "2023-05-17T20:17:00.128Z"
   },
   {
    "duration": 9,
    "start_time": "2023-05-17T20:17:00.277Z"
   },
   {
    "duration": 22,
    "start_time": "2023-05-17T20:17:00.287Z"
   },
   {
    "duration": 154,
    "start_time": "2023-05-17T20:17:00.310Z"
   },
   {
    "duration": 9,
    "start_time": "2023-05-17T20:17:00.465Z"
   },
   {
    "duration": 175,
    "start_time": "2023-05-17T20:17:00.476Z"
   },
   {
    "duration": 9,
    "start_time": "2023-05-17T20:17:00.652Z"
   },
   {
    "duration": 229,
    "start_time": "2023-05-17T20:17:00.663Z"
   },
   {
    "duration": 14,
    "start_time": "2023-05-17T20:17:00.895Z"
   },
   {
    "duration": 46,
    "start_time": "2023-05-17T20:17:00.912Z"
   },
   {
    "duration": 18,
    "start_time": "2023-05-17T20:17:00.960Z"
   },
   {
    "duration": 41,
    "start_time": "2023-05-17T20:17:00.980Z"
   },
   {
    "duration": 93,
    "start_time": "2023-05-17T20:17:01.023Z"
   },
   {
    "duration": 256,
    "start_time": "2023-05-17T20:17:01.118Z"
   },
   {
    "duration": 8,
    "start_time": "2023-05-17T20:17:01.376Z"
   },
   {
    "duration": 62,
    "start_time": "2023-05-17T20:17:01.386Z"
   },
   {
    "duration": 221,
    "start_time": "2023-05-17T20:17:01.450Z"
   },
   {
    "duration": 9,
    "start_time": "2023-05-17T20:17:01.672Z"
   },
   {
    "duration": 60,
    "start_time": "2023-05-17T20:17:01.683Z"
   },
   {
    "duration": 58,
    "start_time": "2023-05-17T20:17:01.744Z"
   },
   {
    "duration": 922,
    "start_time": "2023-05-17T20:17:01.804Z"
   },
   {
    "duration": 23,
    "start_time": "2023-05-17T20:17:02.728Z"
   },
   {
    "duration": 6,
    "start_time": "2023-05-17T20:17:02.752Z"
   },
   {
    "duration": 14,
    "start_time": "2023-05-17T20:17:02.759Z"
   },
   {
    "duration": 12,
    "start_time": "2023-05-17T20:17:02.775Z"
   },
   {
    "duration": 6,
    "start_time": "2023-05-17T20:17:02.788Z"
   },
   {
    "duration": 6,
    "start_time": "2023-05-17T20:18:14.294Z"
   },
   {
    "duration": 6,
    "start_time": "2023-05-17T20:18:29.291Z"
   },
   {
    "duration": 1152,
    "start_time": "2023-05-17T20:18:36.528Z"
   },
   {
    "duration": 40,
    "start_time": "2023-05-17T20:18:37.682Z"
   },
   {
    "duration": 11,
    "start_time": "2023-05-17T20:18:37.724Z"
   },
   {
    "duration": 41,
    "start_time": "2023-05-17T20:18:37.737Z"
   },
   {
    "duration": 11,
    "start_time": "2023-05-17T20:18:37.780Z"
   },
   {
    "duration": 36,
    "start_time": "2023-05-17T20:18:37.793Z"
   },
   {
    "duration": 12,
    "start_time": "2023-05-17T20:18:37.831Z"
   },
   {
    "duration": 20,
    "start_time": "2023-05-17T20:18:37.844Z"
   },
   {
    "duration": 15,
    "start_time": "2023-05-17T20:18:37.865Z"
   },
   {
    "duration": 15,
    "start_time": "2023-05-17T20:18:37.883Z"
   },
   {
    "duration": 8,
    "start_time": "2023-05-17T20:18:37.900Z"
   },
   {
    "duration": 5,
    "start_time": "2023-05-17T20:18:37.926Z"
   },
   {
    "duration": 19,
    "start_time": "2023-05-17T20:18:37.932Z"
   },
   {
    "duration": 18,
    "start_time": "2023-05-17T20:18:37.952Z"
   },
   {
    "duration": 16,
    "start_time": "2023-05-17T20:18:37.971Z"
   },
   {
    "duration": 15,
    "start_time": "2023-05-17T20:18:37.988Z"
   },
   {
    "duration": 9,
    "start_time": "2023-05-17T20:18:38.005Z"
   },
   {
    "duration": 5,
    "start_time": "2023-05-17T20:18:38.016Z"
   },
   {
    "duration": 8,
    "start_time": "2023-05-17T20:18:38.024Z"
   },
   {
    "duration": 3,
    "start_time": "2023-05-17T20:18:38.034Z"
   },
   {
    "duration": 23,
    "start_time": "2023-05-17T20:18:38.038Z"
   },
   {
    "duration": 9,
    "start_time": "2023-05-17T20:18:38.063Z"
   },
   {
    "duration": 10,
    "start_time": "2023-05-17T20:18:38.074Z"
   },
   {
    "duration": 8,
    "start_time": "2023-05-17T20:18:38.085Z"
   },
   {
    "duration": 169,
    "start_time": "2023-05-17T20:18:38.095Z"
   },
   {
    "duration": 5,
    "start_time": "2023-05-17T20:18:38.266Z"
   },
   {
    "duration": 132,
    "start_time": "2023-05-17T20:18:38.273Z"
   },
   {
    "duration": 8,
    "start_time": "2023-05-17T20:18:38.409Z"
   },
   {
    "duration": 7,
    "start_time": "2023-05-17T20:18:38.425Z"
   },
   {
    "duration": 152,
    "start_time": "2023-05-17T20:18:38.433Z"
   },
   {
    "duration": 9,
    "start_time": "2023-05-17T20:18:38.588Z"
   },
   {
    "duration": 176,
    "start_time": "2023-05-17T20:18:38.598Z"
   },
   {
    "duration": 9,
    "start_time": "2023-05-17T20:18:38.776Z"
   },
   {
    "duration": 200,
    "start_time": "2023-05-17T20:18:38.786Z"
   },
   {
    "duration": 12,
    "start_time": "2023-05-17T20:18:38.988Z"
   },
   {
    "duration": 43,
    "start_time": "2023-05-17T20:18:39.002Z"
   },
   {
    "duration": 10,
    "start_time": "2023-05-17T20:18:39.047Z"
   },
   {
    "duration": 20,
    "start_time": "2023-05-17T20:18:39.059Z"
   },
   {
    "duration": 46,
    "start_time": "2023-05-17T20:18:39.080Z"
   },
   {
    "duration": 177,
    "start_time": "2023-05-17T20:18:39.128Z"
   },
   {
    "duration": 20,
    "start_time": "2023-05-17T20:18:39.307Z"
   },
   {
    "duration": 8,
    "start_time": "2023-05-17T20:18:39.329Z"
   },
   {
    "duration": 177,
    "start_time": "2023-05-17T20:18:39.339Z"
   },
   {
    "duration": 14,
    "start_time": "2023-05-17T20:18:39.518Z"
   },
   {
    "duration": 10,
    "start_time": "2023-05-17T20:18:39.534Z"
   },
   {
    "duration": 4,
    "start_time": "2023-05-17T20:18:39.545Z"
   },
   {
    "duration": 899,
    "start_time": "2023-05-17T20:18:39.551Z"
   },
   {
    "duration": 22,
    "start_time": "2023-05-17T20:18:40.452Z"
   },
   {
    "duration": 5,
    "start_time": "2023-05-17T20:18:40.476Z"
   },
   {
    "duration": 6,
    "start_time": "2023-05-17T20:18:40.482Z"
   },
   {
    "duration": 36,
    "start_time": "2023-05-17T20:18:40.489Z"
   },
   {
    "duration": 6,
    "start_time": "2023-05-17T20:18:40.526Z"
   },
   {
    "duration": 5,
    "start_time": "2023-05-17T20:22:03.843Z"
   },
   {
    "duration": 8,
    "start_time": "2023-05-17T20:22:19.419Z"
   },
   {
    "duration": 5,
    "start_time": "2023-05-17T20:23:58.187Z"
   },
   {
    "duration": 7,
    "start_time": "2023-05-17T20:24:09.616Z"
   },
   {
    "duration": 6,
    "start_time": "2023-05-17T20:24:38.201Z"
   },
   {
    "duration": 125,
    "start_time": "2023-05-17T20:24:55.816Z"
   },
   {
    "duration": 6,
    "start_time": "2023-05-17T20:25:07.907Z"
   },
   {
    "duration": 12,
    "start_time": "2023-05-17T20:41:31.321Z"
   },
   {
    "duration": 8,
    "start_time": "2023-05-17T20:41:38.661Z"
   },
   {
    "duration": 1169,
    "start_time": "2023-05-17T20:44:59.727Z"
   },
   {
    "duration": 42,
    "start_time": "2023-05-17T20:45:00.898Z"
   },
   {
    "duration": 12,
    "start_time": "2023-05-17T20:45:00.942Z"
   },
   {
    "duration": 53,
    "start_time": "2023-05-17T20:45:00.956Z"
   },
   {
    "duration": 15,
    "start_time": "2023-05-17T20:45:01.011Z"
   },
   {
    "duration": 81,
    "start_time": "2023-05-17T20:45:01.028Z"
   },
   {
    "duration": 80,
    "start_time": "2023-05-17T20:45:01.111Z"
   },
   {
    "duration": 47,
    "start_time": "2023-05-17T20:45:01.193Z"
   },
   {
    "duration": 49,
    "start_time": "2023-05-17T20:45:01.242Z"
   },
   {
    "duration": 71,
    "start_time": "2023-05-17T20:45:01.295Z"
   },
   {
    "duration": 17,
    "start_time": "2023-05-17T20:45:01.368Z"
   },
   {
    "duration": 32,
    "start_time": "2023-05-17T20:45:01.387Z"
   },
   {
    "duration": 40,
    "start_time": "2023-05-17T20:45:01.421Z"
   },
   {
    "duration": 71,
    "start_time": "2023-05-17T20:45:01.462Z"
   },
   {
    "duration": 46,
    "start_time": "2023-05-17T20:45:01.535Z"
   },
   {
    "duration": 30,
    "start_time": "2023-05-17T20:45:01.583Z"
   },
   {
    "duration": 53,
    "start_time": "2023-05-17T20:45:01.615Z"
   },
   {
    "duration": 52,
    "start_time": "2023-05-17T20:45:01.669Z"
   },
   {
    "duration": 78,
    "start_time": "2023-05-17T20:45:01.723Z"
   },
   {
    "duration": 31,
    "start_time": "2023-05-17T20:45:01.803Z"
   },
   {
    "duration": 96,
    "start_time": "2023-05-17T20:45:01.836Z"
   },
   {
    "duration": 72,
    "start_time": "2023-05-17T20:45:01.934Z"
   },
   {
    "duration": 10,
    "start_time": "2023-05-17T20:45:02.008Z"
   },
   {
    "duration": 28,
    "start_time": "2023-05-17T20:45:02.020Z"
   },
   {
    "duration": 194,
    "start_time": "2023-05-17T20:45:02.050Z"
   },
   {
    "duration": 6,
    "start_time": "2023-05-17T20:45:02.245Z"
   },
   {
    "duration": 151,
    "start_time": "2023-05-17T20:45:02.252Z"
   },
   {
    "duration": 7,
    "start_time": "2023-05-17T20:45:02.407Z"
   },
   {
    "duration": 23,
    "start_time": "2023-05-17T20:45:02.426Z"
   },
   {
    "duration": 163,
    "start_time": "2023-05-17T20:45:02.450Z"
   },
   {
    "duration": 9,
    "start_time": "2023-05-17T20:45:02.615Z"
   },
   {
    "duration": 185,
    "start_time": "2023-05-17T20:45:02.626Z"
   },
   {
    "duration": 14,
    "start_time": "2023-05-17T20:45:02.813Z"
   },
   {
    "duration": 186,
    "start_time": "2023-05-17T20:45:02.829Z"
   },
   {
    "duration": 17,
    "start_time": "2023-05-17T20:45:03.017Z"
   },
   {
    "duration": 25,
    "start_time": "2023-05-17T20:45:03.036Z"
   },
   {
    "duration": 9,
    "start_time": "2023-05-17T20:45:03.063Z"
   },
   {
    "duration": 21,
    "start_time": "2023-05-17T20:45:03.073Z"
   },
   {
    "duration": 43,
    "start_time": "2023-05-17T20:45:03.096Z"
   },
   {
    "duration": 187,
    "start_time": "2023-05-17T20:45:03.141Z"
   },
   {
    "duration": 8,
    "start_time": "2023-05-17T20:45:03.330Z"
   },
   {
    "duration": 10,
    "start_time": "2023-05-17T20:45:03.340Z"
   },
   {
    "duration": 201,
    "start_time": "2023-05-17T20:45:03.352Z"
   },
   {
    "duration": 9,
    "start_time": "2023-05-17T20:45:03.555Z"
   },
   {
    "duration": 13,
    "start_time": "2023-05-17T20:45:03.566Z"
   },
   {
    "duration": 5,
    "start_time": "2023-05-17T20:45:03.581Z"
   },
   {
    "duration": 1083,
    "start_time": "2023-05-17T20:45:03.588Z"
   },
   {
    "duration": 90,
    "start_time": "2023-05-17T20:45:04.673Z"
   },
   {
    "duration": 5,
    "start_time": "2023-05-17T20:45:04.765Z"
   },
   {
    "duration": 9,
    "start_time": "2023-05-17T20:45:04.772Z"
   },
   {
    "duration": 60,
    "start_time": "2023-05-17T20:45:04.783Z"
   },
   {
    "duration": 6,
    "start_time": "2023-05-17T20:45:04.846Z"
   },
   {
    "duration": 52,
    "start_time": "2023-05-17T21:00:17.808Z"
   },
   {
    "duration": 7,
    "start_time": "2023-05-17T21:03:03.940Z"
   },
   {
    "duration": 116,
    "start_time": "2023-05-17T21:05:02.245Z"
   },
   {
    "duration": 1182,
    "start_time": "2023-05-17T21:05:18.205Z"
   },
   {
    "duration": 40,
    "start_time": "2023-05-17T21:05:19.389Z"
   },
   {
    "duration": 11,
    "start_time": "2023-05-17T21:05:19.431Z"
   },
   {
    "duration": 55,
    "start_time": "2023-05-17T21:05:19.444Z"
   },
   {
    "duration": 11,
    "start_time": "2023-05-17T21:05:19.502Z"
   },
   {
    "duration": 24,
    "start_time": "2023-05-17T21:05:19.515Z"
   },
   {
    "duration": 10,
    "start_time": "2023-05-17T21:05:19.540Z"
   },
   {
    "duration": 20,
    "start_time": "2023-05-17T21:05:19.552Z"
   },
   {
    "duration": 32,
    "start_time": "2023-05-17T21:05:19.574Z"
   },
   {
    "duration": 28,
    "start_time": "2023-05-17T21:05:19.609Z"
   },
   {
    "duration": 8,
    "start_time": "2023-05-17T21:05:19.639Z"
   },
   {
    "duration": 33,
    "start_time": "2023-05-17T21:05:19.649Z"
   },
   {
    "duration": 23,
    "start_time": "2023-05-17T21:05:19.685Z"
   },
   {
    "duration": 12,
    "start_time": "2023-05-17T21:05:19.712Z"
   },
   {
    "duration": 10,
    "start_time": "2023-05-17T21:05:19.726Z"
   },
   {
    "duration": 12,
    "start_time": "2023-05-17T21:05:19.738Z"
   },
   {
    "duration": 17,
    "start_time": "2023-05-17T21:05:19.752Z"
   },
   {
    "duration": 8,
    "start_time": "2023-05-17T21:05:19.771Z"
   },
   {
    "duration": 15,
    "start_time": "2023-05-17T21:05:19.781Z"
   },
   {
    "duration": 27,
    "start_time": "2023-05-17T21:05:19.798Z"
   },
   {
    "duration": 16,
    "start_time": "2023-05-17T21:05:19.828Z"
   },
   {
    "duration": 5,
    "start_time": "2023-05-17T21:05:19.846Z"
   },
   {
    "duration": 7,
    "start_time": "2023-05-17T21:05:19.853Z"
   },
   {
    "duration": 7,
    "start_time": "2023-05-17T21:05:19.862Z"
   },
   {
    "duration": 198,
    "start_time": "2023-05-17T21:05:19.870Z"
   },
   {
    "duration": 6,
    "start_time": "2023-05-17T21:05:20.069Z"
   },
   {
    "duration": 130,
    "start_time": "2023-05-17T21:05:20.076Z"
   },
   {
    "duration": 8,
    "start_time": "2023-05-17T21:05:20.208Z"
   },
   {
    "duration": 6,
    "start_time": "2023-05-17T21:05:20.225Z"
   },
   {
    "duration": 149,
    "start_time": "2023-05-17T21:05:20.233Z"
   },
   {
    "duration": 8,
    "start_time": "2023-05-17T21:05:20.384Z"
   },
   {
    "duration": 187,
    "start_time": "2023-05-17T21:05:20.394Z"
   },
   {
    "duration": 11,
    "start_time": "2023-05-17T21:05:20.583Z"
   },
   {
    "duration": 210,
    "start_time": "2023-05-17T21:05:20.595Z"
   },
   {
    "duration": 24,
    "start_time": "2023-05-17T21:05:20.808Z"
   },
   {
    "duration": 39,
    "start_time": "2023-05-17T21:05:20.835Z"
   },
   {
    "duration": 13,
    "start_time": "2023-05-17T21:05:20.876Z"
   },
   {
    "duration": 43,
    "start_time": "2023-05-17T21:05:20.891Z"
   },
   {
    "duration": 32,
    "start_time": "2023-05-17T21:05:20.936Z"
   },
   {
    "duration": 215,
    "start_time": "2023-05-17T21:05:20.969Z"
   },
   {
    "duration": 8,
    "start_time": "2023-05-17T21:05:21.188Z"
   },
   {
    "duration": 19,
    "start_time": "2023-05-17T21:05:21.198Z"
   },
   {
    "duration": 167,
    "start_time": "2023-05-17T21:05:21.224Z"
   },
   {
    "duration": 8,
    "start_time": "2023-05-17T21:05:21.392Z"
   },
   {
    "duration": 140,
    "start_time": "2023-05-17T21:05:21.402Z"
   },
   {
    "duration": 4,
    "start_time": "2023-05-17T21:05:21.544Z"
   },
   {
    "duration": 853,
    "start_time": "2023-05-17T21:05:21.550Z"
   },
   {
    "duration": 33,
    "start_time": "2023-05-17T21:05:22.404Z"
   },
   {
    "duration": 5,
    "start_time": "2023-05-17T21:05:22.439Z"
   },
   {
    "duration": 4,
    "start_time": "2023-05-17T21:05:22.446Z"
   },
   {
    "duration": 136,
    "start_time": "2023-05-17T21:05:22.452Z"
   },
   {
    "duration": 14,
    "start_time": "2023-05-17T21:06:39.406Z"
   },
   {
    "duration": 10,
    "start_time": "2023-05-17T21:06:52.952Z"
   },
   {
    "duration": 1168,
    "start_time": "2023-05-17T21:48:15.720Z"
   },
   {
    "duration": 41,
    "start_time": "2023-05-17T21:48:16.890Z"
   },
   {
    "duration": 14,
    "start_time": "2023-05-17T21:48:16.932Z"
   },
   {
    "duration": 54,
    "start_time": "2023-05-17T21:48:16.948Z"
   },
   {
    "duration": 11,
    "start_time": "2023-05-17T21:48:17.004Z"
   },
   {
    "duration": 20,
    "start_time": "2023-05-17T21:48:17.017Z"
   },
   {
    "duration": 11,
    "start_time": "2023-05-17T21:48:17.038Z"
   },
   {
    "duration": 8,
    "start_time": "2023-05-17T21:48:17.051Z"
   },
   {
    "duration": 30,
    "start_time": "2023-05-17T21:48:17.060Z"
   },
   {
    "duration": 24,
    "start_time": "2023-05-17T21:48:17.092Z"
   },
   {
    "duration": 10,
    "start_time": "2023-05-17T21:48:17.118Z"
   },
   {
    "duration": 7,
    "start_time": "2023-05-17T21:48:17.130Z"
   },
   {
    "duration": 8,
    "start_time": "2023-05-17T21:48:17.138Z"
   },
   {
    "duration": 7,
    "start_time": "2023-05-17T21:48:17.148Z"
   },
   {
    "duration": 9,
    "start_time": "2023-05-17T21:48:17.157Z"
   },
   {
    "duration": 6,
    "start_time": "2023-05-17T21:48:17.168Z"
   },
   {
    "duration": 8,
    "start_time": "2023-05-17T21:48:17.176Z"
   },
   {
    "duration": 9,
    "start_time": "2023-05-17T21:48:17.185Z"
   },
   {
    "duration": 36,
    "start_time": "2023-05-17T21:48:17.196Z"
   },
   {
    "duration": 3,
    "start_time": "2023-05-17T21:48:17.233Z"
   },
   {
    "duration": 27,
    "start_time": "2023-05-17T21:48:17.238Z"
   },
   {
    "duration": 8,
    "start_time": "2023-05-17T21:48:17.267Z"
   },
   {
    "duration": 8,
    "start_time": "2023-05-17T21:48:17.276Z"
   },
   {
    "duration": 22,
    "start_time": "2023-05-17T21:48:17.287Z"
   },
   {
    "duration": 215,
    "start_time": "2023-05-17T21:48:17.310Z"
   },
   {
    "duration": 4,
    "start_time": "2023-05-17T21:48:17.527Z"
   },
   {
    "duration": 139,
    "start_time": "2023-05-17T21:48:17.533Z"
   },
   {
    "duration": 7,
    "start_time": "2023-05-17T21:48:17.676Z"
   },
   {
    "duration": 26,
    "start_time": "2023-05-17T21:48:17.685Z"
   },
   {
    "duration": 169,
    "start_time": "2023-05-17T21:48:17.713Z"
   },
   {
    "duration": 9,
    "start_time": "2023-05-17T21:48:17.883Z"
   },
   {
    "duration": 172,
    "start_time": "2023-05-17T21:48:17.893Z"
   },
   {
    "duration": 8,
    "start_time": "2023-05-17T21:48:18.067Z"
   },
   {
    "duration": 186,
    "start_time": "2023-05-17T21:48:18.076Z"
   },
   {
    "duration": 10,
    "start_time": "2023-05-17T21:48:18.264Z"
   },
   {
    "duration": 35,
    "start_time": "2023-05-17T21:48:18.275Z"
   },
   {
    "duration": 17,
    "start_time": "2023-05-17T21:48:18.311Z"
   },
   {
    "duration": 20,
    "start_time": "2023-05-17T21:48:18.330Z"
   },
   {
    "duration": 31,
    "start_time": "2023-05-17T21:48:18.352Z"
   },
   {
    "duration": 188,
    "start_time": "2023-05-17T21:48:18.385Z"
   },
   {
    "duration": 9,
    "start_time": "2023-05-17T21:48:18.575Z"
   },
   {
    "duration": 22,
    "start_time": "2023-05-17T21:48:18.586Z"
   },
   {
    "duration": 223,
    "start_time": "2023-05-17T21:48:18.610Z"
   },
   {
    "duration": 9,
    "start_time": "2023-05-17T21:48:18.834Z"
   },
   {
    "duration": 9,
    "start_time": "2023-05-17T21:48:18.845Z"
   },
   {
    "duration": 4,
    "start_time": "2023-05-17T21:48:18.855Z"
   },
   {
    "duration": 1072,
    "start_time": "2023-05-17T21:48:18.860Z"
   },
   {
    "duration": 21,
    "start_time": "2023-05-17T21:48:19.934Z"
   },
   {
    "duration": 6,
    "start_time": "2023-05-17T21:48:19.956Z"
   },
   {
    "duration": 5,
    "start_time": "2023-05-17T21:48:19.964Z"
   },
   {
    "duration": 10,
    "start_time": "2023-05-17T21:48:19.971Z"
   },
   {
    "duration": 1047,
    "start_time": "2023-05-18T14:16:09.978Z"
   },
   {
    "duration": 38,
    "start_time": "2023-05-18T14:16:11.027Z"
   },
   {
    "duration": 10,
    "start_time": "2023-05-18T14:16:11.066Z"
   },
   {
    "duration": 35,
    "start_time": "2023-05-18T14:16:11.077Z"
   },
   {
    "duration": 10,
    "start_time": "2023-05-18T14:16:11.113Z"
   },
   {
    "duration": 20,
    "start_time": "2023-05-18T14:16:11.125Z"
   },
   {
    "duration": 8,
    "start_time": "2023-05-18T14:16:11.147Z"
   },
   {
    "duration": 8,
    "start_time": "2023-05-18T14:16:11.157Z"
   },
   {
    "duration": 8,
    "start_time": "2023-05-18T14:16:11.167Z"
   },
   {
    "duration": 32,
    "start_time": "2023-05-18T14:16:11.179Z"
   },
   {
    "duration": 4,
    "start_time": "2023-05-18T14:16:11.213Z"
   },
   {
    "duration": 5,
    "start_time": "2023-05-18T14:16:11.218Z"
   },
   {
    "duration": 6,
    "start_time": "2023-05-18T14:16:11.225Z"
   },
   {
    "duration": 10,
    "start_time": "2023-05-18T14:16:11.232Z"
   },
   {
    "duration": 7,
    "start_time": "2023-05-18T14:16:11.244Z"
   },
   {
    "duration": 11,
    "start_time": "2023-05-18T14:16:11.252Z"
   },
   {
    "duration": 15,
    "start_time": "2023-05-18T14:16:11.265Z"
   },
   {
    "duration": 4,
    "start_time": "2023-05-18T14:16:11.282Z"
   },
   {
    "duration": 7,
    "start_time": "2023-05-18T14:16:11.306Z"
   },
   {
    "duration": 3,
    "start_time": "2023-05-18T14:16:11.314Z"
   },
   {
    "duration": 10,
    "start_time": "2023-05-18T14:16:11.318Z"
   },
   {
    "duration": 4,
    "start_time": "2023-05-18T14:16:11.329Z"
   },
   {
    "duration": 7,
    "start_time": "2023-05-18T14:16:11.334Z"
   },
   {
    "duration": 12,
    "start_time": "2023-05-18T14:16:11.342Z"
   },
   {
    "duration": 146,
    "start_time": "2023-05-18T14:16:11.356Z"
   },
   {
    "duration": 7,
    "start_time": "2023-05-18T14:16:11.503Z"
   },
   {
    "duration": 120,
    "start_time": "2023-05-18T14:16:11.511Z"
   },
   {
    "duration": 7,
    "start_time": "2023-05-18T14:16:11.633Z"
   },
   {
    "duration": 5,
    "start_time": "2023-05-18T14:16:11.642Z"
   },
   {
    "duration": 132,
    "start_time": "2023-05-18T14:16:11.648Z"
   },
   {
    "duration": 7,
    "start_time": "2023-05-18T14:16:11.781Z"
   },
   {
    "duration": 144,
    "start_time": "2023-05-18T14:16:11.790Z"
   },
   {
    "duration": 7,
    "start_time": "2023-05-18T14:16:11.935Z"
   },
   {
    "duration": 153,
    "start_time": "2023-05-18T14:16:11.943Z"
   },
   {
    "duration": 16,
    "start_time": "2023-05-18T14:16:12.097Z"
   },
   {
    "duration": 21,
    "start_time": "2023-05-18T14:16:12.114Z"
   },
   {
    "duration": 8,
    "start_time": "2023-05-18T14:16:12.136Z"
   },
   {
    "duration": 21,
    "start_time": "2023-05-18T14:16:12.145Z"
   },
   {
    "duration": 16,
    "start_time": "2023-05-18T14:16:12.168Z"
   },
   {
    "duration": 174,
    "start_time": "2023-05-18T14:16:12.185Z"
   },
   {
    "duration": 7,
    "start_time": "2023-05-18T14:16:12.361Z"
   },
   {
    "duration": 8,
    "start_time": "2023-05-18T14:16:12.369Z"
   },
   {
    "duration": 195,
    "start_time": "2023-05-18T14:16:12.378Z"
   },
   {
    "duration": 9,
    "start_time": "2023-05-18T14:16:12.575Z"
   },
   {
    "duration": 23,
    "start_time": "2023-05-18T14:16:12.585Z"
   },
   {
    "duration": 4,
    "start_time": "2023-05-18T14:16:12.610Z"
   },
   {
    "duration": 711,
    "start_time": "2023-05-18T14:16:12.615Z"
   },
   {
    "duration": 21,
    "start_time": "2023-05-18T14:16:13.327Z"
   },
   {
    "duration": 5,
    "start_time": "2023-05-18T14:16:13.350Z"
   },
   {
    "duration": 5,
    "start_time": "2023-05-18T14:16:13.357Z"
   },
   {
    "duration": 15,
    "start_time": "2023-05-18T14:16:13.363Z"
   },
   {
    "duration": 53,
    "start_time": "2023-05-19T20:28:12.447Z"
   },
   {
    "duration": 1014,
    "start_time": "2023-05-19T20:28:22.141Z"
   },
   {
    "duration": 93,
    "start_time": "2023-05-19T20:28:23.157Z"
   },
   {
    "duration": 10,
    "start_time": "2023-05-19T20:28:23.252Z"
   },
   {
    "duration": 157,
    "start_time": "2023-05-19T20:28:23.263Z"
   },
   {
    "duration": 12,
    "start_time": "2023-05-19T20:28:23.422Z"
   },
   {
    "duration": 59,
    "start_time": "2023-05-19T20:28:23.436Z"
   },
   {
    "duration": 9,
    "start_time": "2023-05-19T20:28:23.496Z"
   },
   {
    "duration": 7,
    "start_time": "2023-05-19T20:28:23.507Z"
   },
   {
    "duration": 10,
    "start_time": "2023-05-19T20:28:23.516Z"
   },
   {
    "duration": 13,
    "start_time": "2023-05-19T20:28:23.529Z"
   },
   {
    "duration": 9,
    "start_time": "2023-05-19T20:28:23.544Z"
   },
   {
    "duration": 5,
    "start_time": "2023-05-19T20:28:23.554Z"
   },
   {
    "duration": 12,
    "start_time": "2023-05-19T20:28:23.560Z"
   },
   {
    "duration": 6,
    "start_time": "2023-05-19T20:28:23.574Z"
   },
   {
    "duration": 6,
    "start_time": "2023-05-19T20:28:23.607Z"
   },
   {
    "duration": 7,
    "start_time": "2023-05-19T20:28:23.614Z"
   },
   {
    "duration": 10,
    "start_time": "2023-05-19T20:28:23.622Z"
   },
   {
    "duration": 4,
    "start_time": "2023-05-19T20:28:23.634Z"
   },
   {
    "duration": 8,
    "start_time": "2023-05-19T20:28:23.639Z"
   },
   {
    "duration": 2,
    "start_time": "2023-05-19T20:28:23.648Z"
   },
   {
    "duration": 14,
    "start_time": "2023-05-19T20:28:23.651Z"
   },
   {
    "duration": 3,
    "start_time": "2023-05-19T20:28:23.666Z"
   },
   {
    "duration": 37,
    "start_time": "2023-05-19T20:28:23.670Z"
   },
   {
    "duration": 7,
    "start_time": "2023-05-19T20:28:23.708Z"
   },
   {
    "duration": 145,
    "start_time": "2023-05-19T20:28:23.717Z"
   },
   {
    "duration": 9,
    "start_time": "2023-05-19T20:28:23.864Z"
   },
   {
    "duration": 123,
    "start_time": "2023-05-19T20:28:23.874Z"
   },
   {
    "duration": 9,
    "start_time": "2023-05-19T20:28:24.000Z"
   },
   {
    "duration": 4,
    "start_time": "2023-05-19T20:28:24.011Z"
   },
   {
    "duration": 140,
    "start_time": "2023-05-19T20:28:24.016Z"
   },
   {
    "duration": 7,
    "start_time": "2023-05-19T20:28:24.158Z"
   },
   {
    "duration": 157,
    "start_time": "2023-05-19T20:28:24.166Z"
   },
   {
    "duration": 7,
    "start_time": "2023-05-19T20:28:24.324Z"
   },
   {
    "duration": 158,
    "start_time": "2023-05-19T20:28:24.333Z"
   },
   {
    "duration": 13,
    "start_time": "2023-05-19T20:28:24.493Z"
   },
   {
    "duration": 26,
    "start_time": "2023-05-19T20:28:24.508Z"
   },
   {
    "duration": 8,
    "start_time": "2023-05-19T20:28:24.535Z"
   },
   {
    "duration": 18,
    "start_time": "2023-05-19T20:28:24.544Z"
   },
   {
    "duration": 18,
    "start_time": "2023-05-19T20:28:24.563Z"
   },
   {
    "duration": 160,
    "start_time": "2023-05-19T20:28:24.607Z"
   },
   {
    "duration": 7,
    "start_time": "2023-05-19T20:28:24.768Z"
   },
   {
    "duration": 15,
    "start_time": "2023-05-19T20:28:24.776Z"
   },
   {
    "duration": 152,
    "start_time": "2023-05-19T20:28:24.792Z"
   },
   {
    "duration": 7,
    "start_time": "2023-05-19T20:28:24.945Z"
   },
   {
    "duration": 19,
    "start_time": "2023-05-19T20:28:24.953Z"
   },
   {
    "duration": 3,
    "start_time": "2023-05-19T20:28:24.973Z"
   },
   {
    "duration": 693,
    "start_time": "2023-05-19T20:28:24.977Z"
   },
   {
    "duration": 19,
    "start_time": "2023-05-19T20:28:25.671Z"
   },
   {
    "duration": 5,
    "start_time": "2023-05-19T20:28:25.691Z"
   },
   {
    "duration": 4,
    "start_time": "2023-05-19T20:28:25.706Z"
   },
   {
    "duration": 28,
    "start_time": "2023-05-19T20:28:25.711Z"
   },
   {
    "duration": 1283,
    "start_time": "2023-08-21T20:07:17.187Z"
   },
   {
    "duration": 114,
    "start_time": "2023-08-21T20:07:18.477Z"
   },
   {
    "duration": 13,
    "start_time": "2023-08-21T20:07:18.593Z"
   },
   {
    "duration": 185,
    "start_time": "2023-08-21T20:07:18.609Z"
   },
   {
    "duration": 17,
    "start_time": "2023-08-21T20:07:18.797Z"
   },
   {
    "duration": 78,
    "start_time": "2023-08-21T20:07:18.816Z"
   },
   {
    "duration": 18,
    "start_time": "2023-08-21T20:07:18.896Z"
   },
   {
    "duration": 10,
    "start_time": "2023-08-21T20:07:18.916Z"
   },
   {
    "duration": 12,
    "start_time": "2023-08-21T20:07:18.929Z"
   },
   {
    "duration": 47,
    "start_time": "2023-08-21T20:07:18.942Z"
   },
   {
    "duration": 6,
    "start_time": "2023-08-21T20:07:18.991Z"
   },
   {
    "duration": 6,
    "start_time": "2023-08-21T20:07:18.999Z"
   },
   {
    "duration": 16,
    "start_time": "2023-08-21T20:07:19.007Z"
   },
   {
    "duration": 12,
    "start_time": "2023-08-21T20:07:19.026Z"
   },
   {
    "duration": 35,
    "start_time": "2023-08-21T20:07:19.040Z"
   },
   {
    "duration": 9,
    "start_time": "2023-08-21T20:07:19.078Z"
   },
   {
    "duration": 21,
    "start_time": "2023-08-21T20:07:19.089Z"
   },
   {
    "duration": 7,
    "start_time": "2023-08-21T20:07:19.113Z"
   },
   {
    "duration": 11,
    "start_time": "2023-08-21T20:07:19.124Z"
   },
   {
    "duration": 4,
    "start_time": "2023-08-21T20:07:19.137Z"
   },
   {
    "duration": 17,
    "start_time": "2023-08-21T20:07:19.167Z"
   },
   {
    "duration": 21,
    "start_time": "2023-08-21T20:07:19.186Z"
   },
   {
    "duration": 10,
    "start_time": "2023-08-21T20:07:19.209Z"
   },
   {
    "duration": 10,
    "start_time": "2023-08-21T20:07:19.221Z"
   },
   {
    "duration": 187,
    "start_time": "2023-08-21T20:07:19.233Z"
   },
   {
    "duration": 7,
    "start_time": "2023-08-21T20:07:19.422Z"
   },
   {
    "duration": 174,
    "start_time": "2023-08-21T20:07:19.431Z"
   },
   {
    "duration": 10,
    "start_time": "2023-08-21T20:07:19.607Z"
   },
   {
    "duration": 8,
    "start_time": "2023-08-21T20:07:19.619Z"
   },
   {
    "duration": 199,
    "start_time": "2023-08-21T20:07:19.629Z"
   },
   {
    "duration": 11,
    "start_time": "2023-08-21T20:07:19.831Z"
   },
   {
    "duration": 209,
    "start_time": "2023-08-21T20:07:19.844Z"
   },
   {
    "duration": 28,
    "start_time": "2023-08-21T20:07:20.055Z"
   },
   {
    "duration": 204,
    "start_time": "2023-08-21T20:07:20.084Z"
   },
   {
    "duration": 13,
    "start_time": "2023-08-21T20:07:20.290Z"
   },
   {
    "duration": 77,
    "start_time": "2023-08-21T20:07:20.304Z"
   },
   {
    "duration": 11,
    "start_time": "2023-08-21T20:07:20.385Z"
   },
   {
    "duration": 40,
    "start_time": "2023-08-21T20:07:20.397Z"
   },
   {
    "duration": 64,
    "start_time": "2023-08-21T20:07:20.440Z"
   },
   {
    "duration": 231,
    "start_time": "2023-08-21T20:07:20.507Z"
   },
   {
    "duration": 12,
    "start_time": "2023-08-21T20:07:20.744Z"
   },
   {
    "duration": 24,
    "start_time": "2023-08-21T20:07:20.770Z"
   },
   {
    "duration": 214,
    "start_time": "2023-08-21T20:07:20.796Z"
   },
   {
    "duration": 10,
    "start_time": "2023-08-21T20:07:21.012Z"
   },
   {
    "duration": 39,
    "start_time": "2023-08-21T20:07:21.024Z"
   },
   {
    "duration": 36,
    "start_time": "2023-08-21T20:07:21.065Z"
   },
   {
    "duration": 919,
    "start_time": "2023-08-21T20:07:21.103Z"
   },
   {
    "duration": 22,
    "start_time": "2023-08-21T20:07:22.024Z"
   },
   {
    "duration": 14,
    "start_time": "2023-08-21T20:07:22.070Z"
   },
   {
    "duration": 13,
    "start_time": "2023-08-21T20:07:22.086Z"
   },
   {
    "duration": 17,
    "start_time": "2023-08-21T20:07:22.101Z"
   },
   {
    "duration": 1151,
    "start_time": "2023-08-21T20:19:25.748Z"
   },
   {
    "duration": 41,
    "start_time": "2023-08-21T20:19:26.901Z"
   },
   {
    "duration": 12,
    "start_time": "2023-08-21T20:19:26.943Z"
   },
   {
    "duration": 42,
    "start_time": "2023-08-21T20:19:26.958Z"
   },
   {
    "duration": 13,
    "start_time": "2023-08-21T20:19:27.002Z"
   },
   {
    "duration": 37,
    "start_time": "2023-08-21T20:19:27.017Z"
   },
   {
    "duration": 9,
    "start_time": "2023-08-21T20:19:27.055Z"
   },
   {
    "duration": 20,
    "start_time": "2023-08-21T20:19:27.066Z"
   },
   {
    "duration": 19,
    "start_time": "2023-08-21T20:19:27.088Z"
   },
   {
    "duration": 15,
    "start_time": "2023-08-21T20:19:27.111Z"
   },
   {
    "duration": 4,
    "start_time": "2023-08-21T20:19:27.128Z"
   },
   {
    "duration": 14,
    "start_time": "2023-08-21T20:19:27.134Z"
   },
   {
    "duration": 26,
    "start_time": "2023-08-21T20:19:27.149Z"
   },
   {
    "duration": 9,
    "start_time": "2023-08-21T20:19:27.182Z"
   },
   {
    "duration": 7,
    "start_time": "2023-08-21T20:19:27.193Z"
   },
   {
    "duration": 12,
    "start_time": "2023-08-21T20:19:27.202Z"
   },
   {
    "duration": 8,
    "start_time": "2023-08-21T20:19:27.216Z"
   },
   {
    "duration": 11,
    "start_time": "2023-08-21T20:19:27.225Z"
   },
   {
    "duration": 14,
    "start_time": "2023-08-21T20:19:27.238Z"
   },
   {
    "duration": 21,
    "start_time": "2023-08-21T20:19:27.254Z"
   },
   {
    "duration": 10,
    "start_time": "2023-08-21T20:19:27.280Z"
   },
   {
    "duration": 10,
    "start_time": "2023-08-21T20:19:27.292Z"
   },
   {
    "duration": 13,
    "start_time": "2023-08-21T20:19:27.303Z"
   },
   {
    "duration": 9,
    "start_time": "2023-08-21T20:19:27.317Z"
   },
   {
    "duration": 161,
    "start_time": "2023-08-21T20:19:27.327Z"
   },
   {
    "duration": 6,
    "start_time": "2023-08-21T20:19:27.489Z"
   },
   {
    "duration": 127,
    "start_time": "2023-08-21T20:19:27.497Z"
   },
   {
    "duration": 9,
    "start_time": "2023-08-21T20:19:27.627Z"
   },
   {
    "duration": 10,
    "start_time": "2023-08-21T20:19:27.637Z"
   },
   {
    "duration": 160,
    "start_time": "2023-08-21T20:19:27.649Z"
   },
   {
    "duration": 9,
    "start_time": "2023-08-21T20:19:27.810Z"
   },
   {
    "duration": 174,
    "start_time": "2023-08-21T20:19:27.821Z"
   },
   {
    "duration": 8,
    "start_time": "2023-08-21T20:19:27.997Z"
   },
   {
    "duration": 193,
    "start_time": "2023-08-21T20:19:28.007Z"
   },
   {
    "duration": 9,
    "start_time": "2023-08-21T20:19:28.202Z"
   },
   {
    "duration": 24,
    "start_time": "2023-08-21T20:19:28.213Z"
   },
   {
    "duration": 13,
    "start_time": "2023-08-21T20:19:28.238Z"
   },
   {
    "duration": 42,
    "start_time": "2023-08-21T20:19:28.253Z"
   },
   {
    "duration": 27,
    "start_time": "2023-08-21T20:19:28.297Z"
   },
   {
    "duration": 193,
    "start_time": "2023-08-21T20:19:28.326Z"
   },
   {
    "duration": 8,
    "start_time": "2023-08-21T20:19:28.522Z"
   },
   {
    "duration": 16,
    "start_time": "2023-08-21T20:19:28.531Z"
   },
   {
    "duration": 176,
    "start_time": "2023-08-21T20:19:28.549Z"
   },
   {
    "duration": 8,
    "start_time": "2023-08-21T20:19:28.727Z"
   },
   {
    "duration": 10,
    "start_time": "2023-08-21T20:19:28.737Z"
   },
   {
    "duration": 24,
    "start_time": "2023-08-21T20:19:28.749Z"
   },
   {
    "duration": 816,
    "start_time": "2023-08-21T20:19:28.776Z"
   },
   {
    "duration": 19,
    "start_time": "2023-08-21T20:19:29.594Z"
   },
   {
    "duration": 8,
    "start_time": "2023-08-21T20:19:29.615Z"
   },
   {
    "duration": 8,
    "start_time": "2023-08-21T20:19:29.624Z"
   },
   {
    "duration": 17,
    "start_time": "2023-08-21T20:19:29.634Z"
   }
  ],
  "kernelspec": {
   "display_name": "Python 3 (ipykernel)",
   "language": "python",
   "name": "python3"
  },
  "language_info": {
   "codemirror_mode": {
    "name": "ipython",
    "version": 3
   },
   "file_extension": ".py",
   "mimetype": "text/x-python",
   "name": "python",
   "nbconvert_exporter": "python",
   "pygments_lexer": "ipython3",
   "version": "3.9.5"
  },
  "toc": {
   "base_numbering": 1,
   "nav_menu": {},
   "number_sections": true,
   "sideBar": true,
   "skip_h1_title": true,
   "title_cell": "Table of Contents",
   "title_sidebar": "Contents",
   "toc_cell": false,
   "toc_position": {},
   "toc_section_display": true,
   "toc_window_display": false
  }
 },
 "nbformat": 4,
 "nbformat_minor": 5
}

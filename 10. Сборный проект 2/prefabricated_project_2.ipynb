{
 "cells": [
  {
   "cell_type": "markdown",
   "metadata": {},
   "source": [
    "# Сборный проект №2"
   ]
  },
  {
   "cell_type": "markdown",
   "metadata": {},
   "source": [
    "Стартап по продаже продуктов питания, хочет разобраться, как ведут себя пользователи мобильного приложения. Дизайнеры хотят поменять шрифты во всем приложении. Решение будет принято по результатам A/A/B-теста. Пользователи разбиты на 3 группы: 2 контрольные со старыми шрифтами и одну экспериментальную — с новыми. \n",
    "\n",
    "Цель исследования - проанализировать, как пользователи доходят до покупки. Сколько пользователей доходит до покупки. После этого провести A/A/B-эксперимент и проанализировать его результаты.\n",
    "\n",
    "Для проведения исследования необходимо изучить данные, сделать их предобработку, затем рассмотреть воронку событий, провести A/A/B-эксперимент и сделать выводы."
   ]
  },
  {
   "cell_type": "code",
   "execution_count": 1,
   "metadata": {},
   "outputs": [],
   "source": [
    "#Импорт необходимых библиотек\n",
    "import pandas as pd\n",
    "import matplotlib.pyplot as plt\n",
    "import seaborn as sns\n",
    "import pathlib\n",
    "from pathlib import Path\n",
    "\n",
    "from scipy import stats as st\n",
    "import numpy as np\n",
    "import math as mth\n",
    "import  plotly.express  as  px\n",
    "from  plotly  import  graph_objects  as  go"
   ]
  },
  {
   "cell_type": "code",
   "execution_count": 2,
   "metadata": {},
   "outputs": [],
   "source": [
    "#Задаем размер графиков\n",
    "sns.set(rc={'figure.figsize':(15,6)})\n",
    "\n",
    "#Устанавливаем ограничения на количество знаков после запятой\n",
    "pd.options.display.float_format = '{:,.3f}'.format\n",
    "\n",
    "#Снимаем ограничение на количество столбцов\n",
    "pd.set_option('display.max_columns', None)\n",
    "\n",
    "#Снимаем ограничение на ширину столбцов\n",
    "pd.set_option('display.max_colwidth', None)"
   ]
  },
  {
   "cell_type": "markdown",
   "metadata": {},
   "source": [
    "# Обзор и предобработка данных"
   ]
  },
  {
   "cell_type": "code",
   "execution_count": 3,
   "metadata": {},
   "outputs": [],
   "source": [
    "#Чтение файла\n",
    "try:\n",
    "    data = pd.read_csv('/datasets/logs_exp.csv', sep='\\t')\n",
    "except:\n",
    "    data = pd.read_csv('logs_exp.csv', sep='\\t')"
   ]
  },
  {
   "cell_type": "code",
   "execution_count": 4,
   "metadata": {},
   "outputs": [
    {
     "name": "stdout",
     "output_type": "stream",
     "text": [
      "<class 'pandas.core.frame.DataFrame'>\n",
      "RangeIndex: 244126 entries, 0 to 244125\n",
      "Data columns (total 4 columns):\n",
      " #   Column          Non-Null Count   Dtype \n",
      "---  ------          --------------   ----- \n",
      " 0   EventName       244126 non-null  object\n",
      " 1   DeviceIDHash    244126 non-null  int64 \n",
      " 2   EventTimestamp  244126 non-null  int64 \n",
      " 3   ExpId           244126 non-null  int64 \n",
      "dtypes: int64(3), object(1)\n",
      "memory usage: 7.5+ MB\n"
     ]
    },
    {
     "data": {
      "text/html": [
       "<div>\n",
       "<style scoped>\n",
       "    .dataframe tbody tr th:only-of-type {\n",
       "        vertical-align: middle;\n",
       "    }\n",
       "\n",
       "    .dataframe tbody tr th {\n",
       "        vertical-align: top;\n",
       "    }\n",
       "\n",
       "    .dataframe thead th {\n",
       "        text-align: right;\n",
       "    }\n",
       "</style>\n",
       "<table border=\"1\" class=\"dataframe\">\n",
       "  <thead>\n",
       "    <tr style=\"text-align: right;\">\n",
       "      <th></th>\n",
       "      <th>EventName</th>\n",
       "      <th>DeviceIDHash</th>\n",
       "      <th>EventTimestamp</th>\n",
       "      <th>ExpId</th>\n",
       "    </tr>\n",
       "  </thead>\n",
       "  <tbody>\n",
       "    <tr>\n",
       "      <th>0</th>\n",
       "      <td>MainScreenAppear</td>\n",
       "      <td>4575588528974610257</td>\n",
       "      <td>1564029816</td>\n",
       "      <td>246</td>\n",
       "    </tr>\n",
       "    <tr>\n",
       "      <th>1</th>\n",
       "      <td>MainScreenAppear</td>\n",
       "      <td>7416695313311560658</td>\n",
       "      <td>1564053102</td>\n",
       "      <td>246</td>\n",
       "    </tr>\n",
       "    <tr>\n",
       "      <th>2</th>\n",
       "      <td>PaymentScreenSuccessful</td>\n",
       "      <td>3518123091307005509</td>\n",
       "      <td>1564054127</td>\n",
       "      <td>248</td>\n",
       "    </tr>\n",
       "    <tr>\n",
       "      <th>3</th>\n",
       "      <td>CartScreenAppear</td>\n",
       "      <td>3518123091307005509</td>\n",
       "      <td>1564054127</td>\n",
       "      <td>248</td>\n",
       "    </tr>\n",
       "    <tr>\n",
       "      <th>4</th>\n",
       "      <td>PaymentScreenSuccessful</td>\n",
       "      <td>6217807653094995999</td>\n",
       "      <td>1564055322</td>\n",
       "      <td>248</td>\n",
       "    </tr>\n",
       "    <tr>\n",
       "      <th>...</th>\n",
       "      <td>...</td>\n",
       "      <td>...</td>\n",
       "      <td>...</td>\n",
       "      <td>...</td>\n",
       "    </tr>\n",
       "    <tr>\n",
       "      <th>244121</th>\n",
       "      <td>MainScreenAppear</td>\n",
       "      <td>4599628364049201812</td>\n",
       "      <td>1565212345</td>\n",
       "      <td>247</td>\n",
       "    </tr>\n",
       "    <tr>\n",
       "      <th>244122</th>\n",
       "      <td>MainScreenAppear</td>\n",
       "      <td>5849806612437486590</td>\n",
       "      <td>1565212439</td>\n",
       "      <td>246</td>\n",
       "    </tr>\n",
       "    <tr>\n",
       "      <th>244123</th>\n",
       "      <td>MainScreenAppear</td>\n",
       "      <td>5746969938801999050</td>\n",
       "      <td>1565212483</td>\n",
       "      <td>246</td>\n",
       "    </tr>\n",
       "    <tr>\n",
       "      <th>244124</th>\n",
       "      <td>MainScreenAppear</td>\n",
       "      <td>5746969938801999050</td>\n",
       "      <td>1565212498</td>\n",
       "      <td>246</td>\n",
       "    </tr>\n",
       "    <tr>\n",
       "      <th>244125</th>\n",
       "      <td>OffersScreenAppear</td>\n",
       "      <td>5746969938801999050</td>\n",
       "      <td>1565212517</td>\n",
       "      <td>246</td>\n",
       "    </tr>\n",
       "  </tbody>\n",
       "</table>\n",
       "<p>244126 rows × 4 columns</p>\n",
       "</div>"
      ],
      "text/plain": [
       "                      EventName         DeviceIDHash  EventTimestamp  ExpId\n",
       "0              MainScreenAppear  4575588528974610257      1564029816    246\n",
       "1              MainScreenAppear  7416695313311560658      1564053102    246\n",
       "2       PaymentScreenSuccessful  3518123091307005509      1564054127    248\n",
       "3              CartScreenAppear  3518123091307005509      1564054127    248\n",
       "4       PaymentScreenSuccessful  6217807653094995999      1564055322    248\n",
       "...                         ...                  ...             ...    ...\n",
       "244121         MainScreenAppear  4599628364049201812      1565212345    247\n",
       "244122         MainScreenAppear  5849806612437486590      1565212439    246\n",
       "244123         MainScreenAppear  5746969938801999050      1565212483    246\n",
       "244124         MainScreenAppear  5746969938801999050      1565212498    246\n",
       "244125       OffersScreenAppear  5746969938801999050      1565212517    246\n",
       "\n",
       "[244126 rows x 4 columns]"
      ]
     },
     "execution_count": 4,
     "metadata": {},
     "output_type": "execute_result"
    }
   ],
   "source": [
    "#Вывод информации о таблице\n",
    "data.info()\n",
    "data"
   ]
  },
  {
   "cell_type": "code",
   "execution_count": 5,
   "metadata": {},
   "outputs": [
    {
     "data": {
      "text/plain": [
       "EventName         0\n",
       "DeviceIDHash      0\n",
       "EventTimestamp    0\n",
       "ExpId             0\n",
       "dtype: int64"
      ]
     },
     "execution_count": 5,
     "metadata": {},
     "output_type": "execute_result"
    }
   ],
   "source": [
    "#Проверка на наличие пропусков\n",
    "data.isna().sum()"
   ]
  },
  {
   "cell_type": "code",
   "execution_count": 6,
   "metadata": {},
   "outputs": [
    {
     "name": "stdout",
     "output_type": "stream",
     "text": [
      "Количество дублей: 413\n",
      "Доля дублей в датафрейме: 0.2%\n"
     ]
    }
   ],
   "source": [
    "#Проверка на наличие дубликатов\n",
    "print ('Количество дублей:', data.duplicated().sum())\n",
    "print ('Доля дублей в датафрейме:', '{:.1%}'.format(data.duplicated().sum()/len(data)))"
   ]
  },
  {
   "cell_type": "code",
   "execution_count": 7,
   "metadata": {},
   "outputs": [
    {
     "data": {
      "text/plain": [
       "array(['MainScreenAppear', 'PaymentScreenSuccessful', 'CartScreenAppear',\n",
       "       'OffersScreenAppear', 'Tutorial'], dtype=object)"
      ]
     },
     "execution_count": 7,
     "metadata": {},
     "output_type": "execute_result"
    }
   ],
   "source": [
    "#Просмотр уникальных значений столбца 'EventName'\n",
    "data['EventName'].unique()"
   ]
  },
  {
   "cell_type": "markdown",
   "metadata": {},
   "source": [
    "**Вывод**\n",
    "\n",
    "После ознакомления с данными датафрейма, можно заметить, что наименования столбцов написаны в разных регистрах. Тип данных в столбце с \"временем события\" является int64. В датафрейме отсутствуют пропуски, но вместе с тем имеются 413 дубликатов, что составляет 0.2% от всего датафрейма. Всего в таблице 244126 сообщений о действии пользователей, но при этом в таблице всего 5 типов событий\n",
    "\n",
    "Для дальнейшего анализа заменим наименование столбцов, добавим столбцы с датой и временем, а также отдельный столбец дат. Также необходимо избавиться от дублей и проверить не попадают ли какие-то пользователи в несколько группы одновременно"
   ]
  },
  {
   "cell_type": "code",
   "execution_count": 8,
   "metadata": {},
   "outputs": [],
   "source": [
    "#Приведение названия столбцов к \"змеиному\" регистру\n",
    "data = data.rename(columns={'EventName' : 'event', 'DeviceIDHash': 'user_id', 'EventTimestamp': 'event_time', 'ExpId' : 'group'})\n"
   ]
  },
  {
   "cell_type": "code",
   "execution_count": 9,
   "metadata": {},
   "outputs": [
    {
     "data": {
      "text/html": [
       "<div>\n",
       "<style scoped>\n",
       "    .dataframe tbody tr th:only-of-type {\n",
       "        vertical-align: middle;\n",
       "    }\n",
       "\n",
       "    .dataframe tbody tr th {\n",
       "        vertical-align: top;\n",
       "    }\n",
       "\n",
       "    .dataframe thead th {\n",
       "        text-align: right;\n",
       "    }\n",
       "</style>\n",
       "<table border=\"1\" class=\"dataframe\">\n",
       "  <thead>\n",
       "    <tr style=\"text-align: right;\">\n",
       "      <th></th>\n",
       "      <th>event</th>\n",
       "      <th>user_id</th>\n",
       "      <th>event_time</th>\n",
       "      <th>group</th>\n",
       "      <th>date</th>\n",
       "    </tr>\n",
       "  </thead>\n",
       "  <tbody>\n",
       "    <tr>\n",
       "      <th>0</th>\n",
       "      <td>MainScreenAppear</td>\n",
       "      <td>4575588528974610257</td>\n",
       "      <td>2019-07-25 04:43:36</td>\n",
       "      <td>246</td>\n",
       "      <td>2019-07-25</td>\n",
       "    </tr>\n",
       "    <tr>\n",
       "      <th>1</th>\n",
       "      <td>MainScreenAppear</td>\n",
       "      <td>7416695313311560658</td>\n",
       "      <td>2019-07-25 11:11:42</td>\n",
       "      <td>246</td>\n",
       "      <td>2019-07-25</td>\n",
       "    </tr>\n",
       "    <tr>\n",
       "      <th>2</th>\n",
       "      <td>PaymentScreenSuccessful</td>\n",
       "      <td>3518123091307005509</td>\n",
       "      <td>2019-07-25 11:28:47</td>\n",
       "      <td>248</td>\n",
       "      <td>2019-07-25</td>\n",
       "    </tr>\n",
       "    <tr>\n",
       "      <th>3</th>\n",
       "      <td>CartScreenAppear</td>\n",
       "      <td>3518123091307005509</td>\n",
       "      <td>2019-07-25 11:28:47</td>\n",
       "      <td>248</td>\n",
       "      <td>2019-07-25</td>\n",
       "    </tr>\n",
       "    <tr>\n",
       "      <th>4</th>\n",
       "      <td>PaymentScreenSuccessful</td>\n",
       "      <td>6217807653094995999</td>\n",
       "      <td>2019-07-25 11:48:42</td>\n",
       "      <td>248</td>\n",
       "      <td>2019-07-25</td>\n",
       "    </tr>\n",
       "  </tbody>\n",
       "</table>\n",
       "</div>"
      ],
      "text/plain": [
       "                     event              user_id          event_time  group  \\\n",
       "0         MainScreenAppear  4575588528974610257 2019-07-25 04:43:36    246   \n",
       "1         MainScreenAppear  7416695313311560658 2019-07-25 11:11:42    246   \n",
       "2  PaymentScreenSuccessful  3518123091307005509 2019-07-25 11:28:47    248   \n",
       "3         CartScreenAppear  3518123091307005509 2019-07-25 11:28:47    248   \n",
       "4  PaymentScreenSuccessful  6217807653094995999 2019-07-25 11:48:42    248   \n",
       "\n",
       "        date  \n",
       "0 2019-07-25  \n",
       "1 2019-07-25  \n",
       "2 2019-07-25  \n",
       "3 2019-07-25  \n",
       "4 2019-07-25  "
      ]
     },
     "execution_count": 9,
     "metadata": {},
     "output_type": "execute_result"
    }
   ],
   "source": [
    "#Изменение типов данных столбца с временем события\n",
    "data['event_time'] = pd.to_datetime(data['event_time'], unit='s')\n",
    "\n",
    "#Добавление столбца с датой\n",
    "data['date'] = pd.to_datetime(data['event_time'].dt.date)\n",
    "\n",
    "#Вывод таблицы\n",
    "data.head() "
   ]
  },
  {
   "cell_type": "code",
   "execution_count": 10,
   "metadata": {},
   "outputs": [],
   "source": [
    "#Удаление дублей\n",
    "data = data.drop_duplicates().reset_index(drop=True)"
   ]
  },
  {
   "cell_type": "code",
   "execution_count": 11,
   "metadata": {},
   "outputs": [
    {
     "data": {
      "text/plain": [
       "group    0\n",
       "dtype: int64"
      ]
     },
     "execution_count": 11,
     "metadata": {},
     "output_type": "execute_result"
    }
   ],
   "source": [
    "#Проверка пользователей на попадание в несколько групп\n",
    "data.groupby('user_id').agg({'group' : 'nunique'}).query('group > 1').count()"
   ]
  },
  {
   "cell_type": "code",
   "execution_count": 12,
   "metadata": {},
   "outputs": [
    {
     "name": "stdout",
     "output_type": "stream",
     "text": [
      "<class 'pandas.core.frame.DataFrame'>\n",
      "RangeIndex: 243713 entries, 0 to 243712\n",
      "Data columns (total 5 columns):\n",
      " #   Column      Non-Null Count   Dtype         \n",
      "---  ------      --------------   -----         \n",
      " 0   event       243713 non-null  object        \n",
      " 1   user_id     243713 non-null  int64         \n",
      " 2   event_time  243713 non-null  datetime64[ns]\n",
      " 3   group       243713 non-null  int64         \n",
      " 4   date        243713 non-null  datetime64[ns]\n",
      "dtypes: datetime64[ns](2), int64(2), object(1)\n",
      "memory usage: 9.3+ MB\n"
     ]
    },
    {
     "data": {
      "text/html": [
       "<div>\n",
       "<style scoped>\n",
       "    .dataframe tbody tr th:only-of-type {\n",
       "        vertical-align: middle;\n",
       "    }\n",
       "\n",
       "    .dataframe tbody tr th {\n",
       "        vertical-align: top;\n",
       "    }\n",
       "\n",
       "    .dataframe thead th {\n",
       "        text-align: right;\n",
       "    }\n",
       "</style>\n",
       "<table border=\"1\" class=\"dataframe\">\n",
       "  <thead>\n",
       "    <tr style=\"text-align: right;\">\n",
       "      <th></th>\n",
       "      <th>event</th>\n",
       "      <th>user_id</th>\n",
       "      <th>event_time</th>\n",
       "      <th>group</th>\n",
       "      <th>date</th>\n",
       "    </tr>\n",
       "  </thead>\n",
       "  <tbody>\n",
       "    <tr>\n",
       "      <th>0</th>\n",
       "      <td>MainScreenAppear</td>\n",
       "      <td>4575588528974610257</td>\n",
       "      <td>2019-07-25 04:43:36</td>\n",
       "      <td>246</td>\n",
       "      <td>2019-07-25</td>\n",
       "    </tr>\n",
       "    <tr>\n",
       "      <th>1</th>\n",
       "      <td>MainScreenAppear</td>\n",
       "      <td>7416695313311560658</td>\n",
       "      <td>2019-07-25 11:11:42</td>\n",
       "      <td>246</td>\n",
       "      <td>2019-07-25</td>\n",
       "    </tr>\n",
       "    <tr>\n",
       "      <th>2</th>\n",
       "      <td>PaymentScreenSuccessful</td>\n",
       "      <td>3518123091307005509</td>\n",
       "      <td>2019-07-25 11:28:47</td>\n",
       "      <td>248</td>\n",
       "      <td>2019-07-25</td>\n",
       "    </tr>\n",
       "    <tr>\n",
       "      <th>3</th>\n",
       "      <td>CartScreenAppear</td>\n",
       "      <td>3518123091307005509</td>\n",
       "      <td>2019-07-25 11:28:47</td>\n",
       "      <td>248</td>\n",
       "      <td>2019-07-25</td>\n",
       "    </tr>\n",
       "    <tr>\n",
       "      <th>4</th>\n",
       "      <td>PaymentScreenSuccessful</td>\n",
       "      <td>6217807653094995999</td>\n",
       "      <td>2019-07-25 11:48:42</td>\n",
       "      <td>248</td>\n",
       "      <td>2019-07-25</td>\n",
       "    </tr>\n",
       "    <tr>\n",
       "      <th>...</th>\n",
       "      <td>...</td>\n",
       "      <td>...</td>\n",
       "      <td>...</td>\n",
       "      <td>...</td>\n",
       "      <td>...</td>\n",
       "    </tr>\n",
       "    <tr>\n",
       "      <th>243708</th>\n",
       "      <td>MainScreenAppear</td>\n",
       "      <td>4599628364049201812</td>\n",
       "      <td>2019-08-07 21:12:25</td>\n",
       "      <td>247</td>\n",
       "      <td>2019-08-07</td>\n",
       "    </tr>\n",
       "    <tr>\n",
       "      <th>243709</th>\n",
       "      <td>MainScreenAppear</td>\n",
       "      <td>5849806612437486590</td>\n",
       "      <td>2019-08-07 21:13:59</td>\n",
       "      <td>246</td>\n",
       "      <td>2019-08-07</td>\n",
       "    </tr>\n",
       "    <tr>\n",
       "      <th>243710</th>\n",
       "      <td>MainScreenAppear</td>\n",
       "      <td>5746969938801999050</td>\n",
       "      <td>2019-08-07 21:14:43</td>\n",
       "      <td>246</td>\n",
       "      <td>2019-08-07</td>\n",
       "    </tr>\n",
       "    <tr>\n",
       "      <th>243711</th>\n",
       "      <td>MainScreenAppear</td>\n",
       "      <td>5746969938801999050</td>\n",
       "      <td>2019-08-07 21:14:58</td>\n",
       "      <td>246</td>\n",
       "      <td>2019-08-07</td>\n",
       "    </tr>\n",
       "    <tr>\n",
       "      <th>243712</th>\n",
       "      <td>OffersScreenAppear</td>\n",
       "      <td>5746969938801999050</td>\n",
       "      <td>2019-08-07 21:15:17</td>\n",
       "      <td>246</td>\n",
       "      <td>2019-08-07</td>\n",
       "    </tr>\n",
       "  </tbody>\n",
       "</table>\n",
       "<p>243713 rows × 5 columns</p>\n",
       "</div>"
      ],
      "text/plain": [
       "                          event              user_id          event_time  \\\n",
       "0              MainScreenAppear  4575588528974610257 2019-07-25 04:43:36   \n",
       "1              MainScreenAppear  7416695313311560658 2019-07-25 11:11:42   \n",
       "2       PaymentScreenSuccessful  3518123091307005509 2019-07-25 11:28:47   \n",
       "3              CartScreenAppear  3518123091307005509 2019-07-25 11:28:47   \n",
       "4       PaymentScreenSuccessful  6217807653094995999 2019-07-25 11:48:42   \n",
       "...                         ...                  ...                 ...   \n",
       "243708         MainScreenAppear  4599628364049201812 2019-08-07 21:12:25   \n",
       "243709         MainScreenAppear  5849806612437486590 2019-08-07 21:13:59   \n",
       "243710         MainScreenAppear  5746969938801999050 2019-08-07 21:14:43   \n",
       "243711         MainScreenAppear  5746969938801999050 2019-08-07 21:14:58   \n",
       "243712       OffersScreenAppear  5746969938801999050 2019-08-07 21:15:17   \n",
       "\n",
       "        group       date  \n",
       "0         246 2019-07-25  \n",
       "1         246 2019-07-25  \n",
       "2         248 2019-07-25  \n",
       "3         248 2019-07-25  \n",
       "4         248 2019-07-25  \n",
       "...       ...        ...  \n",
       "243708    247 2019-08-07  \n",
       "243709    246 2019-08-07  \n",
       "243710    246 2019-08-07  \n",
       "243711    246 2019-08-07  \n",
       "243712    246 2019-08-07  \n",
       "\n",
       "[243713 rows x 5 columns]"
      ]
     },
     "execution_count": 12,
     "metadata": {},
     "output_type": "execute_result"
    }
   ],
   "source": [
    "#Вывод таблицы после предобработки\n",
    "data.info()\n",
    "data"
   ]
  },
  {
   "cell_type": "markdown",
   "metadata": {},
   "source": [
    "**Вывод**\n",
    "\n",
    "На этапе предобработки, переименовали столбцы, заменили тип данных в столбце со временем события, добавили отдельный столбец с датой. Удалили дубли, и проверили пользователей на нахождение сразу в нескольких группах"
   ]
  },
  {
   "cell_type": "markdown",
   "metadata": {},
   "source": [
    "# Изучение и проверка данных"
   ]
  },
  {
   "cell_type": "markdown",
   "metadata": {},
   "source": [
    "Рассмотрим имеющиеся данные по событиям и изучим время событий. Установим имеющийся период событий и проверим полноту данных"
   ]
  },
  {
   "cell_type": "code",
   "execution_count": 13,
   "metadata": {},
   "outputs": [
    {
     "name": "stdout",
     "output_type": "stream",
     "text": [
      "Количество событий: 243713\n"
     ]
    }
   ],
   "source": [
    "#Расчет количества событей\n",
    "print('Количество событий:', len(data))"
   ]
  },
  {
   "cell_type": "code",
   "execution_count": 14,
   "metadata": {},
   "outputs": [
    {
     "name": "stdout",
     "output_type": "stream",
     "text": [
      "Количество пользователей: 7551\n"
     ]
    }
   ],
   "source": [
    "#Расчет количества пользователей\n",
    "print('Количество пользователей:', data['user_id'].nunique())"
   ]
  },
  {
   "cell_type": "code",
   "execution_count": 15,
   "metadata": {},
   "outputs": [
    {
     "name": "stdout",
     "output_type": "stream",
     "text": [
      "Количество событий на одного пользователя: 32\n"
     ]
    }
   ],
   "source": [
    "#Расчет количества событий на одного пользователя\n",
    "print('Количество событий на одного пользователя:', round (len(data)/data['user_id'].nunique()))"
   ]
  },
  {
   "cell_type": "code",
   "execution_count": 16,
   "metadata": {},
   "outputs": [
    {
     "data": {
      "text/plain": [
       "count   7,551.000\n",
       "mean       32.276\n",
       "std        65.154\n",
       "min         1.000\n",
       "25%         9.000\n",
       "50%        20.000\n",
       "75%        37.000\n",
       "max     2,307.000\n",
       "Name: event_count, dtype: float64"
      ]
     },
     "metadata": {},
     "output_type": "display_data"
    },
    {
     "data": {
      "image/png": "[encoded data removed]",
      "text/plain": [
       "<Figure size 1080x432 with 1 Axes>"
      ]
     },
     "metadata": {},
     "output_type": "display_data"
    }
   ],
   "source": [
    "#Создание датафрейма по количеству событий на пользователя\n",
    "events_user = data.groupby('user_id').agg(event_count = ('event', 'count')).reset_index()\n",
    "\n",
    "#Вывод числового описания данных\n",
    "display(events_user['event_count'].describe())\n",
    "\n",
    "#Строим гистограмму\n",
    "plt.hist(events_user['event_count'], bins = 30) \n",
    "plt.title('Распределение количества событий по пользователям')\n",
    "plt.xlabel('Количество событий')\n",
    "plt.ylabel('Количество пользователей')\n",
    "plt.show()"
   ]
  },
  {
   "cell_type": "markdown",
   "metadata": {},
   "source": [
    "**Вывод**\n",
    "\n",
    "Среднее количество событий (32) отличается от медианного (20), т.е. на среднее значение виляют выбросы. Это подтверждается минимальным количеством событий (1) и максимальным (2 307). Таким образом, можно сказать, что есть отдельные очень большие выбросы, но как видно по гистограмме у большинства пользователей количество событий близко к среднему и медианному значению"
   ]
  },
  {
   "cell_type": "code",
   "execution_count": 17,
   "metadata": {},
   "outputs": [
    {
     "name": "stdout",
     "output_type": "stream",
     "text": [
      "Минимальная дата события: 2019-07-25 04:43:36\n",
      "Максимальная дата события: 2019-08-07 21:15:17\n",
      "Период: 13 days 16:31:41\n"
     ]
    }
   ],
   "source": [
    "#Расчет максимальной и минимальной даты события, а также определение периода событий\n",
    "first_date = data['event_time'].min()\n",
    "last_date = data['event_time'].max()\n",
    "\n",
    "print('Минимальная дата события:', first_date)\n",
    "print('Максимальная дата события:', last_date)\n",
    "print('Период:',last_date-first_date)"
   ]
  },
  {
   "cell_type": "code",
   "execution_count": 18,
   "metadata": {},
   "outputs": [
    {
     "data": {
      "image/png": "[encoded data removed]",
      "text/plain": [
       "<Figure size 1080x432 with 1 Axes>"
      ]
     },
     "metadata": {},
     "output_type": "display_data"
    }
   ],
   "source": [
    "#Постройка гистограммы\n",
    "data['event_time'].hist(bins = 50)\n",
    "plt.title('Гистограмма по дате и времени событий')\n",
    "plt.xlabel('Дата события')\n",
    "plt.ylabel(\"Активность пользователей\")\n",
    "plt.xticks(rotation=30)\n",
    "plt.show()"
   ]
  },
  {
   "cell_type": "markdown",
   "metadata": {},
   "source": [
    "**Вывод**\n",
    "\n",
    "По гистограмме видно, что за июль данные неполные. Основная активность пользователей начинается с 01.08.2019 года. Для дальнейшего анализа возьмем данные начиная с данной даты "
   ]
  },
  {
   "cell_type": "code",
   "execution_count": 19,
   "metadata": {},
   "outputs": [],
   "source": [
    "#Создание таблицы с активным периодом\n",
    "data_activ = data.loc[data['date'] > '2019-07-31'] "
   ]
  },
  {
   "cell_type": "markdown",
   "metadata": {},
   "source": [
    "Проверим как изменились показатели, после определения периода исследования"
   ]
  },
  {
   "cell_type": "code",
   "execution_count": 20,
   "metadata": {},
   "outputs": [
    {
     "name": "stdout",
     "output_type": "stream",
     "text": [
      "Количество событий: 240887\n",
      "Количество пользователей: 7534\n",
      "Количество событий на одного пользователя: 32\n",
      "Изменение количества событий: -2826 (-1.2%)\n",
      "Изменение количества пользователей: -17 (-0.2%)\n"
     ]
    }
   ],
   "source": [
    "#Расчет количества событей\n",
    "print('Количество событий:', len(data_activ))\n",
    "\n",
    "#Расчет количества пользователей\n",
    "print('Количество пользователей:', data_activ['user_id'].nunique())\n",
    "\n",
    "#Расчет количества событий на одного пользователя\n",
    "print('Количество событий на одного пользователя:', round (len(data_activ)/data_activ['user_id'].nunique()))\n",
    "\n",
    "print('Изменение количества событий:', len(data_activ) - len(data),'({:.1%})'.format((len(data_activ)-len(data))/len(data)))\n",
    "print('Изменение количества пользователей:', data_activ['user_id'].nunique() - data['user_id'].nunique(),\n",
    "      '({:.1%})'.format((data_activ['user_id'].nunique()-data['user_id'].nunique())/data['user_id'].nunique()))"
   ]
  },
  {
   "cell_type": "markdown",
   "metadata": {},
   "source": [
    "**Ввывод**\n",
    "\n",
    "После определения периода исследования, количество событий сократилось на 1.2%, а количество пользователей уменьшилось на 0.2%\n",
    "\n",
    "Проверим наличие пользователей из всех трех экспериментальных групп"
   ]
  },
  {
   "cell_type": "code",
   "execution_count": 21,
   "metadata": {},
   "outputs": [
    {
     "data": {
      "text/html": [
       "<div>\n",
       "<style scoped>\n",
       "    .dataframe tbody tr th:only-of-type {\n",
       "        vertical-align: middle;\n",
       "    }\n",
       "\n",
       "    .dataframe tbody tr th {\n",
       "        vertical-align: top;\n",
       "    }\n",
       "\n",
       "    .dataframe thead th {\n",
       "        text-align: right;\n",
       "    }\n",
       "</style>\n",
       "<table border=\"1\" class=\"dataframe\">\n",
       "  <thead>\n",
       "    <tr style=\"text-align: right;\">\n",
       "      <th></th>\n",
       "      <th>user_id</th>\n",
       "    </tr>\n",
       "    <tr>\n",
       "      <th>group</th>\n",
       "      <th></th>\n",
       "    </tr>\n",
       "  </thead>\n",
       "  <tbody>\n",
       "    <tr>\n",
       "      <th>246</th>\n",
       "      <td>2484</td>\n",
       "    </tr>\n",
       "    <tr>\n",
       "      <th>247</th>\n",
       "      <td>2513</td>\n",
       "    </tr>\n",
       "    <tr>\n",
       "      <th>248</th>\n",
       "      <td>2537</td>\n",
       "    </tr>\n",
       "  </tbody>\n",
       "</table>\n",
       "</div>"
      ],
      "text/plain": [
       "       user_id\n",
       "group         \n",
       "246       2484\n",
       "247       2513\n",
       "248       2537"
      ]
     },
     "execution_count": 21,
     "metadata": {},
     "output_type": "execute_result"
    }
   ],
   "source": [
    "data_activ.groupby('group').agg({'user_id': 'nunique'}) "
   ]
  },
  {
   "cell_type": "markdown",
   "metadata": {},
   "source": [
    "**Вывод**\n",
    "\n",
    "Во всех трех группах имеется сопоставимое количество пользователей"
   ]
  },
  {
   "cell_type": "markdown",
   "metadata": {},
   "source": [
    "**Воронка событий**"
   ]
  },
  {
   "cell_type": "code",
   "execution_count": 22,
   "metadata": {},
   "outputs": [
    {
     "data": {
      "text/html": [
       "<div>\n",
       "<style scoped>\n",
       "    .dataframe tbody tr th:only-of-type {\n",
       "        vertical-align: middle;\n",
       "    }\n",
       "\n",
       "    .dataframe tbody tr th {\n",
       "        vertical-align: top;\n",
       "    }\n",
       "\n",
       "    .dataframe thead th {\n",
       "        text-align: right;\n",
       "    }\n",
       "</style>\n",
       "<table border=\"1\" class=\"dataframe\">\n",
       "  <thead>\n",
       "    <tr style=\"text-align: right;\">\n",
       "      <th></th>\n",
       "      <th>event</th>\n",
       "      <th>total_events</th>\n",
       "    </tr>\n",
       "  </thead>\n",
       "  <tbody>\n",
       "    <tr>\n",
       "      <th>0</th>\n",
       "      <td>MainScreenAppear</td>\n",
       "      <td>117328</td>\n",
       "    </tr>\n",
       "    <tr>\n",
       "      <th>1</th>\n",
       "      <td>OffersScreenAppear</td>\n",
       "      <td>46333</td>\n",
       "    </tr>\n",
       "    <tr>\n",
       "      <th>2</th>\n",
       "      <td>CartScreenAppear</td>\n",
       "      <td>42303</td>\n",
       "    </tr>\n",
       "    <tr>\n",
       "      <th>3</th>\n",
       "      <td>PaymentScreenSuccessful</td>\n",
       "      <td>33918</td>\n",
       "    </tr>\n",
       "    <tr>\n",
       "      <th>4</th>\n",
       "      <td>Tutorial</td>\n",
       "      <td>1005</td>\n",
       "    </tr>\n",
       "  </tbody>\n",
       "</table>\n",
       "</div>"
      ],
      "text/plain": [
       "                     event  total_events\n",
       "0         MainScreenAppear        117328\n",
       "1       OffersScreenAppear         46333\n",
       "2         CartScreenAppear         42303\n",
       "3  PaymentScreenSuccessful         33918\n",
       "4                 Tutorial          1005"
      ]
     },
     "execution_count": 22,
     "metadata": {},
     "output_type": "execute_result"
    }
   ],
   "source": [
    "#Определение частоты событий\n",
    "events_group = (data_activ.groupby('event').agg({'user_id' : 'count'})\n",
    "                .rename(columns={'user_id' : 'total_events'}).sort_values('total_events', ascending=False).reset_index())\n",
    "events_group"
   ]
  },
  {
   "cell_type": "markdown",
   "metadata": {},
   "source": [
    "**Вывод**\n",
    "\n",
    "После определения частоты события получили следующие результаты:\n",
    "\n",
    "   - MainScreenAppear/Главный экран - 117328 события;\n",
    "   - OffersScreenAppear/Экран предложений - 46333 события;\n",
    "   - CartScreenAppear/Корзина - 42303 события;\n",
    "   - PaymentScreenSuccessful/Экран оплаты - 33918 события;\n",
    "   - Tutorial/Получили руководство - 1005 события."
   ]
  },
  {
   "cell_type": "markdown",
   "metadata": {},
   "source": [
    "Можно отметить, что \"Получение руководства\" очень сильно выделяется на фоне остальных событий из-за слишком маленького количества  "
   ]
  },
  {
   "cell_type": "markdown",
   "metadata": {},
   "source": [
    "   \n",
    "Посчитаем сколько пользователей совершали каждое из этих событий. Отсортируем события по числу пользователей. Посчитаем долю пользователей, которые хоть раз совершали событие"
   ]
  },
  {
   "cell_type": "code",
   "execution_count": 23,
   "metadata": {},
   "outputs": [
    {
     "data": {
      "text/html": [
       "<div>\n",
       "<style scoped>\n",
       "    .dataframe tbody tr th:only-of-type {\n",
       "        vertical-align: middle;\n",
       "    }\n",
       "\n",
       "    .dataframe tbody tr th {\n",
       "        vertical-align: top;\n",
       "    }\n",
       "\n",
       "    .dataframe thead th {\n",
       "        text-align: right;\n",
       "    }\n",
       "</style>\n",
       "<table border=\"1\" class=\"dataframe\">\n",
       "  <thead>\n",
       "    <tr style=\"text-align: right;\">\n",
       "      <th></th>\n",
       "      <th>event</th>\n",
       "      <th>total_user</th>\n",
       "      <th>share_percent</th>\n",
       "    </tr>\n",
       "  </thead>\n",
       "  <tbody>\n",
       "    <tr>\n",
       "      <th>0</th>\n",
       "      <td>MainScreenAppear</td>\n",
       "      <td>7419</td>\n",
       "      <td>98.474</td>\n",
       "    </tr>\n",
       "    <tr>\n",
       "      <th>1</th>\n",
       "      <td>OffersScreenAppear</td>\n",
       "      <td>4593</td>\n",
       "      <td>60.964</td>\n",
       "    </tr>\n",
       "    <tr>\n",
       "      <th>2</th>\n",
       "      <td>CartScreenAppear</td>\n",
       "      <td>3734</td>\n",
       "      <td>49.562</td>\n",
       "    </tr>\n",
       "    <tr>\n",
       "      <th>3</th>\n",
       "      <td>PaymentScreenSuccessful</td>\n",
       "      <td>3539</td>\n",
       "      <td>46.974</td>\n",
       "    </tr>\n",
       "    <tr>\n",
       "      <th>4</th>\n",
       "      <td>Tutorial</td>\n",
       "      <td>840</td>\n",
       "      <td>11.149</td>\n",
       "    </tr>\n",
       "  </tbody>\n",
       "</table>\n",
       "</div>"
      ],
      "text/plain": [
       "                     event  total_user  share_percent\n",
       "0         MainScreenAppear        7419         98.474\n",
       "1       OffersScreenAppear        4593         60.964\n",
       "2         CartScreenAppear        3734         49.562\n",
       "3  PaymentScreenSuccessful        3539         46.974\n",
       "4                 Tutorial         840         11.149"
      ]
     },
     "execution_count": 23,
     "metadata": {},
     "output_type": "execute_result"
    }
   ],
   "source": [
    "#Подсчет пользователей\n",
    "user_group = (data_activ.groupby('event').agg({'user_id' : 'nunique'})\n",
    "                .rename(columns={'user_id' : 'total_user'}).sort_values('total_user', ascending=False).reset_index())\n",
    "\n",
    "#Расчет доли пользователей, совершивших хотя бы одно событие\n",
    "user_group['share_percent'] = user_group['total_user']/data_activ['user_id'].nunique() * 100\n",
    "user_group"
   ]
  },
  {
   "cell_type": "markdown",
   "metadata": {},
   "source": [
    "**Вывод**\n",
    "\n",
    "После изучения пользователей и совершенных ими событий получается следующий результат:\n",
    "\n",
    "   - MainScreenAppear/Главный экран - 7419 пользователей (98,5%);\n",
    "   - OffersScreenAppear/Экран предложений - 4593 пользователя (61%);\n",
    "   - CartScreenAppear/Корзина - 3734 пользователя (49,6%);\n",
    "   - PaymentScreenSuccessful/Экран оплаты - 3539 пользователей (47%);\n",
    "   - Tutorial/Получили руководство - 840 пользователей (11,2%)\n",
    "   \n",
    "Можно заметить, что у доля пользователей, совершивших первое событие (MainScreenAppear/Главный экран) составляет 98,5%, а не 100%. Это можно объяснить тем, что 1,5% пользователей установили приложение, но не пользовались им, и соответственно не видели \"Главный экран\""
   ]
  },
  {
   "cell_type": "markdown",
   "metadata": {},
   "source": [
    "   \n",
    "По пользователям наблюдаются схожие результаты, как и с событиями. Все события выстраиваются в последовательную цепочку: **Главный экран - Экран предложений - Корзина - Экран оплаты - Получение руководства**. Все события имеют схожую динамику, за исключением последнего. Получение руководства сильно меньше остальных событий. Для расчете воронки можно исключить данное событие"
   ]
  },
  {
   "cell_type": "code",
   "execution_count": 24,
   "metadata": {},
   "outputs": [],
   "source": [
    "#Исключаем событие Tutorial\n",
    "user_group = user_group[user_group['event'] != 'Tutorial'].reset_index(drop= True)"
   ]
  },
  {
   "cell_type": "markdown",
   "metadata": {},
   "source": [
    "Далее рассчитаем какая доля пользователей проходит на каждый следующий шаг воронки"
   ]
  },
  {
   "cell_type": "code",
   "execution_count": 25,
   "metadata": {},
   "outputs": [
    {
     "data": {
      "text/html": [
       "<div>\n",
       "<style scoped>\n",
       "    .dataframe tbody tr th:only-of-type {\n",
       "        vertical-align: middle;\n",
       "    }\n",
       "\n",
       "    .dataframe tbody tr th {\n",
       "        vertical-align: top;\n",
       "    }\n",
       "\n",
       "    .dataframe thead th {\n",
       "        text-align: right;\n",
       "    }\n",
       "</style>\n",
       "<table border=\"1\" class=\"dataframe\">\n",
       "  <thead>\n",
       "    <tr style=\"text-align: right;\">\n",
       "      <th></th>\n",
       "      <th>event</th>\n",
       "      <th>total_user</th>\n",
       "      <th>share_percent</th>\n",
       "      <th>share_step_percent</th>\n",
       "    </tr>\n",
       "  </thead>\n",
       "  <tbody>\n",
       "    <tr>\n",
       "      <th>0</th>\n",
       "      <td>MainScreenAppear</td>\n",
       "      <td>7419</td>\n",
       "      <td>98.474</td>\n",
       "      <td>100.000</td>\n",
       "    </tr>\n",
       "    <tr>\n",
       "      <th>1</th>\n",
       "      <td>OffersScreenAppear</td>\n",
       "      <td>4593</td>\n",
       "      <td>60.964</td>\n",
       "      <td>62.011</td>\n",
       "    </tr>\n",
       "    <tr>\n",
       "      <th>2</th>\n",
       "      <td>CartScreenAppear</td>\n",
       "      <td>3734</td>\n",
       "      <td>49.562</td>\n",
       "      <td>81.270</td>\n",
       "    </tr>\n",
       "    <tr>\n",
       "      <th>3</th>\n",
       "      <td>PaymentScreenSuccessful</td>\n",
       "      <td>3539</td>\n",
       "      <td>46.974</td>\n",
       "      <td>94.612</td>\n",
       "    </tr>\n",
       "  </tbody>\n",
       "</table>\n",
       "</div>"
      ],
      "text/plain": [
       "                     event  total_user  share_percent  share_step_percent\n",
       "0         MainScreenAppear        7419         98.474             100.000\n",
       "1       OffersScreenAppear        4593         60.964              62.011\n",
       "2         CartScreenAppear        3734         49.562              81.270\n",
       "3  PaymentScreenSuccessful        3539         46.974              94.612"
      ]
     },
     "execution_count": 25,
     "metadata": {},
     "output_type": "execute_result"
    }
   ],
   "source": [
    "#Создание сводной таблицы по пользователям\n",
    "users_pivot = data.pivot_table(index='user_id',columns='event',values='event_time',aggfunc='min')\n",
    "\n",
    "#Расчет отношения числа пользователей к предыдущему событию \n",
    "msa = users_pivot['MainScreenAppear'].count() / users_pivot['MainScreenAppear'].count() * 100\n",
    "osa = users_pivot['OffersScreenAppear'].count() / users_pivot['MainScreenAppear'].count() * 100\n",
    "csa = users_pivot['CartScreenAppear'].count() / users_pivot['OffersScreenAppear'].count() * 100\n",
    "pss = users_pivot['PaymentScreenSuccessful'].count() / users_pivot['CartScreenAppear'].count() * 100\n",
    "\n",
    "#Добавление столбца с долей\n",
    "user_group ['share_step_percent'] = [msa, osa, csa, pss]\n",
    "\n",
    "user_group"
   ]
  },
  {
   "cell_type": "code",
   "execution_count": null,
   "metadata": {},
   "outputs": [],
   "source": [
    "#Расчет доли пользователей от первого события до оплаты\n",
    "print ('Доля пользователей от первого события до оплаты:', \n",
    "       '{:.1%}'.format(users_pivot['PaymentScreenSuccessful'].count() / users_pivot['MainScreenAppear'].count()))"
   ]
  },
  {
   "cell_type": "code",
   "execution_count": null,
   "metadata": {},
   "outputs": [],
   "source": [
    "#Строим график по Воронке событий\n",
    "fig = go.Figure(go.Funnel(y = user_group['event'],\n",
    "                          x = user_group['total_user'],\n",
    "                          opacity = 0.6,\n",
    "                          textposition = 'inside',\n",
    "                          textinfo = 'value + percent previous'))\n",
    "fig.update_layout(title_text='Воронка событий')\n",
    "fig.show()"
   ]
  },
  {
   "cell_type": "markdown",
   "metadata": {},
   "source": [
    "**Вывод**\n",
    "\n",
    "После рассчета доли пользователей к предыдущему событию, можно заметить, что больше всего пользователей теряется после первого шага - 38%.  Доля пользователей от первого события до оплаты составляет - 47.7%, т.е. конверсия составляет практически 50%."
   ]
  },
  {
   "cell_type": "markdown",
   "metadata": {},
   "source": [
    "# Анализ результатов эксперимента"
   ]
  },
  {
   "cell_type": "markdown",
   "metadata": {},
   "source": [
    "Для проведения A/A/B-эксперимента пользователи разбиты на 3 группы, 246 и 247 — контрольные группы (A/A), а 248 — экспериментальная (B)\n",
    "\n",
    "Посмотрим количество пользователя в каждой группе"
   ]
  },
  {
   "cell_type": "code",
   "execution_count": null,
   "metadata": {},
   "outputs": [],
   "source": [
    "data_activ.groupby('group').agg({'user_id': 'nunique'}) "
   ]
  },
  {
   "cell_type": "markdown",
   "metadata": {},
   "source": [
    "Создадим датафрейм по событиям, группам и количеству пользователей"
   ]
  },
  {
   "cell_type": "code",
   "execution_count": null,
   "metadata": {},
   "outputs": [],
   "source": [
    "#Создание датафрейма\n",
    "funnel_group = (data.groupby(['event', 'group']).agg({'user_id': 'nunique'}).\n",
    "          rename(columns={'user_id' : 'total_users'}).\n",
    "          sort_values(by=['group','total_users'], ascending=False).reset_index())\n",
    "\n",
    "funnel_group = funnel_group[funnel_group['event'] != 'Tutorial']\n",
    "funnel_group"
   ]
  },
  {
   "cell_type": "markdown",
   "metadata": {},
   "source": [
    "Проверим находят ли статистические критерии разницу между выборками 246 и 247 (контрольные группы A/A). Используем для этого гипотезу о равенстве долей. Для этого объявим функцию, которая будет производить расчет и сравнение гипотез, а затем через цикл проведем сравнение по событиям"
   ]
  },
  {
   "cell_type": "code",
   "execution_count": null,
   "metadata": {},
   "outputs": [],
   "source": [
    "#Создание функции\n",
    "def test(data_1,data_2, event, alpha):\n",
    "    \n",
    "    # число пользователей, по событиям в группе 1 и группе 2\n",
    "    event_user = np.array([data_1[data_1['event'] == event]['user_id'].nunique(),\n",
    "                           data_2[data_2['event'] == event]['user_id'].nunique()])\n",
    "    \n",
    "    # число пользователей в группе 1 и группе 2:\n",
    "    all_user = np.array([data_1['user_id'].nunique(),data_2['user_id'].nunique()])\n",
    "    \n",
    "    \n",
    "    # пропорция успехов в первой группе:\n",
    "    p1 = event_user[0]/all_user[0]\n",
    "\n",
    "    # пропорция успехов во второй группе:\n",
    "    p2 = event_user[1]/all_user[1]\n",
    "    \n",
    "    # пропорция успехов в комбинированном датасете:\n",
    "    p_combined = (event_user[0] + event_user[1])/(all_user[0] + all_user[1])\n",
    "    \n",
    "    # разница пропорций в датасетах\n",
    "    difference = p1 - p2\n",
    "    \n",
    "    # считаем статистику в ст.отклонениях стандартного нормального распределения\n",
    "    z_value = difference / mth.sqrt(p_combined * (1 - p_combined) * (1/all_user[0] + 1/all_user[1]))\n",
    "    \n",
    "    # задаем стандартное нормальное распределение (среднее 0, ст.отклонение 1)\n",
    "    distr = st.norm(0, 1)\n",
    "\n",
    "    #тест двусторонний, удваиваем результат\n",
    "    p_value = (1 - distr.cdf(abs(z_value))) * 2\n",
    "    \n",
    "    #Вывод результатов\n",
    "    print('Событие:', event)\n",
    "    print('p-значение: ', '{:.3}'.format(p_value))\n",
    "\n",
    "    if p_value < alpha:\n",
    "        print('Отвергаем нулевую гипотезу: между долями есть значимая разница')\n",
    "    else:\n",
    "        print('Не получилось отвергнуть нулевую гипотезу, нет оснований считать доли разными')"
   ]
  },
  {
   "cell_type": "markdown",
   "metadata": {},
   "source": [
    "Сопоставим доли по каждому событию между группами 246 и 247\n",
    "\n",
    "Сформулируем гипотезы:\n",
    "\n",
    "Нулевая гипотеза - доли пользователей по событиям одинаковые\n",
    "\n",
    "Альтернативная гипотеза - доли пользователей по событиям отличаются"
   ]
  },
  {
   "cell_type": "code",
   "execution_count": null,
   "metadata": {},
   "outputs": [],
   "source": [
    "#Расчет статистически значимой разницы между контрольными группами 246 и 247:\n",
    "for event in funnel_group['event'].unique():\n",
    "    test(data_activ[data_activ['group'] == 246], data_activ[data_activ['group'] == 247], event,.05)\n",
    "    print()"
   ]
  },
  {
   "cell_type": "markdown",
   "metadata": {},
   "source": [
    "**Вывод**\n",
    "\n",
    "Между группами 246 и 247 статистические критерии не показали разницу. Таким образом по результатам A/A-теста можно сделать вывод, что выбранные группы для проведения эксперимента отобраны корректно и можно проводить A/B-тест"
   ]
  },
  {
   "cell_type": "markdown",
   "metadata": {},
   "source": [
    "Проведем расчет статистически значимой разницы между контрольными группами (246,247) и экспериментальной группой с измененным шрифтом (248)\n",
    "\n",
    "Сформулируем гипотезы:\n",
    "\n",
    "Нулевая гипотеза - доли пользователей по событиям одинаковые\n",
    "\n",
    "Альтернативная гипотеза - доли пользователей по событиям отличаются"
   ]
  },
  {
   "cell_type": "code",
   "execution_count": null,
   "metadata": {},
   "outputs": [],
   "source": [
    "#Расчет статистически значимой разницы между контрольными группами 246 и 248:\n",
    "for event in funnel_group['event'].unique():\n",
    "    test(data_activ[data_activ['group'] == 246], data_activ[data_activ['group'] == 248], event,.05)\n",
    "    print()"
   ]
  },
  {
   "cell_type": "markdown",
   "metadata": {},
   "source": [
    "**Вывод**\n",
    "\n",
    "Между группами 246 и 248 статистические критерии не показали разницу, т.е. оснований считать группы разными нет"
   ]
  },
  {
   "cell_type": "code",
   "execution_count": null,
   "metadata": {},
   "outputs": [],
   "source": [
    "#Расчет статистически значимой разницы между контрольными группами 247 и 248:\n",
    "for event in funnel_group['event'].unique():\n",
    "    test(data_activ[data_activ['group'] == 247], data_activ[data_activ['group'] == 248], event,.05)\n",
    "    print()"
   ]
  },
  {
   "cell_type": "markdown",
   "metadata": {},
   "source": [
    "**Вывод**\n",
    "\n",
    "Между группами 247 и 248 статистические критерии не показали разницу, т.е. оснований считать группы разными нет"
   ]
  },
  {
   "cell_type": "code",
   "execution_count": null,
   "metadata": {},
   "outputs": [],
   "source": [
    "#Расчет статистически значимой разницы между объединенной контрольной группой и экспериментальной:\n",
    "for event in funnel_group['event'].unique():\n",
    "    test(data_activ[data_activ['group'] != 248], data_activ[data_activ['group'] == 248], event,.05)\n",
    "    print()"
   ]
  },
  {
   "cell_type": "markdown",
   "metadata": {},
   "source": [
    "**Вывод**\n",
    "\n",
    "По результатам сравнения объединенной контрольной группой и экспериментальной получился такой же результат, как и после сравнения групп по отдельности, т.е. можно сделать вывод, что изменение шрифта не повлияло на поведение пользователей"
   ]
  },
  {
   "cell_type": "markdown",
   "metadata": {},
   "source": [
    "**Уровень значимости**"
   ]
  },
  {
   "cell_type": "markdown",
   "metadata": {},
   "source": [
    "Был проведен множественный тест, соответственно чем больше групп, тем больше вероятность ошибки первого рода. В нашем проекте 3 группы, выбранный уровень значимости - 0.05. Рассчитаем вероятность ошибки первого рода по вормуле `1-(1-alpha)**n` "
   ]
  },
  {
   "cell_type": "code",
   "execution_count": null,
   "metadata": {},
   "outputs": [],
   "source": [
    "print ( '{:.1%}'.format(1-(1-.05)**3))"
   ]
  },
  {
   "cell_type": "markdown",
   "metadata": {},
   "source": [
    "Вероятность ошибки первого рода составляет - 14.3%. Вероятность ошибки выше чем выбранный уровень значимости. Для снижения вероятности ложнопозитивного результата применим поправку Бонферрони, т.е. поделить выбранный уровень значимости на число проверенных гипотез - 16. Рассчитаем вероятность ошибки первого рода с откорректированным уровнем значимости после применения поправки Бонферрони - `alpha/m`, где m - количество эксперементов"
   ]
  },
  {
   "cell_type": "code",
   "execution_count": null,
   "metadata": {},
   "outputs": [],
   "source": [
    "print ( '{:.1%}'.format(1-(1-.05/16)**3))"
   ]
  },
  {
   "cell_type": "markdown",
   "metadata": {},
   "source": [
    "**Вывод**\n",
    "\n",
    "После применения поправки Бонферрони, вероятность ошибки первого рода составила - 0,009, что меньше, чем выбранный ранее уровень значимости 0.05. Таким образом оснований для проведения повторного теста не имеется, результаты подсчитаны корректно"
   ]
  },
  {
   "cell_type": "markdown",
   "metadata": {},
   "source": [
    "# Общий вывод"
   ]
  },
  {
   "cell_type": "markdown",
   "metadata": {},
   "source": [
    "После проведения предобработки и изучения предоставленных данных было установлено, что в данных содержится информация о 5 типах событий, которые были совершены в период с 01/08/2019 по 07/08/2019.\n",
    "\n",
    "После изучения пользователей и совершенных ими событий получается следующий результат:\n",
    "\n",
    "   - MainScreenAppear/Главный экран - 7419 пользователей (36,9%);\n",
    "   - OffersScreenAppear/Экран предложений - 4593 пользователя (22.8%);\n",
    "   - CartScreenAppear/Корзина - 3734 пользователя (18.6%);\n",
    "   - PaymentScreenSuccessful/Экран оплаты - 3539 пользователей (17,6%);\n",
    "   - Tutorial/Получили руководство - 840 пользователей (4.2%)\n",
    "\n",
    "После изучения пользователей и совершенных ими событий получается следующий результат:\n",
    "\n",
    "   - MainScreenAppear/Главный экран - 7419 пользователей (98,5%);\n",
    "   - OffersScreenAppear/Экран предложений - 4593 пользователя (61%);\n",
    "   - CartScreenAppear/Корзина - 3734 пользователя (49,6%);\n",
    "   - PaymentScreenSuccessful/Экран оплаты - 3539 пользователей (47%);\n",
    "   - Tutorial/Получили руководство - 840 пользователей (11,2%)\n",
    "\n",
    "Все события выстраиваются в цепочку **Главный экран - Экран предложений - Корзина - Экран оплаты - Получение руководства** Для дальнейшего изучения было решено исключить событие \"Tutorial/Получили руководство\", т.к. данное событие сильно выделяется на фоне остальных из-за своей малочисленности.\n",
    "\n",
    "Далее было установлено, что больше всего пользователей теряется после первого шага (Главный экран) - 38%. Доля пользователей от просмотра Главного экрана, до оплативших заказ составляет - 47.7%.\n",
    "\n",
    "Далее был проведен A/A/B эксперимент для установления влияния измененного шрифта на поведение пользователей. Пользователи были разбиты на 3 группы: 2 контрольные со старыми шрифтами (246 и 247) и одну экспериментальную — с новыми (248). Количество пользователей по группам составило 246 - 2484 пользователя, 247 - 2513 пользователя, 248 - 2537 пользователя. Были сопоставлены доли пользователей по каждому событию сначала между контрольными группами, а затем в сравнении с экспериментальной, в том числе и единая объеденная группа. По результатам всех проведенных тестов статистически значимая разница между группами не была обнаружена, таким образом можно сделать вывод, что изменение шрифта в приложении никак не повлияло на поведение пользователей.\n",
    "\n",
    "\n",
    "\n"
   ]
  }
 ],
 "metadata": {
  "ExecuteTimeLog": [
   {
    "duration": 169,
    "start_time": "2023-07-24T18:59:07.865Z"
   },
   {
    "duration": 81,
    "start_time": "2023-07-24T18:59:18.494Z"
   },
   {
    "duration": 562,
    "start_time": "2023-07-24T18:59:27.320Z"
   },
   {
    "duration": 1933,
    "start_time": "2023-07-24T18:59:27.884Z"
   },
   {
    "duration": 569,
    "start_time": "2023-07-24T19:00:32.660Z"
   },
   {
    "duration": 196,
    "start_time": "2023-07-24T19:00:40.165Z"
   },
   {
    "duration": 385,
    "start_time": "2023-07-24T19:02:14.572Z"
   },
   {
    "duration": 273,
    "start_time": "2023-07-24T19:04:03.968Z"
   },
   {
    "duration": 80,
    "start_time": "2023-07-24T19:04:53.097Z"
   },
   {
    "duration": 199,
    "start_time": "2023-07-24T19:09:19.704Z"
   },
   {
    "duration": 1641,
    "start_time": "2023-07-24T19:09:41.025Z"
   },
   {
    "duration": 6,
    "start_time": "2023-07-24T19:09:42.669Z"
   },
   {
    "duration": 3,
    "start_time": "2023-07-24T19:09:54.765Z"
   },
   {
    "duration": 6,
    "start_time": "2023-07-24T19:09:56.011Z"
   },
   {
    "duration": 348,
    "start_time": "2023-07-24T19:09:56.571Z"
   },
   {
    "duration": 71,
    "start_time": "2023-07-24T19:09:57.161Z"
   },
   {
    "duration": 7,
    "start_time": "2023-07-24T19:11:01.600Z"
   },
   {
    "duration": 13,
    "start_time": "2023-07-24T19:11:02.235Z"
   },
   {
    "duration": 289,
    "start_time": "2023-07-24T19:11:03.128Z"
   },
   {
    "duration": 1778,
    "start_time": "2023-07-24T19:11:09.464Z"
   },
   {
    "duration": 6,
    "start_time": "2023-07-24T19:11:11.250Z"
   },
   {
    "duration": 395,
    "start_time": "2023-07-24T19:11:11.261Z"
   },
   {
    "duration": 97,
    "start_time": "2023-07-24T19:11:11.665Z"
   },
   {
    "duration": 19,
    "start_time": "2023-07-24T19:12:28.691Z"
   },
   {
    "duration": 162,
    "start_time": "2023-07-24T19:13:16.984Z"
   },
   {
    "duration": 98,
    "start_time": "2023-07-24T19:13:27.781Z"
   },
   {
    "duration": 37,
    "start_time": "2023-07-24T19:20:14.014Z"
   },
   {
    "duration": 7,
    "start_time": "2023-07-24T19:37:21.889Z"
   },
   {
    "duration": 125,
    "start_time": "2023-07-24T19:40:48.599Z"
   },
   {
    "duration": 200,
    "start_time": "2023-07-24T19:42:52.462Z"
   },
   {
    "duration": 226,
    "start_time": "2023-07-24T19:45:00.076Z"
   },
   {
    "duration": 233,
    "start_time": "2023-07-24T19:45:06.455Z"
   },
   {
    "duration": 1778,
    "start_time": "2023-07-24T19:45:28.589Z"
   },
   {
    "duration": 6,
    "start_time": "2023-07-24T19:45:30.379Z"
   },
   {
    "duration": 350,
    "start_time": "2023-07-24T19:45:30.389Z"
   },
   {
    "duration": 65,
    "start_time": "2023-07-24T19:45:30.749Z"
   },
   {
    "duration": 121,
    "start_time": "2023-07-24T19:45:30.822Z"
   },
   {
    "duration": 196,
    "start_time": "2023-07-24T19:45:30.954Z"
   },
   {
    "duration": 79,
    "start_time": "2023-07-24T19:45:31.157Z"
   },
   {
    "duration": 172,
    "start_time": "2023-07-24T19:45:31.243Z"
   },
   {
    "duration": 4,
    "start_time": "2023-07-24T19:46:11.597Z"
   },
   {
    "duration": 5,
    "start_time": "2023-07-24T19:46:57.003Z"
   },
   {
    "duration": 23,
    "start_time": "2023-07-24T19:47:39.112Z"
   },
   {
    "duration": 5,
    "start_time": "2023-07-24T19:48:15.619Z"
   },
   {
    "duration": 24,
    "start_time": "2023-07-24T19:48:21.353Z"
   },
   {
    "duration": 132,
    "start_time": "2023-07-24T19:48:40.596Z"
   },
   {
    "duration": 31,
    "start_time": "2023-07-24T19:49:16.960Z"
   },
   {
    "duration": 2099,
    "start_time": "2023-07-24T19:49:25.997Z"
   },
   {
    "duration": 24,
    "start_time": "2023-07-24T19:49:28.104Z"
   },
   {
    "duration": 507,
    "start_time": "2023-07-24T19:49:28.130Z"
   },
   {
    "duration": 72,
    "start_time": "2023-07-24T19:49:28.647Z"
   },
   {
    "duration": 109,
    "start_time": "2023-07-24T19:49:28.726Z"
   },
   {
    "duration": 240,
    "start_time": "2023-07-24T19:49:28.850Z"
   },
   {
    "duration": 39,
    "start_time": "2023-07-24T19:49:29.102Z"
   },
   {
    "duration": 51,
    "start_time": "2023-07-24T19:49:29.148Z"
   },
   {
    "duration": 0,
    "start_time": "2023-07-24T19:50:26.462Z"
   },
   {
    "duration": 3753,
    "start_time": "2023-07-24T19:50:45.219Z"
   },
   {
    "duration": 28,
    "start_time": "2023-07-24T19:51:06.402Z"
   },
   {
    "duration": 0,
    "start_time": "2023-07-24T19:51:18.576Z"
   },
   {
    "duration": 151,
    "start_time": "2023-07-24T19:51:45.200Z"
   },
   {
    "duration": 93,
    "start_time": "2023-07-25T16:56:01.257Z"
   },
   {
    "duration": 1706,
    "start_time": "2023-07-25T16:56:13.034Z"
   },
   {
    "duration": 5,
    "start_time": "2023-07-25T16:56:14.743Z"
   },
   {
    "duration": 1178,
    "start_time": "2023-07-25T16:56:14.750Z"
   },
   {
    "duration": 40,
    "start_time": "2023-07-25T16:56:15.932Z"
   },
   {
    "duration": 42,
    "start_time": "2023-07-25T16:56:15.989Z"
   },
   {
    "duration": 101,
    "start_time": "2023-07-25T16:56:16.034Z"
   },
   {
    "duration": 23,
    "start_time": "2023-07-25T16:56:16.137Z"
   },
   {
    "duration": 76,
    "start_time": "2023-07-25T16:56:16.162Z"
   },
   {
    "duration": 2574,
    "start_time": "2023-07-25T16:56:16.240Z"
   },
   {
    "duration": 16,
    "start_time": "2023-07-25T16:56:52.505Z"
   },
   {
    "duration": 2440,
    "start_time": "2023-07-25T16:56:54.818Z"
   },
   {
    "duration": 1399,
    "start_time": "2023-07-25T16:57:15.226Z"
   },
   {
    "duration": 7,
    "start_time": "2023-07-25T16:57:16.627Z"
   },
   {
    "duration": 246,
    "start_time": "2023-07-25T16:57:16.637Z"
   },
   {
    "duration": 48,
    "start_time": "2023-07-25T16:57:16.889Z"
   },
   {
    "duration": 15,
    "start_time": "2023-07-25T16:57:16.940Z"
   },
   {
    "duration": 98,
    "start_time": "2023-07-25T16:57:16.956Z"
   },
   {
    "duration": 48,
    "start_time": "2023-07-25T16:57:17.056Z"
   },
   {
    "duration": 21,
    "start_time": "2023-07-25T16:57:17.110Z"
   },
   {
    "duration": 17,
    "start_time": "2023-07-25T16:57:17.135Z"
   },
   {
    "duration": 159,
    "start_time": "2023-07-25T17:01:53.934Z"
   },
   {
    "duration": 1446,
    "start_time": "2023-07-25T17:02:04.193Z"
   },
   {
    "duration": 5,
    "start_time": "2023-07-25T17:02:05.641Z"
   },
   {
    "duration": 238,
    "start_time": "2023-07-25T17:02:05.648Z"
   },
   {
    "duration": 46,
    "start_time": "2023-07-25T17:02:05.888Z"
   },
   {
    "duration": 16,
    "start_time": "2023-07-25T17:02:05.936Z"
   },
   {
    "duration": 106,
    "start_time": "2023-07-25T17:02:05.953Z"
   },
   {
    "duration": 25,
    "start_time": "2023-07-25T17:02:06.061Z"
   },
   {
    "duration": 12,
    "start_time": "2023-07-25T17:02:06.094Z"
   },
   {
    "duration": 68,
    "start_time": "2023-07-25T17:02:06.126Z"
   },
   {
    "duration": 131,
    "start_time": "2023-07-25T17:02:48.722Z"
   },
   {
    "duration": 1362,
    "start_time": "2023-07-25T17:02:56.501Z"
   },
   {
    "duration": 5,
    "start_time": "2023-07-25T17:02:57.865Z"
   },
   {
    "duration": 256,
    "start_time": "2023-07-25T17:02:57.872Z"
   },
   {
    "duration": 32,
    "start_time": "2023-07-25T17:02:58.132Z"
   },
   {
    "duration": 38,
    "start_time": "2023-07-25T17:02:58.166Z"
   },
   {
    "duration": 91,
    "start_time": "2023-07-25T17:02:58.213Z"
   },
   {
    "duration": 33,
    "start_time": "2023-07-25T17:02:58.309Z"
   },
   {
    "duration": 18,
    "start_time": "2023-07-25T17:02:58.344Z"
   },
   {
    "duration": 39,
    "start_time": "2023-07-25T17:02:58.363Z"
   },
   {
    "duration": 134,
    "start_time": "2023-07-25T17:04:25.813Z"
   },
   {
    "duration": 28,
    "start_time": "2023-07-25T17:04:43.264Z"
   },
   {
    "duration": 1357,
    "start_time": "2023-07-25T17:04:51.056Z"
   },
   {
    "duration": 7,
    "start_time": "2023-07-25T17:04:52.419Z"
   },
   {
    "duration": 261,
    "start_time": "2023-07-25T17:04:52.431Z"
   },
   {
    "duration": 46,
    "start_time": "2023-07-25T17:04:52.697Z"
   },
   {
    "duration": 20,
    "start_time": "2023-07-25T17:04:52.745Z"
   },
   {
    "duration": 111,
    "start_time": "2023-07-25T17:04:52.776Z"
   },
   {
    "duration": 41,
    "start_time": "2023-07-25T17:04:52.888Z"
   },
   {
    "duration": 13,
    "start_time": "2023-07-25T17:04:52.931Z"
   },
   {
    "duration": 177,
    "start_time": "2023-07-25T17:04:52.948Z"
   },
   {
    "duration": 26,
    "start_time": "2023-07-25T17:05:10.295Z"
   },
   {
    "duration": 1435,
    "start_time": "2023-07-25T17:05:22.051Z"
   },
   {
    "duration": 11,
    "start_time": "2023-07-25T17:05:23.500Z"
   },
   {
    "duration": 219,
    "start_time": "2023-07-25T17:05:23.513Z"
   },
   {
    "duration": 42,
    "start_time": "2023-07-25T17:05:23.734Z"
   },
   {
    "duration": 21,
    "start_time": "2023-07-25T17:05:23.778Z"
   },
   {
    "duration": 87,
    "start_time": "2023-07-25T17:05:23.801Z"
   },
   {
    "duration": 27,
    "start_time": "2023-07-25T17:05:23.890Z"
   },
   {
    "duration": 18,
    "start_time": "2023-07-25T17:05:23.922Z"
   },
   {
    "duration": 173,
    "start_time": "2023-07-25T17:05:23.942Z"
   },
   {
    "duration": 14,
    "start_time": "2023-07-25T17:06:10.041Z"
   },
   {
    "duration": 1579,
    "start_time": "2023-07-25T17:06:19.534Z"
   },
   {
    "duration": 16,
    "start_time": "2023-07-25T17:06:21.123Z"
   },
   {
    "duration": 298,
    "start_time": "2023-07-25T17:06:21.141Z"
   },
   {
    "duration": 65,
    "start_time": "2023-07-25T17:06:21.448Z"
   },
   {
    "duration": 33,
    "start_time": "2023-07-25T17:06:21.520Z"
   },
   {
    "duration": 120,
    "start_time": "2023-07-25T17:06:21.559Z"
   },
   {
    "duration": 44,
    "start_time": "2023-07-25T17:06:21.685Z"
   },
   {
    "duration": 14,
    "start_time": "2023-07-25T17:06:21.734Z"
   },
   {
    "duration": 215,
    "start_time": "2023-07-25T17:06:21.752Z"
   },
   {
    "duration": 262,
    "start_time": "2023-07-25T17:06:47.649Z"
   },
   {
    "duration": 166,
    "start_time": "2023-07-25T17:08:19.224Z"
   },
   {
    "duration": 187,
    "start_time": "2023-07-25T17:08:36.832Z"
   },
   {
    "duration": 130,
    "start_time": "2023-07-25T17:09:41.540Z"
   },
   {
    "duration": 147,
    "start_time": "2023-07-25T17:10:26.932Z"
   },
   {
    "duration": 167,
    "start_time": "2023-07-25T17:12:23.018Z"
   },
   {
    "duration": 147,
    "start_time": "2023-07-25T17:12:31.519Z"
   },
   {
    "duration": 149,
    "start_time": "2023-07-25T17:13:13.196Z"
   },
   {
    "duration": 131,
    "start_time": "2023-07-25T17:13:19.430Z"
   },
   {
    "duration": 160,
    "start_time": "2023-07-25T17:13:38.924Z"
   },
   {
    "duration": 146,
    "start_time": "2023-07-25T17:24:21.148Z"
   },
   {
    "duration": 1680,
    "start_time": "2023-07-25T17:24:30.343Z"
   },
   {
    "duration": 9,
    "start_time": "2023-07-25T17:24:32.033Z"
   },
   {
    "duration": 309,
    "start_time": "2023-07-25T17:24:32.051Z"
   },
   {
    "duration": 52,
    "start_time": "2023-07-25T17:24:32.365Z"
   },
   {
    "duration": 27,
    "start_time": "2023-07-25T17:24:32.420Z"
   },
   {
    "duration": 225,
    "start_time": "2023-07-25T17:24:32.449Z"
   },
   {
    "duration": 34,
    "start_time": "2023-07-25T17:24:32.677Z"
   },
   {
    "duration": 16,
    "start_time": "2023-07-25T17:24:32.713Z"
   },
   {
    "duration": 230,
    "start_time": "2023-07-25T17:24:32.736Z"
   },
   {
    "duration": 156,
    "start_time": "2023-07-25T17:24:32.972Z"
   },
   {
    "duration": 171,
    "start_time": "2023-07-25T17:28:17.836Z"
   },
   {
    "duration": 1830,
    "start_time": "2023-07-25T17:28:27.610Z"
   },
   {
    "duration": 8,
    "start_time": "2023-07-25T17:28:29.447Z"
   },
   {
    "duration": 330,
    "start_time": "2023-07-25T17:28:29.463Z"
   },
   {
    "duration": 91,
    "start_time": "2023-07-25T17:28:29.796Z"
   },
   {
    "duration": 34,
    "start_time": "2023-07-25T17:28:29.901Z"
   },
   {
    "duration": 287,
    "start_time": "2023-07-25T17:28:29.942Z"
   },
   {
    "duration": 47,
    "start_time": "2023-07-25T17:28:30.237Z"
   },
   {
    "duration": 30,
    "start_time": "2023-07-25T17:28:30.293Z"
   },
   {
    "duration": 357,
    "start_time": "2023-07-25T17:28:30.332Z"
   },
   {
    "duration": 177,
    "start_time": "2023-07-25T17:28:30.692Z"
   },
   {
    "duration": 155,
    "start_time": "2023-07-25T17:28:47.231Z"
   },
   {
    "duration": 135,
    "start_time": "2023-07-25T17:29:05.921Z"
   },
   {
    "duration": 194,
    "start_time": "2023-07-25T17:31:05.214Z"
   },
   {
    "duration": 1452,
    "start_time": "2023-07-25T17:31:15.938Z"
   },
   {
    "duration": 30,
    "start_time": "2023-07-25T17:31:17.404Z"
   },
   {
    "duration": 268,
    "start_time": "2023-07-25T17:31:17.436Z"
   },
   {
    "duration": 44,
    "start_time": "2023-07-25T17:31:17.708Z"
   },
   {
    "duration": 34,
    "start_time": "2023-07-25T17:31:17.756Z"
   },
   {
    "duration": 195,
    "start_time": "2023-07-25T17:31:17.798Z"
   },
   {
    "duration": 31,
    "start_time": "2023-07-25T17:31:18.006Z"
   },
   {
    "duration": 21,
    "start_time": "2023-07-25T17:31:18.040Z"
   },
   {
    "duration": 177,
    "start_time": "2023-07-25T17:31:18.063Z"
   },
   {
    "duration": 122,
    "start_time": "2023-07-25T17:31:18.242Z"
   },
   {
    "duration": 173,
    "start_time": "2023-07-25T17:31:18.366Z"
   },
   {
    "duration": 59,
    "start_time": "2023-07-25T17:31:28.631Z"
   },
   {
    "duration": 51,
    "start_time": "2023-07-25T17:31:59.622Z"
   },
   {
    "duration": 50,
    "start_time": "2023-07-25T17:32:38.445Z"
   },
   {
    "duration": 28,
    "start_time": "2023-07-25T17:43:13.411Z"
   },
   {
    "duration": 11,
    "start_time": "2023-07-25T17:43:39.843Z"
   },
   {
    "duration": 42,
    "start_time": "2023-07-25T17:44:20.230Z"
   },
   {
    "duration": 0,
    "start_time": "2023-07-25T17:44:44.136Z"
   },
   {
    "duration": 7,
    "start_time": "2023-07-25T17:45:29.334Z"
   },
   {
    "duration": 3,
    "start_time": "2023-07-25T17:46:26.261Z"
   },
   {
    "duration": 5,
    "start_time": "2023-07-25T17:48:43.799Z"
   },
   {
    "duration": 9,
    "start_time": "2023-07-25T17:50:27.622Z"
   },
   {
    "duration": 9,
    "start_time": "2023-07-25T17:50:41.345Z"
   },
   {
    "duration": 14,
    "start_time": "2023-07-25T17:53:02.746Z"
   },
   {
    "duration": 137,
    "start_time": "2023-07-25T17:53:39.821Z"
   },
   {
    "duration": 193,
    "start_time": "2023-07-25T17:54:39.659Z"
   },
   {
    "duration": 26,
    "start_time": "2023-07-25T17:55:00.615Z"
   },
   {
    "duration": 20,
    "start_time": "2023-07-25T18:05:49.820Z"
   },
   {
    "duration": 21,
    "start_time": "2023-07-25T18:06:02.807Z"
   },
   {
    "duration": 439,
    "start_time": "2023-07-25T18:06:47.717Z"
   },
   {
    "duration": 438,
    "start_time": "2023-07-25T18:07:17.758Z"
   },
   {
    "duration": 342,
    "start_time": "2023-07-25T18:40:58.989Z"
   },
   {
    "duration": 329,
    "start_time": "2023-07-25T18:41:05.170Z"
   },
   {
    "duration": 405,
    "start_time": "2023-07-25T18:41:30.209Z"
   },
   {
    "duration": 401,
    "start_time": "2023-07-25T18:41:47.299Z"
   },
   {
    "duration": 13,
    "start_time": "2023-07-25T18:42:23.166Z"
   },
   {
    "duration": 1277,
    "start_time": "2023-07-25T18:42:29.609Z"
   },
   {
    "duration": 8,
    "start_time": "2023-07-25T18:42:30.888Z"
   },
   {
    "duration": 237,
    "start_time": "2023-07-25T18:42:30.897Z"
   },
   {
    "duration": 49,
    "start_time": "2023-07-25T18:42:31.136Z"
   },
   {
    "duration": 35,
    "start_time": "2023-07-25T18:42:31.192Z"
   },
   {
    "duration": 184,
    "start_time": "2023-07-25T18:42:31.229Z"
   },
   {
    "duration": 20,
    "start_time": "2023-07-25T18:42:31.416Z"
   },
   {
    "duration": 67,
    "start_time": "2023-07-25T18:42:31.438Z"
   },
   {
    "duration": 203,
    "start_time": "2023-07-25T18:42:31.507Z"
   },
   {
    "duration": 118,
    "start_time": "2023-07-25T18:42:31.712Z"
   },
   {
    "duration": 61,
    "start_time": "2023-07-25T18:42:31.832Z"
   },
   {
    "duration": 34,
    "start_time": "2023-07-25T18:42:31.895Z"
   },
   {
    "duration": 34,
    "start_time": "2023-07-25T18:42:31.931Z"
   },
   {
    "duration": 25,
    "start_time": "2023-07-25T18:42:31.969Z"
   },
   {
    "duration": 520,
    "start_time": "2023-07-25T18:42:31.996Z"
   },
   {
    "duration": 6,
    "start_time": "2023-07-25T18:42:51.002Z"
   },
   {
    "duration": 1285,
    "start_time": "2023-07-25T18:42:56.840Z"
   },
   {
    "duration": 4,
    "start_time": "2023-07-25T18:42:58.127Z"
   },
   {
    "duration": 190,
    "start_time": "2023-07-25T18:42:58.133Z"
   },
   {
    "duration": 32,
    "start_time": "2023-07-25T18:42:58.325Z"
   },
   {
    "duration": 22,
    "start_time": "2023-07-25T18:42:58.372Z"
   },
   {
    "duration": 162,
    "start_time": "2023-07-25T18:42:58.396Z"
   },
   {
    "duration": 35,
    "start_time": "2023-07-25T18:42:58.560Z"
   },
   {
    "duration": 8,
    "start_time": "2023-07-25T18:42:58.597Z"
   },
   {
    "duration": 155,
    "start_time": "2023-07-25T18:42:58.608Z"
   },
   {
    "duration": 114,
    "start_time": "2023-07-25T18:42:58.769Z"
   },
   {
    "duration": 45,
    "start_time": "2023-07-25T18:42:58.890Z"
   },
   {
    "duration": 33,
    "start_time": "2023-07-25T18:42:58.936Z"
   },
   {
    "duration": 17,
    "start_time": "2023-07-25T18:42:58.971Z"
   },
   {
    "duration": 13,
    "start_time": "2023-07-25T18:42:58.991Z"
   },
   {
    "duration": 499,
    "start_time": "2023-07-25T18:42:59.005Z"
   },
   {
    "duration": 398,
    "start_time": "2023-07-25T18:43:41.312Z"
   },
   {
    "duration": 374,
    "start_time": "2023-07-25T18:44:29.214Z"
   },
   {
    "duration": 410,
    "start_time": "2023-07-25T19:04:33.455Z"
   },
   {
    "duration": 504,
    "start_time": "2023-07-25T19:17:51.722Z"
   },
   {
    "duration": 120,
    "start_time": "2023-07-25T19:24:26.010Z"
   },
   {
    "duration": 1405,
    "start_time": "2023-07-25T19:24:34.944Z"
   },
   {
    "duration": 5,
    "start_time": "2023-07-25T19:24:36.351Z"
   },
   {
    "duration": 215,
    "start_time": "2023-07-25T19:24:36.358Z"
   },
   {
    "duration": 43,
    "start_time": "2023-07-25T19:24:36.579Z"
   },
   {
    "duration": 13,
    "start_time": "2023-07-25T19:24:36.625Z"
   },
   {
    "duration": 216,
    "start_time": "2023-07-25T19:24:36.640Z"
   },
   {
    "duration": 35,
    "start_time": "2023-07-25T19:24:36.859Z"
   },
   {
    "duration": 75,
    "start_time": "2023-07-25T19:24:36.900Z"
   },
   {
    "duration": 151,
    "start_time": "2023-07-25T19:24:36.976Z"
   },
   {
    "duration": 112,
    "start_time": "2023-07-25T19:24:37.129Z"
   },
   {
    "duration": 62,
    "start_time": "2023-07-25T19:24:37.244Z"
   },
   {
    "duration": 32,
    "start_time": "2023-07-25T19:24:37.309Z"
   },
   {
    "duration": 36,
    "start_time": "2023-07-25T19:24:37.343Z"
   },
   {
    "duration": 11,
    "start_time": "2023-07-25T19:24:37.395Z"
   },
   {
    "duration": 526,
    "start_time": "2023-07-25T19:24:37.409Z"
   },
   {
    "duration": 15,
    "start_time": "2023-07-25T19:24:37.937Z"
   },
   {
    "duration": 28,
    "start_time": "2023-07-25T19:24:37.953Z"
   },
   {
    "duration": 162,
    "start_time": "2023-07-25T19:31:42.332Z"
   },
   {
    "duration": 167,
    "start_time": "2023-07-25T19:32:04.342Z"
   },
   {
    "duration": 1369,
    "start_time": "2023-07-25T19:32:18.095Z"
   },
   {
    "duration": 16,
    "start_time": "2023-07-25T19:32:19.466Z"
   },
   {
    "duration": 193,
    "start_time": "2023-07-25T19:32:19.492Z"
   },
   {
    "duration": 44,
    "start_time": "2023-07-25T19:32:19.687Z"
   },
   {
    "duration": 14,
    "start_time": "2023-07-25T19:32:19.733Z"
   },
   {
    "duration": 184,
    "start_time": "2023-07-25T19:32:19.749Z"
   },
   {
    "duration": 19,
    "start_time": "2023-07-25T19:32:19.936Z"
   },
   {
    "duration": 12,
    "start_time": "2023-07-25T19:32:19.970Z"
   },
   {
    "duration": 168,
    "start_time": "2023-07-25T19:32:19.984Z"
   },
   {
    "duration": 114,
    "start_time": "2023-07-25T19:32:20.154Z"
   },
   {
    "duration": 57,
    "start_time": "2023-07-25T19:32:20.270Z"
   },
   {
    "duration": 53,
    "start_time": "2023-07-25T19:32:20.329Z"
   },
   {
    "duration": 22,
    "start_time": "2023-07-25T19:32:20.386Z"
   },
   {
    "duration": 15,
    "start_time": "2023-07-25T19:32:20.411Z"
   },
   {
    "duration": 593,
    "start_time": "2023-07-25T19:32:20.429Z"
   },
   {
    "duration": 14,
    "start_time": "2023-07-25T19:32:21.025Z"
   },
   {
    "duration": 178,
    "start_time": "2023-07-25T19:32:21.041Z"
   },
   {
    "duration": 162,
    "start_time": "2023-07-25T19:32:51.244Z"
   },
   {
    "duration": 1369,
    "start_time": "2023-07-25T19:33:00.403Z"
   },
   {
    "duration": 7,
    "start_time": "2023-07-25T19:33:01.775Z"
   },
   {
    "duration": 262,
    "start_time": "2023-07-25T19:33:01.783Z"
   },
   {
    "duration": 47,
    "start_time": "2023-07-25T19:33:02.047Z"
   },
   {
    "duration": 74,
    "start_time": "2023-07-25T19:33:02.103Z"
   },
   {
    "duration": 270,
    "start_time": "2023-07-25T19:33:02.180Z"
   },
   {
    "duration": 53,
    "start_time": "2023-07-25T19:33:02.452Z"
   },
   {
    "duration": 11,
    "start_time": "2023-07-25T19:33:02.507Z"
   },
   {
    "duration": 199,
    "start_time": "2023-07-25T19:33:02.528Z"
   },
   {
    "duration": 130,
    "start_time": "2023-07-25T19:33:02.730Z"
   },
   {
    "duration": 65,
    "start_time": "2023-07-25T19:33:02.863Z"
   },
   {
    "duration": 67,
    "start_time": "2023-07-25T19:33:02.930Z"
   },
   {
    "duration": 25,
    "start_time": "2023-07-25T19:33:03.003Z"
   },
   {
    "duration": 8,
    "start_time": "2023-07-25T19:33:03.032Z"
   },
   {
    "duration": 665,
    "start_time": "2023-07-25T19:33:03.043Z"
   },
   {
    "duration": 20,
    "start_time": "2023-07-25T19:33:03.714Z"
   },
   {
    "duration": 191,
    "start_time": "2023-07-25T19:33:03.739Z"
   },
   {
    "duration": 164,
    "start_time": "2023-07-25T19:36:33.809Z"
   },
   {
    "duration": 166,
    "start_time": "2023-07-25T19:36:45.893Z"
   },
   {
    "duration": 198,
    "start_time": "2023-07-25T19:36:53.130Z"
   },
   {
    "duration": 1554,
    "start_time": "2023-07-25T19:37:02.858Z"
   },
   {
    "duration": 4,
    "start_time": "2023-07-25T19:37:04.415Z"
   },
   {
    "duration": 255,
    "start_time": "2023-07-25T19:37:04.421Z"
   },
   {
    "duration": 49,
    "start_time": "2023-07-25T19:37:04.678Z"
   },
   {
    "duration": 16,
    "start_time": "2023-07-25T19:37:04.734Z"
   },
   {
    "duration": 220,
    "start_time": "2023-07-25T19:37:04.753Z"
   },
   {
    "duration": 35,
    "start_time": "2023-07-25T19:37:04.976Z"
   },
   {
    "duration": 15,
    "start_time": "2023-07-25T19:37:05.015Z"
   },
   {
    "duration": 234,
    "start_time": "2023-07-25T19:37:05.032Z"
   },
   {
    "duration": 125,
    "start_time": "2023-07-25T19:37:05.271Z"
   },
   {
    "duration": 62,
    "start_time": "2023-07-25T19:37:05.401Z"
   },
   {
    "duration": 45,
    "start_time": "2023-07-25T19:37:05.465Z"
   },
   {
    "duration": 18,
    "start_time": "2023-07-25T19:37:05.519Z"
   },
   {
    "duration": 40,
    "start_time": "2023-07-25T19:37:05.542Z"
   },
   {
    "duration": 650,
    "start_time": "2023-07-25T19:37:05.595Z"
   },
   {
    "duration": 18,
    "start_time": "2023-07-25T19:37:06.247Z"
   },
   {
    "duration": 190,
    "start_time": "2023-07-25T19:37:06.275Z"
   },
   {
    "duration": 15,
    "start_time": "2023-07-25T19:51:00.037Z"
   },
   {
    "duration": 46,
    "start_time": "2023-07-25T19:53:18.146Z"
   },
   {
    "duration": 132,
    "start_time": "2023-07-25T20:02:36.903Z"
   },
   {
    "duration": 147,
    "start_time": "2023-07-25T20:02:47.045Z"
   },
   {
    "duration": 1460,
    "start_time": "2023-07-25T20:02:55.820Z"
   },
   {
    "duration": 6,
    "start_time": "2023-07-25T20:02:57.283Z"
   },
   {
    "duration": 211,
    "start_time": "2023-07-25T20:02:57.303Z"
   },
   {
    "duration": 39,
    "start_time": "2023-07-25T20:02:57.519Z"
   },
   {
    "duration": 33,
    "start_time": "2023-07-25T20:02:57.560Z"
   },
   {
    "duration": 168,
    "start_time": "2023-07-25T20:02:57.595Z"
   },
   {
    "duration": 30,
    "start_time": "2023-07-25T20:02:57.765Z"
   },
   {
    "duration": 14,
    "start_time": "2023-07-25T20:02:57.797Z"
   },
   {
    "duration": 169,
    "start_time": "2023-07-25T20:02:57.816Z"
   },
   {
    "duration": 111,
    "start_time": "2023-07-25T20:02:57.990Z"
   },
   {
    "duration": 55,
    "start_time": "2023-07-25T20:02:58.105Z"
   },
   {
    "duration": 51,
    "start_time": "2023-07-25T20:02:58.162Z"
   },
   {
    "duration": 17,
    "start_time": "2023-07-25T20:02:58.216Z"
   },
   {
    "duration": 10,
    "start_time": "2023-07-25T20:02:58.236Z"
   },
   {
    "duration": 597,
    "start_time": "2023-07-25T20:02:58.250Z"
   },
   {
    "duration": 37,
    "start_time": "2023-07-25T20:02:58.849Z"
   },
   {
    "duration": 49,
    "start_time": "2023-07-25T20:02:58.890Z"
   },
   {
    "duration": 149,
    "start_time": "2023-07-25T20:02:58.941Z"
   },
   {
    "duration": 53,
    "start_time": "2023-07-25T20:03:19.838Z"
   },
   {
    "duration": 54,
    "start_time": "2023-07-26T04:39:49.204Z"
   },
   {
    "duration": 1452,
    "start_time": "2023-07-26T04:39:54.158Z"
   },
   {
    "duration": 4,
    "start_time": "2023-07-26T04:39:55.612Z"
   },
   {
    "duration": 508,
    "start_time": "2023-07-26T04:39:55.617Z"
   },
   {
    "duration": 32,
    "start_time": "2023-07-26T04:39:56.127Z"
   },
   {
    "duration": 15,
    "start_time": "2023-07-26T04:39:56.161Z"
   },
   {
    "duration": 123,
    "start_time": "2023-07-26T04:39:56.177Z"
   },
   {
    "duration": 19,
    "start_time": "2023-07-26T04:39:56.302Z"
   },
   {
    "duration": 18,
    "start_time": "2023-07-26T04:39:56.322Z"
   },
   {
    "duration": 217,
    "start_time": "2023-07-26T04:39:56.342Z"
   },
   {
    "duration": 83,
    "start_time": "2023-07-26T04:39:56.562Z"
   },
   {
    "duration": 47,
    "start_time": "2023-07-26T04:39:56.647Z"
   },
   {
    "duration": 30,
    "start_time": "2023-07-26T04:39:56.696Z"
   },
   {
    "duration": 13,
    "start_time": "2023-07-26T04:39:56.728Z"
   },
   {
    "duration": 23,
    "start_time": "2023-07-26T04:39:56.743Z"
   },
   {
    "duration": 414,
    "start_time": "2023-07-26T04:39:56.767Z"
   },
   {
    "duration": 13,
    "start_time": "2023-07-26T04:39:57.183Z"
   },
   {
    "duration": 28,
    "start_time": "2023-07-26T04:39:57.197Z"
   },
   {
    "duration": 34,
    "start_time": "2023-07-26T04:39:57.226Z"
   },
   {
    "duration": 134,
    "start_time": "2023-07-26T04:45:20.157Z"
   },
   {
    "duration": 103,
    "start_time": "2023-07-26T04:45:39.127Z"
   },
   {
    "duration": 25,
    "start_time": "2023-07-26T04:45:51.680Z"
   },
   {
    "duration": 25,
    "start_time": "2023-07-26T04:47:03.912Z"
   },
   {
    "duration": 25,
    "start_time": "2023-07-26T04:48:03.733Z"
   },
   {
    "duration": 39,
    "start_time": "2023-07-26T04:54:18.838Z"
   },
   {
    "duration": 25,
    "start_time": "2023-07-26T04:54:23.815Z"
   },
   {
    "duration": 93,
    "start_time": "2023-07-26T17:49:48.806Z"
   },
   {
    "duration": 1585,
    "start_time": "2023-07-26T17:50:00.512Z"
   },
   {
    "duration": 11,
    "start_time": "2023-07-26T17:50:02.105Z"
   },
   {
    "duration": 1488,
    "start_time": "2023-07-26T17:50:02.118Z"
   },
   {
    "duration": 40,
    "start_time": "2023-07-26T17:50:03.609Z"
   },
   {
    "duration": 21,
    "start_time": "2023-07-26T17:50:03.651Z"
   },
   {
    "duration": 166,
    "start_time": "2023-07-26T17:50:03.675Z"
   },
   {
    "duration": 53,
    "start_time": "2023-07-26T17:50:03.843Z"
   },
   {
    "duration": 13,
    "start_time": "2023-07-26T17:50:03.900Z"
   },
   {
    "duration": 164,
    "start_time": "2023-07-26T17:50:03.916Z"
   },
   {
    "duration": 125,
    "start_time": "2023-07-26T17:50:04.083Z"
   },
   {
    "duration": 55,
    "start_time": "2023-07-26T17:50:04.210Z"
   },
   {
    "duration": 56,
    "start_time": "2023-07-26T17:50:04.278Z"
   },
   {
    "duration": 15,
    "start_time": "2023-07-26T17:50:04.336Z"
   },
   {
    "duration": 24,
    "start_time": "2023-07-26T17:50:04.353Z"
   },
   {
    "duration": 531,
    "start_time": "2023-07-26T17:50:04.381Z"
   },
   {
    "duration": 26,
    "start_time": "2023-07-26T17:50:04.914Z"
   },
   {
    "duration": 46,
    "start_time": "2023-07-26T17:50:04.943Z"
   },
   {
    "duration": 43,
    "start_time": "2023-07-26T17:50:04.996Z"
   },
   {
    "duration": 43,
    "start_time": "2023-07-26T17:50:05.041Z"
   },
   {
    "duration": 235,
    "start_time": "2023-07-26T18:01:33.054Z"
   },
   {
    "duration": 177,
    "start_time": "2023-07-26T18:01:39.120Z"
   },
   {
    "duration": 29,
    "start_time": "2023-07-26T18:01:50.909Z"
   },
   {
    "duration": 62,
    "start_time": "2023-07-26T18:05:36.345Z"
   },
   {
    "duration": 67,
    "start_time": "2023-07-26T18:10:11.989Z"
   },
   {
    "duration": 1376,
    "start_time": "2023-07-26T18:10:27.651Z"
   },
   {
    "duration": 5,
    "start_time": "2023-07-26T18:10:29.029Z"
   },
   {
    "duration": 252,
    "start_time": "2023-07-26T18:10:29.036Z"
   },
   {
    "duration": 35,
    "start_time": "2023-07-26T18:10:29.291Z"
   },
   {
    "duration": 23,
    "start_time": "2023-07-26T18:10:29.328Z"
   },
   {
    "duration": 178,
    "start_time": "2023-07-26T18:10:29.371Z"
   },
   {
    "duration": 34,
    "start_time": "2023-07-26T18:10:29.551Z"
   },
   {
    "duration": 8,
    "start_time": "2023-07-26T18:10:29.589Z"
   },
   {
    "duration": 156,
    "start_time": "2023-07-26T18:10:29.599Z"
   },
   {
    "duration": 125,
    "start_time": "2023-07-26T18:10:29.759Z"
   },
   {
    "duration": 64,
    "start_time": "2023-07-26T18:10:29.886Z"
   },
   {
    "duration": 53,
    "start_time": "2023-07-26T18:10:29.952Z"
   },
   {
    "duration": 17,
    "start_time": "2023-07-26T18:10:30.007Z"
   },
   {
    "duration": 33,
    "start_time": "2023-07-26T18:10:30.026Z"
   },
   {
    "duration": 536,
    "start_time": "2023-07-26T18:10:30.061Z"
   },
   {
    "duration": 16,
    "start_time": "2023-07-26T18:10:30.599Z"
   },
   {
    "duration": 76,
    "start_time": "2023-07-26T18:10:30.618Z"
   },
   {
    "duration": 87,
    "start_time": "2023-07-26T18:10:30.696Z"
   },
   {
    "duration": 121,
    "start_time": "2023-07-26T18:10:30.791Z"
   },
   {
    "duration": 124,
    "start_time": "2023-07-26T18:10:30.914Z"
   },
   {
    "duration": 2199,
    "start_time": "2023-07-26T18:11:03.389Z"
   },
   {
    "duration": 73,
    "start_time": "2023-07-26T18:11:11.110Z"
   },
   {
    "duration": 63,
    "start_time": "2023-07-26T18:12:39.999Z"
   },
   {
    "duration": 89,
    "start_time": "2023-07-26T18:27:24.642Z"
   },
   {
    "duration": 94,
    "start_time": "2023-07-26T18:27:34.148Z"
   },
   {
    "duration": 13,
    "start_time": "2023-07-26T18:40:47.310Z"
   },
   {
    "duration": 16,
    "start_time": "2023-07-26T18:41:04.819Z"
   },
   {
    "duration": 13,
    "start_time": "2023-07-26T19:04:32.754Z"
   },
   {
    "duration": 15,
    "start_time": "2023-07-26T19:04:43.133Z"
   },
   {
    "duration": 13,
    "start_time": "2023-07-26T19:05:14.696Z"
   },
   {
    "duration": 1484,
    "start_time": "2023-07-26T19:05:22.756Z"
   },
   {
    "duration": 5,
    "start_time": "2023-07-26T19:05:24.242Z"
   },
   {
    "duration": 253,
    "start_time": "2023-07-26T19:05:24.249Z"
   },
   {
    "duration": 35,
    "start_time": "2023-07-26T19:05:24.504Z"
   },
   {
    "duration": 42,
    "start_time": "2023-07-26T19:05:24.543Z"
   },
   {
    "duration": 166,
    "start_time": "2023-07-26T19:05:24.592Z"
   },
   {
    "duration": 29,
    "start_time": "2023-07-26T19:05:24.769Z"
   },
   {
    "duration": 9,
    "start_time": "2023-07-26T19:05:24.801Z"
   },
   {
    "duration": 174,
    "start_time": "2023-07-26T19:05:24.812Z"
   },
   {
    "duration": 109,
    "start_time": "2023-07-26T19:05:24.988Z"
   },
   {
    "duration": 55,
    "start_time": "2023-07-26T19:05:25.099Z"
   },
   {
    "duration": 39,
    "start_time": "2023-07-26T19:05:25.166Z"
   },
   {
    "duration": 30,
    "start_time": "2023-07-26T19:05:25.207Z"
   },
   {
    "duration": 12,
    "start_time": "2023-07-26T19:05:25.241Z"
   },
   {
    "duration": 522,
    "start_time": "2023-07-26T19:05:25.255Z"
   },
   {
    "duration": 15,
    "start_time": "2023-07-26T19:05:25.785Z"
   },
   {
    "duration": 34,
    "start_time": "2023-07-26T19:05:25.802Z"
   },
   {
    "duration": 67,
    "start_time": "2023-07-26T19:05:25.839Z"
   },
   {
    "duration": 38,
    "start_time": "2023-07-26T19:05:25.908Z"
   },
   {
    "duration": 87,
    "start_time": "2023-07-26T19:05:25.949Z"
   },
   {
    "duration": 145,
    "start_time": "2023-07-26T19:05:26.039Z"
   },
   {
    "duration": 18,
    "start_time": "2023-07-26T19:06:27.869Z"
   },
   {
    "duration": 1439,
    "start_time": "2023-07-26T19:06:41.472Z"
   },
   {
    "duration": 6,
    "start_time": "2023-07-26T19:06:42.914Z"
   },
   {
    "duration": 194,
    "start_time": "2023-07-26T19:06:42.921Z"
   },
   {
    "duration": 34,
    "start_time": "2023-07-26T19:06:43.117Z"
   },
   {
    "duration": 30,
    "start_time": "2023-07-26T19:06:43.155Z"
   },
   {
    "duration": 179,
    "start_time": "2023-07-26T19:06:43.188Z"
   },
   {
    "duration": 23,
    "start_time": "2023-07-26T19:06:43.370Z"
   },
   {
    "duration": 17,
    "start_time": "2023-07-26T19:06:43.395Z"
   },
   {
    "duration": 152,
    "start_time": "2023-07-26T19:06:43.415Z"
   },
   {
    "duration": 117,
    "start_time": "2023-07-26T19:06:43.569Z"
   },
   {
    "duration": 57,
    "start_time": "2023-07-26T19:06:43.689Z"
   },
   {
    "duration": 58,
    "start_time": "2023-07-26T19:06:43.747Z"
   },
   {
    "duration": 13,
    "start_time": "2023-07-26T19:06:43.807Z"
   },
   {
    "duration": 20,
    "start_time": "2023-07-26T19:06:43.822Z"
   },
   {
    "duration": 666,
    "start_time": "2023-07-26T19:06:43.844Z"
   },
   {
    "duration": 14,
    "start_time": "2023-07-26T19:06:44.512Z"
   },
   {
    "duration": 58,
    "start_time": "2023-07-26T19:06:44.528Z"
   },
   {
    "duration": 37,
    "start_time": "2023-07-26T19:06:44.589Z"
   },
   {
    "duration": 55,
    "start_time": "2023-07-26T19:06:44.628Z"
   },
   {
    "duration": 72,
    "start_time": "2023-07-26T19:06:44.685Z"
   },
   {
    "duration": 132,
    "start_time": "2023-07-26T19:06:44.759Z"
   },
   {
    "duration": 1816,
    "start_time": "2023-07-26T19:07:05.299Z"
   },
   {
    "duration": 1378,
    "start_time": "2023-07-26T19:07:17.748Z"
   },
   {
    "duration": 4,
    "start_time": "2023-07-26T19:07:19.129Z"
   },
   {
    "duration": 186,
    "start_time": "2023-07-26T19:07:19.135Z"
   },
   {
    "duration": 44,
    "start_time": "2023-07-26T19:07:19.323Z"
   },
   {
    "duration": 15,
    "start_time": "2023-07-26T19:07:19.371Z"
   },
   {
    "duration": 166,
    "start_time": "2023-07-26T19:07:19.388Z"
   },
   {
    "duration": 33,
    "start_time": "2023-07-26T19:07:19.556Z"
   },
   {
    "duration": 86,
    "start_time": "2023-07-26T19:07:19.591Z"
   },
   {
    "duration": 143,
    "start_time": "2023-07-26T19:07:19.679Z"
   },
   {
    "duration": 96,
    "start_time": "2023-07-26T19:07:19.824Z"
   },
   {
    "duration": 53,
    "start_time": "2023-07-26T19:07:19.922Z"
   },
   {
    "duration": 32,
    "start_time": "2023-07-26T19:07:19.977Z"
   },
   {
    "duration": 40,
    "start_time": "2023-07-26T19:07:20.010Z"
   },
   {
    "duration": 17,
    "start_time": "2023-07-26T19:07:20.053Z"
   },
   {
    "duration": 490,
    "start_time": "2023-07-26T19:07:20.072Z"
   },
   {
    "duration": 14,
    "start_time": "2023-07-26T19:07:20.566Z"
   },
   {
    "duration": 32,
    "start_time": "2023-07-26T19:07:20.582Z"
   },
   {
    "duration": 62,
    "start_time": "2023-07-26T19:07:20.616Z"
   },
   {
    "duration": 28,
    "start_time": "2023-07-26T19:07:20.680Z"
   },
   {
    "duration": 82,
    "start_time": "2023-07-26T19:07:20.710Z"
   },
   {
    "duration": 1884,
    "start_time": "2023-07-26T19:07:20.794Z"
   },
   {
    "duration": 212,
    "start_time": "2023-07-26T19:07:38.550Z"
   },
   {
    "duration": 29,
    "start_time": "2023-07-26T19:13:22.894Z"
   },
   {
    "duration": 20,
    "start_time": "2023-07-26T19:13:59.052Z"
   },
   {
    "duration": 11,
    "start_time": "2023-07-26T19:14:10.839Z"
   },
   {
    "duration": 9,
    "start_time": "2023-07-26T19:16:16.523Z"
   },
   {
    "duration": 15,
    "start_time": "2023-07-26T19:19:24.148Z"
   },
   {
    "duration": 16,
    "start_time": "2023-07-26T19:21:37.321Z"
   },
   {
    "duration": 78,
    "start_time": "2023-07-26T19:21:57.222Z"
   },
   {
    "duration": 71,
    "start_time": "2023-07-26T19:22:08.212Z"
   },
   {
    "duration": 74,
    "start_time": "2023-07-26T19:22:18.457Z"
   },
   {
    "duration": 69,
    "start_time": "2023-07-26T19:22:36.515Z"
   },
   {
    "duration": 71,
    "start_time": "2023-07-26T19:23:29.280Z"
   },
   {
    "duration": 71,
    "start_time": "2023-07-26T19:23:36.298Z"
   },
   {
    "duration": 72,
    "start_time": "2023-07-26T19:24:59.195Z"
   },
   {
    "duration": 195,
    "start_time": "2023-07-26T19:28:40.699Z"
   },
   {
    "duration": 29,
    "start_time": "2023-07-26T19:39:04.992Z"
   },
   {
    "duration": 4,
    "start_time": "2023-07-26T19:40:32.004Z"
   },
   {
    "duration": 6,
    "start_time": "2023-07-26T19:40:36.086Z"
   },
   {
    "duration": 3,
    "start_time": "2023-07-26T19:41:21.710Z"
   },
   {
    "duration": 13,
    "start_time": "2023-07-26T19:41:56.501Z"
   },
   {
    "duration": 6,
    "start_time": "2023-07-26T19:42:06.917Z"
   },
   {
    "duration": 5,
    "start_time": "2023-07-26T19:42:17.708Z"
   },
   {
    "duration": 1285,
    "start_time": "2023-07-26T19:45:18.164Z"
   },
   {
    "duration": 6,
    "start_time": "2023-07-26T19:45:19.451Z"
   },
   {
    "duration": 263,
    "start_time": "2023-07-26T19:45:19.466Z"
   },
   {
    "duration": 44,
    "start_time": "2023-07-26T19:45:19.731Z"
   },
   {
    "duration": 15,
    "start_time": "2023-07-26T19:45:19.784Z"
   },
   {
    "duration": 158,
    "start_time": "2023-07-26T19:45:19.801Z"
   },
   {
    "duration": 29,
    "start_time": "2023-07-26T19:45:19.967Z"
   },
   {
    "duration": 31,
    "start_time": "2023-07-26T19:45:19.998Z"
   },
   {
    "duration": 154,
    "start_time": "2023-07-26T19:45:20.031Z"
   },
   {
    "duration": 105,
    "start_time": "2023-07-26T19:45:20.187Z"
   },
   {
    "duration": 44,
    "start_time": "2023-07-26T19:45:20.293Z"
   },
   {
    "duration": 51,
    "start_time": "2023-07-26T19:45:20.338Z"
   },
   {
    "duration": 12,
    "start_time": "2023-07-26T19:45:20.391Z"
   },
   {
    "duration": 36,
    "start_time": "2023-07-26T19:45:20.406Z"
   },
   {
    "duration": 535,
    "start_time": "2023-07-26T19:45:20.445Z"
   },
   {
    "duration": 15,
    "start_time": "2023-07-26T19:45:20.982Z"
   },
   {
    "duration": 59,
    "start_time": "2023-07-26T19:45:21.000Z"
   },
   {
    "duration": 42,
    "start_time": "2023-07-26T19:45:21.061Z"
   },
   {
    "duration": 61,
    "start_time": "2023-07-26T19:45:21.105Z"
   },
   {
    "duration": 91,
    "start_time": "2023-07-26T19:45:21.168Z"
   },
   {
    "duration": 181,
    "start_time": "2023-07-26T19:45:21.272Z"
   },
   {
    "duration": 0,
    "start_time": "2023-07-26T19:45:21.455Z"
   },
   {
    "duration": 1438,
    "start_time": "2023-07-26T19:47:03.594Z"
   },
   {
    "duration": 4,
    "start_time": "2023-07-26T19:47:05.034Z"
   },
   {
    "duration": 207,
    "start_time": "2023-07-26T19:47:05.040Z"
   },
   {
    "duration": 52,
    "start_time": "2023-07-26T19:47:05.249Z"
   },
   {
    "duration": 17,
    "start_time": "2023-07-26T19:47:05.303Z"
   },
   {
    "duration": 178,
    "start_time": "2023-07-26T19:47:05.321Z"
   },
   {
    "duration": 20,
    "start_time": "2023-07-26T19:47:05.500Z"
   },
   {
    "duration": 20,
    "start_time": "2023-07-26T19:47:05.521Z"
   },
   {
    "duration": 160,
    "start_time": "2023-07-26T19:47:05.543Z"
   },
   {
    "duration": 104,
    "start_time": "2023-07-26T19:47:05.707Z"
   },
   {
    "duration": 54,
    "start_time": "2023-07-26T19:47:05.813Z"
   },
   {
    "duration": 32,
    "start_time": "2023-07-26T19:47:05.869Z"
   },
   {
    "duration": 12,
    "start_time": "2023-07-26T19:47:05.903Z"
   },
   {
    "duration": 12,
    "start_time": "2023-07-26T19:47:05.917Z"
   },
   {
    "duration": 488,
    "start_time": "2023-07-26T19:47:05.931Z"
   },
   {
    "duration": 15,
    "start_time": "2023-07-26T19:47:06.422Z"
   },
   {
    "duration": 50,
    "start_time": "2023-07-26T19:47:06.440Z"
   },
   {
    "duration": 48,
    "start_time": "2023-07-26T19:47:06.493Z"
   },
   {
    "duration": 53,
    "start_time": "2023-07-26T19:47:06.543Z"
   },
   {
    "duration": 72,
    "start_time": "2023-07-26T19:47:06.597Z"
   },
   {
    "duration": 5,
    "start_time": "2023-07-26T19:47:06.670Z"
   },
   {
    "duration": 93,
    "start_time": "2023-07-26T19:47:06.676Z"
   },
   {
    "duration": 4,
    "start_time": "2023-07-26T19:47:06.772Z"
   },
   {
    "duration": 73,
    "start_time": "2023-07-26T19:47:23.357Z"
   },
   {
    "duration": 6,
    "start_time": "2023-07-26T19:48:20.129Z"
   },
   {
    "duration": 70,
    "start_time": "2023-07-26T19:48:21.266Z"
   },
   {
    "duration": 78,
    "start_time": "2023-07-26T19:48:39.818Z"
   },
   {
    "duration": 1250,
    "start_time": "2023-07-26T19:48:46.000Z"
   },
   {
    "duration": 5,
    "start_time": "2023-07-26T19:48:47.252Z"
   },
   {
    "duration": 221,
    "start_time": "2023-07-26T19:48:47.259Z"
   },
   {
    "duration": 34,
    "start_time": "2023-07-26T19:48:47.483Z"
   },
   {
    "duration": 15,
    "start_time": "2023-07-26T19:48:47.519Z"
   },
   {
    "duration": 169,
    "start_time": "2023-07-26T19:48:47.536Z"
   },
   {
    "duration": 20,
    "start_time": "2023-07-26T19:48:47.707Z"
   },
   {
    "duration": 33,
    "start_time": "2023-07-26T19:48:47.729Z"
   },
   {
    "duration": 140,
    "start_time": "2023-07-26T19:48:47.763Z"
   },
   {
    "duration": 118,
    "start_time": "2023-07-26T19:48:47.906Z"
   },
   {
    "duration": 55,
    "start_time": "2023-07-26T19:48:48.026Z"
   },
   {
    "duration": 36,
    "start_time": "2023-07-26T19:48:48.083Z"
   },
   {
    "duration": 16,
    "start_time": "2023-07-26T19:48:48.121Z"
   },
   {
    "duration": 33,
    "start_time": "2023-07-26T19:48:48.139Z"
   },
   {
    "duration": 496,
    "start_time": "2023-07-26T19:48:48.174Z"
   },
   {
    "duration": 14,
    "start_time": "2023-07-26T19:48:48.672Z"
   },
   {
    "duration": 39,
    "start_time": "2023-07-26T19:48:48.688Z"
   },
   {
    "duration": 59,
    "start_time": "2023-07-26T19:48:48.729Z"
   },
   {
    "duration": 31,
    "start_time": "2023-07-26T19:48:48.790Z"
   },
   {
    "duration": 87,
    "start_time": "2023-07-26T19:48:48.823Z"
   },
   {
    "duration": 3,
    "start_time": "2023-07-26T19:48:48.912Z"
   },
   {
    "duration": 100,
    "start_time": "2023-07-26T19:48:48.918Z"
   },
   {
    "duration": 6,
    "start_time": "2023-07-26T19:48:49.020Z"
   },
   {
    "duration": 7,
    "start_time": "2023-07-26T19:49:04.015Z"
   },
   {
    "duration": 71,
    "start_time": "2023-07-26T19:49:05.053Z"
   },
   {
    "duration": 1337,
    "start_time": "2023-07-26T19:49:31.663Z"
   },
   {
    "duration": 4,
    "start_time": "2023-07-26T19:49:33.003Z"
   },
   {
    "duration": 192,
    "start_time": "2023-07-26T19:49:33.009Z"
   },
   {
    "duration": 40,
    "start_time": "2023-07-26T19:49:33.204Z"
   },
   {
    "duration": 32,
    "start_time": "2023-07-26T19:49:33.245Z"
   },
   {
    "duration": 177,
    "start_time": "2023-07-26T19:49:33.280Z"
   },
   {
    "duration": 28,
    "start_time": "2023-07-26T19:49:33.459Z"
   },
   {
    "duration": 19,
    "start_time": "2023-07-26T19:49:33.489Z"
   },
   {
    "duration": 210,
    "start_time": "2023-07-26T19:49:33.510Z"
   },
   {
    "duration": 99,
    "start_time": "2023-07-26T19:49:33.722Z"
   },
   {
    "duration": 50,
    "start_time": "2023-07-26T19:49:33.823Z"
   },
   {
    "duration": 34,
    "start_time": "2023-07-26T19:49:33.874Z"
   },
   {
    "duration": 14,
    "start_time": "2023-07-26T19:49:33.910Z"
   },
   {
    "duration": 8,
    "start_time": "2023-07-26T19:49:33.927Z"
   },
   {
    "duration": 485,
    "start_time": "2023-07-26T19:49:33.968Z"
   },
   {
    "duration": 16,
    "start_time": "2023-07-26T19:49:34.455Z"
   },
   {
    "duration": 34,
    "start_time": "2023-07-26T19:49:34.473Z"
   },
   {
    "duration": 59,
    "start_time": "2023-07-26T19:49:34.509Z"
   },
   {
    "duration": 27,
    "start_time": "2023-07-26T19:49:34.570Z"
   },
   {
    "duration": 77,
    "start_time": "2023-07-26T19:49:34.599Z"
   },
   {
    "duration": 5,
    "start_time": "2023-07-26T19:49:34.677Z"
   },
   {
    "duration": 84,
    "start_time": "2023-07-26T19:49:34.684Z"
   },
   {
    "duration": 4,
    "start_time": "2023-07-26T19:49:34.770Z"
   },
   {
    "duration": 5,
    "start_time": "2023-07-26T19:52:10.264Z"
   },
   {
    "duration": 71,
    "start_time": "2023-07-26T19:52:11.587Z"
   },
   {
    "duration": 1241,
    "start_time": "2023-07-26T19:52:17.785Z"
   },
   {
    "duration": 5,
    "start_time": "2023-07-26T19:52:19.028Z"
   },
   {
    "duration": 202,
    "start_time": "2023-07-26T19:52:19.035Z"
   },
   {
    "duration": 41,
    "start_time": "2023-07-26T19:52:19.239Z"
   },
   {
    "duration": 16,
    "start_time": "2023-07-26T19:52:19.282Z"
   },
   {
    "duration": 169,
    "start_time": "2023-07-26T19:52:19.300Z"
   },
   {
    "duration": 21,
    "start_time": "2023-07-26T19:52:19.471Z"
   },
   {
    "duration": 25,
    "start_time": "2023-07-26T19:52:19.494Z"
   },
   {
    "duration": 130,
    "start_time": "2023-07-26T19:52:19.521Z"
   },
   {
    "duration": 105,
    "start_time": "2023-07-26T19:52:19.653Z"
   },
   {
    "duration": 52,
    "start_time": "2023-07-26T19:52:19.760Z"
   },
   {
    "duration": 33,
    "start_time": "2023-07-26T19:52:19.814Z"
   },
   {
    "duration": 28,
    "start_time": "2023-07-26T19:52:19.849Z"
   },
   {
    "duration": 11,
    "start_time": "2023-07-26T19:52:19.880Z"
   },
   {
    "duration": 483,
    "start_time": "2023-07-26T19:52:19.893Z"
   },
   {
    "duration": 13,
    "start_time": "2023-07-26T19:52:20.378Z"
   },
   {
    "duration": 46,
    "start_time": "2023-07-26T19:52:20.393Z"
   },
   {
    "duration": 45,
    "start_time": "2023-07-26T19:52:20.441Z"
   },
   {
    "duration": 29,
    "start_time": "2023-07-26T19:52:20.488Z"
   },
   {
    "duration": 83,
    "start_time": "2023-07-26T19:52:20.519Z"
   },
   {
    "duration": 4,
    "start_time": "2023-07-26T19:52:20.604Z"
   },
   {
    "duration": 96,
    "start_time": "2023-07-26T19:52:20.609Z"
   },
   {
    "duration": 4,
    "start_time": "2023-07-26T19:52:20.708Z"
   },
   {
    "duration": 1258,
    "start_time": "2023-07-26T19:53:28.105Z"
   },
   {
    "duration": 4,
    "start_time": "2023-07-26T19:53:29.367Z"
   },
   {
    "duration": 207,
    "start_time": "2023-07-26T19:53:29.373Z"
   },
   {
    "duration": 34,
    "start_time": "2023-07-26T19:53:29.588Z"
   },
   {
    "duration": 15,
    "start_time": "2023-07-26T19:53:29.624Z"
   },
   {
    "duration": 151,
    "start_time": "2023-07-26T19:53:29.640Z"
   },
   {
    "duration": 21,
    "start_time": "2023-07-26T19:53:29.793Z"
   },
   {
    "duration": 27,
    "start_time": "2023-07-26T19:53:29.816Z"
   },
   {
    "duration": 132,
    "start_time": "2023-07-26T19:53:29.844Z"
   },
   {
    "duration": 110,
    "start_time": "2023-07-26T19:53:29.978Z"
   },
   {
    "duration": 45,
    "start_time": "2023-07-26T19:53:30.090Z"
   },
   {
    "duration": 48,
    "start_time": "2023-07-26T19:53:30.137Z"
   },
   {
    "duration": 19,
    "start_time": "2023-07-26T19:53:30.187Z"
   },
   {
    "duration": 38,
    "start_time": "2023-07-26T19:53:30.209Z"
   },
   {
    "duration": 481,
    "start_time": "2023-07-26T19:53:30.250Z"
   },
   {
    "duration": 14,
    "start_time": "2023-07-26T19:53:30.733Z"
   },
   {
    "duration": 71,
    "start_time": "2023-07-26T19:53:30.749Z"
   },
   {
    "duration": 91,
    "start_time": "2023-07-26T19:53:30.822Z"
   },
   {
    "duration": 50,
    "start_time": "2023-07-26T19:53:30.915Z"
   },
   {
    "duration": 107,
    "start_time": "2023-07-26T19:53:30.967Z"
   },
   {
    "duration": 27,
    "start_time": "2023-07-26T19:53:31.076Z"
   },
   {
    "duration": 125,
    "start_time": "2023-07-26T19:53:31.105Z"
   },
   {
    "duration": 40,
    "start_time": "2023-07-26T19:53:31.232Z"
   },
   {
    "duration": 51,
    "start_time": "2023-07-27T03:13:54.597Z"
   },
   {
    "duration": 52,
    "start_time": "2023-07-27T03:15:01.246Z"
   },
   {
    "duration": 1850,
    "start_time": "2023-07-27T03:15:01.344Z"
   },
   {
    "duration": 4,
    "start_time": "2023-07-27T03:15:03.197Z"
   },
   {
    "duration": 697,
    "start_time": "2023-07-27T03:15:03.202Z"
   },
   {
    "duration": 32,
    "start_time": "2023-07-27T03:15:03.901Z"
   },
   {
    "duration": 15,
    "start_time": "2023-07-27T03:15:03.934Z"
   },
   {
    "duration": 138,
    "start_time": "2023-07-27T03:15:03.951Z"
   },
   {
    "duration": 19,
    "start_time": "2023-07-27T03:15:04.091Z"
   },
   {
    "duration": 8,
    "start_time": "2023-07-27T03:15:04.112Z"
   },
   {
    "duration": 140,
    "start_time": "2023-07-27T03:15:04.121Z"
   },
   {
    "duration": 89,
    "start_time": "2023-07-27T03:15:04.264Z"
   },
   {
    "duration": 41,
    "start_time": "2023-07-27T03:15:04.355Z"
   },
   {
    "duration": 29,
    "start_time": "2023-07-27T03:15:04.398Z"
   },
   {
    "duration": 31,
    "start_time": "2023-07-27T03:15:04.429Z"
   },
   {
    "duration": 27,
    "start_time": "2023-07-27T03:15:04.462Z"
   },
   {
    "duration": 449,
    "start_time": "2023-07-27T03:15:04.491Z"
   },
   {
    "duration": 19,
    "start_time": "2023-07-27T03:15:04.942Z"
   },
   {
    "duration": 32,
    "start_time": "2023-07-27T03:15:04.963Z"
   },
   {
    "duration": 56,
    "start_time": "2023-07-27T03:15:04.997Z"
   },
   {
    "duration": 30,
    "start_time": "2023-07-27T03:15:05.055Z"
   },
   {
    "duration": 80,
    "start_time": "2023-07-27T03:15:05.087Z"
   },
   {
    "duration": 4,
    "start_time": "2023-07-27T03:15:05.170Z"
   },
   {
    "duration": 86,
    "start_time": "2023-07-27T03:15:05.175Z"
   },
   {
    "duration": 4,
    "start_time": "2023-07-27T03:15:05.262Z"
   },
   {
    "duration": 68,
    "start_time": "2023-07-27T03:15:05.268Z"
   },
   {
    "duration": 9,
    "start_time": "2023-07-28T04:10:45.830Z"
   },
   {
    "duration": 4,
    "start_time": "2023-07-28T04:10:52.690Z"
   },
   {
    "duration": 146,
    "start_time": "2023-07-28T04:11:48.501Z"
   },
   {
    "duration": 9,
    "start_time": "2023-07-28T04:12:19.441Z"
   },
   {
    "duration": 4,
    "start_time": "2023-07-28T04:12:30.528Z"
   },
   {
    "duration": 10,
    "start_time": "2023-07-28T04:12:34.285Z"
   },
   {
    "duration": 5,
    "start_time": "2023-07-28T04:12:37.359Z"
   },
   {
    "duration": 4,
    "start_time": "2023-07-28T04:30:48.242Z"
   },
   {
    "duration": 71,
    "start_time": "2023-07-28T04:36:49.663Z"
   },
   {
    "duration": 7,
    "start_time": "2023-07-28T04:37:13.993Z"
   },
   {
    "duration": 1770,
    "start_time": "2023-07-28T04:37:22.318Z"
   },
   {
    "duration": 13,
    "start_time": "2023-07-28T04:37:24.097Z"
   },
   {
    "duration": 799,
    "start_time": "2023-07-28T04:37:24.114Z"
   },
   {
    "duration": 36,
    "start_time": "2023-07-28T04:37:24.917Z"
   },
   {
    "duration": 15,
    "start_time": "2023-07-28T04:37:24.955Z"
   },
   {
    "duration": 225,
    "start_time": "2023-07-28T04:37:24.975Z"
   },
   {
    "duration": 37,
    "start_time": "2023-07-28T04:37:25.202Z"
   },
   {
    "duration": 10,
    "start_time": "2023-07-28T04:37:25.241Z"
   },
   {
    "duration": 181,
    "start_time": "2023-07-28T04:37:25.254Z"
   },
   {
    "duration": 98,
    "start_time": "2023-07-28T04:37:25.437Z"
   },
   {
    "duration": 62,
    "start_time": "2023-07-28T04:37:25.537Z"
   },
   {
    "duration": 45,
    "start_time": "2023-07-28T04:37:25.602Z"
   },
   {
    "duration": 11,
    "start_time": "2023-07-28T04:37:25.649Z"
   },
   {
    "duration": 64,
    "start_time": "2023-07-28T04:37:25.663Z"
   },
   {
    "duration": 525,
    "start_time": "2023-07-28T04:37:25.729Z"
   },
   {
    "duration": 24,
    "start_time": "2023-07-28T04:37:26.256Z"
   },
   {
    "duration": 161,
    "start_time": "2023-07-28T04:37:26.289Z"
   },
   {
    "duration": 50,
    "start_time": "2023-07-28T04:37:26.453Z"
   },
   {
    "duration": 81,
    "start_time": "2023-07-28T04:37:26.505Z"
   },
   {
    "duration": 109,
    "start_time": "2023-07-28T04:37:26.588Z"
   },
   {
    "duration": 5,
    "start_time": "2023-07-28T04:37:26.702Z"
   },
   {
    "duration": 122,
    "start_time": "2023-07-28T04:37:26.711Z"
   },
   {
    "duration": 9,
    "start_time": "2023-07-28T04:37:26.835Z"
   },
   {
    "duration": 111,
    "start_time": "2023-07-28T04:37:26.846Z"
   },
   {
    "duration": 4,
    "start_time": "2023-07-28T04:37:26.959Z"
   },
   {
    "duration": 201,
    "start_time": "2023-07-28T04:37:26.965Z"
   },
   {
    "duration": 62,
    "start_time": "2023-07-28T04:44:13.198Z"
   },
   {
    "duration": 11,
    "start_time": "2023-07-28T05:07:23.900Z"
   },
   {
    "duration": 125,
    "start_time": "2023-07-28T05:09:43.006Z"
   },
   {
    "duration": 97,
    "start_time": "2023-07-28T05:09:53.554Z"
   },
   {
    "duration": 308,
    "start_time": "2023-07-28T05:11:05.694Z"
   },
   {
    "duration": 123,
    "start_time": "2023-07-28T05:11:10.958Z"
   },
   {
    "duration": 10,
    "start_time": "2023-07-28T05:15:30.641Z"
   },
   {
    "duration": 53,
    "start_time": "2023-07-28T14:34:48.738Z"
   },
   {
    "duration": 1391,
    "start_time": "2023-07-28T14:34:53.730Z"
   },
   {
    "duration": 14,
    "start_time": "2023-07-28T14:34:55.124Z"
   },
   {
    "duration": 674,
    "start_time": "2023-07-28T14:34:55.139Z"
   },
   {
    "duration": 43,
    "start_time": "2023-07-28T14:34:55.815Z"
   },
   {
    "duration": 13,
    "start_time": "2023-07-28T14:34:55.860Z"
   },
   {
    "duration": 140,
    "start_time": "2023-07-28T14:34:55.874Z"
   },
   {
    "duration": 26,
    "start_time": "2023-07-28T14:34:56.029Z"
   },
   {
    "duration": 9,
    "start_time": "2023-07-28T14:34:56.057Z"
   },
   {
    "duration": 181,
    "start_time": "2023-07-28T14:34:56.067Z"
   },
   {
    "duration": 93,
    "start_time": "2023-07-28T14:34:56.251Z"
   },
   {
    "duration": 37,
    "start_time": "2023-07-28T14:34:56.346Z"
   },
   {
    "duration": 63,
    "start_time": "2023-07-28T14:34:56.385Z"
   },
   {
    "duration": 19,
    "start_time": "2023-07-28T14:34:56.451Z"
   },
   {
    "duration": 15,
    "start_time": "2023-07-28T14:34:56.472Z"
   },
   {
    "duration": 454,
    "start_time": "2023-07-28T14:34:56.489Z"
   },
   {
    "duration": 11,
    "start_time": "2023-07-28T14:34:56.946Z"
   },
   {
    "duration": 31,
    "start_time": "2023-07-28T14:34:56.959Z"
   },
   {
    "duration": 54,
    "start_time": "2023-07-28T14:34:56.992Z"
   },
   {
    "duration": 24,
    "start_time": "2023-07-28T14:34:57.047Z"
   },
   {
    "duration": 64,
    "start_time": "2023-07-28T14:34:57.073Z"
   },
   {
    "duration": 6,
    "start_time": "2023-07-28T14:34:57.138Z"
   },
   {
    "duration": 94,
    "start_time": "2023-07-28T14:34:57.146Z"
   },
   {
    "duration": 5,
    "start_time": "2023-07-28T14:34:57.241Z"
   },
   {
    "duration": 83,
    "start_time": "2023-07-28T14:34:57.247Z"
   },
   {
    "duration": 297,
    "start_time": "2023-07-28T14:34:57.332Z"
   },
   {
    "duration": 0,
    "start_time": "2023-07-28T14:34:57.638Z"
   },
   {
    "duration": 0,
    "start_time": "2023-07-28T14:34:57.639Z"
   },
   {
    "duration": 19,
    "start_time": "2023-07-28T14:35:26.205Z"
   },
   {
    "duration": 205,
    "start_time": "2023-07-28T14:35:57.018Z"
   },
   {
    "duration": 91,
    "start_time": "2023-07-28T14:36:06.583Z"
   },
   {
    "duration": 1246,
    "start_time": "2023-07-28T14:36:12.087Z"
   },
   {
    "duration": 4,
    "start_time": "2023-07-28T14:36:13.339Z"
   },
   {
    "duration": 196,
    "start_time": "2023-07-28T14:36:13.345Z"
   },
   {
    "duration": 33,
    "start_time": "2023-07-28T14:36:13.542Z"
   },
   {
    "duration": 12,
    "start_time": "2023-07-28T14:36:13.577Z"
   },
   {
    "duration": 151,
    "start_time": "2023-07-28T14:36:13.590Z"
   },
   {
    "duration": 18,
    "start_time": "2023-07-28T14:36:13.746Z"
   },
   {
    "duration": 30,
    "start_time": "2023-07-28T14:36:13.765Z"
   },
   {
    "duration": 156,
    "start_time": "2023-07-28T14:36:13.797Z"
   },
   {
    "duration": 85,
    "start_time": "2023-07-28T14:36:13.954Z"
   },
   {
    "duration": 40,
    "start_time": "2023-07-28T14:36:14.040Z"
   },
   {
    "duration": 58,
    "start_time": "2023-07-28T14:36:14.081Z"
   },
   {
    "duration": 12,
    "start_time": "2023-07-28T14:36:14.147Z"
   },
   {
    "duration": 7,
    "start_time": "2023-07-28T14:36:14.161Z"
   },
   {
    "duration": 410,
    "start_time": "2023-07-28T14:36:14.170Z"
   },
   {
    "duration": 11,
    "start_time": "2023-07-28T14:36:14.582Z"
   },
   {
    "duration": 36,
    "start_time": "2023-07-28T14:36:14.605Z"
   },
   {
    "duration": 55,
    "start_time": "2023-07-28T14:36:14.642Z"
   },
   {
    "duration": 45,
    "start_time": "2023-07-28T14:36:14.699Z"
   },
   {
    "duration": 66,
    "start_time": "2023-07-28T14:36:14.747Z"
   },
   {
    "duration": 7,
    "start_time": "2023-07-28T14:36:14.814Z"
   },
   {
    "duration": 99,
    "start_time": "2023-07-28T14:36:14.822Z"
   },
   {
    "duration": 5,
    "start_time": "2023-07-28T14:36:14.922Z"
   },
   {
    "duration": 58,
    "start_time": "2023-07-28T14:36:14.929Z"
   },
   {
    "duration": 95,
    "start_time": "2023-07-28T14:36:14.989Z"
   },
   {
    "duration": 7,
    "start_time": "2023-07-28T14:36:15.085Z"
   },
   {
    "duration": 11,
    "start_time": "2023-07-28T14:36:32.450Z"
   },
   {
    "duration": 14,
    "start_time": "2023-07-28T14:37:30.526Z"
   },
   {
    "duration": 21,
    "start_time": "2023-07-28T14:37:42.622Z"
   },
   {
    "duration": 10,
    "start_time": "2023-07-28T14:38:27.234Z"
   },
   {
    "duration": 6,
    "start_time": "2023-07-28T14:38:56.451Z"
   },
   {
    "duration": 7,
    "start_time": "2023-07-28T14:40:53.760Z"
   },
   {
    "duration": 1265,
    "start_time": "2023-07-28T14:41:01.190Z"
   },
   {
    "duration": 5,
    "start_time": "2023-07-28T14:41:02.457Z"
   },
   {
    "duration": 358,
    "start_time": "2023-07-28T14:41:02.464Z"
   },
   {
    "duration": 42,
    "start_time": "2023-07-28T14:41:02.824Z"
   },
   {
    "duration": 86,
    "start_time": "2023-07-28T14:41:02.868Z"
   },
   {
    "duration": 302,
    "start_time": "2023-07-28T14:41:02.955Z"
   },
   {
    "duration": 18,
    "start_time": "2023-07-28T14:41:03.259Z"
   },
   {
    "duration": 23,
    "start_time": "2023-07-28T14:41:03.279Z"
   },
   {
    "duration": 154,
    "start_time": "2023-07-28T14:41:03.303Z"
   },
   {
    "duration": 102,
    "start_time": "2023-07-28T14:41:03.459Z"
   },
   {
    "duration": 54,
    "start_time": "2023-07-28T14:41:03.564Z"
   },
   {
    "duration": 36,
    "start_time": "2023-07-28T14:41:03.620Z"
   },
   {
    "duration": 10,
    "start_time": "2023-07-28T14:41:03.658Z"
   },
   {
    "duration": 6,
    "start_time": "2023-07-28T14:41:03.670Z"
   },
   {
    "duration": 464,
    "start_time": "2023-07-28T14:41:03.677Z"
   },
   {
    "duration": 13,
    "start_time": "2023-07-28T14:41:04.149Z"
   },
   {
    "duration": 29,
    "start_time": "2023-07-28T14:41:04.164Z"
   },
   {
    "duration": 60,
    "start_time": "2023-07-28T14:41:04.194Z"
   },
   {
    "duration": 38,
    "start_time": "2023-07-28T14:41:04.255Z"
   },
   {
    "duration": 82,
    "start_time": "2023-07-28T14:41:04.294Z"
   },
   {
    "duration": 4,
    "start_time": "2023-07-28T14:41:04.378Z"
   },
   {
    "duration": 92,
    "start_time": "2023-07-28T14:41:04.384Z"
   },
   {
    "duration": 5,
    "start_time": "2023-07-28T14:41:04.478Z"
   },
   {
    "duration": 48,
    "start_time": "2023-07-28T14:41:04.484Z"
   },
   {
    "duration": 89,
    "start_time": "2023-07-28T14:41:04.533Z"
   },
   {
    "duration": 13,
    "start_time": "2023-07-28T14:41:04.624Z"
   },
   {
    "duration": 8,
    "start_time": "2023-07-28T14:41:17.617Z"
   },
   {
    "duration": 7,
    "start_time": "2023-07-28T14:41:25.487Z"
   },
   {
    "duration": 14,
    "start_time": "2023-07-28T14:42:30.839Z"
   },
   {
    "duration": 15,
    "start_time": "2023-07-28T14:42:47.522Z"
   },
   {
    "duration": 7,
    "start_time": "2023-07-28T14:43:30.659Z"
   },
   {
    "duration": 7,
    "start_time": "2023-07-28T14:43:47.755Z"
   },
   {
    "duration": 7,
    "start_time": "2023-07-28T14:43:59.195Z"
   },
   {
    "duration": 8,
    "start_time": "2023-07-28T14:44:19.234Z"
   },
   {
    "duration": 16,
    "start_time": "2023-07-28T14:44:36.716Z"
   },
   {
    "duration": 19,
    "start_time": "2023-07-28T14:45:01.094Z"
   },
   {
    "duration": 7,
    "start_time": "2023-07-28T14:46:01.788Z"
   },
   {
    "duration": 126,
    "start_time": "2023-07-28T14:46:33.122Z"
   },
   {
    "duration": 1302,
    "start_time": "2023-07-28T14:46:41.334Z"
   },
   {
    "duration": 5,
    "start_time": "2023-07-28T14:46:42.638Z"
   },
   {
    "duration": 247,
    "start_time": "2023-07-28T14:46:42.644Z"
   },
   {
    "duration": 58,
    "start_time": "2023-07-28T14:46:42.893Z"
   },
   {
    "duration": 19,
    "start_time": "2023-07-28T14:46:42.953Z"
   },
   {
    "duration": 149,
    "start_time": "2023-07-28T14:46:42.974Z"
   },
   {
    "duration": 27,
    "start_time": "2023-07-28T14:46:43.134Z"
   },
   {
    "duration": 26,
    "start_time": "2023-07-28T14:46:43.163Z"
   },
   {
    "duration": 201,
    "start_time": "2023-07-28T14:46:43.191Z"
   },
   {
    "duration": 102,
    "start_time": "2023-07-28T14:46:43.395Z"
   },
   {
    "duration": 52,
    "start_time": "2023-07-28T14:46:43.499Z"
   },
   {
    "duration": 33,
    "start_time": "2023-07-28T14:46:43.554Z"
   },
   {
    "duration": 37,
    "start_time": "2023-07-28T14:46:43.589Z"
   },
   {
    "duration": 24,
    "start_time": "2023-07-28T14:46:43.634Z"
   },
   {
    "duration": 440,
    "start_time": "2023-07-28T14:46:43.659Z"
   },
   {
    "duration": 13,
    "start_time": "2023-07-28T14:46:44.101Z"
   },
   {
    "duration": 37,
    "start_time": "2023-07-28T14:46:44.115Z"
   },
   {
    "duration": 90,
    "start_time": "2023-07-28T14:46:44.154Z"
   },
   {
    "duration": 29,
    "start_time": "2023-07-28T14:46:44.247Z"
   },
   {
    "duration": 72,
    "start_time": "2023-07-28T14:46:44.278Z"
   },
   {
    "duration": 4,
    "start_time": "2023-07-28T14:46:44.352Z"
   },
   {
    "duration": 81,
    "start_time": "2023-07-28T14:46:44.358Z"
   },
   {
    "duration": 4,
    "start_time": "2023-07-28T14:46:44.441Z"
   },
   {
    "duration": 71,
    "start_time": "2023-07-28T14:46:44.455Z"
   },
   {
    "duration": 85,
    "start_time": "2023-07-28T14:46:44.532Z"
   },
   {
    "duration": 128,
    "start_time": "2023-07-28T14:46:44.619Z"
   },
   {
    "duration": 7,
    "start_time": "2023-07-28T14:47:15.346Z"
   },
   {
    "duration": 1375,
    "start_time": "2023-07-29T09:37:45.452Z"
   },
   {
    "duration": 5,
    "start_time": "2023-07-29T09:37:46.829Z"
   },
   {
    "duration": 793,
    "start_time": "2023-07-29T09:37:46.835Z"
   },
   {
    "duration": 29,
    "start_time": "2023-07-29T09:37:47.630Z"
   },
   {
    "duration": 12,
    "start_time": "2023-07-29T09:37:47.661Z"
   },
   {
    "duration": 132,
    "start_time": "2023-07-29T09:37:47.675Z"
   },
   {
    "duration": 18,
    "start_time": "2023-07-29T09:37:47.809Z"
   },
   {
    "duration": 20,
    "start_time": "2023-07-29T09:37:47.830Z"
   },
   {
    "duration": 136,
    "start_time": "2023-07-29T09:37:47.856Z"
   },
   {
    "duration": 86,
    "start_time": "2023-07-29T09:37:47.995Z"
   },
   {
    "duration": 39,
    "start_time": "2023-07-29T09:37:48.083Z"
   },
   {
    "duration": 43,
    "start_time": "2023-07-29T09:37:48.123Z"
   },
   {
    "duration": 10,
    "start_time": "2023-07-29T09:37:48.168Z"
   },
   {
    "duration": 6,
    "start_time": "2023-07-29T09:37:48.180Z"
   },
   {
    "duration": 444,
    "start_time": "2023-07-29T09:37:48.187Z"
   },
   {
    "duration": 25,
    "start_time": "2023-07-29T09:37:48.633Z"
   },
   {
    "duration": 28,
    "start_time": "2023-07-29T09:37:48.660Z"
   },
   {
    "duration": 32,
    "start_time": "2023-07-29T09:37:48.690Z"
   },
   {
    "duration": 47,
    "start_time": "2023-07-29T09:37:48.724Z"
   },
   {
    "duration": 55,
    "start_time": "2023-07-29T09:37:48.773Z"
   },
   {
    "duration": 5,
    "start_time": "2023-07-29T09:37:48.831Z"
   },
   {
    "duration": 99,
    "start_time": "2023-07-29T09:37:48.837Z"
   },
   {
    "duration": 18,
    "start_time": "2023-07-29T09:37:48.938Z"
   },
   {
    "duration": 43,
    "start_time": "2023-07-29T09:37:48.958Z"
   },
   {
    "duration": 99,
    "start_time": "2023-07-29T09:37:49.003Z"
   },
   {
    "duration": 114,
    "start_time": "2023-07-29T09:37:49.103Z"
   },
   {
    "duration": 94,
    "start_time": "2023-07-29T09:45:21.533Z"
   },
   {
    "duration": 9,
    "start_time": "2023-07-29T09:45:34.598Z"
   },
   {
    "duration": 6,
    "start_time": "2023-07-29T09:55:10.193Z"
   },
   {
    "duration": 1943,
    "start_time": "2023-07-29T10:02:08.374Z"
   },
   {
    "duration": 40,
    "start_time": "2023-07-29T10:02:23.283Z"
   },
   {
    "duration": 6,
    "start_time": "2023-07-29T10:02:43.044Z"
   },
   {
    "duration": 109,
    "start_time": "2023-07-29T10:02:44.534Z"
   },
   {
    "duration": 6,
    "start_time": "2023-07-29T10:03:33.747Z"
   },
   {
    "duration": 107,
    "start_time": "2023-07-29T10:03:34.725Z"
   },
   {
    "duration": 12,
    "start_time": "2023-07-29T10:08:45.289Z"
   },
   {
    "duration": 14,
    "start_time": "2023-07-29T10:09:09.573Z"
   },
   {
    "duration": 8,
    "start_time": "2023-07-29T10:10:00.945Z"
   },
   {
    "duration": 132,
    "start_time": "2023-07-29T10:14:53.232Z"
   },
   {
    "duration": 122,
    "start_time": "2023-07-29T11:18:59.625Z"
   },
   {
    "duration": 130,
    "start_time": "2023-07-29T11:22:17.678Z"
   },
   {
    "duration": 155,
    "start_time": "2023-07-29T11:26:40.347Z"
   },
   {
    "duration": 4,
    "start_time": "2023-07-29T11:27:56.731Z"
   },
   {
    "duration": 8,
    "start_time": "2023-07-29T11:28:51.893Z"
   },
   {
    "duration": 122,
    "start_time": "2023-07-29T11:28:54.516Z"
   },
   {
    "duration": 6,
    "start_time": "2023-07-29T11:29:07.218Z"
   },
   {
    "duration": 1269,
    "start_time": "2023-07-29T11:29:18.041Z"
   },
   {
    "duration": 4,
    "start_time": "2023-07-29T11:29:19.312Z"
   },
   {
    "duration": 163,
    "start_time": "2023-07-29T11:29:19.317Z"
   },
   {
    "duration": 29,
    "start_time": "2023-07-29T11:29:19.482Z"
   },
   {
    "duration": 13,
    "start_time": "2023-07-29T11:29:19.513Z"
   },
   {
    "duration": 163,
    "start_time": "2023-07-29T11:29:19.527Z"
   },
   {
    "duration": 19,
    "start_time": "2023-07-29T11:29:19.692Z"
   },
   {
    "duration": 8,
    "start_time": "2023-07-29T11:29:19.712Z"
   },
   {
    "duration": 139,
    "start_time": "2023-07-29T11:29:19.721Z"
   },
   {
    "duration": 80,
    "start_time": "2023-07-29T11:29:19.862Z"
   },
   {
    "duration": 54,
    "start_time": "2023-07-29T11:29:19.943Z"
   },
   {
    "duration": 30,
    "start_time": "2023-07-29T11:29:19.999Z"
   },
   {
    "duration": 33,
    "start_time": "2023-07-29T11:29:20.030Z"
   },
   {
    "duration": 19,
    "start_time": "2023-07-29T11:29:20.067Z"
   },
   {
    "duration": 450,
    "start_time": "2023-07-29T11:29:20.088Z"
   },
   {
    "duration": 25,
    "start_time": "2023-07-29T11:29:20.541Z"
   },
   {
    "duration": 46,
    "start_time": "2023-07-29T11:29:20.568Z"
   },
   {
    "duration": 69,
    "start_time": "2023-07-29T11:29:20.617Z"
   },
   {
    "duration": 27,
    "start_time": "2023-07-29T11:29:20.689Z"
   },
   {
    "duration": 77,
    "start_time": "2023-07-29T11:29:20.718Z"
   },
   {
    "duration": 4,
    "start_time": "2023-07-29T11:29:20.796Z"
   },
   {
    "duration": 84,
    "start_time": "2023-07-29T11:29:20.802Z"
   },
   {
    "duration": 4,
    "start_time": "2023-07-29T11:29:20.888Z"
   },
   {
    "duration": 39,
    "start_time": "2023-07-29T11:29:20.893Z"
   },
   {
    "duration": 89,
    "start_time": "2023-07-29T11:29:20.933Z"
   },
   {
    "duration": 7,
    "start_time": "2023-07-29T11:29:21.024Z"
   },
   {
    "duration": 129,
    "start_time": "2023-07-29T11:29:21.032Z"
   },
   {
    "duration": 120,
    "start_time": "2023-07-29T11:29:21.163Z"
   },
   {
    "duration": 107,
    "start_time": "2023-07-29T11:29:21.284Z"
   },
   {
    "duration": 154,
    "start_time": "2023-07-29T11:29:21.393Z"
   },
   {
    "duration": 167,
    "start_time": "2023-07-29T11:31:27.032Z"
   },
   {
    "duration": 139,
    "start_time": "2023-07-29T11:31:38.210Z"
   },
   {
    "duration": 151,
    "start_time": "2023-07-29T11:31:52.472Z"
   },
   {
    "duration": 127,
    "start_time": "2023-07-29T12:30:09.251Z"
   },
   {
    "duration": 1176,
    "start_time": "2023-07-29T12:30:17.819Z"
   },
   {
    "duration": 6,
    "start_time": "2023-07-29T12:30:18.997Z"
   },
   {
    "duration": 168,
    "start_time": "2023-07-29T12:30:19.005Z"
   },
   {
    "duration": 28,
    "start_time": "2023-07-29T12:30:19.175Z"
   },
   {
    "duration": 13,
    "start_time": "2023-07-29T12:30:19.204Z"
   },
   {
    "duration": 157,
    "start_time": "2023-07-29T12:30:19.218Z"
   },
   {
    "duration": 18,
    "start_time": "2023-07-29T12:30:19.377Z"
   },
   {
    "duration": 15,
    "start_time": "2023-07-29T12:30:19.397Z"
   },
   {
    "duration": 123,
    "start_time": "2023-07-29T12:30:19.414Z"
   },
   {
    "duration": 88,
    "start_time": "2023-07-29T12:30:19.540Z"
   },
   {
    "duration": 52,
    "start_time": "2023-07-29T12:30:19.630Z"
   },
   {
    "duration": 27,
    "start_time": "2023-07-29T12:30:19.684Z"
   },
   {
    "duration": 12,
    "start_time": "2023-07-29T12:30:19.713Z"
   },
   {
    "duration": 31,
    "start_time": "2023-07-29T12:30:19.726Z"
   },
   {
    "duration": 403,
    "start_time": "2023-07-29T12:30:19.759Z"
   },
   {
    "duration": 13,
    "start_time": "2023-07-29T12:30:20.165Z"
   },
   {
    "duration": 40,
    "start_time": "2023-07-29T12:30:20.180Z"
   },
   {
    "duration": 47,
    "start_time": "2023-07-29T12:30:20.221Z"
   },
   {
    "duration": 25,
    "start_time": "2023-07-29T12:30:20.270Z"
   },
   {
    "duration": 75,
    "start_time": "2023-07-29T12:30:20.296Z"
   },
   {
    "duration": 4,
    "start_time": "2023-07-29T12:30:20.373Z"
   },
   {
    "duration": 80,
    "start_time": "2023-07-29T12:30:20.379Z"
   },
   {
    "duration": 4,
    "start_time": "2023-07-29T12:30:20.461Z"
   },
   {
    "duration": 55,
    "start_time": "2023-07-29T12:30:20.466Z"
   },
   {
    "duration": 68,
    "start_time": "2023-07-29T12:30:20.523Z"
   },
   {
    "duration": 6,
    "start_time": "2023-07-29T12:30:20.593Z"
   },
   {
    "duration": 135,
    "start_time": "2023-07-29T12:30:20.600Z"
   },
   {
    "duration": 107,
    "start_time": "2023-07-29T12:30:20.738Z"
   },
   {
    "duration": 101,
    "start_time": "2023-07-29T12:30:20.847Z"
   },
   {
    "duration": 155,
    "start_time": "2023-07-29T12:30:20.956Z"
   },
   {
    "duration": 61,
    "start_time": "2023-07-29T12:54:54.203Z"
   },
   {
    "duration": 2245,
    "start_time": "2023-07-29T12:56:14.790Z"
   },
   {
    "duration": 61,
    "start_time": "2023-07-29T12:56:31.614Z"
   },
   {
    "duration": 1230,
    "start_time": "2023-07-29T12:56:38.188Z"
   },
   {
    "duration": 5,
    "start_time": "2023-07-29T12:56:39.420Z"
   },
   {
    "duration": 156,
    "start_time": "2023-07-29T12:56:39.426Z"
   },
   {
    "duration": 28,
    "start_time": "2023-07-29T12:56:39.583Z"
   },
   {
    "duration": 13,
    "start_time": "2023-07-29T12:56:39.612Z"
   },
   {
    "duration": 131,
    "start_time": "2023-07-29T12:56:39.626Z"
   },
   {
    "duration": 17,
    "start_time": "2023-07-29T12:56:39.759Z"
   },
   {
    "duration": 20,
    "start_time": "2023-07-29T12:56:39.777Z"
   },
   {
    "duration": 125,
    "start_time": "2023-07-29T12:56:39.799Z"
   },
   {
    "duration": 93,
    "start_time": "2023-07-29T12:56:39.926Z"
   },
   {
    "duration": 49,
    "start_time": "2023-07-29T12:56:40.021Z"
   },
   {
    "duration": 27,
    "start_time": "2023-07-29T12:56:40.071Z"
   },
   {
    "duration": 14,
    "start_time": "2023-07-29T12:56:40.099Z"
   },
   {
    "duration": 38,
    "start_time": "2023-07-29T12:56:40.119Z"
   },
   {
    "duration": 417,
    "start_time": "2023-07-29T12:56:40.159Z"
   },
   {
    "duration": 12,
    "start_time": "2023-07-29T12:56:40.578Z"
   },
   {
    "duration": 32,
    "start_time": "2023-07-29T12:56:40.592Z"
   },
   {
    "duration": 53,
    "start_time": "2023-07-29T12:56:40.626Z"
   },
   {
    "duration": 24,
    "start_time": "2023-07-29T12:56:40.681Z"
   },
   {
    "duration": 70,
    "start_time": "2023-07-29T12:56:40.707Z"
   },
   {
    "duration": 3,
    "start_time": "2023-07-29T12:56:40.779Z"
   },
   {
    "duration": 74,
    "start_time": "2023-07-29T12:56:40.784Z"
   },
   {
    "duration": 5,
    "start_time": "2023-07-29T12:56:40.859Z"
   },
   {
    "duration": 36,
    "start_time": "2023-07-29T12:56:40.865Z"
   },
   {
    "duration": 79,
    "start_time": "2023-07-29T12:56:40.902Z"
   },
   {
    "duration": 6,
    "start_time": "2023-07-29T12:56:40.983Z"
   },
   {
    "duration": 112,
    "start_time": "2023-07-29T12:56:40.990Z"
   },
   {
    "duration": 107,
    "start_time": "2023-07-29T12:56:41.104Z"
   },
   {
    "duration": 109,
    "start_time": "2023-07-29T12:56:41.213Z"
   },
   {
    "duration": 156,
    "start_time": "2023-07-29T12:56:41.323Z"
   },
   {
    "duration": 63,
    "start_time": "2023-07-29T12:57:20.220Z"
   },
   {
    "duration": 101,
    "start_time": "2023-07-29T12:58:34.724Z"
   },
   {
    "duration": 2045,
    "start_time": "2023-07-29T12:58:55.816Z"
   },
   {
    "duration": 1109,
    "start_time": "2023-07-29T12:59:37.177Z"
   },
   {
    "duration": 3,
    "start_time": "2023-07-29T12:59:38.288Z"
   },
   {
    "duration": 160,
    "start_time": "2023-07-29T12:59:38.293Z"
   },
   {
    "duration": 31,
    "start_time": "2023-07-29T12:59:38.455Z"
   },
   {
    "duration": 13,
    "start_time": "2023-07-29T12:59:38.487Z"
   },
   {
    "duration": 149,
    "start_time": "2023-07-29T12:59:38.501Z"
   },
   {
    "duration": 22,
    "start_time": "2023-07-29T12:59:38.651Z"
   },
   {
    "duration": 7,
    "start_time": "2023-07-29T12:59:38.674Z"
   },
   {
    "duration": 127,
    "start_time": "2023-07-29T12:59:38.683Z"
   },
   {
    "duration": 112,
    "start_time": "2023-07-29T12:59:38.813Z"
   },
   {
    "duration": 58,
    "start_time": "2023-07-29T12:59:38.927Z"
   },
   {
    "duration": 31,
    "start_time": "2023-07-29T12:59:38.987Z"
   },
   {
    "duration": 21,
    "start_time": "2023-07-29T12:59:39.020Z"
   },
   {
    "duration": 7,
    "start_time": "2023-07-29T12:59:39.056Z"
   },
   {
    "duration": 425,
    "start_time": "2023-07-29T12:59:39.065Z"
   },
   {
    "duration": 13,
    "start_time": "2023-07-29T12:59:39.491Z"
   },
   {
    "duration": 28,
    "start_time": "2023-07-29T12:59:39.506Z"
   },
   {
    "duration": 49,
    "start_time": "2023-07-29T12:59:39.535Z"
   },
   {
    "duration": 26,
    "start_time": "2023-07-29T12:59:39.585Z"
   },
   {
    "duration": 76,
    "start_time": "2023-07-29T12:59:39.613Z"
   },
   {
    "duration": 3,
    "start_time": "2023-07-29T12:59:39.691Z"
   },
   {
    "duration": 1981,
    "start_time": "2023-07-29T12:59:39.696Z"
   },
   {
    "duration": 0,
    "start_time": "2023-07-29T12:59:41.679Z"
   },
   {
    "duration": 0,
    "start_time": "2023-07-29T12:59:41.680Z"
   },
   {
    "duration": 0,
    "start_time": "2023-07-29T12:59:41.681Z"
   },
   {
    "duration": 0,
    "start_time": "2023-07-29T12:59:41.682Z"
   },
   {
    "duration": 0,
    "start_time": "2023-07-29T12:59:41.683Z"
   },
   {
    "duration": 0,
    "start_time": "2023-07-29T12:59:41.684Z"
   },
   {
    "duration": 0,
    "start_time": "2023-07-29T12:59:41.685Z"
   },
   {
    "duration": 0,
    "start_time": "2023-07-29T12:59:41.686Z"
   },
   {
    "duration": 63,
    "start_time": "2023-07-29T13:00:36.773Z"
   },
   {
    "duration": 1170,
    "start_time": "2023-07-29T13:00:49.990Z"
   },
   {
    "duration": 4,
    "start_time": "2023-07-29T13:00:51.161Z"
   },
   {
    "duration": 161,
    "start_time": "2023-07-29T13:00:51.167Z"
   },
   {
    "duration": 39,
    "start_time": "2023-07-29T13:00:51.329Z"
   },
   {
    "duration": 13,
    "start_time": "2023-07-29T13:00:51.370Z"
   },
   {
    "duration": 133,
    "start_time": "2023-07-29T13:00:51.385Z"
   },
   {
    "duration": 17,
    "start_time": "2023-07-29T13:00:51.519Z"
   },
   {
    "duration": 21,
    "start_time": "2023-07-29T13:00:51.537Z"
   },
   {
    "duration": 114,
    "start_time": "2023-07-29T13:00:51.560Z"
   },
   {
    "duration": 93,
    "start_time": "2023-07-29T13:00:51.676Z"
   },
   {
    "duration": 40,
    "start_time": "2023-07-29T13:00:51.771Z"
   },
   {
    "duration": 27,
    "start_time": "2023-07-29T13:00:51.813Z"
   },
   {
    "duration": 12,
    "start_time": "2023-07-29T13:00:51.857Z"
   },
   {
    "duration": 9,
    "start_time": "2023-07-29T13:00:51.872Z"
   },
   {
    "duration": 402,
    "start_time": "2023-07-29T13:00:51.883Z"
   },
   {
    "duration": 14,
    "start_time": "2023-07-29T13:00:52.287Z"
   },
   {
    "duration": 30,
    "start_time": "2023-07-29T13:00:52.303Z"
   },
   {
    "duration": 52,
    "start_time": "2023-07-29T13:00:52.335Z"
   },
   {
    "duration": 26,
    "start_time": "2023-07-29T13:00:52.389Z"
   },
   {
    "duration": 84,
    "start_time": "2023-07-29T13:00:52.417Z"
   },
   {
    "duration": 3,
    "start_time": "2023-07-29T13:00:52.503Z"
   },
   {
    "duration": 77,
    "start_time": "2023-07-29T13:00:52.508Z"
   },
   {
    "duration": 4,
    "start_time": "2023-07-29T13:00:52.588Z"
   },
   {
    "duration": 49,
    "start_time": "2023-07-29T13:00:52.594Z"
   },
   {
    "duration": 76,
    "start_time": "2023-07-29T13:00:52.645Z"
   },
   {
    "duration": 7,
    "start_time": "2023-07-29T13:00:52.722Z"
   },
   {
    "duration": 126,
    "start_time": "2023-07-29T13:00:52.731Z"
   },
   {
    "duration": 124,
    "start_time": "2023-07-29T13:00:52.858Z"
   },
   {
    "duration": 127,
    "start_time": "2023-07-29T13:00:52.984Z"
   },
   {
    "duration": 180,
    "start_time": "2023-07-29T13:00:53.113Z"
   },
   {
    "duration": 1132,
    "start_time": "2023-07-29T13:16:45.900Z"
   },
   {
    "duration": 3,
    "start_time": "2023-07-29T13:16:47.034Z"
   },
   {
    "duration": 153,
    "start_time": "2023-07-29T13:16:47.039Z"
   },
   {
    "duration": 31,
    "start_time": "2023-07-29T13:16:47.194Z"
   },
   {
    "duration": 33,
    "start_time": "2023-07-29T13:16:47.226Z"
   },
   {
    "duration": 132,
    "start_time": "2023-07-29T13:16:47.260Z"
   },
   {
    "duration": 21,
    "start_time": "2023-07-29T13:16:47.394Z"
   },
   {
    "duration": 9,
    "start_time": "2023-07-29T13:16:47.417Z"
   },
   {
    "duration": 158,
    "start_time": "2023-07-29T13:16:47.428Z"
   },
   {
    "duration": 95,
    "start_time": "2023-07-29T13:16:47.588Z"
   },
   {
    "duration": 41,
    "start_time": "2023-07-29T13:16:47.685Z"
   },
   {
    "duration": 44,
    "start_time": "2023-07-29T13:16:47.727Z"
   },
   {
    "duration": 13,
    "start_time": "2023-07-29T13:16:47.772Z"
   },
   {
    "duration": 6,
    "start_time": "2023-07-29T13:16:47.787Z"
   },
   {
    "duration": 442,
    "start_time": "2023-07-29T13:16:47.795Z"
   },
   {
    "duration": 21,
    "start_time": "2023-07-29T13:16:48.240Z"
   },
   {
    "duration": 30,
    "start_time": "2023-07-29T13:16:48.263Z"
   },
   {
    "duration": 34,
    "start_time": "2023-07-29T13:16:48.295Z"
   },
   {
    "duration": 49,
    "start_time": "2023-07-29T13:16:48.331Z"
   },
   {
    "duration": 79,
    "start_time": "2023-07-29T13:16:48.382Z"
   },
   {
    "duration": 5,
    "start_time": "2023-07-29T13:16:48.463Z"
   },
   {
    "duration": 74,
    "start_time": "2023-07-29T13:16:48.470Z"
   },
   {
    "duration": 14,
    "start_time": "2023-07-29T13:16:48.545Z"
   },
   {
    "duration": 37,
    "start_time": "2023-07-29T13:16:48.560Z"
   },
   {
    "duration": 92,
    "start_time": "2023-07-29T13:16:48.599Z"
   },
   {
    "duration": 6,
    "start_time": "2023-07-29T13:16:48.693Z"
   },
   {
    "duration": 126,
    "start_time": "2023-07-29T13:16:48.701Z"
   },
   {
    "duration": 151,
    "start_time": "2023-07-29T13:16:48.831Z"
   },
   {
    "duration": 132,
    "start_time": "2023-07-29T13:16:48.984Z"
   },
   {
    "duration": 179,
    "start_time": "2023-07-29T13:16:49.118Z"
   },
   {
    "duration": 1442,
    "start_time": "2023-07-30T13:58:36.472Z"
   },
   {
    "duration": 4,
    "start_time": "2023-07-30T13:58:37.915Z"
   },
   {
    "duration": 1022,
    "start_time": "2023-07-30T13:58:37.942Z"
   },
   {
    "duration": 48,
    "start_time": "2023-07-30T13:58:38.967Z"
   },
   {
    "duration": 40,
    "start_time": "2023-07-30T13:58:39.017Z"
   },
   {
    "duration": 174,
    "start_time": "2023-07-30T13:58:39.062Z"
   },
   {
    "duration": 31,
    "start_time": "2023-07-30T13:58:39.238Z"
   },
   {
    "duration": 45,
    "start_time": "2023-07-30T13:58:39.271Z"
   },
   {
    "duration": 219,
    "start_time": "2023-07-30T13:58:39.318Z"
   },
   {
    "duration": 106,
    "start_time": "2023-07-30T13:58:39.541Z"
   },
   {
    "duration": 49,
    "start_time": "2023-07-30T13:58:39.659Z"
   },
   {
    "duration": 56,
    "start_time": "2023-07-30T13:58:39.709Z"
   },
   {
    "duration": 45,
    "start_time": "2023-07-30T13:58:39.766Z"
   },
   {
    "duration": 63,
    "start_time": "2023-07-30T13:58:39.812Z"
   },
   {
    "duration": 31,
    "start_time": "2023-07-30T13:58:39.877Z"
   },
   {
    "duration": 6,
    "start_time": "2023-07-30T13:58:39.909Z"
   },
   {
    "duration": 573,
    "start_time": "2023-07-30T13:58:39.916Z"
   },
   {
    "duration": 19,
    "start_time": "2023-07-30T13:58:40.492Z"
   },
   {
    "duration": 71,
    "start_time": "2023-07-30T13:58:40.512Z"
   },
   {
    "duration": 70,
    "start_time": "2023-07-30T13:58:40.587Z"
   },
   {
    "duration": 51,
    "start_time": "2023-07-30T13:58:40.662Z"
   },
   {
    "duration": 88,
    "start_time": "2023-07-30T13:58:40.715Z"
   },
   {
    "duration": 7,
    "start_time": "2023-07-30T13:58:40.804Z"
   },
   {
    "duration": 97,
    "start_time": "2023-07-30T13:58:40.813Z"
   },
   {
    "duration": 4,
    "start_time": "2023-07-30T13:58:40.912Z"
   },
   {
    "duration": 103,
    "start_time": "2023-07-30T13:58:40.918Z"
   },
   {
    "duration": 129,
    "start_time": "2023-07-30T13:58:41.028Z"
   },
   {
    "duration": 33,
    "start_time": "2023-07-30T13:58:41.167Z"
   },
   {
    "duration": 171,
    "start_time": "2023-07-30T13:58:41.202Z"
   },
   {
    "duration": 166,
    "start_time": "2023-07-30T13:58:41.375Z"
   },
   {
    "duration": 131,
    "start_time": "2023-07-30T13:58:41.542Z"
   },
   {
    "duration": 198,
    "start_time": "2023-07-30T13:58:41.675Z"
   },
   {
    "duration": 56,
    "start_time": "2023-07-30T14:08:29.548Z"
   },
   {
    "duration": 1174,
    "start_time": "2023-07-30T14:08:36.520Z"
   },
   {
    "duration": 4,
    "start_time": "2023-07-30T14:08:37.696Z"
   },
   {
    "duration": 293,
    "start_time": "2023-07-30T14:08:37.702Z"
   },
   {
    "duration": 56,
    "start_time": "2023-07-30T14:08:37.996Z"
   },
   {
    "duration": 31,
    "start_time": "2023-07-30T14:08:38.054Z"
   },
   {
    "duration": 216,
    "start_time": "2023-07-30T14:08:38.087Z"
   },
   {
    "duration": 44,
    "start_time": "2023-07-30T14:08:38.305Z"
   },
   {
    "duration": 42,
    "start_time": "2023-07-30T14:08:38.351Z"
   },
   {
    "duration": 186,
    "start_time": "2023-07-30T14:08:38.394Z"
   },
   {
    "duration": 110,
    "start_time": "2023-07-30T14:08:38.583Z"
   },
   {
    "duration": 62,
    "start_time": "2023-07-30T14:08:38.699Z"
   },
   {
    "duration": 40,
    "start_time": "2023-07-30T14:08:38.763Z"
   },
   {
    "duration": 3,
    "start_time": "2023-07-30T14:08:38.804Z"
   },
   {
    "duration": 9,
    "start_time": "2023-07-30T14:08:38.809Z"
   },
   {
    "duration": 61,
    "start_time": "2023-07-30T14:08:38.830Z"
   },
   {
    "duration": 16,
    "start_time": "2023-07-30T14:08:38.894Z"
   },
   {
    "duration": 495,
    "start_time": "2023-07-30T14:08:38.912Z"
   },
   {
    "duration": 17,
    "start_time": "2023-07-30T14:08:39.408Z"
   },
   {
    "duration": 103,
    "start_time": "2023-07-30T14:08:39.438Z"
   },
   {
    "duration": 53,
    "start_time": "2023-07-30T14:08:39.550Z"
   },
   {
    "duration": 72,
    "start_time": "2023-07-30T14:08:39.605Z"
   },
   {
    "duration": 96,
    "start_time": "2023-07-30T14:08:39.682Z"
   },
   {
    "duration": 3,
    "start_time": "2023-07-30T14:08:39.782Z"
   },
   {
    "duration": 112,
    "start_time": "2023-07-30T14:08:39.787Z"
   },
   {
    "duration": 4,
    "start_time": "2023-07-30T14:08:39.901Z"
   },
   {
    "duration": 66,
    "start_time": "2023-07-30T14:08:39.906Z"
   },
   {
    "duration": 76,
    "start_time": "2023-07-30T14:08:39.973Z"
   },
   {
    "duration": 7,
    "start_time": "2023-07-30T14:08:40.053Z"
   },
   {
    "duration": 213,
    "start_time": "2023-07-30T14:08:40.061Z"
   },
   {
    "duration": 122,
    "start_time": "2023-07-30T14:08:40.276Z"
   },
   {
    "duration": 122,
    "start_time": "2023-07-30T14:08:40.399Z"
   },
   {
    "duration": 180,
    "start_time": "2023-07-30T14:08:40.523Z"
   },
   {
    "duration": 48,
    "start_time": "2023-07-31T05:04:02.647Z"
   },
   {
    "duration": 1358,
    "start_time": "2023-07-31T05:04:11.951Z"
   },
   {
    "duration": 14,
    "start_time": "2023-07-31T05:04:13.312Z"
   },
   {
    "duration": 601,
    "start_time": "2023-07-31T05:04:13.335Z"
   },
   {
    "duration": 33,
    "start_time": "2023-07-31T05:04:13.938Z"
   },
   {
    "duration": 15,
    "start_time": "2023-07-31T05:04:13.973Z"
   },
   {
    "duration": 167,
    "start_time": "2023-07-31T05:04:13.990Z"
   },
   {
    "duration": 21,
    "start_time": "2023-07-31T05:04:14.159Z"
   },
   {
    "duration": 30,
    "start_time": "2023-07-31T05:04:14.182Z"
   },
   {
    "duration": 162,
    "start_time": "2023-07-31T05:04:14.214Z"
   },
   {
    "duration": 93,
    "start_time": "2023-07-31T05:04:14.380Z"
   },
   {
    "duration": 42,
    "start_time": "2023-07-31T05:04:14.475Z"
   },
   {
    "duration": 28,
    "start_time": "2023-07-31T05:04:14.539Z"
   },
   {
    "duration": 7,
    "start_time": "2023-07-31T05:04:14.569Z"
   },
   {
    "duration": 25,
    "start_time": "2023-07-31T05:04:14.577Z"
   },
   {
    "duration": 35,
    "start_time": "2023-07-31T05:04:14.604Z"
   },
   {
    "duration": 39,
    "start_time": "2023-07-31T05:04:14.641Z"
   },
   {
    "duration": 11,
    "start_time": "2023-07-31T05:04:14.682Z"
   },
   {
    "duration": 508,
    "start_time": "2023-07-31T05:04:14.695Z"
   },
   {
    "duration": 31,
    "start_time": "2023-07-31T05:04:15.206Z"
   },
   {
    "duration": 54,
    "start_time": "2023-07-31T05:04:15.239Z"
   },
   {
    "duration": 38,
    "start_time": "2023-07-31T05:04:15.295Z"
   },
   {
    "duration": 28,
    "start_time": "2023-07-31T05:04:15.335Z"
   },
   {
    "duration": 114,
    "start_time": "2023-07-31T05:04:15.364Z"
   },
   {
    "duration": 4,
    "start_time": "2023-07-31T05:04:15.480Z"
   },
   {
    "duration": 128,
    "start_time": "2023-07-31T05:04:15.486Z"
   },
   {
    "duration": 20,
    "start_time": "2023-07-31T05:04:15.615Z"
   },
   {
    "duration": 72,
    "start_time": "2023-07-31T05:04:15.637Z"
   },
   {
    "duration": 83,
    "start_time": "2023-07-31T05:04:15.713Z"
   },
   {
    "duration": 6,
    "start_time": "2023-07-31T05:04:15.798Z"
   },
   {
    "duration": 146,
    "start_time": "2023-07-31T05:04:15.806Z"
   },
   {
    "duration": 111,
    "start_time": "2023-07-31T05:04:15.954Z"
   },
   {
    "duration": 118,
    "start_time": "2023-07-31T05:04:16.066Z"
   },
   {
    "duration": 174,
    "start_time": "2023-07-31T05:04:16.185Z"
   },
   {
    "duration": 25,
    "start_time": "2023-07-31T05:05:01.667Z"
   },
   {
    "duration": 141,
    "start_time": "2023-07-31T05:10:45.635Z"
   },
   {
    "duration": 237,
    "start_time": "2023-07-31T05:11:02.335Z"
   },
   {
    "duration": 286,
    "start_time": "2023-07-31T05:11:15.187Z"
   },
   {
    "duration": 308,
    "start_time": "2023-07-31T05:11:35.254Z"
   },
   {
    "duration": 280,
    "start_time": "2023-07-31T05:12:35.947Z"
   },
   {
    "duration": 48,
    "start_time": "2023-07-31T05:13:27.947Z"
   },
   {
    "duration": 53,
    "start_time": "2023-07-31T05:13:59.440Z"
   },
   {
    "duration": 52,
    "start_time": "2023-07-31T05:14:15.957Z"
   },
   {
    "duration": 6,
    "start_time": "2023-07-31T05:14:22.509Z"
   },
   {
    "duration": 60,
    "start_time": "2023-07-31T05:14:33.175Z"
   },
   {
    "duration": 31,
    "start_time": "2023-07-31T05:14:41.451Z"
   },
   {
    "duration": 13,
    "start_time": "2023-07-31T05:15:08.464Z"
   },
   {
    "duration": 50,
    "start_time": "2023-07-31T05:16:00.900Z"
   },
   {
    "duration": 207,
    "start_time": "2023-07-31T05:16:06.476Z"
   },
   {
    "duration": 321,
    "start_time": "2023-07-31T05:17:06.168Z"
   },
   {
    "duration": 207,
    "start_time": "2023-07-31T05:17:30.060Z"
   },
   {
    "duration": 282,
    "start_time": "2023-07-31T05:18:19.569Z"
   },
   {
    "duration": 282,
    "start_time": "2023-07-31T05:19:14.805Z"
   },
   {
    "duration": 50,
    "start_time": "2023-07-31T16:42:13.247Z"
   },
   {
    "duration": 1391,
    "start_time": "2023-07-31T16:42:23.091Z"
   },
   {
    "duration": 4,
    "start_time": "2023-07-31T16:42:24.484Z"
   },
   {
    "duration": 533,
    "start_time": "2023-07-31T16:42:24.490Z"
   },
   {
    "duration": 32,
    "start_time": "2023-07-31T16:42:25.025Z"
   },
   {
    "duration": 16,
    "start_time": "2023-07-31T16:42:25.059Z"
   },
   {
    "duration": 137,
    "start_time": "2023-07-31T16:42:25.077Z"
   },
   {
    "duration": 19,
    "start_time": "2023-07-31T16:42:25.216Z"
   },
   {
    "duration": 36,
    "start_time": "2023-07-31T16:42:25.236Z"
   },
   {
    "duration": 130,
    "start_time": "2023-07-31T16:42:25.273Z"
   },
   {
    "duration": 95,
    "start_time": "2023-07-31T16:42:25.406Z"
   },
   {
    "duration": 44,
    "start_time": "2023-07-31T16:42:25.502Z"
   },
   {
    "duration": 41,
    "start_time": "2023-07-31T16:42:25.548Z"
   },
   {
    "duration": 7,
    "start_time": "2023-07-31T16:42:25.591Z"
   },
   {
    "duration": 21,
    "start_time": "2023-07-31T16:42:25.600Z"
   },
   {
    "duration": 16,
    "start_time": "2023-07-31T16:42:25.623Z"
   },
   {
    "duration": 468,
    "start_time": "2023-07-31T16:42:25.641Z"
   },
   {
    "duration": 8,
    "start_time": "2023-07-31T16:42:26.111Z"
   },
   {
    "duration": 10,
    "start_time": "2023-07-31T16:42:26.121Z"
   },
   {
    "duration": 501,
    "start_time": "2023-07-31T16:42:26.133Z"
   },
   {
    "duration": 17,
    "start_time": "2023-07-31T16:42:26.636Z"
   },
   {
    "duration": 52,
    "start_time": "2023-07-31T16:42:26.655Z"
   },
   {
    "duration": 40,
    "start_time": "2023-07-31T16:42:26.709Z"
   },
   {
    "duration": 46,
    "start_time": "2023-07-31T16:42:26.751Z"
   },
   {
    "duration": 76,
    "start_time": "2023-07-31T16:42:26.798Z"
   },
   {
    "duration": 4,
    "start_time": "2023-07-31T16:42:26.876Z"
   },
   {
    "duration": 88,
    "start_time": "2023-07-31T16:42:26.882Z"
   },
   {
    "duration": 4,
    "start_time": "2023-07-31T16:42:26.973Z"
   },
   {
    "duration": 47,
    "start_time": "2023-07-31T16:42:26.980Z"
   },
   {
    "duration": 74,
    "start_time": "2023-07-31T16:42:27.029Z"
   },
   {
    "duration": 5,
    "start_time": "2023-07-31T16:42:27.105Z"
   },
   {
    "duration": 117,
    "start_time": "2023-07-31T16:42:27.112Z"
   },
   {
    "duration": 130,
    "start_time": "2023-07-31T16:42:27.231Z"
   },
   {
    "duration": 136,
    "start_time": "2023-07-31T16:42:27.363Z"
   },
   {
    "duration": 174,
    "start_time": "2023-07-31T16:42:27.501Z"
   },
   {
    "duration": 206,
    "start_time": "2023-07-31T16:44:39.787Z"
   },
   {
    "duration": 277,
    "start_time": "2023-07-31T16:44:50.394Z"
   },
   {
    "duration": 244,
    "start_time": "2023-07-31T16:45:01.648Z"
   },
   {
    "duration": 252,
    "start_time": "2023-07-31T16:46:08.353Z"
   },
   {
    "duration": 305,
    "start_time": "2023-07-31T16:52:18.194Z"
   },
   {
    "duration": 248,
    "start_time": "2023-07-31T16:52:23.112Z"
   },
   {
    "duration": 349,
    "start_time": "2023-07-31T17:00:08.254Z"
   },
   {
    "duration": 6,
    "start_time": "2023-07-31T17:16:18.100Z"
   },
   {
    "duration": 4,
    "start_time": "2023-07-31T17:16:23.965Z"
   },
   {
    "duration": 1411,
    "start_time": "2023-07-31T17:16:33.605Z"
   },
   {
    "duration": 5,
    "start_time": "2023-07-31T17:16:35.018Z"
   },
   {
    "duration": 202,
    "start_time": "2023-07-31T17:16:35.025Z"
   },
   {
    "duration": 31,
    "start_time": "2023-07-31T17:16:35.230Z"
   },
   {
    "duration": 23,
    "start_time": "2023-07-31T17:16:35.262Z"
   },
   {
    "duration": 146,
    "start_time": "2023-07-31T17:16:35.286Z"
   },
   {
    "duration": 19,
    "start_time": "2023-07-31T17:16:35.434Z"
   },
   {
    "duration": 31,
    "start_time": "2023-07-31T17:16:35.455Z"
   },
   {
    "duration": 122,
    "start_time": "2023-07-31T17:16:35.489Z"
   },
   {
    "duration": 98,
    "start_time": "2023-07-31T17:16:35.614Z"
   },
   {
    "duration": 57,
    "start_time": "2023-07-31T17:16:35.714Z"
   },
   {
    "duration": 33,
    "start_time": "2023-07-31T17:16:35.773Z"
   },
   {
    "duration": 13,
    "start_time": "2023-07-31T17:16:35.808Z"
   },
   {
    "duration": 35,
    "start_time": "2023-07-31T17:16:35.823Z"
   },
   {
    "duration": 62,
    "start_time": "2023-07-31T17:16:35.860Z"
   },
   {
    "duration": 311,
    "start_time": "2023-07-31T17:16:35.924Z"
   },
   {
    "duration": 7,
    "start_time": "2023-07-31T17:16:36.237Z"
   },
   {
    "duration": 613,
    "start_time": "2023-07-31T17:16:36.246Z"
   },
   {
    "duration": 19,
    "start_time": "2023-07-31T17:16:36.862Z"
   },
   {
    "duration": 56,
    "start_time": "2023-07-31T17:16:36.883Z"
   },
   {
    "duration": 48,
    "start_time": "2023-07-31T17:16:36.941Z"
   },
   {
    "duration": 30,
    "start_time": "2023-07-31T17:16:36.991Z"
   },
   {
    "duration": 86,
    "start_time": "2023-07-31T17:16:37.023Z"
   },
   {
    "duration": 3004,
    "start_time": "2023-07-31T17:16:37.111Z"
   },
   {
    "duration": 0,
    "start_time": "2023-07-31T17:16:40.118Z"
   },
   {
    "duration": 0,
    "start_time": "2023-07-31T17:16:40.119Z"
   },
   {
    "duration": 0,
    "start_time": "2023-07-31T17:16:40.119Z"
   },
   {
    "duration": 0,
    "start_time": "2023-07-31T17:16:40.121Z"
   },
   {
    "duration": 0,
    "start_time": "2023-07-31T17:16:40.122Z"
   },
   {
    "duration": 0,
    "start_time": "2023-07-31T17:16:40.123Z"
   },
   {
    "duration": 0,
    "start_time": "2023-07-31T17:16:40.124Z"
   },
   {
    "duration": 0,
    "start_time": "2023-07-31T17:16:40.125Z"
   },
   {
    "duration": 0,
    "start_time": "2023-07-31T17:16:40.126Z"
   },
   {
    "duration": 0,
    "start_time": "2023-07-31T17:16:40.127Z"
   },
   {
    "duration": 7,
    "start_time": "2023-07-31T17:19:06.563Z"
   },
   {
    "duration": 1515,
    "start_time": "2023-07-31T17:19:16.201Z"
   },
   {
    "duration": 5,
    "start_time": "2023-07-31T17:19:17.719Z"
   },
   {
    "duration": 265,
    "start_time": "2023-07-31T17:19:17.726Z"
   },
   {
    "duration": 45,
    "start_time": "2023-07-31T17:19:17.993Z"
   },
   {
    "duration": 36,
    "start_time": "2023-07-31T17:19:18.041Z"
   },
   {
    "duration": 215,
    "start_time": "2023-07-31T17:19:18.079Z"
   },
   {
    "duration": 34,
    "start_time": "2023-07-31T17:19:18.299Z"
   },
   {
    "duration": 28,
    "start_time": "2023-07-31T17:19:18.336Z"
   },
   {
    "duration": 190,
    "start_time": "2023-07-31T17:19:18.367Z"
   },
   {
    "duration": 150,
    "start_time": "2023-07-31T17:19:18.559Z"
   },
   {
    "duration": 66,
    "start_time": "2023-07-31T17:19:18.711Z"
   },
   {
    "duration": 48,
    "start_time": "2023-07-31T17:19:18.779Z"
   },
   {
    "duration": 5,
    "start_time": "2023-07-31T17:19:18.829Z"
   },
   {
    "duration": 36,
    "start_time": "2023-07-31T17:19:18.838Z"
   },
   {
    "duration": 34,
    "start_time": "2023-07-31T17:19:18.876Z"
   },
   {
    "duration": 373,
    "start_time": "2023-07-31T17:19:18.912Z"
   },
   {
    "duration": 13,
    "start_time": "2023-07-31T17:19:19.287Z"
   },
   {
    "duration": 673,
    "start_time": "2023-07-31T17:19:19.305Z"
   },
   {
    "duration": 16,
    "start_time": "2023-07-31T17:19:19.983Z"
   },
   {
    "duration": 60,
    "start_time": "2023-07-31T17:19:20.001Z"
   },
   {
    "duration": 57,
    "start_time": "2023-07-31T17:19:20.064Z"
   },
   {
    "duration": 52,
    "start_time": "2023-07-31T17:19:20.123Z"
   },
   {
    "duration": 96,
    "start_time": "2023-07-31T17:19:20.178Z"
   },
   {
    "duration": 9,
    "start_time": "2023-07-31T17:19:20.276Z"
   },
   {
    "duration": 22,
    "start_time": "2023-07-31T17:19:20.287Z"
   },
   {
    "duration": 137,
    "start_time": "2023-07-31T17:19:20.311Z"
   },
   {
    "duration": 46,
    "start_time": "2023-07-31T17:19:20.451Z"
   },
   {
    "duration": 108,
    "start_time": "2023-07-31T17:19:20.502Z"
   },
   {
    "duration": 129,
    "start_time": "2023-07-31T17:19:20.613Z"
   },
   {
    "duration": 9,
    "start_time": "2023-07-31T17:19:20.745Z"
   },
   {
    "duration": 174,
    "start_time": "2023-07-31T17:19:20.756Z"
   },
   {
    "duration": 172,
    "start_time": "2023-07-31T17:19:20.934Z"
   },
   {
    "duration": 174,
    "start_time": "2023-07-31T17:19:21.108Z"
   },
   {
    "duration": 244,
    "start_time": "2023-07-31T17:19:21.285Z"
   },
   {
    "duration": 14,
    "start_time": "2023-07-31T17:19:45.883Z"
   },
   {
    "duration": 19,
    "start_time": "2023-07-31T17:20:16.976Z"
   },
   {
    "duration": 12,
    "start_time": "2023-07-31T17:20:54.004Z"
   },
   {
    "duration": 15,
    "start_time": "2023-07-31T17:21:03.143Z"
   },
   {
    "duration": 11,
    "start_time": "2023-07-31T17:21:22.270Z"
   },
   {
    "duration": 14,
    "start_time": "2023-07-31T17:21:26.281Z"
   },
   {
    "duration": 10,
    "start_time": "2023-07-31T17:21:30.061Z"
   },
   {
    "duration": 1221,
    "start_time": "2023-07-31T17:21:35.602Z"
   },
   {
    "duration": 4,
    "start_time": "2023-07-31T17:21:36.826Z"
   },
   {
    "duration": 193,
    "start_time": "2023-07-31T17:21:36.832Z"
   },
   {
    "duration": 33,
    "start_time": "2023-07-31T17:21:37.027Z"
   },
   {
    "duration": 23,
    "start_time": "2023-07-31T17:21:37.062Z"
   },
   {
    "duration": 139,
    "start_time": "2023-07-31T17:21:37.087Z"
   },
   {
    "duration": 24,
    "start_time": "2023-07-31T17:21:37.228Z"
   },
   {
    "duration": 20,
    "start_time": "2023-07-31T17:21:37.254Z"
   },
   {
    "duration": 133,
    "start_time": "2023-07-31T17:21:37.276Z"
   },
   {
    "duration": 111,
    "start_time": "2023-07-31T17:21:37.412Z"
   },
   {
    "duration": 55,
    "start_time": "2023-07-31T17:21:37.525Z"
   },
   {
    "duration": 33,
    "start_time": "2023-07-31T17:21:37.582Z"
   },
   {
    "duration": 3,
    "start_time": "2023-07-31T17:21:37.617Z"
   },
   {
    "duration": 10,
    "start_time": "2023-07-31T17:21:37.622Z"
   },
   {
    "duration": 37,
    "start_time": "2023-07-31T17:21:37.634Z"
   },
   {
    "duration": 281,
    "start_time": "2023-07-31T17:21:37.673Z"
   },
   {
    "duration": 16,
    "start_time": "2023-07-31T17:21:37.956Z"
   },
   {
    "duration": 466,
    "start_time": "2023-07-31T17:21:37.974Z"
   },
   {
    "duration": 15,
    "start_time": "2023-07-31T17:21:38.441Z"
   },
   {
    "duration": 35,
    "start_time": "2023-07-31T17:21:38.471Z"
   },
   {
    "duration": 65,
    "start_time": "2023-07-31T17:21:38.509Z"
   },
   {
    "duration": 35,
    "start_time": "2023-07-31T17:21:38.576Z"
   },
   {
    "duration": 99,
    "start_time": "2023-07-31T17:21:38.613Z"
   },
   {
    "duration": 12,
    "start_time": "2023-07-31T17:21:38.714Z"
   },
   {
    "duration": 60,
    "start_time": "2023-07-31T17:21:38.728Z"
   },
   {
    "duration": 164,
    "start_time": "2023-07-31T17:21:38.790Z"
   },
   {
    "duration": 4,
    "start_time": "2023-07-31T17:21:38.956Z"
   },
   {
    "duration": 86,
    "start_time": "2023-07-31T17:21:38.964Z"
   },
   {
    "duration": 100,
    "start_time": "2023-07-31T17:21:39.052Z"
   },
   {
    "duration": 6,
    "start_time": "2023-07-31T17:21:39.154Z"
   },
   {
    "duration": 178,
    "start_time": "2023-07-31T17:21:39.161Z"
   },
   {
    "duration": 135,
    "start_time": "2023-07-31T17:21:39.340Z"
   },
   {
    "duration": 134,
    "start_time": "2023-07-31T17:21:39.477Z"
   },
   {
    "duration": 176,
    "start_time": "2023-07-31T17:21:39.612Z"
   },
   {
    "duration": 10,
    "start_time": "2023-07-31T17:22:53.657Z"
   },
   {
    "duration": 275,
    "start_time": "2023-07-31T17:23:52.303Z"
   },
   {
    "duration": 166,
    "start_time": "2023-07-31T17:31:15.852Z"
   },
   {
    "duration": 26,
    "start_time": "2023-07-31T17:32:21.760Z"
   },
   {
    "duration": 1393,
    "start_time": "2023-07-31T17:32:29.959Z"
   },
   {
    "duration": 4,
    "start_time": "2023-07-31T17:32:31.354Z"
   },
   {
    "duration": 227,
    "start_time": "2023-07-31T17:32:31.360Z"
   },
   {
    "duration": 33,
    "start_time": "2023-07-31T17:32:31.590Z"
   },
   {
    "duration": 33,
    "start_time": "2023-07-31T17:32:31.625Z"
   },
   {
    "duration": 148,
    "start_time": "2023-07-31T17:32:31.661Z"
   },
   {
    "duration": 19,
    "start_time": "2023-07-31T17:32:31.812Z"
   },
   {
    "duration": 16,
    "start_time": "2023-07-31T17:32:31.833Z"
   },
   {
    "duration": 181,
    "start_time": "2023-07-31T17:32:31.851Z"
   },
   {
    "duration": 100,
    "start_time": "2023-07-31T17:32:32.035Z"
   },
   {
    "duration": 55,
    "start_time": "2023-07-31T17:32:32.137Z"
   },
   {
    "duration": 31,
    "start_time": "2023-07-31T17:32:32.194Z"
   },
   {
    "duration": 4,
    "start_time": "2023-07-31T17:32:32.226Z"
   },
   {
    "duration": 26,
    "start_time": "2023-07-31T17:32:32.232Z"
   },
   {
    "duration": 38,
    "start_time": "2023-07-31T17:32:32.260Z"
   },
   {
    "duration": 320,
    "start_time": "2023-07-31T17:32:32.300Z"
   },
   {
    "duration": 9,
    "start_time": "2023-07-31T17:32:32.622Z"
   },
   {
    "duration": 581,
    "start_time": "2023-07-31T17:32:32.632Z"
   },
   {
    "duration": 14,
    "start_time": "2023-07-31T17:32:33.216Z"
   },
   {
    "duration": 56,
    "start_time": "2023-07-31T17:32:33.232Z"
   },
   {
    "duration": 37,
    "start_time": "2023-07-31T17:32:33.290Z"
   },
   {
    "duration": 25,
    "start_time": "2023-07-31T17:32:33.329Z"
   },
   {
    "duration": 81,
    "start_time": "2023-07-31T17:32:33.356Z"
   },
   {
    "duration": 4,
    "start_time": "2023-07-31T17:32:33.438Z"
   },
   {
    "duration": 89,
    "start_time": "2023-07-31T17:32:33.444Z"
   },
   {
    "duration": 4,
    "start_time": "2023-07-31T17:32:33.535Z"
   },
   {
    "duration": 126,
    "start_time": "2023-07-31T17:32:33.541Z"
   },
   {
    "duration": 0,
    "start_time": "2023-07-31T17:32:33.669Z"
   },
   {
    "duration": 0,
    "start_time": "2023-07-31T17:32:33.674Z"
   },
   {
    "duration": 0,
    "start_time": "2023-07-31T17:32:33.677Z"
   },
   {
    "duration": 0,
    "start_time": "2023-07-31T17:32:33.679Z"
   },
   {
    "duration": 0,
    "start_time": "2023-07-31T17:32:33.685Z"
   },
   {
    "duration": 0,
    "start_time": "2023-07-31T17:32:33.688Z"
   },
   {
    "duration": 0,
    "start_time": "2023-07-31T17:32:33.689Z"
   },
   {
    "duration": 28,
    "start_time": "2023-07-31T17:34:18.610Z"
   },
   {
    "duration": 0,
    "start_time": "2023-07-31T17:34:41.518Z"
   },
   {
    "duration": 1405,
    "start_time": "2023-07-31T17:34:53.054Z"
   },
   {
    "duration": 5,
    "start_time": "2023-07-31T17:34:54.461Z"
   },
   {
    "duration": 241,
    "start_time": "2023-07-31T17:34:54.474Z"
   },
   {
    "duration": 31,
    "start_time": "2023-07-31T17:34:54.717Z"
   },
   {
    "duration": 34,
    "start_time": "2023-07-31T17:34:54.750Z"
   },
   {
    "duration": 158,
    "start_time": "2023-07-31T17:34:54.787Z"
   },
   {
    "duration": 31,
    "start_time": "2023-07-31T17:34:54.947Z"
   },
   {
    "duration": 8,
    "start_time": "2023-07-31T17:34:54.983Z"
   },
   {
    "duration": 135,
    "start_time": "2023-07-31T17:34:54.993Z"
   },
   {
    "duration": 96,
    "start_time": "2023-07-31T17:34:55.130Z"
   },
   {
    "duration": 56,
    "start_time": "2023-07-31T17:34:55.227Z"
   },
   {
    "duration": 42,
    "start_time": "2023-07-31T17:34:55.288Z"
   },
   {
    "duration": 3,
    "start_time": "2023-07-31T17:34:55.332Z"
   },
   {
    "duration": 31,
    "start_time": "2023-07-31T17:34:55.338Z"
   },
   {
    "duration": 36,
    "start_time": "2023-07-31T17:34:55.371Z"
   },
   {
    "duration": 280,
    "start_time": "2023-07-31T17:34:55.409Z"
   },
   {
    "duration": 8,
    "start_time": "2023-07-31T17:34:55.691Z"
   },
   {
    "duration": 490,
    "start_time": "2023-07-31T17:34:55.700Z"
   },
   {
    "duration": 13,
    "start_time": "2023-07-31T17:34:56.192Z"
   },
   {
    "duration": 33,
    "start_time": "2023-07-31T17:34:56.206Z"
   },
   {
    "duration": 63,
    "start_time": "2023-07-31T17:34:56.241Z"
   },
   {
    "duration": 35,
    "start_time": "2023-07-31T17:34:56.306Z"
   },
   {
    "duration": 101,
    "start_time": "2023-07-31T17:34:56.343Z"
   },
   {
    "duration": 4,
    "start_time": "2023-07-31T17:34:56.446Z"
   },
   {
    "duration": 136,
    "start_time": "2023-07-31T17:34:56.452Z"
   },
   {
    "duration": 5,
    "start_time": "2023-07-31T17:34:56.591Z"
   },
   {
    "duration": 3491,
    "start_time": "2023-07-31T17:34:56.598Z"
   },
   {
    "duration": 0,
    "start_time": "2023-07-31T17:35:00.092Z"
   },
   {
    "duration": 0,
    "start_time": "2023-07-31T17:35:00.093Z"
   },
   {
    "duration": 0,
    "start_time": "2023-07-31T17:35:00.094Z"
   },
   {
    "duration": 0,
    "start_time": "2023-07-31T17:35:00.095Z"
   },
   {
    "duration": 0,
    "start_time": "2023-07-31T17:35:00.096Z"
   },
   {
    "duration": 0,
    "start_time": "2023-07-31T17:35:00.098Z"
   },
   {
    "duration": 0,
    "start_time": "2023-07-31T17:35:00.099Z"
   },
   {
    "duration": 164,
    "start_time": "2023-07-31T17:35:33.350Z"
   },
   {
    "duration": 10,
    "start_time": "2023-07-31T17:38:17.412Z"
   },
   {
    "duration": 1369,
    "start_time": "2023-07-31T17:42:36.575Z"
   },
   {
    "duration": 4,
    "start_time": "2023-07-31T17:42:37.946Z"
   },
   {
    "duration": 217,
    "start_time": "2023-07-31T17:42:37.952Z"
   },
   {
    "duration": 39,
    "start_time": "2023-07-31T17:42:38.175Z"
   },
   {
    "duration": 15,
    "start_time": "2023-07-31T17:42:38.216Z"
   },
   {
    "duration": 163,
    "start_time": "2023-07-31T17:42:38.233Z"
   },
   {
    "duration": 21,
    "start_time": "2023-07-31T17:42:38.398Z"
   },
   {
    "duration": 8,
    "start_time": "2023-07-31T17:42:38.420Z"
   },
   {
    "duration": 156,
    "start_time": "2023-07-31T17:42:38.429Z"
   },
   {
    "duration": 93,
    "start_time": "2023-07-31T17:42:38.593Z"
   },
   {
    "duration": 41,
    "start_time": "2023-07-31T17:42:38.688Z"
   },
   {
    "duration": 46,
    "start_time": "2023-07-31T17:42:38.731Z"
   },
   {
    "duration": 4,
    "start_time": "2023-07-31T17:42:38.785Z"
   },
   {
    "duration": 18,
    "start_time": "2023-07-31T17:42:38.791Z"
   },
   {
    "duration": 12,
    "start_time": "2023-07-31T17:42:38.810Z"
   },
   {
    "duration": 295,
    "start_time": "2023-07-31T17:42:38.824Z"
   },
   {
    "duration": 7,
    "start_time": "2023-07-31T17:42:39.120Z"
   },
   {
    "duration": 484,
    "start_time": "2023-07-31T17:42:39.128Z"
   },
   {
    "duration": 14,
    "start_time": "2023-07-31T17:42:39.614Z"
   },
   {
    "duration": 89,
    "start_time": "2023-07-31T17:42:39.630Z"
   },
   {
    "duration": 37,
    "start_time": "2023-07-31T17:42:39.722Z"
   },
   {
    "duration": 36,
    "start_time": "2023-07-31T17:42:39.761Z"
   },
   {
    "duration": 62,
    "start_time": "2023-07-31T17:42:39.799Z"
   },
   {
    "duration": 4,
    "start_time": "2023-07-31T17:42:39.874Z"
   },
   {
    "duration": 80,
    "start_time": "2023-07-31T17:42:39.883Z"
   },
   {
    "duration": 4,
    "start_time": "2023-07-31T17:42:39.964Z"
   },
   {
    "duration": 221,
    "start_time": "2023-07-31T17:42:39.970Z"
   },
   {
    "duration": 84,
    "start_time": "2023-07-31T17:42:40.195Z"
   },
   {
    "duration": 121,
    "start_time": "2023-07-31T17:42:40.281Z"
   },
   {
    "duration": 8,
    "start_time": "2023-07-31T17:42:40.405Z"
   },
   {
    "duration": 151,
    "start_time": "2023-07-31T17:42:40.416Z"
   },
   {
    "duration": 141,
    "start_time": "2023-07-31T17:42:40.569Z"
   },
   {
    "duration": 138,
    "start_time": "2023-07-31T17:42:40.712Z"
   },
   {
    "duration": 176,
    "start_time": "2023-07-31T17:42:40.852Z"
   },
   {
    "duration": 4,
    "start_time": "2023-07-31T18:38:58.411Z"
   },
   {
    "duration": 6,
    "start_time": "2023-07-31T18:40:20.794Z"
   },
   {
    "duration": 100,
    "start_time": "2023-07-31T18:46:10.453Z"
   },
   {
    "duration": 3,
    "start_time": "2023-07-31T18:46:17.898Z"
   },
   {
    "duration": 3,
    "start_time": "2023-07-31T18:47:31.807Z"
   },
   {
    "duration": 4,
    "start_time": "2023-07-31T18:47:43.794Z"
   },
   {
    "duration": 1413,
    "start_time": "2023-07-31T19:03:54.493Z"
   },
   {
    "duration": 5,
    "start_time": "2023-07-31T19:03:55.908Z"
   },
   {
    "duration": 232,
    "start_time": "2023-07-31T19:03:55.914Z"
   },
   {
    "duration": 41,
    "start_time": "2023-07-31T19:03:56.148Z"
   },
   {
    "duration": 24,
    "start_time": "2023-07-31T19:03:56.192Z"
   },
   {
    "duration": 147,
    "start_time": "2023-07-31T19:03:56.218Z"
   },
   {
    "duration": 31,
    "start_time": "2023-07-31T19:03:56.372Z"
   },
   {
    "duration": 23,
    "start_time": "2023-07-31T19:03:56.405Z"
   },
   {
    "duration": 165,
    "start_time": "2023-07-31T19:03:56.430Z"
   },
   {
    "duration": 112,
    "start_time": "2023-07-31T19:03:56.597Z"
   },
   {
    "duration": 65,
    "start_time": "2023-07-31T19:03:56.711Z"
   },
   {
    "duration": 46,
    "start_time": "2023-07-31T19:03:56.780Z"
   },
   {
    "duration": 46,
    "start_time": "2023-07-31T19:03:56.828Z"
   },
   {
    "duration": 41,
    "start_time": "2023-07-31T19:03:56.878Z"
   },
   {
    "duration": 29,
    "start_time": "2023-07-31T19:03:56.921Z"
   },
   {
    "duration": 288,
    "start_time": "2023-07-31T19:03:56.952Z"
   },
   {
    "duration": 8,
    "start_time": "2023-07-31T19:03:57.243Z"
   },
   {
    "duration": 482,
    "start_time": "2023-07-31T19:03:57.253Z"
   },
   {
    "duration": 17,
    "start_time": "2023-07-31T19:03:57.737Z"
   },
   {
    "duration": 54,
    "start_time": "2023-07-31T19:03:57.756Z"
   },
   {
    "duration": 65,
    "start_time": "2023-07-31T19:03:57.813Z"
   },
   {
    "duration": 36,
    "start_time": "2023-07-31T19:03:57.881Z"
   },
   {
    "duration": 85,
    "start_time": "2023-07-31T19:03:57.919Z"
   },
   {
    "duration": 5,
    "start_time": "2023-07-31T19:03:58.006Z"
   },
   {
    "duration": 89,
    "start_time": "2023-07-31T19:03:58.013Z"
   },
   {
    "duration": 5,
    "start_time": "2023-07-31T19:03:58.108Z"
   },
   {
    "duration": 194,
    "start_time": "2023-07-31T19:03:58.115Z"
   },
   {
    "duration": 94,
    "start_time": "2023-07-31T19:03:58.311Z"
   },
   {
    "duration": 171,
    "start_time": "2023-07-31T19:03:58.408Z"
   },
   {
    "duration": 6,
    "start_time": "2023-07-31T19:03:58.590Z"
   },
   {
    "duration": 146,
    "start_time": "2023-07-31T19:03:58.598Z"
   },
   {
    "duration": 189,
    "start_time": "2023-07-31T19:03:58.746Z"
   },
   {
    "duration": 165,
    "start_time": "2023-07-31T19:03:58.936Z"
   },
   {
    "duration": 242,
    "start_time": "2023-07-31T19:03:59.104Z"
   },
   {
    "duration": 4,
    "start_time": "2023-07-31T19:03:59.348Z"
   },
   {
    "duration": 20,
    "start_time": "2023-07-31T19:03:59.353Z"
   },
   {
    "duration": 47,
    "start_time": "2023-08-02T05:04:03.421Z"
   },
   {
    "duration": 1384,
    "start_time": "2023-08-02T05:04:09.317Z"
   },
   {
    "duration": 4,
    "start_time": "2023-08-02T05:04:10.703Z"
   },
   {
    "duration": 743,
    "start_time": "2023-08-02T05:04:10.708Z"
   },
   {
    "duration": 35,
    "start_time": "2023-08-02T05:04:11.454Z"
   },
   {
    "duration": 14,
    "start_time": "2023-08-02T05:04:11.490Z"
   },
   {
    "duration": 165,
    "start_time": "2023-08-02T05:04:11.506Z"
   },
   {
    "duration": 19,
    "start_time": "2023-08-02T05:04:11.673Z"
   },
   {
    "duration": 6,
    "start_time": "2023-08-02T05:04:11.694Z"
   },
   {
    "duration": 135,
    "start_time": "2023-08-02T05:04:11.702Z"
   },
   {
    "duration": 90,
    "start_time": "2023-08-02T05:04:11.840Z"
   },
   {
    "duration": 52,
    "start_time": "2023-08-02T05:04:11.932Z"
   },
   {
    "duration": 28,
    "start_time": "2023-08-02T05:04:11.986Z"
   },
   {
    "duration": 3,
    "start_time": "2023-08-02T05:04:12.016Z"
   },
   {
    "duration": 12,
    "start_time": "2023-08-02T05:04:12.020Z"
   },
   {
    "duration": 28,
    "start_time": "2023-08-02T05:04:12.034Z"
   },
   {
    "duration": 273,
    "start_time": "2023-08-02T05:04:12.064Z"
   },
   {
    "duration": 7,
    "start_time": "2023-08-02T05:04:12.338Z"
   },
   {
    "duration": 437,
    "start_time": "2023-08-02T05:04:12.357Z"
   },
   {
    "duration": 12,
    "start_time": "2023-08-02T05:04:12.796Z"
   },
   {
    "duration": 46,
    "start_time": "2023-08-02T05:04:12.810Z"
   },
   {
    "duration": 34,
    "start_time": "2023-08-02T05:04:12.859Z"
   },
   {
    "duration": 24,
    "start_time": "2023-08-02T05:04:12.895Z"
   },
   {
    "duration": 83,
    "start_time": "2023-08-02T05:04:12.921Z"
   },
   {
    "duration": 4,
    "start_time": "2023-08-02T05:04:13.005Z"
   },
   {
    "duration": 85,
    "start_time": "2023-08-02T05:04:13.011Z"
   },
   {
    "duration": 119,
    "start_time": "2023-08-02T05:04:13.098Z"
   },
   {
    "duration": 0,
    "start_time": "2023-08-02T05:04:13.219Z"
   },
   {
    "duration": 0,
    "start_time": "2023-08-02T05:04:13.221Z"
   },
   {
    "duration": 1,
    "start_time": "2023-08-02T05:04:13.222Z"
   },
   {
    "duration": 0,
    "start_time": "2023-08-02T05:04:13.224Z"
   },
   {
    "duration": 0,
    "start_time": "2023-08-02T05:04:13.225Z"
   },
   {
    "duration": 0,
    "start_time": "2023-08-02T05:04:13.227Z"
   },
   {
    "duration": 0,
    "start_time": "2023-08-02T05:04:13.228Z"
   },
   {
    "duration": 0,
    "start_time": "2023-08-02T05:04:13.230Z"
   },
   {
    "duration": 0,
    "start_time": "2023-08-02T05:04:13.231Z"
   },
   {
    "duration": 0,
    "start_time": "2023-08-02T05:04:13.232Z"
   },
   {
    "duration": 0,
    "start_time": "2023-08-02T05:04:13.233Z"
   },
   {
    "duration": 10,
    "start_time": "2023-08-02T05:06:21.149Z"
   }
  ],
  "kernelspec": {
   "display_name": "Python 3 (ipykernel)",
   "language": "python",
   "name": "python3"
  },
  "language_info": {
   "codemirror_mode": {
    "name": "ipython",
    "version": 3
   },
   "file_extension": ".py",
   "mimetype": "text/x-python",
   "name": "python",
   "nbconvert_exporter": "python",
   "pygments_lexer": "ipython3",
   "version": "3.9.5"
  },
  "toc": {
   "base_numbering": 1,
   "nav_menu": {},
   "number_sections": true,
   "sideBar": true,
   "skip_h1_title": true,
   "title_cell": "Table of Contents",
   "title_sidebar": "Contents",
   "toc_cell": false,
   "toc_position": {},
   "toc_section_display": true,
   "toc_window_display": false
  }
 },
 "nbformat": 4,
 "nbformat_minor": 2
}

{
 "cells": [
  {
   "cell_type": "markdown",
   "id": "386f2ae7",
   "metadata": {
    "deletable": false,
    "editable": false,
    "id": "386f2ae7"
   },
   "source": [
    "# Исследование надежности заемщиков\n"
   ]
  },
  {
   "cell_type": "markdown",
   "id": "ffe86f65",
   "metadata": {
    "deletable": false,
    "editable": false,
    "id": "ffe86f65"
   },
   "source": [
    "Во второй части проекта вы выполните шаги 3 и 4. Их вручную проверит ревьюер.\n",
    "Чтобы вам не пришлось писать код заново для шагов 1 и 2, мы добавили авторские решения в ячейки с кодом. \n",
    "\n"
   ]
  },
  {
   "cell_type": "markdown",
   "id": "26613308",
   "metadata": {
    "deletable": false,
    "editable": false,
    "id": "26613308"
   },
   "source": [
    "## Откройте таблицу и изучите общую информацию о данных"
   ]
  },
  {
   "cell_type": "markdown",
   "id": "3c9f838e",
   "metadata": {
    "deletable": false,
    "editable": false,
    "id": "3c9f838e"
   },
   "source": [
    "**Задание 1. Импортируйте библиотеку pandas. Считайте данные из csv-файла в датафрейм и сохраните в переменную `data`. Путь к файлу:**\n",
    "\n",
    "`/datasets/data.csv`"
   ]
  },
  {
   "cell_type": "code",
   "execution_count": 1,
   "id": "77a68a90",
   "metadata": {
    "deletable": false,
    "id": "77a68a90"
   },
   "outputs": [],
   "source": [
    "import pandas as pd\n",
    "\n",
    "try:\n",
    "    data = pd.read_csv('/datasets/data.csv')\n",
    "except:\n",
    "    data = pd.read_csv('https://code.s3.yandex.net/datasets/data.csv')"
   ]
  },
  {
   "cell_type": "markdown",
   "id": "45365635",
   "metadata": {
    "deletable": false,
    "editable": false,
    "id": "45365635"
   },
   "source": [
    "**Задание 2. Выведите первые 20 строчек датафрейма `data` на экран.**"
   ]
  },
  {
   "cell_type": "code",
   "execution_count": 2,
   "id": "b0451a9a",
   "metadata": {
    "deletable": false,
    "id": "b0451a9a",
    "outputId": "1a8f3ef2-d323-4ec2-ddf7-89670b5944c4"
   },
   "outputs": [
    {
     "data": {
      "text/html": [
       "<div>\n",
       "<style scoped>\n",
       "    .dataframe tbody tr th:only-of-type {\n",
       "        vertical-align: middle;\n",
       "    }\n",
       "\n",
       "    .dataframe tbody tr th {\n",
       "        vertical-align: top;\n",
       "    }\n",
       "\n",
       "    .dataframe thead th {\n",
       "        text-align: right;\n",
       "    }\n",
       "</style>\n",
       "<table border=\"1\" class=\"dataframe\">\n",
       "  <thead>\n",
       "    <tr style=\"text-align: right;\">\n",
       "      <th></th>\n",
       "      <th>children</th>\n",
       "      <th>days_employed</th>\n",
       "      <th>dob_years</th>\n",
       "      <th>education</th>\n",
       "      <th>education_id</th>\n",
       "      <th>family_status</th>\n",
       "      <th>family_status_id</th>\n",
       "      <th>gender</th>\n",
       "      <th>income_type</th>\n",
       "      <th>debt</th>\n",
       "      <th>total_income</th>\n",
       "      <th>purpose</th>\n",
       "    </tr>\n",
       "  </thead>\n",
       "  <tbody>\n",
       "    <tr>\n",
       "      <th>0</th>\n",
       "      <td>1</td>\n",
       "      <td>-8437.673028</td>\n",
       "      <td>42</td>\n",
       "      <td>высшее</td>\n",
       "      <td>0</td>\n",
       "      <td>женат / замужем</td>\n",
       "      <td>0</td>\n",
       "      <td>F</td>\n",
       "      <td>сотрудник</td>\n",
       "      <td>0</td>\n",
       "      <td>253875.639453</td>\n",
       "      <td>покупка жилья</td>\n",
       "    </tr>\n",
       "    <tr>\n",
       "      <th>1</th>\n",
       "      <td>1</td>\n",
       "      <td>-4024.803754</td>\n",
       "      <td>36</td>\n",
       "      <td>среднее</td>\n",
       "      <td>1</td>\n",
       "      <td>женат / замужем</td>\n",
       "      <td>0</td>\n",
       "      <td>F</td>\n",
       "      <td>сотрудник</td>\n",
       "      <td>0</td>\n",
       "      <td>112080.014102</td>\n",
       "      <td>приобретение автомобиля</td>\n",
       "    </tr>\n",
       "    <tr>\n",
       "      <th>2</th>\n",
       "      <td>0</td>\n",
       "      <td>-5623.422610</td>\n",
       "      <td>33</td>\n",
       "      <td>Среднее</td>\n",
       "      <td>1</td>\n",
       "      <td>женат / замужем</td>\n",
       "      <td>0</td>\n",
       "      <td>M</td>\n",
       "      <td>сотрудник</td>\n",
       "      <td>0</td>\n",
       "      <td>145885.952297</td>\n",
       "      <td>покупка жилья</td>\n",
       "    </tr>\n",
       "    <tr>\n",
       "      <th>3</th>\n",
       "      <td>3</td>\n",
       "      <td>-4124.747207</td>\n",
       "      <td>32</td>\n",
       "      <td>среднее</td>\n",
       "      <td>1</td>\n",
       "      <td>женат / замужем</td>\n",
       "      <td>0</td>\n",
       "      <td>M</td>\n",
       "      <td>сотрудник</td>\n",
       "      <td>0</td>\n",
       "      <td>267628.550329</td>\n",
       "      <td>дополнительное образование</td>\n",
       "    </tr>\n",
       "    <tr>\n",
       "      <th>4</th>\n",
       "      <td>0</td>\n",
       "      <td>340266.072047</td>\n",
       "      <td>53</td>\n",
       "      <td>среднее</td>\n",
       "      <td>1</td>\n",
       "      <td>гражданский брак</td>\n",
       "      <td>1</td>\n",
       "      <td>F</td>\n",
       "      <td>пенсионер</td>\n",
       "      <td>0</td>\n",
       "      <td>158616.077870</td>\n",
       "      <td>сыграть свадьбу</td>\n",
       "    </tr>\n",
       "    <tr>\n",
       "      <th>5</th>\n",
       "      <td>0</td>\n",
       "      <td>-926.185831</td>\n",
       "      <td>27</td>\n",
       "      <td>высшее</td>\n",
       "      <td>0</td>\n",
       "      <td>гражданский брак</td>\n",
       "      <td>1</td>\n",
       "      <td>M</td>\n",
       "      <td>компаньон</td>\n",
       "      <td>0</td>\n",
       "      <td>255763.565419</td>\n",
       "      <td>покупка жилья</td>\n",
       "    </tr>\n",
       "    <tr>\n",
       "      <th>6</th>\n",
       "      <td>0</td>\n",
       "      <td>-2879.202052</td>\n",
       "      <td>43</td>\n",
       "      <td>высшее</td>\n",
       "      <td>0</td>\n",
       "      <td>женат / замужем</td>\n",
       "      <td>0</td>\n",
       "      <td>F</td>\n",
       "      <td>компаньон</td>\n",
       "      <td>0</td>\n",
       "      <td>240525.971920</td>\n",
       "      <td>операции с жильем</td>\n",
       "    </tr>\n",
       "    <tr>\n",
       "      <th>7</th>\n",
       "      <td>0</td>\n",
       "      <td>-152.779569</td>\n",
       "      <td>50</td>\n",
       "      <td>СРЕДНЕЕ</td>\n",
       "      <td>1</td>\n",
       "      <td>женат / замужем</td>\n",
       "      <td>0</td>\n",
       "      <td>M</td>\n",
       "      <td>сотрудник</td>\n",
       "      <td>0</td>\n",
       "      <td>135823.934197</td>\n",
       "      <td>образование</td>\n",
       "    </tr>\n",
       "    <tr>\n",
       "      <th>8</th>\n",
       "      <td>2</td>\n",
       "      <td>-6929.865299</td>\n",
       "      <td>35</td>\n",
       "      <td>ВЫСШЕЕ</td>\n",
       "      <td>0</td>\n",
       "      <td>гражданский брак</td>\n",
       "      <td>1</td>\n",
       "      <td>F</td>\n",
       "      <td>сотрудник</td>\n",
       "      <td>0</td>\n",
       "      <td>95856.832424</td>\n",
       "      <td>на проведение свадьбы</td>\n",
       "    </tr>\n",
       "    <tr>\n",
       "      <th>9</th>\n",
       "      <td>0</td>\n",
       "      <td>-2188.756445</td>\n",
       "      <td>41</td>\n",
       "      <td>среднее</td>\n",
       "      <td>1</td>\n",
       "      <td>женат / замужем</td>\n",
       "      <td>0</td>\n",
       "      <td>M</td>\n",
       "      <td>сотрудник</td>\n",
       "      <td>0</td>\n",
       "      <td>144425.938277</td>\n",
       "      <td>покупка жилья для семьи</td>\n",
       "    </tr>\n",
       "    <tr>\n",
       "      <th>10</th>\n",
       "      <td>2</td>\n",
       "      <td>-4171.483647</td>\n",
       "      <td>36</td>\n",
       "      <td>высшее</td>\n",
       "      <td>0</td>\n",
       "      <td>женат / замужем</td>\n",
       "      <td>0</td>\n",
       "      <td>M</td>\n",
       "      <td>компаньон</td>\n",
       "      <td>0</td>\n",
       "      <td>113943.491460</td>\n",
       "      <td>покупка недвижимости</td>\n",
       "    </tr>\n",
       "    <tr>\n",
       "      <th>11</th>\n",
       "      <td>0</td>\n",
       "      <td>-792.701887</td>\n",
       "      <td>40</td>\n",
       "      <td>среднее</td>\n",
       "      <td>1</td>\n",
       "      <td>женат / замужем</td>\n",
       "      <td>0</td>\n",
       "      <td>F</td>\n",
       "      <td>сотрудник</td>\n",
       "      <td>0</td>\n",
       "      <td>77069.234271</td>\n",
       "      <td>покупка коммерческой недвижимости</td>\n",
       "    </tr>\n",
       "    <tr>\n",
       "      <th>12</th>\n",
       "      <td>0</td>\n",
       "      <td>NaN</td>\n",
       "      <td>65</td>\n",
       "      <td>среднее</td>\n",
       "      <td>1</td>\n",
       "      <td>гражданский брак</td>\n",
       "      <td>1</td>\n",
       "      <td>M</td>\n",
       "      <td>пенсионер</td>\n",
       "      <td>0</td>\n",
       "      <td>NaN</td>\n",
       "      <td>сыграть свадьбу</td>\n",
       "    </tr>\n",
       "    <tr>\n",
       "      <th>13</th>\n",
       "      <td>0</td>\n",
       "      <td>-1846.641941</td>\n",
       "      <td>54</td>\n",
       "      <td>неоконченное высшее</td>\n",
       "      <td>2</td>\n",
       "      <td>женат / замужем</td>\n",
       "      <td>0</td>\n",
       "      <td>F</td>\n",
       "      <td>сотрудник</td>\n",
       "      <td>0</td>\n",
       "      <td>130458.228857</td>\n",
       "      <td>приобретение автомобиля</td>\n",
       "    </tr>\n",
       "    <tr>\n",
       "      <th>14</th>\n",
       "      <td>0</td>\n",
       "      <td>-1844.956182</td>\n",
       "      <td>56</td>\n",
       "      <td>высшее</td>\n",
       "      <td>0</td>\n",
       "      <td>гражданский брак</td>\n",
       "      <td>1</td>\n",
       "      <td>F</td>\n",
       "      <td>компаньон</td>\n",
       "      <td>1</td>\n",
       "      <td>165127.911772</td>\n",
       "      <td>покупка жилой недвижимости</td>\n",
       "    </tr>\n",
       "    <tr>\n",
       "      <th>15</th>\n",
       "      <td>1</td>\n",
       "      <td>-972.364419</td>\n",
       "      <td>26</td>\n",
       "      <td>среднее</td>\n",
       "      <td>1</td>\n",
       "      <td>женат / замужем</td>\n",
       "      <td>0</td>\n",
       "      <td>F</td>\n",
       "      <td>сотрудник</td>\n",
       "      <td>0</td>\n",
       "      <td>116820.904450</td>\n",
       "      <td>строительство собственной недвижимости</td>\n",
       "    </tr>\n",
       "    <tr>\n",
       "      <th>16</th>\n",
       "      <td>0</td>\n",
       "      <td>-1719.934226</td>\n",
       "      <td>35</td>\n",
       "      <td>среднее</td>\n",
       "      <td>1</td>\n",
       "      <td>женат / замужем</td>\n",
       "      <td>0</td>\n",
       "      <td>F</td>\n",
       "      <td>сотрудник</td>\n",
       "      <td>0</td>\n",
       "      <td>289202.704229</td>\n",
       "      <td>недвижимость</td>\n",
       "    </tr>\n",
       "    <tr>\n",
       "      <th>17</th>\n",
       "      <td>0</td>\n",
       "      <td>-2369.999720</td>\n",
       "      <td>33</td>\n",
       "      <td>высшее</td>\n",
       "      <td>0</td>\n",
       "      <td>гражданский брак</td>\n",
       "      <td>1</td>\n",
       "      <td>M</td>\n",
       "      <td>сотрудник</td>\n",
       "      <td>0</td>\n",
       "      <td>90410.586745</td>\n",
       "      <td>строительство недвижимости</td>\n",
       "    </tr>\n",
       "    <tr>\n",
       "      <th>18</th>\n",
       "      <td>0</td>\n",
       "      <td>400281.136913</td>\n",
       "      <td>53</td>\n",
       "      <td>среднее</td>\n",
       "      <td>1</td>\n",
       "      <td>вдовец / вдова</td>\n",
       "      <td>2</td>\n",
       "      <td>F</td>\n",
       "      <td>пенсионер</td>\n",
       "      <td>0</td>\n",
       "      <td>56823.777243</td>\n",
       "      <td>на покупку подержанного автомобиля</td>\n",
       "    </tr>\n",
       "    <tr>\n",
       "      <th>19</th>\n",
       "      <td>0</td>\n",
       "      <td>-10038.818549</td>\n",
       "      <td>48</td>\n",
       "      <td>СРЕДНЕЕ</td>\n",
       "      <td>1</td>\n",
       "      <td>в разводе</td>\n",
       "      <td>3</td>\n",
       "      <td>F</td>\n",
       "      <td>сотрудник</td>\n",
       "      <td>0</td>\n",
       "      <td>242831.107982</td>\n",
       "      <td>на покупку своего автомобиля</td>\n",
       "    </tr>\n",
       "  </tbody>\n",
       "</table>\n",
       "</div>"
      ],
      "text/plain": [
       "    children  days_employed  dob_years            education  education_id  \\\n",
       "0          1   -8437.673028         42               высшее             0   \n",
       "1          1   -4024.803754         36              среднее             1   \n",
       "2          0   -5623.422610         33              Среднее             1   \n",
       "3          3   -4124.747207         32              среднее             1   \n",
       "4          0  340266.072047         53              среднее             1   \n",
       "5          0    -926.185831         27               высшее             0   \n",
       "6          0   -2879.202052         43               высшее             0   \n",
       "7          0    -152.779569         50              СРЕДНЕЕ             1   \n",
       "8          2   -6929.865299         35               ВЫСШЕЕ             0   \n",
       "9          0   -2188.756445         41              среднее             1   \n",
       "10         2   -4171.483647         36               высшее             0   \n",
       "11         0    -792.701887         40              среднее             1   \n",
       "12         0            NaN         65              среднее             1   \n",
       "13         0   -1846.641941         54  неоконченное высшее             2   \n",
       "14         0   -1844.956182         56               высшее             0   \n",
       "15         1    -972.364419         26              среднее             1   \n",
       "16         0   -1719.934226         35              среднее             1   \n",
       "17         0   -2369.999720         33               высшее             0   \n",
       "18         0  400281.136913         53              среднее             1   \n",
       "19         0  -10038.818549         48              СРЕДНЕЕ             1   \n",
       "\n",
       "       family_status  family_status_id gender income_type  debt  \\\n",
       "0    женат / замужем                 0      F   сотрудник     0   \n",
       "1    женат / замужем                 0      F   сотрудник     0   \n",
       "2    женат / замужем                 0      M   сотрудник     0   \n",
       "3    женат / замужем                 0      M   сотрудник     0   \n",
       "4   гражданский брак                 1      F   пенсионер     0   \n",
       "5   гражданский брак                 1      M   компаньон     0   \n",
       "6    женат / замужем                 0      F   компаньон     0   \n",
       "7    женат / замужем                 0      M   сотрудник     0   \n",
       "8   гражданский брак                 1      F   сотрудник     0   \n",
       "9    женат / замужем                 0      M   сотрудник     0   \n",
       "10   женат / замужем                 0      M   компаньон     0   \n",
       "11   женат / замужем                 0      F   сотрудник     0   \n",
       "12  гражданский брак                 1      M   пенсионер     0   \n",
       "13   женат / замужем                 0      F   сотрудник     0   \n",
       "14  гражданский брак                 1      F   компаньон     1   \n",
       "15   женат / замужем                 0      F   сотрудник     0   \n",
       "16   женат / замужем                 0      F   сотрудник     0   \n",
       "17  гражданский брак                 1      M   сотрудник     0   \n",
       "18    вдовец / вдова                 2      F   пенсионер     0   \n",
       "19         в разводе                 3      F   сотрудник     0   \n",
       "\n",
       "     total_income                                 purpose  \n",
       "0   253875.639453                           покупка жилья  \n",
       "1   112080.014102                 приобретение автомобиля  \n",
       "2   145885.952297                           покупка жилья  \n",
       "3   267628.550329              дополнительное образование  \n",
       "4   158616.077870                         сыграть свадьбу  \n",
       "5   255763.565419                           покупка жилья  \n",
       "6   240525.971920                       операции с жильем  \n",
       "7   135823.934197                             образование  \n",
       "8    95856.832424                   на проведение свадьбы  \n",
       "9   144425.938277                 покупка жилья для семьи  \n",
       "10  113943.491460                    покупка недвижимости  \n",
       "11   77069.234271       покупка коммерческой недвижимости  \n",
       "12            NaN                         сыграть свадьбу  \n",
       "13  130458.228857                 приобретение автомобиля  \n",
       "14  165127.911772              покупка жилой недвижимости  \n",
       "15  116820.904450  строительство собственной недвижимости  \n",
       "16  289202.704229                            недвижимость  \n",
       "17   90410.586745              строительство недвижимости  \n",
       "18   56823.777243      на покупку подержанного автомобиля  \n",
       "19  242831.107982            на покупку своего автомобиля  "
      ]
     },
     "execution_count": 2,
     "metadata": {},
     "output_type": "execute_result"
    }
   ],
   "source": [
    "data.head(20)"
   ]
  },
  {
   "cell_type": "markdown",
   "id": "0ed8f27f",
   "metadata": {
    "deletable": false,
    "editable": false,
    "id": "0ed8f27f"
   },
   "source": [
    "**Задание 3. Выведите основную информацию о датафрейме с помощью метода `info()`.**"
   ]
  },
  {
   "cell_type": "code",
   "execution_count": 3,
   "id": "ab3f863b",
   "metadata": {
    "deletable": false,
    "id": "ab3f863b",
    "outputId": "15376089-8dad-46c9-b520-c05248d43158"
   },
   "outputs": [
    {
     "name": "stdout",
     "output_type": "stream",
     "text": [
      "<class 'pandas.core.frame.DataFrame'>\n",
      "RangeIndex: 21525 entries, 0 to 21524\n",
      "Data columns (total 12 columns):\n",
      " #   Column            Non-Null Count  Dtype  \n",
      "---  ------            --------------  -----  \n",
      " 0   children          21525 non-null  int64  \n",
      " 1   days_employed     19351 non-null  float64\n",
      " 2   dob_years         21525 non-null  int64  \n",
      " 3   education         21525 non-null  object \n",
      " 4   education_id      21525 non-null  int64  \n",
      " 5   family_status     21525 non-null  object \n",
      " 6   family_status_id  21525 non-null  int64  \n",
      " 7   gender            21525 non-null  object \n",
      " 8   income_type       21525 non-null  object \n",
      " 9   debt              21525 non-null  int64  \n",
      " 10  total_income      19351 non-null  float64\n",
      " 11  purpose           21525 non-null  object \n",
      "dtypes: float64(2), int64(5), object(5)\n",
      "memory usage: 2.0+ MB\n"
     ]
    }
   ],
   "source": [
    "data.info()"
   ]
  },
  {
   "cell_type": "markdown",
   "id": "60e3e22d",
   "metadata": {
    "deletable": false,
    "editable": false,
    "id": "60e3e22d"
   },
   "source": [
    "## Предобработка данных"
   ]
  },
  {
   "cell_type": "markdown",
   "id": "03dc170c",
   "metadata": {
    "deletable": false,
    "editable": false,
    "id": "03dc170c"
   },
   "source": [
    "### Удаление пропусков"
   ]
  },
  {
   "cell_type": "markdown",
   "id": "a4f54eef",
   "metadata": {
    "deletable": false,
    "editable": false,
    "id": "a4f54eef"
   },
   "source": [
    "**Задание 4. Выведите количество пропущенных значений для каждого столбца. Используйте комбинацию двух методов.**"
   ]
  },
  {
   "cell_type": "code",
   "execution_count": 4,
   "id": "2dc372b2",
   "metadata": {
    "deletable": false,
    "id": "2dc372b2",
    "outputId": "81f4d817-781c-465c-ed15-91ce4446810d"
   },
   "outputs": [
    {
     "data": {
      "text/plain": [
       "children               0\n",
       "days_employed       2174\n",
       "dob_years              0\n",
       "education              0\n",
       "education_id           0\n",
       "family_status          0\n",
       "family_status_id       0\n",
       "gender                 0\n",
       "income_type            0\n",
       "debt                   0\n",
       "total_income        2174\n",
       "purpose                0\n",
       "dtype: int64"
      ]
     },
     "execution_count": 4,
     "metadata": {},
     "output_type": "execute_result"
    }
   ],
   "source": [
    "data.isna().sum()"
   ]
  },
  {
   "cell_type": "markdown",
   "id": "14f011b1",
   "metadata": {
    "deletable": false,
    "editable": false,
    "id": "14f011b1"
   },
   "source": [
    "**Задание 5. В двух столбцах есть пропущенные значения. Один из них — `days_employed`. Пропуски в этом столбце вы обработаете на следующем этапе. Другой столбец с пропущенными значениями — `total_income` — хранит данные о доходах. На сумму дохода сильнее всего влияет тип занятости, поэтому заполнить пропуски в этом столбце нужно медианным значением по каждому типу из столбца `income_type`. Например, у человека с типом занятости `сотрудник` пропуск в столбце `total_income` должен быть заполнен медианным доходом среди всех записей с тем же типом.**"
   ]
  },
  {
   "cell_type": "code",
   "execution_count": 5,
   "id": "bdabfb6e",
   "metadata": {
    "deletable": false,
    "id": "bdabfb6e"
   },
   "outputs": [],
   "source": [
    "for t in data['income_type'].unique():\n",
    "    data.loc[(data['income_type'] == t) & (data['total_income'].isna()), 'total_income'] = \\\n",
    "    data.loc[(data['income_type'] == t), 'total_income'].median()"
   ]
  },
  {
   "cell_type": "markdown",
   "id": "5be34059",
   "metadata": {
    "deletable": false,
    "editable": false,
    "id": "5be34059"
   },
   "source": [
    "### Обработка аномальных значений"
   ]
  },
  {
   "cell_type": "markdown",
   "id": "a87606cb",
   "metadata": {
    "deletable": false,
    "editable": false,
    "id": "a87606cb"
   },
   "source": [
    "**Задание 6. В данных могут встречаться артефакты (аномалии) — значения, которые не отражают действительность и появились по какой-то ошибке. таким артефактом будет отрицательное количество дней трудового стажа в столбце `days_employed`. Для реальных данных это нормально. Обработайте значения в этом столбце: замените все отрицательные значения положительными с помощью метода `abs()`.**"
   ]
  },
  {
   "cell_type": "code",
   "execution_count": 6,
   "id": "020c46cc",
   "metadata": {
    "deletable": false,
    "id": "020c46cc"
   },
   "outputs": [],
   "source": [
    "data['days_employed'] = data['days_employed'].abs()"
   ]
  },
  {
   "cell_type": "markdown",
   "id": "45538a3a",
   "metadata": {
    "deletable": false,
    "editable": false,
    "id": "45538a3a"
   },
   "source": [
    "**Задание 7. Для каждого типа занятости выведите медианное значение трудового стажа `days_employed` в днях.**"
   ]
  },
  {
   "cell_type": "code",
   "execution_count": 7,
   "id": "cd3e6328",
   "metadata": {
    "deletable": false,
    "id": "cd3e6328",
    "outputId": "801ef80e-522b-4668-f34e-565af7432bcf"
   },
   "outputs": [
    {
     "data": {
      "text/plain": [
       "income_type\n",
       "безработный        366413.652744\n",
       "в декрете            3296.759962\n",
       "госслужащий          2689.368353\n",
       "компаньон            1547.382223\n",
       "пенсионер          365213.306266\n",
       "предприниматель       520.848083\n",
       "сотрудник            1574.202821\n",
       "студент               578.751554\n",
       "Name: days_employed, dtype: float64"
      ]
     },
     "execution_count": 7,
     "metadata": {},
     "output_type": "execute_result"
    }
   ],
   "source": [
    "data.groupby('income_type')['days_employed'].agg('median')"
   ]
  },
  {
   "cell_type": "markdown",
   "id": "90c5f058",
   "metadata": {
    "deletable": false,
    "editable": false,
    "id": "90c5f058"
   },
   "source": [
    "У двух типов (безработные и пенсионеры) получатся аномально большие значения. Исправить такие значения сложно, поэтому оставьте их как есть."
   ]
  },
  {
   "cell_type": "markdown",
   "id": "9652e50d",
   "metadata": {
    "deletable": false,
    "editable": false,
    "id": "9652e50d"
   },
   "source": [
    "**Задание 8. Выведите перечень уникальных значений столбца `children`.**"
   ]
  },
  {
   "cell_type": "code",
   "execution_count": 8,
   "id": "dbb37b8e",
   "metadata": {
    "deletable": false,
    "id": "dbb37b8e",
    "outputId": "6975b15c-7f95-4697-d16d-a0c79b657b03"
   },
   "outputs": [
    {
     "data": {
      "text/plain": [
       "array([ 1,  0,  3,  2, -1,  4, 20,  5], dtype=int64)"
      ]
     },
     "execution_count": 8,
     "metadata": {},
     "output_type": "execute_result"
    }
   ],
   "source": [
    "data['children'].unique()"
   ]
  },
  {
   "cell_type": "markdown",
   "id": "2b8b0715",
   "metadata": {
    "deletable": false,
    "editable": false,
    "id": "2b8b0715"
   },
   "source": [
    "**Задание 9. В столбце `children` есть два аномальных значения. Удалите строки, в которых встречаются такие аномальные значения из датафрейма `data`.**"
   ]
  },
  {
   "cell_type": "code",
   "execution_count": 9,
   "id": "20009df8",
   "metadata": {
    "deletable": false,
    "id": "20009df8"
   },
   "outputs": [],
   "source": [
    "data = data[(data['children'] != -1) & (data['children'] != 20)]"
   ]
  },
  {
   "cell_type": "markdown",
   "id": "8c6ac9f1",
   "metadata": {
    "deletable": false,
    "editable": false,
    "id": "8c6ac9f1"
   },
   "source": [
    "**Задание 10. Ещё раз выведите перечень уникальных значений столбца `children`, чтобы убедиться, что артефакты удалены.**"
   ]
  },
  {
   "cell_type": "code",
   "execution_count": 10,
   "id": "07337b81",
   "metadata": {
    "deletable": false,
    "id": "07337b81",
    "outputId": "b2097101-d49d-44d9-901b-32a65c9463d1"
   },
   "outputs": [
    {
     "data": {
      "text/plain": [
       "array([1, 0, 3, 2, 4, 5], dtype=int64)"
      ]
     },
     "execution_count": 10,
     "metadata": {},
     "output_type": "execute_result"
    }
   ],
   "source": [
    "data['children'].unique()"
   ]
  },
  {
   "cell_type": "markdown",
   "id": "ee3f52d4",
   "metadata": {
    "deletable": false,
    "editable": false,
    "id": "ee3f52d4"
   },
   "source": [
    "### Удаление пропусков (продолжение)"
   ]
  },
  {
   "cell_type": "markdown",
   "id": "a700b0e4",
   "metadata": {
    "deletable": false,
    "editable": false,
    "id": "a700b0e4"
   },
   "source": [
    "**Задание 11. Заполните пропуски в столбце `days_employed` медианными значениями по каждого типа занятости `income_type`.**"
   ]
  },
  {
   "cell_type": "code",
   "execution_count": 11,
   "id": "61946b83",
   "metadata": {
    "deletable": false,
    "id": "61946b83"
   },
   "outputs": [],
   "source": [
    "for t in data['income_type'].unique():\n",
    "    data.loc[(data['income_type'] == t) & (data['days_employed'].isna()), 'days_employed'] = \\\n",
    "    data.loc[(data['income_type'] == t), 'days_employed'].median()"
   ]
  },
  {
   "cell_type": "markdown",
   "id": "550dcd9b",
   "metadata": {
    "deletable": false,
    "editable": false,
    "id": "550dcd9b"
   },
   "source": [
    "**Задание 12. Убедитесь, что все пропуски заполнены. Проверьте себя и ещё раз выведите количество пропущенных значений для каждого столбца с помощью двух методов.**"
   ]
  },
  {
   "cell_type": "code",
   "execution_count": 12,
   "id": "937c7014",
   "metadata": {
    "deletable": false,
    "id": "937c7014",
    "outputId": "8da1e4e1-358e-4e87-98c9-f261bce0a7b2"
   },
   "outputs": [
    {
     "data": {
      "text/plain": [
       "children            0\n",
       "days_employed       0\n",
       "dob_years           0\n",
       "education           0\n",
       "education_id        0\n",
       "family_status       0\n",
       "family_status_id    0\n",
       "gender              0\n",
       "income_type         0\n",
       "debt                0\n",
       "total_income        0\n",
       "purpose             0\n",
       "dtype: int64"
      ]
     },
     "execution_count": 12,
     "metadata": {},
     "output_type": "execute_result"
    }
   ],
   "source": [
    "data.isna().sum()"
   ]
  },
  {
   "cell_type": "markdown",
   "id": "d522e295",
   "metadata": {
    "deletable": false,
    "editable": false,
    "id": "d522e295"
   },
   "source": [
    "### Изменение типов данных"
   ]
  },
  {
   "cell_type": "markdown",
   "id": "c229c581",
   "metadata": {
    "deletable": false,
    "editable": false,
    "id": "c229c581"
   },
   "source": [
    "**Задание 13. Замените вещественный тип данных в столбце `total_income` на целочисленный с помощью метода `astype()`.**"
   ]
  },
  {
   "cell_type": "code",
   "execution_count": 13,
   "id": "31036462",
   "metadata": {
    "deletable": false,
    "id": "31036462"
   },
   "outputs": [],
   "source": [
    "data['total_income'] = data['total_income'].astype(int)"
   ]
  },
  {
   "cell_type": "markdown",
   "id": "b8e3d1d9",
   "metadata": {
    "deletable": false,
    "editable": false,
    "id": "b8e3d1d9"
   },
   "source": [
    "### Обработка дубликатов"
   ]
  },
  {
   "cell_type": "markdown",
   "id": "9be53c49",
   "metadata": {
    "deletable": false,
    "editable": false,
    "id": "9be53c49"
   },
   "source": [
    "**Задание 14. Обработайте неявные дубликаты в столбце `education`. В этом столбце есть одни и те же значения, но записанные по-разному: с использованием заглавных и строчных букв. Приведите их к нижнему регистру.**"
   ]
  },
  {
   "cell_type": "code",
   "execution_count": 14,
   "id": "d89e73e1",
   "metadata": {
    "deletable": false,
    "id": "d89e73e1"
   },
   "outputs": [],
   "source": [
    "data['education'] = data['education'].str.lower()"
   ]
  },
  {
   "cell_type": "markdown",
   "id": "01d4500e",
   "metadata": {
    "deletable": false,
    "editable": false,
    "id": "01d4500e"
   },
   "source": [
    "**Задание 15. Выведите на экран количество строк-дубликатов в данных. Если такие строки присутствуют, удалите их.**"
   ]
  },
  {
   "cell_type": "code",
   "execution_count": 15,
   "id": "e10efb23",
   "metadata": {
    "deletable": false,
    "id": "e10efb23",
    "outputId": "9684deba-1934-42d1-99e1-cda61740f822"
   },
   "outputs": [
    {
     "data": {
      "text/plain": [
       "71"
      ]
     },
     "execution_count": 15,
     "metadata": {},
     "output_type": "execute_result"
    }
   ],
   "source": [
    "data.duplicated().sum()"
   ]
  },
  {
   "cell_type": "code",
   "execution_count": 16,
   "id": "df853f20",
   "metadata": {
    "deletable": false,
    "id": "df853f20"
   },
   "outputs": [],
   "source": [
    "data = data.drop_duplicates()"
   ]
  },
  {
   "cell_type": "markdown",
   "id": "627be38f",
   "metadata": {
    "deletable": false,
    "editable": false,
    "id": "627be38f"
   },
   "source": [
    "### Категоризация данных"
   ]
  },
  {
   "cell_type": "markdown",
   "id": "4684c3e0",
   "metadata": {
    "deletable": false,
    "editable": false,
    "id": "4684c3e0"
   },
   "source": [
    "**Задание 16. На основании диапазонов, указанных ниже, создайте в датафрейме `data` столбец `total_income_category` с категориями:**\n",
    "\n",
    "- 0–30000 — `'E'`;\n",
    "- 30001–50000 — `'D'`;\n",
    "- 50001–200000 — `'C'`;\n",
    "- 200001–1000000 — `'B'`;\n",
    "- 1000001 и выше — `'A'`.\n",
    "\n",
    "\n",
    "**Например, кредитополучателю с доходом 25000 нужно назначить категорию `'E'`, а клиенту, получающему 235000, — `'B'`. Используйте собственную функцию с именем `categorize_income()` и метод `apply()`.**"
   ]
  },
  {
   "cell_type": "code",
   "execution_count": 17,
   "id": "78965238",
   "metadata": {
    "deletable": false,
    "id": "78965238"
   },
   "outputs": [],
   "source": [
    "def categorize_income(income):\n",
    "    try:\n",
    "        if 0 <= income <= 30000:\n",
    "            return 'E'\n",
    "        elif 30001 <= income <= 50000:\n",
    "            return 'D'\n",
    "        elif 50001 <= income <= 200000:\n",
    "            return 'C'\n",
    "        elif 200001 <= income <= 1000000:\n",
    "            return 'B'\n",
    "        elif income >= 1000001:\n",
    "            return 'A'\n",
    "    except:\n",
    "        pass"
   ]
  },
  {
   "cell_type": "code",
   "execution_count": 18,
   "id": "0980ada1",
   "metadata": {
    "deletable": false,
    "id": "0980ada1"
   },
   "outputs": [],
   "source": [
    "data['total_income_category'] = data['total_income'].apply(categorize_income)"
   ]
  },
  {
   "cell_type": "markdown",
   "id": "9917bba0",
   "metadata": {
    "deletable": false,
    "editable": false,
    "id": "9917bba0"
   },
   "source": [
    "**Задание 17. Выведите на экран перечень уникальных целей взятия кредита из столбца `purpose`.**"
   ]
  },
  {
   "cell_type": "code",
   "execution_count": 19,
   "id": "ee07b65e",
   "metadata": {
    "deletable": false,
    "id": "ee07b65e",
    "outputId": "673c12d9-7d7e-4ae0-9812-c622c89dd244"
   },
   "outputs": [
    {
     "data": {
      "text/plain": [
       "array(['покупка жилья', 'приобретение автомобиля',\n",
       "       'дополнительное образование', 'сыграть свадьбу',\n",
       "       'операции с жильем', 'образование', 'на проведение свадьбы',\n",
       "       'покупка жилья для семьи', 'покупка недвижимости',\n",
       "       'покупка коммерческой недвижимости', 'покупка жилой недвижимости',\n",
       "       'строительство собственной недвижимости', 'недвижимость',\n",
       "       'строительство недвижимости', 'на покупку подержанного автомобиля',\n",
       "       'на покупку своего автомобиля',\n",
       "       'операции с коммерческой недвижимостью',\n",
       "       'строительство жилой недвижимости', 'жилье',\n",
       "       'операции со своей недвижимостью', 'автомобили',\n",
       "       'заняться образованием', 'сделка с подержанным автомобилем',\n",
       "       'получение образования', 'автомобиль', 'свадьба',\n",
       "       'получение дополнительного образования', 'покупка своего жилья',\n",
       "       'операции с недвижимостью', 'получение высшего образования',\n",
       "       'свой автомобиль', 'сделка с автомобилем',\n",
       "       'профильное образование', 'высшее образование',\n",
       "       'покупка жилья для сдачи', 'на покупку автомобиля', 'ремонт жилью',\n",
       "       'заняться высшим образованием'], dtype=object)"
      ]
     },
     "execution_count": 19,
     "metadata": {},
     "output_type": "execute_result"
    }
   ],
   "source": [
    "data['purpose'].unique()"
   ]
  },
  {
   "cell_type": "markdown",
   "id": "52b79d56",
   "metadata": {
    "deletable": false,
    "editable": false,
    "id": "52b79d56"
   },
   "source": [
    "**Задание 18. Создайте функцию, которая на основании данных из столбца `purpose` сформирует новый столбец `purpose_category`, в который войдут следующие категории:**\n",
    "\n",
    "- `'операции с автомобилем'`,\n",
    "- `'операции с недвижимостью'`,\n",
    "- `'проведение свадьбы'`,\n",
    "- `'получение образования'`.\n",
    "\n",
    "**Например, если в столбце `purpose` находится подстрока `'на покупку автомобиля'`, то в столбце `purpose_category` должна появиться строка `'операции с автомобилем'`.**\n",
    "\n",
    "**Используйте собственную функцию с именем `categorize_purpose()` и метод `apply()`. Изучите данные в столбце `purpose` и определите, какие подстроки помогут вам правильно определить категорию.**"
   ]
  },
  {
   "cell_type": "code",
   "execution_count": 20,
   "id": "be41da5d",
   "metadata": {
    "deletable": false,
    "id": "be41da5d"
   },
   "outputs": [],
   "source": [
    "def categorize_purpose(row):\n",
    "    try:\n",
    "        if 'автом' in row:\n",
    "            return 'операции с автомобилем'\n",
    "        elif 'жил' in row or 'недвиж' in row:\n",
    "            return 'операции с недвижимостью'\n",
    "        elif 'свад' in row:\n",
    "            return 'проведение свадьбы'\n",
    "        elif 'образов' in row:\n",
    "            return 'получение образования'\n",
    "    except:\n",
    "        return 'нет категории'"
   ]
  },
  {
   "cell_type": "code",
   "execution_count": 21,
   "id": "94c4a19a",
   "metadata": {
    "deletable": false,
    "id": "94c4a19a"
   },
   "outputs": [],
   "source": [
    "data['purpose_category'] = data['purpose'].apply(categorize_purpose)"
   ]
  },
  {
   "cell_type": "markdown",
   "id": "3d596c34",
   "metadata": {
    "deletable": false,
    "editable": false,
    "id": "3d596c34"
   },
   "source": [
    "### Шаг 3. Исследуйте данные и ответьте на вопросы"
   ]
  },
  {
   "cell_type": "markdown",
   "id": "648db036",
   "metadata": {
    "deletable": false,
    "editable": false,
    "id": "648db036"
   },
   "source": [
    "#### 3.1 Есть ли зависимость между количеством детей и возвратом кредита в срок?"
   ]
  },
  {
   "cell_type": "code",
   "execution_count": 22,
   "id": "7fcff25e",
   "metadata": {
    "deletable": false,
    "id": "7fcff25e"
   },
   "outputs": [],
   "source": [
    "# Создаем сводную таблицу, в которой группируем данные в зависимости от количества детей у Заемщика\n",
    "data_pivot_children = data.pivot_table(index = ['children'], values = 'debt', aggfunc = ['sum','count','mean'])"
   ]
  },
  {
   "cell_type": "code",
   "execution_count": 23,
   "id": "a160dc19",
   "metadata": {},
   "outputs": [],
   "source": [
    "# Переименование столбцов \n",
    "data_pivot_children.columns = ['Кол-во должников','Кол-во заемщиков', 'Процент должников'] \n",
    "\n",
    "# Отдельно переименовываем столбец с индексом, значения в котором совпадает с количеством детей\n",
    "data_pivot_children.index.name = 'Кол-во детей' \n"
   ]
  },
  {
   "cell_type": "code",
   "execution_count": 24,
   "id": "6c66e387",
   "metadata": {},
   "outputs": [
    {
     "data": {
      "text/html": [
       "<div>\n",
       "<style scoped>\n",
       "    .dataframe tbody tr th:only-of-type {\n",
       "        vertical-align: middle;\n",
       "    }\n",
       "\n",
       "    .dataframe tbody tr th {\n",
       "        vertical-align: top;\n",
       "    }\n",
       "\n",
       "    .dataframe thead th {\n",
       "        text-align: right;\n",
       "    }\n",
       "</style>\n",
       "<table border=\"1\" class=\"dataframe\">\n",
       "  <thead>\n",
       "    <tr style=\"text-align: right;\">\n",
       "      <th></th>\n",
       "      <th>Кол-во должников</th>\n",
       "      <th>Кол-во заемщиков</th>\n",
       "      <th>Процент должников</th>\n",
       "    </tr>\n",
       "    <tr>\n",
       "      <th>Кол-во детей</th>\n",
       "      <th></th>\n",
       "      <th></th>\n",
       "      <th></th>\n",
       "    </tr>\n",
       "  </thead>\n",
       "  <tbody>\n",
       "    <tr>\n",
       "      <th>0</th>\n",
       "      <td>1063</td>\n",
       "      <td>14091</td>\n",
       "      <td>7.5%</td>\n",
       "    </tr>\n",
       "    <tr>\n",
       "      <th>1</th>\n",
       "      <td>444</td>\n",
       "      <td>4808</td>\n",
       "      <td>9.2%</td>\n",
       "    </tr>\n",
       "    <tr>\n",
       "      <th>2</th>\n",
       "      <td>194</td>\n",
       "      <td>2052</td>\n",
       "      <td>9.5%</td>\n",
       "    </tr>\n",
       "    <tr>\n",
       "      <th>3</th>\n",
       "      <td>27</td>\n",
       "      <td>330</td>\n",
       "      <td>8.2%</td>\n",
       "    </tr>\n",
       "    <tr>\n",
       "      <th>4</th>\n",
       "      <td>4</td>\n",
       "      <td>41</td>\n",
       "      <td>9.8%</td>\n",
       "    </tr>\n",
       "    <tr>\n",
       "      <th>5</th>\n",
       "      <td>0</td>\n",
       "      <td>9</td>\n",
       "      <td>0.0%</td>\n",
       "    </tr>\n",
       "  </tbody>\n",
       "</table>\n",
       "</div>"
      ],
      "text/plain": [
       "              Кол-во должников  Кол-во заемщиков Процент должников\n",
       "Кол-во детей                                                      \n",
       "0                         1063             14091              7.5%\n",
       "1                          444              4808              9.2%\n",
       "2                          194              2052              9.5%\n",
       "3                           27               330              8.2%\n",
       "4                            4                41              9.8%\n",
       "5                            0                 9              0.0%"
      ]
     },
     "execution_count": 24,
     "metadata": {},
     "output_type": "execute_result"
    }
   ],
   "source": [
    "# Округление значения столбца 'Процент должников'\n",
    "data_pivot_children['Процент должников'] = (data_pivot_children['Процент должников']*100).round(1)\n",
    "\n",
    "# Приводим значение столбца 'Процент должников' к строчному типу\n",
    "data_pivot_children['Процент должников']= data_pivot_children['Процент должников'].astype('str') \n",
    "\n",
    "# Добавление символа '%' к значениям столбца 'Процент должников'\n",
    "data_pivot_children['Процент должников']= data_pivot_children['Процент должников'] + '%'\n",
    "\n",
    "# Вывод таблицы\n",
    "data_pivot_children "
   ]
  },
  {
   "cell_type": "markdown",
   "id": "2eb9088e",
   "metadata": {
    "deletable": false,
    "id": "2eb9088e"
   },
   "source": [
    "В получившихся данных, в связи с очень маленькой выборкой, мы не можем корректно сравнить категории Заемщиков, имеющих трех и более детей. По оставшимся категориям видно, что Заемщики не имеющие детей, лучше всего отдают кредиты, их доля составляет 7,5%. Заемщики, имеющие одного или двух детей, намного чаще не возвращают кредиты вовремя, их доля составляет 9,2% и 9,5% соответственно. Полученные данные указывают на наличие зависимости между количеством детей и возвратом кредита в срок."
   ]
  },
  {
   "cell_type": "markdown",
   "id": "74c9b3a7",
   "metadata": {
    "deletable": false,
    "editable": false,
    "id": "74c9b3a7"
   },
   "source": [
    "#### 3.2 Есть ли зависимость между семейным положением и возвратом кредита в срок?"
   ]
  },
  {
   "cell_type": "code",
   "execution_count": 25,
   "id": "8b9dddc1",
   "metadata": {},
   "outputs": [],
   "source": [
    "#Создаем сводную таблицу, в которой группируем данные в зависимости от семейного положения Заемщика\n",
    "data_pivot_family = data.pivot_table(index = ['family_status'], values = 'debt', aggfunc = ['sum','count','mean'])"
   ]
  },
  {
   "cell_type": "code",
   "execution_count": 26,
   "id": "8098ab3b",
   "metadata": {
    "deletable": false,
    "id": "8098ab3b"
   },
   "outputs": [],
   "source": [
    "#Сбрасываем индекс в получившейся таблице\n",
    "data_pivot_family = data_pivot_family.reset_index()\n",
    "\n",
    "#Переименовываем стобцы таблицы\n",
    "data_pivot_family.columns = ['Семейное положение','Кол-во должников','Кол-во заемщиков', 'Процент должников']\n"
   ]
  },
  {
   "cell_type": "code",
   "execution_count": 27,
   "id": "05551db6",
   "metadata": {},
   "outputs": [
    {
     "data": {
      "text/html": [
       "<div>\n",
       "<style scoped>\n",
       "    .dataframe tbody tr th:only-of-type {\n",
       "        vertical-align: middle;\n",
       "    }\n",
       "\n",
       "    .dataframe tbody tr th {\n",
       "        vertical-align: top;\n",
       "    }\n",
       "\n",
       "    .dataframe thead th {\n",
       "        text-align: right;\n",
       "    }\n",
       "</style>\n",
       "<table border=\"1\" class=\"dataframe\">\n",
       "  <thead>\n",
       "    <tr style=\"text-align: right;\">\n",
       "      <th></th>\n",
       "      <th>Семейное положение</th>\n",
       "      <th>Кол-во должников</th>\n",
       "      <th>Кол-во заемщиков</th>\n",
       "      <th>Процент должников</th>\n",
       "    </tr>\n",
       "  </thead>\n",
       "  <tbody>\n",
       "    <tr>\n",
       "      <th>0</th>\n",
       "      <td>Не женат / не замужем</td>\n",
       "      <td>273</td>\n",
       "      <td>2796</td>\n",
       "      <td>9.8%</td>\n",
       "    </tr>\n",
       "    <tr>\n",
       "      <th>1</th>\n",
       "      <td>в разводе</td>\n",
       "      <td>84</td>\n",
       "      <td>1189</td>\n",
       "      <td>7.1%</td>\n",
       "    </tr>\n",
       "    <tr>\n",
       "      <th>2</th>\n",
       "      <td>вдовец / вдова</td>\n",
       "      <td>63</td>\n",
       "      <td>951</td>\n",
       "      <td>6.6%</td>\n",
       "    </tr>\n",
       "    <tr>\n",
       "      <th>3</th>\n",
       "      <td>гражданский брак</td>\n",
       "      <td>385</td>\n",
       "      <td>4134</td>\n",
       "      <td>9.3%</td>\n",
       "    </tr>\n",
       "    <tr>\n",
       "      <th>4</th>\n",
       "      <td>женат / замужем</td>\n",
       "      <td>927</td>\n",
       "      <td>12261</td>\n",
       "      <td>7.6%</td>\n",
       "    </tr>\n",
       "  </tbody>\n",
       "</table>\n",
       "</div>"
      ],
      "text/plain": [
       "      Семейное положение  Кол-во должников  Кол-во заемщиков Процент должников\n",
       "0  Не женат / не замужем               273              2796              9.8%\n",
       "1              в разводе                84              1189              7.1%\n",
       "2         вдовец / вдова                63               951              6.6%\n",
       "3       гражданский брак               385              4134              9.3%\n",
       "4        женат / замужем               927             12261              7.6%"
      ]
     },
     "execution_count": 27,
     "metadata": {},
     "output_type": "execute_result"
    }
   ],
   "source": [
    "# Округление значения столбца 'Процент должников'\n",
    "data_pivot_family['Процент должников'] = (data_pivot_family['Процент должников']*100).round(1)\n",
    "\n",
    "# Приводим значение столбца 'Процент должников' к строчному типу\n",
    "data_pivot_family['Процент должников']= data_pivot_family['Процент должников'].astype('str')\n",
    "\n",
    "# Добавление символа '%' к значениям столбца 'Процент должников'\n",
    "data_pivot_family['Процент должников']= data_pivot_family['Процент должников'] + '%'\n",
    "\n",
    "\n",
    "# вывод таблицы\n",
    "data_pivot_family\n"
   ]
  },
  {
   "cell_type": "markdown",
   "id": "c389ca63",
   "metadata": {
    "deletable": false,
    "id": "c389ca63"
   },
   "source": [
    "В получившихся данных, в связи с маленькой выборкой, мы не можем корректно сравнить Заемщиков из категории 'в разводе' и 'вдовец/вдова'. Лучшие показатели по возврату кредита у Заемщиков из категории 'женат/замужем', их доля 7,6%. Показатели возврата кредита в Категориях 'гражданский брак' и 'не женат/не замужем' составляют 9,3% и 9,8% соответственно. Полученные данные указывают на наличие зависимости между семейным положением и возвратом кредита в срок."
   ]
  },
  {
   "cell_type": "markdown",
   "id": "9529de68",
   "metadata": {
    "deletable": false,
    "editable": false,
    "id": "9529de68"
   },
   "source": [
    "#### 3.3 Есть ли зависимость между уровнем дохода и возвратом кредита в срок?"
   ]
  },
  {
   "cell_type": "code",
   "execution_count": 28,
   "id": "8787f44a",
   "metadata": {
    "deletable": false,
    "id": "8787f44a"
   },
   "outputs": [],
   "source": [
    "#Создаем сводную таблицу, в которой группируем данные в зависимости от уровня дохода Заемщика\n",
    "data_pivot_total_income_category = data.pivot_table(index = ['total_income_category'], values = 'debt', aggfunc = ['sum','count','mean'])"
   ]
  },
  {
   "cell_type": "code",
   "execution_count": 29,
   "id": "27a381a8",
   "metadata": {},
   "outputs": [],
   "source": [
    "# Сбрасываем индекс в получившейся таблице\n",
    "data_pivot_total_income_category = data_pivot_total_income_category.reset_index()\n",
    "\n",
    "# Переименовываем стобцы таблицы\n",
    "data_pivot_total_income_category.columns = ['Уровень дохода','Кол-во должников','Кол-во заемщиков', 'Процент должников']\n"
   ]
  },
  {
   "cell_type": "code",
   "execution_count": 30,
   "id": "fd0e995b",
   "metadata": {},
   "outputs": [
    {
     "data": {
      "text/html": [
       "<div>\n",
       "<style scoped>\n",
       "    .dataframe tbody tr th:only-of-type {\n",
       "        vertical-align: middle;\n",
       "    }\n",
       "\n",
       "    .dataframe tbody tr th {\n",
       "        vertical-align: top;\n",
       "    }\n",
       "\n",
       "    .dataframe thead th {\n",
       "        text-align: right;\n",
       "    }\n",
       "</style>\n",
       "<table border=\"1\" class=\"dataframe\">\n",
       "  <thead>\n",
       "    <tr style=\"text-align: right;\">\n",
       "      <th></th>\n",
       "      <th>Уровень дохода</th>\n",
       "      <th>Кол-во должников</th>\n",
       "      <th>Кол-во заемщиков</th>\n",
       "      <th>Процент должников</th>\n",
       "    </tr>\n",
       "  </thead>\n",
       "  <tbody>\n",
       "    <tr>\n",
       "      <th>0</th>\n",
       "      <td>A</td>\n",
       "      <td>2</td>\n",
       "      <td>25</td>\n",
       "      <td>8.0%</td>\n",
       "    </tr>\n",
       "    <tr>\n",
       "      <th>1</th>\n",
       "      <td>B</td>\n",
       "      <td>354</td>\n",
       "      <td>5014</td>\n",
       "      <td>7.1%</td>\n",
       "    </tr>\n",
       "    <tr>\n",
       "      <th>2</th>\n",
       "      <td>C</td>\n",
       "      <td>1353</td>\n",
       "      <td>15921</td>\n",
       "      <td>8.5%</td>\n",
       "    </tr>\n",
       "    <tr>\n",
       "      <th>3</th>\n",
       "      <td>D</td>\n",
       "      <td>21</td>\n",
       "      <td>349</td>\n",
       "      <td>6.0%</td>\n",
       "    </tr>\n",
       "    <tr>\n",
       "      <th>4</th>\n",
       "      <td>E</td>\n",
       "      <td>2</td>\n",
       "      <td>22</td>\n",
       "      <td>9.1%</td>\n",
       "    </tr>\n",
       "  </tbody>\n",
       "</table>\n",
       "</div>"
      ],
      "text/plain": [
       "  Уровень дохода  Кол-во должников  Кол-во заемщиков Процент должников\n",
       "0              A                 2                25              8.0%\n",
       "1              B               354              5014              7.1%\n",
       "2              C              1353             15921              8.5%\n",
       "3              D                21               349              6.0%\n",
       "4              E                 2                22              9.1%"
      ]
     },
     "execution_count": 30,
     "metadata": {},
     "output_type": "execute_result"
    }
   ],
   "source": [
    "# Округление значения столбца 'Процент должников'\n",
    "data_pivot_total_income_category['Процент должников'] = (data_pivot_total_income_category['Процент должников']*100).round(1)\n",
    "\n",
    "# Приводим значение столбца 'Процент должников' к строчному типу\n",
    "data_pivot_total_income_category['Процент должников']= data_pivot_total_income_category['Процент должников'].astype('str')\n",
    "\n",
    "# Добавление символа '%' к значениям столбца 'Процент должников'\n",
    "data_pivot_total_income_category['Процент должников']= data_pivot_total_income_category['Процент должников'] + '%'\n",
    "\n",
    "# Вывод таблицы\n",
    "data_pivot_total_income_category"
   ]
  },
  {
   "cell_type": "markdown",
   "id": "6dd14b57",
   "metadata": {
    "deletable": false,
    "id": "6dd14b57"
   },
   "source": [
    "В получившихся данных, в связи с маленькой выборкой, мы не можем корректно сравнить Заемщиков из категории 'А', 'D' и 'Е'. В категориях 'B' и 'C' доля возврата кредита составляет 7,1% и 8,5%, что говорить о зависимости между уровнем дохода и возвратом кредита в срок."
   ]
  },
  {
   "cell_type": "markdown",
   "id": "1dcc9b12",
   "metadata": {
    "deletable": false,
    "editable": false,
    "id": "1dcc9b12"
   },
   "source": [
    "#### 3.4 Как разные цели кредита влияют на его возврат в срок?"
   ]
  },
  {
   "cell_type": "code",
   "execution_count": 31,
   "id": "c602bc8b",
   "metadata": {
    "deletable": false,
    "id": "c602bc8b"
   },
   "outputs": [],
   "source": [
    "# Создаем сводную таблицу, в которой группируем данные в зависимости от целей кредита\n",
    "data_pivot_purpose_category = data.pivot_table(index = ['purpose_category'], values = 'debt', aggfunc = ['sum','count','mean'])"
   ]
  },
  {
   "cell_type": "code",
   "execution_count": 32,
   "id": "e5e600f5",
   "metadata": {},
   "outputs": [],
   "source": [
    "# Сбрасываем индекс в получившейся таблице\n",
    "data_pivot_purpose_category = data_pivot_purpose_category.reset_index()\n",
    "\n",
    "# Переименовываем стобцы таблицы\n",
    "data_pivot_purpose_category.columns = ['Цели кредита','Кол-во должников','Кол-во заемщиков', 'Процент должников']"
   ]
  },
  {
   "cell_type": "code",
   "execution_count": 33,
   "id": "d433468a",
   "metadata": {},
   "outputs": [
    {
     "data": {
      "text/html": [
       "<div>\n",
       "<style scoped>\n",
       "    .dataframe tbody tr th:only-of-type {\n",
       "        vertical-align: middle;\n",
       "    }\n",
       "\n",
       "    .dataframe tbody tr th {\n",
       "        vertical-align: top;\n",
       "    }\n",
       "\n",
       "    .dataframe thead th {\n",
       "        text-align: right;\n",
       "    }\n",
       "</style>\n",
       "<table border=\"1\" class=\"dataframe\">\n",
       "  <thead>\n",
       "    <tr style=\"text-align: right;\">\n",
       "      <th></th>\n",
       "      <th>Цели кредита</th>\n",
       "      <th>Кол-во должников</th>\n",
       "      <th>Кол-во заемщиков</th>\n",
       "      <th>Процент должников</th>\n",
       "    </tr>\n",
       "  </thead>\n",
       "  <tbody>\n",
       "    <tr>\n",
       "      <th>0</th>\n",
       "      <td>операции с автомобилем</td>\n",
       "      <td>400</td>\n",
       "      <td>4279</td>\n",
       "      <td>9.3%</td>\n",
       "    </tr>\n",
       "    <tr>\n",
       "      <th>1</th>\n",
       "      <td>операции с недвижимостью</td>\n",
       "      <td>780</td>\n",
       "      <td>10751</td>\n",
       "      <td>7.3%</td>\n",
       "    </tr>\n",
       "    <tr>\n",
       "      <th>2</th>\n",
       "      <td>получение образования</td>\n",
       "      <td>369</td>\n",
       "      <td>3988</td>\n",
       "      <td>9.3%</td>\n",
       "    </tr>\n",
       "    <tr>\n",
       "      <th>3</th>\n",
       "      <td>проведение свадьбы</td>\n",
       "      <td>183</td>\n",
       "      <td>2313</td>\n",
       "      <td>7.9%</td>\n",
       "    </tr>\n",
       "  </tbody>\n",
       "</table>\n",
       "</div>"
      ],
      "text/plain": [
       "               Цели кредита  Кол-во должников  Кол-во заемщиков  \\\n",
       "0    операции с автомобилем               400              4279   \n",
       "1  операции с недвижимостью               780             10751   \n",
       "2     получение образования               369              3988   \n",
       "3        проведение свадьбы               183              2313   \n",
       "\n",
       "  Процент должников  \n",
       "0              9.3%  \n",
       "1              7.3%  \n",
       "2              9.3%  \n",
       "3              7.9%  "
      ]
     },
     "execution_count": 33,
     "metadata": {},
     "output_type": "execute_result"
    }
   ],
   "source": [
    "# Округление значения столбца 'Процент должников'\n",
    "data_pivot_purpose_category['Процент должников'] = (data_pivot_purpose_category['Процент должников']*100).round(1)\n",
    "\n",
    "# Приводим значение столбца 'Процент должников' к строчному типу\n",
    "data_pivot_purpose_category['Процент должников']= data_pivot_purpose_category['Процент должников'].astype('str')\n",
    "\n",
    "# Добавление символа '%' к значениям столбца 'Процент должников'\n",
    "data_pivot_purpose_category['Процент должников']= data_pivot_purpose_category['Процент должников'] + '%'\n",
    "\n",
    "# Вывод таблицы\n",
    "data_pivot_purpose_category"
   ]
  },
  {
   "cell_type": "markdown",
   "id": "cf05ed63",
   "metadata": {
    "deletable": false,
    "id": "cf05ed63"
   },
   "source": [
    "Чаще всего в срок не возвращают кредиты, взятые на покупку автомобиля и на получение образования - 9.3%. Процент невозврата кредитов, взятых на покупку недвижимости и проведение свадьбы составляет - 7,3% и 7,9% соответственно. Самыми надежными Заемщики являются те, кто берет ипотеку. Вероятнее всего это связанно с тем, что изначально Заемщикам из более рискованных категорий реже одобряют ипотечные кредиты, т.к. в связи со значительностью суммы ипотечного кредита для его получения необходимо соблюдение более жестких требований (возраст, доход и т.д.).  "
   ]
  },
  {
   "cell_type": "markdown",
   "id": "46c1f10b",
   "metadata": {
    "deletable": false,
    "editable": false,
    "id": "46c1f10b"
   },
   "source": [
    "#### 3.5 Приведите возможные причины появления пропусков в исходных данных."
   ]
  },
  {
   "cell_type": "markdown",
   "id": "3697d2a9",
   "metadata": {
    "deletable": false,
    "id": "3697d2a9"
   },
   "source": [
    "Пропуски в исходных данных могут появляться из-за человеческого фактора, технической ошибки, распознование текста, объединения или разделения данных"
   ]
  },
  {
   "cell_type": "markdown",
   "id": "3137d257",
   "metadata": {
    "deletable": false,
    "editable": false,
    "id": "3137d257"
   },
   "source": [
    "#### 3.6 Объясните, почему заполнить пропуски медианным значением — лучшее решение для количественных переменных."
   ]
  },
  {
   "cell_type": "markdown",
   "id": "cf40012a",
   "metadata": {
    "deletable": false,
    "id": "cf40012a"
   },
   "source": [
    "Медианные значения более корректно отражают данные, в которых есть значения, сильно выделяющиеся на фоне других. Метод позволяет получить более объективную информацию о имеющихся данных."
   ]
  },
  {
   "cell_type": "markdown",
   "id": "57bc304e",
   "metadata": {
    "deletable": false,
    "editable": false,
    "id": "57bc304e"
   },
   "source": [
    "### Шаг 4: общий вывод."
   ]
  },
  {
   "cell_type": "markdown",
   "id": "1ab75d1c",
   "metadata": {
    "deletable": false,
    "id": "1ab75d1c"
   },
   "source": [
    "Был проведен анализ статистики платёжеспособности клиентов с целью разобраться, влияет ли семейное положение и количество детей клиента на факт погашения кредита в срок. В результате проведенного анализ получены следующие выводы:\n",
    "\n",
    "**Вывод. Дети**\n",
    "\n",
    "В результате анализа предоставленных данных, можно утверждать, что имеется зависимость возврата кредита в срок от количества детей у Заемщика. Лучше всего отдают кредиты Заемщики не имеющие детей, их доля составляет 7,5%. Доля Заемщиков, имеющие одного или двух детей, составляет 9,2% и 9,5% соответственно, т.е. доля невозврата кредита растет с увеличением количества детей у Заемщика\n",
    "\n",
    "**Вывод. Семейное положение**\n",
    "\n",
    "По итогам анализа данных, наблюдается зависимость возврата кредита в срок от семейного положения Заемщика. Лучшие доля по возврату кредита у Заемщиков из категории 'женат/замужем' - 7,6%. Доля в категориях 'гражданский брак' и 'не женат/не замужем' составляют 9,3% и 9,8% соответственно, т.е. заемщики, состоящие в официальных семейных отношениях, чаще возвращают кредит вовремя.\n",
    "\n",
    "**Вывод. Уровень дохода**\n",
    "\n",
    "В связи с маленькой выборкой, корректно можно сравнить данных только из двух категорий 'B' и 'С' ('B' - Доход выше среднего, 'С' - Средний доход). В категориях 'B' и 'C' доля возврата кредита составляет 7,1% и 8,5%, т.е. чем выше доход, тем чаще возвращается кредит.\n",
    "\n",
    "**Вывод. Цели кредита**\n",
    "\n",
    "По итогам сравнения целей кредита, наихудшие показатели у кредитов, взятых на покупку автомобиля и на получение образования - 9.3%. Лучшие показатели у ипотечных кредитов - 7,3%. Доля кредитов, взятых на проведение свадьбы - 7,9%. Такие показатели ипотечных кредитов связанны с тем, что изначально из-за значительности суммы ипотечного кредита для его получения необходимо соблюдение более жестких требований (возраст, доход и т.д.).  \n",
    "\n",
    "**Итог**\n",
    "\n",
    "Из проведенного анализа можно сделать вывод, что количество детей, семейное положение, доход и цели кредита влияют на его возврат. Наилучшие показатели у Заемщиков с доходом выше среднего, в браке и не имеющие детей, берущих ипотечный кредит. Наиболее рискованные Заемщики, не состоящие в семейных отношениях, имеющие одного и более детей, со средним доходом и ниже, берущих кредит на покупку автомобиля или образование."
   ]
  }
 ],
 "metadata": {
  "ExecuteTimeLog": [
   {
    "duration": 57,
    "start_time": "2023-04-12T04:57:18.000Z"
   },
   {
    "duration": 5,
    "start_time": "2023-04-12T04:58:31.299Z"
   },
   {
    "duration": 665,
    "start_time": "2023-04-12T04:58:36.523Z"
   },
   {
    "duration": 19,
    "start_time": "2023-04-12T04:58:37.190Z"
   },
   {
    "duration": 38,
    "start_time": "2023-04-12T04:58:37.211Z"
   },
   {
    "duration": 39,
    "start_time": "2023-04-12T04:58:37.250Z"
   },
   {
    "duration": 51,
    "start_time": "2023-04-12T04:58:37.291Z"
   },
   {
    "duration": 8,
    "start_time": "2023-04-12T04:58:37.344Z"
   },
   {
    "duration": 35,
    "start_time": "2023-04-12T04:58:37.353Z"
   },
   {
    "duration": 43,
    "start_time": "2023-04-12T04:58:37.389Z"
   },
   {
    "duration": 44,
    "start_time": "2023-04-12T04:58:37.433Z"
   },
   {
    "duration": 58,
    "start_time": "2023-04-12T04:58:37.479Z"
   },
   {
    "duration": 69,
    "start_time": "2023-04-12T04:58:37.539Z"
   },
   {
    "duration": 9,
    "start_time": "2023-04-12T04:58:37.609Z"
   },
   {
    "duration": 32,
    "start_time": "2023-04-12T04:58:37.620Z"
   },
   {
    "duration": 40,
    "start_time": "2023-04-12T04:58:37.654Z"
   },
   {
    "duration": 62,
    "start_time": "2023-04-12T04:58:37.695Z"
   },
   {
    "duration": 38,
    "start_time": "2023-04-12T04:58:37.758Z"
   },
   {
    "duration": 34,
    "start_time": "2023-04-12T04:58:37.797Z"
   },
   {
    "duration": 58,
    "start_time": "2023-04-12T04:58:37.833Z"
   },
   {
    "duration": 36,
    "start_time": "2023-04-12T04:58:37.893Z"
   },
   {
    "duration": 33,
    "start_time": "2023-04-12T04:58:37.931Z"
   },
   {
    "duration": 51,
    "start_time": "2023-04-12T04:58:37.966Z"
   },
   {
    "duration": 112,
    "start_time": "2023-04-12T04:58:38.019Z"
   },
   {
    "duration": 0,
    "start_time": "2023-04-12T04:58:38.132Z"
   },
   {
    "duration": 0,
    "start_time": "2023-04-12T04:58:38.133Z"
   },
   {
    "duration": 0,
    "start_time": "2023-04-12T04:58:38.134Z"
   },
   {
    "duration": 14,
    "start_time": "2023-04-12T04:58:43.822Z"
   },
   {
    "duration": 477,
    "start_time": "2023-04-12T05:03:35.154Z"
   },
   {
    "duration": 20,
    "start_time": "2023-04-12T05:03:35.633Z"
   },
   {
    "duration": 27,
    "start_time": "2023-04-12T05:03:35.655Z"
   },
   {
    "duration": 45,
    "start_time": "2023-04-12T05:03:35.684Z"
   },
   {
    "duration": 44,
    "start_time": "2023-04-12T05:03:35.730Z"
   },
   {
    "duration": 3,
    "start_time": "2023-04-12T05:03:35.775Z"
   },
   {
    "duration": 37,
    "start_time": "2023-04-12T05:03:35.779Z"
   },
   {
    "duration": 19,
    "start_time": "2023-04-12T05:03:35.818Z"
   },
   {
    "duration": 28,
    "start_time": "2023-04-12T05:03:35.838Z"
   },
   {
    "duration": 40,
    "start_time": "2023-04-12T05:03:35.869Z"
   },
   {
    "duration": 54,
    "start_time": "2023-04-12T05:03:35.911Z"
   },
   {
    "duration": 17,
    "start_time": "2023-04-12T05:03:35.967Z"
   },
   {
    "duration": 30,
    "start_time": "2023-04-12T05:03:35.985Z"
   },
   {
    "duration": 34,
    "start_time": "2023-04-12T05:03:36.016Z"
   },
   {
    "duration": 54,
    "start_time": "2023-04-12T05:03:36.051Z"
   },
   {
    "duration": 28,
    "start_time": "2023-04-12T05:03:36.107Z"
   },
   {
    "duration": 30,
    "start_time": "2023-04-12T05:03:36.136Z"
   },
   {
    "duration": 31,
    "start_time": "2023-04-12T05:03:36.167Z"
   },
   {
    "duration": 27,
    "start_time": "2023-04-12T05:03:36.200Z"
   },
   {
    "duration": 37,
    "start_time": "2023-04-12T05:03:36.229Z"
   },
   {
    "duration": 57,
    "start_time": "2023-04-12T05:03:36.268Z"
   },
   {
    "duration": 53,
    "start_time": "2023-04-12T05:03:36.326Z"
   },
   {
    "duration": 23,
    "start_time": "2023-04-12T05:03:36.380Z"
   },
   {
    "duration": 24,
    "start_time": "2023-04-12T05:03:36.404Z"
   },
   {
    "duration": 29,
    "start_time": "2023-04-12T05:03:36.430Z"
   },
   {
    "duration": 101,
    "start_time": "2023-04-12T05:06:00.996Z"
   },
   {
    "duration": 10,
    "start_time": "2023-04-12T05:06:11.540Z"
   },
   {
    "duration": 12,
    "start_time": "2023-04-12T05:07:10.585Z"
   },
   {
    "duration": 159,
    "start_time": "2023-04-12T05:07:27.002Z"
   },
   {
    "duration": 90,
    "start_time": "2023-04-12T05:07:35.034Z"
   },
   {
    "duration": 11,
    "start_time": "2023-04-12T05:07:47.339Z"
   },
   {
    "duration": 14,
    "start_time": "2023-04-12T05:07:54.872Z"
   },
   {
    "duration": 864,
    "start_time": "2023-04-12T05:11:31.152Z"
   },
   {
    "duration": 472,
    "start_time": "2023-04-12T05:11:38.297Z"
   },
   {
    "duration": 21,
    "start_time": "2023-04-12T05:11:38.772Z"
   },
   {
    "duration": 15,
    "start_time": "2023-04-12T05:11:38.794Z"
   },
   {
    "duration": 10,
    "start_time": "2023-04-12T05:11:38.810Z"
   },
   {
    "duration": 32,
    "start_time": "2023-04-12T05:11:38.821Z"
   },
   {
    "duration": 3,
    "start_time": "2023-04-12T05:11:38.855Z"
   },
   {
    "duration": 27,
    "start_time": "2023-04-12T05:11:38.859Z"
   },
   {
    "duration": 22,
    "start_time": "2023-04-12T05:11:38.887Z"
   },
   {
    "duration": 10,
    "start_time": "2023-04-12T05:11:38.910Z"
   },
   {
    "duration": 5,
    "start_time": "2023-04-12T05:11:38.922Z"
   },
   {
    "duration": 35,
    "start_time": "2023-04-12T05:11:38.929Z"
   },
   {
    "duration": 10,
    "start_time": "2023-04-12T05:11:38.966Z"
   },
   {
    "duration": 4,
    "start_time": "2023-04-12T05:11:38.983Z"
   },
   {
    "duration": 13,
    "start_time": "2023-04-12T05:11:38.988Z"
   },
   {
    "duration": 19,
    "start_time": "2023-04-12T05:11:39.003Z"
   },
   {
    "duration": 16,
    "start_time": "2023-04-12T05:11:39.023Z"
   },
   {
    "duration": 3,
    "start_time": "2023-04-12T05:11:39.041Z"
   },
   {
    "duration": 12,
    "start_time": "2023-04-12T05:11:39.046Z"
   },
   {
    "duration": 26,
    "start_time": "2023-04-12T05:11:39.059Z"
   },
   {
    "duration": 4,
    "start_time": "2023-04-12T05:11:39.087Z"
   },
   {
    "duration": 12,
    "start_time": "2023-04-12T05:11:39.092Z"
   },
   {
    "duration": 112,
    "start_time": "2023-04-12T05:11:39.106Z"
   },
   {
    "duration": 0,
    "start_time": "2023-04-12T05:11:39.220Z"
   },
   {
    "duration": 0,
    "start_time": "2023-04-12T05:11:39.221Z"
   },
   {
    "duration": 0,
    "start_time": "2023-04-12T05:11:39.222Z"
   },
   {
    "duration": 12,
    "start_time": "2023-04-12T05:11:49.317Z"
   },
   {
    "duration": 9,
    "start_time": "2023-04-12T05:13:41.183Z"
   },
   {
    "duration": 12,
    "start_time": "2023-04-12T05:13:53.598Z"
   },
   {
    "duration": 12,
    "start_time": "2023-04-12T05:15:30.340Z"
   },
   {
    "duration": 81,
    "start_time": "2023-04-12T16:13:04.161Z"
   },
   {
    "duration": 617,
    "start_time": "2023-04-12T16:13:11.147Z"
   },
   {
    "duration": 26,
    "start_time": "2023-04-12T16:13:11.767Z"
   },
   {
    "duration": 19,
    "start_time": "2023-04-12T16:13:11.794Z"
   },
   {
    "duration": 28,
    "start_time": "2023-04-12T16:13:11.814Z"
   },
   {
    "duration": 56,
    "start_time": "2023-04-12T16:13:11.845Z"
   },
   {
    "duration": 3,
    "start_time": "2023-04-12T16:13:11.903Z"
   },
   {
    "duration": 38,
    "start_time": "2023-04-12T16:13:11.908Z"
   },
   {
    "duration": 20,
    "start_time": "2023-04-12T16:13:11.948Z"
   },
   {
    "duration": 12,
    "start_time": "2023-04-12T16:13:11.970Z"
   },
   {
    "duration": 14,
    "start_time": "2023-04-12T16:13:11.984Z"
   },
   {
    "duration": 60,
    "start_time": "2023-04-12T16:13:11.999Z"
   },
   {
    "duration": 12,
    "start_time": "2023-04-12T16:13:12.064Z"
   },
   {
    "duration": 3,
    "start_time": "2023-04-12T16:13:12.077Z"
   },
   {
    "duration": 13,
    "start_time": "2023-04-12T16:13:12.083Z"
   },
   {
    "duration": 34,
    "start_time": "2023-04-12T16:13:12.097Z"
   },
   {
    "duration": 28,
    "start_time": "2023-04-12T16:13:12.134Z"
   },
   {
    "duration": 4,
    "start_time": "2023-04-12T16:13:12.167Z"
   },
   {
    "duration": 20,
    "start_time": "2023-04-12T16:13:12.173Z"
   },
   {
    "duration": 15,
    "start_time": "2023-04-12T16:13:12.195Z"
   },
   {
    "duration": 9,
    "start_time": "2023-04-12T16:13:12.212Z"
   },
   {
    "duration": 27,
    "start_time": "2023-04-12T16:13:12.232Z"
   },
   {
    "duration": 15,
    "start_time": "2023-04-12T16:13:12.267Z"
   },
   {
    "duration": 2,
    "start_time": "2023-04-12T16:13:12.284Z"
   },
   {
    "duration": 6,
    "start_time": "2023-04-12T16:13:12.287Z"
   },
   {
    "duration": 21,
    "start_time": "2023-04-12T16:13:12.294Z"
   },
   {
    "duration": 20,
    "start_time": "2023-04-12T16:13:16.610Z"
   },
   {
    "duration": 112,
    "start_time": "2023-04-12T16:15:00.276Z"
   },
   {
    "duration": 28,
    "start_time": "2023-04-12T16:15:36.243Z"
   },
   {
    "duration": 61,
    "start_time": "2023-04-12T16:18:41.771Z"
   },
   {
    "duration": 78,
    "start_time": "2023-04-12T16:19:21.306Z"
   },
   {
    "duration": 25,
    "start_time": "2023-04-12T16:19:40.240Z"
   },
   {
    "duration": 20,
    "start_time": "2023-04-12T16:26:32.614Z"
   },
   {
    "duration": 11,
    "start_time": "2023-04-12T16:33:22.399Z"
   },
   {
    "duration": 16,
    "start_time": "2023-04-12T16:34:15.478Z"
   },
   {
    "duration": 17,
    "start_time": "2023-04-12T16:35:41.098Z"
   },
   {
    "duration": 22,
    "start_time": "2023-04-12T16:35:49.963Z"
   },
   {
    "duration": 22,
    "start_time": "2023-04-12T16:36:08.464Z"
   },
   {
    "duration": 30,
    "start_time": "2023-04-12T16:52:43.843Z"
   },
   {
    "duration": 23,
    "start_time": "2023-04-12T17:02:09.540Z"
   },
   {
    "duration": 32,
    "start_time": "2023-04-12T17:28:54.510Z"
   },
   {
    "duration": 48,
    "start_time": "2023-04-12T17:30:11.298Z"
   },
   {
    "duration": 45,
    "start_time": "2023-04-12T17:31:27.897Z"
   },
   {
    "duration": 23,
    "start_time": "2023-04-12T17:31:44.950Z"
   },
   {
    "duration": 56,
    "start_time": "2023-04-12T17:33:46.793Z"
   },
   {
    "duration": 308,
    "start_time": "2023-04-12T17:33:54.684Z"
   },
   {
    "duration": 23,
    "start_time": "2023-04-12T17:34:31.550Z"
   },
   {
    "duration": 322,
    "start_time": "2023-04-12T17:36:08.658Z"
   },
   {
    "duration": 41,
    "start_time": "2023-04-12T17:36:18.005Z"
   },
   {
    "duration": 24,
    "start_time": "2023-04-12T17:56:15.785Z"
   },
   {
    "duration": 32,
    "start_time": "2023-04-12T17:56:23.590Z"
   },
   {
    "duration": 24,
    "start_time": "2023-04-12T17:56:35.357Z"
   },
   {
    "duration": 25,
    "start_time": "2023-04-12T17:56:45.459Z"
   },
   {
    "duration": 48,
    "start_time": "2023-04-12T17:56:52.498Z"
   },
   {
    "duration": 30,
    "start_time": "2023-04-12T17:57:17.944Z"
   },
   {
    "duration": 31,
    "start_time": "2023-04-12T17:57:22.960Z"
   },
   {
    "duration": 23,
    "start_time": "2023-04-12T18:04:38.077Z"
   },
   {
    "duration": 49,
    "start_time": "2023-04-12T18:04:49.080Z"
   },
   {
    "duration": 55,
    "start_time": "2023-04-12T18:04:57.335Z"
   },
   {
    "duration": 28,
    "start_time": "2023-04-12T18:05:03.964Z"
   },
   {
    "duration": 70,
    "start_time": "2023-04-12T18:05:37.811Z"
   },
   {
    "duration": 26,
    "start_time": "2023-04-12T18:05:57.287Z"
   },
   {
    "duration": 59,
    "start_time": "2023-04-12T18:06:02.515Z"
   },
   {
    "duration": 45,
    "start_time": "2023-04-12T18:13:03.707Z"
   },
   {
    "duration": 576,
    "start_time": "2023-04-12T18:13:30.835Z"
   },
   {
    "duration": 50,
    "start_time": "2023-04-12T18:13:31.413Z"
   },
   {
    "duration": 16,
    "start_time": "2023-04-12T18:13:31.476Z"
   },
   {
    "duration": 14,
    "start_time": "2023-04-12T18:13:31.494Z"
   },
   {
    "duration": 79,
    "start_time": "2023-04-12T18:13:31.509Z"
   },
   {
    "duration": 4,
    "start_time": "2023-04-12T18:13:31.590Z"
   },
   {
    "duration": 63,
    "start_time": "2023-04-12T18:13:31.596Z"
   },
   {
    "duration": 20,
    "start_time": "2023-04-12T18:13:31.664Z"
   },
   {
    "duration": 22,
    "start_time": "2023-04-12T18:13:31.686Z"
   },
   {
    "duration": 42,
    "start_time": "2023-04-12T18:13:31.712Z"
   },
   {
    "duration": 55,
    "start_time": "2023-04-12T18:13:31.755Z"
   },
   {
    "duration": 26,
    "start_time": "2023-04-12T18:13:31.812Z"
   },
   {
    "duration": 33,
    "start_time": "2023-04-12T18:13:31.842Z"
   },
   {
    "duration": 22,
    "start_time": "2023-04-12T18:13:31.877Z"
   },
   {
    "duration": 66,
    "start_time": "2023-04-12T18:13:31.900Z"
   },
   {
    "duration": 27,
    "start_time": "2023-04-12T18:13:31.968Z"
   },
   {
    "duration": 4,
    "start_time": "2023-04-12T18:13:31.996Z"
   },
   {
    "duration": 14,
    "start_time": "2023-04-12T18:13:32.001Z"
   },
   {
    "duration": 65,
    "start_time": "2023-04-12T18:13:32.017Z"
   },
   {
    "duration": 7,
    "start_time": "2023-04-12T18:13:32.084Z"
   },
   {
    "duration": 13,
    "start_time": "2023-04-12T18:13:32.093Z"
   },
   {
    "duration": 73,
    "start_time": "2023-04-12T18:13:32.107Z"
   },
   {
    "duration": 3,
    "start_time": "2023-04-12T18:13:32.183Z"
   },
   {
    "duration": 16,
    "start_time": "2023-04-12T18:13:32.187Z"
   },
   {
    "duration": 6,
    "start_time": "2023-04-12T18:13:32.205Z"
   },
   {
    "duration": 72,
    "start_time": "2023-04-12T18:21:16.215Z"
   },
   {
    "duration": 58,
    "start_time": "2023-04-12T18:22:42.304Z"
   },
   {
    "duration": 27,
    "start_time": "2023-04-12T18:24:14.078Z"
   },
   {
    "duration": 23,
    "start_time": "2023-04-12T18:25:23.557Z"
   },
   {
    "duration": 109,
    "start_time": "2023-04-12T18:28:46.560Z"
   },
   {
    "duration": 25,
    "start_time": "2023-04-12T18:28:55.546Z"
   },
   {
    "duration": 29,
    "start_time": "2023-04-12T18:31:50.687Z"
   },
   {
    "duration": 24,
    "start_time": "2023-04-12T18:32:41.090Z"
   },
   {
    "duration": 50,
    "start_time": "2023-04-12T18:53:19.854Z"
   },
   {
    "duration": 94,
    "start_time": "2023-04-12T18:53:33.103Z"
   },
   {
    "duration": 50,
    "start_time": "2023-04-12T18:53:52.555Z"
   },
   {
    "duration": 29,
    "start_time": "2023-04-12T18:57:01.790Z"
   },
   {
    "duration": 33,
    "start_time": "2023-04-12T19:15:47.150Z"
   },
   {
    "duration": 41,
    "start_time": "2023-04-12T19:17:57.393Z"
   },
   {
    "duration": 8,
    "start_time": "2023-04-12T19:20:26.364Z"
   },
   {
    "duration": 1008,
    "start_time": "2023-04-12T19:21:22.667Z"
   },
   {
    "duration": 9,
    "start_time": "2023-04-12T19:23:03.861Z"
   },
   {
    "duration": 19,
    "start_time": "2023-04-12T19:23:24.047Z"
   },
   {
    "duration": 563,
    "start_time": "2023-04-12T19:23:42.335Z"
   },
   {
    "duration": 41,
    "start_time": "2023-04-12T19:23:42.901Z"
   },
   {
    "duration": 22,
    "start_time": "2023-04-12T19:23:42.944Z"
   },
   {
    "duration": 11,
    "start_time": "2023-04-12T19:23:42.972Z"
   },
   {
    "duration": 56,
    "start_time": "2023-04-12T19:23:42.986Z"
   },
   {
    "duration": 7,
    "start_time": "2023-04-12T19:23:43.056Z"
   },
   {
    "duration": 8,
    "start_time": "2023-04-12T19:23:43.067Z"
   },
   {
    "duration": 4,
    "start_time": "2023-04-12T19:23:43.077Z"
   },
   {
    "duration": 10,
    "start_time": "2023-04-12T19:23:43.083Z"
   },
   {
    "duration": 4,
    "start_time": "2023-04-12T19:23:43.094Z"
   },
   {
    "duration": 63,
    "start_time": "2023-04-12T19:23:43.100Z"
   },
   {
    "duration": 10,
    "start_time": "2023-04-12T19:23:43.168Z"
   },
   {
    "duration": 5,
    "start_time": "2023-04-12T19:23:43.179Z"
   },
   {
    "duration": 11,
    "start_time": "2023-04-12T19:23:43.187Z"
   },
   {
    "duration": 51,
    "start_time": "2023-04-12T19:23:43.199Z"
   },
   {
    "duration": 20,
    "start_time": "2023-04-12T19:23:43.251Z"
   },
   {
    "duration": 4,
    "start_time": "2023-04-12T19:23:43.272Z"
   },
   {
    "duration": 11,
    "start_time": "2023-04-12T19:23:43.278Z"
   },
   {
    "duration": 8,
    "start_time": "2023-04-12T19:23:43.290Z"
   },
   {
    "duration": 3,
    "start_time": "2023-04-12T19:23:43.300Z"
   },
   {
    "duration": 9,
    "start_time": "2023-04-12T19:23:43.305Z"
   },
   {
    "duration": 71,
    "start_time": "2023-04-12T19:23:43.315Z"
   },
   {
    "duration": 0,
    "start_time": "2023-04-12T19:23:43.387Z"
   },
   {
    "duration": 0,
    "start_time": "2023-04-12T19:23:43.389Z"
   },
   {
    "duration": 0,
    "start_time": "2023-04-12T19:23:43.390Z"
   },
   {
    "duration": 0,
    "start_time": "2023-04-12T19:23:43.392Z"
   },
   {
    "duration": 0,
    "start_time": "2023-04-12T19:23:43.393Z"
   },
   {
    "duration": 103,
    "start_time": "2023-04-12T19:23:47.231Z"
   },
   {
    "duration": 6,
    "start_time": "2023-04-12T19:23:49.568Z"
   },
   {
    "duration": 42,
    "start_time": "2023-04-12T19:24:59.034Z"
   },
   {
    "duration": 14,
    "start_time": "2023-04-12T19:24:59.734Z"
   },
   {
    "duration": 7,
    "start_time": "2023-04-12T19:25:42.702Z"
   },
   {
    "duration": 7,
    "start_time": "2023-04-12T19:26:11.289Z"
   },
   {
    "duration": 10,
    "start_time": "2023-04-12T19:26:42.843Z"
   },
   {
    "duration": 45,
    "start_time": "2023-04-12T19:27:02.448Z"
   },
   {
    "duration": 29,
    "start_time": "2023-04-12T19:29:43.663Z"
   },
   {
    "duration": 7,
    "start_time": "2023-04-12T19:30:26.674Z"
   },
   {
    "duration": 236,
    "start_time": "2023-04-12T19:31:54.664Z"
   },
   {
    "duration": 592,
    "start_time": "2023-04-12T19:34:16.462Z"
   },
   {
    "duration": 28,
    "start_time": "2023-04-12T19:34:17.058Z"
   },
   {
    "duration": 18,
    "start_time": "2023-04-12T19:34:17.088Z"
   },
   {
    "duration": 46,
    "start_time": "2023-04-12T19:34:17.108Z"
   },
   {
    "duration": 33,
    "start_time": "2023-04-12T19:34:17.166Z"
   },
   {
    "duration": 3,
    "start_time": "2023-04-12T19:34:17.201Z"
   },
   {
    "duration": 56,
    "start_time": "2023-04-12T19:34:17.205Z"
   },
   {
    "duration": 13,
    "start_time": "2023-04-12T19:34:17.263Z"
   },
   {
    "duration": 18,
    "start_time": "2023-04-12T19:34:17.278Z"
   },
   {
    "duration": 12,
    "start_time": "2023-04-12T19:34:17.298Z"
   },
   {
    "duration": 61,
    "start_time": "2023-04-12T19:34:17.312Z"
   },
   {
    "duration": 17,
    "start_time": "2023-04-12T19:34:17.375Z"
   },
   {
    "duration": 12,
    "start_time": "2023-04-12T19:34:17.394Z"
   },
   {
    "duration": 49,
    "start_time": "2023-04-12T19:34:17.408Z"
   },
   {
    "duration": 38,
    "start_time": "2023-04-12T19:34:17.459Z"
   },
   {
    "duration": 23,
    "start_time": "2023-04-12T19:34:17.499Z"
   },
   {
    "duration": 11,
    "start_time": "2023-04-12T19:34:17.523Z"
   },
   {
    "duration": 33,
    "start_time": "2023-04-12T19:34:17.535Z"
   },
   {
    "duration": 7,
    "start_time": "2023-04-12T19:34:17.570Z"
   },
   {
    "duration": 28,
    "start_time": "2023-04-12T19:34:17.578Z"
   },
   {
    "duration": 55,
    "start_time": "2023-04-12T19:34:17.608Z"
   },
   {
    "duration": 31,
    "start_time": "2023-04-12T19:34:17.665Z"
   },
   {
    "duration": 54,
    "start_time": "2023-04-12T19:34:17.697Z"
   },
   {
    "duration": 15,
    "start_time": "2023-04-12T19:34:17.759Z"
   },
   {
    "duration": 27,
    "start_time": "2023-04-12T19:34:17.775Z"
   },
   {
    "duration": 25,
    "start_time": "2023-04-12T19:34:17.804Z"
   },
   {
    "duration": 53,
    "start_time": "2023-04-12T19:35:19.713Z"
   },
   {
    "duration": 516,
    "start_time": "2023-04-12T20:03:05.295Z"
   },
   {
    "duration": 27,
    "start_time": "2023-04-12T20:03:05.813Z"
   },
   {
    "duration": 15,
    "start_time": "2023-04-12T20:03:05.842Z"
   },
   {
    "duration": 9,
    "start_time": "2023-04-12T20:03:05.859Z"
   },
   {
    "duration": 62,
    "start_time": "2023-04-12T20:03:05.869Z"
   },
   {
    "duration": 4,
    "start_time": "2023-04-12T20:03:05.933Z"
   },
   {
    "duration": 18,
    "start_time": "2023-04-12T20:03:05.939Z"
   },
   {
    "duration": 4,
    "start_time": "2023-04-12T20:03:05.958Z"
   },
   {
    "duration": 7,
    "start_time": "2023-04-12T20:03:05.964Z"
   },
   {
    "duration": 4,
    "start_time": "2023-04-12T20:03:05.975Z"
   },
   {
    "duration": 60,
    "start_time": "2023-04-12T20:03:05.981Z"
   },
   {
    "duration": 10,
    "start_time": "2023-04-12T20:03:06.043Z"
   },
   {
    "duration": 14,
    "start_time": "2023-04-12T20:03:06.055Z"
   },
   {
    "duration": 15,
    "start_time": "2023-04-12T20:03:06.071Z"
   },
   {
    "duration": 18,
    "start_time": "2023-04-12T20:03:06.088Z"
   },
   {
    "duration": 27,
    "start_time": "2023-04-12T20:03:06.108Z"
   },
   {
    "duration": 4,
    "start_time": "2023-04-12T20:03:06.137Z"
   },
   {
    "duration": 12,
    "start_time": "2023-04-12T20:03:06.142Z"
   },
   {
    "duration": 7,
    "start_time": "2023-04-12T20:03:06.156Z"
   },
   {
    "duration": 3,
    "start_time": "2023-04-12T20:03:06.164Z"
   },
   {
    "duration": 19,
    "start_time": "2023-04-12T20:03:06.169Z"
   },
   {
    "duration": 58,
    "start_time": "2023-04-12T20:03:06.189Z"
   },
   {
    "duration": 24,
    "start_time": "2023-04-12T20:03:06.249Z"
   },
   {
    "duration": 9,
    "start_time": "2023-04-12T20:03:06.275Z"
   },
   {
    "duration": 47,
    "start_time": "2023-04-12T20:03:06.286Z"
   },
   {
    "duration": 10,
    "start_time": "2023-04-12T20:03:06.335Z"
   },
   {
    "duration": 13,
    "start_time": "2023-04-12T20:03:06.347Z"
   },
   {
    "duration": 266,
    "start_time": "2023-04-12T20:03:18.949Z"
   },
   {
    "duration": 487,
    "start_time": "2023-04-12T20:03:28.444Z"
   },
   {
    "duration": 22,
    "start_time": "2023-04-12T20:03:28.933Z"
   },
   {
    "duration": 15,
    "start_time": "2023-04-12T20:03:28.957Z"
   },
   {
    "duration": 9,
    "start_time": "2023-04-12T20:03:28.974Z"
   },
   {
    "duration": 55,
    "start_time": "2023-04-12T20:03:28.985Z"
   },
   {
    "duration": 3,
    "start_time": "2023-04-12T20:03:29.042Z"
   },
   {
    "duration": 9,
    "start_time": "2023-04-12T20:03:29.047Z"
   },
   {
    "duration": 4,
    "start_time": "2023-04-12T20:03:29.057Z"
   },
   {
    "duration": 8,
    "start_time": "2023-04-12T20:03:29.063Z"
   },
   {
    "duration": 4,
    "start_time": "2023-04-12T20:03:29.075Z"
   },
   {
    "duration": 59,
    "start_time": "2023-04-12T20:03:29.080Z"
   },
   {
    "duration": 10,
    "start_time": "2023-04-12T20:03:29.141Z"
   },
   {
    "duration": 11,
    "start_time": "2023-04-12T20:03:29.153Z"
   },
   {
    "duration": 23,
    "start_time": "2023-04-12T20:03:29.165Z"
   },
   {
    "duration": 46,
    "start_time": "2023-04-12T20:03:29.190Z"
   },
   {
    "duration": 18,
    "start_time": "2023-04-12T20:03:29.238Z"
   },
   {
    "duration": 3,
    "start_time": "2023-04-12T20:03:29.258Z"
   },
   {
    "duration": 19,
    "start_time": "2023-04-12T20:03:29.262Z"
   },
   {
    "duration": 9,
    "start_time": "2023-04-12T20:03:29.282Z"
   },
   {
    "duration": 8,
    "start_time": "2023-04-12T20:03:29.292Z"
   },
   {
    "duration": 27,
    "start_time": "2023-04-12T20:03:29.301Z"
   },
   {
    "duration": 34,
    "start_time": "2023-04-12T20:03:29.330Z"
   },
   {
    "duration": 24,
    "start_time": "2023-04-12T20:03:29.366Z"
   },
   {
    "duration": 40,
    "start_time": "2023-04-12T20:03:29.392Z"
   },
   {
    "duration": 23,
    "start_time": "2023-04-12T20:03:29.434Z"
   },
   {
    "duration": 9,
    "start_time": "2023-04-12T20:03:29.459Z"
   },
   {
    "duration": 30,
    "start_time": "2023-04-12T20:03:29.470Z"
   },
   {
    "duration": 461,
    "start_time": "2023-04-12T20:10:51.733Z"
   },
   {
    "duration": 26,
    "start_time": "2023-04-12T20:10:52.196Z"
   },
   {
    "duration": 23,
    "start_time": "2023-04-12T20:10:52.224Z"
   },
   {
    "duration": 9,
    "start_time": "2023-04-12T20:10:52.249Z"
   },
   {
    "duration": 43,
    "start_time": "2023-04-12T20:10:52.259Z"
   },
   {
    "duration": 3,
    "start_time": "2023-04-12T20:10:52.304Z"
   },
   {
    "duration": 30,
    "start_time": "2023-04-12T20:10:52.309Z"
   },
   {
    "duration": 5,
    "start_time": "2023-04-12T20:10:52.341Z"
   },
   {
    "duration": 23,
    "start_time": "2023-04-12T20:10:52.347Z"
   },
   {
    "duration": 4,
    "start_time": "2023-04-12T20:10:52.374Z"
   },
   {
    "duration": 47,
    "start_time": "2023-04-12T20:10:52.379Z"
   },
   {
    "duration": 12,
    "start_time": "2023-04-12T20:10:52.428Z"
   },
   {
    "duration": 18,
    "start_time": "2023-04-12T20:10:52.441Z"
   },
   {
    "duration": 24,
    "start_time": "2023-04-12T20:10:52.461Z"
   },
   {
    "duration": 29,
    "start_time": "2023-04-12T20:10:52.487Z"
   },
   {
    "duration": 22,
    "start_time": "2023-04-12T20:10:52.518Z"
   },
   {
    "duration": 4,
    "start_time": "2023-04-12T20:10:52.542Z"
   },
   {
    "duration": 17,
    "start_time": "2023-04-12T20:10:52.548Z"
   },
   {
    "duration": 14,
    "start_time": "2023-04-12T20:10:52.566Z"
   },
   {
    "duration": 9,
    "start_time": "2023-04-12T20:10:52.582Z"
   },
   {
    "duration": 41,
    "start_time": "2023-04-12T20:10:52.593Z"
   },
   {
    "duration": 31,
    "start_time": "2023-04-12T20:10:52.635Z"
   },
   {
    "duration": 24,
    "start_time": "2023-04-12T20:10:52.667Z"
   },
   {
    "duration": 9,
    "start_time": "2023-04-12T20:10:52.693Z"
   },
   {
    "duration": 34,
    "start_time": "2023-04-12T20:10:52.717Z"
   },
   {
    "duration": 9,
    "start_time": "2023-04-12T20:10:52.752Z"
   },
   {
    "duration": 37,
    "start_time": "2023-04-12T20:10:52.763Z"
   },
   {
    "duration": 10,
    "start_time": "2023-04-12T20:10:52.803Z"
   },
   {
    "duration": 51,
    "start_time": "2023-04-13T19:03:56.235Z"
   },
   {
    "duration": 8,
    "start_time": "2023-04-13T19:04:06.735Z"
   },
   {
    "duration": 8,
    "start_time": "2023-04-13T19:04:14.632Z"
   },
   {
    "duration": 9,
    "start_time": "2023-04-13T19:04:57.827Z"
   },
   {
    "duration": 9,
    "start_time": "2023-04-13T19:05:29.508Z"
   },
   {
    "duration": 768,
    "start_time": "2023-04-13T19:05:35.706Z"
   },
   {
    "duration": 24,
    "start_time": "2023-04-13T19:05:36.476Z"
   },
   {
    "duration": 24,
    "start_time": "2023-04-13T19:05:36.502Z"
   },
   {
    "duration": 11,
    "start_time": "2023-04-13T19:05:36.528Z"
   },
   {
    "duration": 52,
    "start_time": "2023-04-13T19:05:36.540Z"
   },
   {
    "duration": 3,
    "start_time": "2023-04-13T19:05:36.594Z"
   },
   {
    "duration": 26,
    "start_time": "2023-04-13T19:05:36.598Z"
   },
   {
    "duration": 16,
    "start_time": "2023-04-13T19:05:36.626Z"
   },
   {
    "duration": 32,
    "start_time": "2023-04-13T19:05:36.643Z"
   },
   {
    "duration": 14,
    "start_time": "2023-04-13T19:05:36.677Z"
   },
   {
    "duration": 56,
    "start_time": "2023-04-13T19:05:36.692Z"
   },
   {
    "duration": 11,
    "start_time": "2023-04-13T19:05:36.749Z"
   },
   {
    "duration": 17,
    "start_time": "2023-04-13T19:05:36.762Z"
   },
   {
    "duration": 36,
    "start_time": "2023-04-13T19:05:36.781Z"
   },
   {
    "duration": 38,
    "start_time": "2023-04-13T19:05:36.820Z"
   },
   {
    "duration": 19,
    "start_time": "2023-04-13T19:05:36.860Z"
   },
   {
    "duration": 3,
    "start_time": "2023-04-13T19:05:36.881Z"
   },
   {
    "duration": 26,
    "start_time": "2023-04-13T19:05:36.886Z"
   },
   {
    "duration": 10,
    "start_time": "2023-04-13T19:05:36.914Z"
   },
   {
    "duration": 9,
    "start_time": "2023-04-13T19:05:36.925Z"
   },
   {
    "duration": 17,
    "start_time": "2023-04-13T19:05:36.936Z"
   },
   {
    "duration": 43,
    "start_time": "2023-04-13T19:05:36.955Z"
   },
   {
    "duration": 26,
    "start_time": "2023-04-13T19:05:37.000Z"
   },
   {
    "duration": 10,
    "start_time": "2023-04-13T19:05:37.028Z"
   },
   {
    "duration": 26,
    "start_time": "2023-04-13T19:05:37.040Z"
   },
   {
    "duration": 10,
    "start_time": "2023-04-13T19:05:37.068Z"
   },
   {
    "duration": 51,
    "start_time": "2023-04-13T19:05:37.080Z"
   },
   {
    "duration": 9,
    "start_time": "2023-04-13T19:05:37.134Z"
   },
   {
    "duration": 26,
    "start_time": "2023-04-13T19:07:14.684Z"
   },
   {
    "duration": 27,
    "start_time": "2023-04-13T19:12:09.976Z"
   },
   {
    "duration": 27,
    "start_time": "2023-04-13T19:13:12.012Z"
   },
   {
    "duration": 26,
    "start_time": "2023-04-13T19:13:23.679Z"
   },
   {
    "duration": 26,
    "start_time": "2023-04-13T19:13:34.555Z"
   },
   {
    "duration": 27,
    "start_time": "2023-04-13T19:14:43.297Z"
   },
   {
    "duration": 29,
    "start_time": "2023-04-13T19:14:54.163Z"
   },
   {
    "duration": 472,
    "start_time": "2023-04-13T19:15:41.849Z"
   },
   {
    "duration": 24,
    "start_time": "2023-04-13T19:15:42.323Z"
   },
   {
    "duration": 22,
    "start_time": "2023-04-13T19:15:42.349Z"
   },
   {
    "duration": 33,
    "start_time": "2023-04-13T19:15:42.373Z"
   },
   {
    "duration": 65,
    "start_time": "2023-04-13T19:15:42.408Z"
   },
   {
    "duration": 5,
    "start_time": "2023-04-13T19:15:42.475Z"
   },
   {
    "duration": 24,
    "start_time": "2023-04-13T19:15:42.484Z"
   },
   {
    "duration": 5,
    "start_time": "2023-04-13T19:15:42.510Z"
   },
   {
    "duration": 74,
    "start_time": "2023-04-13T19:15:42.517Z"
   },
   {
    "duration": 24,
    "start_time": "2023-04-13T19:15:42.596Z"
   },
   {
    "duration": 74,
    "start_time": "2023-04-13T19:15:42.622Z"
   },
   {
    "duration": 13,
    "start_time": "2023-04-13T19:15:42.698Z"
   },
   {
    "duration": 16,
    "start_time": "2023-04-13T19:15:42.714Z"
   },
   {
    "duration": 38,
    "start_time": "2023-04-13T19:15:42.732Z"
   },
   {
    "duration": 48,
    "start_time": "2023-04-13T19:15:42.772Z"
   },
   {
    "duration": 27,
    "start_time": "2023-04-13T19:15:42.822Z"
   },
   {
    "duration": 4,
    "start_time": "2023-04-13T19:15:42.851Z"
   },
   {
    "duration": 21,
    "start_time": "2023-04-13T19:15:42.857Z"
   },
   {
    "duration": 18,
    "start_time": "2023-04-13T19:15:42.880Z"
   },
   {
    "duration": 11,
    "start_time": "2023-04-13T19:15:42.900Z"
   },
   {
    "duration": 30,
    "start_time": "2023-04-13T19:15:42.912Z"
   },
   {
    "duration": 39,
    "start_time": "2023-04-13T19:15:42.943Z"
   },
   {
    "duration": 26,
    "start_time": "2023-04-13T19:15:42.984Z"
   },
   {
    "duration": 19,
    "start_time": "2023-04-13T19:15:43.011Z"
   },
   {
    "duration": 33,
    "start_time": "2023-04-13T19:15:43.032Z"
   },
   {
    "duration": 11,
    "start_time": "2023-04-13T19:15:43.067Z"
   },
   {
    "duration": 39,
    "start_time": "2023-04-13T19:15:43.080Z"
   },
   {
    "duration": 13,
    "start_time": "2023-04-13T19:15:43.122Z"
   },
   {
    "duration": 141,
    "start_time": "2023-04-13T19:16:44.479Z"
   },
   {
    "duration": 35,
    "start_time": "2023-04-13T19:17:12.422Z"
   },
   {
    "duration": 29,
    "start_time": "2023-04-13T19:20:21.085Z"
   },
   {
    "duration": 411,
    "start_time": "2023-04-13T19:24:25.476Z"
   },
   {
    "duration": 22,
    "start_time": "2023-04-13T19:27:45.499Z"
   },
   {
    "duration": 4,
    "start_time": "2023-04-13T19:27:46.598Z"
   },
   {
    "duration": 10,
    "start_time": "2023-04-13T19:27:47.346Z"
   },
   {
    "duration": 10,
    "start_time": "2023-04-13T19:31:50.654Z"
   },
   {
    "duration": 27,
    "start_time": "2023-04-13T19:32:43.621Z"
   },
   {
    "duration": 5,
    "start_time": "2023-04-13T19:32:44.345Z"
   },
   {
    "duration": 11,
    "start_time": "2023-04-13T19:32:45.148Z"
   },
   {
    "duration": 35,
    "start_time": "2023-04-13T19:39:06.028Z"
   },
   {
    "duration": 6,
    "start_time": "2023-04-13T19:39:06.065Z"
   },
   {
    "duration": 11,
    "start_time": "2023-04-13T19:39:06.908Z"
   },
   {
    "duration": 501,
    "start_time": "2023-04-13T19:52:53.800Z"
   },
   {
    "duration": 22,
    "start_time": "2023-04-13T19:52:54.303Z"
   },
   {
    "duration": 15,
    "start_time": "2023-04-13T19:52:54.327Z"
   },
   {
    "duration": 29,
    "start_time": "2023-04-13T19:52:54.344Z"
   },
   {
    "duration": 38,
    "start_time": "2023-04-13T19:52:54.375Z"
   },
   {
    "duration": 3,
    "start_time": "2023-04-13T19:52:54.415Z"
   },
   {
    "duration": 18,
    "start_time": "2023-04-13T19:52:54.420Z"
   },
   {
    "duration": 5,
    "start_time": "2023-04-13T19:52:54.439Z"
   },
   {
    "duration": 10,
    "start_time": "2023-04-13T19:52:54.445Z"
   },
   {
    "duration": 4,
    "start_time": "2023-04-13T19:52:54.458Z"
   },
   {
    "duration": 36,
    "start_time": "2023-04-13T19:52:54.464Z"
   },
   {
    "duration": 23,
    "start_time": "2023-04-13T19:52:54.502Z"
   },
   {
    "duration": 3,
    "start_time": "2023-04-13T19:52:54.527Z"
   },
   {
    "duration": 15,
    "start_time": "2023-04-13T19:52:54.531Z"
   },
   {
    "duration": 22,
    "start_time": "2023-04-13T19:52:54.547Z"
   },
   {
    "duration": 46,
    "start_time": "2023-04-13T19:52:54.572Z"
   },
   {
    "duration": 3,
    "start_time": "2023-04-13T19:52:54.620Z"
   },
   {
    "duration": 21,
    "start_time": "2023-04-13T19:52:54.625Z"
   },
   {
    "duration": 12,
    "start_time": "2023-04-13T19:52:54.648Z"
   },
   {
    "duration": 11,
    "start_time": "2023-04-13T19:52:54.661Z"
   },
   {
    "duration": 23,
    "start_time": "2023-04-13T19:52:54.673Z"
   },
   {
    "duration": 28,
    "start_time": "2023-04-13T19:52:54.698Z"
   },
   {
    "duration": 4,
    "start_time": "2023-04-13T19:52:54.728Z"
   },
   {
    "duration": 21,
    "start_time": "2023-04-13T19:52:54.733Z"
   },
   {
    "duration": 35,
    "start_time": "2023-04-13T19:52:54.755Z"
   },
   {
    "duration": 5,
    "start_time": "2023-04-13T19:52:54.791Z"
   },
   {
    "duration": 20,
    "start_time": "2023-04-13T19:52:54.798Z"
   },
   {
    "duration": 39,
    "start_time": "2023-04-13T19:52:54.821Z"
   },
   {
    "duration": 5,
    "start_time": "2023-04-13T19:52:54.862Z"
   },
   {
    "duration": 21,
    "start_time": "2023-04-13T19:52:54.868Z"
   },
   {
    "duration": 35,
    "start_time": "2023-04-13T19:52:54.891Z"
   },
   {
    "duration": 10,
    "start_time": "2023-04-13T19:52:54.928Z"
   },
   {
    "duration": 11,
    "start_time": "2023-04-13T20:04:44.583Z"
   },
   {
    "duration": 453,
    "start_time": "2023-04-13T20:05:04.645Z"
   },
   {
    "duration": 24,
    "start_time": "2023-04-13T20:05:05.100Z"
   },
   {
    "duration": 16,
    "start_time": "2023-04-13T20:05:05.125Z"
   },
   {
    "duration": 14,
    "start_time": "2023-04-13T20:05:05.143Z"
   },
   {
    "duration": 58,
    "start_time": "2023-04-13T20:05:05.159Z"
   },
   {
    "duration": 3,
    "start_time": "2023-04-13T20:05:05.220Z"
   },
   {
    "duration": 12,
    "start_time": "2023-04-13T20:05:05.224Z"
   },
   {
    "duration": 5,
    "start_time": "2023-04-13T20:05:05.237Z"
   },
   {
    "duration": 9,
    "start_time": "2023-04-13T20:05:05.243Z"
   },
   {
    "duration": 5,
    "start_time": "2023-04-13T20:05:05.255Z"
   },
   {
    "duration": 69,
    "start_time": "2023-04-13T20:05:05.261Z"
   },
   {
    "duration": 11,
    "start_time": "2023-04-13T20:05:05.332Z"
   },
   {
    "duration": 3,
    "start_time": "2023-04-13T20:05:05.345Z"
   },
   {
    "duration": 16,
    "start_time": "2023-04-13T20:05:05.350Z"
   },
   {
    "duration": 22,
    "start_time": "2023-04-13T20:05:05.367Z"
   },
   {
    "duration": 37,
    "start_time": "2023-04-13T20:05:05.391Z"
   },
   {
    "duration": 4,
    "start_time": "2023-04-13T20:05:05.430Z"
   },
   {
    "duration": 21,
    "start_time": "2023-04-13T20:05:05.436Z"
   },
   {
    "duration": 6,
    "start_time": "2023-04-13T20:05:05.459Z"
   },
   {
    "duration": 6,
    "start_time": "2023-04-13T20:05:05.467Z"
   },
   {
    "duration": 10,
    "start_time": "2023-04-13T20:05:05.474Z"
   },
   {
    "duration": 44,
    "start_time": "2023-04-13T20:05:05.486Z"
   },
   {
    "duration": 3,
    "start_time": "2023-04-13T20:05:05.532Z"
   },
   {
    "duration": 13,
    "start_time": "2023-04-13T20:05:05.537Z"
   },
   {
    "duration": 32,
    "start_time": "2023-04-13T20:05:05.551Z"
   },
   {
    "duration": 6,
    "start_time": "2023-04-13T20:05:05.584Z"
   },
   {
    "duration": 30,
    "start_time": "2023-04-13T20:05:05.592Z"
   },
   {
    "duration": 34,
    "start_time": "2023-04-13T20:05:05.625Z"
   },
   {
    "duration": 5,
    "start_time": "2023-04-13T20:05:05.661Z"
   },
   {
    "duration": 17,
    "start_time": "2023-04-13T20:05:05.669Z"
   },
   {
    "duration": 43,
    "start_time": "2023-04-13T20:05:05.688Z"
   },
   {
    "duration": 11,
    "start_time": "2023-04-13T20:05:05.733Z"
   },
   {
    "duration": 512,
    "start_time": "2023-04-13T20:08:26.315Z"
   },
   {
    "duration": 24,
    "start_time": "2023-04-13T20:08:26.830Z"
   },
   {
    "duration": 17,
    "start_time": "2023-04-13T20:08:26.856Z"
   },
   {
    "duration": 12,
    "start_time": "2023-04-13T20:08:26.875Z"
   },
   {
    "duration": 61,
    "start_time": "2023-04-13T20:08:26.888Z"
   },
   {
    "duration": 3,
    "start_time": "2023-04-13T20:08:26.951Z"
   },
   {
    "duration": 18,
    "start_time": "2023-04-13T20:08:26.956Z"
   },
   {
    "duration": 7,
    "start_time": "2023-04-13T20:08:26.976Z"
   },
   {
    "duration": 12,
    "start_time": "2023-04-13T20:08:26.985Z"
   },
   {
    "duration": 18,
    "start_time": "2023-04-13T20:08:27.000Z"
   },
   {
    "duration": 42,
    "start_time": "2023-04-13T20:08:27.020Z"
   },
   {
    "duration": 10,
    "start_time": "2023-04-13T20:08:27.064Z"
   },
   {
    "duration": 5,
    "start_time": "2023-04-13T20:08:27.075Z"
   },
   {
    "duration": 19,
    "start_time": "2023-04-13T20:08:27.082Z"
   },
   {
    "duration": 32,
    "start_time": "2023-04-13T20:08:27.103Z"
   },
   {
    "duration": 19,
    "start_time": "2023-04-13T20:08:27.137Z"
   },
   {
    "duration": 9,
    "start_time": "2023-04-13T20:08:27.158Z"
   },
   {
    "duration": 16,
    "start_time": "2023-04-13T20:08:27.169Z"
   },
   {
    "duration": 28,
    "start_time": "2023-04-13T20:08:27.187Z"
   },
   {
    "duration": 19,
    "start_time": "2023-04-13T20:08:27.217Z"
   },
   {
    "duration": 35,
    "start_time": "2023-04-13T20:08:27.238Z"
   },
   {
    "duration": 26,
    "start_time": "2023-04-13T20:08:27.274Z"
   },
   {
    "duration": 9,
    "start_time": "2023-04-13T20:08:27.301Z"
   },
   {
    "duration": 30,
    "start_time": "2023-04-13T20:08:27.311Z"
   },
   {
    "duration": 34,
    "start_time": "2023-04-13T20:08:27.343Z"
   },
   {
    "duration": 5,
    "start_time": "2023-04-13T20:08:27.379Z"
   },
   {
    "duration": 36,
    "start_time": "2023-04-13T20:08:27.386Z"
   },
   {
    "duration": 56,
    "start_time": "2023-04-13T20:08:27.427Z"
   },
   {
    "duration": 6,
    "start_time": "2023-04-13T20:08:27.485Z"
   },
   {
    "duration": 22,
    "start_time": "2023-04-13T20:08:27.493Z"
   },
   {
    "duration": 37,
    "start_time": "2023-04-13T20:08:27.517Z"
   },
   {
    "duration": 7,
    "start_time": "2023-04-13T20:08:27.555Z"
   },
   {
    "duration": 17,
    "start_time": "2023-04-13T20:08:27.564Z"
   },
   {
    "duration": 473,
    "start_time": "2023-04-13T21:16:52.851Z"
   },
   {
    "duration": 22,
    "start_time": "2023-04-13T21:16:53.327Z"
   },
   {
    "duration": 29,
    "start_time": "2023-04-13T21:16:53.350Z"
   },
   {
    "duration": 24,
    "start_time": "2023-04-13T21:16:53.380Z"
   },
   {
    "duration": 62,
    "start_time": "2023-04-13T21:16:53.406Z"
   },
   {
    "duration": 4,
    "start_time": "2023-04-13T21:16:53.470Z"
   },
   {
    "duration": 19,
    "start_time": "2023-04-13T21:16:53.475Z"
   },
   {
    "duration": 18,
    "start_time": "2023-04-13T21:16:53.496Z"
   },
   {
    "duration": 39,
    "start_time": "2023-04-13T21:16:53.516Z"
   },
   {
    "duration": 42,
    "start_time": "2023-04-13T21:16:53.557Z"
   },
   {
    "duration": 43,
    "start_time": "2023-04-13T21:16:53.601Z"
   },
   {
    "duration": 10,
    "start_time": "2023-04-13T21:16:53.646Z"
   },
   {
    "duration": 10,
    "start_time": "2023-04-13T21:16:53.657Z"
   },
   {
    "duration": 27,
    "start_time": "2023-04-13T21:16:53.670Z"
   },
   {
    "duration": 35,
    "start_time": "2023-04-13T21:16:53.699Z"
   },
   {
    "duration": 17,
    "start_time": "2023-04-13T21:16:53.736Z"
   },
   {
    "duration": 8,
    "start_time": "2023-04-13T21:16:53.755Z"
   },
   {
    "duration": 26,
    "start_time": "2023-04-13T21:16:53.765Z"
   },
   {
    "duration": 15,
    "start_time": "2023-04-13T21:16:53.793Z"
   },
   {
    "duration": 11,
    "start_time": "2023-04-13T21:16:53.809Z"
   },
   {
    "duration": 13,
    "start_time": "2023-04-13T21:16:53.821Z"
   },
   {
    "duration": 33,
    "start_time": "2023-04-13T21:16:53.835Z"
   },
   {
    "duration": 9,
    "start_time": "2023-04-13T21:16:53.870Z"
   },
   {
    "duration": 20,
    "start_time": "2023-04-13T21:16:53.880Z"
   },
   {
    "duration": 48,
    "start_time": "2023-04-13T21:16:53.901Z"
   },
   {
    "duration": 5,
    "start_time": "2023-04-13T21:16:53.951Z"
   },
   {
    "duration": 16,
    "start_time": "2023-04-13T21:16:53.957Z"
   },
   {
    "duration": 49,
    "start_time": "2023-04-13T21:16:53.974Z"
   },
   {
    "duration": 6,
    "start_time": "2023-04-13T21:16:54.024Z"
   },
   {
    "duration": 37,
    "start_time": "2023-04-13T21:16:54.032Z"
   },
   {
    "duration": 42,
    "start_time": "2023-04-13T21:16:54.071Z"
   },
   {
    "duration": 15,
    "start_time": "2023-04-13T21:16:54.115Z"
   },
   {
    "duration": 19,
    "start_time": "2023-04-13T21:16:54.132Z"
   },
   {
    "duration": 3,
    "start_time": "2023-04-15T07:32:56.982Z"
   },
   {
    "duration": 2,
    "start_time": "2023-04-15T07:34:00.633Z"
   },
   {
    "duration": 97,
    "start_time": "2023-04-15T08:02:00.294Z"
   },
   {
    "duration": 90,
    "start_time": "2023-04-15T08:02:34.427Z"
   },
   {
    "duration": 132,
    "start_time": "2023-04-15T08:11:30.829Z"
   },
   {
    "duration": 667,
    "start_time": "2023-04-15T08:12:20.182Z"
   },
   {
    "duration": 21,
    "start_time": "2023-04-15T08:12:20.851Z"
   },
   {
    "duration": 35,
    "start_time": "2023-04-15T08:12:20.874Z"
   },
   {
    "duration": 34,
    "start_time": "2023-04-15T08:12:20.911Z"
   },
   {
    "duration": 38,
    "start_time": "2023-04-15T08:12:20.947Z"
   },
   {
    "duration": 3,
    "start_time": "2023-04-15T08:12:20.987Z"
   },
   {
    "duration": 36,
    "start_time": "2023-04-15T08:12:20.992Z"
   },
   {
    "duration": 38,
    "start_time": "2023-04-15T08:12:21.029Z"
   },
   {
    "duration": 22,
    "start_time": "2023-04-15T08:12:21.068Z"
   },
   {
    "duration": 32,
    "start_time": "2023-04-15T08:12:21.091Z"
   },
   {
    "duration": 45,
    "start_time": "2023-04-15T08:12:21.124Z"
   },
   {
    "duration": 13,
    "start_time": "2023-04-15T08:12:21.170Z"
   },
   {
    "duration": 28,
    "start_time": "2023-04-15T08:12:21.184Z"
   },
   {
    "duration": 29,
    "start_time": "2023-04-15T08:12:21.215Z"
   },
   {
    "duration": 49,
    "start_time": "2023-04-15T08:12:21.245Z"
   },
   {
    "duration": 16,
    "start_time": "2023-04-15T08:12:21.296Z"
   },
   {
    "duration": 18,
    "start_time": "2023-04-15T08:12:21.313Z"
   },
   {
    "duration": 28,
    "start_time": "2023-04-15T08:12:21.333Z"
   },
   {
    "duration": 37,
    "start_time": "2023-04-15T08:12:21.363Z"
   },
   {
    "duration": 5,
    "start_time": "2023-04-15T08:12:21.402Z"
   },
   {
    "duration": 21,
    "start_time": "2023-04-15T08:12:21.409Z"
   },
   {
    "duration": 37,
    "start_time": "2023-04-15T08:12:21.431Z"
   },
   {
    "duration": 3,
    "start_time": "2023-04-15T08:12:21.469Z"
   },
   {
    "duration": 16,
    "start_time": "2023-04-15T08:12:21.473Z"
   },
   {
    "duration": 29,
    "start_time": "2023-04-15T08:12:21.491Z"
   },
   {
    "duration": 4,
    "start_time": "2023-04-15T08:12:21.522Z"
   },
   {
    "duration": 21,
    "start_time": "2023-04-15T08:12:21.527Z"
   },
   {
    "duration": 32,
    "start_time": "2023-04-15T08:12:21.549Z"
   },
   {
    "duration": 6,
    "start_time": "2023-04-15T08:12:21.582Z"
   },
   {
    "duration": 26,
    "start_time": "2023-04-15T08:12:21.590Z"
   },
   {
    "duration": 36,
    "start_time": "2023-04-15T08:12:21.618Z"
   },
   {
    "duration": 5,
    "start_time": "2023-04-15T08:12:21.655Z"
   },
   {
    "duration": 17,
    "start_time": "2023-04-15T08:12:21.661Z"
   },
   {
    "duration": 112,
    "start_time": "2023-04-15T08:15:31.829Z"
   },
   {
    "duration": 452,
    "start_time": "2023-04-15T08:22:48.908Z"
   },
   {
    "duration": 21,
    "start_time": "2023-04-15T08:22:49.362Z"
   },
   {
    "duration": 14,
    "start_time": "2023-04-15T08:22:49.384Z"
   },
   {
    "duration": 8,
    "start_time": "2023-04-15T08:22:49.400Z"
   },
   {
    "duration": 55,
    "start_time": "2023-04-15T08:22:49.411Z"
   },
   {
    "duration": 4,
    "start_time": "2023-04-15T08:22:49.468Z"
   },
   {
    "duration": 22,
    "start_time": "2023-04-15T08:22:49.473Z"
   },
   {
    "duration": 6,
    "start_time": "2023-04-15T08:22:49.497Z"
   },
   {
    "duration": 14,
    "start_time": "2023-04-15T08:22:49.505Z"
   },
   {
    "duration": 16,
    "start_time": "2023-04-15T08:22:49.520Z"
   },
   {
    "duration": 48,
    "start_time": "2023-04-15T08:22:49.538Z"
   },
   {
    "duration": 9,
    "start_time": "2023-04-15T08:22:49.588Z"
   },
   {
    "duration": 11,
    "start_time": "2023-04-15T08:22:49.599Z"
   },
   {
    "duration": 30,
    "start_time": "2023-04-15T08:22:49.614Z"
   },
   {
    "duration": 29,
    "start_time": "2023-04-15T08:22:49.646Z"
   },
   {
    "duration": 17,
    "start_time": "2023-04-15T08:22:49.676Z"
   },
   {
    "duration": 3,
    "start_time": "2023-04-15T08:22:49.695Z"
   },
   {
    "duration": 18,
    "start_time": "2023-04-15T08:22:49.700Z"
   },
   {
    "duration": 30,
    "start_time": "2023-04-15T08:22:49.720Z"
   },
   {
    "duration": 5,
    "start_time": "2023-04-15T08:22:49.751Z"
   },
   {
    "duration": 16,
    "start_time": "2023-04-15T08:22:49.758Z"
   },
   {
    "duration": 27,
    "start_time": "2023-04-15T08:22:49.776Z"
   },
   {
    "duration": 19,
    "start_time": "2023-04-15T08:22:49.806Z"
   },
   {
    "duration": 25,
    "start_time": "2023-04-15T08:22:49.827Z"
   },
   {
    "duration": 52,
    "start_time": "2023-04-15T08:22:49.854Z"
   },
   {
    "duration": 5,
    "start_time": "2023-04-15T08:22:49.909Z"
   },
   {
    "duration": 16,
    "start_time": "2023-04-15T08:22:49.917Z"
   },
   {
    "duration": 29,
    "start_time": "2023-04-15T08:22:49.934Z"
   },
   {
    "duration": 15,
    "start_time": "2023-04-15T08:22:49.964Z"
   },
   {
    "duration": 132,
    "start_time": "2023-04-15T08:22:49.980Z"
   },
   {
    "duration": 39,
    "start_time": "2023-04-15T08:22:50.114Z"
   },
   {
    "duration": 5,
    "start_time": "2023-04-15T08:22:50.156Z"
   },
   {
    "duration": 15,
    "start_time": "2023-04-15T08:22:50.163Z"
   }
  ],
  "colab": {
   "provenance": []
  },
  "kernelspec": {
   "display_name": "Python 3 (ipykernel)",
   "language": "python",
   "name": "python3"
  },
  "language_info": {
   "codemirror_mode": {
    "name": "ipython",
    "version": 3
   },
   "file_extension": ".py",
   "mimetype": "text/x-python",
   "name": "python",
   "nbconvert_exporter": "python",
   "pygments_lexer": "ipython3",
   "version": "3.9.5"
  },
  "toc": {
   "base_numbering": 1,
   "nav_menu": {},
   "number_sections": true,
   "sideBar": true,
   "skip_h1_title": true,
   "title_cell": "Table of Contents",
   "title_sidebar": "Contents",
   "toc_cell": false,
   "toc_position": {},
   "toc_section_display": true,
   "toc_window_display": false
  }
 },
 "nbformat": 4,
 "nbformat_minor": 5
}

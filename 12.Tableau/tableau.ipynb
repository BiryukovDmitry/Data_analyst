{
 "cells": [
  {
   "cell_type": "markdown",
   "id": "d6979d07",
   "metadata": {},
   "source": [
    "# История TED-конференций"
   ]
  },
  {
   "cell_type": "markdown",
   "id": "2a5d0025",
   "metadata": {},
   "source": [
    "TED (от англ. technology, education, design — «технологии, образование, дизайн») — некоммерческий фонд, который проводит популярные конференции. На них выступают специалисты из разных областей и читают лекции на актуальные социальные, культурные и научные темы. На конференциях выступают авторы из различных областей, начиная от искусственного интеллекта и заканчивая спортивной тематикой. Для анализа выступлений используются все доступные метрики: участники, темы, продолжительность, а также метрики смеха и аплодисментов"
   ]
  },
  {
   "cell_type": "markdown",
   "id": "f4e0898e",
   "metadata": {},
   "source": [
    "# Цель"
   ]
  },
  {
   "cell_type": "markdown",
   "id": "88d4dd6a",
   "metadata": {},
   "source": [
    "Провести исследование истории выступлений на TED-конференциях с помощь Tableau, на основании выявленных закономерностей и полученных результатов построить визуализации и подготовить презентацию "
   ]
  },
  {
   "cell_type": "markdown",
   "id": "c695a60f",
   "metadata": {},
   "source": [
    "# Задачи"
   ]
  },
  {
   "cell_type": "markdown",
   "id": "a6914c6f",
   "metadata": {},
   "source": [
    "1. Изучить имеющиеся данные за всё время и определить период для последующего анализа;\n",
    "2. Изучить распределение выступлений по странам и тематикам, а также проанализировать метрики смеха и аплодисментов;\n",
    "3. Определить область деятельности авторов, а также количество их выступлений;\n",
    "4. Изучить распределение там выступлений, не входящих в Топ-5 по популярности;\n",
    "5. Изучить соотношений выступления по странам и тематикам в течении всего периода исследования\n",
    "6. Подготовить презентацию"
   ]
  },
  {
   "cell_type": "markdown",
   "id": "be3f9fa3",
   "metadata": {},
   "source": [
    "# Дашборды"
   ]
  },
  {
   "cell_type": "markdown",
   "id": "3a27c9ef",
   "metadata": {},
   "source": [
    "**История выступлений** - распределение выступлений по странам и Топ-5 тематик выступлений\n",
    "https://public.tableau.com/app/profile/.77306772/viz/Project_16934259294510/sheet3?publish=yes"
   ]
  },
  {
   "cell_type": "markdown",
   "id": "4b86fd96",
   "metadata": {},
   "source": [
    "**Тематики выступлений** - распределение выступлений по тематикам, а также смеха и аплодисментов во время выступления\n",
    "https://public.tableau.com/app/profile/.77306772/viz/Project_16934259294510/sheet11?publish=yes"
   ]
  },
  {
   "cell_type": "markdown",
   "id": "2a9447e2",
   "metadata": {},
   "source": [
    "**Авторы выступлений** - информация об авторах выступлений, их области деятельности и количестве выступлений\n",
    "https://public.tableau.com/app/profile/.77306772/viz/Project_16934259294510/sheet16?publish=yes"
   ]
  },
  {
   "cell_type": "markdown",
   "id": "7c6e594d",
   "metadata": {},
   "source": [
    "**Категория «Другие»** - распределение тематик, которые не попали в топ-5 самых популярных\n",
    "https://public.tableau.com/app/profile/.77306772/viz/Project_16934259294510/sheet19?publish=yes"
   ]
  },
  {
   "cell_type": "markdown",
   "id": "18f34c49",
   "metadata": {},
   "source": [
    "**Выступления по странам и тематикам** - распределение выступлений по странам и тематикам в соответствие с годом\n",
    "https://public.tableau.com/app/profile/.77306772/viz/Project_16934259294510/sheet22?publish=yes"
   ]
  },
  {
   "cell_type": "markdown",
   "id": "82e59c49",
   "metadata": {},
   "source": [
    "# Презентация"
   ]
  },
  {
   "cell_type": "markdown",
   "id": "1a716f54",
   "metadata": {},
   "source": [
    "https://public.tableau.com/app/profile/.77306772/viz/Project_16934259294510/TED-?publish=yes"
   ]
  },
  {
   "cell_type": "markdown",
   "id": "70df08bb",
   "metadata": {},
   "source": []
  }
 ],
 "metadata": {
  "ExecuteTimeLog": [
   {
    "duration": 147,
    "start_time": "2023-09-02T11:38:28.481Z"
   }
  ],
  "kernelspec": {
   "display_name": "Python 3 (ipykernel)",
   "language": "python",
   "name": "python3"
  },
  "language_info": {
   "codemirror_mode": {
    "name": "ipython",
    "version": 3
   },
   "file_extension": ".py",
   "mimetype": "text/x-python",
   "name": "python",
   "nbconvert_exporter": "python",
   "pygments_lexer": "ipython3",
   "version": "3.9.5"
  },
  "toc": {
   "base_numbering": 1,
   "nav_menu": {},
   "number_sections": true,
   "sideBar": true,
   "skip_h1_title": true,
   "title_cell": "Table of Contents",
   "title_sidebar": "Contents",
   "toc_cell": false,
   "toc_position": {},
   "toc_section_display": true,
   "toc_window_display": false
  }
 },
 "nbformat": 4,
 "nbformat_minor": 5
}

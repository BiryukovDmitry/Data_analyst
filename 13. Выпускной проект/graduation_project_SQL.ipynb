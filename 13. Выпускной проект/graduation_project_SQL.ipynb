{
 "cells": [
  {
   "cell_type": "markdown",
   "metadata": {},
   "source": [
    "# Проект по SQL"
   ]
  },
  {
   "cell_type": "markdown",
   "metadata": {},
   "source": [
    "Компания приобрела крупный сервис для чтения книг по подписке. База данных сервиса содержит информацию о книгах, издательствах, авторах, а также пользовательские обзоры книг. \n",
    "\n",
    "**Цель** - проанализировать базу данных., для определения ценностностого предложения для нового продукта\n",
    "\n",
    "**Задачи:**\n",
    "\n",
    "1. Посчитайте, сколько книг вышло после 1 января 2000 года;\n",
    "2. Для каждой книги посчитайте количество обзоров и среднюю оценку;\n",
    "3. Определите издательство, которое выпустило наибольшее число книг толще 50 страниц — так вы исключите из анализа брошюры;\n",
    "4. Определите автора с самой высокой средней оценкой книг — учитывайте только книги с 50 и более оценками;\n",
    "5. Посчитайте среднее количество обзоров от пользователей, которые поставили больше 48 оценок"
   ]
  },
  {
   "cell_type": "code",
   "execution_count": 1,
   "metadata": {},
   "outputs": [],
   "source": [
    "#Импортируем библиотеки \n",
    "import pandas as pd \n",
    "from sqlalchemy import text, create_engine  \n",
    "\n",
    "#Устанавливаем параметры \n",
    "db_config = {'user': 'praktikum_student', # имя пользователя \n",
    "             'pwd': 'Sdf4$2;d-d30pp', # пароль \n",
    "             'host': 'rc1b-wcoijxj3yxfsf3fs.mdb.yandexcloud.net', 'port': 6432, # порт подключения \n",
    "             'db': 'data-analyst-final-project-db'} # название базы данных \n",
    "connection_string = 'postgresql://{user}:{pwd}@{host}:{port}/{db}'.format(**db_config)  \n",
    "\n",
    "#Cохраняем коннектор \n",
    "engine = create_engine(connection_string, connect_args={'sslmode':'require'})  "
   ]
  },
  {
   "cell_type": "markdown",
   "metadata": {},
   "source": [
    "**Обзор данных**"
   ]
  },
  {
   "cell_type": "code",
   "execution_count": 2,
   "metadata": {},
   "outputs": [
    {
     "data": {
      "text/html": [
       "<div>\n",
       "<style scoped>\n",
       "    .dataframe tbody tr th:only-of-type {\n",
       "        vertical-align: middle;\n",
       "    }\n",
       "\n",
       "    .dataframe tbody tr th {\n",
       "        vertical-align: top;\n",
       "    }\n",
       "\n",
       "    .dataframe thead th {\n",
       "        text-align: right;\n",
       "    }\n",
       "</style>\n",
       "<table border=\"1\" class=\"dataframe\">\n",
       "  <thead>\n",
       "    <tr style=\"text-align: right;\">\n",
       "      <th></th>\n",
       "      <th>book_id</th>\n",
       "      <th>author_id</th>\n",
       "      <th>title</th>\n",
       "      <th>num_pages</th>\n",
       "      <th>publication_date</th>\n",
       "      <th>publisher_id</th>\n",
       "    </tr>\n",
       "  </thead>\n",
       "  <tbody>\n",
       "    <tr>\n",
       "      <th>0</th>\n",
       "      <td>1</td>\n",
       "      <td>546</td>\n",
       "      <td>'Salem's Lot</td>\n",
       "      <td>594</td>\n",
       "      <td>2005-11-01</td>\n",
       "      <td>93</td>\n",
       "    </tr>\n",
       "    <tr>\n",
       "      <th>1</th>\n",
       "      <td>2</td>\n",
       "      <td>465</td>\n",
       "      <td>1 000 Places to See Before You Die</td>\n",
       "      <td>992</td>\n",
       "      <td>2003-05-22</td>\n",
       "      <td>336</td>\n",
       "    </tr>\n",
       "    <tr>\n",
       "      <th>2</th>\n",
       "      <td>3</td>\n",
       "      <td>407</td>\n",
       "      <td>13 Little Blue Envelopes (Little Blue Envelope...</td>\n",
       "      <td>322</td>\n",
       "      <td>2010-12-21</td>\n",
       "      <td>135</td>\n",
       "    </tr>\n",
       "    <tr>\n",
       "      <th>3</th>\n",
       "      <td>4</td>\n",
       "      <td>82</td>\n",
       "      <td>1491: New Revelations of the Americas Before C...</td>\n",
       "      <td>541</td>\n",
       "      <td>2006-10-10</td>\n",
       "      <td>309</td>\n",
       "    </tr>\n",
       "    <tr>\n",
       "      <th>4</th>\n",
       "      <td>5</td>\n",
       "      <td>125</td>\n",
       "      <td>1776</td>\n",
       "      <td>386</td>\n",
       "      <td>2006-07-04</td>\n",
       "      <td>268</td>\n",
       "    </tr>\n",
       "  </tbody>\n",
       "</table>\n",
       "</div>"
      ],
      "text/plain": [
       "   book_id  author_id                                              title  \\\n",
       "0        1        546                                       'Salem's Lot   \n",
       "1        2        465                 1 000 Places to See Before You Die   \n",
       "2        3        407  13 Little Blue Envelopes (Little Blue Envelope...   \n",
       "3        4         82  1491: New Revelations of the Americas Before C...   \n",
       "4        5        125                                               1776   \n",
       "\n",
       "   num_pages publication_date  publisher_id  \n",
       "0        594       2005-11-01            93  \n",
       "1        992       2003-05-22           336  \n",
       "2        322       2010-12-21           135  \n",
       "3        541       2006-10-10           309  \n",
       "4        386       2006-07-04           268  "
      ]
     },
     "execution_count": 2,
     "metadata": {},
     "output_type": "execute_result"
    }
   ],
   "source": [
    "#Вывод значений\n",
    "query = '''\n",
    "\n",
    "SELECT *\n",
    "FROM books\n",
    "LIMIT 5\n",
    "\n",
    "'''\n",
    "\n",
    "pd.io.sql.read_sql(query, con = engine)"
   ]
  },
  {
   "cell_type": "markdown",
   "metadata": {},
   "source": [
    "Таблица **books** содержит информацию о книгах (идентификатор книги, идентификатор автора, наименование книги, количество страниц, дату публикации и идентификатор издателя)"
   ]
  },
  {
   "cell_type": "code",
   "execution_count": 3,
   "metadata": {},
   "outputs": [
    {
     "data": {
      "text/html": [
       "<div>\n",
       "<style scoped>\n",
       "    .dataframe tbody tr th:only-of-type {\n",
       "        vertical-align: middle;\n",
       "    }\n",
       "\n",
       "    .dataframe tbody tr th {\n",
       "        vertical-align: top;\n",
       "    }\n",
       "\n",
       "    .dataframe thead th {\n",
       "        text-align: right;\n",
       "    }\n",
       "</style>\n",
       "<table border=\"1\" class=\"dataframe\">\n",
       "  <thead>\n",
       "    <tr style=\"text-align: right;\">\n",
       "      <th></th>\n",
       "      <th>author_id</th>\n",
       "      <th>author</th>\n",
       "    </tr>\n",
       "  </thead>\n",
       "  <tbody>\n",
       "    <tr>\n",
       "      <th>0</th>\n",
       "      <td>1</td>\n",
       "      <td>A.S. Byatt</td>\n",
       "    </tr>\n",
       "    <tr>\n",
       "      <th>1</th>\n",
       "      <td>2</td>\n",
       "      <td>Aesop/Laura Harris/Laura Gibbs</td>\n",
       "    </tr>\n",
       "    <tr>\n",
       "      <th>2</th>\n",
       "      <td>3</td>\n",
       "      <td>Agatha Christie</td>\n",
       "    </tr>\n",
       "    <tr>\n",
       "      <th>3</th>\n",
       "      <td>4</td>\n",
       "      <td>Alan Brennert</td>\n",
       "    </tr>\n",
       "    <tr>\n",
       "      <th>4</th>\n",
       "      <td>5</td>\n",
       "      <td>Alan Moore/David   Lloyd</td>\n",
       "    </tr>\n",
       "  </tbody>\n",
       "</table>\n",
       "</div>"
      ],
      "text/plain": [
       "   author_id                          author\n",
       "0          1                      A.S. Byatt\n",
       "1          2  Aesop/Laura Harris/Laura Gibbs\n",
       "2          3                 Agatha Christie\n",
       "3          4                   Alan Brennert\n",
       "4          5        Alan Moore/David   Lloyd"
      ]
     },
     "execution_count": 3,
     "metadata": {},
     "output_type": "execute_result"
    }
   ],
   "source": [
    "#Вывод значений\n",
    "query = '''\n",
    "\n",
    "SELECT *\n",
    "FROM authors\n",
    "LIMIT 5\n",
    "\n",
    "'''\n",
    "\n",
    "pd.io.sql.read_sql(query, con = engine)"
   ]
  },
  {
   "cell_type": "markdown",
   "metadata": {},
   "source": [
    "Таблица **authors** содержит информацию об авторах книг (идентификатор автора, имя автора)"
   ]
  },
  {
   "cell_type": "code",
   "execution_count": 4,
   "metadata": {},
   "outputs": [
    {
     "data": {
      "text/html": [
       "<div>\n",
       "<style scoped>\n",
       "    .dataframe tbody tr th:only-of-type {\n",
       "        vertical-align: middle;\n",
       "    }\n",
       "\n",
       "    .dataframe tbody tr th {\n",
       "        vertical-align: top;\n",
       "    }\n",
       "\n",
       "    .dataframe thead th {\n",
       "        text-align: right;\n",
       "    }\n",
       "</style>\n",
       "<table border=\"1\" class=\"dataframe\">\n",
       "  <thead>\n",
       "    <tr style=\"text-align: right;\">\n",
       "      <th></th>\n",
       "      <th>publisher_id</th>\n",
       "      <th>publisher</th>\n",
       "    </tr>\n",
       "  </thead>\n",
       "  <tbody>\n",
       "    <tr>\n",
       "      <th>0</th>\n",
       "      <td>1</td>\n",
       "      <td>Ace</td>\n",
       "    </tr>\n",
       "    <tr>\n",
       "      <th>1</th>\n",
       "      <td>2</td>\n",
       "      <td>Ace Book</td>\n",
       "    </tr>\n",
       "    <tr>\n",
       "      <th>2</th>\n",
       "      <td>3</td>\n",
       "      <td>Ace Books</td>\n",
       "    </tr>\n",
       "    <tr>\n",
       "      <th>3</th>\n",
       "      <td>4</td>\n",
       "      <td>Ace Hardcover</td>\n",
       "    </tr>\n",
       "    <tr>\n",
       "      <th>4</th>\n",
       "      <td>5</td>\n",
       "      <td>Addison Wesley Publishing Company</td>\n",
       "    </tr>\n",
       "  </tbody>\n",
       "</table>\n",
       "</div>"
      ],
      "text/plain": [
       "   publisher_id                          publisher\n",
       "0             1                                Ace\n",
       "1             2                           Ace Book\n",
       "2             3                          Ace Books\n",
       "3             4                      Ace Hardcover\n",
       "4             5  Addison Wesley Publishing Company"
      ]
     },
     "execution_count": 4,
     "metadata": {},
     "output_type": "execute_result"
    }
   ],
   "source": [
    "#Вывод значений\n",
    "query = '''\n",
    "\n",
    "SELECT *\n",
    "FROM publishers\n",
    "LIMIT 5\n",
    "\n",
    "'''\n",
    "\n",
    "pd.io.sql.read_sql(query, con = engine)"
   ]
  },
  {
   "cell_type": "markdown",
   "metadata": {},
   "source": [
    "Таблица **publishers** содержит информацию об издательствах (идентификатор издательства, название издательства)"
   ]
  },
  {
   "cell_type": "code",
   "execution_count": 5,
   "metadata": {},
   "outputs": [
    {
     "data": {
      "text/html": [
       "<div>\n",
       "<style scoped>\n",
       "    .dataframe tbody tr th:only-of-type {\n",
       "        vertical-align: middle;\n",
       "    }\n",
       "\n",
       "    .dataframe tbody tr th {\n",
       "        vertical-align: top;\n",
       "    }\n",
       "\n",
       "    .dataframe thead th {\n",
       "        text-align: right;\n",
       "    }\n",
       "</style>\n",
       "<table border=\"1\" class=\"dataframe\">\n",
       "  <thead>\n",
       "    <tr style=\"text-align: right;\">\n",
       "      <th></th>\n",
       "      <th>rating_id</th>\n",
       "      <th>book_id</th>\n",
       "      <th>username</th>\n",
       "      <th>rating</th>\n",
       "    </tr>\n",
       "  </thead>\n",
       "  <tbody>\n",
       "    <tr>\n",
       "      <th>0</th>\n",
       "      <td>1</td>\n",
       "      <td>1</td>\n",
       "      <td>ryanfranco</td>\n",
       "      <td>4</td>\n",
       "    </tr>\n",
       "    <tr>\n",
       "      <th>1</th>\n",
       "      <td>2</td>\n",
       "      <td>1</td>\n",
       "      <td>grantpatricia</td>\n",
       "      <td>2</td>\n",
       "    </tr>\n",
       "    <tr>\n",
       "      <th>2</th>\n",
       "      <td>3</td>\n",
       "      <td>1</td>\n",
       "      <td>brandtandrea</td>\n",
       "      <td>5</td>\n",
       "    </tr>\n",
       "    <tr>\n",
       "      <th>3</th>\n",
       "      <td>4</td>\n",
       "      <td>2</td>\n",
       "      <td>lorichen</td>\n",
       "      <td>3</td>\n",
       "    </tr>\n",
       "    <tr>\n",
       "      <th>4</th>\n",
       "      <td>5</td>\n",
       "      <td>2</td>\n",
       "      <td>mariokeller</td>\n",
       "      <td>2</td>\n",
       "    </tr>\n",
       "  </tbody>\n",
       "</table>\n",
       "</div>"
      ],
      "text/plain": [
       "   rating_id  book_id       username  rating\n",
       "0          1        1     ryanfranco       4\n",
       "1          2        1  grantpatricia       2\n",
       "2          3        1   brandtandrea       5\n",
       "3          4        2       lorichen       3\n",
       "4          5        2    mariokeller       2"
      ]
     },
     "execution_count": 5,
     "metadata": {},
     "output_type": "execute_result"
    }
   ],
   "source": [
    "#Вывод значений\n",
    "query = '''\n",
    "\n",
    "SELECT *\n",
    "FROM ratings\n",
    "LIMIT 5\n",
    "\n",
    "'''\n",
    "\n",
    "pd.io.sql.read_sql(query, con = engine)"
   ]
  },
  {
   "cell_type": "markdown",
   "metadata": {},
   "source": [
    "Таблица **ratings** содержит информацию о пользовательских оценках книг (идентификатор оценки, идентификатор книги, имя пользователя, оценка)"
   ]
  },
  {
   "cell_type": "code",
   "execution_count": 6,
   "metadata": {},
   "outputs": [
    {
     "data": {
      "text/html": [
       "<div>\n",
       "<style scoped>\n",
       "    .dataframe tbody tr th:only-of-type {\n",
       "        vertical-align: middle;\n",
       "    }\n",
       "\n",
       "    .dataframe tbody tr th {\n",
       "        vertical-align: top;\n",
       "    }\n",
       "\n",
       "    .dataframe thead th {\n",
       "        text-align: right;\n",
       "    }\n",
       "</style>\n",
       "<table border=\"1\" class=\"dataframe\">\n",
       "  <thead>\n",
       "    <tr style=\"text-align: right;\">\n",
       "      <th></th>\n",
       "      <th>review_id</th>\n",
       "      <th>book_id</th>\n",
       "      <th>username</th>\n",
       "      <th>text</th>\n",
       "    </tr>\n",
       "  </thead>\n",
       "  <tbody>\n",
       "    <tr>\n",
       "      <th>0</th>\n",
       "      <td>1</td>\n",
       "      <td>1</td>\n",
       "      <td>brandtandrea</td>\n",
       "      <td>Mention society tell send professor analysis. ...</td>\n",
       "    </tr>\n",
       "    <tr>\n",
       "      <th>1</th>\n",
       "      <td>2</td>\n",
       "      <td>1</td>\n",
       "      <td>ryanfranco</td>\n",
       "      <td>Foot glass pretty audience hit themselves. Amo...</td>\n",
       "    </tr>\n",
       "    <tr>\n",
       "      <th>2</th>\n",
       "      <td>3</td>\n",
       "      <td>2</td>\n",
       "      <td>lorichen</td>\n",
       "      <td>Listen treat keep worry. Miss husband tax but ...</td>\n",
       "    </tr>\n",
       "    <tr>\n",
       "      <th>3</th>\n",
       "      <td>4</td>\n",
       "      <td>3</td>\n",
       "      <td>johnsonamanda</td>\n",
       "      <td>Finally month interesting blue could nature cu...</td>\n",
       "    </tr>\n",
       "    <tr>\n",
       "      <th>4</th>\n",
       "      <td>5</td>\n",
       "      <td>3</td>\n",
       "      <td>scotttamara</td>\n",
       "      <td>Nation purpose heavy give wait song will. List...</td>\n",
       "    </tr>\n",
       "  </tbody>\n",
       "</table>\n",
       "</div>"
      ],
      "text/plain": [
       "   review_id  book_id       username  \\\n",
       "0          1        1   brandtandrea   \n",
       "1          2        1     ryanfranco   \n",
       "2          3        2       lorichen   \n",
       "3          4        3  johnsonamanda   \n",
       "4          5        3    scotttamara   \n",
       "\n",
       "                                                text  \n",
       "0  Mention society tell send professor analysis. ...  \n",
       "1  Foot glass pretty audience hit themselves. Amo...  \n",
       "2  Listen treat keep worry. Miss husband tax but ...  \n",
       "3  Finally month interesting blue could nature cu...  \n",
       "4  Nation purpose heavy give wait song will. List...  "
      ]
     },
     "execution_count": 6,
     "metadata": {},
     "output_type": "execute_result"
    }
   ],
   "source": [
    "#Вывод значений\n",
    "query = '''\n",
    "\n",
    "SELECT *\n",
    "FROM reviews\n",
    "LIMIT 5\n",
    "\n",
    "'''\n",
    "\n",
    "pd.io.sql.read_sql(query, con = engine)"
   ]
  },
  {
   "cell_type": "markdown",
   "metadata": {},
   "source": [
    "Таблица **reviews** содержит информацию о пользовательских обзорах (идентификатор обзора, идентификатор книги, имя пользователя, текст обзора)"
   ]
  },
  {
   "cell_type": "markdown",
   "metadata": {},
   "source": [
    "# Задания"
   ]
  },
  {
   "cell_type": "markdown",
   "metadata": {},
   "source": [
    "**Количество книг после 1 января 2000 года**"
   ]
  },
  {
   "cell_type": "code",
   "execution_count": 7,
   "metadata": {},
   "outputs": [
    {
     "data": {
      "text/html": [
       "<div>\n",
       "<style scoped>\n",
       "    .dataframe tbody tr th:only-of-type {\n",
       "        vertical-align: middle;\n",
       "    }\n",
       "\n",
       "    .dataframe tbody tr th {\n",
       "        vertical-align: top;\n",
       "    }\n",
       "\n",
       "    .dataframe thead th {\n",
       "        text-align: right;\n",
       "    }\n",
       "</style>\n",
       "<table border=\"1\" class=\"dataframe\">\n",
       "  <thead>\n",
       "    <tr style=\"text-align: right;\">\n",
       "      <th></th>\n",
       "      <th>count</th>\n",
       "    </tr>\n",
       "  </thead>\n",
       "  <tbody>\n",
       "    <tr>\n",
       "      <th>0</th>\n",
       "      <td>819</td>\n",
       "    </tr>\n",
       "  </tbody>\n",
       "</table>\n",
       "</div>"
      ],
      "text/plain": [
       "   count\n",
       "0    819"
      ]
     },
     "execution_count": 7,
     "metadata": {},
     "output_type": "execute_result"
    }
   ],
   "source": [
    "query = '''\n",
    "\n",
    "SELECT COUNT (publication_date)\n",
    "FROM books\n",
    "WHERE publication_date > '2000-01-01'\n",
    "\n",
    "'''\n",
    "\n",
    "pd.io.sql.read_sql(query, con = engine)"
   ]
  },
  {
   "cell_type": "markdown",
   "metadata": {},
   "source": [
    "**Количество обзоров и средняя оценка книги**"
   ]
  },
  {
   "cell_type": "code",
   "execution_count": 8,
   "metadata": {},
   "outputs": [
    {
     "data": {
      "text/html": [
       "<div>\n",
       "<style scoped>\n",
       "    .dataframe tbody tr th:only-of-type {\n",
       "        vertical-align: middle;\n",
       "    }\n",
       "\n",
       "    .dataframe tbody tr th {\n",
       "        vertical-align: top;\n",
       "    }\n",
       "\n",
       "    .dataframe thead th {\n",
       "        text-align: right;\n",
       "    }\n",
       "</style>\n",
       "<table border=\"1\" class=\"dataframe\">\n",
       "  <thead>\n",
       "    <tr style=\"text-align: right;\">\n",
       "      <th></th>\n",
       "      <th>book_id</th>\n",
       "      <th>title</th>\n",
       "      <th>count_reviews</th>\n",
       "      <th>avg_rating</th>\n",
       "    </tr>\n",
       "  </thead>\n",
       "  <tbody>\n",
       "    <tr>\n",
       "      <th>0</th>\n",
       "      <td>1</td>\n",
       "      <td>'Salem's Lot</td>\n",
       "      <td>2</td>\n",
       "      <td>3.666667</td>\n",
       "    </tr>\n",
       "    <tr>\n",
       "      <th>1</th>\n",
       "      <td>2</td>\n",
       "      <td>1 000 Places to See Before You Die</td>\n",
       "      <td>1</td>\n",
       "      <td>2.500000</td>\n",
       "    </tr>\n",
       "    <tr>\n",
       "      <th>2</th>\n",
       "      <td>3</td>\n",
       "      <td>13 Little Blue Envelopes (Little Blue Envelope...</td>\n",
       "      <td>3</td>\n",
       "      <td>4.666667</td>\n",
       "    </tr>\n",
       "    <tr>\n",
       "      <th>3</th>\n",
       "      <td>4</td>\n",
       "      <td>1491: New Revelations of the Americas Before C...</td>\n",
       "      <td>2</td>\n",
       "      <td>4.500000</td>\n",
       "    </tr>\n",
       "    <tr>\n",
       "      <th>4</th>\n",
       "      <td>5</td>\n",
       "      <td>1776</td>\n",
       "      <td>4</td>\n",
       "      <td>4.000000</td>\n",
       "    </tr>\n",
       "    <tr>\n",
       "      <th>...</th>\n",
       "      <td>...</td>\n",
       "      <td>...</td>\n",
       "      <td>...</td>\n",
       "      <td>...</td>\n",
       "    </tr>\n",
       "    <tr>\n",
       "      <th>995</th>\n",
       "      <td>996</td>\n",
       "      <td>Wyrd Sisters (Discworld  #6; Witches #2)</td>\n",
       "      <td>3</td>\n",
       "      <td>3.666667</td>\n",
       "    </tr>\n",
       "    <tr>\n",
       "      <th>996</th>\n",
       "      <td>997</td>\n",
       "      <td>Xenocide (Ender's Saga  #3)</td>\n",
       "      <td>3</td>\n",
       "      <td>3.400000</td>\n",
       "    </tr>\n",
       "    <tr>\n",
       "      <th>997</th>\n",
       "      <td>998</td>\n",
       "      <td>Year of Wonders</td>\n",
       "      <td>4</td>\n",
       "      <td>3.200000</td>\n",
       "    </tr>\n",
       "    <tr>\n",
       "      <th>998</th>\n",
       "      <td>999</td>\n",
       "      <td>You Suck (A Love Story  #2)</td>\n",
       "      <td>2</td>\n",
       "      <td>4.500000</td>\n",
       "    </tr>\n",
       "    <tr>\n",
       "      <th>999</th>\n",
       "      <td>1000</td>\n",
       "      <td>Zen and the Art of Motorcycle Maintenance: An ...</td>\n",
       "      <td>4</td>\n",
       "      <td>3.833333</td>\n",
       "    </tr>\n",
       "  </tbody>\n",
       "</table>\n",
       "<p>1000 rows × 4 columns</p>\n",
       "</div>"
      ],
      "text/plain": [
       "     book_id                                              title  \\\n",
       "0          1                                       'Salem's Lot   \n",
       "1          2                 1 000 Places to See Before You Die   \n",
       "2          3  13 Little Blue Envelopes (Little Blue Envelope...   \n",
       "3          4  1491: New Revelations of the Americas Before C...   \n",
       "4          5                                               1776   \n",
       "..       ...                                                ...   \n",
       "995      996           Wyrd Sisters (Discworld  #6; Witches #2)   \n",
       "996      997                        Xenocide (Ender's Saga  #3)   \n",
       "997      998                                    Year of Wonders   \n",
       "998      999                        You Suck (A Love Story  #2)   \n",
       "999     1000  Zen and the Art of Motorcycle Maintenance: An ...   \n",
       "\n",
       "     count_reviews  avg_rating  \n",
       "0                2    3.666667  \n",
       "1                1    2.500000  \n",
       "2                3    4.666667  \n",
       "3                2    4.500000  \n",
       "4                4    4.000000  \n",
       "..             ...         ...  \n",
       "995              3    3.666667  \n",
       "996              3    3.400000  \n",
       "997              4    3.200000  \n",
       "998              2    4.500000  \n",
       "999              4    3.833333  \n",
       "\n",
       "[1000 rows x 4 columns]"
      ]
     },
     "execution_count": 8,
     "metadata": {},
     "output_type": "execute_result"
    }
   ],
   "source": [
    "query = '''\n",
    "\n",
    "SELECT b.book_id,\n",
    "       b.title,\n",
    "       COUNT(DISTINCT rev.review_id) as count_reviews,\n",
    "       AVG(rat.rating) AS avg_rating\n",
    "FROM books AS b\n",
    "LEFT JOIN reviews AS rev ON b.book_id = rev.book_id\n",
    "LEFT JOIN ratings AS rat ON b.book_id = rat.book_id\n",
    "\n",
    "GROUP BY b.book_id, b.title\n",
    "\n",
    "'''\n",
    "\n",
    "pd.io.sql.read_sql(query, con = engine)"
   ]
  },
  {
   "cell_type": "markdown",
   "metadata": {},
   "source": [
    "**Издательство, которое выпустило наибольшее число книг толще 50 страниц** "
   ]
  },
  {
   "cell_type": "code",
   "execution_count": 9,
   "metadata": {},
   "outputs": [
    {
     "data": {
      "text/html": [
       "<div>\n",
       "<style scoped>\n",
       "    .dataframe tbody tr th:only-of-type {\n",
       "        vertical-align: middle;\n",
       "    }\n",
       "\n",
       "    .dataframe tbody tr th {\n",
       "        vertical-align: top;\n",
       "    }\n",
       "\n",
       "    .dataframe thead th {\n",
       "        text-align: right;\n",
       "    }\n",
       "</style>\n",
       "<table border=\"1\" class=\"dataframe\">\n",
       "  <thead>\n",
       "    <tr style=\"text-align: right;\">\n",
       "      <th></th>\n",
       "      <th>publisher</th>\n",
       "      <th>count_books</th>\n",
       "    </tr>\n",
       "  </thead>\n",
       "  <tbody>\n",
       "    <tr>\n",
       "      <th>0</th>\n",
       "      <td>Penguin Books</td>\n",
       "      <td>42</td>\n",
       "    </tr>\n",
       "  </tbody>\n",
       "</table>\n",
       "</div>"
      ],
      "text/plain": [
       "       publisher  count_books\n",
       "0  Penguin Books           42"
      ]
     },
     "execution_count": 9,
     "metadata": {},
     "output_type": "execute_result"
    }
   ],
   "source": [
    "query = '''\n",
    "\n",
    "SELECT publisher,\n",
    "       COUNT (book_id) AS count_books\n",
    "FROM publishers AS pub\n",
    "INNER JOIN books AS b ON pub.publisher_id = b.publisher_id \n",
    "WHERE b.num_pages > 50 \n",
    "GROUP BY publisher\n",
    "ORDER BY count_books DESC\n",
    "LIMIT 1\n",
    "\n",
    "'''\n",
    "\n",
    "pd.io.sql.read_sql(query, con = engine)"
   ]
  },
  {
   "cell_type": "markdown",
   "metadata": {},
   "source": [
    "**Автор с самой высокой средней оценкой книг**"
   ]
  },
  {
   "cell_type": "code",
   "execution_count": 10,
   "metadata": {},
   "outputs": [
    {
     "data": {
      "text/html": [
       "<div>\n",
       "<style scoped>\n",
       "    .dataframe tbody tr th:only-of-type {\n",
       "        vertical-align: middle;\n",
       "    }\n",
       "\n",
       "    .dataframe tbody tr th {\n",
       "        vertical-align: top;\n",
       "    }\n",
       "\n",
       "    .dataframe thead th {\n",
       "        text-align: right;\n",
       "    }\n",
       "</style>\n",
       "<table border=\"1\" class=\"dataframe\">\n",
       "  <thead>\n",
       "    <tr style=\"text-align: right;\">\n",
       "      <th></th>\n",
       "      <th>author</th>\n",
       "      <th>avg_rating</th>\n",
       "    </tr>\n",
       "  </thead>\n",
       "  <tbody>\n",
       "    <tr>\n",
       "      <th>0</th>\n",
       "      <td>J.K. Rowling/Mary GrandPré</td>\n",
       "      <td>4.287097</td>\n",
       "    </tr>\n",
       "  </tbody>\n",
       "</table>\n",
       "</div>"
      ],
      "text/plain": [
       "                       author  avg_rating\n",
       "0  J.K. Rowling/Mary GrandPré    4.287097"
      ]
     },
     "execution_count": 10,
     "metadata": {},
     "output_type": "execute_result"
    }
   ],
   "source": [
    "query = '''\n",
    "\n",
    "SELECT author,\n",
    "       AVG(rating) AS avg_rating\n",
    "FROM books\n",
    "LEFT JOIN authors ON books.author_id =authors.author_id\n",
    "LEFT JOIN ratings ON books.book_id=ratings.book_id\n",
    "WHERE books.book_id IN (SELECT b.book_id\n",
    "                  FROM books AS b\n",
    "                  LEFT JOIN ratings AS rat ON b.book_id=rat.book_id\n",
    "                  GROUP BY b.book_id\n",
    "                  HAVING COUNT(rat.rating_id) >=50)\n",
    "GROUP BY author\n",
    "ORDER BY avg_rating DESC\n",
    "LIMIT 1\n",
    "\n",
    "'''\n",
    "    \n",
    "pd.io.sql.read_sql(query, con = engine)"
   ]
  },
  {
   "cell_type": "markdown",
   "metadata": {},
   "source": [
    "**Среднее количество обзоров от пользователей, которые поставили больше 48 оценок**"
   ]
  },
  {
   "cell_type": "code",
   "execution_count": 11,
   "metadata": {},
   "outputs": [
    {
     "data": {
      "text/html": [
       "<div>\n",
       "<style scoped>\n",
       "    .dataframe tbody tr th:only-of-type {\n",
       "        vertical-align: middle;\n",
       "    }\n",
       "\n",
       "    .dataframe tbody tr th {\n",
       "        vertical-align: top;\n",
       "    }\n",
       "\n",
       "    .dataframe thead th {\n",
       "        text-align: right;\n",
       "    }\n",
       "</style>\n",
       "<table border=\"1\" class=\"dataframe\">\n",
       "  <thead>\n",
       "    <tr style=\"text-align: right;\">\n",
       "      <th></th>\n",
       "      <th>avg_reviews</th>\n",
       "    </tr>\n",
       "  </thead>\n",
       "  <tbody>\n",
       "    <tr>\n",
       "      <th>0</th>\n",
       "      <td>24</td>\n",
       "    </tr>\n",
       "  </tbody>\n",
       "</table>\n",
       "</div>"
      ],
      "text/plain": [
       "   avg_reviews\n",
       "0           24"
      ]
     },
     "execution_count": 11,
     "metadata": {},
     "output_type": "execute_result"
    }
   ],
   "source": [
    "query = '''\n",
    "SELECT COUNT(DISTINCT rev.review_id)/COUNT(DISTINCT rev.username) AS avg_reviews\n",
    "FROM ratings AS rat\n",
    "INNER JOIN reviews AS rev ON rat.book_id=rev.book_id\n",
    "WHERE rev.username IN (SELECT username\n",
    "                   FROM ratings\n",
    "                   GROUP BY username\n",
    "                   HAVING COUNT (rating_id) > 48)\n",
    "\n",
    "\n",
    "'''\n",
    "    \n",
    "pd.io.sql.read_sql(query, con = engine)"
   ]
  },
  {
   "cell_type": "markdown",
   "metadata": {},
   "source": [
    "# Вывод"
   ]
  },
  {
   "cell_type": "markdown",
   "metadata": {},
   "source": [
    "В результате проведенного анализа получены следующие ответы на поставленные задачи:\n",
    "\n",
    "1. Количество книг, вышедших после 1 января 2000 года - 819;\n",
    "2. Количество обзоров и средняя оценка книги - рассчитали среднюю оценку и количество обзоров, данные отобразили в отдельных столбцах;\n",
    "3. Издательство, которое выпустило наибольшее число книг толще 50 страниц - Penguin Books (42 книги);\n",
    "4. Автора с самой высокой средней оценкой книг - J.K. Rowling/Mary GrandPré (рейтинг 4.287097)\n",
    "5. Среднее количество обзоров от пользователей, которые поставили больше 48 оценок - 24 обзора"
   ]
  },
  {
   "cell_type": "code",
   "execution_count": null,
   "metadata": {},
   "outputs": [],
   "source": []
  }
 ],
 "metadata": {
  "ExecuteTimeLog": [
   {
    "duration": 63,
    "start_time": "2023-09-26T04:51:43.078Z"
   },
   {
    "duration": 132,
    "start_time": "2023-09-26T04:51:50.663Z"
   },
   {
    "duration": 0,
    "start_time": "2023-09-26T04:51:50.797Z"
   },
   {
    "duration": 13972,
    "start_time": "2023-09-26T04:52:08.965Z"
   },
   {
    "duration": 76,
    "start_time": "2023-09-26T04:52:23.117Z"
   },
   {
    "duration": 15394,
    "start_time": "2023-09-26T04:52:58.826Z"
   },
   {
    "duration": 258,
    "start_time": "2023-09-26T04:53:14.222Z"
   },
   {
    "duration": 73,
    "start_time": "2023-09-26T04:53:38.319Z"
   },
   {
    "duration": 75,
    "start_time": "2023-09-26T04:54:01.790Z"
   },
   {
    "duration": 73,
    "start_time": "2023-09-26T04:54:28.433Z"
   },
   {
    "duration": 73,
    "start_time": "2023-09-26T04:54:54.176Z"
   },
   {
    "duration": 73,
    "start_time": "2023-09-26T04:59:54.296Z"
   },
   {
    "duration": 45,
    "start_time": "2023-09-26T17:17:26.357Z"
   },
   {
    "duration": 14946,
    "start_time": "2023-09-26T17:17:32.982Z"
   },
   {
    "duration": 258,
    "start_time": "2023-09-26T17:17:47.930Z"
   },
   {
    "duration": 71,
    "start_time": "2023-09-26T17:17:48.190Z"
   },
   {
    "duration": 106,
    "start_time": "2023-09-26T17:17:48.263Z"
   },
   {
    "duration": 73,
    "start_time": "2023-09-26T17:17:48.371Z"
   },
   {
    "duration": 74,
    "start_time": "2023-09-26T17:17:48.446Z"
   },
   {
    "duration": 68,
    "start_time": "2023-09-26T17:17:48.522Z"
   },
   {
    "duration": 96,
    "start_time": "2023-09-26T17:17:48.592Z"
   },
   {
    "duration": 249,
    "start_time": "2023-09-26T17:20:50.573Z"
   },
   {
    "duration": 17998,
    "start_time": "2023-09-26T17:21:03.827Z"
   },
   {
    "duration": 261,
    "start_time": "2023-09-26T17:21:21.827Z"
   },
   {
    "duration": 72,
    "start_time": "2023-09-26T17:21:22.090Z"
   },
   {
    "duration": 72,
    "start_time": "2023-09-26T17:21:22.164Z"
   },
   {
    "duration": 74,
    "start_time": "2023-09-26T17:21:22.238Z"
   },
   {
    "duration": 73,
    "start_time": "2023-09-26T17:21:22.313Z"
   },
   {
    "duration": 72,
    "start_time": "2023-09-26T17:21:22.388Z"
   },
   {
    "duration": 216,
    "start_time": "2023-09-26T17:21:22.462Z"
   },
   {
    "duration": 181,
    "start_time": "2023-09-26T17:21:36.126Z"
   },
   {
    "duration": 16032,
    "start_time": "2023-09-26T17:21:59.730Z"
   },
   {
    "duration": 252,
    "start_time": "2023-09-26T17:22:15.764Z"
   },
   {
    "duration": 74,
    "start_time": "2023-09-26T17:22:16.018Z"
   },
   {
    "duration": 77,
    "start_time": "2023-09-26T17:22:16.094Z"
   },
   {
    "duration": 74,
    "start_time": "2023-09-26T17:22:16.174Z"
   },
   {
    "duration": 72,
    "start_time": "2023-09-26T17:22:16.250Z"
   },
   {
    "duration": 71,
    "start_time": "2023-09-26T17:22:16.324Z"
   },
   {
    "duration": 387,
    "start_time": "2023-09-26T17:22:16.397Z"
   },
   {
    "duration": 150,
    "start_time": "2023-09-26T17:22:51.598Z"
   },
   {
    "duration": 15113,
    "start_time": "2023-09-26T17:24:08.248Z"
   },
   {
    "duration": 285,
    "start_time": "2023-09-26T17:24:23.363Z"
   },
   {
    "duration": 72,
    "start_time": "2023-09-26T17:24:23.650Z"
   },
   {
    "duration": 71,
    "start_time": "2023-09-26T17:24:23.724Z"
   },
   {
    "duration": 73,
    "start_time": "2023-09-26T17:24:23.798Z"
   },
   {
    "duration": 72,
    "start_time": "2023-09-26T17:24:23.872Z"
   },
   {
    "duration": 71,
    "start_time": "2023-09-26T17:24:23.945Z"
   },
   {
    "duration": 19064,
    "start_time": "2023-09-26T17:24:59.037Z"
   },
   {
    "duration": 281,
    "start_time": "2023-09-26T17:25:18.103Z"
   },
   {
    "duration": 71,
    "start_time": "2023-09-26T17:25:18.386Z"
   },
   {
    "duration": 72,
    "start_time": "2023-09-26T17:25:18.459Z"
   },
   {
    "duration": 73,
    "start_time": "2023-09-26T17:25:18.532Z"
   },
   {
    "duration": 73,
    "start_time": "2023-09-26T17:25:18.606Z"
   },
   {
    "duration": 74,
    "start_time": "2023-09-26T17:25:18.680Z"
   },
   {
    "duration": 47,
    "start_time": "2023-09-26T17:25:39.870Z"
   },
   {
    "duration": 16515,
    "start_time": "2023-09-26T17:25:45.234Z"
   },
   {
    "duration": 262,
    "start_time": "2023-09-26T17:26:01.751Z"
   },
   {
    "duration": 72,
    "start_time": "2023-09-26T17:26:02.015Z"
   },
   {
    "duration": 72,
    "start_time": "2023-09-26T17:26:02.089Z"
   },
   {
    "duration": 72,
    "start_time": "2023-09-26T17:26:02.163Z"
   },
   {
    "duration": 73,
    "start_time": "2023-09-26T17:26:02.236Z"
   },
   {
    "duration": 74,
    "start_time": "2023-09-26T17:26:02.311Z"
   },
   {
    "duration": 64,
    "start_time": "2023-09-26T17:26:18.530Z"
   },
   {
    "duration": 15455,
    "start_time": "2023-09-26T17:26:24.463Z"
   },
   {
    "duration": 254,
    "start_time": "2023-09-26T17:26:39.920Z"
   },
   {
    "duration": 78,
    "start_time": "2023-09-26T17:26:40.175Z"
   },
   {
    "duration": 71,
    "start_time": "2023-09-26T17:26:40.254Z"
   },
   {
    "duration": 72,
    "start_time": "2023-09-26T17:26:40.327Z"
   },
   {
    "duration": 74,
    "start_time": "2023-09-26T17:26:40.401Z"
   },
   {
    "duration": 71,
    "start_time": "2023-09-26T17:26:40.477Z"
   },
   {
    "duration": 170,
    "start_time": "2023-09-26T17:26:40.550Z"
   },
   {
    "duration": 100,
    "start_time": "2023-09-26T17:27:12.368Z"
   },
   {
    "duration": 337,
    "start_time": "2023-09-26T17:30:06.939Z"
   },
   {
    "duration": 246,
    "start_time": "2023-09-26T17:31:22.538Z"
   },
   {
    "duration": 18585,
    "start_time": "2023-09-26T17:31:44.554Z"
   },
   {
    "duration": 250,
    "start_time": "2023-09-26T17:32:03.141Z"
   },
   {
    "duration": 71,
    "start_time": "2023-09-26T17:32:03.393Z"
   },
   {
    "duration": 71,
    "start_time": "2023-09-26T17:32:03.466Z"
   },
   {
    "duration": 72,
    "start_time": "2023-09-26T17:32:03.539Z"
   },
   {
    "duration": 72,
    "start_time": "2023-09-26T17:32:03.613Z"
   },
   {
    "duration": 71,
    "start_time": "2023-09-26T17:32:03.686Z"
   },
   {
    "duration": 98,
    "start_time": "2023-09-26T17:32:03.758Z"
   },
   {
    "duration": 258,
    "start_time": "2023-09-26T17:32:03.858Z"
   },
   {
    "duration": 266,
    "start_time": "2023-09-26T17:33:07.056Z"
   },
   {
    "duration": 195,
    "start_time": "2023-09-26T17:33:12.513Z"
   },
   {
    "duration": 105,
    "start_time": "2023-09-26T17:34:41.846Z"
   },
   {
    "duration": 77,
    "start_time": "2023-09-26T17:48:05.266Z"
   },
   {
    "duration": 167,
    "start_time": "2023-09-26T17:51:40.049Z"
   },
   {
    "duration": 112,
    "start_time": "2023-09-26T17:51:57.920Z"
   },
   {
    "duration": 165,
    "start_time": "2023-09-26T17:52:28.214Z"
   },
   {
    "duration": 155,
    "start_time": "2023-09-26T17:53:16.110Z"
   },
   {
    "duration": 168,
    "start_time": "2023-09-26T17:53:25.815Z"
   },
   {
    "duration": 84,
    "start_time": "2023-09-26T17:53:48.451Z"
   },
   {
    "duration": 82,
    "start_time": "2023-09-26T17:54:46.561Z"
   },
   {
    "duration": 212,
    "start_time": "2023-09-26T17:56:03.733Z"
   },
   {
    "duration": 74,
    "start_time": "2023-09-26T17:57:04.438Z"
   },
   {
    "duration": 76,
    "start_time": "2023-09-26T17:57:28.593Z"
   },
   {
    "duration": 72,
    "start_time": "2023-09-26T17:57:35.223Z"
   },
   {
    "duration": 102,
    "start_time": "2023-09-26T18:02:06.236Z"
   },
   {
    "duration": 102,
    "start_time": "2023-09-26T18:02:18.647Z"
   },
   {
    "duration": 73,
    "start_time": "2023-09-26T18:02:43.423Z"
   },
   {
    "duration": 185,
    "start_time": "2023-09-26T18:04:45.819Z"
   },
   {
    "duration": 164,
    "start_time": "2023-09-26T18:04:49.761Z"
   },
   {
    "duration": 74,
    "start_time": "2023-09-26T18:05:01.633Z"
   },
   {
    "duration": 158,
    "start_time": "2023-09-26T18:15:20.805Z"
   },
   {
    "duration": 235,
    "start_time": "2023-09-26T18:15:38.587Z"
   },
   {
    "duration": 169,
    "start_time": "2023-09-26T18:15:59.249Z"
   },
   {
    "duration": 74,
    "start_time": "2023-09-26T18:16:42.761Z"
   },
   {
    "duration": 183,
    "start_time": "2023-09-26T18:31:59.524Z"
   },
   {
    "duration": 171,
    "start_time": "2023-09-26T18:32:04.056Z"
   },
   {
    "duration": 168,
    "start_time": "2023-09-26T18:32:26.349Z"
   },
   {
    "duration": 187,
    "start_time": "2023-09-26T18:32:43.984Z"
   },
   {
    "duration": 222,
    "start_time": "2023-09-26T18:32:57.550Z"
   },
   {
    "duration": 180,
    "start_time": "2023-09-26T18:33:30.714Z"
   },
   {
    "duration": 181,
    "start_time": "2023-09-26T18:33:41.184Z"
   },
   {
    "duration": 175,
    "start_time": "2023-09-26T18:33:56.520Z"
   },
   {
    "duration": 159,
    "start_time": "2023-09-26T18:35:56.335Z"
   },
   {
    "duration": 77,
    "start_time": "2023-09-26T18:36:02.366Z"
   },
   {
    "duration": 153,
    "start_time": "2023-09-26T18:36:13.989Z"
   },
   {
    "duration": 77,
    "start_time": "2023-09-26T18:36:36.597Z"
   },
   {
    "duration": 158,
    "start_time": "2023-09-26T18:37:19.833Z"
   },
   {
    "duration": 173,
    "start_time": "2023-09-26T18:37:52.120Z"
   },
   {
    "duration": 150,
    "start_time": "2023-09-26T18:39:27.489Z"
   },
   {
    "duration": 11447,
    "start_time": "2023-09-26T18:40:23.119Z"
   },
   {
    "duration": 264,
    "start_time": "2023-09-26T18:40:34.568Z"
   },
   {
    "duration": 75,
    "start_time": "2023-09-26T18:40:34.834Z"
   },
   {
    "duration": 71,
    "start_time": "2023-09-26T18:40:34.911Z"
   },
   {
    "duration": 71,
    "start_time": "2023-09-26T18:40:34.985Z"
   },
   {
    "duration": 73,
    "start_time": "2023-09-26T18:40:35.058Z"
   },
   {
    "duration": 72,
    "start_time": "2023-09-26T18:40:35.132Z"
   },
   {
    "duration": 106,
    "start_time": "2023-09-26T18:40:35.205Z"
   },
   {
    "duration": 73,
    "start_time": "2023-09-26T18:40:35.313Z"
   },
   {
    "duration": 219,
    "start_time": "2023-09-26T18:40:35.388Z"
   },
   {
    "duration": 169,
    "start_time": "2023-09-26T18:40:48.775Z"
   },
   {
    "duration": 153,
    "start_time": "2023-09-26T18:43:33.229Z"
   },
   {
    "duration": 77,
    "start_time": "2023-09-26T18:43:41.763Z"
   },
   {
    "duration": 183,
    "start_time": "2023-09-26T18:44:06.663Z"
   },
   {
    "duration": 192,
    "start_time": "2023-09-26T18:44:53.667Z"
   },
   {
    "duration": 311,
    "start_time": "2023-09-26T18:45:01.576Z"
   },
   {
    "duration": 168,
    "start_time": "2023-09-26T18:45:08.597Z"
   },
   {
    "duration": 249,
    "start_time": "2023-09-26T18:45:30.956Z"
   },
   {
    "duration": 76,
    "start_time": "2023-09-26T18:45:39.214Z"
   },
   {
    "duration": 73,
    "start_time": "2023-09-26T18:58:12.931Z"
   },
   {
    "duration": 196,
    "start_time": "2023-09-26T19:07:20.229Z"
   },
   {
    "duration": 153,
    "start_time": "2023-09-26T19:07:43.102Z"
   },
   {
    "duration": 174,
    "start_time": "2023-09-26T19:09:38.971Z"
   },
   {
    "duration": 82,
    "start_time": "2023-09-26T19:10:07.052Z"
   },
   {
    "duration": 162,
    "start_time": "2023-09-26T19:10:54.542Z"
   },
   {
    "duration": 85,
    "start_time": "2023-09-26T19:11:41.522Z"
   },
   {
    "duration": 184,
    "start_time": "2023-09-26T19:12:44.003Z"
   },
   {
    "duration": 76,
    "start_time": "2023-09-26T19:13:23.268Z"
   },
   {
    "duration": 76,
    "start_time": "2023-09-26T19:13:49.624Z"
   },
   {
    "duration": 10161,
    "start_time": "2023-09-26T19:41:54.064Z"
   },
   {
    "duration": 275,
    "start_time": "2023-09-26T19:42:04.227Z"
   },
   {
    "duration": 102,
    "start_time": "2023-09-26T19:42:04.504Z"
   },
   {
    "duration": 72,
    "start_time": "2023-09-26T19:42:04.608Z"
   },
   {
    "duration": 73,
    "start_time": "2023-09-26T19:42:04.682Z"
   },
   {
    "duration": 72,
    "start_time": "2023-09-26T19:42:04.757Z"
   },
   {
    "duration": 71,
    "start_time": "2023-09-26T19:42:04.831Z"
   },
   {
    "duration": 106,
    "start_time": "2023-09-26T19:42:04.903Z"
   },
   {
    "duration": 73,
    "start_time": "2023-09-26T19:42:05.011Z"
   },
   {
    "duration": 76,
    "start_time": "2023-09-26T19:42:05.085Z"
   },
   {
    "duration": 75,
    "start_time": "2023-09-26T19:42:05.163Z"
   },
   {
    "duration": 8853,
    "start_time": "2023-09-26T20:54:07.128Z"
   },
   {
    "duration": 256,
    "start_time": "2023-09-26T20:54:15.983Z"
   },
   {
    "duration": 72,
    "start_time": "2023-09-26T20:54:16.242Z"
   },
   {
    "duration": 73,
    "start_time": "2023-09-26T20:54:16.317Z"
   },
   {
    "duration": 74,
    "start_time": "2023-09-26T20:54:16.392Z"
   },
   {
    "duration": 74,
    "start_time": "2023-09-26T20:54:16.467Z"
   },
   {
    "duration": 71,
    "start_time": "2023-09-26T20:54:16.542Z"
   },
   {
    "duration": 103,
    "start_time": "2023-09-26T20:54:16.614Z"
   },
   {
    "duration": 72,
    "start_time": "2023-09-26T20:54:16.719Z"
   },
   {
    "duration": 76,
    "start_time": "2023-09-26T20:54:16.793Z"
   },
   {
    "duration": 75,
    "start_time": "2023-09-26T20:54:16.870Z"
   }
  ],
  "kernelspec": {
   "display_name": "Python 3 (ipykernel)",
   "language": "python",
   "name": "python3"
  },
  "language_info": {
   "codemirror_mode": {
    "name": "ipython",
    "version": 3
   },
   "file_extension": ".py",
   "mimetype": "text/x-python",
   "name": "python",
   "nbconvert_exporter": "python",
   "pygments_lexer": "ipython3",
   "version": "3.9.5"
  },
  "toc": {
   "base_numbering": 1,
   "nav_menu": {},
   "number_sections": true,
   "sideBar": true,
   "skip_h1_title": true,
   "title_cell": "Table of Contents",
   "title_sidebar": "Contents",
   "toc_cell": false,
   "toc_position": {},
   "toc_section_display": true,
   "toc_window_display": false
  }
 },
 "nbformat": 4,
 "nbformat_minor": 2
}
